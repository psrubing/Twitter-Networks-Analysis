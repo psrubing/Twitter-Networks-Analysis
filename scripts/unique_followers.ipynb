{
 "cells": [
  {
   "cell_type": "code",
   "execution_count": 1,
   "id": "fb684866",
   "metadata": {},
   "outputs": [],
   "source": [
    "import tweepy\n",
    "import time\n",
    "import os\n",
    "import json\n",
    "import pandas as pd\n",
    "import numpy as np\n",
    "import csv\n",
    "from tqdm import tqdm\n",
    "import pickle\n",
    "from textblob import TextBlob\n",
    "from langdetect import detect\n",
    "import re\n",
    "from nltk.corpus import stopwords"
   ]
  },
  {
   "cell_type": "code",
   "execution_count": 2,
   "id": "4fb666a2",
   "metadata": {},
   "outputs": [],
   "source": [
    "def get_all_followers(accounts, max_number):\n",
    "    all_accounts = []\n",
    "    \n",
    "    for acc in tqdm(accounts):\n",
    "        \n",
    "        try:\n",
    "            ids = get_followers_ids(acc, max_number)\n",
    "            all_accounts.append(ids)\n",
    "        except Exception as ex:\n",
    "            print(f'Exception for {acc}: {ex}')\n",
    "            continue\n",
    "        \n",
    "    return all_accounts\n",
    "\n",
    "def get_followers_ids(screen_name, max_number):\n",
    "    print('Getting Followers ids of', screen_name)\n",
    "    followers_ids = []\n",
    "    try:\n",
    "        for page in tweepy.Cursor(api.followers_ids, screen_name=screen_name, wait_on_rate_limit=True, count=5000, lang=['en']).pages():\n",
    "            followers_ids.extend(page)\n",
    "            if len(followers_ids) >= max_number:\n",
    "                break\n",
    "    except tweepy.TweepError as e:\n",
    "            print('Going to sleep: ', e)\n",
    "            time.sleep(60)\n",
    "            \n",
    "    print(f'Fetched number of followers ids for {screen_name} : {len(followers_ids)}')\n",
    "    return followers_ids"
   ]
  },
  {
   "cell_type": "code",
   "execution_count": 3,
   "id": "5a295a2e",
   "metadata": {},
   "outputs": [],
   "source": [
    "consumerKey = 'qFXNatPD5C2JFEQPlMTXFUr8x'\n",
    "consumerSecret = 'VCTI9keIp1mqIKLwpuoApI7HSe5b0SpeUHvcQ676J3SOjuuISM'\n",
    "accessToken = '1371497692069789697-0tx6gputswEwOMlwGfUy4VKBID5SCg'\n",
    "accessTokenSecret = 'zSFpItEQObd4PBc7E0PFAvoJApglHJqbcT37TW928ji5P'\n",
    "\n",
    "auth = tweepy.OAuthHandler(consumerKey, consumerSecret)\n",
    "auth.set_access_token(accessToken, accessTokenSecret)\n",
    "api = tweepy.API(auth, wait_on_rate_limit=False, wait_on_rate_limit_notify=True)"
   ]
  },
  {
   "cell_type": "code",
   "execution_count": 6,
   "id": "cd7dbef6",
   "metadata": {},
   "outputs": [
    {
     "name": "stdout",
     "output_type": "stream",
     "text": [
      "681\n",
      "1288\n"
     ]
    }
   ],
   "source": [
    "# GET FIRST 50K FOLLOWERS FROM HUBS ACCOUNTS\n",
    "\n",
    "anti_accounts_path = r'E:\\Twitter_data\\BASE_HUBS\\anti_scientific_data_2'\n",
    "hand_picked_new_anti_hubs_path = r'E:\\Twitter_data\\BASE_HUBS\\hand_picked_new_anti_hubs'\n",
    "\n",
    "pro_accounts_path = r'E:\\Twitter_data\\BASE_HUBS\\pro_scientific_data_2'\n",
    "hand_picked_new_pro_hubs_path = r'E:\\Twitter_data\\BASE_HUBS\\hand_picked_new_pro_hubs'\n",
    "\n",
    "anti_save_dir_path_1 = r'E:\\Twitter_data\\AUTOMATED_ITERATION_1\\new_anti_hubs_auto_1'\n",
    "pro_save_dir_path_1 = r'E:\\Twitter_data\\AUTOMATED_ITERATION_1\\new_pro_hubs_auto_1'\n",
    "\n",
    "anti_save_dir_path_2 = r'E:\\Twitter_data\\AUTOMATED_ITERATION_1\\new_anti_hubs_auto_2'\n",
    "pro_save_dir_path_2 = r'E:\\Twitter_data\\AUTOMATED_ITERATION_1\\new_pro_hubs_auto_2'\n",
    "\n",
    "anti_save_dir_path_3 = r'E:\\Twitter_data\\AUTOMATED_ITERATION_1\\new_anti_hubs_auto_3'\n",
    "pro_save_dir_path_3 = r'E:\\Twitter_data\\AUTOMATED_ITERATION_1\\new_pro_hubs_auto_3'\n",
    "\n",
    "anti_save_dir_path_4 = r'E:\\Twitter_data\\AUTOMATED_ITERATION_1\\new_anti_hubs_auto_4'\n",
    "pro_save_dir_path_4 = r'E:\\Twitter_data\\AUTOMATED_ITERATION_1\\new_pro_hubs_auto_4'\n",
    "\n",
    "anti_save_dir_path_5 = r'E:\\Twitter_data\\AUTOMATED_ITERATION_1\\new_anti_hubs_auto_5'\n",
    "pro_save_dir_path_5 = r'E:\\Twitter_data\\AUTOMATED_ITERATION_1\\new_pro_hubs_auto_5'\n",
    "\n",
    "anti_save_dir_path_6 = r'E:\\Twitter_data\\AUTOMATED_ITERATION_1\\new_anti_hubs_auto_6'\n",
    "pro_save_dir_path_6 = r'E:\\Twitter_data\\AUTOMATED_ITERATION_1\\new_pro_hubs_auto_6'\n",
    "\n",
    "anti_save_dir_path_7 = r'E:\\Twitter_data\\AUTOMATED_ITERATION_1\\new_anti_hubs_auto_7'\n",
    "pro_save_dir_path_7 = r'E:\\Twitter_data\\AUTOMATED_ITERATION_1\\new_pro_hubs_auto_7'\n",
    "\n",
    "\n",
    "# all base accounts which are already downloaded\n",
    "\n",
    "anti_all_accounts = os.listdir(anti_accounts_path) + os.listdir(hand_picked_new_anti_hubs_path) \\\n",
    "+ os.listdir(anti_save_dir_path_1) + os.listdir(anti_save_dir_path_2) + os.listdir(anti_save_dir_path_3) \\\n",
    "+ os.listdir(anti_save_dir_path_4) + os.listdir(anti_save_dir_path_5) + os.listdir(anti_save_dir_path_6) \\\n",
    "+ os.listdir(anti_save_dir_path_7) \n",
    "\n",
    "anti_all_accounts = [re.sub(r'@','', acc) for acc in anti_all_accounts]\n",
    "print(len(anti_all_accounts))\n",
    "\n",
    "pro_all_accounts = os.listdir(pro_accounts_path) + os.listdir(hand_picked_new_pro_hubs_path) \\\n",
    "+ os.listdir(pro_save_dir_path_1) + os.listdir(pro_save_dir_path_2) + os.listdir(pro_save_dir_path_3) \\\n",
    "+ os.listdir(pro_save_dir_path_4) + os.listdir(pro_save_dir_path_5) + os.listdir(pro_save_dir_path_6) \\\n",
    "+ os.listdir(pro_save_dir_path_7) \n",
    "\n",
    "pro_all_accounts = [re.sub(r'@','', acc) for acc in pro_all_accounts]\n",
    "print(len(pro_all_accounts))"
   ]
  },
  {
   "cell_type": "code",
   "execution_count": 7,
   "id": "0621c817",
   "metadata": {},
   "outputs": [
    {
     "name": "stderr",
     "output_type": "stream",
     "text": [
      "\r",
      "  0%|          | 0/1288 [00:00<?, ?it/s]"
     ]
    },
    {
     "name": "stdout",
     "output_type": "stream",
     "text": [
      "Getting Followers ids of 2020science\n"
     ]
    },
    {
     "name": "stderr",
     "output_type": "stream",
     "text": [
      "\r",
      "  0%|          | 1/1288 [00:01<34:01,  1.59s/it]"
     ]
    },
    {
     "name": "stdout",
     "output_type": "stream",
     "text": [
      "Fetched number of followers ids for 2020science : 15000\n",
      "Getting Followers ids of AmyMainzer\n"
     ]
    },
    {
     "name": "stderr",
     "output_type": "stream",
     "text": [
      "\r",
      "  0%|          | 2/1288 [00:03<32:03,  1.50s/it]"
     ]
    },
    {
     "name": "stdout",
     "output_type": "stream",
     "text": [
      "Fetched number of followers ids for AmyMainzer : 15000\n",
      "Getting Followers ids of Atul_Gawande\n"
     ]
    },
    {
     "name": "stderr",
     "output_type": "stream",
     "text": [
      "\r",
      "  0%|          | 3/1288 [00:06<51:57,  2.43s/it]"
     ]
    },
    {
     "name": "stdout",
     "output_type": "stream",
     "text": [
      "Fetched number of followers ids for Atul_Gawande : 15000\n",
      "Getting Followers ids of BadAstronomer\n"
     ]
    },
    {
     "name": "stderr",
     "output_type": "stream",
     "text": [
      "\r",
      "  0%|          | 4/1288 [00:08<43:53,  2.05s/it]"
     ]
    },
    {
     "name": "stdout",
     "output_type": "stream",
     "text": [
      "Fetched number of followers ids for BadAstronomer : 15000\n",
      "Getting Followers ids of bengoldacre\n"
     ]
    },
    {
     "name": "stderr",
     "output_type": "stream",
     "text": [
      "\r",
      "  0%|          | 5/1288 [00:09<39:37,  1.85s/it]"
     ]
    },
    {
     "name": "stdout",
     "output_type": "stream",
     "text": [
      "Fetched number of followers ids for bengoldacre : 15000\n",
      "Getting Followers ids of bgreene\n"
     ]
    },
    {
     "name": "stderr",
     "output_type": "stream",
     "text": [
      "Rate limit reached. Sleeping for: 892\n",
      "  0%|          | 6/1288 [15:10<109:28:13, 307.41s/it]"
     ]
    },
    {
     "name": "stdout",
     "output_type": "stream",
     "text": [
      "Fetched number of followers ids for bgreene : 15000\n",
      "Getting Followers ids of carolynporco\n"
     ]
    },
    {
     "name": "stderr",
     "output_type": "stream",
     "text": [
      "\r",
      "  1%|          | 7/1288 [15:13<74:04:16, 208.16s/it] "
     ]
    },
    {
     "name": "stdout",
     "output_type": "stream",
     "text": [
      "Fetched number of followers ids for carolynporco : 15000\n",
      "Getting Followers ids of danariely\n"
     ]
    },
    {
     "name": "stderr",
     "output_type": "stream",
     "text": [
      "\r",
      "  1%|          | 8/1288 [15:15<50:37:00, 142.36s/it]"
     ]
    },
    {
     "name": "stdout",
     "output_type": "stream",
     "text": [
      "Fetched number of followers ids for danariely : 15000\n",
      "Getting Followers ids of danlevitin\n"
     ]
    },
    {
     "name": "stderr",
     "output_type": "stream",
     "text": [
      "\r",
      "  1%|          | 9/1288 [15:17<34:57:08, 98.38s/it] "
     ]
    },
    {
     "name": "stdout",
     "output_type": "stream",
     "text": [
      "Fetched number of followers ids for danlevitin : 15000\n",
      "Getting Followers ids of DanTGilbert\n"
     ]
    },
    {
     "name": "stderr",
     "output_type": "stream",
     "text": [
      "\r",
      "  1%|          | 10/1288 [15:18<24:17:59, 68.45s/it]"
     ]
    },
    {
     "name": "stdout",
     "output_type": "stream",
     "text": [
      "Fetched number of followers ids for DanTGilbert : 15000\n",
      "Getting Followers ids of deborahblum\n"
     ]
    },
    {
     "name": "stderr",
     "output_type": "stream",
     "text": [
      "Rate limit reached. Sleeping for: 890\n",
      "  1%|          | 11/1288 [30:15<114:12:12, 321.95s/it]"
     ]
    },
    {
     "name": "stdout",
     "output_type": "stream",
     "text": [
      "Fetched number of followers ids for deborahblum : 15000\n",
      "Getting Followers ids of dgmacarthur\n"
     ]
    },
    {
     "name": "stderr",
     "output_type": "stream",
     "text": [
      "\r",
      "  1%|          | 12/1288 [30:18<79:45:18, 225.01s/it] "
     ]
    },
    {
     "name": "stdout",
     "output_type": "stream",
     "text": [
      "Fetched number of followers ids for dgmacarthur : 15000\n",
      "Getting Followers ids of DrVes\n"
     ]
    },
    {
     "name": "stderr",
     "output_type": "stream",
     "text": [
      "\r",
      "  1%|          | 13/1288 [30:22<55:58:47, 158.06s/it]"
     ]
    },
    {
     "name": "stdout",
     "output_type": "stream",
     "text": [
      "Fetched number of followers ids for DrVes : 15000\n",
      "Getting Followers ids of edyong209\n"
     ]
    },
    {
     "name": "stderr",
     "output_type": "stream",
     "text": [
      "\r",
      "  1%|          | 14/1288 [30:24<39:12:01, 110.77s/it]"
     ]
    },
    {
     "name": "stdout",
     "output_type": "stream",
     "text": [
      "Fetched number of followers ids for edyong209 : 15000\n",
      "Getting Followers ids of EricTopol\n"
     ]
    },
    {
     "name": "stderr",
     "output_type": "stream",
     "text": [
      "\r",
      "  1%|          | 15/1288 [30:25<27:31:10, 77.82s/it] "
     ]
    },
    {
     "name": "stdout",
     "output_type": "stream",
     "text": [
      "Fetched number of followers ids for EricTopol : 15000\n",
      "Getting Followers ids of HansRosling\n"
     ]
    },
    {
     "name": "stderr",
     "output_type": "stream",
     "text": [
      "Rate limit reached. Sleeping for: 888\n",
      "  1%|          | 16/1288 [45:20<114:24:22, 323.79s/it]"
     ]
    },
    {
     "name": "stdout",
     "output_type": "stream",
     "text": [
      "Fetched number of followers ids for HansRosling : 15000\n",
      "Getting Followers ids of JCVenter\n"
     ]
    },
    {
     "name": "stderr",
     "output_type": "stream",
     "text": [
      "\r",
      "  1%|▏         | 17/1288 [45:21<80:05:45, 226.87s/it] "
     ]
    },
    {
     "name": "stdout",
     "output_type": "stream",
     "text": [
      "Fetched number of followers ids for JCVenter : 15000\n",
      "Getting Followers ids of JFGariepy\n",
      "Going to sleep:  Not authorized.\n"
     ]
    },
    {
     "name": "stderr",
     "output_type": "stream",
     "text": [
      "\r",
      "  1%|▏         | 18/1288 [46:22<62:22:05, 176.79s/it]"
     ]
    },
    {
     "name": "stdout",
     "output_type": "stream",
     "text": [
      "Fetched number of followers ids for JFGariepy : 0\n",
      "Getting Followers ids of JohnAllenPaulos\n"
     ]
    },
    {
     "name": "stderr",
     "output_type": "stream",
     "text": [
      "\r",
      "  1%|▏         | 19/1288 [46:25<43:57:37, 124.71s/it]"
     ]
    },
    {
     "name": "stdout",
     "output_type": "stream",
     "text": [
      "Fetched number of followers ids for JohnAllenPaulos : 15000\n",
      "Getting Followers ids of kejames\n"
     ]
    },
    {
     "name": "stderr",
     "output_type": "stream",
     "text": [
      "\r",
      "  2%|▏         | 20/1288 [46:32<31:30:23, 89.45s/it] "
     ]
    },
    {
     "name": "stdout",
     "output_type": "stream",
     "text": [
      "Fetched number of followers ids for kejames : 15000\n",
      "Getting Followers ids of kinggary\n"
     ]
    },
    {
     "name": "stderr",
     "output_type": "stream",
     "text": [
      "Rate limit reached. Sleeping for: 825\n",
      "  2%|▏         | 21/1288 [1:00:24<109:55:12, 312.32s/it]"
     ]
    },
    {
     "name": "stdout",
     "output_type": "stream",
     "text": [
      "Fetched number of followers ids for kinggary : 15000\n",
      "Getting Followers ids of LabSpaces\n"
     ]
    },
    {
     "name": "stderr",
     "output_type": "stream",
     "text": [
      "\r",
      "  2%|▏         | 22/1288 [1:00:28<77:13:09, 219.58s/it] "
     ]
    },
    {
     "name": "stdout",
     "output_type": "stream",
     "text": [
      "Fetched number of followers ids for LabSpaces : 11314\n",
      "Getting Followers ids of LKrauss1\n"
     ]
    },
    {
     "name": "stderr",
     "output_type": "stream",
     "text": [
      "\r",
      "  2%|▏         | 23/1288 [1:00:29<54:09:29, 154.13s/it]"
     ]
    },
    {
     "name": "stdout",
     "output_type": "stream",
     "text": [
      "Fetched number of followers ids for LKrauss1 : 15000\n",
      "Getting Followers ids of MarcusduSautoy\n"
     ]
    },
    {
     "name": "stderr",
     "output_type": "stream",
     "text": [
      "\r",
      "  2%|▏         | 24/1288 [1:00:34<38:21:32, 109.25s/it]"
     ]
    },
    {
     "name": "stdout",
     "output_type": "stream",
     "text": [
      "Fetched number of followers ids for MarcusduSautoy : 15000\n",
      "Getting Followers ids of mbeisen\n"
     ]
    },
    {
     "name": "stderr",
     "output_type": "stream",
     "text": [
      "\r",
      "  2%|▏         | 25/1288 [1:00:39<27:23:04, 78.06s/it] "
     ]
    },
    {
     "name": "stdout",
     "output_type": "stream",
     "text": [
      "Fetched number of followers ids for mbeisen : 15000\n",
      "Getting Followers ids of MichaelEMann\n"
     ]
    },
    {
     "name": "stderr",
     "output_type": "stream",
     "text": [
      "Rate limit reached. Sleeping for: 884\n",
      "  2%|▏         | 26/1288 [1:15:30<112:52:09, 321.97s/it]"
     ]
    },
    {
     "name": "stdout",
     "output_type": "stream",
     "text": [
      "Fetched number of followers ids for MichaelEMann : 15000\n",
      "Getting Followers ids of michiokaku\n"
     ]
    },
    {
     "name": "stderr",
     "output_type": "stream",
     "text": [
      "\r",
      "  2%|▏         | 27/1288 [1:15:34<79:21:11, 226.54s/it] "
     ]
    },
    {
     "name": "stdout",
     "output_type": "stream",
     "text": [
      "Fetched number of followers ids for michiokaku : 15000\n",
      "Getting Followers ids of neiltyson\n"
     ]
    },
    {
     "name": "stderr",
     "output_type": "stream",
     "text": [
      "\r",
      "  2%|▏         | 28/1288 [1:15:35<55:39:30, 159.02s/it]"
     ]
    },
    {
     "name": "stdout",
     "output_type": "stream",
     "text": [
      "Fetched number of followers ids for neiltyson : 15000\n",
      "Getting Followers ids of neuroconscience\n"
     ]
    },
    {
     "name": "stderr",
     "output_type": "stream",
     "text": [
      "\r",
      "  2%|▏         | 29/1288 [1:15:38<39:15:06, 112.24s/it]"
     ]
    },
    {
     "name": "stdout",
     "output_type": "stream",
     "text": [
      "Fetched number of followers ids for neuroconscience : 15000\n",
      "Getting Followers ids of OliverSacks\n"
     ]
    },
    {
     "name": "stderr",
     "output_type": "stream",
     "text": [
      "\r",
      "  2%|▏         | 30/1288 [1:15:40<27:38:52, 79.12s/it] "
     ]
    },
    {
     "name": "stdout",
     "output_type": "stream",
     "text": [
      "Fetched number of followers ids for OliverSacks : 15000\n",
      "Getting Followers ids of orbitingfrog\n"
     ]
    },
    {
     "name": "stderr",
     "output_type": "stream",
     "text": [
      "Rate limit reached. Sleeping for: 888\n",
      "  2%|▏         | 31/1288 [1:30:36<113:08:02, 324.01s/it]"
     ]
    },
    {
     "name": "stdout",
     "output_type": "stream",
     "text": [
      "Fetched number of followers ids for orbitingfrog : 15000\n",
      "Getting Followers ids of paulbloomatyale\n"
     ]
    },
    {
     "name": "stderr",
     "output_type": "stream",
     "text": [
      "\r",
      "  2%|▏         | 32/1288 [1:30:38<79:24:16, 227.59s/it] "
     ]
    },
    {
     "name": "stdout",
     "output_type": "stream",
     "text": [
      "Fetched number of followers ids for paulbloomatyale : 15000\n",
      "Getting Followers ids of phylogenomics\n"
     ]
    },
    {
     "name": "stderr",
     "output_type": "stream",
     "text": [
      "\r",
      "  3%|▎         | 33/1288 [1:30:40<55:41:31, 159.75s/it]"
     ]
    },
    {
     "name": "stdout",
     "output_type": "stream",
     "text": [
      "Fetched number of followers ids for phylogenomics : 15000\n",
      "Getting Followers ids of plutokiller\n"
     ]
    },
    {
     "name": "stderr",
     "output_type": "stream",
     "text": [
      "\r",
      "  3%|▎         | 34/1288 [1:30:41<39:06:26, 112.27s/it]"
     ]
    },
    {
     "name": "stdout",
     "output_type": "stream",
     "text": [
      "Fetched number of followers ids for plutokiller : 15000\n",
      "Getting Followers ids of ProfBrianCox\n"
     ]
    },
    {
     "name": "stderr",
     "output_type": "stream",
     "text": [
      "\r",
      "  3%|▎         | 35/1288 [1:30:44<27:37:20, 79.36s/it] "
     ]
    },
    {
     "name": "stdout",
     "output_type": "stream",
     "text": [
      "Fetched number of followers ids for ProfBrianCox : 15000\n",
      "Getting Followers ids of ProfRWinston\n"
     ]
    },
    {
     "name": "stderr",
     "output_type": "stream",
     "text": [
      "Rate limit reached. Sleeping for: 890\n",
      "  3%|▎         | 36/1288 [1:45:41<112:54:04, 324.64s/it]"
     ]
    },
    {
     "name": "stdout",
     "output_type": "stream",
     "text": [
      "Fetched number of followers ids for ProfRWinston : 15000\n",
      "Getting Followers ids of pzmyers\n"
     ]
    },
    {
     "name": "stderr",
     "output_type": "stream",
     "text": [
      "\r",
      "  3%|▎         | 37/1288 [1:45:43<79:09:58, 227.82s/it] "
     ]
    },
    {
     "name": "stdout",
     "output_type": "stream",
     "text": [
      "Fetched number of followers ids for pzmyers : 15000\n",
      "Getting Followers ids of RandomSpaceFact\n"
     ]
    },
    {
     "name": "stderr",
     "output_type": "stream",
     "text": [
      "\r",
      "  3%|▎         | 38/1288 [1:45:44<55:31:27, 159.91s/it]"
     ]
    },
    {
     "name": "stdout",
     "output_type": "stream",
     "text": [
      "Fetched number of followers ids for RandomSpaceFact : 15000\n",
      "Getting Followers ids of RebeccaSkloot\n"
     ]
    },
    {
     "name": "stderr",
     "output_type": "stream",
     "text": [
      "\r",
      "  3%|▎         | 39/1288 [1:45:46<38:59:21, 112.38s/it]"
     ]
    },
    {
     "name": "stdout",
     "output_type": "stream",
     "text": [
      "Fetched number of followers ids for RebeccaSkloot : 15000\n",
      "Getting Followers ids of RichardDawkins\n"
     ]
    },
    {
     "name": "stderr",
     "output_type": "stream",
     "text": [
      "\r",
      "  3%|▎         | 40/1288 [1:45:47<27:27:19, 79.20s/it] "
     ]
    },
    {
     "name": "stdout",
     "output_type": "stream",
     "text": [
      "Fetched number of followers ids for RichardDawkins : 15000\n",
      "Getting Followers ids of RichardWiseman\n"
     ]
    },
    {
     "name": "stderr",
     "output_type": "stream",
     "text": [
      "Rate limit reached. Sleeping for: 892\n",
      "  3%|▎         | 41/1288 [2:00:46<112:36:09, 325.08s/it]"
     ]
    },
    {
     "name": "stdout",
     "output_type": "stream",
     "text": [
      "Fetched number of followers ids for RichardWiseman : 15000\n",
      "Getting Followers ids of SamHarrisOrg\n"
     ]
    },
    {
     "name": "stderr",
     "output_type": "stream",
     "text": [
      "\r",
      "  3%|▎         | 42/1288 [2:00:51<79:18:32, 229.14s/it] "
     ]
    },
    {
     "name": "stdout",
     "output_type": "stream",
     "text": [
      "Fetched number of followers ids for SamHarrisOrg : 15000\n",
      "Getting Followers ids of sapinker\n"
     ]
    },
    {
     "name": "stderr",
     "output_type": "stream",
     "text": [
      "\r",
      "  3%|▎         | 43/1288 [2:00:53<55:37:27, 160.84s/it]"
     ]
    },
    {
     "name": "stdout",
     "output_type": "stream",
     "text": [
      "Fetched number of followers ids for sapinker : 15000\n",
      "Getting Followers ids of sbaroncohen\n"
     ]
    },
    {
     "name": "stderr",
     "output_type": "stream",
     "text": [
      "\r",
      "  3%|▎         | 44/1288 [2:00:54<39:03:55, 113.05s/it]"
     ]
    },
    {
     "name": "stdout",
     "output_type": "stream",
     "text": [
      "Fetched number of followers ids for sbaroncohen : 15000\n",
      "Getting Followers ids of seanmcarroll\n"
     ]
    },
    {
     "name": "stderr",
     "output_type": "stream",
     "text": [
      "\r",
      "  3%|▎         | 45/1288 [2:00:56<27:28:21, 79.57s/it] "
     ]
    },
    {
     "name": "stdout",
     "output_type": "stream",
     "text": [
      "Fetched number of followers ids for seanmcarroll : 15000\n",
      "Getting Followers ids of SebastianThrun\n"
     ]
    },
    {
     "name": "stderr",
     "output_type": "stream",
     "text": [
      "Rate limit reached. Sleeping for: 888\n",
      "  4%|▎         | 46/1288 [2:15:51<111:48:53, 324.10s/it]"
     ]
    },
    {
     "name": "stdout",
     "output_type": "stream",
     "text": [
      "Fetched number of followers ids for SebastianThrun : 15000\n",
      "Getting Followers ids of SethShostak\n"
     ]
    },
    {
     "name": "stderr",
     "output_type": "stream",
     "text": [
      "\r",
      "  4%|▎         | 47/1288 [2:15:52<78:21:30, 227.31s/it] "
     ]
    },
    {
     "name": "stdout",
     "output_type": "stream",
     "text": [
      "Fetched number of followers ids for SethShostak : 15000\n",
      "Getting Followers ids of social_brains\n"
     ]
    },
    {
     "name": "stderr",
     "output_type": "stream",
     "text": [
      "\r",
      "  4%|▎         | 48/1288 [2:15:54<55:02:32, 159.80s/it]"
     ]
    },
    {
     "name": "stdout",
     "output_type": "stream",
     "text": [
      "Fetched number of followers ids for social_brains : 15000\n",
      "Getting Followers ids of starstryder\n"
     ]
    },
    {
     "name": "stderr",
     "output_type": "stream",
     "text": [
      "\r",
      "  4%|▍         | 49/1288 [2:15:56<38:39:20, 112.32s/it]"
     ]
    },
    {
     "name": "stdout",
     "output_type": "stream",
     "text": [
      "Fetched number of followers ids for starstryder : 15000\n",
      "Getting Followers ids of timberners_lee\n"
     ]
    },
    {
     "name": "stderr",
     "output_type": "stream",
     "text": [
      "\r",
      "  4%|▍         | 50/1288 [2:15:57<27:10:54, 79.04s/it] "
     ]
    },
    {
     "name": "stdout",
     "output_type": "stream",
     "text": [
      "Fetched number of followers ids for timberners_lee : 15000\n",
      "Getting Followers ids of vaughanbell\n"
     ]
    },
    {
     "name": "stderr",
     "output_type": "stream",
     "text": [
      "Rate limit reached. Sleeping for: 892\n",
      "  4%|▍         | 51/1288 [2:30:56<111:39:42, 324.97s/it]"
     ]
    },
    {
     "name": "stdout",
     "output_type": "stream",
     "text": [
      "Fetched number of followers ids for vaughanbell : 15000\n",
      "Getting Followers ids of AdamRutherford\n"
     ]
    },
    {
     "name": "stderr",
     "output_type": "stream",
     "text": [
      "\r",
      "  4%|▍         | 52/1288 [2:30:57<78:14:52, 227.91s/it] "
     ]
    },
    {
     "name": "stdout",
     "output_type": "stream",
     "text": [
      "Fetched number of followers ids for AdamRutherford : 15000\n",
      "Getting Followers ids of aetiology\n"
     ]
    },
    {
     "name": "stderr",
     "output_type": "stream",
     "text": [
      "\r",
      "  4%|▍         | 53/1288 [2:30:59<54:53:40, 160.02s/it]"
     ]
    },
    {
     "name": "stdout",
     "output_type": "stream",
     "text": [
      "Fetched number of followers ids for aetiology : 15000\n",
      "Getting Followers ids of alexismadrigal\n"
     ]
    },
    {
     "name": "stderr",
     "output_type": "stream",
     "text": [
      "\r",
      "  4%|▍         | 54/1288 [2:31:00<38:32:40, 112.45s/it]"
     ]
    },
    {
     "name": "stdout",
     "output_type": "stream",
     "text": [
      "Fetched number of followers ids for alexismadrigal : 15000\n",
      "Getting Followers ids of amy_harmon\n"
     ]
    },
    {
     "name": "stderr",
     "output_type": "stream",
     "text": [
      "\r",
      "  4%|▍         | 55/1288 [2:31:02<27:06:41, 79.16s/it] "
     ]
    },
    {
     "name": "stdout",
     "output_type": "stream",
     "text": [
      "Fetched number of followers ids for amy_harmon : 15000\n",
      "Getting Followers ids of AstroKatie\n"
     ]
    },
    {
     "name": "stderr",
     "output_type": "stream",
     "text": [
      "Rate limit reached. Sleeping for: 892\n",
      "  4%|▍         | 56/1288 [2:46:01<111:13:51, 325.03s/it]"
     ]
    },
    {
     "name": "stdout",
     "output_type": "stream",
     "text": [
      "Fetched number of followers ids for AstroKatie : 15000\n",
      "Getting Followers ids of BeeBrookshire\n"
     ]
    },
    {
     "name": "stderr",
     "output_type": "stream",
     "text": [
      "\r",
      "  4%|▍         | 57/1288 [2:46:02<77:56:43, 227.95s/it] "
     ]
    },
    {
     "name": "stdout",
     "output_type": "stream",
     "text": [
      "Fetched number of followers ids for BeeBrookshire : 15000\n",
      "Getting Followers ids of BillGates\n"
     ]
    },
    {
     "name": "stderr",
     "output_type": "stream",
     "text": [
      "\r",
      "  5%|▍         | 58/1288 [2:46:04<54:40:26, 160.02s/it]"
     ]
    },
    {
     "name": "stdout",
     "output_type": "stream",
     "text": [
      "Fetched number of followers ids for BillGates : 15000\n",
      "Getting Followers ids of BillNye\n"
     ]
    },
    {
     "name": "stderr",
     "output_type": "stream",
     "text": [
      "\r",
      "  5%|▍         | 59/1288 [2:46:05<38:23:23, 112.45s/it]"
     ]
    },
    {
     "name": "stdout",
     "output_type": "stream",
     "text": [
      "Fetched number of followers ids for BillNye : 15000\n",
      "Getting Followers ids of bmaher\n"
     ]
    },
    {
     "name": "stderr",
     "output_type": "stream",
     "text": [
      "\r",
      "  5%|▍         | 60/1288 [2:46:06<26:59:20, 79.12s/it] "
     ]
    },
    {
     "name": "stdout",
     "output_type": "stream",
     "text": [
      "Fetched number of followers ids for bmaher : 12850\n",
      "Getting Followers ids of carlzimmer\n"
     ]
    },
    {
     "name": "stderr",
     "output_type": "stream",
     "text": [
      "Rate limit reached. Sleeping for: 893\n",
      "  5%|▍         | 61/1288 [3:01:06<110:52:31, 325.31s/it]"
     ]
    },
    {
     "name": "stdout",
     "output_type": "stream",
     "text": [
      "Fetched number of followers ids for carlzimmer : 15000\n",
      "Getting Followers ids of chriscmooney\n"
     ]
    },
    {
     "name": "stderr",
     "output_type": "stream",
     "text": [
      "\r",
      "  5%|▍         | 62/1288 [3:01:08<77:41:46, 228.15s/it] "
     ]
    },
    {
     "name": "stdout",
     "output_type": "stream",
     "text": [
      "Fetched number of followers ids for chriscmooney : 15000\n",
      "Getting Followers ids of CT_Bergstrom\n"
     ]
    },
    {
     "name": "stderr",
     "output_type": "stream",
     "text": [
      "\r",
      "  5%|▍         | 63/1288 [3:01:09<54:31:22, 160.23s/it]"
     ]
    },
    {
     "name": "stdout",
     "output_type": "stream",
     "text": [
      "Fetched number of followers ids for CT_Bergstrom : 15000\n",
      "Getting Followers ids of danieldennett\n"
     ]
    },
    {
     "name": "stderr",
     "output_type": "stream",
     "text": [
      "\r",
      "  5%|▍         | 64/1288 [3:01:11<38:17:27, 112.62s/it]"
     ]
    },
    {
     "name": "stdout",
     "output_type": "stream",
     "text": [
      "Fetched number of followers ids for danieldennett : 15000\n",
      "Getting Followers ids of davideagleman\n"
     ]
    },
    {
     "name": "stderr",
     "output_type": "stream",
     "text": [
      "\r",
      "  5%|▌         | 65/1288 [3:01:12<26:55:40, 79.26s/it] "
     ]
    },
    {
     "name": "stdout",
     "output_type": "stream",
     "text": [
      "Fetched number of followers ids for davideagleman : 15000\n",
      "Getting Followers ids of David_Dobbs\n"
     ]
    },
    {
     "name": "stderr",
     "output_type": "stream",
     "text": [
      "Rate limit reached. Sleeping for: 893\n",
      "  5%|▌         | 66/1288 [3:16:12<110:27:44, 325.42s/it]"
     ]
    },
    {
     "name": "stdout",
     "output_type": "stream",
     "text": [
      "Fetched number of followers ids for David_Dobbs : 15000\n",
      "Getting Followers ids of DNLee5\n"
     ]
    },
    {
     "name": "stderr",
     "output_type": "stream",
     "text": [
      "\r",
      "  5%|▌         | 67/1288 [3:16:14<77:24:30, 228.23s/it] "
     ]
    },
    {
     "name": "stdout",
     "output_type": "stream",
     "text": [
      "Fetched number of followers ids for DNLee5 : 15000\n",
      "Getting Followers ids of drkiki\n"
     ]
    },
    {
     "name": "stderr",
     "output_type": "stream",
     "text": [
      "\r",
      "  5%|▌         | 68/1288 [3:16:15<54:17:08, 160.19s/it]"
     ]
    },
    {
     "name": "stdout",
     "output_type": "stream",
     "text": [
      "Fetched number of followers ids for drkiki : 15000\n",
      "Getting Followers ids of edge\n"
     ]
    },
    {
     "name": "stderr",
     "output_type": "stream",
     "text": [
      "\r",
      "  5%|▌         | 69/1288 [3:16:16<38:07:11, 112.58s/it]"
     ]
    },
    {
     "name": "stdout",
     "output_type": "stream",
     "text": [
      "Fetched number of followers ids for edge : 15000\n",
      "Getting Followers ids of elakdawalla\n"
     ]
    },
    {
     "name": "stderr",
     "output_type": "stream",
     "text": [
      "\r",
      "  5%|▌         | 70/1288 [3:16:18<26:50:11, 79.32s/it] "
     ]
    },
    {
     "name": "stdout",
     "output_type": "stream",
     "text": [
      "Fetched number of followers ids for elakdawalla : 15000\n",
      "Getting Followers ids of elonmusk\n"
     ]
    },
    {
     "name": "stderr",
     "output_type": "stream",
     "text": [
      "Rate limit reached. Sleeping for: 893\n",
      "  6%|▌         | 71/1288 [3:31:18<110:01:33, 325.47s/it]"
     ]
    },
    {
     "name": "stdout",
     "output_type": "stream",
     "text": [
      "Fetched number of followers ids for elonmusk : 15000\n",
      "Getting Followers ids of JenLucPiquant\n"
     ]
    },
    {
     "name": "stderr",
     "output_type": "stream",
     "text": [
      "\r",
      "  6%|▌         | 72/1288 [3:31:19<77:06:08, 228.26s/it] "
     ]
    },
    {
     "name": "stdout",
     "output_type": "stream",
     "text": [
      "Fetched number of followers ids for JenLucPiquant : 15000\n",
      "Getting Followers ids of KamalaHarris\n"
     ]
    },
    {
     "name": "stderr",
     "output_type": "stream",
     "text": [
      "\r",
      "  6%|▌         | 73/1288 [3:31:21<54:04:27, 160.22s/it]"
     ]
    },
    {
     "name": "stdout",
     "output_type": "stream",
     "text": [
      "Fetched number of followers ids for KamalaHarris : 15000\n",
      "Getting Followers ids of leonidkruglyak\n"
     ]
    },
    {
     "name": "stderr",
     "output_type": "stream",
     "text": [
      "\r",
      "  6%|▌         | 74/1288 [3:31:22<37:57:57, 112.58s/it]"
     ]
    },
    {
     "name": "stdout",
     "output_type": "stream",
     "text": [
      "Fetched number of followers ids for leonidkruglyak : 15000\n",
      "Getting Followers ids of maggiekb1\n"
     ]
    },
    {
     "name": "stderr",
     "output_type": "stream",
     "text": [
      "\r",
      "  6%|▌         | 75/1288 [3:31:24<26:41:54, 79.24s/it] "
     ]
    },
    {
     "name": "stdout",
     "output_type": "stream",
     "text": [
      "Fetched number of followers ids for maggiekb1 : 15000\n",
      "Getting Followers ids of MarsCuriosity\n"
     ]
    },
    {
     "name": "stderr",
     "output_type": "stream",
     "text": [
      "Rate limit reached. Sleeping for: 893\n",
      "  6%|▌         | 76/1288 [3:46:23<109:32:23, 325.37s/it]"
     ]
    },
    {
     "name": "stdout",
     "output_type": "stream",
     "text": [
      "Fetched number of followers ids for MarsCuriosity : 15000\n",
      "Getting Followers ids of marynmck\n"
     ]
    },
    {
     "name": "stderr",
     "output_type": "stream",
     "text": [
      "\r",
      "  6%|▌         | 77/1288 [3:46:25<76:45:32, 228.19s/it] "
     ]
    },
    {
     "name": "stdout",
     "output_type": "stream",
     "text": [
      "Fetched number of followers ids for marynmck : 15000\n",
      "Getting Followers ids of matthewherper\n"
     ]
    },
    {
     "name": "stderr",
     "output_type": "stream",
     "text": [
      "\r",
      "  6%|▌         | 78/1288 [3:46:26<53:50:02, 160.17s/it]"
     ]
    },
    {
     "name": "stdout",
     "output_type": "stream",
     "text": [
      "Fetched number of followers ids for matthewherper : 15000\n",
      "Getting Followers ids of mdichristina\n"
     ]
    },
    {
     "name": "stderr",
     "output_type": "stream",
     "text": [
      "\r",
      "  6%|▌         | 79/1288 [3:46:28<37:47:53, 112.55s/it]"
     ]
    },
    {
     "name": "stdout",
     "output_type": "stream",
     "text": [
      "Fetched number of followers ids for mdichristina : 15000\n",
      "Getting Followers ids of michaelshermer\n"
     ]
    },
    {
     "name": "stderr",
     "output_type": "stream",
     "text": [
      "\r",
      "  6%|▌         | 80/1288 [3:46:29<26:34:59, 79.22s/it] "
     ]
    },
    {
     "name": "stdout",
     "output_type": "stream",
     "text": [
      "Fetched number of followers ids for michaelshermer : 15000\n",
      "Getting Followers ids of mollycrockett\n"
     ]
    },
    {
     "name": "stderr",
     "output_type": "stream",
     "text": [
      "Rate limit reached. Sleeping for: 893\n",
      "  6%|▋         | 81/1288 [4:01:29<109:05:30, 325.38s/it]"
     ]
    },
    {
     "name": "stdout",
     "output_type": "stream",
     "text": [
      "Fetched number of followers ids for mollycrockett : 14601\n",
      "Getting Followers ids of NAChristakis\n"
     ]
    },
    {
     "name": "stderr",
     "output_type": "stream",
     "text": [
      "\r",
      "  6%|▋         | 82/1288 [4:01:30<76:26:39, 228.19s/it] "
     ]
    },
    {
     "name": "stdout",
     "output_type": "stream",
     "text": [
      "Fetched number of followers ids for NAChristakis : 15000\n",
      "Getting Followers ids of NASA\n"
     ]
    },
    {
     "name": "stderr",
     "output_type": "stream",
     "text": [
      "\r",
      "  6%|▋         | 83/1288 [4:01:32<53:37:16, 160.20s/it]"
     ]
    },
    {
     "name": "stdout",
     "output_type": "stream",
     "text": [
      "Fetched number of followers ids for NASA : 15000\n",
      "Getting Followers ids of NateSilver538\n"
     ]
    },
    {
     "name": "stderr",
     "output_type": "stream",
     "text": [
      "\r",
      "  7%|▋         | 84/1288 [4:01:33<37:39:13, 112.59s/it]"
     ]
    },
    {
     "name": "stdout",
     "output_type": "stream",
     "text": [
      "Fetched number of followers ids for NateSilver538 : 15000\n",
      "Getting Followers ids of NYTScience\n"
     ]
    },
    {
     "name": "stderr",
     "output_type": "stream",
     "text": [
      "\r",
      "  7%|▋         | 85/1288 [4:01:35<26:28:47, 79.24s/it] "
     ]
    },
    {
     "name": "stdout",
     "output_type": "stream",
     "text": [
      "Fetched number of followers ids for NYTScience : 15000\n",
      "Getting Followers ids of rebeccawatson\n"
     ]
    },
    {
     "name": "stderr",
     "output_type": "stream",
     "text": [
      "Rate limit reached. Sleeping for: 893\n",
      "  7%|▋         | 86/1288 [4:16:35<108:38:16, 325.37s/it]"
     ]
    },
    {
     "name": "stdout",
     "output_type": "stream",
     "text": [
      "Fetched number of followers ids for rebeccawatson : 15000\n",
      "Getting Followers ids of sciam\n"
     ]
    },
    {
     "name": "stderr",
     "output_type": "stream",
     "text": [
      "\r",
      "  7%|▋         | 87/1288 [4:16:36<76:07:50, 228.20s/it] "
     ]
    },
    {
     "name": "stdout",
     "output_type": "stream",
     "text": [
      "Fetched number of followers ids for sciam : 15000\n",
      "Getting Followers ids of sciencegoddess\n"
     ]
    },
    {
     "name": "stderr",
     "output_type": "stream",
     "text": [
      "\r",
      "  7%|▋         | 88/1288 [4:16:38<53:23:42, 160.19s/it]"
     ]
    },
    {
     "name": "stdout",
     "output_type": "stream",
     "text": [
      "Fetched number of followers ids for sciencegoddess : 15000\n",
      "Getting Followers ids of ScienceMagazine\n"
     ]
    },
    {
     "name": "stderr",
     "output_type": "stream",
     "text": [
      "\r",
      "  7%|▋         | 89/1288 [4:16:39<37:29:15, 112.56s/it]"
     ]
    },
    {
     "name": "stdout",
     "output_type": "stream",
     "text": [
      "Fetched number of followers ids for ScienceMagazine : 15000\n",
      "Getting Followers ids of scifri\n"
     ]
    },
    {
     "name": "stderr",
     "output_type": "stream",
     "text": [
      "\r",
      "  7%|▋         | 90/1288 [4:16:40<26:21:46, 79.22s/it] "
     ]
    },
    {
     "name": "stdout",
     "output_type": "stream",
     "text": [
      "Fetched number of followers ids for scifri : 15000\n",
      "Getting Followers ids of SpaceX\n"
     ]
    },
    {
     "name": "stderr",
     "output_type": "stream",
     "text": [
      "Rate limit reached. Sleeping for: 893\n",
      "  7%|▋         | 91/1288 [4:31:42<108:21:54, 325.91s/it]"
     ]
    },
    {
     "name": "stdout",
     "output_type": "stream",
     "text": [
      "Fetched number of followers ids for SpaceX : 15000\n",
      "Getting Followers ids of stevenstrogatz\n"
     ]
    },
    {
     "name": "stderr",
     "output_type": "stream",
     "text": [
      "\r",
      "  7%|▋         | 92/1288 [4:31:43<75:56:09, 228.57s/it] "
     ]
    },
    {
     "name": "stdout",
     "output_type": "stream",
     "text": [
      "Fetched number of followers ids for stevenstrogatz : 15000\n",
      "Getting Followers ids of TEDchris\n"
     ]
    },
    {
     "name": "stderr",
     "output_type": "stream",
     "text": [
      "\r",
      "  7%|▋         | 93/1288 [4:31:45<53:15:19, 160.43s/it]"
     ]
    },
    {
     "name": "stdout",
     "output_type": "stream",
     "text": [
      "Fetched number of followers ids for TEDchris : 15000\n",
      "Getting Followers ids of utafrith\n"
     ]
    },
    {
     "name": "stderr",
     "output_type": "stream",
     "text": [
      "\r",
      "  7%|▋         | 94/1288 [4:31:46<37:23:33, 112.74s/it]"
     ]
    },
    {
     "name": "stdout",
     "output_type": "stream",
     "text": [
      "Fetched number of followers ids for utafrith : 15000\n",
      "Getting Followers ids of virginiahughes\n"
     ]
    },
    {
     "name": "stderr",
     "output_type": "stream",
     "text": [
      "\r",
      "  7%|▋         | 95/1288 [4:31:50<26:29:10, 79.93s/it] "
     ]
    },
    {
     "name": "stdout",
     "output_type": "stream",
     "text": [
      "Fetched number of followers ids for virginiahughes : 15000\n",
      "Getting Followers ids of zeynep\n"
     ]
    },
    {
     "name": "stderr",
     "output_type": "stream",
     "text": [
      "Rate limit reached. Sleeping for: 890\n",
      "  7%|▋         | 96/1288 [4:46:46<107:36:24, 324.99s/it]"
     ]
    },
    {
     "name": "stdout",
     "output_type": "stream",
     "text": [
      "Fetched number of followers ids for zeynep : 15000\n",
      "Getting Followers ids of 1followernodad\n"
     ]
    },
    {
     "name": "stderr",
     "output_type": "stream",
     "text": [
      "\r",
      "  8%|▊         | 97/1288 [4:46:49<75:28:52, 228.15s/it] "
     ]
    },
    {
     "name": "stdout",
     "output_type": "stream",
     "text": [
      "Fetched number of followers ids for 1followernodad : 15000\n",
      "Getting Followers ids of 3blue1brown\n"
     ]
    },
    {
     "name": "stderr",
     "output_type": "stream",
     "text": [
      "\r",
      "  8%|▊         | 98/1288 [4:46:52<53:10:12, 160.85s/it]"
     ]
    },
    {
     "name": "stdout",
     "output_type": "stream",
     "text": [
      "Fetched number of followers ids for 3blue1brown : 15000\n",
      "Getting Followers ids of 6Gems\n"
     ]
    },
    {
     "name": "stderr",
     "output_type": "stream",
     "text": [
      "\r",
      "  8%|▊         | 99/1288 [4:46:54<37:21:40, 113.12s/it]"
     ]
    },
    {
     "name": "stdout",
     "output_type": "stream",
     "text": [
      "Fetched number of followers ids for 6Gems : 15000\n",
      "Getting Followers ids of aaas\n"
     ]
    },
    {
     "name": "stderr",
     "output_type": "stream",
     "text": [
      "\r",
      "  8%|▊         | 100/1288 [4:46:58<26:27:38, 80.18s/it]"
     ]
    },
    {
     "name": "stdout",
     "output_type": "stream",
     "text": [
      "Fetched number of followers ids for aaas : 15000\n",
      "Getting Followers ids of abcsoka\n"
     ]
    },
    {
     "name": "stderr",
     "output_type": "stream",
     "text": [
      "Rate limit reached. Sleeping for: 886\n",
      "  8%|▊         | 101/1288 [5:01:54<107:13:14, 325.18s/it]"
     ]
    },
    {
     "name": "stdout",
     "output_type": "stream",
     "text": [
      "Fetched number of followers ids for abcsoka : 15000\n",
      "Getting Followers ids of AbdulElSayed\n"
     ]
    },
    {
     "name": "stderr",
     "output_type": "stream",
     "text": [
      "\r",
      "  8%|▊         | 102/1288 [5:01:57<75:15:13, 228.43s/it] "
     ]
    },
    {
     "name": "stdout",
     "output_type": "stream",
     "text": [
      "Fetched number of followers ids for AbdulElSayed : 15000\n",
      "Getting Followers ids of AbigailShrier\n"
     ]
    },
    {
     "name": "stderr",
     "output_type": "stream",
     "text": [
      "\r",
      "  8%|▊         | 103/1288 [5:02:01<52:58:59, 160.96s/it]"
     ]
    },
    {
     "name": "stdout",
     "output_type": "stream",
     "text": [
      "Fetched number of followers ids for AbigailShrier : 15000\n",
      "Getting Followers ids of acarvin\n"
     ]
    },
    {
     "name": "stderr",
     "output_type": "stream",
     "text": [
      "\r",
      "  8%|▊         | 104/1288 [5:02:04<37:26:01, 113.82s/it]"
     ]
    },
    {
     "name": "stdout",
     "output_type": "stream",
     "text": [
      "Fetched number of followers ids for acarvin : 15000\n",
      "Getting Followers ids of adambain\n"
     ]
    },
    {
     "name": "stderr",
     "output_type": "stream",
     "text": [
      "\r",
      "  8%|▊         | 105/1288 [5:02:07<26:26:11, 80.45s/it] "
     ]
    },
    {
     "name": "stdout",
     "output_type": "stream",
     "text": [
      "Fetched number of followers ids for adambain : 15000\n",
      "Getting Followers ids of adamdavidson\n"
     ]
    },
    {
     "name": "stderr",
     "output_type": "stream",
     "text": [
      "Rate limit reached. Sleeping for: 882\n",
      "  8%|▊         | 106/1288 [5:16:58<106:18:17, 323.77s/it]"
     ]
    },
    {
     "name": "stdout",
     "output_type": "stream",
     "text": [
      "Fetched number of followers ids for adamdavidson : 15000\n",
      "Getting Followers ids of AdamJKucharski\n"
     ]
    },
    {
     "name": "stderr",
     "output_type": "stream",
     "text": [
      "\r",
      "  8%|▊         | 107/1288 [5:17:00<74:31:33, 227.17s/it] "
     ]
    },
    {
     "name": "stdout",
     "output_type": "stream",
     "text": [
      "Fetched number of followers ids for AdamJKucharski : 15000\n",
      "Getting Followers ids of AdamMGrant\n"
     ]
    },
    {
     "name": "stderr",
     "output_type": "stream",
     "text": [
      "\r",
      "  8%|▊         | 108/1288 [5:17:04<52:31:50, 160.26s/it]"
     ]
    },
    {
     "name": "stdout",
     "output_type": "stream",
     "text": [
      "Fetched number of followers ids for AdamMGrant : 15000\n",
      "Getting Followers ids of AdamSerwer\n"
     ]
    },
    {
     "name": "stderr",
     "output_type": "stream",
     "text": [
      "\r",
      "  8%|▊         | 109/1288 [5:17:06<36:56:18, 112.79s/it]"
     ]
    },
    {
     "name": "stdout",
     "output_type": "stream",
     "text": [
      "Fetched number of followers ids for AdamSerwer : 15000\n",
      "Getting Followers ids of afuahirsch\n"
     ]
    },
    {
     "name": "stderr",
     "output_type": "stream",
     "text": [
      "\r",
      "  9%|▊         | 110/1288 [5:17:10<26:13:27, 80.14s/it] "
     ]
    },
    {
     "name": "stdout",
     "output_type": "stream",
     "text": [
      "Fetched number of followers ids for afuahirsch : 15000\n",
      "Getting Followers ids of AlanWattsDaily\n"
     ]
    },
    {
     "name": "stderr",
     "output_type": "stream",
     "text": [
      "Rate limit reached. Sleeping for: 883\n",
      "  9%|▊         | 111/1288 [5:32:03<105:56:18, 324.03s/it]"
     ]
    },
    {
     "name": "stdout",
     "output_type": "stream",
     "text": [
      "Fetched number of followers ids for AlanWattsDaily : 15000\n",
      "Getting Followers ids of AliRaja_MD\n"
     ]
    },
    {
     "name": "stderr",
     "output_type": "stream",
     "text": [
      "\r",
      "  9%|▊         | 112/1288 [5:32:08<74:30:42, 228.10s/it] "
     ]
    },
    {
     "name": "stdout",
     "output_type": "stream",
     "text": [
      "Fetched number of followers ids for AliRaja_MD : 15000\n",
      "Getting Followers ids of AltHomelandSec\n"
     ]
    },
    {
     "name": "stderr",
     "output_type": "stream",
     "text": [
      "\r",
      "  9%|▉         | 113/1288 [5:32:09<52:15:42, 160.12s/it]"
     ]
    },
    {
     "name": "stdout",
     "output_type": "stream",
     "text": [
      "Fetched number of followers ids for AltHomelandSec : 15000\n",
      "Getting Followers ids of altNOAA\n"
     ]
    },
    {
     "name": "stderr",
     "output_type": "stream",
     "text": [
      "\r",
      "  9%|▉         | 114/1288 [5:32:13<36:52:47, 113.09s/it]"
     ]
    },
    {
     "name": "stdout",
     "output_type": "stream",
     "text": [
      "Fetched number of followers ids for altNOAA : 15000\n",
      "Getting Followers ids of AltPublicLands\n"
     ]
    },
    {
     "name": "stderr",
     "output_type": "stream",
     "text": [
      "\r",
      "  9%|▉         | 115/1288 [5:32:14<25:57:42, 79.68s/it] "
     ]
    },
    {
     "name": "stdout",
     "output_type": "stream",
     "text": [
      "Fetched number of followers ids for AltPublicLands : 15000\n",
      "Getting Followers ids of alt_fda\n"
     ]
    },
    {
     "name": "stderr",
     "output_type": "stream",
     "text": [
      "Rate limit reached. Sleeping for: 888\n",
      "  9%|▉         | 116/1288 [5:47:09<105:32:42, 324.20s/it]"
     ]
    },
    {
     "name": "stdout",
     "output_type": "stream",
     "text": [
      "Fetched number of followers ids for alt_fda : 15000\n",
      "Getting Followers ids of Alt_NASA\n"
     ]
    },
    {
     "name": "stderr",
     "output_type": "stream",
     "text": [
      "\r",
      "  9%|▉         | 117/1288 [5:47:11<73:57:32, 227.37s/it] "
     ]
    },
    {
     "name": "stdout",
     "output_type": "stream",
     "text": [
      "Fetched number of followers ids for Alt_NASA : 15000\n",
      "Getting Followers ids of amandaknox\n"
     ]
    },
    {
     "name": "stderr",
     "output_type": "stream",
     "text": [
      "\r",
      "  9%|▉         | 118/1288 [5:47:12<51:52:27, 159.61s/it]"
     ]
    },
    {
     "name": "stdout",
     "output_type": "stream",
     "text": [
      "Fetched number of followers ids for amandaknox : 15000\n",
      "Getting Followers ids of amateuradam\n"
     ]
    },
    {
     "name": "stderr",
     "output_type": "stream",
     "text": [
      "\r",
      "  9%|▉         | 119/1288 [5:47:15<36:33:22, 112.58s/it]"
     ]
    },
    {
     "name": "stdout",
     "output_type": "stream",
     "text": [
      "Fetched number of followers ids for amateuradam : 15000\n",
      "Getting Followers ids of anamariecox\n"
     ]
    },
    {
     "name": "stderr",
     "output_type": "stream",
     "text": [
      "\r",
      "  9%|▉         | 120/1288 [5:47:16<25:42:55, 79.26s/it] "
     ]
    },
    {
     "name": "stdout",
     "output_type": "stream",
     "text": [
      "Fetched number of followers ids for anamariecox : 15000\n",
      "Getting Followers ids of anandmahindra\n"
     ]
    },
    {
     "name": "stderr",
     "output_type": "stream",
     "text": [
      "Rate limit reached. Sleeping for: 892\n",
      "  9%|▉         | 121/1288 [6:02:15<105:25:05, 325.20s/it]"
     ]
    },
    {
     "name": "stdout",
     "output_type": "stream",
     "text": [
      "Fetched number of followers ids for anandmahindra : 15000\n",
      "Getting Followers ids of andrewklavan\n"
     ]
    },
    {
     "name": "stderr",
     "output_type": "stream",
     "text": [
      "\r",
      "  9%|▉         | 122/1288 [6:02:17<73:52:51, 228.11s/it] "
     ]
    },
    {
     "name": "stdout",
     "output_type": "stream",
     "text": [
      "Fetched number of followers ids for andrewklavan : 15000\n",
      "Getting Followers ids of AndrewMarr9\n"
     ]
    },
    {
     "name": "stderr",
     "output_type": "stream",
     "text": [
      "\r",
      " 10%|▉         | 123/1288 [6:02:19<51:49:18, 160.14s/it]"
     ]
    },
    {
     "name": "stdout",
     "output_type": "stream",
     "text": [
      "Fetched number of followers ids for AndrewMarr9 : 15000\n",
      "Getting Followers ids of AndrewMayne\n"
     ]
    },
    {
     "name": "stderr",
     "output_type": "stream",
     "text": [
      "\r",
      " 10%|▉         | 124/1288 [6:02:20<36:24:03, 112.58s/it]"
     ]
    },
    {
     "name": "stdout",
     "output_type": "stream",
     "text": [
      "Fetched number of followers ids for AndrewMayne : 15000\n",
      "Getting Followers ids of andrewrsorkin\n"
     ]
    },
    {
     "name": "stderr",
     "output_type": "stream",
     "text": [
      "\r",
      " 10%|▉         | 125/1288 [6:02:22<25:36:02, 79.25s/it] "
     ]
    },
    {
     "name": "stdout",
     "output_type": "stream",
     "text": [
      "Fetched number of followers ids for andrewrsorkin : 15000\n",
      "Getting Followers ids of angie_rasmussen\n"
     ]
    },
    {
     "name": "stderr",
     "output_type": "stream",
     "text": [
      "Rate limit reached. Sleeping for: 893\n",
      " 10%|▉         | 126/1288 [6:17:21<105:02:27, 325.43s/it]"
     ]
    },
    {
     "name": "stdout",
     "output_type": "stream",
     "text": [
      "Fetched number of followers ids for angie_rasmussen : 15000\n",
      "Getting Followers ids of anildash\n"
     ]
    },
    {
     "name": "stderr",
     "output_type": "stream",
     "text": [
      "\r",
      " 10%|▉         | 127/1288 [6:17:23<73:36:45, 228.26s/it] "
     ]
    },
    {
     "name": "stdout",
     "output_type": "stream",
     "text": [
      "Fetched number of followers ids for anildash : 15000\n",
      "Getting Followers ids of annabelcrabb\n"
     ]
    },
    {
     "name": "stderr",
     "output_type": "stream",
     "text": [
      "\r",
      " 10%|▉         | 128/1288 [6:17:24<51:37:30, 160.22s/it]"
     ]
    },
    {
     "name": "stdout",
     "output_type": "stream",
     "text": [
      "Fetched number of followers ids for annabelcrabb : 15000\n",
      "Getting Followers ids of AnnCurry\n"
     ]
    },
    {
     "name": "stderr",
     "output_type": "stream",
     "text": [
      "\r",
      " 10%|█         | 129/1288 [6:17:26<36:15:48, 112.64s/it]"
     ]
    },
    {
     "name": "stdout",
     "output_type": "stream",
     "text": [
      "Fetched number of followers ids for AnnCurry : 15000\n",
      "Getting Followers ids of annehelen\n"
     ]
    },
    {
     "name": "stderr",
     "output_type": "stream",
     "text": [
      "\r",
      " 10%|█         | 130/1288 [6:17:28<25:30:10, 79.28s/it] "
     ]
    },
    {
     "name": "stdout",
     "output_type": "stream",
     "text": [
      "Fetched number of followers ids for annehelen : 15000\n",
      "Getting Followers ids of AnonyOps\n"
     ]
    },
    {
     "name": "stderr",
     "output_type": "stream",
     "text": [
      "Rate limit reached. Sleeping for: 893\n",
      " 10%|█         | 131/1288 [6:32:27<104:35:01, 325.41s/it]"
     ]
    },
    {
     "name": "stdout",
     "output_type": "stream",
     "text": [
      "Fetched number of followers ids for AnonyOps : 15000\n",
      "Getting Followers ids of AntonioParis\n"
     ]
    },
    {
     "name": "stderr",
     "output_type": "stream",
     "text": [
      "\r",
      " 10%|█         | 132/1288 [6:32:29<73:17:19, 228.24s/it] "
     ]
    },
    {
     "name": "stdout",
     "output_type": "stream",
     "text": [
      "Fetched number of followers ids for AntonioParis : 15000\n",
      "Getting Followers ids of APA\n"
     ]
    },
    {
     "name": "stderr",
     "output_type": "stream",
     "text": [
      "\r",
      " 10%|█         | 133/1288 [6:32:30<51:24:37, 160.24s/it]"
     ]
    },
    {
     "name": "stdout",
     "output_type": "stream",
     "text": [
      "Fetched number of followers ids for APA : 15000\n",
      "Getting Followers ids of arishapiro\n"
     ]
    },
    {
     "name": "stderr",
     "output_type": "stream",
     "text": [
      "\r",
      " 10%|█         | 134/1288 [6:32:32<36:05:47, 112.61s/it]"
     ]
    },
    {
     "name": "stdout",
     "output_type": "stream",
     "text": [
      "Fetched number of followers ids for arishapiro : 15000\n",
      "Getting Followers ids of arjunbasu\n"
     ]
    },
    {
     "name": "stderr",
     "output_type": "stream",
     "text": [
      "\r",
      " 10%|█         | 135/1288 [6:32:33<25:23:12, 79.26s/it] "
     ]
    },
    {
     "name": "stdout",
     "output_type": "stream",
     "text": [
      "Fetched number of followers ids for arjunbasu : 15000\n",
      "Getting Followers ids of arlenparsa\n"
     ]
    },
    {
     "name": "stderr",
     "output_type": "stream",
     "text": [
      "Rate limit reached. Sleeping for: 892\n",
      " 11%|█         | 136/1288 [6:47:33<104:06:52, 325.36s/it]"
     ]
    },
    {
     "name": "stdout",
     "output_type": "stream",
     "text": [
      "Fetched number of followers ids for arlenparsa : 15000\n",
      "Getting Followers ids of arobertwebb\n"
     ]
    },
    {
     "name": "stderr",
     "output_type": "stream",
     "text": [
      "\r",
      " 11%|█         | 137/1288 [6:47:34<72:57:48, 228.21s/it] "
     ]
    },
    {
     "name": "stdout",
     "output_type": "stream",
     "text": [
      "Fetched number of followers ids for arobertwebb : 15000\n",
      "Getting Followers ids of arvalis\n"
     ]
    },
    {
     "name": "stderr",
     "output_type": "stream",
     "text": [
      "\r",
      " 11%|█         | 138/1288 [6:47:36<51:10:06, 160.18s/it]"
     ]
    },
    {
     "name": "stdout",
     "output_type": "stream",
     "text": [
      "Fetched number of followers ids for arvalis : 15000\n",
      "Getting Followers ids of ashadornfest\n"
     ]
    },
    {
     "name": "stderr",
     "output_type": "stream",
     "text": [
      "\r",
      " 11%|█         | 139/1288 [6:47:37<35:55:59, 112.58s/it]"
     ]
    },
    {
     "name": "stdout",
     "output_type": "stream",
     "text": [
      "Fetched number of followers ids for ashadornfest : 15000\n",
      "Getting Followers ids of ashishkjha\n"
     ]
    },
    {
     "name": "stderr",
     "output_type": "stream",
     "text": [
      "\r",
      " 11%|█         | 140/1288 [6:47:39<25:16:29, 79.26s/it] "
     ]
    },
    {
     "name": "stdout",
     "output_type": "stream",
     "text": [
      "Fetched number of followers ids for ashishkjha : 15000\n",
      "Getting Followers ids of ASlavitt\n"
     ]
    },
    {
     "name": "stderr",
     "output_type": "stream",
     "text": [
      "Rate limit reached. Sleeping for: 893\n",
      " 11%|█         | 141/1288 [7:02:39<103:40:27, 325.39s/it]"
     ]
    },
    {
     "name": "stdout",
     "output_type": "stream",
     "text": [
      "Fetched number of followers ids for ASlavitt : 15000\n",
      "Getting Followers ids of ASmallFiction\n"
     ]
    },
    {
     "name": "stderr",
     "output_type": "stream",
     "text": [
      "\r",
      " 11%|█         | 142/1288 [7:02:40<72:38:57, 228.22s/it] "
     ]
    },
    {
     "name": "stdout",
     "output_type": "stream",
     "text": [
      "Fetched number of followers ids for ASmallFiction : 15000\n",
      "Getting Followers ids of asmithblog\n"
     ]
    },
    {
     "name": "stderr",
     "output_type": "stream",
     "text": [
      "\r",
      " 11%|█         | 143/1288 [7:02:41<50:57:02, 160.19s/it]"
     ]
    },
    {
     "name": "stdout",
     "output_type": "stream",
     "text": [
      "Fetched number of followers ids for asmithblog : 15000\n",
      "Getting Followers ids of Astro2fish\n"
     ]
    },
    {
     "name": "stderr",
     "output_type": "stream",
     "text": [
      "\r",
      " 11%|█         | 144/1288 [7:02:43<35:46:27, 112.58s/it]"
     ]
    },
    {
     "name": "stdout",
     "output_type": "stream",
     "text": [
      "Fetched number of followers ids for Astro2fish : 15000\n",
      "Getting Followers ids of AstroHardin\n"
     ]
    },
    {
     "name": "stderr",
     "output_type": "stream",
     "text": [
      "\r",
      " 11%|█▏        | 145/1288 [7:02:44<25:09:47, 79.25s/it] "
     ]
    },
    {
     "name": "stdout",
     "output_type": "stream",
     "text": [
      "Fetched number of followers ids for AstroHardin : 15000\n",
      "Getting Followers ids of AstronautAbby\n"
     ]
    },
    {
     "name": "stderr",
     "output_type": "stream",
     "text": [
      "Rate limit reached. Sleeping for: 893\n",
      " 11%|█▏        | 146/1288 [7:17:44<103:13:24, 325.40s/it]"
     ]
    },
    {
     "name": "stdout",
     "output_type": "stream",
     "text": [
      "Fetched number of followers ids for AstronautAbby : 15000\n",
      "Getting Followers ids of AstronomyMag\n"
     ]
    },
    {
     "name": "stderr",
     "output_type": "stream",
     "text": [
      "\r",
      " 11%|█▏        | 147/1288 [7:17:48<72:35:10, 229.02s/it] "
     ]
    },
    {
     "name": "stdout",
     "output_type": "stream",
     "text": [
      "Fetched number of followers ids for AstronomyMag : 15000\n",
      "Getting Followers ids of AstroTerry\n"
     ]
    },
    {
     "name": "stderr",
     "output_type": "stream",
     "text": [
      "\r",
      " 11%|█▏        | 148/1288 [7:17:50<50:54:30, 160.76s/it]"
     ]
    },
    {
     "name": "stdout",
     "output_type": "stream",
     "text": [
      "Fetched number of followers ids for AstroTerry : 15000\n",
      "Getting Followers ids of Astro_Cady\n"
     ]
    },
    {
     "name": "stderr",
     "output_type": "stream",
     "text": [
      "\r",
      " 12%|█▏        | 149/1288 [7:17:52<35:49:18, 113.22s/it]"
     ]
    },
    {
     "name": "stdout",
     "output_type": "stream",
     "text": [
      "Fetched number of followers ids for Astro_Cady : 15000\n",
      "Getting Followers ids of Astro_Mike\n"
     ]
    },
    {
     "name": "stderr",
     "output_type": "stream",
     "text": [
      "\r",
      " 12%|█▏        | 150/1288 [7:17:54<25:11:51, 79.71s/it] "
     ]
    },
    {
     "name": "stdout",
     "output_type": "stream",
     "text": [
      "Fetched number of followers ids for Astro_Mike : 15000\n",
      "Getting Followers ids of astro_timpeake\n"
     ]
    },
    {
     "name": "stderr",
     "output_type": "stream",
     "text": [
      "Rate limit reached. Sleeping for: 889\n",
      " 12%|█▏        | 151/1288 [7:32:50<102:34:17, 324.76s/it]"
     ]
    },
    {
     "name": "stdout",
     "output_type": "stream",
     "text": [
      "Fetched number of followers ids for astro_timpeake : 15000\n",
      "Getting Followers ids of attackerman\n"
     ]
    },
    {
     "name": "stderr",
     "output_type": "stream",
     "text": [
      "\r",
      " 12%|█▏        | 152/1288 [7:32:52<71:51:51, 227.74s/it] "
     ]
    },
    {
     "name": "stdout",
     "output_type": "stream",
     "text": [
      "Fetched number of followers ids for attackerman : 15000\n",
      "Getting Followers ids of AudieCornish\n"
     ]
    },
    {
     "name": "stderr",
     "output_type": "stream",
     "text": [
      "\r",
      " 12%|█▏        | 153/1288 [7:32:53<50:26:16, 159.98s/it]"
     ]
    },
    {
     "name": "stdout",
     "output_type": "stream",
     "text": [
      "Fetched number of followers ids for AudieCornish : 15000\n",
      "Getting Followers ids of Austan_Goolsbee\n"
     ]
    },
    {
     "name": "stderr",
     "output_type": "stream",
     "text": [
      "\r",
      " 12%|█▏        | 154/1288 [7:32:57<35:35:41, 113.00s/it]"
     ]
    },
    {
     "name": "stdout",
     "output_type": "stream",
     "text": [
      "Fetched number of followers ids for Austan_Goolsbee : 15000\n",
      "Getting Followers ids of austinkleon\n"
     ]
    },
    {
     "name": "stderr",
     "output_type": "stream",
     "text": [
      "\r",
      " 12%|█▏        | 155/1288 [7:32:58<25:02:13, 79.55s/it] "
     ]
    },
    {
     "name": "stdout",
     "output_type": "stream",
     "text": [
      "Fetched number of followers ids for austinkleon : 15000\n",
      "Getting Followers ids of avantgame\n"
     ]
    },
    {
     "name": "stderr",
     "output_type": "stream",
     "text": [
      "Rate limit reached. Sleeping for: 891\n",
      " 12%|█▏        | 156/1288 [7:47:56<102:11:51, 325.01s/it]"
     ]
    },
    {
     "name": "stdout",
     "output_type": "stream",
     "text": [
      "Fetched number of followers ids for avantgame : 15000\n",
      "Getting Followers ids of avinash\n"
     ]
    },
    {
     "name": "stderr",
     "output_type": "stream",
     "text": [
      "\r",
      " 12%|█▏        | 157/1288 [7:47:58<71:42:08, 228.23s/it] "
     ]
    },
    {
     "name": "stdout",
     "output_type": "stream",
     "text": [
      "Fetched number of followers ids for avinash : 15000\n",
      "Getting Followers ids of awilkinson\n"
     ]
    },
    {
     "name": "stderr",
     "output_type": "stream",
     "text": [
      "\r",
      " 12%|█▏        | 158/1288 [7:48:00<50:17:05, 160.20s/it]"
     ]
    },
    {
     "name": "stdout",
     "output_type": "stream",
     "text": [
      "Fetched number of followers ids for awilkinson : 15000\n",
      "Getting Followers ids of AyoCaesar\n"
     ]
    },
    {
     "name": "stderr",
     "output_type": "stream",
     "text": [
      "\r",
      " 12%|█▏        | 159/1288 [7:48:01<35:18:11, 112.57s/it]"
     ]
    },
    {
     "name": "stdout",
     "output_type": "stream",
     "text": [
      "Fetched number of followers ids for AyoCaesar : 15000\n",
      "Getting Followers ids of bader_diedrich\n"
     ]
    },
    {
     "name": "stderr",
     "output_type": "stream",
     "text": [
      "\r",
      " 12%|█▏        | 160/1288 [7:48:03<24:50:14, 79.27s/it] "
     ]
    },
    {
     "name": "stdout",
     "output_type": "stream",
     "text": [
      "Fetched number of followers ids for bader_diedrich : 15000\n",
      "Getting Followers ids of bairdjulia\n"
     ]
    },
    {
     "name": "stderr",
     "output_type": "stream",
     "text": [
      "Rate limit reached. Sleeping for: 892\n",
      " 12%|█▎        | 161/1288 [8:03:02<101:47:00, 325.13s/it]"
     ]
    },
    {
     "name": "stdout",
     "output_type": "stream",
     "text": [
      "Fetched number of followers ids for bairdjulia : 15000\n",
      "Getting Followers ids of balajis\n"
     ]
    },
    {
     "name": "stderr",
     "output_type": "stream",
     "text": [
      "\r",
      " 13%|█▎        | 162/1288 [8:03:04<71:22:54, 228.22s/it] "
     ]
    },
    {
     "name": "stdout",
     "output_type": "stream",
     "text": [
      "Fetched number of followers ids for balajis : 15000\n",
      "Getting Followers ids of baratunde\n"
     ]
    },
    {
     "name": "stderr",
     "output_type": "stream",
     "text": [
      "\r",
      " 13%|█▎        | 163/1288 [8:03:05<50:03:56, 160.21s/it]"
     ]
    },
    {
     "name": "stdout",
     "output_type": "stream",
     "text": [
      "Fetched number of followers ids for baratunde : 15000\n",
      "Getting Followers ids of bariweiss\n"
     ]
    },
    {
     "name": "stderr",
     "output_type": "stream",
     "text": [
      "\r",
      " 13%|█▎        | 164/1288 [8:03:08<35:17:05, 113.01s/it]"
     ]
    },
    {
     "name": "stdout",
     "output_type": "stream",
     "text": [
      "Fetched number of followers ids for bariweiss : 15000\n",
      "Getting Followers ids of bbcnickrobinson\n"
     ]
    },
    {
     "name": "stderr",
     "output_type": "stream",
     "text": [
      "\r",
      " 13%|█▎        | 165/1288 [8:03:10<24:48:46, 79.54s/it] "
     ]
    },
    {
     "name": "stdout",
     "output_type": "stream",
     "text": [
      "Fetched number of followers ids for bbcnickrobinson : 15000\n",
      "Getting Followers ids of BBC_Future\n"
     ]
    },
    {
     "name": "stderr",
     "output_type": "stream",
     "text": [
      "Rate limit reached. Sleeping for: 889\n",
      " 13%|█▎        | 166/1288 [8:18:08<101:19:24, 325.10s/it]"
     ]
    },
    {
     "name": "stdout",
     "output_type": "stream",
     "text": [
      "Fetched number of followers ids for BBC_Future : 15000\n",
      "Getting Followers ids of BCAppelbaum\n"
     ]
    },
    {
     "name": "stderr",
     "output_type": "stream",
     "text": [
      "\r",
      " 13%|█▎        | 167/1288 [8:18:09<70:59:57, 228.01s/it] "
     ]
    },
    {
     "name": "stdout",
     "output_type": "stream",
     "text": [
      "Fetched number of followers ids for BCAppelbaum : 15000\n",
      "Getting Followers ids of beatonna\n"
     ]
    },
    {
     "name": "stderr",
     "output_type": "stream",
     "text": [
      "\r",
      " 13%|█▎        | 168/1288 [8:18:11<49:47:43, 160.06s/it]"
     ]
    },
    {
     "name": "stdout",
     "output_type": "stream",
     "text": [
      "Fetched number of followers ids for beatonna : 15000\n",
      "Getting Followers ids of BellaLack\n"
     ]
    },
    {
     "name": "stderr",
     "output_type": "stream",
     "text": [
      "\r",
      " 13%|█▎        | 169/1288 [8:18:14<35:07:59, 113.03s/it]"
     ]
    },
    {
     "name": "stdout",
     "output_type": "stream",
     "text": [
      "Fetched number of followers ids for BellaLack : 15000\n",
      "Getting Followers ids of benedictevans\n"
     ]
    },
    {
     "name": "stderr",
     "output_type": "stream",
     "text": [
      "\r",
      " 13%|█▎        | 170/1288 [8:18:15<24:42:34, 79.57s/it] "
     ]
    },
    {
     "name": "stdout",
     "output_type": "stream",
     "text": [
      "Fetched number of followers ids for benedictevans : 15000\n",
      "Getting Followers ids of benjaminwittes\n"
     ]
    },
    {
     "name": "stderr",
     "output_type": "stream",
     "text": [
      "Rate limit reached. Sleeping for: 892\n",
      " 13%|█▎        | 171/1288 [8:33:14<100:57:20, 325.37s/it]"
     ]
    },
    {
     "name": "stdout",
     "output_type": "stream",
     "text": [
      "Fetched number of followers ids for benjaminwittes : 15000\n",
      "Getting Followers ids of BenjySarlin\n"
     ]
    },
    {
     "name": "stderr",
     "output_type": "stream",
     "text": [
      "\r",
      " 13%|█▎        | 172/1288 [8:33:16<70:44:27, 228.20s/it] "
     ]
    },
    {
     "name": "stdout",
     "output_type": "stream",
     "text": [
      "Fetched number of followers ids for BenjySarlin : 15000\n",
      "Getting Followers ids of benlandis\n"
     ]
    },
    {
     "name": "stderr",
     "output_type": "stream",
     "text": [
      "\r",
      " 13%|█▎        | 173/1288 [8:33:20<49:52:04, 161.01s/it]"
     ]
    },
    {
     "name": "stdout",
     "output_type": "stream",
     "text": [
      "Fetched number of followers ids for benlandis : 15000\n",
      "Getting Followers ids of benyt\n"
     ]
    },
    {
     "name": "stderr",
     "output_type": "stream",
     "text": [
      "\r",
      " 14%|█▎        | 174/1288 [8:33:22<35:00:46, 113.15s/it]"
     ]
    },
    {
     "name": "stdout",
     "output_type": "stream",
     "text": [
      "Fetched number of followers ids for benyt : 15000\n",
      "Getting Followers ids of bgurley\n"
     ]
    },
    {
     "name": "stderr",
     "output_type": "stream",
     "text": [
      "\r",
      " 14%|█▎        | 175/1288 [8:33:23<24:37:19, 79.64s/it] "
     ]
    },
    {
     "name": "stdout",
     "output_type": "stream",
     "text": [
      "Fetched number of followers ids for bgurley : 15000\n",
      "Getting Followers ids of bigthink\n"
     ]
    },
    {
     "name": "stderr",
     "output_type": "stream",
     "text": [
      "Rate limit reached. Sleeping for: 889\n",
      " 14%|█▎        | 176/1288 [8:48:20<100:22:18, 324.95s/it]"
     ]
    },
    {
     "name": "stdout",
     "output_type": "stream",
     "text": [
      "Fetched number of followers ids for bigthink : 15000\n",
      "Getting Followers ids of billmckibben\n"
     ]
    },
    {
     "name": "stderr",
     "output_type": "stream",
     "text": [
      "\r",
      " 14%|█▎        | 177/1288 [8:48:24<70:29:50, 228.43s/it] "
     ]
    },
    {
     "name": "stdout",
     "output_type": "stream",
     "text": [
      "Fetched number of followers ids for billmckibben : 15000\n",
      "Getting Followers ids of BillWeirCNN\n"
     ]
    },
    {
     "name": "stderr",
     "output_type": "stream",
     "text": [
      "\r",
      " 14%|█▍        | 178/1288 [8:48:25<49:26:37, 160.36s/it]"
     ]
    },
    {
     "name": "stdout",
     "output_type": "stream",
     "text": [
      "Fetched number of followers ids for BillWeirCNN : 15000\n",
      "Getting Followers ids of billybragg\n"
     ]
    },
    {
     "name": "stderr",
     "output_type": "stream",
     "text": [
      "\r",
      " 14%|█▍        | 179/1288 [8:48:27<34:44:23, 112.77s/it]"
     ]
    },
    {
     "name": "stdout",
     "output_type": "stream",
     "text": [
      "Fetched number of followers ids for billybragg : 15000\n",
      "Getting Followers ids of bill_easterly\n"
     ]
    },
    {
     "name": "stderr",
     "output_type": "stream",
     "text": [
      "\r",
      " 14%|█▍        | 180/1288 [8:48:30<24:37:35, 80.01s/it] "
     ]
    },
    {
     "name": "stdout",
     "output_type": "stream",
     "text": [
      "Fetched number of followers ids for bill_easterly : 15000\n",
      "Getting Followers ids of Bill_Gross\n"
     ]
    },
    {
     "name": "stderr",
     "output_type": "stream",
     "text": [
      "Rate limit reached. Sleeping for: 889\n",
      " 14%|█▍        | 181/1288 [9:03:26<99:51:11, 324.73s/it]"
     ]
    },
    {
     "name": "stdout",
     "output_type": "stream",
     "text": [
      "Fetched number of followers ids for Bill_Gross : 15000\n",
      "Getting Followers ids of biz\n"
     ]
    },
    {
     "name": "stderr",
     "output_type": "stream",
     "text": [
      "\r",
      " 14%|█▍        | 182/1288 [9:03:28<69:59:22, 227.81s/it]"
     ]
    },
    {
     "name": "stdout",
     "output_type": "stream",
     "text": [
      "Fetched number of followers ids for biz : 15000\n",
      "Getting Followers ids of bmj_latest\n"
     ]
    },
    {
     "name": "stderr",
     "output_type": "stream",
     "text": [
      "\r",
      " 14%|█▍        | 183/1288 [9:03:30<49:06:23, 159.99s/it]"
     ]
    },
    {
     "name": "stdout",
     "output_type": "stream",
     "text": [
      "Fetched number of followers ids for bmj_latest : 15000\n",
      "Getting Followers ids of bobbyllew\n"
     ]
    },
    {
     "name": "stderr",
     "output_type": "stream",
     "text": [
      "\r",
      " 14%|█▍        | 184/1288 [9:03:31<34:29:28, 112.47s/it]"
     ]
    },
    {
     "name": "stdout",
     "output_type": "stream",
     "text": [
      "Fetched number of followers ids for bobbyllew : 15000\n",
      "Getting Followers ids of Bob_Wachter\n"
     ]
    },
    {
     "name": "stderr",
     "output_type": "stream",
     "text": [
      "\r",
      " 14%|█▍        | 185/1288 [9:03:33<24:15:31, 79.18s/it] "
     ]
    },
    {
     "name": "stdout",
     "output_type": "stream",
     "text": [
      "Fetched number of followers ids for Bob_Wachter : 15000\n",
      "Getting Followers ids of BogochIsaac\n"
     ]
    },
    {
     "name": "stderr",
     "output_type": "stream",
     "text": [
      "Rate limit reached. Sleeping for: 893\n",
      " 14%|█▍        | 186/1288 [9:18:32<99:35:29, 325.34s/it]"
     ]
    },
    {
     "name": "stdout",
     "output_type": "stream",
     "text": [
      "Fetched number of followers ids for BogochIsaac : 15000\n",
      "Getting Followers ids of BootstrapCook\n"
     ]
    },
    {
     "name": "stderr",
     "output_type": "stream",
     "text": [
      "\r",
      " 15%|█▍        | 187/1288 [9:18:34<69:47:32, 228.20s/it]"
     ]
    },
    {
     "name": "stdout",
     "output_type": "stream",
     "text": [
      "Fetched number of followers ids for BootstrapCook : 15000\n",
      "Getting Followers ids of BoredElonMusk\n"
     ]
    },
    {
     "name": "stderr",
     "output_type": "stream",
     "text": [
      "\r",
      " 15%|█▍        | 188/1288 [9:18:36<49:02:59, 160.53s/it]"
     ]
    },
    {
     "name": "stdout",
     "output_type": "stream",
     "text": [
      "Fetched number of followers ids for BoredElonMusk : 15000\n",
      "Getting Followers ids of BornFitness\n"
     ]
    },
    {
     "name": "stderr",
     "output_type": "stream",
     "text": [
      "\r",
      " 15%|█▍        | 189/1288 [9:18:38<34:26:28, 112.82s/it]"
     ]
    },
    {
     "name": "stdout",
     "output_type": "stream",
     "text": [
      "Fetched number of followers ids for BornFitness : 15000\n",
      "Getting Followers ids of Botanygeek\n"
     ]
    },
    {
     "name": "stderr",
     "output_type": "stream",
     "text": [
      "\r",
      " 15%|█▍        | 190/1288 [9:18:39<24:13:10, 79.41s/it] "
     ]
    },
    {
     "name": "stdout",
     "output_type": "stream",
     "text": [
      "Fetched number of followers ids for Botanygeek : 15000\n",
      "Getting Followers ids of boucherhayes\n"
     ]
    },
    {
     "name": "stderr",
     "output_type": "stream",
     "text": [
      "Rate limit reached. Sleeping for: 892\n",
      " 15%|█▍        | 191/1288 [9:33:38<99:07:17, 325.28s/it]"
     ]
    },
    {
     "name": "stdout",
     "output_type": "stream",
     "text": [
      "Fetched number of followers ids for boucherhayes : 15000\n",
      "Getting Followers ids of BradBirdA113\n"
     ]
    },
    {
     "name": "stderr",
     "output_type": "stream",
     "text": [
      "\r",
      " 15%|█▍        | 192/1288 [9:33:40<69:27:32, 228.15s/it]"
     ]
    },
    {
     "name": "stdout",
     "output_type": "stream",
     "text": [
      "Fetched number of followers ids for BradBirdA113 : 15000\n",
      "Getting Followers ids of BrankoMilan\n"
     ]
    },
    {
     "name": "stderr",
     "output_type": "stream",
     "text": [
      "\r",
      " 15%|█▍        | 193/1288 [9:33:41<48:42:42, 160.15s/it]"
     ]
    },
    {
     "name": "stdout",
     "output_type": "stream",
     "text": [
      "Fetched number of followers ids for BrankoMilan : 15000\n",
      "Getting Followers ids of BrendanEich\n"
     ]
    },
    {
     "name": "stderr",
     "output_type": "stream",
     "text": [
      "\r",
      " 15%|█▌        | 194/1288 [9:33:44<34:20:32, 113.01s/it]"
     ]
    },
    {
     "name": "stdout",
     "output_type": "stream",
     "text": [
      "Fetched number of followers ids for BrendanEich : 15000\n",
      "Getting Followers ids of BreneBrown\n"
     ]
    },
    {
     "name": "stderr",
     "output_type": "stream",
     "text": [
      "\r",
      " 15%|█▌        | 195/1288 [9:33:46<24:11:39, 79.69s/it] "
     ]
    },
    {
     "name": "stdout",
     "output_type": "stream",
     "text": [
      "Fetched number of followers ids for BreneBrown : 15000\n",
      "Getting Followers ids of BrentSpiner\n"
     ]
    },
    {
     "name": "stderr",
     "output_type": "stream",
     "text": [
      "Rate limit reached. Sleeping for: 892\n",
      " 15%|█▌        | 196/1288 [9:48:45<98:42:26, 325.41s/it]"
     ]
    },
    {
     "name": "stdout",
     "output_type": "stream",
     "text": [
      "Fetched number of followers ids for BrentSpiner : 15000\n",
      "Getting Followers ids of BrentToderian\n"
     ]
    },
    {
     "name": "stderr",
     "output_type": "stream",
     "text": [
      "\r",
      " 15%|█▌        | 197/1288 [9:48:47<69:10:01, 228.23s/it]"
     ]
    },
    {
     "name": "stdout",
     "output_type": "stream",
     "text": [
      "Fetched number of followers ids for BrentToderian : 15000\n",
      "Getting Followers ids of brianclark\n"
     ]
    },
    {
     "name": "stderr",
     "output_type": "stream",
     "text": [
      "\r",
      " 15%|█▌        | 198/1288 [9:48:48<48:30:23, 160.21s/it]"
     ]
    },
    {
     "name": "stdout",
     "output_type": "stream",
     "text": [
      "Fetched number of followers ids for brianclark : 15000\n",
      "Getting Followers ids of briankoppelman\n"
     ]
    },
    {
     "name": "stderr",
     "output_type": "stream",
     "text": [
      "\r",
      " 15%|█▌        | 199/1288 [9:48:50<34:03:48, 112.61s/it]"
     ]
    },
    {
     "name": "stdout",
     "output_type": "stream",
     "text": [
      "Fetched number of followers ids for briankoppelman : 15000\n",
      "Getting Followers ids of BriannaWu\n"
     ]
    },
    {
     "name": "stderr",
     "output_type": "stream",
     "text": [
      "\r",
      " 16%|█▌        | 200/1288 [9:48:51<23:57:58, 79.30s/it] "
     ]
    },
    {
     "name": "stdout",
     "output_type": "stream",
     "text": [
      "Fetched number of followers ids for BriannaWu : 15000\n",
      "Getting Followers ids of BridgetPhetasy\n"
     ]
    },
    {
     "name": "stderr",
     "output_type": "stream",
     "text": [
      "Rate limit reached. Sleeping for: 893\n",
      " 16%|█▌        | 201/1288 [10:03:51<98:18:17, 325.57s/it]"
     ]
    },
    {
     "name": "stdout",
     "output_type": "stream",
     "text": [
      "Fetched number of followers ids for BridgetPhetasy : 15000\n",
      "Getting Followers ids of brithume\n"
     ]
    },
    {
     "name": "stderr",
     "output_type": "stream",
     "text": [
      "\r",
      " 16%|█▌        | 202/1288 [10:03:53<68:53:19, 228.36s/it]"
     ]
    },
    {
     "name": "stdout",
     "output_type": "stream",
     "text": [
      "Fetched number of followers ids for brithume : 15000\n",
      "Getting Followers ids of bruce_arthur\n"
     ]
    },
    {
     "name": "stderr",
     "output_type": "stream",
     "text": [
      "\r",
      " 16%|█▌        | 203/1288 [10:03:55<48:19:09, 160.32s/it]"
     ]
    },
    {
     "name": "stdout",
     "output_type": "stream",
     "text": [
      "Fetched number of followers ids for bruce_arthur : 15000\n",
      "Getting Followers ids of CadeRageous\n"
     ]
    },
    {
     "name": "stderr",
     "output_type": "stream",
     "text": [
      "\r",
      " 16%|█▌        | 204/1288 [10:03:56<33:55:36, 112.67s/it]"
     ]
    },
    {
     "name": "stdout",
     "output_type": "stream",
     "text": [
      "Fetched number of followers ids for CadeRageous : 15000\n",
      "Getting Followers ids of caitlinmoran\n"
     ]
    },
    {
     "name": "stderr",
     "output_type": "stream",
     "text": [
      "\r",
      " 16%|█▌        | 205/1288 [10:03:58<23:51:50, 79.33s/it] "
     ]
    },
    {
     "name": "stdout",
     "output_type": "stream",
     "text": [
      "Fetched number of followers ids for caitlinmoran : 15000\n",
      "Getting Followers ids of carlbildt\n"
     ]
    },
    {
     "name": "stderr",
     "output_type": "stream",
     "text": [
      "Rate limit reached. Sleeping for: 894\n",
      " 16%|█▌        | 206/1288 [10:18:58<97:55:17, 325.80s/it]"
     ]
    },
    {
     "name": "stdout",
     "output_type": "stream",
     "text": [
      "Fetched number of followers ids for carlbildt : 15000\n",
      "Getting Followers ids of carolecadwalla\n"
     ]
    },
    {
     "name": "stderr",
     "output_type": "stream",
     "text": [
      "\r",
      " 16%|█▌        | 207/1288 [10:19:01<68:44:50, 228.95s/it]"
     ]
    },
    {
     "name": "stdout",
     "output_type": "stream",
     "text": [
      "Fetched number of followers ids for carolecadwalla : 15000\n",
      "Getting Followers ids of caroljsroth\n"
     ]
    },
    {
     "name": "stderr",
     "output_type": "stream",
     "text": [
      "\r",
      " 16%|█▌        | 208/1288 [10:19:05<48:22:08, 161.23s/it]"
     ]
    },
    {
     "name": "stdout",
     "output_type": "stream",
     "text": [
      "Fetched number of followers ids for caroljsroth : 15000\n",
      "Getting Followers ids of CaseyNewton\n"
     ]
    },
    {
     "name": "stderr",
     "output_type": "stream",
     "text": [
      "\r",
      " 16%|█▌        | 209/1288 [10:19:06<33:57:47, 113.32s/it]"
     ]
    },
    {
     "name": "stdout",
     "output_type": "stream",
     "text": [
      "Fetched number of followers ids for CaseyNewton : 15000\n",
      "Getting Followers ids of CassiniSaturn\n"
     ]
    },
    {
     "name": "stderr",
     "output_type": "stream",
     "text": [
      "\r",
      " 16%|█▋        | 210/1288 [10:19:08<23:53:31, 79.79s/it] "
     ]
    },
    {
     "name": "stdout",
     "output_type": "stream",
     "text": [
      "Fetched number of followers ids for CassiniSaturn : 15000\n",
      "Getting Followers ids of Caterina\n"
     ]
    },
    {
     "name": "stderr",
     "output_type": "stream",
     "text": [
      "Rate limit reached. Sleeping for: 890\n",
      " 16%|█▋        | 211/1288 [10:34:04<97:11:30, 324.88s/it]"
     ]
    },
    {
     "name": "stdout",
     "output_type": "stream",
     "text": [
      "Fetched number of followers ids for Caterina : 15000\n",
      "Getting Followers ids of cathmckenna\n"
     ]
    },
    {
     "name": "stderr",
     "output_type": "stream",
     "text": [
      "\r",
      " 16%|█▋        | 212/1288 [10:34:06<68:06:40, 227.88s/it]"
     ]
    },
    {
     "name": "stdout",
     "output_type": "stream",
     "text": [
      "Fetched number of followers ids for cathmckenna : 15000\n",
      "Getting Followers ids of CBSHealth\n"
     ]
    },
    {
     "name": "stderr",
     "output_type": "stream",
     "text": [
      "\r",
      " 17%|█▋        | 213/1288 [10:34:09<47:55:57, 160.52s/it]"
     ]
    },
    {
     "name": "stdout",
     "output_type": "stream",
     "text": [
      "Fetched number of followers ids for CBSHealth : 15000\n",
      "Getting Followers ids of CCriadoPerez\n"
     ]
    },
    {
     "name": "stderr",
     "output_type": "stream",
     "text": [
      "\r",
      " 17%|█▋        | 214/1288 [10:34:11<33:39:22, 112.81s/it]"
     ]
    },
    {
     "name": "stdout",
     "output_type": "stream",
     "text": [
      "Fetched number of followers ids for CCriadoPerez : 15000\n",
      "Getting Followers ids of CDisillusion\n"
     ]
    },
    {
     "name": "stderr",
     "output_type": "stream",
     "text": [
      "\r",
      " 17%|█▋        | 215/1288 [10:34:12<23:39:58, 79.40s/it] "
     ]
    },
    {
     "name": "stdout",
     "output_type": "stream",
     "text": [
      "Fetched number of followers ids for CDisillusion : 15000\n",
      "Getting Followers ids of CellPressNews\n"
     ]
    },
    {
     "name": "stderr",
     "output_type": "stream",
     "text": [
      "Rate limit reached. Sleeping for: 892\n",
      " 17%|█▋        | 216/1288 [10:49:11<96:50:19, 325.20s/it]"
     ]
    },
    {
     "name": "stdout",
     "output_type": "stream",
     "text": [
      "Fetched number of followers ids for CellPressNews : 15000\n",
      "Getting Followers ids of charliepick\n"
     ]
    },
    {
     "name": "stderr",
     "output_type": "stream",
     "text": [
      "\r",
      " 17%|█▋        | 217/1288 [10:49:13<67:51:19, 228.09s/it]"
     ]
    },
    {
     "name": "stdout",
     "output_type": "stream",
     "text": [
      "Fetched number of followers ids for charliepick : 15000\n",
      "Getting Followers ids of ChelseaClinton\n"
     ]
    },
    {
     "name": "stderr",
     "output_type": "stream",
     "text": [
      "\r",
      " 17%|█▋        | 218/1288 [10:49:14<47:35:20, 160.11s/it]"
     ]
    },
    {
     "name": "stdout",
     "output_type": "stream",
     "text": [
      "Fetched number of followers ids for ChelseaClinton : 15000\n",
      "Getting Followers ids of ChemistPD\n"
     ]
    },
    {
     "name": "stderr",
     "output_type": "stream",
     "text": [
      "\r",
      " 17%|█▋        | 219/1288 [10:49:16<33:24:52, 112.53s/it]"
     ]
    },
    {
     "name": "stdout",
     "output_type": "stream",
     "text": [
      "Fetched number of followers ids for ChemistPD : 15000\n",
      "Getting Followers ids of ChemistryWorld\n"
     ]
    },
    {
     "name": "stderr",
     "output_type": "stream",
     "text": [
      "\r",
      " 17%|█▋        | 220/1288 [10:49:17<23:30:33, 79.25s/it] "
     ]
    },
    {
     "name": "stdout",
     "output_type": "stream",
     "text": [
      "Fetched number of followers ids for ChemistryWorld : 15000\n",
      "Getting Followers ids of chescaleigh\n"
     ]
    },
    {
     "name": "stderr",
     "output_type": "stream",
     "text": [
      "Rate limit reached. Sleeping for: 893\n",
      " 17%|█▋        | 221/1288 [11:04:17<96:26:59, 325.42s/it]"
     ]
    },
    {
     "name": "stdout",
     "output_type": "stream",
     "text": [
      "Fetched number of followers ids for chescaleigh : 15000\n",
      "Getting Followers ids of choo_ek\n"
     ]
    },
    {
     "name": "stderr",
     "output_type": "stream",
     "text": [
      "\r",
      " 17%|█▋        | 222/1288 [11:04:19<67:35:31, 228.27s/it]"
     ]
    },
    {
     "name": "stdout",
     "output_type": "stream",
     "text": [
      "Fetched number of followers ids for choo_ek : 15000\n",
      "Getting Followers ids of chr1sa\n"
     ]
    },
    {
     "name": "stderr",
     "output_type": "stream",
     "text": [
      "\r",
      " 17%|█▋        | 223/1288 [11:04:23<47:38:17, 161.03s/it]"
     ]
    },
    {
     "name": "stdout",
     "output_type": "stream",
     "text": [
      "Fetched number of followers ids for chr1sa : 15000\n",
      "Getting Followers ids of chrischirp\n"
     ]
    },
    {
     "name": "stderr",
     "output_type": "stream",
     "text": [
      "\r",
      " 17%|█▋        | 224/1288 [11:04:24<33:27:26, 113.20s/it]"
     ]
    },
    {
     "name": "stdout",
     "output_type": "stream",
     "text": [
      "Fetched number of followers ids for chrischirp : 15000\n",
      "Getting Followers ids of chrisgeidner\n"
     ]
    },
    {
     "name": "stderr",
     "output_type": "stream",
     "text": [
      "\r",
      " 17%|█▋        | 225/1288 [11:04:26<23:33:08, 79.76s/it] "
     ]
    },
    {
     "name": "stdout",
     "output_type": "stream",
     "text": [
      "Fetched number of followers ids for chrisgeidner : 15000\n",
      "Getting Followers ids of chrisguillebeau\n"
     ]
    },
    {
     "name": "stderr",
     "output_type": "stream",
     "text": [
      "Rate limit reached. Sleeping for: 890\n",
      " 18%|█▊        | 226/1288 [11:19:23<95:49:48, 324.85s/it]"
     ]
    },
    {
     "name": "stdout",
     "output_type": "stream",
     "text": [
      "Fetched number of followers ids for chrisguillebeau : 15000\n",
      "Getting Followers ids of chrislhayes\n"
     ]
    },
    {
     "name": "stderr",
     "output_type": "stream",
     "text": [
      "\r",
      " 18%|█▊        | 227/1288 [11:19:24<67:08:57, 227.84s/it]"
     ]
    },
    {
     "name": "stdout",
     "output_type": "stream",
     "text": [
      "Fetched number of followers ids for chrislhayes : 15000\n",
      "Getting Followers ids of ChrisWarcraft\n"
     ]
    },
    {
     "name": "stderr",
     "output_type": "stream",
     "text": [
      "\r",
      " 18%|█▊        | 228/1288 [11:19:26<47:05:47, 159.95s/it]"
     ]
    },
    {
     "name": "stdout",
     "output_type": "stream",
     "text": [
      "Fetched number of followers ids for ChrisWarcraft : 15000\n",
      "Getting Followers ids of CHSommers\n"
     ]
    },
    {
     "name": "stderr",
     "output_type": "stream",
     "text": [
      "\r",
      " 18%|█▊        | 229/1288 [11:19:27<33:04:10, 112.42s/it]"
     ]
    },
    {
     "name": "stdout",
     "output_type": "stream",
     "text": [
      "Fetched number of followers ids for CHSommers : 15000\n",
      "Getting Followers ids of ChuckWendig\n"
     ]
    },
    {
     "name": "stderr",
     "output_type": "stream",
     "text": [
      "\r",
      " 18%|█▊        | 230/1288 [11:19:29<23:16:10, 79.18s/it] "
     ]
    },
    {
     "name": "stdout",
     "output_type": "stream",
     "text": [
      "Fetched number of followers ids for ChuckWendig : 15000\n",
      "Getting Followers ids of cindi_leive\n"
     ]
    },
    {
     "name": "stderr",
     "output_type": "stream",
     "text": [
      "Rate limit reached. Sleeping for: 893\n",
      " 18%|█▊        | 231/1288 [11:34:29<95:31:36, 325.35s/it]"
     ]
    },
    {
     "name": "stdout",
     "output_type": "stream",
     "text": [
      "Fetched number of followers ids for cindi_leive : 15000\n",
      "Getting Followers ids of clairlemon\n"
     ]
    },
    {
     "name": "stderr",
     "output_type": "stream",
     "text": [
      "\r",
      " 18%|█▊        | 232/1288 [11:34:30<66:56:25, 228.21s/it]"
     ]
    },
    {
     "name": "stdout",
     "output_type": "stream",
     "text": [
      "Fetched number of followers ids for clairlemon : 15000\n",
      "Getting Followers ids of ClaraJeffery\n"
     ]
    },
    {
     "name": "stderr",
     "output_type": "stream",
     "text": [
      "\r",
      " 18%|█▊        | 233/1288 [11:34:32<46:56:40, 160.19s/it]"
     ]
    },
    {
     "name": "stdout",
     "output_type": "stream",
     "text": [
      "Fetched number of followers ids for ClaraJeffery : 15000\n",
      "Getting Followers ids of ClareMalone\n"
     ]
    },
    {
     "name": "stderr",
     "output_type": "stream",
     "text": [
      "\r",
      " 18%|█▊        | 234/1288 [11:34:33<32:57:26, 112.57s/it]"
     ]
    },
    {
     "name": "stdout",
     "output_type": "stream",
     "text": [
      "Fetched number of followers ids for ClareMalone : 15000\n",
      "Getting Followers ids of ClarkeMicah\n"
     ]
    },
    {
     "name": "stderr",
     "output_type": "stream",
     "text": [
      "\r",
      " 18%|█▊        | 235/1288 [11:34:35<23:10:42, 79.24s/it] "
     ]
    },
    {
     "name": "stdout",
     "output_type": "stream",
     "text": [
      "Fetched number of followers ids for ClarkeMicah : 15000\n",
      "Getting Followers ids of clementine_ford\n"
     ]
    },
    {
     "name": "stderr",
     "output_type": "stream",
     "text": [
      "Rate limit reached. Sleeping for: 894\n",
      " 18%|█▊        | 236/1288 [11:49:35<95:10:50, 325.71s/it]"
     ]
    },
    {
     "name": "stdout",
     "output_type": "stream",
     "text": [
      "Fetched number of followers ids for clementine_ford : 15000\n",
      "Getting Followers ids of ClintSmithIII\n"
     ]
    },
    {
     "name": "stderr",
     "output_type": "stream",
     "text": [
      "\r",
      " 18%|█▊        | 237/1288 [11:49:37<66:41:31, 228.44s/it]"
     ]
    },
    {
     "name": "stdout",
     "output_type": "stream",
     "text": [
      "Fetched number of followers ids for ClintSmithIII : 15000\n",
      "Getting Followers ids of clmazin\n"
     ]
    },
    {
     "name": "stderr",
     "output_type": "stream",
     "text": [
      "\r",
      " 18%|█▊        | 238/1288 [11:49:38<46:46:18, 160.36s/it]"
     ]
    },
    {
     "name": "stdout",
     "output_type": "stream",
     "text": [
      "Fetched number of followers ids for clmazin : 15000\n",
      "Getting Followers ids of cmclymer\n"
     ]
    },
    {
     "name": "stderr",
     "output_type": "stream",
     "text": [
      "\r",
      " 19%|█▊        | 239/1288 [11:49:40<32:50:21, 112.70s/it]"
     ]
    },
    {
     "name": "stdout",
     "output_type": "stream",
     "text": [
      "Fetched number of followers ids for cmclymer : 15000\n",
      "Getting Followers ids of Cmdr_Hadfield\n"
     ]
    },
    {
     "name": "stderr",
     "output_type": "stream",
     "text": [
      "\r",
      " 19%|█▊        | 240/1288 [11:49:41<23:06:06, 79.36s/it] "
     ]
    },
    {
     "name": "stdout",
     "output_type": "stream",
     "text": [
      "Fetched number of followers ids for Cmdr_Hadfield : 15000\n",
      "Getting Followers ids of CMichaelGibson\n"
     ]
    },
    {
     "name": "stderr",
     "output_type": "stream",
     "text": [
      "Rate limit reached. Sleeping for: 894\n",
      " 19%|█▊        | 241/1288 [12:04:42<94:44:34, 325.76s/it]"
     ]
    },
    {
     "name": "stdout",
     "output_type": "stream",
     "text": [
      "Fetched number of followers ids for CMichaelGibson : 15000\n",
      "Getting Followers ids of codinghorror\n"
     ]
    },
    {
     "name": "stderr",
     "output_type": "stream",
     "text": [
      "\r",
      " 19%|█▉        | 242/1288 [12:04:44<66:23:01, 228.47s/it]"
     ]
    },
    {
     "name": "stdout",
     "output_type": "stream",
     "text": [
      "Fetched number of followers ids for codinghorror : 15000\n",
      "Getting Followers ids of coldxman\n"
     ]
    },
    {
     "name": "stderr",
     "output_type": "stream",
     "text": [
      "\r",
      " 19%|█▉        | 243/1288 [12:04:45<46:33:16, 160.38s/it]"
     ]
    },
    {
     "name": "stdout",
     "output_type": "stream",
     "text": [
      "Fetched number of followers ids for coldxman : 15000\n",
      "Getting Followers ids of colsonwhitehead\n"
     ]
    },
    {
     "name": "stderr",
     "output_type": "stream",
     "text": [
      "\r",
      " 19%|█▉        | 244/1288 [12:04:47<32:41:21, 112.72s/it]"
     ]
    },
    {
     "name": "stdout",
     "output_type": "stream",
     "text": [
      "Fetched number of followers ids for colsonwhitehead : 15000\n",
      "Getting Followers ids of comex\n"
     ]
    },
    {
     "name": "stderr",
     "output_type": "stream",
     "text": [
      "\r",
      " 19%|█▉        | 245/1288 [12:04:48<22:59:28, 79.36s/it] "
     ]
    },
    {
     "name": "stdout",
     "output_type": "stream",
     "text": [
      "Fetched number of followers ids for comex : 15000\n",
      "Getting Followers ids of conradhackett\n"
     ]
    },
    {
     "name": "stderr",
     "output_type": "stream",
     "text": [
      "Rate limit reached. Sleeping for: 893\n",
      " 19%|█▉        | 246/1288 [12:19:48<94:12:40, 325.49s/it]"
     ]
    },
    {
     "name": "stdout",
     "output_type": "stream",
     "text": [
      "Fetched number of followers ids for conradhackett : 15000\n",
      "Getting Followers ids of ContraPoints\n"
     ]
    },
    {
     "name": "stderr",
     "output_type": "stream",
     "text": [
      "\r",
      " 19%|█▉        | 247/1288 [12:19:49<66:00:36, 228.28s/it]"
     ]
    },
    {
     "name": "stdout",
     "output_type": "stream",
     "text": [
      "Fetched number of followers ids for ContraPoints : 15000\n",
      "Getting Followers ids of ConversationEDU\n"
     ]
    },
    {
     "name": "stderr",
     "output_type": "stream",
     "text": [
      "\r",
      " 19%|█▉        | 248/1288 [12:19:51<46:18:51, 160.32s/it]"
     ]
    },
    {
     "name": "stdout",
     "output_type": "stream",
     "text": [
      "Fetched number of followers ids for ConversationEDU : 15000\n",
      "Getting Followers ids of ConversationUK\n"
     ]
    },
    {
     "name": "stderr",
     "output_type": "stream",
     "text": [
      "\r",
      " 19%|█▉        | 249/1288 [12:19:53<32:30:59, 112.67s/it]"
     ]
    },
    {
     "name": "stdout",
     "output_type": "stream",
     "text": [
      "Fetched number of followers ids for ConversationUK : 15000\n",
      "Getting Followers ids of coollike\n"
     ]
    },
    {
     "name": "stderr",
     "output_type": "stream",
     "text": [
      "\r",
      " 19%|█▉        | 250/1288 [12:19:54<22:52:01, 79.31s/it] "
     ]
    },
    {
     "name": "stdout",
     "output_type": "stream",
     "text": [
      "Fetched number of followers ids for coollike : 15000\n",
      "Getting Followers ids of Craig_A_Spencer\n"
     ]
    },
    {
     "name": "stderr",
     "output_type": "stream",
     "text": [
      "Rate limit reached. Sleeping for: 893\n",
      " 19%|█▉        | 251/1288 [12:34:54<93:45:54, 325.51s/it]"
     ]
    },
    {
     "name": "stdout",
     "output_type": "stream",
     "text": [
      "Fetched number of followers ids for Craig_A_Spencer : 15000\n",
      "Getting Followers ids of crampell\n"
     ]
    },
    {
     "name": "stderr",
     "output_type": "stream",
     "text": [
      "\r",
      " 20%|█▉        | 252/1288 [12:34:56<65:42:06, 228.31s/it]"
     ]
    },
    {
     "name": "stdout",
     "output_type": "stream",
     "text": [
      "Fetched number of followers ids for crampell : 15000\n",
      "Getting Followers ids of cshirky\n"
     ]
    },
    {
     "name": "stderr",
     "output_type": "stream",
     "text": [
      "\r",
      " 20%|█▉        | 253/1288 [12:34:57<46:04:30, 160.26s/it]"
     ]
    },
    {
     "name": "stdout",
     "output_type": "stream",
     "text": [
      "Fetched number of followers ids for cshirky : 15000\n",
      "Getting Followers ids of CSIRO\n"
     ]
    },
    {
     "name": "stderr",
     "output_type": "stream",
     "text": [
      "\r",
      " 20%|█▉        | 254/1288 [12:34:58<32:20:50, 112.62s/it]"
     ]
    },
    {
     "name": "stdout",
     "output_type": "stream",
     "text": [
      "Fetched number of followers ids for CSIRO : 15000\n",
      "Getting Followers ids of curaffairs\n"
     ]
    },
    {
     "name": "stderr",
     "output_type": "stream",
     "text": [
      "\r",
      " 20%|█▉        | 255/1288 [12:35:00<22:45:03, 79.29s/it] "
     ]
    },
    {
     "name": "stdout",
     "output_type": "stream",
     "text": [
      "Fetched number of followers ids for curaffairs : 15000\n",
      "Getting Followers ids of cvaldary\n"
     ]
    },
    {
     "name": "stderr",
     "output_type": "stream",
     "text": [
      "Rate limit reached. Sleeping for: 893\n",
      " 20%|█▉        | 256/1288 [12:50:00<93:17:15, 325.42s/it]"
     ]
    },
    {
     "name": "stdout",
     "output_type": "stream",
     "text": [
      "Fetched number of followers ids for cvaldary : 15000\n",
      "Getting Followers ids of cwarzel\n"
     ]
    },
    {
     "name": "stderr",
     "output_type": "stream",
     "text": [
      "\r",
      " 20%|█▉        | 257/1288 [12:50:01<65:21:53, 228.24s/it]"
     ]
    },
    {
     "name": "stdout",
     "output_type": "stream",
     "text": [
      "Fetched number of followers ids for cwarzel : 15000\n",
      "Getting Followers ids of DAaronovitch\n"
     ]
    },
    {
     "name": "stderr",
     "output_type": "stream",
     "text": [
      "\r",
      " 20%|██        | 258/1288 [12:50:03<45:50:19, 160.21s/it]"
     ]
    },
    {
     "name": "stdout",
     "output_type": "stream",
     "text": [
      "Fetched number of followers ids for DAaronovitch : 15000\n",
      "Getting Followers ids of dandrezner\n"
     ]
    },
    {
     "name": "stderr",
     "output_type": "stream",
     "text": [
      "\r",
      " 20%|██        | 259/1288 [12:50:04<32:11:02, 112.60s/it]"
     ]
    },
    {
     "name": "stdout",
     "output_type": "stream",
     "text": [
      "Fetched number of followers ids for dandrezner : 15000\n",
      "Getting Followers ids of DanielJHannan\n"
     ]
    },
    {
     "name": "stderr",
     "output_type": "stream",
     "text": [
      "\r",
      " 20%|██        | 260/1288 [12:50:06<22:38:05, 79.27s/it] "
     ]
    },
    {
     "name": "stdout",
     "output_type": "stream",
     "text": [
      "Fetched number of followers ids for DanielJHannan : 15000\n",
      "Getting Followers ids of DanielPink\n"
     ]
    },
    {
     "name": "stderr",
     "output_type": "stream",
     "text": [
      "Rate limit reached. Sleeping for: 894\n",
      " 20%|██        | 261/1288 [13:05:08<93:01:14, 326.07s/it]"
     ]
    },
    {
     "name": "stdout",
     "output_type": "stream",
     "text": [
      "Fetched number of followers ids for DanielPink : 15000\n",
      "Getting Followers ids of dannysullivan\n"
     ]
    },
    {
     "name": "stderr",
     "output_type": "stream",
     "text": [
      "\r",
      " 20%|██        | 262/1288 [13:05:09<65:10:37, 228.69s/it]"
     ]
    },
    {
     "name": "stdout",
     "output_type": "stream",
     "text": [
      "Fetched number of followers ids for dannysullivan : 15000\n",
      "Getting Followers ids of Dannythefink\n"
     ]
    },
    {
     "name": "stderr",
     "output_type": "stream",
     "text": [
      "\r",
      " 20%|██        | 263/1288 [13:05:11<45:42:18, 160.53s/it]"
     ]
    },
    {
     "name": "stdout",
     "output_type": "stream",
     "text": [
      "Fetched number of followers ids for Dannythefink : 15000\n",
      "Getting Followers ids of dannywallace\n"
     ]
    },
    {
     "name": "stderr",
     "output_type": "stream",
     "text": [
      "\r",
      " 20%|██        | 264/1288 [13:05:12<32:06:52, 112.90s/it]"
     ]
    },
    {
     "name": "stdout",
     "output_type": "stream",
     "text": [
      "Fetched number of followers ids for dannywallace : 15000\n",
      "Getting Followers ids of DanSlott\n"
     ]
    },
    {
     "name": "stderr",
     "output_type": "stream",
     "text": [
      "\r",
      " 21%|██        | 265/1288 [13:05:14<22:35:08, 79.48s/it] "
     ]
    },
    {
     "name": "stdout",
     "output_type": "stream",
     "text": [
      "Fetched number of followers ids for DanSlott : 15000\n",
      "Getting Followers ids of daraobriain\n"
     ]
    },
    {
     "name": "stderr",
     "output_type": "stream",
     "text": [
      "Rate limit reached. Sleeping for: 892\n",
      " 21%|██        | 266/1288 [13:20:13<92:20:20, 325.26s/it]"
     ]
    },
    {
     "name": "stdout",
     "output_type": "stream",
     "text": [
      "Fetched number of followers ids for daraobriain : 15000\n",
      "Getting Followers ids of davemorin\n"
     ]
    },
    {
     "name": "stderr",
     "output_type": "stream",
     "text": [
      "\r",
      " 21%|██        | 267/1288 [13:20:14<64:42:03, 228.13s/it]"
     ]
    },
    {
     "name": "stdout",
     "output_type": "stream",
     "text": [
      "Fetched number of followers ids for davemorin : 15000\n",
      "Getting Followers ids of DavidAFrench\n"
     ]
    },
    {
     "name": "stderr",
     "output_type": "stream",
     "text": [
      "\r",
      " 21%|██        | 268/1288 [13:20:16<45:22:15, 160.13s/it]"
     ]
    },
    {
     "name": "stdout",
     "output_type": "stream",
     "text": [
      "Fetched number of followers ids for DavidAFrench : 15000\n",
      "Getting Followers ids of davidasinclair\n"
     ]
    },
    {
     "name": "stderr",
     "output_type": "stream",
     "text": [
      "\r",
      " 21%|██        | 269/1288 [13:20:17<31:51:31, 112.55s/it]"
     ]
    },
    {
     "name": "stdout",
     "output_type": "stream",
     "text": [
      "Fetched number of followers ids for davidasinclair : 15000\n",
      "Getting Followers ids of DavidBlue\n"
     ]
    },
    {
     "name": "stderr",
     "output_type": "stream",
     "text": [
      "\r",
      " 21%|██        | 270/1288 [13:20:19<22:24:26, 79.24s/it] "
     ]
    },
    {
     "name": "stdout",
     "output_type": "stream",
     "text": [
      "Fetched number of followers ids for DavidBlue : 15000\n",
      "Getting Followers ids of davidgraeber\n"
     ]
    },
    {
     "name": "stderr",
     "output_type": "stream",
     "text": [
      "Rate limit reached. Sleeping for: 892\n",
      " 21%|██        | 271/1288 [13:35:19<91:56:34, 325.46s/it]"
     ]
    },
    {
     "name": "stdout",
     "output_type": "stream",
     "text": [
      "Fetched number of followers ids for davidgraeber : 15000\n",
      "Getting Followers ids of DavidOlusoga\n"
     ]
    },
    {
     "name": "stderr",
     "output_type": "stream",
     "text": [
      "\r",
      " 21%|██        | 272/1288 [13:35:20<64:25:30, 228.28s/it]"
     ]
    },
    {
     "name": "stdout",
     "output_type": "stream",
     "text": [
      "Fetched number of followers ids for DavidOlusoga : 15000\n",
      "Getting Followers ids of david_j_roth\n"
     ]
    },
    {
     "name": "stderr",
     "output_type": "stream",
     "text": [
      "\r",
      " 21%|██        | 273/1288 [13:35:22<45:10:51, 160.25s/it]"
     ]
    },
    {
     "name": "stdout",
     "output_type": "stream",
     "text": [
      "Fetched number of followers ids for david_j_roth : 15000\n",
      "Getting Followers ids of dawallach\n"
     ]
    },
    {
     "name": "stderr",
     "output_type": "stream",
     "text": [
      "\r",
      " 21%|██▏       | 274/1288 [13:35:23<31:43:21, 112.62s/it]"
     ]
    },
    {
     "name": "stdout",
     "output_type": "stream",
     "text": [
      "Fetched number of followers ids for dawallach : 15000\n",
      "Getting Followers ids of dccommonsense\n"
     ]
    },
    {
     "name": "stderr",
     "output_type": "stream",
     "text": [
      "\r",
      " 21%|██▏       | 275/1288 [13:35:25<22:18:41, 79.29s/it] "
     ]
    },
    {
     "name": "stdout",
     "output_type": "stream",
     "text": [
      "Fetched number of followers ids for dccommonsense : 15000\n",
      "Getting Followers ids of ddiamond\n"
     ]
    },
    {
     "name": "stderr",
     "output_type": "stream",
     "text": [
      "Rate limit reached. Sleeping for: 893\n",
      " 21%|██▏       | 276/1288 [13:50:24<91:28:39, 325.41s/it]"
     ]
    },
    {
     "name": "stdout",
     "output_type": "stream",
     "text": [
      "Fetched number of followers ids for ddiamond : 15000\n",
      "Getting Followers ids of DeborahMeaden\n"
     ]
    },
    {
     "name": "stderr",
     "output_type": "stream",
     "text": [
      "\r",
      " 22%|██▏       | 277/1288 [13:50:26<64:05:36, 228.23s/it]"
     ]
    },
    {
     "name": "stdout",
     "output_type": "stream",
     "text": [
      "Fetched number of followers ids for DeborahMeaden : 15000\n",
      "Getting Followers ids of debsylee\n"
     ]
    },
    {
     "name": "stderr",
     "output_type": "stream",
     "text": [
      "\r",
      " 22%|██▏       | 278/1288 [13:50:27<44:56:45, 160.20s/it]"
     ]
    },
    {
     "name": "stdout",
     "output_type": "stream",
     "text": [
      "Fetched number of followers ids for debsylee : 15000\n",
      "Getting Followers ids of Delavegalaw\n"
     ]
    },
    {
     "name": "stderr",
     "output_type": "stream",
     "text": [
      "\r",
      " 22%|██▏       | 279/1288 [13:50:29<31:33:16, 112.58s/it]"
     ]
    },
    {
     "name": "stdout",
     "output_type": "stream",
     "text": [
      "Fetched number of followers ids for Delavegalaw : 15000\n",
      "Getting Followers ids of delbius\n"
     ]
    },
    {
     "name": "stderr",
     "output_type": "stream",
     "text": [
      "\r",
      " 22%|██▏       | 280/1288 [13:50:30<22:11:39, 79.27s/it] "
     ]
    },
    {
     "name": "stdout",
     "output_type": "stream",
     "text": [
      "Fetched number of followers ids for delbius : 15000\n",
      "Getting Followers ids of DerekAudette\n"
     ]
    },
    {
     "name": "stderr",
     "output_type": "stream",
     "text": [
      "Rate limit reached. Sleeping for: 893\n",
      " 22%|██▏       | 281/1288 [14:05:30<91:01:28, 325.41s/it]"
     ]
    },
    {
     "name": "stdout",
     "output_type": "stream",
     "text": [
      "Fetched number of followers ids for DerekAudette : 15000\n",
      "Getting Followers ids of designmom\n"
     ]
    },
    {
     "name": "stderr",
     "output_type": "stream",
     "text": [
      "\r",
      " 22%|██▏       | 282/1288 [14:05:32<63:46:43, 228.23s/it]"
     ]
    },
    {
     "name": "stdout",
     "output_type": "stream",
     "text": [
      "Fetched number of followers ids for designmom : 15000\n",
      "Getting Followers ids of devisridhar\n"
     ]
    },
    {
     "name": "stderr",
     "output_type": "stream",
     "text": [
      "\r",
      " 22%|██▏       | 283/1288 [14:05:33<44:43:26, 160.21s/it]"
     ]
    },
    {
     "name": "stdout",
     "output_type": "stream",
     "text": [
      "Fetched number of followers ids for devisridhar : 15000\n",
      "Getting Followers ids of dgurdasani1\n"
     ]
    },
    {
     "name": "stderr",
     "output_type": "stream",
     "text": [
      "\r",
      " 22%|██▏       | 284/1288 [14:05:34<31:23:59, 112.59s/it]"
     ]
    },
    {
     "name": "stdout",
     "output_type": "stream",
     "text": [
      "Fetched number of followers ids for dgurdasani1 : 15000\n",
      "Getting Followers ids of dickc\n"
     ]
    },
    {
     "name": "stderr",
     "output_type": "stream",
     "text": [
      "\r",
      " 22%|██▏       | 285/1288 [14:05:36<22:05:18, 79.28s/it] "
     ]
    },
    {
     "name": "stdout",
     "output_type": "stream",
     "text": [
      "Fetched number of followers ids for dickc : 15000\n",
      "Getting Followers ids of digiphile\n"
     ]
    },
    {
     "name": "stderr",
     "output_type": "stream",
     "text": [
      "Rate limit reached. Sleeping for: 892\n",
      " 22%|██▏       | 286/1288 [14:20:35<90:29:36, 325.13s/it]"
     ]
    },
    {
     "name": "stdout",
     "output_type": "stream",
     "text": [
      "Fetched number of followers ids for digiphile : 15000\n",
      "Getting Followers ids of DiscoverMag\n"
     ]
    },
    {
     "name": "stderr",
     "output_type": "stream",
     "text": [
      "\r",
      " 22%|██▏       | 287/1288 [14:20:37<63:26:08, 228.14s/it]"
     ]
    },
    {
     "name": "stdout",
     "output_type": "stream",
     "text": [
      "Fetched number of followers ids for DiscoverMag : 15000\n",
      "Getting Followers ids of DJSnM\n"
     ]
    },
    {
     "name": "stderr",
     "output_type": "stream",
     "text": [
      "\r",
      " 22%|██▏       | 288/1288 [14:20:38<44:29:11, 160.15s/it]"
     ]
    },
    {
     "name": "stdout",
     "output_type": "stream",
     "text": [
      "Fetched number of followers ids for DJSnM : 15000\n",
      "Getting Followers ids of DKThomp\n"
     ]
    },
    {
     "name": "stderr",
     "output_type": "stream",
     "text": [
      "\r",
      " 22%|██▏       | 289/1288 [14:20:40<31:14:11, 112.56s/it]"
     ]
    },
    {
     "name": "stdout",
     "output_type": "stream",
     "text": [
      "Fetched number of followers ids for DKThomp : 15000\n",
      "Getting Followers ids of DLeonhardt\n"
     ]
    },
    {
     "name": "stderr",
     "output_type": "stream",
     "text": [
      "\r",
      " 23%|██▎       | 290/1288 [14:20:41<21:59:38, 79.34s/it] "
     ]
    },
    {
     "name": "stdout",
     "output_type": "stream",
     "text": [
      "Fetched number of followers ids for DLeonhardt : 15000\n",
      "Getting Followers ids of docrocktex26\n"
     ]
    },
    {
     "name": "stderr",
     "output_type": "stream",
     "text": [
      "Rate limit reached. Sleeping for: 892\n",
      " 23%|██▎       | 291/1288 [14:35:40<90:03:28, 325.18s/it]"
     ]
    },
    {
     "name": "stdout",
     "output_type": "stream",
     "text": [
      "Fetched number of followers ids for docrocktex26 : 15000\n",
      "Getting Followers ids of DoctorChristian\n"
     ]
    },
    {
     "name": "stderr",
     "output_type": "stream",
     "text": [
      "\r",
      " 23%|██▎       | 292/1288 [14:35:42<63:06:09, 228.08s/it]"
     ]
    },
    {
     "name": "stdout",
     "output_type": "stream",
     "text": [
      "Fetched number of followers ids for DoctorChristian : 15000\n",
      "Getting Followers ids of DoctorKarl\n"
     ]
    },
    {
     "name": "stderr",
     "output_type": "stream",
     "text": [
      "\r",
      " 23%|██▎       | 293/1288 [14:35:43<44:15:06, 160.11s/it]"
     ]
    },
    {
     "name": "stdout",
     "output_type": "stream",
     "text": [
      "Fetched number of followers ids for DoctorKarl : 15000\n",
      "Getting Followers ids of DoctorPete\n"
     ]
    },
    {
     "name": "stderr",
     "output_type": "stream",
     "text": [
      "\r",
      " 23%|██▎       | 294/1288 [14:35:45<31:06:14, 112.65s/it]"
     ]
    },
    {
     "name": "stdout",
     "output_type": "stream",
     "text": [
      "Fetched number of followers ids for DoctorPete : 15000\n",
      "Getting Followers ids of doctorsoumya\n"
     ]
    },
    {
     "name": "stderr",
     "output_type": "stream",
     "text": [
      "\r",
      " 23%|██▎       | 295/1288 [14:35:47<21:52:21, 79.30s/it] "
     ]
    },
    {
     "name": "stdout",
     "output_type": "stream",
     "text": [
      "Fetched number of followers ids for doctorsoumya : 15000\n",
      "Getting Followers ids of doctor_oxford\n"
     ]
    },
    {
     "name": "stderr",
     "output_type": "stream",
     "text": [
      "Rate limit reached. Sleeping for: 892\n",
      " 23%|██▎       | 296/1288 [14:50:46<89:37:09, 325.23s/it]"
     ]
    },
    {
     "name": "stdout",
     "output_type": "stream",
     "text": [
      "Fetched number of followers ids for doctor_oxford : 15000\n",
      "Getting Followers ids of DouthatNYT\n"
     ]
    },
    {
     "name": "stderr",
     "output_type": "stream",
     "text": [
      "\r",
      " 23%|██▎       | 297/1288 [14:50:47<62:47:36, 228.11s/it]"
     ]
    },
    {
     "name": "stdout",
     "output_type": "stream",
     "text": [
      "Fetched number of followers ids for DouthatNYT : 15000\n",
      "Getting Followers ids of DoYouScience\n"
     ]
    },
    {
     "name": "stderr",
     "output_type": "stream",
     "text": [
      "\r",
      " 23%|██▎       | 298/1288 [14:50:49<44:02:09, 160.13s/it]"
     ]
    },
    {
     "name": "stdout",
     "output_type": "stream",
     "text": [
      "Fetched number of followers ids for DoYouScience : 15000\n",
      "Getting Followers ids of DrEricDing\n"
     ]
    },
    {
     "name": "stderr",
     "output_type": "stream",
     "text": [
      "\r",
      " 23%|██▎       | 299/1288 [14:50:50<30:55:01, 112.54s/it]"
     ]
    },
    {
     "name": "stdout",
     "output_type": "stream",
     "text": [
      "Fetched number of followers ids for DrEricDing : 15000\n",
      "Getting Followers ids of DrewHolden360\n"
     ]
    },
    {
     "name": "stderr",
     "output_type": "stream",
     "text": [
      "\r",
      " 23%|██▎       | 300/1288 [14:50:52<21:44:20, 79.21s/it] "
     ]
    },
    {
     "name": "stdout",
     "output_type": "stream",
     "text": [
      "Fetched number of followers ids for DrewHolden360 : 15000\n",
      "Getting Followers ids of DrJenGunter\n"
     ]
    },
    {
     "name": "stderr",
     "output_type": "stream",
     "text": [
      "Rate limit reached. Sleeping for: 892\n",
      " 23%|██▎       | 301/1288 [15:05:50<89:07:18, 325.06s/it]"
     ]
    },
    {
     "name": "stdout",
     "output_type": "stream",
     "text": [
      "Fetched number of followers ids for DrJenGunter : 15000\n",
      "Getting Followers ids of DrLeanaWen\n"
     ]
    },
    {
     "name": "stderr",
     "output_type": "stream",
     "text": [
      "\r",
      " 23%|██▎       | 302/1288 [15:05:52<62:26:46, 228.00s/it]"
     ]
    },
    {
     "name": "stdout",
     "output_type": "stream",
     "text": [
      "Fetched number of followers ids for DrLeanaWen : 15000\n",
      "Getting Followers ids of DrLindaMD\n"
     ]
    },
    {
     "name": "stderr",
     "output_type": "stream",
     "text": [
      "\r",
      " 24%|██▎       | 303/1288 [15:05:53<43:47:20, 160.04s/it]"
     ]
    },
    {
     "name": "stdout",
     "output_type": "stream",
     "text": [
      "Fetched number of followers ids for DrLindaMD : 15000\n",
      "Getting Followers ids of DrLindseyFitz\n"
     ]
    },
    {
     "name": "stderr",
     "output_type": "stream",
     "text": [
      "\r",
      " 24%|██▎       | 304/1288 [15:05:55<30:44:24, 112.46s/it]"
     ]
    },
    {
     "name": "stdout",
     "output_type": "stream",
     "text": [
      "Fetched number of followers ids for DrLindseyFitz : 15000\n",
      "Getting Followers ids of drmistercody\n"
     ]
    },
    {
     "name": "stderr",
     "output_type": "stream",
     "text": [
      "\r",
      " 24%|██▎       | 305/1288 [15:05:56<21:37:09, 79.18s/it] "
     ]
    },
    {
     "name": "stdout",
     "output_type": "stream",
     "text": [
      "Fetched number of followers ids for drmistercody : 15000\n",
      "Getting Followers ids of drphilhammond\n"
     ]
    },
    {
     "name": "stderr",
     "output_type": "stream",
     "text": [
      "Rate limit reached. Sleeping for: 893\n",
      " 24%|██▍       | 306/1288 [15:20:56<88:44:58, 325.36s/it]"
     ]
    },
    {
     "name": "stdout",
     "output_type": "stream",
     "text": [
      "Fetched number of followers ids for drphilhammond : 15000\n",
      "Getting Followers ids of DrRanj\n"
     ]
    },
    {
     "name": "stderr",
     "output_type": "stream",
     "text": [
      "\r",
      " 24%|██▍       | 307/1288 [15:20:58<62:10:49, 228.19s/it]"
     ]
    },
    {
     "name": "stdout",
     "output_type": "stream",
     "text": [
      "Fetched number of followers ids for DrRanj : 15000\n",
      "Getting Followers ids of DrTomFrieden\n"
     ]
    },
    {
     "name": "stderr",
     "output_type": "stream",
     "text": [
      "\r",
      " 24%|██▍       | 308/1288 [15:20:59<43:37:29, 160.25s/it]"
     ]
    },
    {
     "name": "stdout",
     "output_type": "stream",
     "text": [
      "Fetched number of followers ids for DrTomFrieden : 15000\n",
      "Getting Followers ids of drvolts\n"
     ]
    },
    {
     "name": "stderr",
     "output_type": "stream",
     "text": [
      "\r",
      " 24%|██▍       | 309/1288 [15:21:01<30:37:54, 112.64s/it]"
     ]
    },
    {
     "name": "stdout",
     "output_type": "stream",
     "text": [
      "Fetched number of followers ids for drvolts : 15000\n",
      "Getting Followers ids of dylanwiliam\n"
     ]
    },
    {
     "name": "stderr",
     "output_type": "stream",
     "text": [
      "\r",
      " 24%|██▍       | 310/1288 [15:21:02<21:32:26, 79.29s/it] "
     ]
    },
    {
     "name": "stdout",
     "output_type": "stream",
     "text": [
      "Fetched number of followers ids for dylanwiliam : 15000\n",
      "Getting Followers ids of earthskyscience\n"
     ]
    },
    {
     "name": "stderr",
     "output_type": "stream",
     "text": [
      "Rate limit reached. Sleeping for: 893\n",
      " 24%|██▍       | 311/1288 [15:36:02<88:19:09, 325.43s/it]"
     ]
    },
    {
     "name": "stdout",
     "output_type": "stream",
     "text": [
      "Fetched number of followers ids for earthskyscience : 15000\n",
      "Getting Followers ids of ECMcLaughlin\n"
     ]
    },
    {
     "name": "stderr",
     "output_type": "stream",
     "text": [
      "\r",
      " 24%|██▍       | 312/1288 [15:36:04<61:52:58, 228.26s/it]"
     ]
    },
    {
     "name": "stdout",
     "output_type": "stream",
     "text": [
      "Fetched number of followers ids for ECMcLaughlin : 15000\n",
      "Getting Followers ids of EdConwaySky\n"
     ]
    },
    {
     "name": "stderr",
     "output_type": "stream",
     "text": [
      "\r",
      " 24%|██▍       | 313/1288 [15:36:05<43:23:50, 160.24s/it]"
     ]
    },
    {
     "name": "stdout",
     "output_type": "stream",
     "text": [
      "Fetched number of followers ids for EdConwaySky : 15000\n",
      "Getting Followers ids of eddiemarsan\n"
     ]
    },
    {
     "name": "stderr",
     "output_type": "stream",
     "text": [
      "\r",
      " 24%|██▍       | 314/1288 [15:36:07<30:27:55, 112.60s/it]"
     ]
    },
    {
     "name": "stdout",
     "output_type": "stream",
     "text": [
      "Fetched number of followers ids for eddiemarsan : 15000\n",
      "Getting Followers ids of EdwardNorton\n"
     ]
    },
    {
     "name": "stderr",
     "output_type": "stream",
     "text": [
      "\r",
      " 24%|██▍       | 315/1288 [15:36:08<21:25:26, 79.27s/it] "
     ]
    },
    {
     "name": "stdout",
     "output_type": "stream",
     "text": [
      "Fetched number of followers ids for EdwardNorton : 15000\n",
      "Getting Followers ids of EdwardTufte\n"
     ]
    },
    {
     "name": "stderr",
     "output_type": "stream",
     "text": [
      "Rate limit reached. Sleeping for: 893\n",
      " 25%|██▍       | 316/1288 [15:51:08<87:51:36, 325.41s/it]"
     ]
    },
    {
     "name": "stdout",
     "output_type": "stream",
     "text": [
      "Fetched number of followers ids for EdwardTufte : 15000\n",
      "Getting Followers ids of EleanorMorton\n"
     ]
    },
    {
     "name": "stderr",
     "output_type": "stream",
     "text": [
      "\r",
      " 25%|██▍       | 317/1288 [15:51:09<61:33:18, 228.22s/it]"
     ]
    },
    {
     "name": "stdout",
     "output_type": "stream",
     "text": [
      "Fetched number of followers ids for EleanorMorton : 15000\n",
      "Getting Followers ids of EmilyGorcenski\n"
     ]
    },
    {
     "name": "stderr",
     "output_type": "stream",
     "text": [
      "\r",
      " 25%|██▍       | 318/1288 [15:51:11<43:09:50, 160.20s/it]"
     ]
    },
    {
     "name": "stdout",
     "output_type": "stream",
     "text": [
      "Fetched number of followers ids for EmilyGorcenski : 15000\n",
      "Getting Followers ids of emilynussbaum\n"
     ]
    },
    {
     "name": "stderr",
     "output_type": "stream",
     "text": [
      "\r",
      " 25%|██▍       | 319/1288 [15:51:12<30:18:15, 112.59s/it]"
     ]
    },
    {
     "name": "stdout",
     "output_type": "stream",
     "text": [
      "Fetched number of followers ids for emilynussbaum : 15000\n",
      "Getting Followers ids of engineers_feed\n"
     ]
    },
    {
     "name": "stderr",
     "output_type": "stream",
     "text": [
      "\r",
      " 25%|██▍       | 320/1288 [15:51:14<21:18:27, 79.24s/it] "
     ]
    },
    {
     "name": "stdout",
     "output_type": "stream",
     "text": [
      "Fetched number of followers ids for engineers_feed : 15000\n",
      "Getting Followers ids of Erdayastronaut\n"
     ]
    },
    {
     "name": "stderr",
     "output_type": "stream",
     "text": [
      "Rate limit reached. Sleeping for: 892\n",
      " 25%|██▍       | 321/1288 [16:06:12<87:19:21, 325.09s/it]"
     ]
    },
    {
     "name": "stdout",
     "output_type": "stream",
     "text": [
      "Fetched number of followers ids for Erdayastronaut : 15000\n",
      "Getting Followers ids of EricaJoy\n"
     ]
    },
    {
     "name": "stderr",
     "output_type": "stream",
     "text": [
      "\r",
      " 25%|██▌       | 322/1288 [16:06:14<61:11:02, 228.01s/it]"
     ]
    },
    {
     "name": "stdout",
     "output_type": "stream",
     "text": [
      "Fetched number of followers ids for EricaJoy : 15000\n",
      "Getting Followers ids of EricIdle\n"
     ]
    },
    {
     "name": "stderr",
     "output_type": "stream",
     "text": [
      "\r",
      " 25%|██▌       | 323/1288 [16:06:15<42:54:13, 160.06s/it]"
     ]
    },
    {
     "name": "stdout",
     "output_type": "stream",
     "text": [
      "Fetched number of followers ids for EricIdle : 15000\n",
      "Getting Followers ids of ericries\n"
     ]
    },
    {
     "name": "stderr",
     "output_type": "stream",
     "text": [
      "\r",
      " 25%|██▌       | 324/1288 [16:06:17<30:07:21, 112.49s/it]"
     ]
    },
    {
     "name": "stdout",
     "output_type": "stream",
     "text": [
      "Fetched number of followers ids for ericries : 15000\n",
      "Getting Followers ids of EricRWeinstein\n"
     ]
    },
    {
     "name": "stderr",
     "output_type": "stream",
     "text": [
      "\r",
      " 25%|██▌       | 325/1288 [16:06:18<21:11:12, 79.20s/it] "
     ]
    },
    {
     "name": "stdout",
     "output_type": "stream",
     "text": [
      "Fetched number of followers ids for EricRWeinstein : 15000\n",
      "Getting Followers ids of erikbryn\n"
     ]
    },
    {
     "name": "stderr",
     "output_type": "stream",
     "text": [
      "Rate limit reached. Sleeping for: 893\n",
      " 25%|██▌       | 326/1288 [16:21:18<86:56:32, 325.36s/it]"
     ]
    },
    {
     "name": "stdout",
     "output_type": "stream",
     "text": [
      "Fetched number of followers ids for erikbryn : 15000\n",
      "Getting Followers ids of esascience\n"
     ]
    },
    {
     "name": "stderr",
     "output_type": "stream",
     "text": [
      "\r",
      " 25%|██▌       | 327/1288 [16:21:20<60:55:07, 228.21s/it]"
     ]
    },
    {
     "name": "stdout",
     "output_type": "stream",
     "text": [
      "Fetched number of followers ids for esascience : 15000\n",
      "Getting Followers ids of esglaude\n"
     ]
    },
    {
     "name": "stderr",
     "output_type": "stream",
     "text": [
      "\r",
      " 25%|██▌       | 328/1288 [16:21:21<42:42:56, 160.18s/it]"
     ]
    },
    {
     "name": "stdout",
     "output_type": "stream",
     "text": [
      "Fetched number of followers ids for esglaude : 15000\n",
      "Getting Followers ids of ev\n"
     ]
    },
    {
     "name": "stderr",
     "output_type": "stream",
     "text": [
      "\r",
      " 26%|██▌       | 329/1288 [16:21:23<29:59:22, 112.58s/it]"
     ]
    },
    {
     "name": "stdout",
     "output_type": "stream",
     "text": [
      "Fetched number of followers ids for ev : 15000\n",
      "Getting Followers ids of evacide\n"
     ]
    },
    {
     "name": "stderr",
     "output_type": "stream",
     "text": [
      "\r",
      " 26%|██▌       | 330/1288 [16:21:24<21:05:37, 79.27s/it] "
     ]
    },
    {
     "name": "stdout",
     "output_type": "stream",
     "text": [
      "Fetched number of followers ids for evacide : 15000\n",
      "Getting Followers ids of EvanHD\n"
     ]
    },
    {
     "name": "stderr",
     "output_type": "stream",
     "text": [
      "Rate limit reached. Sleeping for: 893\n",
      " 26%|██▌       | 331/1288 [16:36:24<86:30:26, 325.42s/it]"
     ]
    },
    {
     "name": "stdout",
     "output_type": "stream",
     "text": [
      "Fetched number of followers ids for EvanHD : 15000\n",
      "Getting Followers ids of existentialcoms\n"
     ]
    },
    {
     "name": "stderr",
     "output_type": "stream",
     "text": [
      "\r",
      " 26%|██▌       | 332/1288 [16:36:25<60:36:00, 228.20s/it]"
     ]
    },
    {
     "name": "stdout",
     "output_type": "stream",
     "text": [
      "Fetched number of followers ids for existentialcoms : 15000\n",
      "Getting Followers ids of exjon\n"
     ]
    },
    {
     "name": "stderr",
     "output_type": "stream",
     "text": [
      "\r",
      " 26%|██▌       | 333/1288 [16:36:27<42:30:13, 160.22s/it]"
     ]
    },
    {
     "name": "stdout",
     "output_type": "stream",
     "text": [
      "Fetched number of followers ids for exjon : 15000\n",
      "Getting Followers ids of exploreplanets\n"
     ]
    },
    {
     "name": "stderr",
     "output_type": "stream",
     "text": [
      "\r",
      " 26%|██▌       | 334/1288 [16:36:28<29:50:34, 112.61s/it]"
     ]
    },
    {
     "name": "stdout",
     "output_type": "stream",
     "text": [
      "Fetched number of followers ids for exploreplanets : 15000\n",
      "Getting Followers ids of ezraklein\n"
     ]
    },
    {
     "name": "stderr",
     "output_type": "stream",
     "text": [
      "\r",
      " 26%|██▌       | 335/1288 [16:36:30<20:59:12, 79.28s/it] "
     ]
    },
    {
     "name": "stdout",
     "output_type": "stream",
     "text": [
      "Fetched number of followers ids for ezraklein : 15000\n",
      "Getting Followers ids of Fabric_of_Space\n"
     ]
    },
    {
     "name": "stderr",
     "output_type": "stream",
     "text": [
      "Rate limit reached. Sleeping for: 893\n",
      " 26%|██▌       | 336/1288 [16:51:30<86:03:28, 325.43s/it]"
     ]
    },
    {
     "name": "stdout",
     "output_type": "stream",
     "text": [
      "Fetched number of followers ids for Fabric_of_Space : 15000\n",
      "Getting Followers ids of fallinlovia\n"
     ]
    },
    {
     "name": "stderr",
     "output_type": "stream",
     "text": [
      "\r",
      " 26%|██▌       | 337/1288 [16:51:31<60:17:31, 228.23s/it]"
     ]
    },
    {
     "name": "stdout",
     "output_type": "stream",
     "text": [
      "Fetched number of followers ids for fallinlovia : 15000\n",
      "Getting Followers ids of farnamstreet\n"
     ]
    },
    {
     "name": "stderr",
     "output_type": "stream",
     "text": [
      "\r",
      " 26%|██▌       | 338/1288 [16:51:33<42:17:10, 160.24s/it]"
     ]
    },
    {
     "name": "stdout",
     "output_type": "stream",
     "text": [
      "Fetched number of followers ids for farnamstreet : 15000\n",
      "Getting Followers ids of FastCompany\n"
     ]
    },
    {
     "name": "stderr",
     "output_type": "stream",
     "text": [
      "\r",
      " 26%|██▋       | 339/1288 [16:51:34<29:41:09, 112.61s/it]"
     ]
    },
    {
     "name": "stdout",
     "output_type": "stream",
     "text": [
      "Fetched number of followers ids for FastCompany : 15000\n",
      "Getting Followers ids of fchollet\n"
     ]
    },
    {
     "name": "stderr",
     "output_type": "stream",
     "text": [
      "\r",
      " 26%|██▋       | 340/1288 [16:51:36<20:52:32, 79.27s/it] "
     ]
    },
    {
     "name": "stdout",
     "output_type": "stream",
     "text": [
      "Fetched number of followers ids for fchollet : 15000\n",
      "Getting Followers ids of felixsalmon\n"
     ]
    },
    {
     "name": "stderr",
     "output_type": "stream",
     "text": [
      "Rate limit reached. Sleeping for: 892\n",
      " 26%|██▋       | 341/1288 [17:06:34<85:31:09, 325.10s/it]"
     ]
    },
    {
     "name": "stdout",
     "output_type": "stream",
     "text": [
      "Fetched number of followers ids for felixsalmon : 15000\n",
      "Getting Followers ids of fermatslibrary\n"
     ]
    },
    {
     "name": "stderr",
     "output_type": "stream",
     "text": [
      "\r",
      " 27%|██▋       | 342/1288 [17:06:36<59:55:06, 228.02s/it]"
     ]
    },
    {
     "name": "stdout",
     "output_type": "stream",
     "text": [
      "Fetched number of followers ids for fermatslibrary : 15000\n",
      "Getting Followers ids of fmanjoo\n"
     ]
    },
    {
     "name": "stderr",
     "output_type": "stream",
     "text": [
      "\r",
      " 27%|██▋       | 343/1288 [17:06:37<42:00:49, 160.05s/it]"
     ]
    },
    {
     "name": "stdout",
     "output_type": "stream",
     "text": [
      "Fetched number of followers ids for fmanjoo : 15000\n",
      "Getting Followers ids of FoldableHuman\n"
     ]
    },
    {
     "name": "stderr",
     "output_type": "stream",
     "text": [
      "\r",
      " 27%|██▋       | 344/1288 [17:06:39<29:29:30, 112.47s/it]"
     ]
    },
    {
     "name": "stdout",
     "output_type": "stream",
     "text": [
      "Fetched number of followers ids for FoldableHuman : 15000\n",
      "Getting Followers ids of Foone\n"
     ]
    },
    {
     "name": "stderr",
     "output_type": "stream",
     "text": [
      "\r",
      " 27%|██▋       | 345/1288 [17:06:40<20:44:12, 79.17s/it] "
     ]
    },
    {
     "name": "stdout",
     "output_type": "stream",
     "text": [
      "Fetched number of followers ids for Foone : 15000\n",
      "Getting Followers ids of FredTJoseph\n"
     ]
    },
    {
     "name": "stderr",
     "output_type": "stream",
     "text": [
      "Rate limit reached. Sleeping for: 893\n",
      " 27%|██▋       | 346/1288 [17:21:40<85:07:40, 325.33s/it]"
     ]
    },
    {
     "name": "stdout",
     "output_type": "stream",
     "text": [
      "Fetched number of followers ids for FredTJoseph : 15000\n",
      "Getting Followers ids of FryRsquared\n"
     ]
    },
    {
     "name": "stderr",
     "output_type": "stream",
     "text": [
      "\r",
      " 27%|██▋       | 347/1288 [17:21:42<59:38:51, 228.19s/it]"
     ]
    },
    {
     "name": "stdout",
     "output_type": "stream",
     "text": [
      "Fetched number of followers ids for FryRsquared : 15000\n",
      "Getting Followers ids of fuggirls\n"
     ]
    },
    {
     "name": "stderr",
     "output_type": "stream",
     "text": [
      "\r",
      " 27%|██▋       | 348/1288 [17:21:43<41:49:43, 160.19s/it]"
     ]
    },
    {
     "name": "stdout",
     "output_type": "stream",
     "text": [
      "Fetched number of followers ids for fuggirls : 15000\n",
      "Getting Followers ids of futurism\n"
     ]
    },
    {
     "name": "stderr",
     "output_type": "stream",
     "text": [
      "\r",
      " 27%|██▋       | 349/1288 [17:21:45<29:21:57, 112.59s/it]"
     ]
    },
    {
     "name": "stdout",
     "output_type": "stream",
     "text": [
      "Fetched number of followers ids for futurism : 15000\n",
      "Getting Followers ids of GaryLineker\n"
     ]
    },
    {
     "name": "stderr",
     "output_type": "stream",
     "text": [
      "\r",
      " 27%|██▋       | 350/1288 [17:21:46<20:39:04, 79.26s/it] "
     ]
    },
    {
     "name": "stdout",
     "output_type": "stream",
     "text": [
      "Fetched number of followers ids for GaryLineker : 15000\n",
      "Getting Followers ids of garyyounge\n"
     ]
    },
    {
     "name": "stderr",
     "output_type": "stream",
     "text": [
      "Rate limit reached. Sleeping for: 893\n",
      " 27%|██▋       | 351/1288 [17:36:46<84:41:44, 325.41s/it]"
     ]
    },
    {
     "name": "stdout",
     "output_type": "stream",
     "text": [
      "Fetched number of followers ids for garyyounge : 15000\n",
      "Getting Followers ids of gavinandresen\n"
     ]
    },
    {
     "name": "stderr",
     "output_type": "stream",
     "text": [
      "\r",
      " 27%|██▋       | 352/1288 [17:36:47<59:21:00, 228.27s/it]"
     ]
    },
    {
     "name": "stdout",
     "output_type": "stream",
     "text": [
      "Fetched number of followers ids for gavinandresen : 15000\n",
      "Getting Followers ids of GavinFree\n"
     ]
    },
    {
     "name": "stderr",
     "output_type": "stream",
     "text": [
      "\r",
      " 27%|██▋       | 353/1288 [17:36:49<41:37:06, 160.24s/it]"
     ]
    },
    {
     "name": "stdout",
     "output_type": "stream",
     "text": [
      "Fetched number of followers ids for GavinFree : 15000\n",
      "Getting Followers ids of GeeDee215\n"
     ]
    },
    {
     "name": "stderr",
     "output_type": "stream",
     "text": [
      "\r",
      " 27%|██▋       | 354/1288 [17:36:50<29:12:56, 112.61s/it]"
     ]
    },
    {
     "name": "stdout",
     "output_type": "stream",
     "text": [
      "Fetched number of followers ids for GeeDee215 : 15000\n",
      "Getting Followers ids of gelliottmorris\n"
     ]
    },
    {
     "name": "stderr",
     "output_type": "stream",
     "text": [
      "\r",
      " 28%|██▊       | 355/1288 [17:36:52<20:32:36, 79.27s/it] "
     ]
    },
    {
     "name": "stdout",
     "output_type": "stream",
     "text": [
      "Fetched number of followers ids for gelliottmorris : 15000\n",
      "Getting Followers ids of GeorgeMonbiot\n"
     ]
    },
    {
     "name": "stderr",
     "output_type": "stream",
     "text": [
      "Rate limit reached. Sleeping for: 892\n",
      " 28%|██▊       | 356/1288 [17:51:51<84:10:06, 325.11s/it]"
     ]
    },
    {
     "name": "stdout",
     "output_type": "stream",
     "text": [
      "Fetched number of followers ids for GeorgeMonbiot : 15000\n",
      "Getting Followers ids of GerryGreek\n"
     ]
    },
    {
     "name": "stderr",
     "output_type": "stream",
     "text": [
      "\r",
      " 28%|██▊       | 357/1288 [17:51:52<58:58:11, 228.03s/it]"
     ]
    },
    {
     "name": "stdout",
     "output_type": "stream",
     "text": [
      "Fetched number of followers ids for GerryGreek : 15000\n",
      "Getting Followers ids of gogreen18\n"
     ]
    },
    {
     "name": "stderr",
     "output_type": "stream",
     "text": [
      "\r",
      " 28%|██▊       | 358/1288 [17:51:54<41:21:03, 160.07s/it]"
     ]
    },
    {
     "name": "stdout",
     "output_type": "stream",
     "text": [
      "Fetched number of followers ids for gogreen18 : 15000\n",
      "Getting Followers ids of goldman\n"
     ]
    },
    {
     "name": "stderr",
     "output_type": "stream",
     "text": [
      "\r",
      " 28%|██▊       | 359/1288 [17:51:55<29:01:42, 112.49s/it]"
     ]
    },
    {
     "name": "stdout",
     "output_type": "stream",
     "text": [
      "Fetched number of followers ids for goldman : 15000\n",
      "Getting Followers ids of GonzoTorpedo\n"
     ]
    },
    {
     "name": "stderr",
     "output_type": "stream",
     "text": [
      "\r",
      " 28%|██▊       | 360/1288 [17:51:57<20:24:48, 79.19s/it] "
     ]
    },
    {
     "name": "stdout",
     "output_type": "stream",
     "text": [
      "Fetched number of followers ids for GonzoTorpedo : 15000\n",
      "Getting Followers ids of good\n"
     ]
    },
    {
     "name": "stderr",
     "output_type": "stream",
     "text": [
      "Rate limit reached. Sleeping for: 893\n",
      " 28%|██▊       | 361/1288 [18:06:56<83:46:49, 325.36s/it]"
     ]
    },
    {
     "name": "stdout",
     "output_type": "stream",
     "text": [
      "Fetched number of followers ids for good : 15000\n",
      "Getting Followers ids of goodfellow_ian\n"
     ]
    },
    {
     "name": "stderr",
     "output_type": "stream",
     "text": [
      "\r",
      " 28%|██▊       | 362/1288 [18:06:58<58:41:49, 228.20s/it]"
     ]
    },
    {
     "name": "stdout",
     "output_type": "stream",
     "text": [
      "Fetched number of followers ids for goodfellow_ian : 15000\n",
      "Getting Followers ids of Graham__Hancock\n"
     ]
    },
    {
     "name": "stderr",
     "output_type": "stream",
     "text": [
      "\r",
      " 28%|██▊       | 363/1288 [18:06:59<41:09:37, 160.19s/it]"
     ]
    },
    {
     "name": "stdout",
     "output_type": "stream",
     "text": [
      "Fetched number of followers ids for Graham__Hancock : 15000\n",
      "Getting Followers ids of GrammarGirl\n"
     ]
    },
    {
     "name": "stderr",
     "output_type": "stream",
     "text": [
      "\r",
      " 28%|██▊       | 364/1288 [18:07:01<28:53:47, 112.58s/it]"
     ]
    },
    {
     "name": "stdout",
     "output_type": "stream",
     "text": [
      "Fetched number of followers ids for GrammarGirl : 15000\n",
      "Getting Followers ids of grantimahara\n"
     ]
    },
    {
     "name": "stderr",
     "output_type": "stream",
     "text": [
      "\r",
      " 28%|██▊       | 365/1288 [18:07:02<20:18:57, 79.24s/it] "
     ]
    },
    {
     "name": "stdout",
     "output_type": "stream",
     "text": [
      "Fetched number of followers ids for grantimahara : 15000\n",
      "Getting Followers ids of GreatDismal\n"
     ]
    },
    {
     "name": "stderr",
     "output_type": "stream",
     "text": [
      "Rate limit reached. Sleeping for: 893\n",
      " 28%|██▊       | 366/1288 [18:22:02<83:19:58, 325.38s/it]"
     ]
    },
    {
     "name": "stdout",
     "output_type": "stream",
     "text": [
      "Fetched number of followers ids for GreatDismal : 15000\n",
      "Getting Followers ids of GreggHoush\n"
     ]
    },
    {
     "name": "stderr",
     "output_type": "stream",
     "text": [
      "\r",
      " 28%|██▊       | 367/1288 [18:22:04<58:23:08, 228.22s/it]"
     ]
    },
    {
     "name": "stdout",
     "output_type": "stream",
     "text": [
      "Fetched number of followers ids for GreggHoush : 15000\n",
      "Getting Followers ids of gregolear\n"
     ]
    },
    {
     "name": "stderr",
     "output_type": "stream",
     "text": [
      "\r",
      " 29%|██▊       | 368/1288 [18:22:05<40:56:09, 160.18s/it]"
     ]
    },
    {
     "name": "stdout",
     "output_type": "stream",
     "text": [
      "Fetched number of followers ids for gregolear : 15000\n",
      "Getting Followers ids of greg_doucette\n"
     ]
    },
    {
     "name": "stderr",
     "output_type": "stream",
     "text": [
      "\r",
      " 29%|██▊       | 369/1288 [18:22:06<28:44:09, 112.57s/it]"
     ]
    },
    {
     "name": "stdout",
     "output_type": "stream",
     "text": [
      "Fetched number of followers ids for greg_doucette : 15000\n",
      "Getting Followers ids of greg_jenner\n"
     ]
    },
    {
     "name": "stderr",
     "output_type": "stream",
     "text": [
      "\r",
      " 29%|██▊       | 370/1288 [18:22:08<20:12:22, 79.24s/it] "
     ]
    },
    {
     "name": "stdout",
     "output_type": "stream",
     "text": [
      "Fetched number of followers ids for greg_jenner : 15000\n",
      "Getting Followers ids of greta\n"
     ]
    },
    {
     "name": "stderr",
     "output_type": "stream",
     "text": [
      "Rate limit reached. Sleeping for: 893\n",
      " 29%|██▉       | 371/1288 [18:37:08<82:52:55, 325.38s/it]"
     ]
    },
    {
     "name": "stdout",
     "output_type": "stream",
     "text": [
      "Fetched number of followers ids for greta : 15000\n",
      "Getting Followers ids of gretchenrubin\n"
     ]
    },
    {
     "name": "stderr",
     "output_type": "stream",
     "text": [
      "\r",
      " 29%|██▉       | 372/1288 [18:37:09<58:03:53, 228.20s/it]"
     ]
    },
    {
     "name": "stdout",
     "output_type": "stream",
     "text": [
      "Fetched number of followers ids for gretchenrubin : 15000\n",
      "Getting Followers ids of hacks4pancakes\n"
     ]
    },
    {
     "name": "stderr",
     "output_type": "stream",
     "text": [
      "\r",
      " 29%|██▉       | 373/1288 [18:37:11<40:42:48, 160.18s/it]"
     ]
    },
    {
     "name": "stdout",
     "output_type": "stream",
     "text": [
      "Fetched number of followers ids for hacks4pancakes : 15000\n",
      "Getting Followers ids of HadleyFreeman\n"
     ]
    },
    {
     "name": "stderr",
     "output_type": "stream",
     "text": [
      "\r",
      " 29%|██▉       | 374/1288 [18:37:12<28:34:48, 112.57s/it]"
     ]
    },
    {
     "name": "stdout",
     "output_type": "stream",
     "text": [
      "Fetched number of followers ids for HadleyFreeman : 15000\n",
      "Getting Followers ids of hankgreen\n"
     ]
    },
    {
     "name": "stderr",
     "output_type": "stream",
     "text": [
      "\r",
      " 29%|██▉       | 375/1288 [18:37:13<20:05:49, 79.24s/it] "
     ]
    },
    {
     "name": "stdout",
     "output_type": "stream",
     "text": [
      "Fetched number of followers ids for hankgreen : 15000\n",
      "Getting Followers ids of HardcoreHistory\n"
     ]
    },
    {
     "name": "stderr",
     "output_type": "stream",
     "text": [
      "Rate limit reached. Sleeping for: 893\n",
      " 29%|██▉       | 376/1288 [18:52:13<82:25:55, 325.39s/it]"
     ]
    },
    {
     "name": "stdout",
     "output_type": "stream",
     "text": [
      "Fetched number of followers ids for HardcoreHistory : 15000\n",
      "Getting Followers ids of hardwick\n"
     ]
    },
    {
     "name": "stderr",
     "output_type": "stream",
     "text": [
      "\r",
      " 29%|██▉       | 377/1288 [18:52:15<57:45:27, 228.24s/it]"
     ]
    },
    {
     "name": "stdout",
     "output_type": "stream",
     "text": [
      "Fetched number of followers ids for hardwick : 15000\n",
      "Getting Followers ids of harikondabolu\n"
     ]
    },
    {
     "name": "stderr",
     "output_type": "stream",
     "text": [
      "\r",
      " 29%|██▉       | 378/1288 [18:52:16<40:29:54, 160.21s/it]"
     ]
    },
    {
     "name": "stdout",
     "output_type": "stream",
     "text": [
      "Fetched number of followers ids for harikondabolu : 15000\n",
      "Getting Followers ids of HarvardBiz\n"
     ]
    },
    {
     "name": "stderr",
     "output_type": "stream",
     "text": [
      "\r",
      " 29%|██▉       | 379/1288 [18:52:18<28:25:55, 112.60s/it]"
     ]
    },
    {
     "name": "stdout",
     "output_type": "stream",
     "text": [
      "Fetched number of followers ids for HarvardBiz : 15000\n",
      "Getting Followers ids of HarvardResearch\n"
     ]
    },
    {
     "name": "stderr",
     "output_type": "stream",
     "text": [
      "\r",
      " 30%|██▉       | 380/1288 [18:52:19<19:59:29, 79.26s/it] "
     ]
    },
    {
     "name": "stdout",
     "output_type": "stream",
     "text": [
      "Fetched number of followers ids for HarvardResearch : 15000\n",
      "Getting Followers ids of hblodget\n"
     ]
    },
    {
     "name": "stderr",
     "output_type": "stream",
     "text": [
      "Rate limit reached. Sleeping for: 893\n",
      " 30%|██▉       | 381/1288 [19:07:19<81:59:16, 325.42s/it]"
     ]
    },
    {
     "name": "stdout",
     "output_type": "stream",
     "text": [
      "Fetched number of followers ids for hblodget : 15000\n",
      "Getting Followers ids of Hbomberguy\n"
     ]
    },
    {
     "name": "stderr",
     "output_type": "stream",
     "text": [
      "\r",
      " 30%|██▉       | 382/1288 [19:07:21<57:26:26, 228.24s/it]"
     ]
    },
    {
     "name": "stdout",
     "output_type": "stream",
     "text": [
      "Fetched number of followers ids for Hbomberguy : 15000\n",
      "Getting Followers ids of HeatherEHeying\n"
     ]
    },
    {
     "name": "stderr",
     "output_type": "stream",
     "text": [
      "\r",
      " 30%|██▉       | 383/1288 [19:07:25<40:29:26, 161.07s/it]"
     ]
    },
    {
     "name": "stdout",
     "output_type": "stream",
     "text": [
      "Fetched number of followers ids for HeatherEHeying : 15000\n",
      "Getting Followers ids of HeerJeet\n"
     ]
    },
    {
     "name": "stderr",
     "output_type": "stream",
     "text": [
      "\r",
      " 30%|██▉       | 384/1288 [19:07:28<28:35:00, 113.83s/it]"
     ]
    },
    {
     "name": "stdout",
     "output_type": "stream",
     "text": [
      "Fetched number of followers ids for HeerJeet : 15000\n",
      "Getting Followers ids of HelenBranswell\n"
     ]
    },
    {
     "name": "stderr",
     "output_type": "stream",
     "text": [
      "\r",
      " 30%|██▉       | 385/1288 [19:07:30<20:05:54, 80.13s/it] "
     ]
    },
    {
     "name": "stdout",
     "output_type": "stream",
     "text": [
      "Fetched number of followers ids for HelenBranswell : 15000\n",
      "Getting Followers ids of HelenClarkNZ\n"
     ]
    },
    {
     "name": "stderr",
     "output_type": "stream",
     "text": [
      "Rate limit reached. Sleeping for: 888\n",
      " 30%|██▉       | 386/1288 [19:22:25<81:18:45, 324.53s/it]"
     ]
    },
    {
     "name": "stdout",
     "output_type": "stream",
     "text": [
      "Fetched number of followers ids for HelenClarkNZ : 15000\n",
      "Getting Followers ids of hels\n"
     ]
    },
    {
     "name": "stderr",
     "output_type": "stream",
     "text": [
      "\r",
      " 30%|███       | 387/1288 [19:22:26<56:58:54, 227.67s/it]"
     ]
    },
    {
     "name": "stdout",
     "output_type": "stream",
     "text": [
      "Fetched number of followers ids for hels : 15000\n",
      "Getting Followers ids of herdyshepherd1\n"
     ]
    },
    {
     "name": "stderr",
     "output_type": "stream",
     "text": [
      "\r",
      " 30%|███       | 388/1288 [19:22:28<39:57:30, 159.83s/it]"
     ]
    },
    {
     "name": "stdout",
     "output_type": "stream",
     "text": [
      "Fetched number of followers ids for herdyshepherd1 : 15000\n",
      "Getting Followers ids of Herring1967\n"
     ]
    },
    {
     "name": "stderr",
     "output_type": "stream",
     "text": [
      "\r",
      " 30%|███       | 389/1288 [19:22:29<28:03:17, 112.34s/it]"
     ]
    },
    {
     "name": "stdout",
     "output_type": "stream",
     "text": [
      "Fetched number of followers ids for Herring1967 : 15000\n",
      "Getting Followers ids of Hezzah\n"
     ]
    },
    {
     "name": "stderr",
     "output_type": "stream",
     "text": [
      "\r",
      " 30%|███       | 390/1288 [19:22:31<19:43:35, 79.08s/it] "
     ]
    },
    {
     "name": "stdout",
     "output_type": "stream",
     "text": [
      "Fetched number of followers ids for Hezzah : 15000\n",
      "Getting Followers ids of HiddenBrain\n"
     ]
    },
    {
     "name": "stderr",
     "output_type": "stream",
     "text": [
      "Rate limit reached. Sleeping for: 893\n",
      " 30%|███       | 391/1288 [19:37:31<81:03:26, 325.31s/it]"
     ]
    },
    {
     "name": "stdout",
     "output_type": "stream",
     "text": [
      "Fetched number of followers ids for HiddenBrain : 15000\n",
      "Getting Followers ids of hmason\n"
     ]
    },
    {
     "name": "stderr",
     "output_type": "stream",
     "text": [
      "\r",
      " 30%|███       | 392/1288 [19:37:32<56:47:09, 228.16s/it]"
     ]
    },
    {
     "name": "stdout",
     "output_type": "stream",
     "text": [
      "Fetched number of followers ids for hmason : 15000\n",
      "Getting Followers ids of holly\n"
     ]
    },
    {
     "name": "stderr",
     "output_type": "stream",
     "text": [
      "\r",
      " 31%|███       | 393/1288 [19:37:34<39:49:03, 160.16s/it]"
     ]
    },
    {
     "name": "stdout",
     "output_type": "stream",
     "text": [
      "Fetched number of followers ids for holly : 15000\n",
      "Getting Followers ids of HonestToddler\n"
     ]
    },
    {
     "name": "stderr",
     "output_type": "stream",
     "text": [
      "\r",
      " 31%|███       | 394/1288 [19:37:35<27:56:58, 112.55s/it]"
     ]
    },
    {
     "name": "stdout",
     "output_type": "stream",
     "text": [
      "Fetched number of followers ids for HonestToddler : 15000\n",
      "Getting Followers ids of housesciencegop\n"
     ]
    },
    {
     "name": "stderr",
     "output_type": "stream",
     "text": [
      "\r",
      " 31%|███       | 395/1288 [19:37:37<19:39:17, 79.24s/it] "
     ]
    },
    {
     "name": "stdout",
     "output_type": "stream",
     "text": [
      "Fetched number of followers ids for housesciencegop : 15000\n",
      "Getting Followers ids of HowStuffWorks\n"
     ]
    },
    {
     "name": "stderr",
     "output_type": "stream",
     "text": [
      "Rate limit reached. Sleeping for: 894\n",
      " 31%|███       | 396/1288 [19:52:37<80:41:39, 325.67s/it]"
     ]
    },
    {
     "name": "stdout",
     "output_type": "stream",
     "text": [
      "Fetched number of followers ids for HowStuffWorks : 15000\n",
      "Getting Followers ids of hughlaurie\n"
     ]
    },
    {
     "name": "stderr",
     "output_type": "stream",
     "text": [
      "\r",
      " 31%|███       | 397/1288 [19:52:39<56:31:54, 228.41s/it]"
     ]
    },
    {
     "name": "stdout",
     "output_type": "stream",
     "text": [
      "Fetched number of followers ids for hughlaurie : 15000\n",
      "Getting Followers ids of hugorifkind\n"
     ]
    },
    {
     "name": "stderr",
     "output_type": "stream",
     "text": [
      "\r",
      " 31%|███       | 398/1288 [19:52:41<39:40:09, 160.46s/it]"
     ]
    },
    {
     "name": "stdout",
     "output_type": "stream",
     "text": [
      "Fetched number of followers ids for hugorifkind : 15000\n",
      "Getting Followers ids of hunterw\n"
     ]
    },
    {
     "name": "stderr",
     "output_type": "stream",
     "text": [
      "\r",
      " 31%|███       | 399/1288 [19:52:42<27:50:37, 112.75s/it]"
     ]
    },
    {
     "name": "stdout",
     "output_type": "stream",
     "text": [
      "Fetched number of followers ids for hunterw : 15000\n",
      "Getting Followers ids of IanDunt\n"
     ]
    },
    {
     "name": "stderr",
     "output_type": "stream",
     "text": [
      "\r",
      " 31%|███       | 400/1288 [19:52:48<19:53:38, 80.65s/it] "
     ]
    },
    {
     "name": "stdout",
     "output_type": "stream",
     "text": [
      "Fetched number of followers ids for IanDunt : 15000\n",
      "Getting Followers ids of ideo\n"
     ]
    },
    {
     "name": "stderr",
     "output_type": "stream",
     "text": [
      "Rate limit reached. Sleeping for: 888\n",
      " 31%|███       | 401/1288 [20:07:43<80:03:10, 324.90s/it]"
     ]
    },
    {
     "name": "stdout",
     "output_type": "stream",
     "text": [
      "Fetched number of followers ids for ideo : 15000\n",
      "Getting Followers ids of ID_AA_Carmack\n"
     ]
    },
    {
     "name": "stderr",
     "output_type": "stream",
     "text": [
      "\r",
      " 31%|███       | 402/1288 [20:07:44<56:05:07, 227.89s/it]"
     ]
    },
    {
     "name": "stdout",
     "output_type": "stream",
     "text": [
      "Fetched number of followers ids for ID_AA_Carmack : 15000\n",
      "Getting Followers ids of IEEESpectrum\n"
     ]
    },
    {
     "name": "stderr",
     "output_type": "stream",
     "text": [
      "\r",
      " 31%|███▏      | 403/1288 [20:07:46<39:19:36, 159.97s/it]"
     ]
    },
    {
     "name": "stdout",
     "output_type": "stream",
     "text": [
      "Fetched number of followers ids for IEEESpectrum : 15000\n",
      "Getting Followers ids of IFLScience\n"
     ]
    },
    {
     "name": "stderr",
     "output_type": "stream",
     "text": [
      "\r",
      " 31%|███▏      | 404/1288 [20:07:47<27:36:20, 112.42s/it]"
     ]
    },
    {
     "name": "stdout",
     "output_type": "stream",
     "text": [
      "Fetched number of followers ids for IFLScience : 15000\n",
      "Getting Followers ids of IwriteOK\n"
     ]
    },
    {
     "name": "stderr",
     "output_type": "stream",
     "text": [
      "\r",
      " 31%|███▏      | 405/1288 [20:07:49<19:24:58, 79.16s/it] "
     ]
    },
    {
     "name": "stdout",
     "output_type": "stream",
     "text": [
      "Fetched number of followers ids for IwriteOK : 15000\n",
      "Getting Followers ids of jacindaardern\n"
     ]
    },
    {
     "name": "stderr",
     "output_type": "stream",
     "text": [
      "Rate limit reached. Sleeping for: 893\n",
      " 32%|███▏      | 406/1288 [20:22:49<79:42:29, 325.34s/it]"
     ]
    },
    {
     "name": "stdout",
     "output_type": "stream",
     "text": [
      "Fetched number of followers ids for jacindaardern : 15000\n",
      "Getting Followers ids of jackmurphylive\n"
     ]
    },
    {
     "name": "stderr",
     "output_type": "stream",
     "text": [
      "\r",
      " 32%|███▏      | 407/1288 [20:22:50<55:50:26, 228.18s/it]"
     ]
    },
    {
     "name": "stdout",
     "output_type": "stream",
     "text": [
      "Fetched number of followers ids for jackmurphylive : 15000\n",
      "Getting Followers ids of jaltucher\n"
     ]
    },
    {
     "name": "stderr",
     "output_type": "stream",
     "text": [
      "\r",
      " 32%|███▏      | 408/1288 [20:22:52<39:10:20, 160.25s/it]"
     ]
    },
    {
     "name": "stdout",
     "output_type": "stream",
     "text": [
      "Fetched number of followers ids for jaltucher : 15000\n",
      "Getting Followers ids of JamesClear\n"
     ]
    },
    {
     "name": "stderr",
     "output_type": "stream",
     "text": [
      "\r",
      " 32%|███▏      | 409/1288 [20:22:53<27:30:02, 112.63s/it]"
     ]
    },
    {
     "name": "stdout",
     "output_type": "stream",
     "text": [
      "Fetched number of followers ids for JamesClear : 15000\n",
      "Getting Followers ids of JamesGRickards\n"
     ]
    },
    {
     "name": "stderr",
     "output_type": "stream",
     "text": [
      "\r",
      " 32%|███▏      | 410/1288 [20:22:55<19:20:24, 79.30s/it] "
     ]
    },
    {
     "name": "stdout",
     "output_type": "stream",
     "text": [
      "Fetched number of followers ids for JamesGRickards : 15000\n",
      "Getting Followers ids of jameshamblin\n"
     ]
    },
    {
     "name": "stderr",
     "output_type": "stream",
     "text": [
      "Rate limit reached. Sleeping for: 893\n",
      " 32%|███▏      | 411/1288 [20:37:55<79:17:45, 325.50s/it]"
     ]
    },
    {
     "name": "stdout",
     "output_type": "stream",
     "text": [
      "Fetched number of followers ids for jameshamblin : 15000\n",
      "Getting Followers ids of janecoaston\n"
     ]
    },
    {
     "name": "stderr",
     "output_type": "stream",
     "text": [
      "\r",
      " 32%|███▏      | 412/1288 [20:37:56<55:33:14, 228.30s/it]"
     ]
    },
    {
     "name": "stdout",
     "output_type": "stream",
     "text": [
      "Fetched number of followers ids for janecoaston : 15000\n",
      "Getting Followers ids of JaneFriedman\n"
     ]
    },
    {
     "name": "stderr",
     "output_type": "stream",
     "text": [
      "\r",
      " 32%|███▏      | 413/1288 [20:37:58<38:57:01, 160.25s/it]"
     ]
    },
    {
     "name": "stdout",
     "output_type": "stream",
     "text": [
      "Fetched number of followers ids for JaneFriedman : 15000\n",
      "Getting Followers ids of janegarvey1\n"
     ]
    },
    {
     "name": "stderr",
     "output_type": "stream",
     "text": [
      "\r",
      " 32%|███▏      | 414/1288 [20:38:01<27:29:16, 113.22s/it]"
     ]
    },
    {
     "name": "stdout",
     "output_type": "stream",
     "text": [
      "Fetched number of followers ids for janegarvey1 : 15000\n",
      "Getting Followers ids of janemerrick23\n"
     ]
    },
    {
     "name": "stderr",
     "output_type": "stream",
     "text": [
      "\r",
      " 32%|███▏      | 415/1288 [20:38:03<19:19:36, 79.70s/it] "
     ]
    },
    {
     "name": "stdout",
     "output_type": "stream",
     "text": [
      "Fetched number of followers ids for janemerrick23 : 15000\n",
      "Getting Followers ids of Jason\n"
     ]
    },
    {
     "name": "stderr",
     "output_type": "stream",
     "text": [
      "Rate limit reached. Sleeping for: 892\n",
      " 32%|███▏      | 416/1288 [20:53:01<78:48:43, 325.37s/it]"
     ]
    },
    {
     "name": "stdout",
     "output_type": "stream",
     "text": [
      "Fetched number of followers ids for Jason : 15000\n",
      "Getting Followers ids of jasonhickel\n"
     ]
    },
    {
     "name": "stderr",
     "output_type": "stream",
     "text": [
      "\r",
      " 32%|███▏      | 417/1288 [20:53:03<55:12:39, 228.20s/it]"
     ]
    },
    {
     "name": "stdout",
     "output_type": "stream",
     "text": [
      "Fetched number of followers ids for jasonhickel : 15000\n",
      "Getting Followers ids of JasonSilva\n"
     ]
    },
    {
     "name": "stderr",
     "output_type": "stream",
     "text": [
      "\r",
      " 32%|███▏      | 418/1288 [20:53:04<38:42:54, 160.20s/it]"
     ]
    },
    {
     "name": "stdout",
     "output_type": "stream",
     "text": [
      "Fetched number of followers ids for JasonSilva : 15000\n",
      "Getting Followers ids of jayrosen_nyu\n"
     ]
    },
    {
     "name": "stderr",
     "output_type": "stream",
     "text": [
      "\r",
      " 33%|███▎      | 419/1288 [20:53:08<27:19:26, 113.20s/it]"
     ]
    },
    {
     "name": "stdout",
     "output_type": "stream",
     "text": [
      "Fetched number of followers ids for jayrosen_nyu : 15000\n",
      "Getting Followers ids of jbarro\n"
     ]
    },
    {
     "name": "stderr",
     "output_type": "stream",
     "text": [
      "\r",
      " 33%|███▎      | 420/1288 [20:53:09<19:12:52, 79.69s/it] "
     ]
    },
    {
     "name": "stdout",
     "output_type": "stream",
     "text": [
      "Fetched number of followers ids for jbarro : 15000\n",
      "Getting Followers ids of jbf1755\n"
     ]
    },
    {
     "name": "stderr",
     "output_type": "stream",
     "text": [
      "Rate limit reached. Sleeping for: 891\n",
      " 33%|███▎      | 421/1288 [21:08:07<78:17:56, 325.12s/it]"
     ]
    },
    {
     "name": "stdout",
     "output_type": "stream",
     "text": [
      "Fetched number of followers ids for jbf1755 : 15000\n",
      "Getting Followers ids of jbouie\n"
     ]
    },
    {
     "name": "stderr",
     "output_type": "stream",
     "text": [
      "\r",
      " 33%|███▎      | 422/1288 [21:08:09<54:51:14, 228.03s/it]"
     ]
    },
    {
     "name": "stdout",
     "output_type": "stream",
     "text": [
      "Fetched number of followers ids for jbouie : 15000\n",
      "Getting Followers ids of jburnmurdoch\n"
     ]
    },
    {
     "name": "stderr",
     "output_type": "stream",
     "text": [
      "\r",
      " 33%|███▎      | 423/1288 [21:08:10<38:27:38, 160.07s/it]"
     ]
    },
    {
     "name": "stdout",
     "output_type": "stream",
     "text": [
      "Fetched number of followers ids for jburnmurdoch : 15000\n",
      "Getting Followers ids of jdickerson\n"
     ]
    },
    {
     "name": "stderr",
     "output_type": "stream",
     "text": [
      "\r",
      " 33%|███▎      | 424/1288 [21:08:12<26:59:52, 112.49s/it]"
     ]
    },
    {
     "name": "stdout",
     "output_type": "stream",
     "text": [
      "Fetched number of followers ids for jdickerson : 15000\n",
      "Getting Followers ids of jduffyrice\n"
     ]
    },
    {
     "name": "stderr",
     "output_type": "stream",
     "text": [
      "\r",
      " 33%|███▎      | 425/1288 [21:08:15<19:06:54, 79.74s/it] "
     ]
    },
    {
     "name": "stdout",
     "output_type": "stream",
     "text": [
      "Fetched number of followers ids for jduffyrice : 15000\n",
      "Getting Followers ids of JeffBrazier\n"
     ]
    },
    {
     "name": "stderr",
     "output_type": "stream",
     "text": [
      "Rate limit reached. Sleeping for: 891\n",
      " 33%|███▎      | 426/1288 [21:23:13<77:50:56, 325.12s/it]"
     ]
    },
    {
     "name": "stdout",
     "output_type": "stream",
     "text": [
      "Fetched number of followers ids for JeffBrazier : 15000\n",
      "Getting Followers ids of JeffDean\n"
     ]
    },
    {
     "name": "stderr",
     "output_type": "stream",
     "text": [
      "\r",
      " 33%|███▎      | 427/1288 [21:23:14<54:32:10, 228.03s/it]"
     ]
    },
    {
     "name": "stdout",
     "output_type": "stream",
     "text": [
      "Fetched number of followers ids for JeffDean : 15000\n",
      "Getting Followers ids of jeffjarvis\n"
     ]
    },
    {
     "name": "stderr",
     "output_type": "stream",
     "text": [
      "\r",
      " 33%|███▎      | 428/1288 [21:23:18<38:23:58, 160.74s/it]"
     ]
    },
    {
     "name": "stdout",
     "output_type": "stream",
     "text": [
      "Fetched number of followers ids for jeffjarvis : 15000\n",
      "Getting Followers ids of JeffreyGoldberg\n"
     ]
    },
    {
     "name": "stderr",
     "output_type": "stream",
     "text": [
      "\r",
      " 33%|███▎      | 429/1288 [21:23:19<26:57:26, 112.98s/it]"
     ]
    },
    {
     "name": "stdout",
     "output_type": "stream",
     "text": [
      "Fetched number of followers ids for JeffreyGoldberg : 15000\n",
      "Getting Followers ids of jelani9\n"
     ]
    },
    {
     "name": "stderr",
     "output_type": "stream",
     "text": [
      "\r",
      " 33%|███▎      | 430/1288 [21:23:23<19:07:18, 80.23s/it] "
     ]
    },
    {
     "name": "stdout",
     "output_type": "stream",
     "text": [
      "Fetched number of followers ids for jelani9 : 15000\n",
      "Getting Followers ids of JenAshleyWright\n"
     ]
    },
    {
     "name": "stderr",
     "output_type": "stream",
     "text": [
      "Rate limit reached. Sleeping for: 889\n",
      " 33%|███▎      | 431/1288 [21:38:19<77:20:38, 324.90s/it]"
     ]
    },
    {
     "name": "stdout",
     "output_type": "stream",
     "text": [
      "Fetched number of followers ids for JenAshleyWright : 15000\n",
      "Getting Followers ids of JeremyClarkson\n"
     ]
    },
    {
     "name": "stderr",
     "output_type": "stream",
     "text": [
      "\r",
      " 34%|███▎      | 432/1288 [21:38:21<54:11:10, 227.89s/it]"
     ]
    },
    {
     "name": "stdout",
     "output_type": "stream",
     "text": [
      "Fetched number of followers ids for JeremyClarkson : 15000\n",
      "Getting Followers ids of jeremyphoward\n"
     ]
    },
    {
     "name": "stderr",
     "output_type": "stream",
     "text": [
      "\r",
      " 34%|███▎      | 433/1288 [21:38:22<37:59:25, 159.96s/it]"
     ]
    },
    {
     "name": "stdout",
     "output_type": "stream",
     "text": [
      "Fetched number of followers ids for jeremyphoward : 15000\n",
      "Getting Followers ids of jeresig\n"
     ]
    },
    {
     "name": "stderr",
     "output_type": "stream",
     "text": [
      "\r",
      " 34%|███▎      | 434/1288 [21:38:26<26:50:52, 113.18s/it]"
     ]
    },
    {
     "name": "stdout",
     "output_type": "stream",
     "text": [
      "Fetched number of followers ids for jeresig : 15000\n",
      "Getting Followers ids of jess\n"
     ]
    },
    {
     "name": "stderr",
     "output_type": "stream",
     "text": [
      "\r",
      " 34%|███▍      | 435/1288 [21:38:27<18:52:28, 79.66s/it] "
     ]
    },
    {
     "name": "stdout",
     "output_type": "stream",
     "text": [
      "Fetched number of followers ids for jess : 15000\n",
      "Getting Followers ids of jessicahische\n"
     ]
    },
    {
     "name": "stderr",
     "output_type": "stream",
     "text": [
      "Rate limit reached. Sleeping for: 891\n",
      " 34%|███▍      | 436/1288 [21:53:25<76:56:22, 325.10s/it]"
     ]
    },
    {
     "name": "stdout",
     "output_type": "stream",
     "text": [
      "Fetched number of followers ids for jessicahische : 15000\n",
      "Getting Followers ids of JessicaValenti\n"
     ]
    },
    {
     "name": "stderr",
     "output_type": "stream",
     "text": [
      "\r",
      " 34%|███▍      | 437/1288 [21:53:27<53:54:01, 228.02s/it]"
     ]
    },
    {
     "name": "stdout",
     "output_type": "stream",
     "text": [
      "Fetched number of followers ids for JessicaValenti : 15000\n",
      "Getting Followers ids of jfreewright\n"
     ]
    },
    {
     "name": "stderr",
     "output_type": "stream",
     "text": [
      "\r",
      " 34%|███▍      | 438/1288 [21:53:28<37:47:33, 160.06s/it]"
     ]
    },
    {
     "name": "stdout",
     "output_type": "stream",
     "text": [
      "Fetched number of followers ids for jfreewright : 15000\n",
      "Getting Followers ids of JHSPH_CHS\n"
     ]
    },
    {
     "name": "stderr",
     "output_type": "stream",
     "text": [
      "\r",
      " 34%|███▍      | 439/1288 [21:53:32<26:40:03, 113.08s/it]"
     ]
    },
    {
     "name": "stdout",
     "output_type": "stream",
     "text": [
      "Fetched number of followers ids for JHSPH_CHS : 15000\n",
      "Getting Followers ids of jiatolentino\n"
     ]
    },
    {
     "name": "stderr",
     "output_type": "stream",
     "text": [
      "\r",
      " 34%|███▍      | 440/1288 [21:53:33<18:45:02, 79.60s/it] "
     ]
    },
    {
     "name": "stdout",
     "output_type": "stream",
     "text": [
      "Fetched number of followers ids for jiatolentino : 15000\n",
      "Getting Followers ids of jimalkhalili\n"
     ]
    },
    {
     "name": "stderr",
     "output_type": "stream",
     "text": [
      "Rate limit reached. Sleeping for: 891\n",
      " 34%|███▍      | 441/1288 [22:08:31<76:28:45, 325.06s/it]"
     ]
    },
    {
     "name": "stdout",
     "output_type": "stream",
     "text": [
      "Fetched number of followers ids for jimalkhalili : 15000\n",
      "Getting Followers ids of jimmy_wales\n"
     ]
    },
    {
     "name": "stderr",
     "output_type": "stream",
     "text": [
      "\r",
      " 34%|███▍      | 442/1288 [22:08:32<53:34:40, 227.99s/it]"
     ]
    },
    {
     "name": "stdout",
     "output_type": "stream",
     "text": [
      "Fetched number of followers ids for jimmy_wales : 15000\n",
      "Getting Followers ids of jkottke\n"
     ]
    },
    {
     "name": "stderr",
     "output_type": "stream",
     "text": [
      "\r",
      " 34%|███▍      | 443/1288 [22:08:36<37:42:08, 160.63s/it]"
     ]
    },
    {
     "name": "stdout",
     "output_type": "stream",
     "text": [
      "Fetched number of followers ids for jkottke : 15000\n",
      "Getting Followers ids of jnovogratz\n"
     ]
    },
    {
     "name": "stderr",
     "output_type": "stream",
     "text": [
      "\r",
      " 34%|███▍      | 444/1288 [22:08:37<26:27:54, 112.88s/it]"
     ]
    },
    {
     "name": "stdout",
     "output_type": "stream",
     "text": [
      "Fetched number of followers ids for jnovogratz : 15000\n",
      "Getting Followers ids of joanwalsh\n"
     ]
    },
    {
     "name": "stderr",
     "output_type": "stream",
     "text": [
      "\r",
      " 35%|███▍      | 445/1288 [22:08:40<18:42:15, 79.88s/it] "
     ]
    },
    {
     "name": "stdout",
     "output_type": "stream",
     "text": [
      "Fetched number of followers ids for joanwalsh : 15000\n",
      "Getting Followers ids of joboaler\n"
     ]
    },
    {
     "name": "stderr",
     "output_type": "stream",
     "text": [
      "Rate limit reached. Sleeping for: 890\n",
      " 35%|███▍      | 446/1288 [22:23:37<75:59:47, 324.93s/it]"
     ]
    },
    {
     "name": "stdout",
     "output_type": "stream",
     "text": [
      "Fetched number of followers ids for joboaler : 15000\n",
      "Getting Followers ids of jodikantor\n"
     ]
    },
    {
     "name": "stderr",
     "output_type": "stream",
     "text": [
      "\r",
      " 35%|███▍      | 447/1288 [22:23:38<53:14:14, 227.89s/it]"
     ]
    },
    {
     "name": "stdout",
     "output_type": "stream",
     "text": [
      "Fetched number of followers ids for jodikantor : 15000\n",
      "Getting Followers ids of johannhari101\n"
     ]
    },
    {
     "name": "stderr",
     "output_type": "stream",
     "text": [
      "\r",
      " 35%|███▍      | 448/1288 [22:23:40<37:19:28, 159.96s/it]"
     ]
    },
    {
     "name": "stdout",
     "output_type": "stream",
     "text": [
      "Fetched number of followers ids for johannhari101 : 15000\n",
      "Getting Followers ids of johnbattelle\n"
     ]
    },
    {
     "name": "stderr",
     "output_type": "stream",
     "text": [
      "\r",
      " 35%|███▍      | 449/1288 [22:23:41<26:12:08, 112.43s/it]"
     ]
    },
    {
     "name": "stdout",
     "output_type": "stream",
     "text": [
      "Fetched number of followers ids for johnbattelle : 15000\n",
      "Getting Followers ids of JohnDonvan\n"
     ]
    },
    {
     "name": "stderr",
     "output_type": "stream",
     "text": [
      "\r",
      " 35%|███▍      | 450/1288 [22:23:43<18:25:21, 79.14s/it] "
     ]
    },
    {
     "name": "stdout",
     "output_type": "stream",
     "text": [
      "Fetched number of followers ids for JohnDonvan : 15000\n",
      "Getting Followers ids of JohnHMcWhorter\n"
     ]
    },
    {
     "name": "stderr",
     "output_type": "stream",
     "text": [
      "Rate limit reached. Sleeping for: 893\n",
      " 35%|███▌      | 451/1288 [22:38:43<75:38:11, 325.32s/it]"
     ]
    },
    {
     "name": "stdout",
     "output_type": "stream",
     "text": [
      "Fetched number of followers ids for JohnHMcWhorter : 15000\n",
      "Getting Followers ids of JohnJCampbell\n"
     ]
    },
    {
     "name": "stderr",
     "output_type": "stream",
     "text": [
      "\r",
      " 35%|███▌      | 452/1288 [22:38:44<52:59:13, 228.17s/it]"
     ]
    },
    {
     "name": "stdout",
     "output_type": "stream",
     "text": [
      "Fetched number of followers ids for JohnJCampbell : 15000\n",
      "Getting Followers ids of johnmaeda\n"
     ]
    },
    {
     "name": "stderr",
     "output_type": "stream",
     "text": [
      "\r",
      " 35%|███▌      | 453/1288 [22:38:46<37:08:59, 160.17s/it]"
     ]
    },
    {
     "name": "stdout",
     "output_type": "stream",
     "text": [
      "Fetched number of followers ids for johnmaeda : 15000\n",
      "Getting Followers ids of JohnsHopkinsSPH\n"
     ]
    },
    {
     "name": "stderr",
     "output_type": "stream",
     "text": [
      "\r",
      " 35%|███▌      | 454/1288 [22:38:47<26:04:40, 112.57s/it]"
     ]
    },
    {
     "name": "stdout",
     "output_type": "stream",
     "text": [
      "Fetched number of followers ids for JohnsHopkinsSPH : 15000\n",
      "Getting Followers ids of Joi\n"
     ]
    },
    {
     "name": "stderr",
     "output_type": "stream",
     "text": [
      "\r",
      " 35%|███▌      | 455/1288 [22:38:49<18:20:17, 79.25s/it] "
     ]
    },
    {
     "name": "stdout",
     "output_type": "stream",
     "text": [
      "Fetched number of followers ids for Joi : 15000\n",
      "Getting Followers ids of JolyonMaugham\n"
     ]
    },
    {
     "name": "stderr",
     "output_type": "stream",
     "text": [
      "Rate limit reached. Sleeping for: 894\n",
      " 35%|███▌      | 456/1288 [22:53:49<75:16:21, 325.70s/it]"
     ]
    },
    {
     "name": "stdout",
     "output_type": "stream",
     "text": [
      "Fetched number of followers ids for JolyonMaugham : 15000\n",
      "Getting Followers ids of JonahDispatch\n"
     ]
    },
    {
     "name": "stderr",
     "output_type": "stream",
     "text": [
      "\r",
      " 35%|███▌      | 457/1288 [22:53:51<52:43:42, 228.43s/it]"
     ]
    },
    {
     "name": "stdout",
     "output_type": "stream",
     "text": [
      "Fetched number of followers ids for JonahDispatch : 15000\n",
      "Getting Followers ids of jonathanchait\n"
     ]
    },
    {
     "name": "stderr",
     "output_type": "stream",
     "text": [
      "\r",
      " 36%|███▌      | 458/1288 [22:53:52<36:58:02, 160.34s/it]"
     ]
    },
    {
     "name": "stdout",
     "output_type": "stream",
     "text": [
      "Fetched number of followers ids for jonathanchait : 15000\n",
      "Getting Followers ids of jonathancoulton\n"
     ]
    },
    {
     "name": "stderr",
     "output_type": "stream",
     "text": [
      "\r",
      " 36%|███▌      | 459/1288 [22:53:54<25:57:00, 112.69s/it]"
     ]
    },
    {
     "name": "stdout",
     "output_type": "stream",
     "text": [
      "Fetched number of followers ids for jonathancoulton : 15000\n",
      "Getting Followers ids of JonHaidt\n"
     ]
    },
    {
     "name": "stderr",
     "output_type": "stream",
     "text": [
      "\r",
      " 36%|███▌      | 460/1288 [22:53:55<18:14:37, 79.32s/it] "
     ]
    },
    {
     "name": "stdout",
     "output_type": "stream",
     "text": [
      "Fetched number of followers ids for JonHaidt : 15000\n",
      "Getting Followers ids of jonlovett\n"
     ]
    },
    {
     "name": "stderr",
     "output_type": "stream",
     "text": [
      "Rate limit reached. Sleeping for: 894\n",
      " 36%|███▌      | 461/1288 [23:08:56<74:50:43, 325.81s/it]"
     ]
    },
    {
     "name": "stdout",
     "output_type": "stream",
     "text": [
      "Fetched number of followers ids for jonlovett : 15000\n",
      "Getting Followers ids of JonTronShow\n"
     ]
    },
    {
     "name": "stderr",
     "output_type": "stream",
     "text": [
      "\r",
      " 36%|███▌      | 462/1288 [23:08:58<52:25:47, 228.51s/it]"
     ]
    },
    {
     "name": "stdout",
     "output_type": "stream",
     "text": [
      "Fetched number of followers ids for JonTronShow : 15000\n",
      "Getting Followers ids of jordosh\n"
     ]
    },
    {
     "name": "stderr",
     "output_type": "stream",
     "text": [
      "\r",
      " 36%|███▌      | 463/1288 [23:08:59<36:45:25, 160.39s/it]"
     ]
    },
    {
     "name": "stdout",
     "output_type": "stream",
     "text": [
      "Fetched number of followers ids for jordosh : 15000\n",
      "Getting Followers ids of joshgondelman\n"
     ]
    },
    {
     "name": "stderr",
     "output_type": "stream",
     "text": [
      "\r",
      " 36%|███▌      | 464/1288 [23:09:01<25:47:58, 112.72s/it]"
     ]
    },
    {
     "name": "stdout",
     "output_type": "stream",
     "text": [
      "Fetched number of followers ids for joshgondelman : 15000\n",
      "Getting Followers ids of joshtpm\n"
     ]
    },
    {
     "name": "stderr",
     "output_type": "stream",
     "text": [
      "\r",
      " 36%|███▌      | 465/1288 [23:09:02<18:08:21, 79.35s/it] "
     ]
    },
    {
     "name": "stdout",
     "output_type": "stream",
     "text": [
      "Fetched number of followers ids for joshtpm : 15000\n",
      "Getting Followers ids of joshuatopolsky\n"
     ]
    },
    {
     "name": "stderr",
     "output_type": "stream",
     "text": [
      "Rate limit reached. Sleeping for: 893\n",
      " 36%|███▌      | 466/1288 [23:24:02<74:18:55, 325.47s/it]"
     ]
    },
    {
     "name": "stdout",
     "output_type": "stream",
     "text": [
      "Fetched number of followers ids for joshuatopolsky : 15000\n",
      "Getting Followers ids of joss\n"
     ]
    },
    {
     "name": "stderr",
     "output_type": "stream",
     "text": [
      "\r",
      " 36%|███▋      | 467/1288 [23:24:34<54:10:07, 237.52s/it]"
     ]
    },
    {
     "name": "stdout",
     "output_type": "stream",
     "text": [
      "Fetched number of followers ids for joss : 15000\n",
      "Getting Followers ids of JoyceCarolOates\n"
     ]
    },
    {
     "name": "stderr",
     "output_type": "stream",
     "text": [
      "\r",
      " 36%|███▋      | 468/1288 [23:24:36<37:58:46, 166.74s/it]"
     ]
    },
    {
     "name": "stdout",
     "output_type": "stream",
     "text": [
      "Fetched number of followers ids for JoyceCarolOates : 15000\n",
      "Getting Followers ids of jposhaughnessy\n"
     ]
    },
    {
     "name": "stderr",
     "output_type": "stream",
     "text": [
      "\r",
      " 36%|███▋      | 469/1288 [23:24:37<26:39:13, 117.16s/it]"
     ]
    },
    {
     "name": "stdout",
     "output_type": "stream",
     "text": [
      "Fetched number of followers ids for jposhaughnessy : 15000\n",
      "Getting Followers ids of juliagalef\n"
     ]
    },
    {
     "name": "stderr",
     "output_type": "stream",
     "text": [
      "\r",
      " 36%|███▋      | 470/1288 [23:24:39<18:46:01, 82.59s/it] "
     ]
    },
    {
     "name": "stdout",
     "output_type": "stream",
     "text": [
      "Fetched number of followers ids for juliagalef : 15000\n",
      "Getting Followers ids of juliaioffe\n"
     ]
    },
    {
     "name": "stderr",
     "output_type": "stream",
     "text": [
      "Rate limit reached. Sleeping for: 862\n",
      " 37%|███▋      | 471/1288 [23:39:08<72:16:28, 318.47s/it]"
     ]
    },
    {
     "name": "stdout",
     "output_type": "stream",
     "text": [
      "Fetched number of followers ids for juliaioffe : 15000\n",
      "Getting Followers ids of Julian\n"
     ]
    },
    {
     "name": "stderr",
     "output_type": "stream",
     "text": [
      "\r",
      " 37%|███▋      | 472/1288 [23:39:09<50:37:48, 223.37s/it]"
     ]
    },
    {
     "name": "stdout",
     "output_type": "stream",
     "text": [
      "Fetched number of followers ids for Julian : 15000\n",
      "Getting Followers ids of juliettekayyem\n"
     ]
    },
    {
     "name": "stderr",
     "output_type": "stream",
     "text": [
      "\r",
      " 37%|███▋      | 473/1288 [23:39:11<35:30:04, 156.82s/it]"
     ]
    },
    {
     "name": "stdout",
     "output_type": "stream",
     "text": [
      "Fetched number of followers ids for juliettekayyem : 15000\n",
      "Getting Followers ids of JuliusGoat\n"
     ]
    },
    {
     "name": "stderr",
     "output_type": "stream",
     "text": [
      "\r",
      " 37%|███▋      | 474/1288 [23:39:12<24:55:11, 110.21s/it]"
     ]
    },
    {
     "name": "stdout",
     "output_type": "stream",
     "text": [
      "Fetched number of followers ids for JuliusGoat : 15000\n",
      "Getting Followers ids of JustinWolfers\n"
     ]
    },
    {
     "name": "stderr",
     "output_type": "stream",
     "text": [
      "\r",
      " 37%|███▋      | 475/1288 [23:39:14<17:31:31, 77.60s/it] "
     ]
    },
    {
     "name": "stdout",
     "output_type": "stream",
     "text": [
      "Fetched number of followers ids for JustinWolfers : 15000\n",
      "Getting Followers ids of J_D_Landis\n"
     ]
    },
    {
     "name": "stderr",
     "output_type": "stream",
     "text": [
      "Rate limit reached. Sleeping for: 893\n",
      " 37%|███▋      | 476/1288 [23:54:14<73:09:02, 324.31s/it]"
     ]
    },
    {
     "name": "stdout",
     "output_type": "stream",
     "text": [
      "Fetched number of followers ids for J_D_Landis : 15000\n",
      "Getting Followers ids of k8em0\n"
     ]
    },
    {
     "name": "stderr",
     "output_type": "stream",
     "text": [
      "\r",
      " 37%|███▋      | 477/1288 [23:54:15<51:14:36, 227.47s/it]"
     ]
    },
    {
     "name": "stdout",
     "output_type": "stream",
     "text": [
      "Fetched number of followers ids for k8em0 : 15000\n",
      "Getting Followers ids of kaggle\n"
     ]
    },
    {
     "name": "stderr",
     "output_type": "stream",
     "text": [
      "\r",
      " 37%|███▋      | 478/1288 [23:54:17<35:56:24, 159.73s/it]"
     ]
    },
    {
     "name": "stdout",
     "output_type": "stream",
     "text": [
      "Fetched number of followers ids for kaggle : 15000\n",
      "Getting Followers ids of kakape\n"
     ]
    },
    {
     "name": "stderr",
     "output_type": "stream",
     "text": [
      "\r",
      " 37%|███▋      | 479/1288 [23:54:19<25:14:08, 112.30s/it]"
     ]
    },
    {
     "name": "stdout",
     "output_type": "stream",
     "text": [
      "Fetched number of followers ids for kakape : 15000\n",
      "Getting Followers ids of karaswisher\n"
     ]
    },
    {
     "name": "stderr",
     "output_type": "stream",
     "text": [
      "\r",
      " 37%|███▋      | 480/1288 [23:54:20<17:44:33, 79.05s/it] "
     ]
    },
    {
     "name": "stdout",
     "output_type": "stream",
     "text": [
      "Fetched number of followers ids for karaswisher : 15000\n",
      "Getting Followers ids of KarenAttiah\n"
     ]
    },
    {
     "name": "stderr",
     "output_type": "stream",
     "text": [
      "Rate limit reached. Sleeping for: 893\n",
      " 37%|███▋      | 481/1288 [24:09:20<72:54:48, 325.26s/it]"
     ]
    },
    {
     "name": "stdout",
     "output_type": "stream",
     "text": [
      "Fetched number of followers ids for KarenAttiah : 15000\n",
      "Getting Followers ids of KarlreMarks\n"
     ]
    },
    {
     "name": "stderr",
     "output_type": "stream",
     "text": [
      "\r",
      " 37%|███▋      | 482/1288 [24:09:22<51:04:45, 228.15s/it]"
     ]
    },
    {
     "name": "stdout",
     "output_type": "stream",
     "text": [
      "Fetched number of followers ids for KarlreMarks : 15000\n",
      "Getting Followers ids of Karnythia\n"
     ]
    },
    {
     "name": "stderr",
     "output_type": "stream",
     "text": [
      "\r",
      " 38%|███▊      | 483/1288 [24:09:23<35:48:23, 160.13s/it]"
     ]
    },
    {
     "name": "stdout",
     "output_type": "stream",
     "text": [
      "Fetched number of followers ids for Karnythia : 15000\n",
      "Getting Followers ids of karpathy\n"
     ]
    },
    {
     "name": "stderr",
     "output_type": "stream",
     "text": [
      "\r",
      " 38%|███▊      | 484/1288 [24:09:24<25:08:01, 112.54s/it]"
     ]
    },
    {
     "name": "stdout",
     "output_type": "stream",
     "text": [
      "Fetched number of followers ids for karpathy : 15000\n",
      "Getting Followers ids of KateEMcCann\n"
     ]
    },
    {
     "name": "stderr",
     "output_type": "stream",
     "text": [
      "\r",
      " 38%|███▊      | 485/1288 [24:09:26<17:40:09, 79.21s/it] "
     ]
    },
    {
     "name": "stdout",
     "output_type": "stream",
     "text": [
      "Fetched number of followers ids for KateEMcCann : 15000\n",
      "Getting Followers ids of kaushikcbasu\n"
     ]
    },
    {
     "name": "stderr",
     "output_type": "stream",
     "text": [
      "Rate limit reached. Sleeping for: 893\n",
      " 38%|███▊      | 486/1288 [24:24:26<72:28:46, 325.34s/it]"
     ]
    },
    {
     "name": "stdout",
     "output_type": "stream",
     "text": [
      "Fetched number of followers ids for kaushikcbasu : 15000\n",
      "Getting Followers ids of KeeangaYamahtta\n"
     ]
    },
    {
     "name": "stderr",
     "output_type": "stream",
     "text": [
      "\r",
      " 38%|███▊      | 487/1288 [24:24:27<50:46:19, 228.19s/it]"
     ]
    },
    {
     "name": "stdout",
     "output_type": "stream",
     "text": [
      "Fetched number of followers ids for KeeangaYamahtta : 15000\n",
      "Getting Followers ids of keithlaw\n"
     ]
    },
    {
     "name": "stderr",
     "output_type": "stream",
     "text": [
      "\r",
      " 38%|███▊      | 488/1288 [24:24:29<35:36:05, 160.21s/it]"
     ]
    },
    {
     "name": "stdout",
     "output_type": "stream",
     "text": [
      "Fetched number of followers ids for keithlaw : 15000\n",
      "Getting Followers ids of kenradio\n"
     ]
    },
    {
     "name": "stderr",
     "output_type": "stream",
     "text": [
      "\r",
      " 38%|███▊      | 489/1288 [24:24:30<24:59:32, 112.61s/it]"
     ]
    },
    {
     "name": "stdout",
     "output_type": "stream",
     "text": [
      "Fetched number of followers ids for kenradio : 15000\n",
      "Getting Followers ids of KenTremendous\n"
     ]
    },
    {
     "name": "stderr",
     "output_type": "stream",
     "text": [
      "\r",
      " 38%|███▊      | 490/1288 [24:24:32<17:35:17, 79.34s/it] "
     ]
    },
    {
     "name": "stdout",
     "output_type": "stream",
     "text": [
      "Fetched number of followers ids for KenTremendous : 15000\n",
      "Getting Followers ids of KevinMKruse\n"
     ]
    },
    {
     "name": "stderr",
     "output_type": "stream",
     "text": [
      "Rate limit reached. Sleeping for: 893\n",
      " 38%|███▊      | 491/1288 [24:39:32<72:03:20, 325.47s/it]"
     ]
    },
    {
     "name": "stdout",
     "output_type": "stream",
     "text": [
      "Fetched number of followers ids for KevinMKruse : 15000\n",
      "Getting Followers ids of Khaliya\n"
     ]
    },
    {
     "name": "stderr",
     "output_type": "stream",
     "text": [
      "\r",
      " 38%|███▊      | 492/1288 [24:39:33<50:28:21, 228.27s/it]"
     ]
    },
    {
     "name": "stdout",
     "output_type": "stream",
     "text": [
      "Fetched number of followers ids for Khaliya : 15000\n",
      "Getting Followers ids of KHayhoe\n"
     ]
    },
    {
     "name": "stderr",
     "output_type": "stream",
     "text": [
      "\r",
      " 38%|███▊      | 493/1288 [24:39:35<35:23:05, 160.23s/it]"
     ]
    },
    {
     "name": "stdout",
     "output_type": "stream",
     "text": [
      "Fetched number of followers ids for KHayhoe : 15000\n",
      "Getting Followers ids of KirstieMAllsopp\n"
     ]
    },
    {
     "name": "stderr",
     "output_type": "stream",
     "text": [
      "\r",
      " 38%|███▊      | 494/1288 [24:39:36<24:50:21, 112.62s/it]"
     ]
    },
    {
     "name": "stdout",
     "output_type": "stream",
     "text": [
      "Fetched number of followers ids for KirstieMAllsopp : 15000\n",
      "Getting Followers ids of kittenwithawhip\n"
     ]
    },
    {
     "name": "stderr",
     "output_type": "stream",
     "text": [
      "\r",
      " 38%|███▊      | 495/1288 [24:39:38<17:27:54, 79.29s/it] "
     ]
    },
    {
     "name": "stdout",
     "output_type": "stream",
     "text": [
      "Fetched number of followers ids for kittenwithawhip : 15000\n",
      "Getting Followers ids of KizzyPhD\n"
     ]
    },
    {
     "name": "stderr",
     "output_type": "stream",
     "text": [
      "Rate limit reached. Sleeping for: 893\n",
      " 39%|███▊      | 496/1288 [24:54:38<71:39:16, 325.70s/it]"
     ]
    },
    {
     "name": "stdout",
     "output_type": "stream",
     "text": [
      "Fetched number of followers ids for KizzyPhD : 15000\n",
      "Getting Followers ids of kmele\n"
     ]
    },
    {
     "name": "stderr",
     "output_type": "stream",
     "text": [
      "\r",
      " 39%|███▊      | 497/1288 [24:54:40<50:11:43, 228.45s/it]"
     ]
    },
    {
     "name": "stdout",
     "output_type": "stream",
     "text": [
      "Fetched number of followers ids for kmele : 15000\n",
      "Getting Followers ids of ktumulty\n"
     ]
    },
    {
     "name": "stderr",
     "output_type": "stream",
     "text": [
      "\r",
      " 39%|███▊      | 498/1288 [24:54:46<35:27:59, 161.62s/it]"
     ]
    },
    {
     "name": "stdout",
     "output_type": "stream",
     "text": [
      "Fetched number of followers ids for ktumulty : 15000\n",
      "Getting Followers ids of kurteichenwald\n"
     ]
    },
    {
     "name": "stderr",
     "output_type": "stream",
     "text": [
      "\r",
      " 39%|███▊      | 499/1288 [24:54:47<24:53:43, 113.59s/it]"
     ]
    },
    {
     "name": "stdout",
     "output_type": "stream",
     "text": [
      "Fetched number of followers ids for kurteichenwald : 15000\n",
      "Getting Followers ids of ladyhaja\n"
     ]
    },
    {
     "name": "stderr",
     "output_type": "stream",
     "text": [
      "\r",
      " 39%|███▉      | 500/1288 [24:54:49<17:32:38, 80.15s/it] "
     ]
    },
    {
     "name": "stdout",
     "output_type": "stream",
     "text": [
      "Fetched number of followers ids for ladyhaja : 15000\n",
      "Getting Followers ids of LAReviewofBooks\n"
     ]
    },
    {
     "name": "stderr",
     "output_type": "stream",
     "text": [
      "Rate limit reached. Sleeping for: 885\n",
      " 39%|███▉      | 501/1288 [25:09:44<70:56:44, 324.53s/it]"
     ]
    },
    {
     "name": "stdout",
     "output_type": "stream",
     "text": [
      "Fetched number of followers ids for LAReviewofBooks : 15000\n",
      "Getting Followers ids of Laurie_Garrett\n"
     ]
    },
    {
     "name": "stderr",
     "output_type": "stream",
     "text": [
      "\r",
      " 39%|███▉      | 502/1288 [25:09:45<49:41:39, 227.61s/it]"
     ]
    },
    {
     "name": "stdout",
     "output_type": "stream",
     "text": [
      "Fetched number of followers ids for Laurie_Garrett : 15000\n",
      "Getting Followers ids of LeaVerou\n"
     ]
    },
    {
     "name": "stderr",
     "output_type": "stream",
     "text": [
      "\r",
      " 39%|███▉      | 503/1288 [25:09:49<34:58:31, 160.40s/it]"
     ]
    },
    {
     "name": "stdout",
     "output_type": "stream",
     "text": [
      "Fetched number of followers ids for LeaVerou : 15000\n",
      "Getting Followers ids of leighalexander\n"
     ]
    },
    {
     "name": "stderr",
     "output_type": "stream",
     "text": [
      "\r",
      " 39%|███▉      | 504/1288 [25:09:53<24:43:27, 113.53s/it]"
     ]
    },
    {
     "name": "stdout",
     "output_type": "stream",
     "text": [
      "Fetched number of followers ids for leighalexander : 15000\n",
      "Getting Followers ids of Lesism\n"
     ]
    },
    {
     "name": "stderr",
     "output_type": "stream",
     "text": [
      "\r",
      " 39%|███▉      | 505/1288 [25:09:56<17:28:25, 80.34s/it] "
     ]
    },
    {
     "name": "stdout",
     "output_type": "stream",
     "text": [
      "Fetched number of followers ids for Lesism : 15000\n",
      "Getting Followers ids of levine\n"
     ]
    },
    {
     "name": "stderr",
     "output_type": "stream",
     "text": [
      "Rate limit reached. Sleeping for: 884\n",
      " 39%|███▉      | 506/1288 [25:24:50<70:26:35, 324.29s/it]"
     ]
    },
    {
     "name": "stdout",
     "output_type": "stream",
     "text": [
      "Fetched number of followers ids for levine : 15000\n",
      "Getting Followers ids of lindaholmes\n"
     ]
    },
    {
     "name": "stderr",
     "output_type": "stream",
     "text": [
      "\r",
      " 39%|███▉      | 507/1288 [25:24:51<49:20:50, 227.46s/it]"
     ]
    },
    {
     "name": "stdout",
     "output_type": "stream",
     "text": [
      "Fetched number of followers ids for lindaholmes : 15000\n",
      "Getting Followers ids of LinzDeFranco\n"
     ]
    },
    {
     "name": "stderr",
     "output_type": "stream",
     "text": [
      "\r",
      " 39%|███▉      | 508/1288 [25:24:53<34:35:47, 159.68s/it]"
     ]
    },
    {
     "name": "stdout",
     "output_type": "stream",
     "text": [
      "Fetched number of followers ids for LinzDeFranco : 15000\n",
      "Getting Followers ids of lithub\n"
     ]
    },
    {
     "name": "stderr",
     "output_type": "stream",
     "text": [
      "\r",
      " 40%|███▉      | 509/1288 [25:24:54<24:17:08, 112.23s/it]"
     ]
    },
    {
     "name": "stdout",
     "output_type": "stream",
     "text": [
      "Fetched number of followers ids for lithub : 15000\n",
      "Getting Followers ids of LiveScience\n"
     ]
    },
    {
     "name": "stderr",
     "output_type": "stream",
     "text": [
      "\r",
      " 40%|███▉      | 510/1288 [25:24:56<17:04:25, 79.00s/it] "
     ]
    },
    {
     "name": "stdout",
     "output_type": "stream",
     "text": [
      "Fetched number of followers ids for LiveScience : 15000\n",
      "Getting Followers ids of Liv_Boeree\n"
     ]
    },
    {
     "name": "stderr",
     "output_type": "stream",
     "text": [
      "Rate limit reached. Sleeping for: 894\n",
      " 40%|███▉      | 511/1288 [25:39:56<70:15:39, 325.53s/it]"
     ]
    },
    {
     "name": "stdout",
     "output_type": "stream",
     "text": [
      "Fetched number of followers ids for Liv_Boeree : 15000\n",
      "Getting Followers ids of louistheroux\n"
     ]
    },
    {
     "name": "stderr",
     "output_type": "stream",
     "text": [
      "\r",
      " 40%|███▉      | 512/1288 [25:39:58<49:13:01, 228.33s/it]"
     ]
    },
    {
     "name": "stdout",
     "output_type": "stream",
     "text": [
      "Fetched number of followers ids for louistheroux : 15000\n",
      "Getting Followers ids of lourdesgnavarro\n"
     ]
    },
    {
     "name": "stderr",
     "output_type": "stream",
     "text": [
      "\r",
      " 40%|███▉      | 513/1288 [25:39:59<34:30:12, 160.27s/it]"
     ]
    },
    {
     "name": "stdout",
     "output_type": "stream",
     "text": [
      "Fetched number of followers ids for lourdesgnavarro : 15000\n",
      "Getting Followers ids of lpolgreen\n"
     ]
    },
    {
     "name": "stderr",
     "output_type": "stream",
     "text": [
      "\r",
      " 40%|███▉      | 514/1288 [25:40:03<24:20:42, 113.23s/it]"
     ]
    },
    {
     "name": "stdout",
     "output_type": "stream",
     "text": [
      "Fetched number of followers ids for lpolgreen : 15000\n",
      "Getting Followers ids of LRB\n"
     ]
    },
    {
     "name": "stderr",
     "output_type": "stream",
     "text": [
      "\r",
      " 40%|███▉      | 515/1288 [25:40:04<17:06:54, 79.71s/it] "
     ]
    },
    {
     "name": "stdout",
     "output_type": "stream",
     "text": [
      "Fetched number of followers ids for LRB : 15000\n",
      "Getting Followers ids of ltvargus\n"
     ]
    },
    {
     "name": "stderr",
     "output_type": "stream",
     "text": [
      "Rate limit reached. Sleeping for: 892\n",
      " 40%|████      | 516/1288 [25:55:03<69:47:20, 325.44s/it]"
     ]
    },
    {
     "name": "stdout",
     "output_type": "stream",
     "text": [
      "Fetched number of followers ids for ltvargus : 15000\n",
      "Getting Followers ids of magicandrew\n"
     ]
    },
    {
     "name": "stderr",
     "output_type": "stream",
     "text": [
      "\r",
      " 40%|████      | 517/1288 [25:55:05<48:52:59, 228.25s/it]"
     ]
    },
    {
     "name": "stdout",
     "output_type": "stream",
     "text": [
      "Fetched number of followers ids for magicandrew : 15000\n",
      "Getting Followers ids of ManMadeMoon\n"
     ]
    },
    {
     "name": "stderr",
     "output_type": "stream",
     "text": [
      "\r",
      " 40%|████      | 518/1288 [25:55:06<34:16:08, 160.22s/it]"
     ]
    },
    {
     "name": "stdout",
     "output_type": "stream",
     "text": [
      "Fetched number of followers ids for ManMadeMoon : 15000\n",
      "Getting Followers ids of MaraWilson\n"
     ]
    },
    {
     "name": "stderr",
     "output_type": "stream",
     "text": [
      "\r",
      " 40%|████      | 519/1288 [25:55:08<24:05:35, 112.79s/it]"
     ]
    },
    {
     "name": "stdout",
     "output_type": "stream",
     "text": [
      "Fetched number of followers ids for MaraWilson : 15000\n",
      "Getting Followers ids of MarchForScience\n"
     ]
    },
    {
     "name": "stderr",
     "output_type": "stream",
     "text": [
      "\r",
      " 40%|████      | 520/1288 [25:55:10<16:56:17, 79.40s/it] "
     ]
    },
    {
     "name": "stdout",
     "output_type": "stream",
     "text": [
      "Fetched number of followers ids for MarchForScience : 15000\n",
      "Getting Followers ids of marclamonthill\n"
     ]
    },
    {
     "name": "stderr",
     "output_type": "stream",
     "text": [
      "Rate limit reached. Sleeping for: 893\n",
      " 40%|████      | 521/1288 [26:10:10<69:22:17, 325.60s/it]"
     ]
    },
    {
     "name": "stdout",
     "output_type": "stream",
     "text": [
      "Fetched number of followers ids for marclamonthill : 15000\n",
      "Getting Followers ids of marcusbrig\n"
     ]
    },
    {
     "name": "stderr",
     "output_type": "stream",
     "text": [
      "\r",
      " 41%|████      | 522/1288 [26:10:11<48:36:29, 228.45s/it]"
     ]
    },
    {
     "name": "stdout",
     "output_type": "stream",
     "text": [
      "Fetched number of followers ids for marcusbrig : 15000\n",
      "Getting Followers ids of MargaretAtwood\n"
     ]
    },
    {
     "name": "stderr",
     "output_type": "stream",
     "text": [
      "\r",
      " 41%|████      | 523/1288 [26:10:13<34:04:37, 160.36s/it]"
     ]
    },
    {
     "name": "stdout",
     "output_type": "stream",
     "text": [
      "Fetched number of followers ids for MargaretAtwood : 15000\n",
      "Getting Followers ids of MarkCCrowley\n"
     ]
    },
    {
     "name": "stderr",
     "output_type": "stream",
     "text": [
      "\r",
      " 41%|████      | 524/1288 [26:10:14<23:55:05, 112.70s/it]"
     ]
    },
    {
     "name": "stdout",
     "output_type": "stream",
     "text": [
      "Fetched number of followers ids for MarkCCrowley : 15000\n",
      "Getting Followers ids of Marketplace\n"
     ]
    },
    {
     "name": "stderr",
     "output_type": "stream",
     "text": [
      "\r",
      " 41%|████      | 525/1288 [26:10:16<16:49:32, 79.39s/it] "
     ]
    },
    {
     "name": "stdout",
     "output_type": "stream",
     "text": [
      "Fetched number of followers ids for Marketplace : 15000\n",
      "Getting Followers ids of MarkHarrisNYC\n"
     ]
    },
    {
     "name": "stderr",
     "output_type": "stream",
     "text": [
      "Rate limit reached. Sleeping for: 893\n",
      " 41%|████      | 526/1288 [26:25:16<68:53:49, 325.50s/it]"
     ]
    },
    {
     "name": "stdout",
     "output_type": "stream",
     "text": [
      "Fetched number of followers ids for MarkHarrisNYC : 15000\n",
      "Getting Followers ids of MarkRober\n"
     ]
    },
    {
     "name": "stderr",
     "output_type": "stream",
     "text": [
      "\r",
      " 41%|████      | 527/1288 [26:25:17<48:15:53, 228.32s/it]"
     ]
    },
    {
     "name": "stdout",
     "output_type": "stream",
     "text": [
      "Fetched number of followers ids for MarkRober : 15000\n",
      "Getting Followers ids of Mark_Sisson\n"
     ]
    },
    {
     "name": "stderr",
     "output_type": "stream",
     "text": [
      "\r",
      " 41%|████      | 528/1288 [26:25:19<33:50:13, 160.28s/it]"
     ]
    },
    {
     "name": "stdout",
     "output_type": "stream",
     "text": [
      "Fetched number of followers ids for Mark_Sisson : 15000\n",
      "Getting Followers ids of Marthalanefox\n"
     ]
    },
    {
     "name": "stderr",
     "output_type": "stream",
     "text": [
      "\r",
      " 41%|████      | 529/1288 [26:25:22<23:52:28, 113.24s/it]"
     ]
    },
    {
     "name": "stdout",
     "output_type": "stream",
     "text": [
      "Fetched number of followers ids for Marthalanefox : 15000\n",
      "Getting Followers ids of Martina\n"
     ]
    },
    {
     "name": "stderr",
     "output_type": "stream",
     "text": [
      "\r",
      " 41%|████      | 530/1288 [26:25:24<16:47:01, 79.71s/it] "
     ]
    },
    {
     "name": "stdout",
     "output_type": "stream",
     "text": [
      "Fetched number of followers ids for Martina : 15000\n",
      "Getting Followers ids of martyrmade\n"
     ]
    },
    {
     "name": "stderr",
     "output_type": "stream",
     "text": [
      "Rate limit reached. Sleeping for: 891\n",
      " 41%|████      | 531/1288 [26:40:22<68:22:07, 325.14s/it]"
     ]
    },
    {
     "name": "stdout",
     "output_type": "stream",
     "text": [
      "Fetched number of followers ids for martyrmade : 15000\n",
      "Getting Followers ids of marwilliamson\n"
     ]
    },
    {
     "name": "stderr",
     "output_type": "stream",
     "text": [
      "\r",
      " 41%|████▏     | 532/1288 [26:40:23<47:53:23, 228.05s/it]"
     ]
    },
    {
     "name": "stdout",
     "output_type": "stream",
     "text": [
      "Fetched number of followers ids for marwilliamson : 15000\n",
      "Getting Followers ids of mattcutts\n"
     ]
    },
    {
     "name": "stderr",
     "output_type": "stream",
     "text": [
      "\r",
      " 41%|████▏     | 533/1288 [26:40:25<33:34:30, 160.09s/it]"
     ]
    },
    {
     "name": "stdout",
     "output_type": "stream",
     "text": [
      "Fetched number of followers ids for mattcutts : 15000\n",
      "Getting Followers ids of mattdpearce\n"
     ]
    },
    {
     "name": "stderr",
     "output_type": "stream",
     "text": [
      "\r",
      " 41%|████▏     | 534/1288 [26:40:29<23:43:04, 113.24s/it]"
     ]
    },
    {
     "name": "stdout",
     "output_type": "stream",
     "text": [
      "Fetched number of followers ids for mattdpearce : 15000\n",
      "Getting Followers ids of matthaig1\n"
     ]
    },
    {
     "name": "stderr",
     "output_type": "stream",
     "text": [
      "\r",
      " 42%|████▏     | 535/1288 [26:40:30<16:40:23, 79.71s/it] "
     ]
    },
    {
     "name": "stdout",
     "output_type": "stream",
     "text": [
      "Fetched number of followers ids for matthaig1 : 15000\n",
      "Getting Followers ids of matthew_d_green\n"
     ]
    },
    {
     "name": "stderr",
     "output_type": "stream",
     "text": [
      "Rate limit reached. Sleeping for: 891\n",
      " 42%|████▏     | 536/1288 [26:55:28<67:54:45, 325.11s/it]"
     ]
    },
    {
     "name": "stdout",
     "output_type": "stream",
     "text": [
      "Fetched number of followers ids for matthew_d_green : 15000\n",
      "Getting Followers ids of Matt_on_tech\n"
     ]
    },
    {
     "name": "stderr",
     "output_type": "stream",
     "text": [
      "\r",
      " 42%|████▏     | 537/1288 [26:55:29<47:34:15, 228.04s/it]"
     ]
    },
    {
     "name": "stdout",
     "output_type": "stream",
     "text": [
      "Fetched number of followers ids for Matt_on_tech : 15000\n",
      "Getting Followers ids of maureenjohnson\n"
     ]
    },
    {
     "name": "stderr",
     "output_type": "stream",
     "text": [
      "\r",
      " 42%|████▏     | 538/1288 [26:55:31<33:20:48, 160.06s/it]"
     ]
    },
    {
     "name": "stdout",
     "output_type": "stream",
     "text": [
      "Fetched number of followers ids for maureenjohnson : 15000\n",
      "Getting Followers ids of MaxCRoser\n"
     ]
    },
    {
     "name": "stderr",
     "output_type": "stream",
     "text": [
      "\r",
      " 42%|████▏     | 539/1288 [26:55:32<23:24:16, 112.49s/it]"
     ]
    },
    {
     "name": "stdout",
     "output_type": "stream",
     "text": [
      "Fetched number of followers ids for MaxCRoser : 15000\n",
      "Getting Followers ids of mckaycoppins\n"
     ]
    },
    {
     "name": "stderr",
     "output_type": "stream",
     "text": [
      "\r",
      " 42%|████▏     | 540/1288 [26:55:34<16:27:13, 79.19s/it] "
     ]
    },
    {
     "name": "stdout",
     "output_type": "stream",
     "text": [
      "Fetched number of followers ids for mckaycoppins : 15000\n",
      "Getting Followers ids of mcuban\n"
     ]
    },
    {
     "name": "stderr",
     "output_type": "stream",
     "text": [
      "Rate limit reached. Sleeping for: 893\n"
     ]
    },
    {
     "name": "stdout",
     "output_type": "stream",
     "text": [
      "Going to sleep:  Failed to send request: ('Connection aborted.', ConnectionResetError(10054, 'Istniejące połączenie zostało gwałtownie zamknięte przez zdalnego hosta', None, 10054, None))\n"
     ]
    },
    {
     "name": "stderr",
     "output_type": "stream",
     "text": [
      "\r",
      " 42%|████▏     | 541/1288 [27:11:33<71:13:02, 343.22s/it]"
     ]
    },
    {
     "name": "stdout",
     "output_type": "stream",
     "text": [
      "Fetched number of followers ids for mcuban : 10000\n",
      "Getting Followers ids of medical_xpress\n"
     ]
    },
    {
     "name": "stderr",
     "output_type": "stream",
     "text": [
      "\r",
      " 42%|████▏     | 542/1288 [27:11:35<49:52:58, 240.72s/it]"
     ]
    },
    {
     "name": "stdout",
     "output_type": "stream",
     "text": [
      "Fetched number of followers ids for medical_xpress : 15000\n",
      "Getting Followers ids of Medium\n"
     ]
    },
    {
     "name": "stderr",
     "output_type": "stream",
     "text": [
      "\r",
      " 42%|████▏     | 543/1288 [27:11:36<34:57:43, 168.94s/it]"
     ]
    },
    {
     "name": "stdout",
     "output_type": "stream",
     "text": [
      "Fetched number of followers ids for Medium : 15000\n",
      "Getting Followers ids of Medscape\n"
     ]
    },
    {
     "name": "stderr",
     "output_type": "stream",
     "text": [
      "\r",
      " 42%|████▏     | 544/1288 [27:11:38<24:31:51, 118.70s/it]"
     ]
    },
    {
     "name": "stdout",
     "output_type": "stream",
     "text": [
      "Fetched number of followers ids for Medscape : 15000\n",
      "Getting Followers ids of megynkelly\n"
     ]
    },
    {
     "name": "stderr",
     "output_type": "stream",
     "text": [
      "\r",
      " 42%|████▏     | 545/1288 [27:11:39<17:15:40, 83.64s/it] "
     ]
    },
    {
     "name": "stdout",
     "output_type": "stream",
     "text": [
      "Fetched number of followers ids for megynkelly : 15000\n",
      "Getting Followers ids of melindagates\n"
     ]
    },
    {
     "name": "stderr",
     "output_type": "stream",
     "text": [
      "\r",
      " 42%|████▏     | 546/1288 [27:11:41<12:10:32, 59.07s/it]"
     ]
    },
    {
     "name": "stdout",
     "output_type": "stream",
     "text": [
      "Fetched number of followers ids for melindagates : 15000\n",
      "Getting Followers ids of mental_floss\n"
     ]
    },
    {
     "name": "stderr",
     "output_type": "stream",
     "text": [
      "Rate limit reached. Sleeping for: 893\n",
      " 42%|████▏     | 547/1288 [27:26:41<64:04:18, 311.28s/it]"
     ]
    },
    {
     "name": "stdout",
     "output_type": "stream",
     "text": [
      "Fetched number of followers ids for mental_floss : 15000\n",
      "Getting Followers ids of mermhart\n"
     ]
    },
    {
     "name": "stderr",
     "output_type": "stream",
     "text": [
      "\r",
      " 43%|████▎     | 548/1288 [27:26:44<45:00:05, 218.93s/it]"
     ]
    },
    {
     "name": "stdout",
     "output_type": "stream",
     "text": [
      "Fetched number of followers ids for mermhart : 15000\n",
      "Getting Followers ids of meyerweb\n"
     ]
    },
    {
     "name": "stderr",
     "output_type": "stream",
     "text": [
      "\r",
      " 43%|████▎     | 549/1288 [27:26:46<31:32:59, 153.69s/it]"
     ]
    },
    {
     "name": "stdout",
     "output_type": "stream",
     "text": [
      "Fetched number of followers ids for meyerweb : 15000\n",
      "Getting Followers ids of MHarrisPerry\n"
     ]
    },
    {
     "name": "stderr",
     "output_type": "stream",
     "text": [
      "\r",
      " 43%|████▎     | 550/1288 [27:26:47<22:08:52, 108.04s/it]"
     ]
    },
    {
     "name": "stdout",
     "output_type": "stream",
     "text": [
      "Fetched number of followers ids for MHarrisPerry : 15000\n",
      "Getting Followers ids of MiaFarrow\n"
     ]
    },
    {
     "name": "stderr",
     "output_type": "stream",
     "text": [
      "\r",
      " 43%|████▎     | 551/1288 [27:26:51<15:41:26, 76.64s/it] "
     ]
    },
    {
     "name": "stdout",
     "output_type": "stream",
     "text": [
      "Fetched number of followers ids for MiaFarrow : 15000\n",
      "Getting Followers ids of michaelbierut\n"
     ]
    },
    {
     "name": "stderr",
     "output_type": "stream",
     "text": [
      "Rate limit reached. Sleeping for: 889\n",
      " 43%|████▎     | 552/1288 [27:41:47<65:54:34, 322.38s/it]"
     ]
    },
    {
     "name": "stdout",
     "output_type": "stream",
     "text": [
      "Fetched number of followers ids for michaelbierut : 15000\n",
      "Getting Followers ids of MichaelDell\n"
     ]
    },
    {
     "name": "stderr",
     "output_type": "stream",
     "text": [
      "\r",
      " 43%|████▎     | 553/1288 [27:41:49<46:15:09, 226.54s/it]"
     ]
    },
    {
     "name": "stdout",
     "output_type": "stream",
     "text": [
      "Fetched number of followers ids for MichaelDell : 15000\n",
      "Getting Followers ids of MichaelGalanin\n"
     ]
    },
    {
     "name": "stderr",
     "output_type": "stream",
     "text": [
      "\r",
      " 43%|████▎     | 554/1288 [27:41:51<32:25:29, 159.03s/it]"
     ]
    },
    {
     "name": "stdout",
     "output_type": "stream",
     "text": [
      "Fetched number of followers ids for MichaelGalanin : 15000\n",
      "Getting Followers ids of michaelharriot\n"
     ]
    },
    {
     "name": "stderr",
     "output_type": "stream",
     "text": [
      "\r",
      " 43%|████▎     | 555/1288 [27:41:53<22:45:36, 111.78s/it]"
     ]
    },
    {
     "name": "stdout",
     "output_type": "stream",
     "text": [
      "Fetched number of followers ids for michaelharriot : 15000\n",
      "Getting Followers ids of michaelianblack\n"
     ]
    },
    {
     "name": "stderr",
     "output_type": "stream",
     "text": [
      "\r",
      " 43%|████▎     | 556/1288 [27:41:54<16:00:59, 78.77s/it] "
     ]
    },
    {
     "name": "stdout",
     "output_type": "stream",
     "text": [
      "Fetched number of followers ids for michaelianblack : 15000\n",
      "Getting Followers ids of michaeljknowles\n"
     ]
    },
    {
     "name": "stderr",
     "output_type": "stream",
     "text": [
      "Rate limit reached. Sleeping for: 892\n",
      " 43%|████▎     | 557/1288 [27:56:53<65:56:34, 324.75s/it]"
     ]
    },
    {
     "name": "stdout",
     "output_type": "stream",
     "text": [
      "Fetched number of followers ids for michaeljknowles : 15000\n",
      "Getting Followers ids of michaelmina_lab\n"
     ]
    },
    {
     "name": "stderr",
     "output_type": "stream",
     "text": [
      "\r",
      " 43%|████▎     | 558/1288 [27:56:55<46:11:23, 227.79s/it]"
     ]
    },
    {
     "name": "stdout",
     "output_type": "stream",
     "text": [
      "Fetched number of followers ids for michaelmina_lab : 15000\n",
      "Getting Followers ids of MicrobiomDigest\n"
     ]
    },
    {
     "name": "stderr",
     "output_type": "stream",
     "text": [
      "\r",
      " 43%|████▎     | 559/1288 [27:56:56<32:22:57, 159.91s/it]"
     ]
    },
    {
     "name": "stdout",
     "output_type": "stream",
     "text": [
      "Fetched number of followers ids for MicrobiomDigest : 15000\n",
      "Getting Followers ids of mikebutcher\n"
     ]
    },
    {
     "name": "stderr",
     "output_type": "stream",
     "text": [
      "\r",
      " 43%|████▎     | 560/1288 [27:56:58<22:43:39, 112.39s/it]"
     ]
    },
    {
     "name": "stdout",
     "output_type": "stream",
     "text": [
      "Fetched number of followers ids for mikebutcher : 15000\n",
      "Getting Followers ids of MikeDrucker\n"
     ]
    },
    {
     "name": "stderr",
     "output_type": "stream",
     "text": [
      "\r",
      " 44%|████▎     | 561/1288 [27:56:59<15:58:43, 79.12s/it] "
     ]
    },
    {
     "name": "stdout",
     "output_type": "stream",
     "text": [
      "Fetched number of followers ids for MikeDrucker : 15000\n",
      "Getting Followers ids of Mikel_Jollett\n"
     ]
    },
    {
     "name": "stderr",
     "output_type": "stream",
     "text": [
      "Rate limit reached. Sleeping for: 894\n",
      " 44%|████▎     | 562/1288 [28:12:00<65:40:12, 325.64s/it]"
     ]
    },
    {
     "name": "stdout",
     "output_type": "stream",
     "text": [
      "Fetched number of followers ids for Mikel_Jollett : 15000\n",
      "Getting Followers ids of mikko\n"
     ]
    },
    {
     "name": "stderr",
     "output_type": "stream",
     "text": [
      "\r",
      " 44%|████▎     | 563/1288 [28:12:01<45:59:37, 228.38s/it]"
     ]
    },
    {
     "name": "stdout",
     "output_type": "stream",
     "text": [
      "Fetched number of followers ids for mikko : 15000\n",
      "Getting Followers ids of minutephysics\n"
     ]
    },
    {
     "name": "stderr",
     "output_type": "stream",
     "text": [
      "\r",
      " 44%|████▍     | 564/1288 [28:12:03<32:14:39, 160.33s/it]"
     ]
    },
    {
     "name": "stdout",
     "output_type": "stream",
     "text": [
      "Fetched number of followers ids for minutephysics : 15000\n",
      "Getting Followers ids of mkapor\n"
     ]
    },
    {
     "name": "stderr",
     "output_type": "stream",
     "text": [
      "\r",
      " 44%|████▍     | 565/1288 [28:12:04<22:37:37, 112.67s/it]"
     ]
    },
    {
     "name": "stdout",
     "output_type": "stream",
     "text": [
      "Fetched number of followers ids for mkapor : 15000\n",
      "Getting Followers ids of mkobach\n"
     ]
    },
    {
     "name": "stderr",
     "output_type": "stream",
     "text": [
      "\r",
      " 44%|████▍     | 566/1288 [28:12:06<15:54:16, 79.30s/it] "
     ]
    },
    {
     "name": "stdout",
     "output_type": "stream",
     "text": [
      "Fetched number of followers ids for mkobach : 15000\n",
      "Getting Followers ids of mlipsitch\n"
     ]
    },
    {
     "name": "stderr",
     "output_type": "stream",
     "text": [
      "Rate limit reached. Sleeping for: 893\n",
      " 44%|████▍     | 567/1288 [28:27:06<65:10:32, 325.43s/it]"
     ]
    },
    {
     "name": "stdout",
     "output_type": "stream",
     "text": [
      "Fetched number of followers ids for mlipsitch : 15000\n",
      "Getting Followers ids of mollywood\n"
     ]
    },
    {
     "name": "stderr",
     "output_type": "stream",
     "text": [
      "\r",
      " 44%|████▍     | 568/1288 [28:27:07<45:39:00, 228.25s/it]"
     ]
    },
    {
     "name": "stdout",
     "output_type": "stream",
     "text": [
      "Fetched number of followers ids for mollywood : 15000\n",
      "Getting Followers ids of MonicaLewinsky\n"
     ]
    },
    {
     "name": "stderr",
     "output_type": "stream",
     "text": [
      "\r",
      " 44%|████▍     | 569/1288 [28:27:09<32:00:14, 160.24s/it]"
     ]
    },
    {
     "name": "stdout",
     "output_type": "stream",
     "text": [
      "Fetched number of followers ids for MonicaLewinsky : 15000\n",
      "Getting Followers ids of monstroso\n"
     ]
    },
    {
     "name": "stderr",
     "output_type": "stream",
     "text": [
      "\r",
      " 44%|████▍     | 570/1288 [28:27:10<22:27:46, 112.63s/it]"
     ]
    },
    {
     "name": "stdout",
     "output_type": "stream",
     "text": [
      "Fetched number of followers ids for monstroso : 15000\n",
      "Getting Followers ids of moorehn\n"
     ]
    },
    {
     "name": "stderr",
     "output_type": "stream",
     "text": [
      "\r",
      " 44%|████▍     | 571/1288 [28:27:12<15:49:27, 79.45s/it] "
     ]
    },
    {
     "name": "stdout",
     "output_type": "stream",
     "text": [
      "Fetched number of followers ids for moorehn : 15000\n",
      "Getting Followers ids of MooseAllain\n"
     ]
    },
    {
     "name": "stderr",
     "output_type": "stream",
     "text": [
      "Rate limit reached. Sleeping for: 893\n",
      " 44%|████▍     | 572/1288 [28:42:12<64:45:06, 325.57s/it]"
     ]
    },
    {
     "name": "stdout",
     "output_type": "stream",
     "text": [
      "Fetched number of followers ids for MooseAllain : 15000\n",
      "Getting Followers ids of morgan_murphy\n"
     ]
    },
    {
     "name": "stderr",
     "output_type": "stream",
     "text": [
      "\r",
      " 44%|████▍     | 573/1288 [28:42:13<45:21:07, 228.35s/it]"
     ]
    },
    {
     "name": "stdout",
     "output_type": "stream",
     "text": [
      "Fetched number of followers ids for morgan_murphy : 15000\n",
      "Getting Followers ids of morningmoneyben\n"
     ]
    },
    {
     "name": "stderr",
     "output_type": "stream",
     "text": [
      "\r",
      " 45%|████▍     | 574/1288 [28:42:15<31:47:34, 160.30s/it]"
     ]
    },
    {
     "name": "stdout",
     "output_type": "stream",
     "text": [
      "Fetched number of followers ids for morningmoneyben : 15000\n",
      "Getting Followers ids of mountain_goats\n"
     ]
    },
    {
     "name": "stderr",
     "output_type": "stream",
     "text": [
      "\r",
      " 45%|████▍     | 575/1288 [28:42:17<22:18:51, 112.67s/it]"
     ]
    },
    {
     "name": "stdout",
     "output_type": "stream",
     "text": [
      "Fetched number of followers ids for mountain_goats : 15000\n",
      "Getting Followers ids of mrbenjaminlaw\n"
     ]
    },
    {
     "name": "stderr",
     "output_type": "stream",
     "text": [
      "\r",
      " 45%|████▍     | 576/1288 [28:42:18<15:41:12, 79.32s/it] "
     ]
    },
    {
     "name": "stdout",
     "output_type": "stream",
     "text": [
      "Fetched number of followers ids for mrbenjaminlaw : 15000\n",
      "Getting Followers ids of MRodOfficial\n"
     ]
    },
    {
     "name": "stderr",
     "output_type": "stream",
     "text": [
      "Rate limit reached. Sleeping for: 894\n",
      " 45%|████▍     | 577/1288 [28:57:19<64:20:27, 325.78s/it]"
     ]
    },
    {
     "name": "stdout",
     "output_type": "stream",
     "text": [
      "Fetched number of followers ids for MRodOfficial : 15000\n",
      "Getting Followers ids of MsMelChen\n"
     ]
    },
    {
     "name": "stderr",
     "output_type": "stream",
     "text": [
      "\r",
      " 45%|████▍     | 578/1288 [28:57:21<45:04:24, 228.54s/it]"
     ]
    },
    {
     "name": "stdout",
     "output_type": "stream",
     "text": [
      "Fetched number of followers ids for MsMelChen : 15000\n",
      "Getting Followers ids of MsPackyetti\n"
     ]
    },
    {
     "name": "stderr",
     "output_type": "stream",
     "text": [
      "\r",
      " 45%|████▍     | 579/1288 [28:57:22<31:35:34, 160.41s/it]"
     ]
    },
    {
     "name": "stdout",
     "output_type": "stream",
     "text": [
      "Fetched number of followers ids for MsPackyetti : 15000\n",
      "Getting Followers ids of mugecevik\n"
     ]
    },
    {
     "name": "stderr",
     "output_type": "stream",
     "text": [
      "\r",
      " 45%|████▌     | 580/1288 [28:57:23<22:10:19, 112.74s/it]"
     ]
    },
    {
     "name": "stdout",
     "output_type": "stream",
     "text": [
      "Fetched number of followers ids for mugecevik : 15000\n",
      "Getting Followers ids of mvankerkhove\n"
     ]
    },
    {
     "name": "stderr",
     "output_type": "stream",
     "text": [
      "\r",
      " 45%|████▌     | 581/1288 [28:57:25<15:35:08, 79.36s/it] "
     ]
    },
    {
     "name": "stdout",
     "output_type": "stream",
     "text": [
      "Fetched number of followers ids for mvankerkhove : 15000\n",
      "Getting Followers ids of NancyRichmond\n"
     ]
    },
    {
     "name": "stderr",
     "output_type": "stream",
     "text": [
      "Rate limit reached. Sleeping for: 893\n",
      " 45%|████▌     | 582/1288 [29:12:25<63:49:47, 325.48s/it]"
     ]
    },
    {
     "name": "stdout",
     "output_type": "stream",
     "text": [
      "Fetched number of followers ids for NancyRichmond : 15000\n",
      "Getting Followers ids of NASA360\n"
     ]
    },
    {
     "name": "stderr",
     "output_type": "stream",
     "text": [
      "\r",
      " 45%|████▌     | 583/1288 [29:12:26<44:42:16, 228.28s/it]"
     ]
    },
    {
     "name": "stdout",
     "output_type": "stream",
     "text": [
      "Fetched number of followers ids for NASA360 : 15000\n",
      "Getting Followers ids of NASAAmes\n"
     ]
    },
    {
     "name": "stderr",
     "output_type": "stream",
     "text": [
      "\r",
      " 45%|████▌     | 584/1288 [29:12:28<31:20:26, 160.26s/it]"
     ]
    },
    {
     "name": "stdout",
     "output_type": "stream",
     "text": [
      "Fetched number of followers ids for NASAAmes : 15000\n",
      "Getting Followers ids of NASAAstrobio\n"
     ]
    },
    {
     "name": "stderr",
     "output_type": "stream",
     "text": [
      "\r",
      " 45%|████▌     | 585/1288 [29:12:29<21:59:44, 112.64s/it]"
     ]
    },
    {
     "name": "stdout",
     "output_type": "stream",
     "text": [
      "Fetched number of followers ids for NASAAstrobio : 15000\n",
      "Getting Followers ids of NASAExoplanets\n"
     ]
    },
    {
     "name": "stderr",
     "output_type": "stream",
     "text": [
      "\r",
      " 45%|████▌     | 586/1288 [29:12:31<15:27:46, 79.30s/it] "
     ]
    },
    {
     "name": "stdout",
     "output_type": "stream",
     "text": [
      "Fetched number of followers ids for NASAExoplanets : 15000\n",
      "Getting Followers ids of NASAGoddard\n"
     ]
    },
    {
     "name": "stderr",
     "output_type": "stream",
     "text": [
      "Rate limit reached. Sleeping for: 893\n",
      " 46%|████▌     | 587/1288 [29:27:31<63:22:17, 325.45s/it]"
     ]
    },
    {
     "name": "stdout",
     "output_type": "stream",
     "text": [
      "Fetched number of followers ids for NASAGoddard : 15000\n",
      "Getting Followers ids of NASAGoddardPix\n"
     ]
    },
    {
     "name": "stderr",
     "output_type": "stream",
     "text": [
      "\r",
      " 46%|████▌     | 588/1288 [29:27:32<44:23:19, 228.28s/it]"
     ]
    },
    {
     "name": "stdout",
     "output_type": "stream",
     "text": [
      "Fetched number of followers ids for NASAGoddardPix : 15000\n",
      "Getting Followers ids of NASAJPL\n"
     ]
    },
    {
     "name": "stderr",
     "output_type": "stream",
     "text": [
      "\r",
      " 46%|████▌     | 589/1288 [29:27:34<31:07:40, 160.32s/it]"
     ]
    },
    {
     "name": "stdout",
     "output_type": "stream",
     "text": [
      "Fetched number of followers ids for NASAJPL : 15000\n",
      "Getting Followers ids of NASAMars\n"
     ]
    },
    {
     "name": "stderr",
     "output_type": "stream",
     "text": [
      "\r",
      " 46%|████▌     | 590/1288 [29:27:35<21:50:42, 112.67s/it]"
     ]
    },
    {
     "name": "stdout",
     "output_type": "stream",
     "text": [
      "Fetched number of followers ids for NASAMars : 15000\n",
      "Getting Followers ids of NASASolarSystem\n"
     ]
    },
    {
     "name": "stderr",
     "output_type": "stream",
     "text": [
      "\r",
      " 46%|████▌     | 591/1288 [29:27:37<15:21:33, 79.33s/it] "
     ]
    },
    {
     "name": "stdout",
     "output_type": "stream",
     "text": [
      "Fetched number of followers ids for NASASolarSystem : 15000\n",
      "Getting Followers ids of NASASTEM\n"
     ]
    },
    {
     "name": "stderr",
     "output_type": "stream",
     "text": [
      "Rate limit reached. Sleeping for: 893\n",
      " 46%|████▌     | 592/1288 [29:42:37<62:55:30, 325.47s/it]"
     ]
    },
    {
     "name": "stdout",
     "output_type": "stream",
     "text": [
      "Fetched number of followers ids for NASASTEM : 15000\n",
      "Getting Followers ids of NASASun\n"
     ]
    },
    {
     "name": "stderr",
     "output_type": "stream",
     "text": [
      "\r",
      " 46%|████▌     | 593/1288 [29:42:38<44:04:10, 228.27s/it]"
     ]
    },
    {
     "name": "stdout",
     "output_type": "stream",
     "text": [
      "Fetched number of followers ids for NASASun : 15000\n",
      "Getting Followers ids of NASA_Lunar\n"
     ]
    },
    {
     "name": "stderr",
     "output_type": "stream",
     "text": [
      "\r",
      " 46%|████▌     | 594/1288 [29:42:40<30:53:26, 160.24s/it]"
     ]
    },
    {
     "name": "stdout",
     "output_type": "stream",
     "text": [
      "Fetched number of followers ids for NASA_Lunar : 15000\n",
      "Getting Followers ids of NASA_Technology\n"
     ]
    },
    {
     "name": "stderr",
     "output_type": "stream",
     "text": [
      "\r",
      " 46%|████▌     | 595/1288 [29:42:41<21:40:43, 112.62s/it]"
     ]
    },
    {
     "name": "stdout",
     "output_type": "stream",
     "text": [
      "Fetched number of followers ids for NASA_Technology : 15000\n",
      "Getting Followers ids of nataliexdean\n"
     ]
    },
    {
     "name": "stderr",
     "output_type": "stream",
     "text": [
      "\r",
      " 46%|████▋     | 596/1288 [29:42:43<15:14:35, 79.30s/it] "
     ]
    },
    {
     "name": "stdout",
     "output_type": "stream",
     "text": [
      "Fetched number of followers ids for nataliexdean : 15000\n",
      "Getting Followers ids of Nate_Cohn\n"
     ]
    },
    {
     "name": "stderr",
     "output_type": "stream",
     "text": [
      "Rate limit reached. Sleeping for: 893\n",
      " 46%|████▋     | 597/1288 [29:57:43<62:28:05, 325.45s/it]"
     ]
    },
    {
     "name": "stdout",
     "output_type": "stream",
     "text": [
      "Fetched number of followers ids for Nate_Cohn : 15000\n",
      "Getting Followers ids of NatGeoMag\n"
     ]
    },
    {
     "name": "stderr",
     "output_type": "stream",
     "text": [
      "\r",
      " 46%|████▋     | 598/1288 [29:57:44<43:45:02, 228.26s/it]"
     ]
    },
    {
     "name": "stdout",
     "output_type": "stream",
     "text": [
      "Fetched number of followers ids for NatGeoMag : 15000\n",
      "Getting Followers ids of NatGeoScience\n"
     ]
    },
    {
     "name": "stderr",
     "output_type": "stream",
     "text": [
      "\r",
      " 47%|████▋     | 599/1288 [29:57:45<30:39:54, 160.22s/it]"
     ]
    },
    {
     "name": "stdout",
     "output_type": "stream",
     "text": [
      "Fetched number of followers ids for NatGeoScience : 15000\n",
      "Getting Followers ids of NathanTankus\n"
     ]
    },
    {
     "name": "stderr",
     "output_type": "stream",
     "text": [
      "\r",
      " 47%|████▋     | 600/1288 [29:57:47<21:31:25, 112.62s/it]"
     ]
    },
    {
     "name": "stdout",
     "output_type": "stream",
     "text": [
      "Fetched number of followers ids for NathanTankus : 15000\n",
      "Getting Followers ids of nathanwpyle\n"
     ]
    },
    {
     "name": "stderr",
     "output_type": "stream",
     "text": [
      "\r",
      " 47%|████▋     | 601/1288 [29:57:49<15:07:59, 79.30s/it] "
     ]
    },
    {
     "name": "stdout",
     "output_type": "stream",
     "text": [
      "Fetched number of followers ids for nathanwpyle : 15000\n",
      "Getting Followers ids of NativeApprops\n"
     ]
    },
    {
     "name": "stderr",
     "output_type": "stream",
     "text": [
      "Rate limit reached. Sleeping for: 894\n",
      " 47%|████▋     | 602/1288 [30:12:49<62:04:09, 325.73s/it]"
     ]
    },
    {
     "name": "stdout",
     "output_type": "stream",
     "text": [
      "Fetched number of followers ids for NativeApprops : 15000\n",
      "Getting Followers ids of Nature\n"
     ]
    },
    {
     "name": "stderr",
     "output_type": "stream",
     "text": [
      "\r",
      " 47%|████▋     | 603/1288 [30:12:51<43:28:12, 228.46s/it]"
     ]
    },
    {
     "name": "stdout",
     "output_type": "stream",
     "text": [
      "Fetched number of followers ids for Nature : 15000\n",
      "Getting Followers ids of NatureBiotech\n"
     ]
    },
    {
     "name": "stderr",
     "output_type": "stream",
     "text": [
      "\r",
      " 47%|████▋     | 604/1288 [30:12:52<30:28:24, 160.39s/it]"
     ]
    },
    {
     "name": "stdout",
     "output_type": "stream",
     "text": [
      "Fetched number of followers ids for NatureBiotech : 15000\n",
      "Getting Followers ids of NatureComms\n"
     ]
    },
    {
     "name": "stderr",
     "output_type": "stream",
     "text": [
      "\r",
      " 47%|████▋     | 605/1288 [30:12:54<21:23:01, 112.71s/it]"
     ]
    },
    {
     "name": "stdout",
     "output_type": "stream",
     "text": [
      "Fetched number of followers ids for NatureComms : 15000\n",
      "Getting Followers ids of NatureMedicine\n"
     ]
    },
    {
     "name": "stderr",
     "output_type": "stream",
     "text": [
      "\r",
      " 47%|████▋     | 606/1288 [30:12:55<15:01:49, 79.34s/it] "
     ]
    },
    {
     "name": "stdout",
     "output_type": "stream",
     "text": [
      "Fetched number of followers ids for NatureMedicine : 15000\n",
      "Getting Followers ids of NaturePhysics\n"
     ]
    },
    {
     "name": "stderr",
     "output_type": "stream",
     "text": [
      "Rate limit reached. Sleeping for: 894\n",
      " 47%|████▋     | 607/1288 [30:27:57<61:40:51, 326.07s/it]"
     ]
    },
    {
     "name": "stdout",
     "output_type": "stream",
     "text": [
      "Fetched number of followers ids for NaturePhysics : 15000\n",
      "Getting Followers ids of NaturePortfolio\n"
     ]
    },
    {
     "name": "stderr",
     "output_type": "stream",
     "text": [
      "\r",
      " 47%|████▋     | 608/1288 [30:27:59<43:13:43, 228.86s/it]"
     ]
    },
    {
     "name": "stdout",
     "output_type": "stream",
     "text": [
      "Fetched number of followers ids for NaturePortfolio : 15000\n",
      "Getting Followers ids of naval\n"
     ]
    },
    {
     "name": "stderr",
     "output_type": "stream",
     "text": [
      "\r",
      " 47%|████▋     | 609/1288 [30:28:01<30:17:56, 160.64s/it]"
     ]
    },
    {
     "name": "stdout",
     "output_type": "stream",
     "text": [
      "Fetched number of followers ids for naval : 15000\n",
      "Getting Followers ids of neontaster\n"
     ]
    },
    {
     "name": "stderr",
     "output_type": "stream",
     "text": [
      "\r",
      " 47%|████▋     | 610/1288 [30:28:02<21:15:53, 112.91s/it]"
     ]
    },
    {
     "name": "stdout",
     "output_type": "stream",
     "text": [
      "Fetched number of followers ids for neontaster : 15000\n",
      "Getting Followers ids of Neuro_Skeptic\n"
     ]
    },
    {
     "name": "stderr",
     "output_type": "stream",
     "text": [
      "\r",
      " 47%|████▋     | 611/1288 [30:28:04<14:56:52, 79.49s/it] "
     ]
    },
    {
     "name": "stdout",
     "output_type": "stream",
     "text": [
      "Fetched number of followers ids for Neuro_Skeptic : 15000\n",
      "Getting Followers ids of NewHorizons2015\n"
     ]
    },
    {
     "name": "stderr",
     "output_type": "stream",
     "text": [
      "Rate limit reached. Sleeping for: 893\n",
      " 48%|████▊     | 612/1288 [30:43:03<61:07:45, 325.54s/it]"
     ]
    },
    {
     "name": "stdout",
     "output_type": "stream",
     "text": [
      "Fetched number of followers ids for NewHorizons2015 : 15000\n",
      "Getting Followers ids of newscientist\n"
     ]
    },
    {
     "name": "stderr",
     "output_type": "stream",
     "text": [
      "\r",
      " 48%|████▊     | 613/1288 [30:43:05<42:48:35, 228.32s/it]"
     ]
    },
    {
     "name": "stdout",
     "output_type": "stream",
     "text": [
      "Fetched number of followers ids for newscientist : 15000\n",
      "Getting Followers ids of NewsfromScience\n"
     ]
    },
    {
     "name": "stderr",
     "output_type": "stream",
     "text": [
      "\r",
      " 48%|████▊     | 614/1288 [30:43:06<30:00:17, 160.26s/it]"
     ]
    },
    {
     "name": "stdout",
     "output_type": "stream",
     "text": [
      "Fetched number of followers ids for NewsfromScience : 15000\n",
      "Getting Followers ids of nfergus\n"
     ]
    },
    {
     "name": "stderr",
     "output_type": "stream",
     "text": [
      "\r",
      " 48%|████▊     | 615/1288 [30:43:08<21:04:14, 112.71s/it]"
     ]
    },
    {
     "name": "stdout",
     "output_type": "stream",
     "text": [
      "Fetched number of followers ids for nfergus : 15000\n",
      "Getting Followers ids of nhannahjones\n"
     ]
    },
    {
     "name": "stderr",
     "output_type": "stream",
     "text": [
      "\r",
      " 48%|████▊     | 616/1288 [30:43:10<14:49:50, 79.45s/it] "
     ]
    },
    {
     "name": "stdout",
     "output_type": "stream",
     "text": [
      "Fetched number of followers ids for nhannahjones : 15000\n",
      "Getting Followers ids of nickgillespie\n"
     ]
    },
    {
     "name": "stderr",
     "output_type": "stream",
     "text": [
      "Rate limit reached. Sleeping for: 893\n",
      " 48%|████▊     | 617/1288 [30:58:10<60:41:10, 325.59s/it]"
     ]
    },
    {
     "name": "stdout",
     "output_type": "stream",
     "text": [
      "Fetched number of followers ids for nickgillespie : 15000\n",
      "Getting Followers ids of NickHintonn\n",
      "Going to sleep:  Not authorized.\n"
     ]
    },
    {
     "name": "stderr",
     "output_type": "stream",
     "text": [
      "\r",
      " 48%|████▊     | 618/1288 [30:59:10<45:46:48, 245.98s/it]"
     ]
    },
    {
     "name": "stdout",
     "output_type": "stream",
     "text": [
      "Fetched number of followers ids for NickHintonn : 0\n",
      "Getting Followers ids of NickyAACampbell\n"
     ]
    },
    {
     "name": "stderr",
     "output_type": "stream",
     "text": [
      "\r",
      " 48%|████▊     | 619/1288 [30:59:12<32:06:03, 172.74s/it]"
     ]
    },
    {
     "name": "stdout",
     "output_type": "stream",
     "text": [
      "Fetched number of followers ids for NickyAACampbell : 15000\n",
      "Getting Followers ids of NiemanLab\n"
     ]
    },
    {
     "name": "stderr",
     "output_type": "stream",
     "text": [
      "\r",
      " 48%|████▊     | 620/1288 [30:59:13<22:31:13, 121.37s/it]"
     ]
    },
    {
     "name": "stdout",
     "output_type": "stream",
     "text": [
      "Fetched number of followers ids for NiemanLab : 15000\n",
      "Getting Followers ids of nigelgod\n"
     ]
    },
    {
     "name": "stderr",
     "output_type": "stream",
     "text": [
      "\r",
      " 48%|████▊     | 621/1288 [30:59:15<15:49:20, 85.40s/it] "
     ]
    },
    {
     "name": "stdout",
     "output_type": "stream",
     "text": [
      "Fetched number of followers ids for nigelgod : 15000\n",
      "Getting Followers ids of nilanjanaroy\n"
     ]
    },
    {
     "name": "stderr",
     "output_type": "stream",
     "text": [
      "Rate limit reached. Sleeping for: 833\n",
      " 48%|████▊     | 622/1288 [31:13:14<57:39:41, 311.68s/it]"
     ]
    },
    {
     "name": "stdout",
     "output_type": "stream",
     "text": [
      "Fetched number of followers ids for nilanjanaroy : 15000\n",
      "Getting Followers ids of nkjemisin\n"
     ]
    },
    {
     "name": "stderr",
     "output_type": "stream",
     "text": [
      "\r",
      " 48%|████▊     | 623/1288 [31:13:16<40:23:13, 218.64s/it]"
     ]
    },
    {
     "name": "stdout",
     "output_type": "stream",
     "text": [
      "Fetched number of followers ids for nkjemisin : 15000\n",
      "Getting Followers ids of NMNH\n"
     ]
    },
    {
     "name": "stderr",
     "output_type": "stream",
     "text": [
      "\r",
      " 48%|████▊     | 624/1288 [31:13:17<28:18:39, 153.49s/it]"
     ]
    },
    {
     "name": "stdout",
     "output_type": "stream",
     "text": [
      "Fetched number of followers ids for NMNH : 15000\n",
      "Getting Followers ids of Nnedi\n"
     ]
    },
    {
     "name": "stderr",
     "output_type": "stream",
     "text": [
      "\r",
      " 49%|████▊     | 625/1288 [31:13:19<19:52:13, 107.89s/it]"
     ]
    },
    {
     "name": "stdout",
     "output_type": "stream",
     "text": [
      "Fetched number of followers ids for Nnedi : 15000\n",
      "Getting Followers ids of nntaleb\n"
     ]
    },
    {
     "name": "stderr",
     "output_type": "stream",
     "text": [
      "\r",
      " 49%|████▊     | 626/1288 [31:13:20<13:58:10, 75.97s/it] "
     ]
    },
    {
     "name": "stdout",
     "output_type": "stream",
     "text": [
      "Fetched number of followers ids for nntaleb : 15000\n",
      "Getting Followers ids of noaheverett\n"
     ]
    },
    {
     "name": "stderr",
     "output_type": "stream",
     "text": [
      "Rate limit reached. Sleeping for: 894\n",
      " 49%|████▊     | 627/1288 [31:28:21<59:22:57, 323.42s/it]"
     ]
    },
    {
     "name": "stdout",
     "output_type": "stream",
     "text": [
      "Fetched number of followers ids for noaheverett : 15000\n",
      "Getting Followers ids of Noahpinion\n"
     ]
    },
    {
     "name": "stderr",
     "output_type": "stream",
     "text": [
      "\r",
      " 49%|████▉     | 628/1288 [31:28:23<41:35:18, 226.85s/it]"
     ]
    },
    {
     "name": "stdout",
     "output_type": "stream",
     "text": [
      "Fetched number of followers ids for Noahpinion : 15000\n",
      "Getting Followers ids of normanswan\n"
     ]
    },
    {
     "name": "stderr",
     "output_type": "stream",
     "text": [
      "\r",
      " 49%|████▉     | 629/1288 [31:28:24<29:09:02, 159.24s/it]"
     ]
    },
    {
     "name": "stdout",
     "output_type": "stream",
     "text": [
      "Fetched number of followers ids for normanswan : 15000\n",
      "Getting Followers ids of notch\n"
     ]
    },
    {
     "name": "stderr",
     "output_type": "stream",
     "text": [
      "\r",
      " 49%|████▉     | 630/1288 [31:28:26<20:27:23, 111.92s/it]"
     ]
    },
    {
     "name": "stdout",
     "output_type": "stream",
     "text": [
      "Fetched number of followers ids for notch : 15000\n",
      "Getting Followers ids of novapbs\n"
     ]
    },
    {
     "name": "stderr",
     "output_type": "stream",
     "text": [
      "\r",
      " 49%|████▉     | 631/1288 [31:28:27<14:22:47, 78.79s/it] "
     ]
    },
    {
     "name": "stdout",
     "output_type": "stream",
     "text": [
      "Fetched number of followers ids for novapbs : 15000\n",
      "Getting Followers ids of npratc\n"
     ]
    },
    {
     "name": "stderr",
     "output_type": "stream",
     "text": [
      "Rate limit reached. Sleeping for: 894\n",
      " 49%|████▉     | 632/1288 [31:43:28<59:17:19, 325.36s/it]"
     ]
    },
    {
     "name": "stdout",
     "output_type": "stream",
     "text": [
      "Fetched number of followers ids for npratc : 15000\n",
      "Getting Followers ids of NPRinskeep\n"
     ]
    },
    {
     "name": "stderr",
     "output_type": "stream",
     "text": [
      "\r",
      " 49%|████▉     | 633/1288 [31:43:29<41:31:22, 228.22s/it]"
     ]
    },
    {
     "name": "stdout",
     "output_type": "stream",
     "text": [
      "Fetched number of followers ids for NPRinskeep : 15000\n",
      "Getting Followers ids of NPRKelly\n"
     ]
    },
    {
     "name": "stderr",
     "output_type": "stream",
     "text": [
      "\r",
      " 49%|████▉     | 634/1288 [31:43:31<29:06:10, 160.20s/it]"
     ]
    },
    {
     "name": "stdout",
     "output_type": "stream",
     "text": [
      "Fetched number of followers ids for NPRKelly : 15000\n",
      "Getting Followers ids of nprscience\n"
     ]
    },
    {
     "name": "stderr",
     "output_type": "stream",
     "text": [
      "\r",
      " 49%|████▉     | 635/1288 [31:43:32<20:25:15, 112.58s/it]"
     ]
    },
    {
     "name": "stdout",
     "output_type": "stream",
     "text": [
      "Fetched number of followers ids for nprscience : 15000\n",
      "Getting Followers ids of nresearchnews\n"
     ]
    },
    {
     "name": "stderr",
     "output_type": "stream",
     "text": [
      "\r",
      " 49%|████▉     | 636/1288 [31:43:34<14:21:13, 79.25s/it] "
     ]
    },
    {
     "name": "stdout",
     "output_type": "stream",
     "text": [
      "Fetched number of followers ids for nresearchnews : 15000\n",
      "Getting Followers ids of NSF\n"
     ]
    },
    {
     "name": "stderr",
     "output_type": "stream",
     "text": [
      "Rate limit reached. Sleeping for: 894\n",
      " 49%|████▉     | 637/1288 [31:58:35<58:53:58, 325.71s/it]"
     ]
    },
    {
     "name": "stdout",
     "output_type": "stream",
     "text": [
      "Fetched number of followers ids for NSF : 15000\n",
      "Getting Followers ids of nxthompson\n"
     ]
    },
    {
     "name": "stderr",
     "output_type": "stream",
     "text": [
      "\r",
      " 50%|████▉     | 638/1288 [31:58:36<41:14:44, 228.44s/it]"
     ]
    },
    {
     "name": "stdout",
     "output_type": "stream",
     "text": [
      "Fetched number of followers ids for nxthompson : 15000\n",
      "Getting Followers ids of nybooks\n"
     ]
    },
    {
     "name": "stderr",
     "output_type": "stream",
     "text": [
      "\r",
      " 50%|████▉     | 639/1288 [31:58:38<28:54:39, 160.37s/it]"
     ]
    },
    {
     "name": "stdout",
     "output_type": "stream",
     "text": [
      "Fetched number of followers ids for nybooks : 15000\n",
      "Getting Followers ids of nyrbclassics\n"
     ]
    },
    {
     "name": "stderr",
     "output_type": "stream",
     "text": [
      "\r",
      " 50%|████▉     | 640/1288 [31:58:39<20:17:14, 112.71s/it]"
     ]
    },
    {
     "name": "stdout",
     "output_type": "stream",
     "text": [
      "Fetched number of followers ids for nyrbclassics : 15000\n",
      "Getting Followers ids of nytdavidbrooks\n"
     ]
    },
    {
     "name": "stderr",
     "output_type": "stream",
     "text": [
      "\r",
      " 50%|████▉     | 641/1288 [31:58:41<14:15:41, 79.35s/it] "
     ]
    },
    {
     "name": "stdout",
     "output_type": "stream",
     "text": [
      "Fetched number of followers ids for nytdavidbrooks : 15000\n",
      "Getting Followers ids of NYTHealth\n"
     ]
    },
    {
     "name": "stderr",
     "output_type": "stream",
     "text": [
      "Rate limit reached. Sleeping for: 894\n",
      " 50%|████▉     | 642/1288 [32:13:41<58:27:25, 325.77s/it]"
     ]
    },
    {
     "name": "stdout",
     "output_type": "stream",
     "text": [
      "Fetched number of followers ids for NYTHealth : 15000\n",
      "Getting Followers ids of nytimeswell\n"
     ]
    },
    {
     "name": "stderr",
     "output_type": "stream",
     "text": [
      "\r",
      " 50%|████▉     | 643/1288 [32:13:43<40:56:23, 228.50s/it]"
     ]
    },
    {
     "name": "stdout",
     "output_type": "stream",
     "text": [
      "Fetched number of followers ids for nytimeswell : 15000\n",
      "Getting Followers ids of om\n"
     ]
    },
    {
     "name": "stderr",
     "output_type": "stream",
     "text": [
      "\r",
      " 50%|█████     | 644/1288 [32:13:45<28:41:33, 160.39s/it]"
     ]
    },
    {
     "name": "stdout",
     "output_type": "stream",
     "text": [
      "Fetched number of followers ids for om : 15000\n",
      "Getting Followers ids of OmariJHardy\n"
     ]
    },
    {
     "name": "stderr",
     "output_type": "stream",
     "text": [
      "\r",
      " 50%|█████     | 645/1288 [32:13:46<20:08:08, 112.73s/it]"
     ]
    },
    {
     "name": "stdout",
     "output_type": "stream",
     "text": [
      "Fetched number of followers ids for OmariJHardy : 15000\n",
      "Getting Followers ids of OrinKerr\n"
     ]
    },
    {
     "name": "stderr",
     "output_type": "stream",
     "text": [
      "\r",
      " 50%|█████     | 646/1288 [32:13:48<14:09:26, 79.39s/it] "
     ]
    },
    {
     "name": "stdout",
     "output_type": "stream",
     "text": [
      "Fetched number of followers ids for OrinKerr : 15000\n",
      "Getting Followers ids of OxfordDiplomat\n"
     ]
    },
    {
     "name": "stderr",
     "output_type": "stream",
     "text": [
      "Rate limit reached. Sleeping for: 894\n",
      " 50%|█████     | 647/1288 [32:28:49<58:03:08, 326.03s/it]"
     ]
    },
    {
     "name": "stdout",
     "output_type": "stream",
     "text": [
      "Fetched number of followers ids for OxfordDiplomat : 15000\n",
      "Getting Followers ids of PacificStand\n"
     ]
    },
    {
     "name": "stderr",
     "output_type": "stream",
     "text": [
      "\r",
      " 50%|█████     | 648/1288 [32:28:51<40:39:13, 228.68s/it]"
     ]
    },
    {
     "name": "stdout",
     "output_type": "stream",
     "text": [
      "Fetched number of followers ids for PacificStand : 15000\n",
      "Getting Followers ids of page88\n"
     ]
    },
    {
     "name": "stderr",
     "output_type": "stream",
     "text": [
      "\r",
      " 50%|█████     | 649/1288 [32:28:52<28:29:32, 160.52s/it]"
     ]
    },
    {
     "name": "stdout",
     "output_type": "stream",
     "text": [
      "Fetched number of followers ids for page88 : 15000\n",
      "Getting Followers ids of pageturner\n"
     ]
    },
    {
     "name": "stderr",
     "output_type": "stream",
     "text": [
      "\r",
      " 50%|█████     | 650/1288 [32:28:54<19:59:34, 112.81s/it]"
     ]
    },
    {
     "name": "stdout",
     "output_type": "stream",
     "text": [
      "Fetched number of followers ids for pageturner : 15000\n",
      "Getting Followers ids of paraga\n"
     ]
    },
    {
     "name": "stderr",
     "output_type": "stream",
     "text": [
      "\r",
      " 51%|█████     | 651/1288 [32:28:55<14:03:53, 79.49s/it] "
     ]
    },
    {
     "name": "stdout",
     "output_type": "stream",
     "text": [
      "Fetched number of followers ids for paraga : 15000\n",
      "Getting Followers ids of pareene\n"
     ]
    },
    {
     "name": "stderr",
     "output_type": "stream",
     "text": [
      "Rate limit reached. Sleeping for: 893\n",
      " 51%|█████     | 652/1288 [32:43:55<57:30:58, 325.56s/it]"
     ]
    },
    {
     "name": "stdout",
     "output_type": "stream",
     "text": [
      "Fetched number of followers ids for pareene : 15000\n",
      "Getting Followers ids of patio11\n"
     ]
    },
    {
     "name": "stderr",
     "output_type": "stream",
     "text": [
      "\r",
      " 51%|█████     | 653/1288 [32:43:57<40:16:45, 228.36s/it]"
     ]
    },
    {
     "name": "stdout",
     "output_type": "stream",
     "text": [
      "Fetched number of followers ids for patio11 : 15000\n",
      "Getting Followers ids of paulg\n"
     ]
    },
    {
     "name": "stderr",
     "output_type": "stream",
     "text": [
      "\r",
      " 51%|█████     | 654/1288 [32:43:58<28:13:57, 160.31s/it]"
     ]
    },
    {
     "name": "stdout",
     "output_type": "stream",
     "text": [
      "Fetched number of followers ids for paulg : 15000\n",
      "Getting Followers ids of paulkrugman\n"
     ]
    },
    {
     "name": "stderr",
     "output_type": "stream",
     "text": [
      "\r",
      " 51%|█████     | 655/1288 [32:44:00<19:48:43, 112.68s/it]"
     ]
    },
    {
     "name": "stdout",
     "output_type": "stream",
     "text": [
      "Fetched number of followers ids for paulkrugman : 15000\n",
      "Getting Followers ids of paul_irish\n"
     ]
    },
    {
     "name": "stderr",
     "output_type": "stream",
     "text": [
      "\r",
      " 51%|█████     | 656/1288 [32:44:01<13:55:32, 79.32s/it] "
     ]
    },
    {
     "name": "stdout",
     "output_type": "stream",
     "text": [
      "Fetched number of followers ids for paul_irish : 15000\n",
      "Getting Followers ids of pbump\n"
     ]
    },
    {
     "name": "stderr",
     "output_type": "stream",
     "text": [
      "Rate limit reached. Sleeping for: 894\n",
      " 51%|█████     | 657/1288 [32:59:02<57:05:59, 325.77s/it]"
     ]
    },
    {
     "name": "stdout",
     "output_type": "stream",
     "text": [
      "Fetched number of followers ids for pbump : 15000\n",
      "Getting Followers ids of PekingMike\n"
     ]
    },
    {
     "name": "stderr",
     "output_type": "stream",
     "text": [
      "\r",
      " 51%|█████     | 658/1288 [32:59:04<39:59:05, 228.48s/it]"
     ]
    },
    {
     "name": "stdout",
     "output_type": "stream",
     "text": [
      "Fetched number of followers ids for PekingMike : 15000\n",
      "Getting Followers ids of pennjillette\n"
     ]
    },
    {
     "name": "stderr",
     "output_type": "stream",
     "text": [
      "\r",
      " 51%|█████     | 659/1288 [32:59:05<28:01:22, 160.39s/it]"
     ]
    },
    {
     "name": "stdout",
     "output_type": "stream",
     "text": [
      "Fetched number of followers ids for pennjillette : 15000\n",
      "Getting Followers ids of PennyRed\n"
     ]
    },
    {
     "name": "stderr",
     "output_type": "stream",
     "text": [
      "\r",
      " 51%|█████     | 660/1288 [32:59:07<19:40:04, 112.75s/it]"
     ]
    },
    {
     "name": "stdout",
     "output_type": "stream",
     "text": [
      "Fetched number of followers ids for PennyRed : 15000\n",
      "Getting Followers ids of PepperellEddie\n"
     ]
    },
    {
     "name": "stderr",
     "output_type": "stream",
     "text": [
      "\r",
      " 51%|█████▏    | 661/1288 [32:59:08<13:49:24, 79.37s/it] "
     ]
    },
    {
     "name": "stdout",
     "output_type": "stream",
     "text": [
      "Fetched number of followers ids for PepperellEddie : 15000\n",
      "Getting Followers ids of PeterAttiaMD\n"
     ]
    },
    {
     "name": "stderr",
     "output_type": "stream",
     "text": [
      "Rate limit reached. Sleeping for: 894\n",
      " 51%|█████▏    | 662/1288 [33:14:09<56:38:42, 325.76s/it]"
     ]
    },
    {
     "name": "stdout",
     "output_type": "stream",
     "text": [
      "Fetched number of followers ids for PeterAttiaMD : 15000\n",
      "Getting Followers ids of peterboghossian\n"
     ]
    },
    {
     "name": "stderr",
     "output_type": "stream",
     "text": [
      "\r",
      " 51%|█████▏    | 663/1288 [33:14:10<39:39:54, 228.47s/it]"
     ]
    },
    {
     "name": "stdout",
     "output_type": "stream",
     "text": [
      "Fetched number of followers ids for peterboghossian : 15000\n",
      "Getting Followers ids of PeterHotez\n"
     ]
    },
    {
     "name": "stderr",
     "output_type": "stream",
     "text": [
      "\r",
      " 52%|█████▏    | 664/1288 [33:14:12<27:47:57, 160.38s/it]"
     ]
    },
    {
     "name": "stdout",
     "output_type": "stream",
     "text": [
      "Fetched number of followers ids for PeterHotez : 15000\n",
      "Getting Followers ids of petersagal\n"
     ]
    },
    {
     "name": "stderr",
     "output_type": "stream",
     "text": [
      "\r",
      " 52%|█████▏    | 665/1288 [33:14:13<19:30:40, 112.75s/it]"
     ]
    },
    {
     "name": "stdout",
     "output_type": "stream",
     "text": [
      "Fetched number of followers ids for petersagal : 15000\n",
      "Getting Followers ids of pete_wells\n"
     ]
    },
    {
     "name": "stderr",
     "output_type": "stream",
     "text": [
      "\r",
      " 52%|█████▏    | 666/1288 [33:14:15<13:42:51, 79.37s/it] "
     ]
    },
    {
     "name": "stdout",
     "output_type": "stream",
     "text": [
      "Fetched number of followers ids for pete_wells : 15000\n",
      "Getting Followers ids of petridishes\n"
     ]
    },
    {
     "name": "stderr",
     "output_type": "stream",
     "text": [
      "Rate limit reached. Sleeping for: 894\n",
      " 52%|█████▏    | 667/1288 [33:29:16<56:12:02, 325.80s/it]"
     ]
    },
    {
     "name": "stdout",
     "output_type": "stream",
     "text": [
      "Fetched number of followers ids for petridishes : 15000\n",
      "Getting Followers ids of PHDcomics\n"
     ]
    },
    {
     "name": "stderr",
     "output_type": "stream",
     "text": [
      "\r",
      " 52%|█████▏    | 668/1288 [33:29:17<39:21:16, 228.51s/it]"
     ]
    },
    {
     "name": "stdout",
     "output_type": "stream",
     "text": [
      "Fetched number of followers ids for PHDcomics : 15000\n",
      "Getting Followers ids of PhilipPullman\n"
     ]
    },
    {
     "name": "stderr",
     "output_type": "stream",
     "text": [
      "\r",
      " 52%|█████▏    | 669/1288 [33:29:20<27:39:49, 160.89s/it]"
     ]
    },
    {
     "name": "stdout",
     "output_type": "stream",
     "text": [
      "Fetched number of followers ids for PhilipPullman : 15000\n",
      "Getting Followers ids of physicsJ\n"
     ]
    },
    {
     "name": "stderr",
     "output_type": "stream",
     "text": [
      "\r",
      " 52%|█████▏    | 670/1288 [33:29:22<19:24:40, 113.07s/it]"
     ]
    },
    {
     "name": "stdout",
     "output_type": "stream",
     "text": [
      "Fetched number of followers ids for physicsJ : 15000\n",
      "Getting Followers ids of PhysicsToday\n"
     ]
    },
    {
     "name": "stderr",
     "output_type": "stream",
     "text": [
      "\r",
      " 52%|█████▏    | 671/1288 [33:29:24<13:39:30, 79.69s/it] "
     ]
    },
    {
     "name": "stdout",
     "output_type": "stream",
     "text": [
      "Fetched number of followers ids for PhysicsToday : 15000\n",
      "Getting Followers ids of PhysicsWorld\n"
     ]
    },
    {
     "name": "stderr",
     "output_type": "stream",
     "text": [
      "Rate limit reached. Sleeping for: 893\n",
      " 52%|█████▏    | 672/1288 [33:44:23<55:44:04, 325.72s/it]"
     ]
    },
    {
     "name": "stdout",
     "output_type": "stream",
     "text": [
      "Fetched number of followers ids for PhysicsWorld : 15000\n",
      "Getting Followers ids of Pistachio\n"
     ]
    },
    {
     "name": "stderr",
     "output_type": "stream",
     "text": [
      "\r",
      " 52%|█████▏    | 673/1288 [33:44:25<39:02:29, 228.54s/it]"
     ]
    },
    {
     "name": "stdout",
     "output_type": "stream",
     "text": [
      "Fetched number of followers ids for Pistachio : 15000\n",
      "Getting Followers ids of PJVogt\n"
     ]
    },
    {
     "name": "stderr",
     "output_type": "stream",
     "text": [
      "\r",
      " 52%|█████▏    | 674/1288 [33:44:27<27:21:36, 160.42s/it]"
     ]
    },
    {
     "name": "stdout",
     "output_type": "stream",
     "text": [
      "Fetched number of followers ids for PJVogt : 15000\n",
      "Getting Followers ids of PlanetGreen\n"
     ]
    },
    {
     "name": "stderr",
     "output_type": "stream",
     "text": [
      "\r",
      " 52%|█████▏    | 675/1288 [33:44:30<19:16:45, 113.22s/it]"
     ]
    },
    {
     "name": "stdout",
     "output_type": "stream",
     "text": [
      "Fetched number of followers ids for PlanetGreen : 15000\n",
      "Getting Followers ids of PLOSONE\n"
     ]
    },
    {
     "name": "stderr",
     "output_type": "stream",
     "text": [
      "\r",
      " 52%|█████▏    | 676/1288 [33:44:31<13:33:11, 79.72s/it] "
     ]
    },
    {
     "name": "stdout",
     "output_type": "stream",
     "text": [
      "Fetched number of followers ids for PLOSONE : 15000\n",
      "Getting Followers ids of Pogue\n"
     ]
    },
    {
     "name": "stderr",
     "output_type": "stream",
     "text": [
      "Rate limit reached. Sleeping for: 891\n",
      " 53%|█████▎    | 677/1288 [33:59:30<55:14:18, 325.46s/it]"
     ]
    },
    {
     "name": "stdout",
     "output_type": "stream",
     "text": [
      "Fetched number of followers ids for Pogue : 15000\n",
      "Getting Followers ids of politicalelle\n"
     ]
    },
    {
     "name": "stderr",
     "output_type": "stream",
     "text": [
      "\r",
      " 53%|█████▎    | 678/1288 [33:59:32<38:40:51, 228.28s/it]"
     ]
    },
    {
     "name": "stdout",
     "output_type": "stream",
     "text": [
      "Fetched number of followers ids for politicalelle : 15000\n",
      "Getting Followers ids of poniewozik\n"
     ]
    },
    {
     "name": "stderr",
     "output_type": "stream",
     "text": [
      "\r",
      " 53%|█████▎    | 679/1288 [33:59:33<27:06:28, 160.24s/it]"
     ]
    },
    {
     "name": "stdout",
     "output_type": "stream",
     "text": [
      "Fetched number of followers ids for poniewozik : 15000\n",
      "Getting Followers ids of Popjustice\n"
     ]
    },
    {
     "name": "stderr",
     "output_type": "stream",
     "text": [
      "\r",
      " 53%|█████▎    | 680/1288 [33:59:35<19:01:06, 112.61s/it]"
     ]
    },
    {
     "name": "stdout",
     "output_type": "stream",
     "text": [
      "Fetched number of followers ids for Popjustice : 15000\n",
      "Getting Followers ids of PopSci\n"
     ]
    },
    {
     "name": "stderr",
     "output_type": "stream",
     "text": [
      "\r",
      " 53%|█████▎    | 681/1288 [33:59:36<13:21:58, 79.27s/it] "
     ]
    },
    {
     "name": "stdout",
     "output_type": "stream",
     "text": [
      "Fetched number of followers ids for PopSci : 15000\n",
      "Getting Followers ids of pourmecoffee\n"
     ]
    },
    {
     "name": "stderr",
     "output_type": "stream",
     "text": [
      "Rate limit reached. Sleeping for: 894\n",
      " 53%|█████▎    | 682/1288 [34:14:37<54:49:40, 325.71s/it]"
     ]
    },
    {
     "name": "stdout",
     "output_type": "stream",
     "text": [
      "Fetched number of followers ids for pourmecoffee : 15000\n",
      "Getting Followers ids of PritishNandy\n"
     ]
    },
    {
     "name": "stderr",
     "output_type": "stream",
     "text": [
      "\r",
      " 53%|█████▎    | 683/1288 [34:14:38<38:23:33, 228.45s/it]"
     ]
    },
    {
     "name": "stdout",
     "output_type": "stream",
     "text": [
      "Fetched number of followers ids for PritishNandy : 15000\n",
      "Getting Followers ids of prodnose\n"
     ]
    },
    {
     "name": "stderr",
     "output_type": "stream",
     "text": [
      "\r",
      " 53%|█████▎    | 684/1288 [34:14:40<26:54:21, 160.37s/it]"
     ]
    },
    {
     "name": "stdout",
     "output_type": "stream",
     "text": [
      "Fetched number of followers ids for prodnose : 15000\n",
      "Getting Followers ids of ProfessorCrunk\n"
     ]
    },
    {
     "name": "stderr",
     "output_type": "stream",
     "text": [
      "\r",
      " 53%|█████▎    | 685/1288 [34:14:41<18:52:47, 112.72s/it]"
     ]
    },
    {
     "name": "stdout",
     "output_type": "stream",
     "text": [
      "Fetched number of followers ids for ProfessorCrunk : 15000\n",
      "Getting Followers ids of pronounced_ing\n"
     ]
    },
    {
     "name": "stderr",
     "output_type": "stream",
     "text": [
      "\r",
      " 53%|█████▎    | 686/1288 [34:14:43<13:16:05, 79.34s/it] "
     ]
    },
    {
     "name": "stdout",
     "output_type": "stream",
     "text": [
      "Fetched number of followers ids for pronounced_ing : 15000\n",
      "Getting Followers ids of psychmag\n"
     ]
    },
    {
     "name": "stderr",
     "output_type": "stream",
     "text": [
      "Rate limit reached. Sleeping for: 894\n",
      " 53%|█████▎    | 687/1288 [34:29:44<54:23:08, 325.77s/it]"
     ]
    },
    {
     "name": "stdout",
     "output_type": "stream",
     "text": [
      "Fetched number of followers ids for psychmag : 15000\n",
      "Getting Followers ids of pwnallthethings\n"
     ]
    },
    {
     "name": "stderr",
     "output_type": "stream",
     "text": [
      "\r",
      " 53%|█████▎    | 688/1288 [34:29:47<38:09:52, 228.99s/it]"
     ]
    },
    {
     "name": "stdout",
     "output_type": "stream",
     "text": [
      "Fetched number of followers ids for pwnallthethings : 15000\n",
      "Getting Followers ids of QuantaMagazine\n"
     ]
    },
    {
     "name": "stderr",
     "output_type": "stream",
     "text": [
      "\r",
      " 53%|█████▎    | 689/1288 [34:29:48<26:44:39, 160.73s/it]"
     ]
    },
    {
     "name": "stdout",
     "output_type": "stream",
     "text": [
      "Fetched number of followers ids for QuantaMagazine : 15000\n",
      "Getting Followers ids of Quillette\n"
     ]
    },
    {
     "name": "stderr",
     "output_type": "stream",
     "text": [
      "\r",
      " 54%|█████▎    | 690/1288 [34:29:50<18:45:51, 112.96s/it]"
     ]
    },
    {
     "name": "stdout",
     "output_type": "stream",
     "text": [
      "Fetched number of followers ids for Quillette : 15000\n",
      "Getting Followers ids of qwertyoruiopz\n"
     ]
    },
    {
     "name": "stderr",
     "output_type": "stream",
     "text": [
      "\r",
      " 54%|█████▎    | 691/1288 [34:29:51<13:11:18, 79.53s/it] "
     ]
    },
    {
     "name": "stdout",
     "output_type": "stream",
     "text": [
      "Fetched number of followers ids for qwertyoruiopz : 15000\n",
      "Getting Followers ids of rachelheldevans\n"
     ]
    },
    {
     "name": "stderr",
     "output_type": "stream",
     "text": [
      "Rate limit reached. Sleeping for: 891\n",
      " 54%|█████▎    | 692/1288 [34:44:51<53:54:41, 325.64s/it]"
     ]
    },
    {
     "name": "stdout",
     "output_type": "stream",
     "text": [
      "Fetched number of followers ids for rachelheldevans : 15000\n",
      "Getting Followers ids of rachelnpr\n"
     ]
    },
    {
     "name": "stderr",
     "output_type": "stream",
     "text": [
      "\r",
      " 54%|█████▍    | 693/1288 [34:44:55<37:50:46, 228.99s/it]"
     ]
    },
    {
     "name": "stdout",
     "output_type": "stream",
     "text": [
      "Fetched number of followers ids for rachelnpr : 15000\n",
      "Getting Followers ids of rachelparris\n"
     ]
    },
    {
     "name": "stderr",
     "output_type": "stream",
     "text": [
      "\r",
      " 54%|█████▍    | 694/1288 [34:44:56<26:31:19, 160.74s/it]"
     ]
    },
    {
     "name": "stdout",
     "output_type": "stream",
     "text": [
      "Fetched number of followers ids for rachelparris : 15000\n",
      "Getting Followers ids of RachelRoams\n"
     ]
    },
    {
     "name": "stderr",
     "output_type": "stream",
     "text": [
      "\r",
      " 54%|█████▍    | 695/1288 [34:44:58<18:36:29, 112.97s/it]"
     ]
    },
    {
     "name": "stdout",
     "output_type": "stream",
     "text": [
      "Fetched number of followers ids for RachelRoams : 15000\n",
      "Getting Followers ids of RadioFreeTom\n"
     ]
    },
    {
     "name": "stderr",
     "output_type": "stream",
     "text": [
      "\r",
      " 54%|█████▍    | 696/1288 [34:45:01<13:11:28, 80.22s/it] "
     ]
    },
    {
     "name": "stdout",
     "output_type": "stream",
     "text": [
      "Fetched number of followers ids for RadioFreeTom : 15000\n",
      "Getting Followers ids of radleybalko\n"
     ]
    },
    {
     "name": "stderr",
     "output_type": "stream",
     "text": [
      "Rate limit reached. Sleeping for: 890\n",
      " 54%|█████▍    | 697/1288 [34:59:58<53:23:12, 325.20s/it]"
     ]
    },
    {
     "name": "stdout",
     "output_type": "stream",
     "text": [
      "Fetched number of followers ids for radleybalko : 15000\n",
      "Getting Followers ids of Rainmaker1973\n"
     ]
    },
    {
     "name": "stderr",
     "output_type": "stream",
     "text": [
      "\r",
      " 54%|█████▍    | 698/1288 [35:00:02<37:29:42, 228.78s/it]"
     ]
    },
    {
     "name": "stdout",
     "output_type": "stream",
     "text": [
      "Fetched number of followers ids for Rainmaker1973 : 15000\n",
      "Getting Followers ids of rainnwilson\n"
     ]
    },
    {
     "name": "stderr",
     "output_type": "stream",
     "text": [
      "\r",
      " 54%|█████▍    | 699/1288 [35:00:05<26:21:56, 161.15s/it]"
     ]
    },
    {
     "name": "stdout",
     "output_type": "stream",
     "text": [
      "Fetched number of followers ids for rainnwilson : 15000\n",
      "Getting Followers ids of randfish\n"
     ]
    },
    {
     "name": "stderr",
     "output_type": "stream",
     "text": [
      "\r",
      " 54%|█████▍    | 700/1288 [35:00:07<18:29:54, 113.26s/it]"
     ]
    },
    {
     "name": "stdout",
     "output_type": "stream",
     "text": [
      "Fetched number of followers ids for randfish : 15000\n",
      "Getting Followers ids of RayDalio\n"
     ]
    },
    {
     "name": "stderr",
     "output_type": "stream",
     "text": [
      "\r",
      " 54%|█████▍    | 701/1288 [35:00:08<13:00:16, 79.76s/it] "
     ]
    },
    {
     "name": "stdout",
     "output_type": "stream",
     "text": [
      "Fetched number of followers ids for RayDalio : 15000\n",
      "Getting Followers ids of RealSexyCyborg\n"
     ]
    },
    {
     "name": "stderr",
     "output_type": "stream",
     "text": [
      "Rate limit reached. Sleeping for: 889\n",
      " 55%|█████▍    | 702/1288 [35:15:05<52:51:21, 324.71s/it]"
     ]
    },
    {
     "name": "stdout",
     "output_type": "stream",
     "text": [
      "Fetched number of followers ids for RealSexyCyborg : 15000\n",
      "Getting Followers ids of RebeccaFront\n"
     ]
    },
    {
     "name": "stderr",
     "output_type": "stream",
     "text": [
      "\r",
      " 55%|█████▍    | 703/1288 [35:15:06<37:00:32, 227.75s/it]"
     ]
    },
    {
     "name": "stdout",
     "output_type": "stream",
     "text": [
      "Fetched number of followers ids for RebeccaFront : 15000\n",
      "Getting Followers ids of RebeccaRennerFL\n"
     ]
    },
    {
     "name": "stderr",
     "output_type": "stream",
     "text": [
      "\r",
      " 55%|█████▍    | 704/1288 [35:15:08<25:56:11, 159.88s/it]"
     ]
    },
    {
     "name": "stdout",
     "output_type": "stream",
     "text": [
      "Fetched number of followers ids for RebeccaRennerFL : 15000\n",
      "Getting Followers ids of RevRichardColes\n"
     ]
    },
    {
     "name": "stderr",
     "output_type": "stream",
     "text": [
      "\r",
      " 55%|█████▍    | 705/1288 [35:15:09<18:11:50, 112.37s/it]"
     ]
    },
    {
     "name": "stdout",
     "output_type": "stream",
     "text": [
      "Fetched number of followers ids for RevRichardColes : 15000\n",
      "Getting Followers ids of RichardHaass\n"
     ]
    },
    {
     "name": "stderr",
     "output_type": "stream",
     "text": [
      "\r",
      " 55%|█████▍    | 706/1288 [35:15:11<12:47:12, 79.09s/it] "
     ]
    },
    {
     "name": "stdout",
     "output_type": "stream",
     "text": [
      "Fetched number of followers ids for RichardHaass : 15000\n",
      "Getting Followers ids of richardhorton1\n"
     ]
    },
    {
     "name": "stderr",
     "output_type": "stream",
     "text": [
      "Rate limit reached. Sleeping for: 895\n",
      " 55%|█████▍    | 707/1288 [35:30:12<52:35:36, 325.88s/it]"
     ]
    },
    {
     "name": "stdout",
     "output_type": "stream",
     "text": [
      "Fetched number of followers ids for richardhorton1 : 15000\n",
      "Getting Followers ids of richardosman\n"
     ]
    },
    {
     "name": "stderr",
     "output_type": "stream",
     "text": [
      "\r",
      " 55%|█████▍    | 708/1288 [35:30:14<36:49:23, 228.56s/it]"
     ]
    },
    {
     "name": "stdout",
     "output_type": "stream",
     "text": [
      "Fetched number of followers ids for richardosman : 15000\n",
      "Getting Followers ids of Richard_Florida\n"
     ]
    },
    {
     "name": "stderr",
     "output_type": "stream",
     "text": [
      "\r",
      " 55%|█████▌    | 709/1288 [35:30:17<25:54:10, 161.05s/it]"
     ]
    },
    {
     "name": "stdout",
     "output_type": "stream",
     "text": [
      "Fetched number of followers ids for Richard_Florida : 15000\n",
      "Getting Followers ids of rickedwards1\n"
     ]
    },
    {
     "name": "stderr",
     "output_type": "stream",
     "text": [
      "\r",
      " 55%|█████▌    | 710/1288 [35:30:19<18:10:13, 113.17s/it]"
     ]
    },
    {
     "name": "stdout",
     "output_type": "stream",
     "text": [
      "Fetched number of followers ids for rickedwards1 : 15000\n",
      "Getting Followers ids of RiderStrong\n"
     ]
    },
    {
     "name": "stderr",
     "output_type": "stream",
     "text": [
      "\r",
      " 55%|█████▌    | 711/1288 [35:30:22<12:52:10, 80.30s/it] "
     ]
    },
    {
     "name": "stdout",
     "output_type": "stream",
     "text": [
      "Fetched number of followers ids for RiderStrong : 15000\n",
      "Getting Followers ids of ritholtz\n"
     ]
    },
    {
     "name": "stderr",
     "output_type": "stream",
     "text": [
      "Rate limit reached. Sleeping for: 891\n",
      " 55%|█████▌    | 712/1288 [35:45:20<52:04:55, 325.51s/it]"
     ]
    },
    {
     "name": "stdout",
     "output_type": "stream",
     "text": [
      "Fetched number of followers ids for ritholtz : 15000\n",
      "Getting Followers ids of Ri_Science\n"
     ]
    },
    {
     "name": "stderr",
     "output_type": "stream",
     "text": [
      "\r",
      " 55%|█████▌    | 713/1288 [35:45:22<36:27:54, 228.30s/it]"
     ]
    },
    {
     "name": "stdout",
     "output_type": "stream",
     "text": [
      "Fetched number of followers ids for Ri_Science : 15000\n",
      "Getting Followers ids of rmantha2\n"
     ]
    },
    {
     "name": "stderr",
     "output_type": "stream",
     "text": [
      "\r",
      " 55%|█████▌    | 714/1288 [35:45:23<25:33:10, 160.26s/it]"
     ]
    },
    {
     "name": "stdout",
     "output_type": "stream",
     "text": [
      "Fetched number of followers ids for rmantha2 : 15000\n",
      "Getting Followers ids of robbwolf\n"
     ]
    },
    {
     "name": "stderr",
     "output_type": "stream",
     "text": [
      "\r",
      " 56%|█████▌    | 715/1288 [35:45:25<17:55:32, 112.62s/it]"
     ]
    },
    {
     "name": "stdout",
     "output_type": "stream",
     "text": [
      "Fetched number of followers ids for robbwolf : 15000\n",
      "Getting Followers ids of robdelaney\n"
     ]
    },
    {
     "name": "stderr",
     "output_type": "stream",
     "text": [
      "\r",
      " 56%|█████▌    | 716/1288 [35:45:28<12:41:20, 79.86s/it] "
     ]
    },
    {
     "name": "stdout",
     "output_type": "stream",
     "text": [
      "Fetched number of followers ids for robdelaney : 15000\n",
      "Getting Followers ids of RobGMacfarlane\n"
     ]
    },
    {
     "name": "stderr",
     "output_type": "stream",
     "text": [
      "Rate limit reached. Sleeping for: 892\n",
      " 56%|█████▌    | 717/1288 [36:00:27<51:38:00, 325.53s/it]"
     ]
    },
    {
     "name": "stdout",
     "output_type": "stream",
     "text": [
      "Fetched number of followers ids for RobGMacfarlane : 15000\n",
      "Getting Followers ids of robinince\n"
     ]
    },
    {
     "name": "stderr",
     "output_type": "stream",
     "text": [
      "\r",
      " 56%|█████▌    | 718/1288 [36:00:30<36:12:40, 228.70s/it]"
     ]
    },
    {
     "name": "stdout",
     "output_type": "stream",
     "text": [
      "Fetched number of followers ids for robinince : 15000\n",
      "Getting Followers ids of RogueNASA\n"
     ]
    },
    {
     "name": "stderr",
     "output_type": "stream",
     "text": [
      "\r",
      " 56%|█████▌    | 719/1288 [36:00:31<25:22:22, 160.53s/it]"
     ]
    },
    {
     "name": "stdout",
     "output_type": "stream",
     "text": [
      "Fetched number of followers ids for RogueNASA : 15000\n",
      "Getting Followers ids of rosannecash\n"
     ]
    },
    {
     "name": "stderr",
     "output_type": "stream",
     "text": [
      "\r",
      " 56%|█████▌    | 720/1288 [36:00:33<17:48:02, 112.82s/it]"
     ]
    },
    {
     "name": "stdout",
     "output_type": "stream",
     "text": [
      "Fetched number of followers ids for rosannecash : 15000\n",
      "Getting Followers ids of rossdawson\n"
     ]
    },
    {
     "name": "stderr",
     "output_type": "stream",
     "text": [
      "\r",
      " 56%|█████▌    | 721/1288 [36:00:34<12:30:32, 79.42s/it] "
     ]
    },
    {
     "name": "stdout",
     "output_type": "stream",
     "text": [
      "Fetched number of followers ids for rossdawson : 15000\n",
      "Getting Followers ids of rtraister\n"
     ]
    },
    {
     "name": "stderr",
     "output_type": "stream",
     "text": [
      "Rate limit reached. Sleeping for: 893\n",
      " 56%|█████▌    | 722/1288 [36:15:34<51:10:52, 325.53s/it]"
     ]
    },
    {
     "name": "stdout",
     "output_type": "stream",
     "text": [
      "Fetched number of followers ids for rtraister : 15000\n",
      "Getting Followers ids of RufusHound\n"
     ]
    },
    {
     "name": "stderr",
     "output_type": "stream",
     "text": [
      "\r",
      " 56%|█████▌    | 723/1288 [36:15:35<35:50:32, 228.38s/it]"
     ]
    },
    {
     "name": "stdout",
     "output_type": "stream",
     "text": [
      "Fetched number of followers ids for RufusHound : 15000\n",
      "Getting Followers ids of rupasubramanya\n"
     ]
    },
    {
     "name": "stderr",
     "output_type": "stream",
     "text": [
      "\r",
      " 56%|█████▌    | 724/1288 [36:15:37<25:06:55, 160.31s/it]"
     ]
    },
    {
     "name": "stdout",
     "output_type": "stream",
     "text": [
      "Fetched number of followers ids for rupasubramanya : 15000\n",
      "Getting Followers ids of ruskin147\n"
     ]
    },
    {
     "name": "stderr",
     "output_type": "stream",
     "text": [
      "\r",
      " 56%|█████▋    | 725/1288 [36:15:39<17:37:21, 112.68s/it]"
     ]
    },
    {
     "name": "stdout",
     "output_type": "stream",
     "text": [
      "Fetched number of followers ids for ruskin147 : 15000\n",
      "Getting Followers ids of RVAwonk\n"
     ]
    },
    {
     "name": "stderr",
     "output_type": "stream",
     "text": [
      "\r",
      " 56%|█████▋    | 726/1288 [36:15:40<12:23:46, 79.41s/it] "
     ]
    },
    {
     "name": "stdout",
     "output_type": "stream",
     "text": [
      "Fetched number of followers ids for RVAwonk : 15000\n",
      "Getting Followers ids of R_Nash\n"
     ]
    },
    {
     "name": "stderr",
     "output_type": "stream",
     "text": [
      "Rate limit reached. Sleeping for: 894\n",
      " 56%|█████▋    | 727/1288 [36:30:41<50:46:40, 325.85s/it]"
     ]
    },
    {
     "name": "stdout",
     "output_type": "stream",
     "text": [
      "Fetched number of followers ids for R_Nash : 15000\n",
      "Getting Followers ids of R_Thaler\n"
     ]
    },
    {
     "name": "stderr",
     "output_type": "stream",
     "text": [
      "\r",
      " 57%|█████▋    | 728/1288 [36:30:43<35:33:01, 228.54s/it]"
     ]
    },
    {
     "name": "stdout",
     "output_type": "stream",
     "text": [
      "Fetched number of followers ids for R_Thaler : 15000\n",
      "Getting Followers ids of sacca\n"
     ]
    },
    {
     "name": "stderr",
     "output_type": "stream",
     "text": [
      "\r",
      " 57%|█████▋    | 729/1288 [36:30:46<25:00:12, 161.02s/it]"
     ]
    },
    {
     "name": "stdout",
     "output_type": "stream",
     "text": [
      "Fetched number of followers ids for sacca : 15000\n",
      "Getting Followers ids of SahilBloom\n"
     ]
    },
    {
     "name": "stderr",
     "output_type": "stream",
     "text": [
      "\r",
      " 57%|█████▋    | 730/1288 [36:30:48<17:32:21, 113.16s/it]"
     ]
    },
    {
     "name": "stdout",
     "output_type": "stream",
     "text": [
      "Fetched number of followers ids for SahilBloom : 15000\n",
      "Getting Followers ids of salihughes\n"
     ]
    },
    {
     "name": "stderr",
     "output_type": "stream",
     "text": [
      "\r",
      " 57%|█████▋    | 731/1288 [36:30:49<12:19:35, 79.67s/it] "
     ]
    },
    {
     "name": "stdout",
     "output_type": "stream",
     "text": [
      "Fetched number of followers ids for salihughes : 15000\n",
      "Getting Followers ids of sama\n"
     ]
    },
    {
     "name": "stderr",
     "output_type": "stream",
     "text": [
      "Rate limit reached. Sleeping for: 892\n",
      " 57%|█████▋    | 732/1288 [36:45:48<50:16:16, 325.50s/it]"
     ]
    },
    {
     "name": "stdout",
     "output_type": "stream",
     "text": [
      "Fetched number of followers ids for sama : 15000\n",
      "Getting Followers ids of samanthamaiden\n"
     ]
    },
    {
     "name": "stderr",
     "output_type": "stream",
     "text": [
      "\r",
      " 57%|█████▋    | 733/1288 [36:45:50<35:11:44, 228.30s/it]"
     ]
    },
    {
     "name": "stdout",
     "output_type": "stream",
     "text": [
      "Fetched number of followers ids for samanthamaiden : 15000\n",
      "Getting Followers ids of sarahcuda\n"
     ]
    },
    {
     "name": "stderr",
     "output_type": "stream",
     "text": [
      "\r",
      " 57%|█████▋    | 734/1288 [36:45:51<24:39:49, 160.27s/it]"
     ]
    },
    {
     "name": "stdout",
     "output_type": "stream",
     "text": [
      "Fetched number of followers ids for sarahcuda : 15000\n",
      "Getting Followers ids of sarahkliff\n"
     ]
    },
    {
     "name": "stderr",
     "output_type": "stream",
     "text": [
      "\r",
      " 57%|█████▋    | 735/1288 [36:45:53<17:18:12, 112.64s/it]"
     ]
    },
    {
     "name": "stdout",
     "output_type": "stream",
     "text": [
      "Fetched number of followers ids for sarahkliff : 15000\n",
      "Getting Followers ids of SarahTheHaider\n"
     ]
    },
    {
     "name": "stderr",
     "output_type": "stream",
     "text": [
      "\r",
      " 57%|█████▋    | 736/1288 [36:45:55<12:10:20, 79.39s/it] "
     ]
    },
    {
     "name": "stdout",
     "output_type": "stream",
     "text": [
      "Fetched number of followers ids for SarahTheHaider : 15000\n",
      "Getting Followers ids of sarahw\n"
     ]
    },
    {
     "name": "stderr",
     "output_type": "stream",
     "text": [
      "Rate limit reached. Sleeping for: 895\n",
      " 57%|█████▋    | 737/1288 [37:01:01<50:08:12, 327.57s/it]"
     ]
    },
    {
     "name": "stdout",
     "output_type": "stream",
     "text": [
      "Fetched number of followers ids for sarahw : 15000\n",
      "Getting Followers ids of SaraJBenincasa\n"
     ]
    },
    {
     "name": "stderr",
     "output_type": "stream",
     "text": [
      "\r",
      " 57%|█████▋    | 738/1288 [37:01:03<35:06:07, 229.76s/it]"
     ]
    },
    {
     "name": "stdout",
     "output_type": "stream",
     "text": [
      "Fetched number of followers ids for SaraJBenincasa : 15000\n",
      "Getting Followers ids of SarcasticRover\n"
     ]
    },
    {
     "name": "stderr",
     "output_type": "stream",
     "text": [
      "\r",
      " 57%|█████▋    | 739/1288 [37:01:05<24:38:37, 161.60s/it]"
     ]
    },
    {
     "name": "stdout",
     "output_type": "stream",
     "text": [
      "Fetched number of followers ids for SarcasticRover : 15000\n",
      "Getting Followers ids of sciencebeta\n"
     ]
    },
    {
     "name": "stderr",
     "output_type": "stream",
     "text": [
      "\r",
      " 57%|█████▋    | 740/1288 [37:01:07<17:18:07, 113.66s/it]"
     ]
    },
    {
     "name": "stdout",
     "output_type": "stream",
     "text": [
      "Fetched number of followers ids for sciencebeta : 15000\n",
      "Getting Followers ids of ScienceDaily\n"
     ]
    },
    {
     "name": "stderr",
     "output_type": "stream",
     "text": [
      "\r",
      " 58%|█████▊    | 741/1288 [37:01:09<12:09:21, 80.00s/it] "
     ]
    },
    {
     "name": "stdout",
     "output_type": "stream",
     "text": [
      "Fetched number of followers ids for ScienceDaily : 15000\n",
      "Getting Followers ids of ScienceNews\n"
     ]
    },
    {
     "name": "stderr",
     "output_type": "stream",
     "text": [
      "Rate limit reached. Sleeping for: 889\n",
      " 58%|█████▊    | 742/1288 [37:16:04<49:15:07, 324.74s/it]"
     ]
    },
    {
     "name": "stdout",
     "output_type": "stream",
     "text": [
      "Fetched number of followers ids for ScienceNews : 15000\n",
      "Getting Followers ids of SciGuySpace\n"
     ]
    },
    {
     "name": "stderr",
     "output_type": "stream",
     "text": [
      "\r",
      " 58%|█████▊    | 743/1288 [37:16:06<34:29:07, 227.79s/it]"
     ]
    },
    {
     "name": "stdout",
     "output_type": "stream",
     "text": [
      "Fetched number of followers ids for SciGuySpace : 15000\n",
      "Getting Followers ids of SciShow\n"
     ]
    },
    {
     "name": "stderr",
     "output_type": "stream",
     "text": [
      "\r",
      " 58%|█████▊    | 744/1288 [37:16:08<24:10:25, 159.97s/it]"
     ]
    },
    {
     "name": "stdout",
     "output_type": "stream",
     "text": [
      "Fetched number of followers ids for SciShow : 15000\n",
      "Getting Followers ids of Sci_Phile\n"
     ]
    },
    {
     "name": "stderr",
     "output_type": "stream",
     "text": [
      "\r",
      " 58%|█████▊    | 745/1288 [37:16:09<16:57:21, 112.41s/it]"
     ]
    },
    {
     "name": "stdout",
     "output_type": "stream",
     "text": [
      "Fetched number of followers ids for Sci_Phile : 15000\n",
      "Getting Followers ids of ScottAdamsSays\n"
     ]
    },
    {
     "name": "stderr",
     "output_type": "stream",
     "text": [
      "\r",
      " 58%|█████▊    | 746/1288 [37:16:11<11:54:51, 79.14s/it] "
     ]
    },
    {
     "name": "stdout",
     "output_type": "stream",
     "text": [
      "Fetched number of followers ids for ScottAdamsSays : 15000\n",
      "Getting Followers ids of ScottGottliebMD\n"
     ]
    },
    {
     "name": "stderr",
     "output_type": "stream",
     "text": [
      "Rate limit reached. Sleeping for: 893\n",
      " 58%|█████▊    | 747/1288 [37:31:10<48:53:20, 325.32s/it]"
     ]
    },
    {
     "name": "stdout",
     "output_type": "stream",
     "text": [
      "Fetched number of followers ids for ScottGottliebMD : 15000\n",
      "Getting Followers ids of ScottMonty\n"
     ]
    },
    {
     "name": "stderr",
     "output_type": "stream",
     "text": [
      "\r",
      " 58%|█████▊    | 748/1288 [37:31:12<34:13:31, 228.17s/it]"
     ]
    },
    {
     "name": "stdout",
     "output_type": "stream",
     "text": [
      "Fetched number of followers ids for ScottMonty : 15000\n",
      "Getting Followers ids of Scroobiuspipyo\n"
     ]
    },
    {
     "name": "stderr",
     "output_type": "stream",
     "text": [
      "\r",
      " 58%|█████▊    | 749/1288 [37:31:13<23:58:49, 160.17s/it]"
     ]
    },
    {
     "name": "stdout",
     "output_type": "stream",
     "text": [
      "Fetched number of followers ids for Scroobiuspipyo : 15000\n",
      "Getting Followers ids of seawildearth\n"
     ]
    },
    {
     "name": "stderr",
     "output_type": "stream",
     "text": [
      "\r",
      " 58%|█████▊    | 750/1288 [37:31:15<16:49:55, 112.63s/it]"
     ]
    },
    {
     "name": "stdout",
     "output_type": "stream",
     "text": [
      "Fetched number of followers ids for seawildearth : 15000\n",
      "Getting Followers ids of Seeker\n"
     ]
    },
    {
     "name": "stderr",
     "output_type": "stream",
     "text": [
      "\r",
      " 58%|█████▊    | 751/1288 [37:31:17<11:49:33, 79.28s/it] "
     ]
    },
    {
     "name": "stdout",
     "output_type": "stream",
     "text": [
      "Fetched number of followers ids for Seeker : 15000\n",
      "Getting Followers ids of SETIInstitute\n"
     ]
    },
    {
     "name": "stderr",
     "output_type": "stream",
     "text": [
      "Rate limit reached. Sleeping for: 893\n",
      " 58%|█████▊    | 752/1288 [37:46:16<48:27:16, 325.44s/it]"
     ]
    },
    {
     "name": "stdout",
     "output_type": "stream",
     "text": [
      "Fetched number of followers ids for SETIInstitute : 15000\n",
      "Getting Followers ids of shadihamid\n"
     ]
    },
    {
     "name": "stderr",
     "output_type": "stream",
     "text": [
      "\r",
      " 58%|█████▊    | 753/1288 [37:46:18<33:55:16, 228.25s/it]"
     ]
    },
    {
     "name": "stdout",
     "output_type": "stream",
     "text": [
      "Fetched number of followers ids for shadihamid : 15000\n",
      "Getting Followers ids of shanselman\n"
     ]
    },
    {
     "name": "stderr",
     "output_type": "stream",
     "text": [
      "\r",
      " 59%|█████▊    | 754/1288 [37:46:19<23:46:01, 160.23s/it]"
     ]
    },
    {
     "name": "stdout",
     "output_type": "stream",
     "text": [
      "Fetched number of followers ids for shanselman : 15000\n",
      "Getting Followers ids of ShippersUnbound\n"
     ]
    },
    {
     "name": "stderr",
     "output_type": "stream",
     "text": [
      "\r",
      " 59%|█████▊    | 755/1288 [37:46:21<16:40:12, 112.59s/it]"
     ]
    },
    {
     "name": "stdout",
     "output_type": "stream",
     "text": [
      "Fetched number of followers ids for ShippersUnbound : 15000\n",
      "Getting Followers ids of shreyas\n"
     ]
    },
    {
     "name": "stderr",
     "output_type": "stream",
     "text": [
      "\r",
      " 59%|█████▊    | 756/1288 [37:46:22<11:42:46, 79.26s/it] "
     ]
    },
    {
     "name": "stdout",
     "output_type": "stream",
     "text": [
      "Fetched number of followers ids for shreyas : 15000\n",
      "Getting Followers ids of shwood\n"
     ]
    },
    {
     "name": "stderr",
     "output_type": "stream",
     "text": [
      "Rate limit reached. Sleeping for: 893\n",
      " 59%|█████▉    | 757/1288 [38:01:22<47:59:47, 325.40s/it]"
     ]
    },
    {
     "name": "stdout",
     "output_type": "stream",
     "text": [
      "Fetched number of followers ids for shwood : 15000\n",
      "Getting Followers ids of sidin\n"
     ]
    },
    {
     "name": "stderr",
     "output_type": "stream",
     "text": [
      "\r",
      " 59%|█████▉    | 758/1288 [38:01:23<33:35:57, 228.22s/it]"
     ]
    },
    {
     "name": "stdout",
     "output_type": "stream",
     "text": [
      "Fetched number of followers ids for sidin : 15000\n",
      "Getting Followers ids of SimoneGiertz\n"
     ]
    },
    {
     "name": "stderr",
     "output_type": "stream",
     "text": [
      "\r",
      " 59%|█████▉    | 759/1288 [38:01:25<23:32:37, 160.22s/it]"
     ]
    },
    {
     "name": "stdout",
     "output_type": "stream",
     "text": [
      "Fetched number of followers ids for SimoneGiertz : 15000\n",
      "Getting Followers ids of simon_schama\n"
     ]
    },
    {
     "name": "stderr",
     "output_type": "stream",
     "text": [
      "\r",
      " 59%|█████▉    | 760/1288 [38:01:26<16:30:48, 112.59s/it]"
     ]
    },
    {
     "name": "stdout",
     "output_type": "stream",
     "text": [
      "Fetched number of followers ids for simon_schama : 15000\n",
      "Getting Followers ids of singularityhub\n"
     ]
    },
    {
     "name": "stderr",
     "output_type": "stream",
     "text": [
      "\r",
      " 59%|█████▉    | 761/1288 [38:01:28<11:36:09, 79.26s/it] "
     ]
    },
    {
     "name": "stdout",
     "output_type": "stream",
     "text": [
      "Fetched number of followers ids for singularityhub : 15000\n",
      "Getting Followers ids of singularityu\n"
     ]
    },
    {
     "name": "stderr",
     "output_type": "stream",
     "text": [
      "Rate limit reached. Sleeping for: 892\n",
      " 59%|█████▉    | 762/1288 [38:16:27<47:30:03, 325.10s/it]"
     ]
    },
    {
     "name": "stdout",
     "output_type": "stream",
     "text": [
      "Fetched number of followers ids for singularityu : 15000\n",
      "Getting Followers ids of SirKenRobinson\n"
     ]
    },
    {
     "name": "stderr",
     "output_type": "stream",
     "text": [
      "\r",
      " 59%|█████▉    | 763/1288 [38:16:28<33:15:10, 228.02s/it]"
     ]
    },
    {
     "name": "stdout",
     "output_type": "stream",
     "text": [
      "Fetched number of followers ids for SirKenRobinson : 15000\n",
      "Getting Followers ids of sixthformpoet\n"
     ]
    },
    {
     "name": "stderr",
     "output_type": "stream",
     "text": [
      "\r",
      " 59%|█████▉    | 764/1288 [38:16:30<23:18:00, 160.08s/it]"
     ]
    },
    {
     "name": "stdout",
     "output_type": "stream",
     "text": [
      "Fetched number of followers ids for sixthformpoet : 15000\n",
      "Getting Followers ids of SkyandTelescope\n"
     ]
    },
    {
     "name": "stderr",
     "output_type": "stream",
     "text": [
      "\r",
      " 59%|█████▉    | 765/1288 [38:16:31<16:20:35, 112.50s/it]"
     ]
    },
    {
     "name": "stdout",
     "output_type": "stream",
     "text": [
      "Fetched number of followers ids for SkyandTelescope : 15000\n",
      "Getting Followers ids of SlaughterAM\n"
     ]
    },
    {
     "name": "stderr",
     "output_type": "stream",
     "text": [
      "\r",
      " 59%|█████▉    | 766/1288 [38:16:33<11:28:57, 79.19s/it] "
     ]
    },
    {
     "name": "stdout",
     "output_type": "stream",
     "text": [
      "Fetched number of followers ids for SlaughterAM : 15000\n",
      "Getting Followers ids of smartereveryday\n"
     ]
    },
    {
     "name": "stderr",
     "output_type": "stream",
     "text": [
      "Rate limit reached. Sleeping for: 893\n",
      " 60%|█████▉    | 767/1288 [38:31:32<47:05:16, 325.37s/it]"
     ]
    },
    {
     "name": "stdout",
     "output_type": "stream",
     "text": [
      "Fetched number of followers ids for smartereveryday : 15000\n",
      "Getting Followers ids of SmashDawg\n"
     ]
    },
    {
     "name": "stderr",
     "output_type": "stream",
     "text": [
      "\r",
      " 60%|█████▉    | 768/1288 [38:31:34<32:57:47, 228.21s/it]"
     ]
    },
    {
     "name": "stdout",
     "output_type": "stream",
     "text": [
      "Fetched number of followers ids for SmashDawg : 15000\n",
      "Getting Followers ids of SmithsonianMag\n"
     ]
    },
    {
     "name": "stderr",
     "output_type": "stream",
     "text": [
      "\r",
      " 60%|█████▉    | 769/1288 [38:31:35<23:05:37, 160.19s/it]"
     ]
    },
    {
     "name": "stdout",
     "output_type": "stream",
     "text": [
      "Fetched number of followers ids for SmithsonianMag : 15000\n",
      "Getting Followers ids of SocialSavvyGeek\n"
     ]
    },
    {
     "name": "stderr",
     "output_type": "stream",
     "text": [
      "\r",
      " 60%|█████▉    | 770/1288 [38:31:37<16:12:07, 112.60s/it]"
     ]
    },
    {
     "name": "stdout",
     "output_type": "stream",
     "text": [
      "Fetched number of followers ids for SocialSavvyGeek : 15000\n",
      "Getting Followers ids of SohrabAhmari\n"
     ]
    },
    {
     "name": "stderr",
     "output_type": "stream",
     "text": [
      "\r",
      " 60%|█████▉    | 771/1288 [38:31:38<11:22:59, 79.26s/it] "
     ]
    },
    {
     "name": "stdout",
     "output_type": "stream",
     "text": [
      "Fetched number of followers ids for SohrabAhmari : 15000\n",
      "Getting Followers ids of sorayadarabi\n"
     ]
    },
    {
     "name": "stderr",
     "output_type": "stream",
     "text": [
      "Rate limit reached. Sleeping for: 893\n",
      " 60%|█████▉    | 772/1288 [38:46:38<46:38:32, 325.41s/it]"
     ]
    },
    {
     "name": "stdout",
     "output_type": "stream",
     "text": [
      "Fetched number of followers ids for sorayadarabi : 15000\n",
      "Getting Followers ids of SPACEdotcom\n"
     ]
    },
    {
     "name": "stderr",
     "output_type": "stream",
     "text": [
      "\r",
      " 60%|██████    | 773/1288 [38:46:40<32:39:03, 228.24s/it]"
     ]
    },
    {
     "name": "stdout",
     "output_type": "stream",
     "text": [
      "Fetched number of followers ids for SPACEdotcom : 15000\n",
      "Getting Followers ids of standupmaths\n"
     ]
    },
    {
     "name": "stderr",
     "output_type": "stream",
     "text": [
      "\r",
      " 60%|██████    | 774/1288 [38:46:41<22:52:33, 160.22s/it]"
     ]
    },
    {
     "name": "stdout",
     "output_type": "stream",
     "text": [
      "Fetched number of followers ids for standupmaths : 15000\n",
      "Getting Followers ids of starstrickenSF\n"
     ]
    },
    {
     "name": "stderr",
     "output_type": "stream",
     "text": [
      "\r",
      " 60%|██████    | 775/1288 [38:46:43<16:02:34, 112.58s/it]"
     ]
    },
    {
     "name": "stdout",
     "output_type": "stream",
     "text": [
      "Fetched number of followers ids for starstrickenSF : 15000\n",
      "Getting Followers ids of StarTalkRadio\n"
     ]
    },
    {
     "name": "stderr",
     "output_type": "stream",
     "text": [
      "\r",
      " 60%|██████    | 776/1288 [38:46:44<11:16:15, 79.25s/it] "
     ]
    },
    {
     "name": "stdout",
     "output_type": "stream",
     "text": [
      "Fetched number of followers ids for StarTalkRadio : 15000\n",
      "Getting Followers ids of StartupYou\n"
     ]
    },
    {
     "name": "stderr",
     "output_type": "stream",
     "text": [
      "Rate limit reached. Sleeping for: 893\n",
      " 60%|██████    | 777/1288 [39:01:44<46:11:15, 325.39s/it]"
     ]
    },
    {
     "name": "stdout",
     "output_type": "stream",
     "text": [
      "Fetched number of followers ids for StartupYou : 15000\n",
      "Getting Followers ids of StationCDRKelly\n"
     ]
    },
    {
     "name": "stderr",
     "output_type": "stream",
     "text": [
      "\r",
      " 60%|██████    | 778/1288 [39:01:45<32:19:49, 228.22s/it]"
     ]
    },
    {
     "name": "stdout",
     "output_type": "stream",
     "text": [
      "Fetched number of followers ids for StationCDRKelly : 15000\n",
      "Getting Followers ids of statnews\n"
     ]
    },
    {
     "name": "stderr",
     "output_type": "stream",
     "text": [
      "\r",
      " 60%|██████    | 779/1288 [39:01:47<22:38:59, 160.20s/it]"
     ]
    },
    {
     "name": "stdout",
     "output_type": "stream",
     "text": [
      "Fetched number of followers ids for statnews : 15000\n",
      "Getting Followers ids of stephenkb\n"
     ]
    },
    {
     "name": "stderr",
     "output_type": "stream",
     "text": [
      "\r",
      " 61%|██████    | 780/1288 [39:01:48<15:53:09, 112.58s/it]"
     ]
    },
    {
     "name": "stdout",
     "output_type": "stream",
     "text": [
      "Fetched number of followers ids for stephenkb : 15000\n",
      "Getting Followers ids of SteveBakerHW\n"
     ]
    },
    {
     "name": "stderr",
     "output_type": "stream",
     "text": [
      "\r",
      " 61%|██████    | 781/1288 [39:01:50<11:09:43, 79.26s/it] "
     ]
    },
    {
     "name": "stdout",
     "output_type": "stream",
     "text": [
      "Fetched number of followers ids for SteveBakerHW : 15000\n",
      "Getting Followers ids of stevenbjohnson\n"
     ]
    },
    {
     "name": "stderr",
     "output_type": "stream",
     "text": [
      "Rate limit reached. Sleeping for: 892\n",
      " 61%|██████    | 782/1288 [39:16:49<45:41:56, 325.13s/it]"
     ]
    },
    {
     "name": "stdout",
     "output_type": "stream",
     "text": [
      "Fetched number of followers ids for stevenbjohnson : 15000\n",
      "Getting Followers ids of StevenLevy\n"
     ]
    },
    {
     "name": "stderr",
     "output_type": "stream",
     "text": [
      "\r",
      " 61%|██████    | 783/1288 [39:16:50<31:59:16, 228.03s/it]"
     ]
    },
    {
     "name": "stdout",
     "output_type": "stream",
     "text": [
      "Fetched number of followers ids for StevenLevy : 15000\n",
      "Getting Followers ids of stevesi\n"
     ]
    },
    {
     "name": "stderr",
     "output_type": "stream",
     "text": [
      "\r",
      " 61%|██████    | 784/1288 [39:16:52<22:24:29, 160.06s/it]"
     ]
    },
    {
     "name": "stdout",
     "output_type": "stream",
     "text": [
      "Fetched number of followers ids for stevesi : 15000\n",
      "Getting Followers ids of stevesilberman\n"
     ]
    },
    {
     "name": "stderr",
     "output_type": "stream",
     "text": [
      "\r",
      " 61%|██████    | 785/1288 [39:16:53<15:42:59, 112.48s/it]"
     ]
    },
    {
     "name": "stdout",
     "output_type": "stream",
     "text": [
      "Fetched number of followers ids for stevesilberman : 15000\n",
      "Getting Followers ids of SteveStuWill\n"
     ]
    },
    {
     "name": "stderr",
     "output_type": "stream",
     "text": [
      "\r",
      " 61%|██████    | 786/1288 [39:16:55<11:02:36, 79.20s/it] "
     ]
    },
    {
     "name": "stdout",
     "output_type": "stream",
     "text": [
      "Fetched number of followers ids for SteveStuWill : 15000\n",
      "Getting Followers ids of stewart\n"
     ]
    },
    {
     "name": "stderr",
     "output_type": "stream",
     "text": [
      "Rate limit reached. Sleeping for: 893\n",
      " 61%|██████    | 787/1288 [39:31:54<45:16:43, 325.36s/it]"
     ]
    },
    {
     "name": "stdout",
     "output_type": "stream",
     "text": [
      "Fetched number of followers ids for stewart : 15000\n",
      "Getting Followers ids of StuartMaconie\n"
     ]
    },
    {
     "name": "stderr",
     "output_type": "stream",
     "text": [
      "\r",
      " 61%|██████    | 788/1288 [39:31:56<31:41:37, 228.20s/it]"
     ]
    },
    {
     "name": "stdout",
     "output_type": "stream",
     "text": [
      "Fetched number of followers ids for StuartMaconie : 15000\n",
      "Getting Followers ids of stuartpstevens\n"
     ]
    },
    {
     "name": "stderr",
     "output_type": "stream",
     "text": [
      "\r",
      " 61%|██████▏   | 789/1288 [39:31:57<22:12:05, 160.17s/it]"
     ]
    },
    {
     "name": "stdout",
     "output_type": "stream",
     "text": [
      "Fetched number of followers ids for stuartpstevens : 15000\n",
      "Getting Followers ids of Sulliview\n"
     ]
    },
    {
     "name": "stderr",
     "output_type": "stream",
     "text": [
      "\r",
      " 61%|██████▏   | 790/1288 [39:31:59<15:34:13, 112.56s/it]"
     ]
    },
    {
     "name": "stdout",
     "output_type": "stream",
     "text": [
      "Fetched number of followers ids for Sulliview : 15000\n",
      "Getting Followers ids of sullydish\n"
     ]
    },
    {
     "name": "stderr",
     "output_type": "stream",
     "text": [
      "\r",
      " 61%|██████▏   | 791/1288 [39:32:01<10:57:14, 79.35s/it] "
     ]
    },
    {
     "name": "stdout",
     "output_type": "stream",
     "text": [
      "Fetched number of followers ids for sullydish : 15000\n",
      "Getting Followers ids of Surgeon_General\n"
     ]
    },
    {
     "name": "stderr",
     "output_type": "stream",
     "text": [
      "Rate limit reached. Sleeping for: 893\n",
      " 61%|██████▏   | 792/1288 [39:47:00<44:50:38, 325.48s/it]"
     ]
    },
    {
     "name": "stdout",
     "output_type": "stream",
     "text": [
      "Fetched number of followers ids for Surgeon_General : 15000\n",
      "Getting Followers ids of suzanne_moore\n"
     ]
    },
    {
     "name": "stderr",
     "output_type": "stream",
     "text": [
      "\r",
      " 62%|██████▏   | 793/1288 [39:47:02<31:23:14, 228.27s/it]"
     ]
    },
    {
     "name": "stdout",
     "output_type": "stream",
     "text": [
      "Fetched number of followers ids for suzanne_moore : 15000\n",
      "Getting Followers ids of SwiftOnSecurity\n"
     ]
    },
    {
     "name": "stderr",
     "output_type": "stream",
     "text": [
      "\r",
      " 62%|██████▏   | 794/1288 [39:47:04<21:59:50, 160.30s/it]"
     ]
    },
    {
     "name": "stdout",
     "output_type": "stream",
     "text": [
      "Fetched number of followers ids for SwiftOnSecurity : 15000\n",
      "Getting Followers ids of swordsjew\n"
     ]
    },
    {
     "name": "stderr",
     "output_type": "stream",
     "text": [
      "\r",
      " 62%|██████▏   | 795/1288 [39:47:05<15:25:31, 112.64s/it]"
     ]
    },
    {
     "name": "stdout",
     "output_type": "stream",
     "text": [
      "Fetched number of followers ids for swordsjew : 15000\n",
      "Getting Followers ids of t0nit0ne\n"
     ]
    },
    {
     "name": "stderr",
     "output_type": "stream",
     "text": [
      "\r",
      " 62%|██████▏   | 796/1288 [39:47:06<10:50:17, 79.30s/it] "
     ]
    },
    {
     "name": "stdout",
     "output_type": "stream",
     "text": [
      "Fetched number of followers ids for t0nit0ne : 15000\n",
      "Getting Followers ids of TaylorLorenz\n"
     ]
    },
    {
     "name": "stderr",
     "output_type": "stream",
     "text": [
      "Rate limit reached. Sleeping for: 893\n",
      " 62%|██████▏   | 797/1288 [40:02:06<44:23:04, 325.43s/it]"
     ]
    },
    {
     "name": "stdout",
     "output_type": "stream",
     "text": [
      "Fetched number of followers ids for TaylorLorenz : 15000\n",
      "Getting Followers ids of TEDx\n"
     ]
    },
    {
     "name": "stderr",
     "output_type": "stream",
     "text": [
      "\r",
      " 62%|██████▏   | 798/1288 [40:02:08<31:04:07, 228.26s/it]"
     ]
    },
    {
     "name": "stdout",
     "output_type": "stream",
     "text": [
      "Fetched number of followers ids for TEDx : 15000\n",
      "Getting Followers ids of TED_ED\n"
     ]
    },
    {
     "name": "stderr",
     "output_type": "stream",
     "text": [
      "\r",
      " 62%|██████▏   | 799/1288 [40:02:09<21:46:01, 160.25s/it]"
     ]
    },
    {
     "name": "stdout",
     "output_type": "stream",
     "text": [
      "Fetched number of followers ids for TED_ED : 15000\n",
      "Getting Followers ids of TerryMoran\n"
     ]
    },
    {
     "name": "stderr",
     "output_type": "stream",
     "text": [
      "\r",
      " 62%|██████▏   | 800/1288 [40:02:11<15:15:57, 112.62s/it]"
     ]
    },
    {
     "name": "stdout",
     "output_type": "stream",
     "text": [
      "Fetched number of followers ids for TerryMoran : 15000\n",
      "Getting Followers ids of tfadell\n"
     ]
    },
    {
     "name": "stderr",
     "output_type": "stream",
     "text": [
      "\r",
      " 62%|██████▏   | 801/1288 [40:02:12<10:43:25, 79.27s/it] "
     ]
    },
    {
     "name": "stdout",
     "output_type": "stream",
     "text": [
      "Fetched number of followers ids for tfadell : 15000\n",
      "Getting Followers ids of theAliceRoberts\n"
     ]
    },
    {
     "name": "stderr",
     "output_type": "stream",
     "text": [
      "Rate limit reached. Sleeping for: 893\n",
      " 62%|██████▏   | 802/1288 [40:17:12<43:56:10, 325.45s/it]"
     ]
    },
    {
     "name": "stdout",
     "output_type": "stream",
     "text": [
      "Fetched number of followers ids for theAliceRoberts : 15000\n",
      "Getting Followers ids of TheBloggess\n"
     ]
    },
    {
     "name": "stderr",
     "output_type": "stream",
     "text": [
      "\r",
      " 62%|██████▏   | 803/1288 [40:17:14<30:45:07, 228.26s/it]"
     ]
    },
    {
     "name": "stdout",
     "output_type": "stream",
     "text": [
      "Fetched number of followers ids for TheBloggess : 15000\n",
      "Getting Followers ids of thegrugq\n"
     ]
    },
    {
     "name": "stderr",
     "output_type": "stream",
     "text": [
      "\r",
      " 62%|██████▏   | 804/1288 [40:17:15<21:32:33, 160.23s/it]"
     ]
    },
    {
     "name": "stdout",
     "output_type": "stream",
     "text": [
      "Fetched number of followers ids for thegrugq : 15000\n",
      "Getting Followers ids of TheHRH\n"
     ]
    },
    {
     "name": "stderr",
     "output_type": "stream",
     "text": [
      "\r",
      " 62%|██████▎   | 805/1288 [40:17:17<15:06:42, 112.63s/it]"
     ]
    },
    {
     "name": "stdout",
     "output_type": "stream",
     "text": [
      "Fetched number of followers ids for TheHRH : 15000\n",
      "Getting Followers ids of thejoelstein\n"
     ]
    },
    {
     "name": "stderr",
     "output_type": "stream",
     "text": [
      "\r",
      " 63%|██████▎   | 806/1288 [40:17:18<10:37:06, 79.31s/it] "
     ]
    },
    {
     "name": "stdout",
     "output_type": "stream",
     "text": [
      "Fetched number of followers ids for thejoelstein : 15000\n",
      "Getting Followers ids of TheLancet\n"
     ]
    },
    {
     "name": "stderr",
     "output_type": "stream",
     "text": [
      "Rate limit reached. Sleeping for: 893\n",
      " 63%|██████▎   | 807/1288 [40:32:18<43:28:48, 325.42s/it]"
     ]
    },
    {
     "name": "stdout",
     "output_type": "stream",
     "text": [
      "Fetched number of followers ids for TheLancet : 15000\n",
      "Getting Followers ids of thephysicsgirl\n"
     ]
    },
    {
     "name": "stderr",
     "output_type": "stream",
     "text": [
      "\r",
      " 63%|██████▎   | 808/1288 [40:32:19<30:25:57, 228.24s/it]"
     ]
    },
    {
     "name": "stdout",
     "output_type": "stream",
     "text": [
      "Fetched number of followers ids for thephysicsgirl : 15000\n",
      "Getting Followers ids of TheRaDR\n"
     ]
    },
    {
     "name": "stderr",
     "output_type": "stream",
     "text": [
      "\r",
      " 63%|██████▎   | 809/1288 [40:32:21<21:19:05, 160.22s/it]"
     ]
    },
    {
     "name": "stdout",
     "output_type": "stream",
     "text": [
      "Fetched number of followers ids for TheRaDR : 15000\n",
      "Getting Followers ids of TheSpaceGal\n"
     ]
    },
    {
     "name": "stderr",
     "output_type": "stream",
     "text": [
      "\r",
      " 63%|██████▎   | 810/1288 [40:32:22<14:56:59, 112.59s/it]"
     ]
    },
    {
     "name": "stdout",
     "output_type": "stream",
     "text": [
      "Fetched number of followers ids for TheSpaceGal : 15000\n",
      "Getting Followers ids of TimHarford\n"
     ]
    },
    {
     "name": "stderr",
     "output_type": "stream",
     "text": [
      "\r",
      " 63%|██████▎   | 811/1288 [40:32:24<10:30:12, 79.27s/it] "
     ]
    },
    {
     "name": "stdout",
     "output_type": "stream",
     "text": [
      "Fetched number of followers ids for TimHarford : 15000\n",
      "Getting Followers ids of timminchin\n"
     ]
    },
    {
     "name": "stderr",
     "output_type": "stream",
     "text": [
      "Rate limit reached. Sleeping for: 892\n",
      " 63%|██████▎   | 812/1288 [40:47:23<42:59:08, 325.10s/it]"
     ]
    },
    {
     "name": "stdout",
     "output_type": "stream",
     "text": [
      "Fetched number of followers ids for timminchin : 15000\n",
      "Getting Followers ids of Timodc\n"
     ]
    },
    {
     "name": "stderr",
     "output_type": "stream",
     "text": [
      "\r",
      " 63%|██████▎   | 813/1288 [40:47:24<30:05:09, 228.02s/it]"
     ]
    },
    {
     "name": "stdout",
     "output_type": "stream",
     "text": [
      "Fetched number of followers ids for Timodc : 15000\n",
      "Getting Followers ids of timoreilly\n"
     ]
    },
    {
     "name": "stderr",
     "output_type": "stream",
     "text": [
      "\r",
      " 63%|██████▎   | 814/1288 [40:47:26<21:04:26, 160.06s/it]"
     ]
    },
    {
     "name": "stdout",
     "output_type": "stream",
     "text": [
      "Fetched number of followers ids for timoreilly : 15000\n",
      "Getting Followers ids of tressiemcphd\n"
     ]
    },
    {
     "name": "stderr",
     "output_type": "stream",
     "text": [
      "\r",
      " 63%|██████▎   | 815/1288 [40:47:27<14:46:47, 112.49s/it]"
     ]
    },
    {
     "name": "stdout",
     "output_type": "stream",
     "text": [
      "Fetched number of followers ids for tressiemcphd : 15000\n",
      "Getting Followers ids of triketora\n"
     ]
    },
    {
     "name": "stderr",
     "output_type": "stream",
     "text": [
      "\r",
      " 63%|██████▎   | 816/1288 [40:47:28<10:22:54, 79.18s/it] "
     ]
    },
    {
     "name": "stdout",
     "output_type": "stream",
     "text": [
      "Fetched number of followers ids for triketora : 15000\n",
      "Getting Followers ids of trishgreenhalgh\n"
     ]
    },
    {
     "name": "stderr",
     "output_type": "stream",
     "text": [
      "Rate limit reached. Sleeping for: 893\n",
      " 63%|██████▎   | 817/1288 [41:02:28<42:34:07, 325.37s/it]"
     ]
    },
    {
     "name": "stdout",
     "output_type": "stream",
     "text": [
      "Fetched number of followers ids for trishgreenhalgh : 15000\n",
      "Getting Followers ids of trish_zornio\n"
     ]
    },
    {
     "name": "stderr",
     "output_type": "stream",
     "text": [
      "\r",
      " 64%|██████▎   | 818/1288 [41:02:30<29:47:32, 228.20s/it]"
     ]
    },
    {
     "name": "stdout",
     "output_type": "stream",
     "text": [
      "Fetched number of followers ids for trish_zornio : 15000\n",
      "Getting Followers ids of tristanharris\n"
     ]
    },
    {
     "name": "stderr",
     "output_type": "stream",
     "text": [
      "\r",
      " 64%|██████▎   | 819/1288 [41:02:31<20:52:02, 160.17s/it]"
     ]
    },
    {
     "name": "stdout",
     "output_type": "stream",
     "text": [
      "Fetched number of followers ids for tristanharris : 15000\n",
      "Getting Followers ids of trvrb\n"
     ]
    },
    {
     "name": "stderr",
     "output_type": "stream",
     "text": [
      "\r",
      " 64%|██████▎   | 820/1288 [41:02:33<14:38:20, 112.61s/it]"
     ]
    },
    {
     "name": "stdout",
     "output_type": "stream",
     "text": [
      "Fetched number of followers ids for trvrb : 15000\n",
      "Getting Followers ids of TulaneTerry\n"
     ]
    },
    {
     "name": "stderr",
     "output_type": "stream",
     "text": [
      "\r",
      " 64%|██████▎   | 821/1288 [41:02:34<10:17:08, 79.29s/it] "
     ]
    },
    {
     "name": "stdout",
     "output_type": "stream",
     "text": [
      "Fetched number of followers ids for TulaneTerry : 15000\n",
      "Getting Followers ids of tweetsauce\n"
     ]
    },
    {
     "name": "stderr",
     "output_type": "stream",
     "text": [
      "Rate limit reached. Sleeping for: 893\n",
      " 64%|██████▍   | 822/1288 [41:17:34<42:07:23, 325.42s/it]"
     ]
    },
    {
     "name": "stdout",
     "output_type": "stream",
     "text": [
      "Fetched number of followers ids for tweetsauce : 15000\n",
      "Getting Followers ids of tweetsoutloud\n"
     ]
    },
    {
     "name": "stderr",
     "output_type": "stream",
     "text": [
      "\r",
      " 64%|██████▍   | 823/1288 [41:17:36<29:28:46, 228.23s/it]"
     ]
    },
    {
     "name": "stdout",
     "output_type": "stream",
     "text": [
      "Fetched number of followers ids for tweetsoutloud : 15000\n",
      "Getting Followers ids of tyhenrymedium\n"
     ]
    },
    {
     "name": "stderr",
     "output_type": "stream",
     "text": [
      "\r",
      " 64%|██████▍   | 824/1288 [41:17:37<20:39:08, 160.23s/it]"
     ]
    },
    {
     "name": "stdout",
     "output_type": "stream",
     "text": [
      "Fetched number of followers ids for tyhenrymedium : 15000\n",
      "Getting Followers ids of tylercowen\n"
     ]
    },
    {
     "name": "stderr",
     "output_type": "stream",
     "text": [
      "\r",
      " 64%|██████▍   | 825/1288 [41:17:39<14:29:23, 112.66s/it]"
     ]
    },
    {
     "name": "stdout",
     "output_type": "stream",
     "text": [
      "Fetched number of followers ids for tylercowen : 15000\n",
      "Getting Followers ids of T_Inglesby\n"
     ]
    },
    {
     "name": "stderr",
     "output_type": "stream",
     "text": [
      "\r",
      " 64%|██████▍   | 826/1288 [41:17:40<10:10:42, 79.31s/it] "
     ]
    },
    {
     "name": "stdout",
     "output_type": "stream",
     "text": [
      "Fetched number of followers ids for T_Inglesby : 15000\n",
      "Getting Followers ids of udaychopra\n"
     ]
    },
    {
     "name": "stderr",
     "output_type": "stream",
     "text": [
      "Rate limit reached. Sleeping for: 893\n",
      " 64%|██████▍   | 827/1288 [41:32:41<41:42:06, 325.65s/it]"
     ]
    },
    {
     "name": "stdout",
     "output_type": "stream",
     "text": [
      "Fetched number of followers ids for udaychopra : 15000\n",
      "Getting Followers ids of uksciencechief\n"
     ]
    },
    {
     "name": "stderr",
     "output_type": "stream",
     "text": [
      "\r",
      " 64%|██████▍   | 828/1288 [41:32:42<29:11:06, 228.41s/it]"
     ]
    },
    {
     "name": "stdout",
     "output_type": "stream",
     "text": [
      "Fetched number of followers ids for uksciencechief : 15000\n",
      "Getting Followers ids of umairh\n"
     ]
    },
    {
     "name": "stderr",
     "output_type": "stream",
     "text": [
      "\r",
      " 64%|██████▍   | 829/1288 [41:32:44<20:26:26, 160.32s/it]"
     ]
    },
    {
     "name": "stdout",
     "output_type": "stream",
     "text": [
      "Fetched number of followers ids for umairh : 15000\n",
      "Getting Followers ids of UnburntWitch\n"
     ]
    },
    {
     "name": "stderr",
     "output_type": "stream",
     "text": [
      "\r",
      " 64%|██████▍   | 830/1288 [41:32:45<14:20:03, 112.67s/it]"
     ]
    },
    {
     "name": "stdout",
     "output_type": "stream",
     "text": [
      "Fetched number of followers ids for UnburntWitch : 15000\n",
      "Getting Followers ids of unclebobmartin\n"
     ]
    },
    {
     "name": "stderr",
     "output_type": "stream",
     "text": [
      "\r",
      " 65%|██████▍   | 831/1288 [41:32:47<10:04:09, 79.32s/it] "
     ]
    },
    {
     "name": "stdout",
     "output_type": "stream",
     "text": [
      "Fetched number of followers ids for unclebobmartin : 15000\n",
      "Getting Followers ids of uncultured\n"
     ]
    },
    {
     "name": "stderr",
     "output_type": "stream",
     "text": [
      "Rate limit reached. Sleeping for: 893\n",
      " 65%|██████▍   | 832/1288 [41:47:47<41:13:45, 325.49s/it]"
     ]
    },
    {
     "name": "stdout",
     "output_type": "stream",
     "text": [
      "Fetched number of followers ids for uncultured : 15000\n",
      "Getting Followers ids of UniMelb\n"
     ]
    },
    {
     "name": "stderr",
     "output_type": "stream",
     "text": [
      "\r",
      " 65%|██████▍   | 833/1288 [41:47:48<28:51:09, 228.29s/it]"
     ]
    },
    {
     "name": "stdout",
     "output_type": "stream",
     "text": [
      "Fetched number of followers ids for UniMelb : 15000\n",
      "Getting Followers ids of unmarketing\n"
     ]
    },
    {
     "name": "stderr",
     "output_type": "stream",
     "text": [
      "\r",
      " 65%|██████▍   | 834/1288 [41:47:50<20:12:33, 160.25s/it]"
     ]
    },
    {
     "name": "stdout",
     "output_type": "stream",
     "text": [
      "Fetched number of followers ids for unmarketing : 15000\n",
      "Getting Followers ids of UpshotNYT\n"
     ]
    },
    {
     "name": "stderr",
     "output_type": "stream",
     "text": [
      "\r",
      " 65%|██████▍   | 835/1288 [41:47:51<14:10:26, 112.64s/it]"
     ]
    },
    {
     "name": "stdout",
     "output_type": "stream",
     "text": [
      "Fetched number of followers ids for UpshotNYT : 15000\n",
      "Getting Followers ids of USATODAYhealth\n"
     ]
    },
    {
     "name": "stderr",
     "output_type": "stream",
     "text": [
      "\r",
      " 65%|██████▍   | 836/1288 [41:47:53<9:57:25, 79.31s/it]  "
     ]
    },
    {
     "name": "stdout",
     "output_type": "stream",
     "text": [
      "Fetched number of followers ids for USATODAYhealth : 15000\n",
      "Getting Followers ids of V2019N\n"
     ]
    },
    {
     "name": "stderr",
     "output_type": "stream",
     "text": [
      "Rate limit reached. Sleeping for: 893\n",
      " 65%|██████▍   | 837/1288 [42:02:52<40:46:23, 325.46s/it]"
     ]
    },
    {
     "name": "stdout",
     "output_type": "stream",
     "text": [
      "Fetched number of followers ids for V2019N : 15000\n",
      "Getting Followers ids of veritasium\n"
     ]
    },
    {
     "name": "stderr",
     "output_type": "stream",
     "text": [
      "\r",
      " 65%|██████▌   | 838/1288 [42:02:54<28:32:25, 228.32s/it]"
     ]
    },
    {
     "name": "stdout",
     "output_type": "stream",
     "text": [
      "Fetched number of followers ids for veritasium : 15000\n",
      "Getting Followers ids of Veronica\n"
     ]
    },
    {
     "name": "stderr",
     "output_type": "stream",
     "text": [
      "\r",
      " 65%|██████▌   | 839/1288 [42:02:56<19:59:19, 160.27s/it]"
     ]
    },
    {
     "name": "stdout",
     "output_type": "stream",
     "text": [
      "Fetched number of followers ids for Veronica : 15000\n",
      "Getting Followers ids of vincentdonofrio\n"
     ]
    },
    {
     "name": "stderr",
     "output_type": "stream",
     "text": [
      "\r",
      " 65%|██████▌   | 840/1288 [42:02:57<14:00:59, 112.63s/it]"
     ]
    },
    {
     "name": "stdout",
     "output_type": "stream",
     "text": [
      "Fetched number of followers ids for vincentdonofrio : 15000\n",
      "Getting Followers ids of VinGuptaMD\n"
     ]
    },
    {
     "name": "stderr",
     "output_type": "stream",
     "text": [
      "\r",
      " 65%|██████▌   | 841/1288 [42:02:59<9:50:40, 79.29s/it]  "
     ]
    },
    {
     "name": "stdout",
     "output_type": "stream",
     "text": [
      "Fetched number of followers ids for VinGuptaMD : 15000\n",
      "Getting Followers ids of virsanghvi\n"
     ]
    },
    {
     "name": "stderr",
     "output_type": "stream",
     "text": [
      "Rate limit reached. Sleeping for: 893\n",
      " 65%|██████▌   | 842/1288 [42:17:58<40:18:49, 325.40s/it]"
     ]
    },
    {
     "name": "stdout",
     "output_type": "stream",
     "text": [
      "Fetched number of followers ids for virsanghvi : 15000\n",
      "Getting Followers ids of VirusesImmunity\n"
     ]
    },
    {
     "name": "stderr",
     "output_type": "stream",
     "text": [
      "\r",
      " 65%|██████▌   | 843/1288 [42:18:00<28:12:45, 228.24s/it]"
     ]
    },
    {
     "name": "stdout",
     "output_type": "stream",
     "text": [
      "Fetched number of followers ids for VirusesImmunity : 15000\n",
      "Getting Followers ids of VitalikButerin\n"
     ]
    },
    {
     "name": "stderr",
     "output_type": "stream",
     "text": [
      "\r",
      " 66%|██████▌   | 844/1288 [42:18:01<19:45:34, 160.21s/it]"
     ]
    },
    {
     "name": "stdout",
     "output_type": "stream",
     "text": [
      "Fetched number of followers ids for VitalikButerin : 15000\n",
      "Getting Followers ids of vkhosla\n"
     ]
    },
    {
     "name": "stderr",
     "output_type": "stream",
     "text": [
      "\r",
      " 66%|██████▌   | 845/1288 [42:18:03<13:51:27, 112.61s/it]"
     ]
    },
    {
     "name": "stdout",
     "output_type": "stream",
     "text": [
      "Fetched number of followers ids for vkhosla : 15000\n",
      "Getting Followers ids of voxdotcom\n"
     ]
    },
    {
     "name": "stderr",
     "output_type": "stream",
     "text": [
      "\r",
      " 66%|██████▌   | 846/1288 [42:18:04<9:44:01, 79.28s/it]  "
     ]
    },
    {
     "name": "stdout",
     "output_type": "stream",
     "text": [
      "Fetched number of followers ids for voxdotcom : 15000\n",
      "Getting Followers ids of waltmossberg\n"
     ]
    },
    {
     "name": "stderr",
     "output_type": "stream",
     "text": [
      "Rate limit reached. Sleeping for: 893\n",
      " 66%|██████▌   | 847/1288 [42:33:04<39:51:50, 325.42s/it]"
     ]
    },
    {
     "name": "stdout",
     "output_type": "stream",
     "text": [
      "Fetched number of followers ids for waltmossberg : 15000\n",
      "Getting Followers ids of WardPlunet\n"
     ]
    },
    {
     "name": "stderr",
     "output_type": "stream",
     "text": [
      "\r",
      " 66%|██████▌   | 848/1288 [42:33:06<27:53:50, 228.25s/it]"
     ]
    },
    {
     "name": "stdout",
     "output_type": "stream",
     "text": [
      "Fetched number of followers ids for WardPlunet : 15000\n",
      "Getting Followers ids of WebMD\n"
     ]
    },
    {
     "name": "stderr",
     "output_type": "stream",
     "text": [
      "\r",
      " 66%|██████▌   | 849/1288 [42:33:07<19:32:18, 160.22s/it]"
     ]
    },
    {
     "name": "stdout",
     "output_type": "stream",
     "text": [
      "Fetched number of followers ids for WebMD : 15000\n",
      "Getting Followers ids of wellcometrust\n"
     ]
    },
    {
     "name": "stderr",
     "output_type": "stream",
     "text": [
      "\r",
      " 66%|██████▌   | 850/1288 [42:33:09<13:42:02, 112.61s/it]"
     ]
    },
    {
     "name": "stdout",
     "output_type": "stream",
     "text": [
      "Fetched number of followers ids for wellcometrust : 15000\n",
      "Getting Followers ids of whatwouldDOOdo\n"
     ]
    },
    {
     "name": "stderr",
     "output_type": "stream",
     "text": [
      "\r",
      " 66%|██████▌   | 851/1288 [42:33:10<9:37:27, 79.28s/it]  "
     ]
    },
    {
     "name": "stdout",
     "output_type": "stream",
     "text": [
      "Fetched number of followers ids for whatwouldDOOdo : 15000\n",
      "Getting Followers ids of WHO\n"
     ]
    },
    {
     "name": "stderr",
     "output_type": "stream",
     "text": [
      "Rate limit reached. Sleeping for: 893\n",
      " 66%|██████▌   | 852/1288 [42:48:10<39:24:44, 325.42s/it]"
     ]
    },
    {
     "name": "stdout",
     "output_type": "stream",
     "text": [
      "Fetched number of followers ids for WHO : 15000\n",
      "Getting Followers ids of WHOSTP44\n"
     ]
    },
    {
     "name": "stderr",
     "output_type": "stream",
     "text": [
      "\r",
      " 66%|██████▌   | 853/1288 [42:48:12<27:35:24, 228.33s/it]"
     ]
    },
    {
     "name": "stdout",
     "output_type": "stream",
     "text": [
      "Fetched number of followers ids for WHOSTP44 : 15000\n",
      "Getting Followers ids of willcarling\n"
     ]
    },
    {
     "name": "stderr",
     "output_type": "stream",
     "text": [
      "\r",
      " 66%|██████▋   | 854/1288 [42:48:13<19:19:26, 160.29s/it]"
     ]
    },
    {
     "name": "stdout",
     "output_type": "stream",
     "text": [
      "Fetched number of followers ids for willcarling : 15000\n",
      "Getting Followers ids of WillMcAvoyACN\n"
     ]
    },
    {
     "name": "stderr",
     "output_type": "stream",
     "text": [
      "\r",
      " 66%|██████▋   | 855/1288 [42:48:15<13:32:57, 112.65s/it]"
     ]
    },
    {
     "name": "stdout",
     "output_type": "stream",
     "text": [
      "Fetched number of followers ids for WillMcAvoyACN : 15000\n",
      "Getting Followers ids of willsmith\n"
     ]
    },
    {
     "name": "stderr",
     "output_type": "stream",
     "text": [
      "\r",
      " 66%|██████▋   | 856/1288 [42:48:16<9:30:56, 79.30s/it]  "
     ]
    },
    {
     "name": "stdout",
     "output_type": "stream",
     "text": [
      "Fetched number of followers ids for willsmith : 15000\n",
      "Getting Followers ids of Winter\n"
     ]
    },
    {
     "name": "stderr",
     "output_type": "stream",
     "text": [
      "Rate limit reached. Sleeping for: 893\n",
      " 67%|██████▋   | 857/1288 [43:03:16<38:57:48, 325.45s/it]"
     ]
    },
    {
     "name": "stdout",
     "output_type": "stream",
     "text": [
      "Fetched number of followers ids for Winter : 15000\n",
      "Getting Followers ids of WIREDBusiness\n"
     ]
    },
    {
     "name": "stderr",
     "output_type": "stream",
     "text": [
      "\r",
      " 67%|██████▋   | 858/1288 [43:03:18<27:16:38, 228.37s/it]"
     ]
    },
    {
     "name": "stdout",
     "output_type": "stream",
     "text": [
      "Fetched number of followers ids for WIREDBusiness : 15000\n",
      "Getting Followers ids of WIREDScience\n"
     ]
    },
    {
     "name": "stderr",
     "output_type": "stream",
     "text": [
      "\r",
      " 67%|██████▋   | 859/1288 [43:03:19<19:06:18, 160.32s/it]"
     ]
    },
    {
     "name": "stdout",
     "output_type": "stream",
     "text": [
      "Fetched number of followers ids for WIREDScience : 15000\n",
      "Getting Followers ids of wkamaubell\n"
     ]
    },
    {
     "name": "stderr",
     "output_type": "stream",
     "text": [
      "\r",
      " 67%|██████▋   | 860/1288 [43:03:21<13:23:38, 112.66s/it]"
     ]
    },
    {
     "name": "stdout",
     "output_type": "stream",
     "text": [
      "Fetched number of followers ids for wkamaubell : 15000\n",
      "Getting Followers ids of wmarybeard\n"
     ]
    },
    {
     "name": "stderr",
     "output_type": "stream",
     "text": [
      "\r",
      " 67%|██████▋   | 861/1288 [43:03:22<9:24:31, 79.32s/it]  "
     ]
    },
    {
     "name": "stdout",
     "output_type": "stream",
     "text": [
      "Fetched number of followers ids for wmarybeard : 15000\n",
      "Getting Followers ids of WomenNASA\n"
     ]
    },
    {
     "name": "stderr",
     "output_type": "stream",
     "text": [
      "Rate limit reached. Sleeping for: 893\n",
      " 67%|██████▋   | 862/1288 [43:18:22<38:30:27, 325.42s/it]"
     ]
    },
    {
     "name": "stdout",
     "output_type": "stream",
     "text": [
      "Fetched number of followers ids for WomenNASA : 15000\n",
      "Getting Followers ids of WorldAndScience\n"
     ]
    },
    {
     "name": "stderr",
     "output_type": "stream",
     "text": [
      "\r",
      " 67%|██████▋   | 863/1288 [43:18:23<26:56:42, 228.24s/it]"
     ]
    },
    {
     "name": "stdout",
     "output_type": "stream",
     "text": [
      "Fetched number of followers ids for WorldAndScience : 15000\n",
      "Getting Followers ids of wossy\n"
     ]
    },
    {
     "name": "stderr",
     "output_type": "stream",
     "text": [
      "\r",
      " 67%|██████▋   | 864/1288 [43:18:25<18:52:21, 160.24s/it]"
     ]
    },
    {
     "name": "stdout",
     "output_type": "stream",
     "text": [
      "Fetched number of followers ids for wossy : 15000\n",
      "Getting Followers ids of wrathofgnon\n"
     ]
    },
    {
     "name": "stderr",
     "output_type": "stream",
     "text": [
      "\r",
      " 67%|██████▋   | 865/1288 [43:18:26<13:13:54, 112.61s/it]"
     ]
    },
    {
     "name": "stdout",
     "output_type": "stream",
     "text": [
      "Fetched number of followers ids for wrathofgnon : 15000\n",
      "Getting Followers ids of xandvt\n"
     ]
    },
    {
     "name": "stderr",
     "output_type": "stream",
     "text": [
      "\r",
      " 67%|██████▋   | 866/1288 [43:18:28<9:17:30, 79.27s/it]  "
     ]
    },
    {
     "name": "stdout",
     "output_type": "stream",
     "text": [
      "Fetched number of followers ids for xandvt : 15000\n",
      "Getting Followers ids of YaleMed\n"
     ]
    },
    {
     "name": "stderr",
     "output_type": "stream",
     "text": [
      "Rate limit reached. Sleeping for: 893\n",
      " 67%|██████▋   | 867/1288 [43:33:28<38:03:20, 325.42s/it]"
     ]
    },
    {
     "name": "stdout",
     "output_type": "stream",
     "text": [
      "Fetched number of followers ids for YaleMed : 15000\n",
      "Getting Followers ids of Yascha_Mounk\n"
     ]
    },
    {
     "name": "stderr",
     "output_type": "stream",
     "text": [
      "\r",
      " 67%|██████▋   | 868/1288 [43:33:29<26:37:39, 228.24s/it]"
     ]
    },
    {
     "name": "stdout",
     "output_type": "stream",
     "text": [
      "Fetched number of followers ids for Yascha_Mounk : 15000\n",
      "Getting Followers ids of ylecun\n"
     ]
    },
    {
     "name": "stderr",
     "output_type": "stream",
     "text": [
      "\r",
      " 67%|██████▋   | 869/1288 [43:33:31<18:38:47, 160.21s/it]"
     ]
    },
    {
     "name": "stdout",
     "output_type": "stream",
     "text": [
      "Fetched number of followers ids for ylecun : 15000\n",
      "Getting Followers ids of ZachWeiner\n"
     ]
    },
    {
     "name": "stderr",
     "output_type": "stream",
     "text": [
      "\r",
      " 68%|██████▊   | 870/1288 [43:33:32<13:04:34, 112.62s/it]"
     ]
    },
    {
     "name": "stdout",
     "output_type": "stream",
     "text": [
      "Fetched number of followers ids for ZachWeiner : 15000\n",
      "Getting Followers ids of zephoria\n"
     ]
    },
    {
     "name": "stderr",
     "output_type": "stream",
     "text": [
      "\r",
      " 68%|██████▊   | 871/1288 [43:33:34<9:10:58, 79.28s/it]  "
     ]
    },
    {
     "name": "stdout",
     "output_type": "stream",
     "text": [
      "Fetched number of followers ids for zephoria : 15000\n",
      "Getting Followers ids of ztsamudzi\n"
     ]
    },
    {
     "name": "stderr",
     "output_type": "stream",
     "text": [
      "Rate limit reached. Sleeping for: 893\n",
      " 68%|██████▊   | 872/1288 [43:48:33<37:36:14, 325.42s/it]"
     ]
    },
    {
     "name": "stdout",
     "output_type": "stream",
     "text": [
      "Fetched number of followers ids for ztsamudzi : 15000\n",
      "Getting Followers ids of ZZ0\n"
     ]
    },
    {
     "name": "stderr",
     "output_type": "stream",
     "text": [
      "\r",
      " 68%|██████▊   | 873/1288 [43:48:35<26:18:37, 228.23s/it]"
     ]
    },
    {
     "name": "stdout",
     "output_type": "stream",
     "text": [
      "Fetched number of followers ids for ZZ0 : 15000\n",
      "Getting Followers ids of _AlexHirsch\n"
     ]
    },
    {
     "name": "stderr",
     "output_type": "stream",
     "text": [
      "\r",
      " 68%|██████▊   | 874/1288 [43:48:36<18:25:29, 160.22s/it]"
     ]
    },
    {
     "name": "stdout",
     "output_type": "stream",
     "text": [
      "Fetched number of followers ids for _AlexHirsch : 15000\n",
      "Getting Followers ids of 1book140\n"
     ]
    },
    {
     "name": "stderr",
     "output_type": "stream",
     "text": [
      "\r",
      " 68%|██████▊   | 875/1288 [43:48:38<12:55:06, 112.61s/it]"
     ]
    },
    {
     "name": "stdout",
     "output_type": "stream",
     "text": [
      "Fetched number of followers ids for 1book140 : 15000\n",
      "Getting Followers ids of 4everNeverTrump\n"
     ]
    },
    {
     "name": "stderr",
     "output_type": "stream",
     "text": [
      "\r",
      " 68%|██████▊   | 876/1288 [43:48:39<9:04:22, 79.28s/it]  "
     ]
    },
    {
     "name": "stdout",
     "output_type": "stream",
     "text": [
      "Fetched number of followers ids for 4everNeverTrump : 15000\n",
      "Getting Followers ids of 6\n"
     ]
    },
    {
     "name": "stderr",
     "output_type": "stream",
     "text": [
      "Rate limit reached. Sleeping for: 893\n",
      " 68%|██████▊   | 877/1288 [44:03:39<37:09:24, 325.46s/it]"
     ]
    },
    {
     "name": "stdout",
     "output_type": "stream",
     "text": [
      "Fetched number of followers ids for 6 : 15000\n",
      "Getting Followers ids of abdur\n"
     ]
    },
    {
     "name": "stderr",
     "output_type": "stream",
     "text": [
      "\r",
      " 68%|██████▊   | 878/1288 [44:03:41<26:00:11, 228.32s/it]"
     ]
    },
    {
     "name": "stdout",
     "output_type": "stream",
     "text": [
      "Fetched number of followers ids for abdur : 15000\n",
      "Getting Followers ids of ablegrape\n"
     ]
    },
    {
     "name": "stderr",
     "output_type": "stream",
     "text": [
      "\r",
      " 68%|██████▊   | 879/1288 [44:03:43<18:12:34, 160.28s/it]"
     ]
    },
    {
     "name": "stdout",
     "output_type": "stream",
     "text": [
      "Fetched number of followers ids for ablegrape : 15000\n",
      "Getting Followers ids of adamfeuerstein\n"
     ]
    },
    {
     "name": "stderr",
     "output_type": "stream",
     "text": [
      "\r",
      " 68%|██████▊   | 880/1288 [44:03:44<12:45:51, 112.63s/it]"
     ]
    },
    {
     "name": "stdout",
     "output_type": "stream",
     "text": [
      "Fetched number of followers ids for adamfeuerstein : 15000\n",
      "Getting Followers ids of adamjohnsonNYC\n"
     ]
    },
    {
     "name": "stderr",
     "output_type": "stream",
     "text": [
      "\r",
      " 68%|██████▊   | 881/1288 [44:03:45<8:57:50, 79.29s/it]  "
     ]
    },
    {
     "name": "stdout",
     "output_type": "stream",
     "text": [
      "Fetched number of followers ids for adamjohnsonNYC : 15000\n",
      "Getting Followers ids of AdamSessler\n"
     ]
    },
    {
     "name": "stderr",
     "output_type": "stream",
     "text": [
      "Rate limit reached. Sleeping for: 893\n",
      " 68%|██████▊   | 882/1288 [44:18:45<36:41:57, 325.41s/it]"
     ]
    },
    {
     "name": "stdout",
     "output_type": "stream",
     "text": [
      "Fetched number of followers ids for AdamSessler : 15000\n",
      "Getting Followers ids of addyosmani\n"
     ]
    },
    {
     "name": "stderr",
     "output_type": "stream",
     "text": [
      "\r",
      " 69%|██████▊   | 883/1288 [44:18:47<25:40:35, 228.24s/it]"
     ]
    },
    {
     "name": "stdout",
     "output_type": "stream",
     "text": [
      "Fetched number of followers ids for addyosmani : 15000\n",
      "Getting Followers ids of AdrianEdmondson\n"
     ]
    },
    {
     "name": "stderr",
     "output_type": "stream",
     "text": [
      "\r",
      " 69%|██████▊   | 884/1288 [44:18:48<17:58:44, 160.21s/it]"
     ]
    },
    {
     "name": "stdout",
     "output_type": "stream",
     "text": [
      "Fetched number of followers ids for AdrianEdmondson : 15000\n",
      "Getting Followers ids of albericie\n"
     ]
    },
    {
     "name": "stderr",
     "output_type": "stream",
     "text": [
      "\r",
      " 69%|██████▊   | 885/1288 [44:18:50<12:36:14, 112.59s/it]"
     ]
    },
    {
     "name": "stdout",
     "output_type": "stream",
     "text": [
      "Fetched number of followers ids for albericie : 15000\n",
      "Getting Followers ids of alevit\n"
     ]
    },
    {
     "name": "stderr",
     "output_type": "stream",
     "text": [
      "\r",
      " 69%|██████▉   | 886/1288 [44:18:51<8:51:05, 79.27s/it]  "
     ]
    },
    {
     "name": "stdout",
     "output_type": "stream",
     "text": [
      "Fetched number of followers ids for alevit : 15000\n",
      "Getting Followers ids of AlexAndBooks_\n"
     ]
    },
    {
     "name": "stderr",
     "output_type": "stream",
     "text": [
      "Rate limit reached. Sleeping for: 893\n",
      " 69%|██████▉   | 887/1288 [44:33:51<36:14:56, 325.43s/it]"
     ]
    },
    {
     "name": "stdout",
     "output_type": "stream",
     "text": [
      "Fetched number of followers ids for AlexAndBooks_ : 15000\n",
      "Getting Followers ids of alex_moukala\n"
     ]
    },
    {
     "name": "stderr",
     "output_type": "stream",
     "text": [
      "\r",
      " 69%|██████▉   | 888/1288 [44:34:35<26:45:48, 240.87s/it]"
     ]
    },
    {
     "name": "stdout",
     "output_type": "stream",
     "text": [
      "Fetched number of followers ids for alex_moukala : 15000\n",
      "Getting Followers ids of AliAbdaal\n"
     ]
    },
    {
     "name": "stderr",
     "output_type": "stream",
     "text": [
      "\r",
      " 69%|██████▉   | 889/1288 [44:34:39<18:50:21, 169.98s/it]"
     ]
    },
    {
     "name": "stdout",
     "output_type": "stream",
     "text": [
      "Fetched number of followers ids for AliAbdaal : 15000\n",
      "Getting Followers ids of AllCharisma\n"
     ]
    },
    {
     "name": "stderr",
     "output_type": "stream",
     "text": [
      "\r",
      " 69%|██████▉   | 890/1288 [44:34:41<13:12:53, 119.53s/it]"
     ]
    },
    {
     "name": "stdout",
     "output_type": "stream",
     "text": [
      "Fetched number of followers ids for AllCharisma : 15000\n",
      "Getting Followers ids of AlysonStoner\n"
     ]
    },
    {
     "name": "stderr",
     "output_type": "stream",
     "text": [
      "\r",
      " 69%|██████▉   | 891/1288 [44:34:43<9:16:59, 84.18s/it]  "
     ]
    },
    {
     "name": "stdout",
     "output_type": "stream",
     "text": [
      "Fetched number of followers ids for AlysonStoner : 15000\n",
      "Getting Followers ids of amandamull\n"
     ]
    },
    {
     "name": "stderr",
     "output_type": "stream",
     "text": [
      "Rate limit reached. Sleeping for: 848\n",
      " 69%|██████▉   | 892/1288 [44:48:57<34:41:26, 315.37s/it]"
     ]
    },
    {
     "name": "stdout",
     "output_type": "stream",
     "text": [
      "Fetched number of followers ids for amandamull : 15000\n",
      "Getting Followers ids of ambermac\n"
     ]
    },
    {
     "name": "stderr",
     "output_type": "stream",
     "text": [
      "\r",
      " 69%|██████▉   | 893/1288 [44:48:59<24:16:17, 221.21s/it]"
     ]
    },
    {
     "name": "stdout",
     "output_type": "stream",
     "text": [
      "Fetched number of followers ids for ambermac : 15000\n",
      "Getting Followers ids of AndyBoxall\n"
     ]
    },
    {
     "name": "stderr",
     "output_type": "stream",
     "text": [
      "\r",
      " 69%|██████▉   | 894/1288 [44:49:00<16:59:43, 155.29s/it]"
     ]
    },
    {
     "name": "stdout",
     "output_type": "stream",
     "text": [
      "Fetched number of followers ids for AndyBoxall : 15000\n",
      "Getting Followers ids of andyroddick\n"
     ]
    },
    {
     "name": "stderr",
     "output_type": "stream",
     "text": [
      "\r",
      " 69%|██████▉   | 895/1288 [44:49:02<11:55:01, 109.16s/it]"
     ]
    },
    {
     "name": "stdout",
     "output_type": "stream",
     "text": [
      "Fetched number of followers ids for andyroddick : 15000\n",
      "Getting Followers ids of Andy_Staples\n"
     ]
    },
    {
     "name": "stderr",
     "output_type": "stream",
     "text": [
      "\r",
      " 70%|██████▉   | 896/1288 [44:49:03<8:22:12, 76.87s/it]  "
     ]
    },
    {
     "name": "stdout",
     "output_type": "stream",
     "text": [
      "Fetched number of followers ids for Andy_Staples : 15000\n",
      "Getting Followers ids of Anjyoun\n"
     ]
    },
    {
     "name": "stderr",
     "output_type": "stream",
     "text": [
      "Rate limit reached. Sleeping for: 893\n",
      " 70%|██████▉   | 897/1288 [45:04:03<35:09:44, 323.75s/it]"
     ]
    },
    {
     "name": "stdout",
     "output_type": "stream",
     "text": [
      "Fetched number of followers ids for Anjyoun : 15000\n",
      "Getting Followers ids of anm\n"
     ]
    },
    {
     "name": "stderr",
     "output_type": "stream",
     "text": [
      "\r",
      " 70%|██████▉   | 898/1288 [45:04:05<24:35:57, 227.07s/it]"
     ]
    },
    {
     "name": "stdout",
     "output_type": "stream",
     "text": [
      "Fetched number of followers ids for anm : 15000\n",
      "Getting Followers ids of anne_hegerty\n"
     ]
    },
    {
     "name": "stderr",
     "output_type": "stream",
     "text": [
      "\r",
      " 70%|██████▉   | 899/1288 [45:04:08<17:17:16, 159.99s/it]"
     ]
    },
    {
     "name": "stdout",
     "output_type": "stream",
     "text": [
      "Fetched number of followers ids for anne_hegerty : 15000\n",
      "Getting Followers ids of antoniogm\n"
     ]
    },
    {
     "name": "stderr",
     "output_type": "stream",
     "text": [
      "\r",
      " 70%|██████▉   | 900/1288 [45:04:10<12:07:00, 112.42s/it]"
     ]
    },
    {
     "name": "stdout",
     "output_type": "stream",
     "text": [
      "Fetched number of followers ids for antoniogm : 15000\n",
      "Getting Followers ids of AntVenom\n"
     ]
    },
    {
     "name": "stderr",
     "output_type": "stream",
     "text": [
      "\r",
      " 70%|██████▉   | 901/1288 [45:04:11<8:30:27, 79.14s/it]  "
     ]
    },
    {
     "name": "stdout",
     "output_type": "stream",
     "text": [
      "Fetched number of followers ids for AntVenom : 15000\n",
      "Getting Followers ids of aoscott\n"
     ]
    },
    {
     "name": "stderr",
     "output_type": "stream",
     "text": [
      "Rate limit reached. Sleeping for: 891\n",
      " 70%|███████   | 902/1288 [45:19:09<34:49:15, 324.75s/it]"
     ]
    },
    {
     "name": "stdout",
     "output_type": "stream",
     "text": [
      "Fetched number of followers ids for aoscott : 15000\n",
      "Getting Followers ids of ariehkovler\n"
     ]
    },
    {
     "name": "stderr",
     "output_type": "stream",
     "text": [
      "\r",
      " 70%|███████   | 903/1288 [45:19:12<24:25:08, 228.33s/it]"
     ]
    },
    {
     "name": "stdout",
     "output_type": "stream",
     "text": [
      "Fetched number of followers ids for ariehkovler : 15000\n",
      "Getting Followers ids of ArloStuff\n"
     ]
    },
    {
     "name": "stderr",
     "output_type": "stream",
     "text": [
      "\r",
      " 70%|███████   | 904/1288 [45:19:14<17:05:57, 160.30s/it]"
     ]
    },
    {
     "name": "stdout",
     "output_type": "stream",
     "text": [
      "Fetched number of followers ids for ArloStuff : 15000\n",
      "Getting Followers ids of asemota\n"
     ]
    },
    {
     "name": "stderr",
     "output_type": "stream",
     "text": [
      "\r",
      " 70%|███████   | 905/1288 [45:19:15<11:59:11, 112.67s/it]"
     ]
    },
    {
     "name": "stdout",
     "output_type": "stream",
     "text": [
      "Fetched number of followers ids for asemota : 15000\n",
      "Getting Followers ids of ashleyburns\n"
     ]
    },
    {
     "name": "stderr",
     "output_type": "stream",
     "text": [
      "\r",
      " 70%|███████   | 906/1288 [45:19:17<8:25:00, 79.32s/it]  "
     ]
    },
    {
     "name": "stdout",
     "output_type": "stream",
     "text": [
      "Fetched number of followers ids for ashleyburns : 15000\n",
      "Getting Followers ids of askanyone\n"
     ]
    },
    {
     "name": "stderr",
     "output_type": "stream",
     "text": [
      "Rate limit reached. Sleeping for: 889\n",
      " 70%|███████   | 907/1288 [45:34:14<34:22:30, 324.80s/it]"
     ]
    },
    {
     "name": "stdout",
     "output_type": "stream",
     "text": [
      "Fetched number of followers ids for askanyone : 15000\n",
      "Getting Followers ids of ASpittel\n"
     ]
    },
    {
     "name": "stderr",
     "output_type": "stream",
     "text": [
      "\r",
      " 70%|███████   | 908/1288 [45:34:16<24:03:21, 227.90s/it]"
     ]
    },
    {
     "name": "stdout",
     "output_type": "stream",
     "text": [
      "Fetched number of followers ids for ASpittel : 15000\n",
      "Getting Followers ids of AtifRMian\n"
     ]
    },
    {
     "name": "stderr",
     "output_type": "stream",
     "text": [
      "\r",
      " 71%|███████   | 909/1288 [45:34:18<16:50:33, 159.98s/it]"
     ]
    },
    {
     "name": "stdout",
     "output_type": "stream",
     "text": [
      "Fetched number of followers ids for AtifRMian : 15000\n",
      "Getting Followers ids of Austen\n"
     ]
    },
    {
     "name": "stderr",
     "output_type": "stream",
     "text": [
      "\r",
      " 71%|███████   | 910/1288 [45:34:19<11:48:21, 112.44s/it]"
     ]
    },
    {
     "name": "stdout",
     "output_type": "stream",
     "text": [
      "Fetched number of followers ids for Austen : 15000\n",
      "Getting Followers ids of austinchanning\n"
     ]
    },
    {
     "name": "stderr",
     "output_type": "stream",
     "text": [
      "\r",
      " 71%|███████   | 911/1288 [45:34:21<8:17:19, 79.15s/it]  "
     ]
    },
    {
     "name": "stdout",
     "output_type": "stream",
     "text": [
      "Fetched number of followers ids for austinchanning : 15000\n",
      "Getting Followers ids of backlon\n"
     ]
    },
    {
     "name": "stderr",
     "output_type": "stream",
     "text": [
      "Rate limit reached. Sleeping for: 892\n",
      " 71%|███████   | 912/1288 [45:49:20<33:57:47, 325.18s/it]"
     ]
    },
    {
     "name": "stdout",
     "output_type": "stream",
     "text": [
      "Fetched number of followers ids for backlon : 15000\n",
      "Getting Followers ids of barneyronay\n"
     ]
    },
    {
     "name": "stderr",
     "output_type": "stream",
     "text": [
      "\r",
      " 71%|███████   | 913/1288 [45:49:22<23:45:28, 228.08s/it]"
     ]
    },
    {
     "name": "stdout",
     "output_type": "stream",
     "text": [
      "Fetched number of followers ids for barneyronay : 15000\n",
      "Getting Followers ids of BarryJenkins\n"
     ]
    },
    {
     "name": "stderr",
     "output_type": "stream",
     "text": [
      "\r",
      " 71%|███████   | 914/1288 [45:49:27<16:44:53, 161.21s/it]"
     ]
    },
    {
     "name": "stdout",
     "output_type": "stream",
     "text": [
      "Fetched number of followers ids for BarryJenkins : 15000\n",
      "Getting Followers ids of BBCJonSopel\n",
      "Going to sleep:  [{'code': 34, 'message': 'Sorry, that page does not exist.'}]\n"
     ]
    },
    {
     "name": "stderr",
     "output_type": "stream",
     "text": [
      "\r",
      " 71%|███████   | 915/1288 [45:50:27<13:33:58, 130.93s/it]"
     ]
    },
    {
     "name": "stdout",
     "output_type": "stream",
     "text": [
      "Fetched number of followers ids for BBCJonSopel : 0\n",
      "Getting Followers ids of bbrode\n"
     ]
    },
    {
     "name": "stderr",
     "output_type": "stream",
     "text": [
      "\r",
      " 71%|███████   | 916/1288 [45:50:32<9:38:05, 93.24s/it]  "
     ]
    },
    {
     "name": "stdout",
     "output_type": "stream",
     "text": [
      "Fetched number of followers ids for bbrode : 15000\n",
      "Getting Followers ids of BeauTFC\n"
     ]
    },
    {
     "name": "stderr",
     "output_type": "stream",
     "text": [
      "\r",
      " 71%|███████   | 917/1288 [45:50:34<6:46:25, 65.73s/it]"
     ]
    },
    {
     "name": "stdout",
     "output_type": "stream",
     "text": [
      "Fetched number of followers ids for BeauTFC : 15000\n",
      "Getting Followers ids of BeckyQuick\n"
     ]
    },
    {
     "name": "stderr",
     "output_type": "stream",
     "text": [
      "Rate limit reached. Sleeping for: 824\n",
      " 71%|███████▏  | 918/1288 [46:04:27<30:25:53, 296.09s/it]"
     ]
    },
    {
     "name": "stdout",
     "output_type": "stream",
     "text": [
      "Fetched number of followers ids for BeckyQuick : 15000\n",
      "Getting Followers ids of BeerBicepsGuy\n"
     ]
    },
    {
     "name": "stderr",
     "output_type": "stream",
     "text": [
      "\r",
      " 71%|███████▏  | 919/1288 [46:04:36<21:31:21, 209.98s/it]"
     ]
    },
    {
     "name": "stdout",
     "output_type": "stream",
     "text": [
      "Fetched number of followers ids for BeerBicepsGuy : 15000\n",
      "Getting Followers ids of beewestwood\n"
     ]
    },
    {
     "name": "stderr",
     "output_type": "stream",
     "text": [
      "\r",
      " 71%|███████▏  | 920/1288 [46:04:40<15:07:43, 148.00s/it]"
     ]
    },
    {
     "name": "stdout",
     "output_type": "stream",
     "text": [
      "Fetched number of followers ids for beewestwood : 15000\n",
      "Getting Followers ids of behindyourback\n"
     ]
    },
    {
     "name": "stderr",
     "output_type": "stream",
     "text": [
      "\r",
      " 72%|███████▏  | 921/1288 [46:04:43<10:40:01, 104.64s/it]"
     ]
    },
    {
     "name": "stdout",
     "output_type": "stream",
     "text": [
      "Fetched number of followers ids for behindyourback : 15000\n",
      "Getting Followers ids of BenMank77\n"
     ]
    },
    {
     "name": "stderr",
     "output_type": "stream",
     "text": [
      "\r",
      " 72%|███████▏  | 922/1288 [46:04:48<7:36:05, 74.77s/it]  "
     ]
    },
    {
     "name": "stdout",
     "output_type": "stream",
     "text": [
      "Fetched number of followers ids for BenMank77 : 15000\n",
      "Getting Followers ids of bfod\n"
     ]
    },
    {
     "name": "stderr",
     "output_type": "stream",
     "text": [
      "Rate limit reached. Sleeping for: 877\n",
      " 72%|███████▏  | 923/1288 [46:19:33<32:12:48, 317.72s/it]"
     ]
    },
    {
     "name": "stdout",
     "output_type": "stream",
     "text": [
      "Fetched number of followers ids for bfod : 15000\n",
      "Getting Followers ids of BjornLomborg\n"
     ]
    },
    {
     "name": "stderr",
     "output_type": "stream",
     "text": [
      "\r",
      " 72%|███████▏  | 924/1288 [46:19:35<22:31:58, 222.85s/it]"
     ]
    },
    {
     "name": "stdout",
     "output_type": "stream",
     "text": [
      "Fetched number of followers ids for BjornLomborg : 15000\n",
      "Getting Followers ids of blakeaburge\n"
     ]
    },
    {
     "name": "stderr",
     "output_type": "stream",
     "text": [
      "\r",
      " 72%|███████▏  | 925/1288 [46:19:36<15:46:34, 156.46s/it]"
     ]
    },
    {
     "name": "stdout",
     "output_type": "stream",
     "text": [
      "Fetched number of followers ids for blakeaburge : 15000\n",
      "Getting Followers ids of BMcCarthy32\n"
     ]
    },
    {
     "name": "stderr",
     "output_type": "stream",
     "text": [
      "\r",
      " 72%|███████▏  | 926/1288 [46:19:38<11:03:28, 109.97s/it]"
     ]
    },
    {
     "name": "stdout",
     "output_type": "stream",
     "text": [
      "Fetched number of followers ids for BMcCarthy32 : 15000\n",
      "Getting Followers ids of BowenBBC\n"
     ]
    },
    {
     "name": "stderr",
     "output_type": "stream",
     "text": [
      "\r",
      " 72%|███████▏  | 927/1288 [46:19:42<7:50:47, 78.25s/it]  "
     ]
    },
    {
     "name": "stdout",
     "output_type": "stream",
     "text": [
      "Fetched number of followers ids for BowenBBC : 15000\n",
      "Getting Followers ids of brad_frost\n"
     ]
    },
    {
     "name": "stderr",
     "output_type": "stream",
     "text": [
      "Rate limit reached. Sleeping for: 890\n",
      " 72%|███████▏  | 928/1288 [46:34:38<32:22:43, 323.79s/it]"
     ]
    },
    {
     "name": "stdout",
     "output_type": "stream",
     "text": [
      "Fetched number of followers ids for brad_frost : 15000\n",
      "Getting Followers ids of brendanhunting\n"
     ]
    },
    {
     "name": "stderr",
     "output_type": "stream",
     "text": [
      "\r",
      " 72%|███████▏  | 929/1288 [46:34:40<22:38:47, 227.09s/it]"
     ]
    },
    {
     "name": "stdout",
     "output_type": "stream",
     "text": [
      "Fetched number of followers ids for brendanhunting : 15000\n",
      "Getting Followers ids of BrentButt\n"
     ]
    },
    {
     "name": "stderr",
     "output_type": "stream",
     "text": [
      "\r",
      " 72%|███████▏  | 930/1288 [46:34:41<15:51:14, 159.43s/it]"
     ]
    },
    {
     "name": "stdout",
     "output_type": "stream",
     "text": [
      "Fetched number of followers ids for BrentButt : 15000\n",
      "Getting Followers ids of BrianRoemmele\n"
     ]
    },
    {
     "name": "stderr",
     "output_type": "stream",
     "text": [
      "\r",
      " 72%|███████▏  | 931/1288 [46:34:43<11:06:51, 112.08s/it]"
     ]
    },
    {
     "name": "stdout",
     "output_type": "stream",
     "text": [
      "Fetched number of followers ids for BrianRoemmele : 15000\n",
      "Getting Followers ids of BrittMcHenry\n"
     ]
    },
    {
     "name": "stderr",
     "output_type": "stream",
     "text": [
      "\r",
      " 72%|███████▏  | 932/1288 [46:34:45<7:48:11, 78.91s/it]  "
     ]
    },
    {
     "name": "stdout",
     "output_type": "stream",
     "text": [
      "Fetched number of followers ids for BrittMcHenry : 15000\n",
      "Getting Followers ids of BrizzyVoices\n"
     ]
    },
    {
     "name": "stderr",
     "output_type": "stream",
     "text": [
      "Rate limit reached. Sleeping for: 893\n",
      " 72%|███████▏  | 933/1288 [46:49:44<32:03:57, 325.18s/it]"
     ]
    },
    {
     "name": "stdout",
     "output_type": "stream",
     "text": [
      "Fetched number of followers ids for BrizzyVoices : 15000\n",
      "Getting Followers ids of BrooklynDecker\n"
     ]
    },
    {
     "name": "stderr",
     "output_type": "stream",
     "text": [
      "\r",
      " 73%|███████▎  | 934/1288 [46:49:46<22:25:34, 228.06s/it]"
     ]
    },
    {
     "name": "stdout",
     "output_type": "stream",
     "text": [
      "Fetched number of followers ids for BrooklynDecker : 15000\n",
      "Getting Followers ids of bs\n"
     ]
    },
    {
     "name": "stderr",
     "output_type": "stream",
     "text": [
      "\r",
      " 73%|███████▎  | 935/1288 [46:49:47<15:41:58, 160.11s/it]"
     ]
    },
    {
     "name": "stdout",
     "output_type": "stream",
     "text": [
      "Fetched number of followers ids for bs : 15000\n",
      "Getting Followers ids of bubs\n"
     ]
    },
    {
     "name": "stderr",
     "output_type": "stream",
     "text": [
      "\r",
      " 73%|███████▎  | 936/1288 [46:49:49<11:00:18, 112.55s/it]"
     ]
    },
    {
     "name": "stdout",
     "output_type": "stream",
     "text": [
      "Fetched number of followers ids for bubs : 15000\n",
      "Getting Followers ids of businessbarista\n"
     ]
    },
    {
     "name": "stderr",
     "output_type": "stream",
     "text": [
      "\r",
      " 73%|███████▎  | 937/1288 [46:49:51<7:43:32, 79.24s/it]  "
     ]
    },
    {
     "name": "stdout",
     "output_type": "stream",
     "text": [
      "Fetched number of followers ids for businessbarista : 15000\n",
      "Getting Followers ids of C418\n"
     ]
    },
    {
     "name": "stderr",
     "output_type": "stream",
     "text": [
      "Rate limit reached. Sleeping for: 893\n",
      " 73%|███████▎  | 938/1288 [47:04:50<31:38:05, 325.39s/it]"
     ]
    },
    {
     "name": "stdout",
     "output_type": "stream",
     "text": [
      "Fetched number of followers ids for C418 : 15000\n",
      "Getting Followers ids of cadlymack\n"
     ]
    },
    {
     "name": "stderr",
     "output_type": "stream",
     "text": [
      "\r",
      " 73%|███████▎  | 939/1288 [47:04:54<22:11:01, 228.83s/it]"
     ]
    },
    {
     "name": "stdout",
     "output_type": "stream",
     "text": [
      "Fetched number of followers ids for cadlymack : 15000\n",
      "Getting Followers ids of caitkitt\n"
     ]
    },
    {
     "name": "stderr",
     "output_type": "stream",
     "text": [
      "\r",
      " 73%|███████▎  | 940/1288 [47:04:55<15:31:37, 160.63s/it]"
     ]
    },
    {
     "name": "stdout",
     "output_type": "stream",
     "text": [
      "Fetched number of followers ids for caitkitt : 15000\n",
      "Getting Followers ids of calmdraws\n"
     ]
    },
    {
     "name": "stderr",
     "output_type": "stream",
     "text": [
      "\r",
      " 73%|███████▎  | 941/1288 [47:04:57<10:52:48, 112.88s/it]"
     ]
    },
    {
     "name": "stdout",
     "output_type": "stream",
     "text": [
      "Fetched number of followers ids for calmdraws : 15000\n",
      "Getting Followers ids of Captain2Phones\n"
     ]
    },
    {
     "name": "stderr",
     "output_type": "stream",
     "text": [
      "\r",
      " 73%|███████▎  | 942/1288 [47:05:00<7:40:57, 79.94s/it]  "
     ]
    },
    {
     "name": "stdout",
     "output_type": "stream",
     "text": [
      "Fetched number of followers ids for Captain2Phones : 15000\n",
      "Getting Followers ids of CaringErin\n"
     ]
    },
    {
     "name": "stderr",
     "output_type": "stream",
     "text": [
      "Rate limit reached. Sleeping for: 887\n",
      " 73%|███████▎  | 943/1288 [47:19:57<31:09:00, 325.04s/it]"
     ]
    },
    {
     "name": "stdout",
     "output_type": "stream",
     "text": [
      "Fetched number of followers ids for CaringErin : 15000\n",
      "Getting Followers ids of cbcradio\n"
     ]
    },
    {
     "name": "stderr",
     "output_type": "stream",
     "text": [
      "\r",
      " 73%|███████▎  | 944/1288 [47:19:58<21:47:04, 227.98s/it]"
     ]
    },
    {
     "name": "stdout",
     "output_type": "stream",
     "text": [
      "Fetched number of followers ids for cbcradio : 15000\n",
      "Getting Followers ids of chadfowler\n"
     ]
    },
    {
     "name": "stderr",
     "output_type": "stream",
     "text": [
      "\r",
      " 73%|███████▎  | 945/1288 [47:20:00<15:14:49, 160.03s/it]"
     ]
    },
    {
     "name": "stdout",
     "output_type": "stream",
     "text": [
      "Fetched number of followers ids for chadfowler : 15000\n",
      "Getting Followers ids of ChambersFineArt\n"
     ]
    },
    {
     "name": "stderr",
     "output_type": "stream",
     "text": [
      "\r",
      " 73%|███████▎  | 946/1288 [47:20:05<10:47:04, 113.52s/it]"
     ]
    },
    {
     "name": "stdout",
     "output_type": "stream",
     "text": [
      "Fetched number of followers ids for ChambersFineArt : 15000\n",
      "Getting Followers ids of ChloeS\n"
     ]
    },
    {
     "name": "stderr",
     "output_type": "stream",
     "text": [
      "\r",
      " 74%|███████▎  | 947/1288 [47:20:12<7:43:17, 81.52s/it]  "
     ]
    },
    {
     "name": "stdout",
     "output_type": "stream",
     "text": [
      "Fetched number of followers ids for ChloeS : 15000\n",
      "Getting Followers ids of chrishlad\n"
     ]
    },
    {
     "name": "stderr",
     "output_type": "stream",
     "text": [
      "Rate limit reached. Sleeping for: 884\n",
      " 74%|███████▎  | 948/1288 [47:35:02<30:37:43, 324.30s/it]"
     ]
    },
    {
     "name": "stdout",
     "output_type": "stream",
     "text": [
      "Fetched number of followers ids for chrishlad : 15000\n",
      "Getting Followers ids of chrisrankin\n"
     ]
    },
    {
     "name": "stderr",
     "output_type": "stream",
     "text": [
      "\r",
      " 74%|███████▎  | 949/1288 [47:35:04<21:25:52, 227.59s/it]"
     ]
    },
    {
     "name": "stdout",
     "output_type": "stream",
     "text": [
      "Fetched number of followers ids for chrisrankin : 15000\n",
      "Getting Followers ids of Chris_Boardman\n"
     ]
    },
    {
     "name": "stderr",
     "output_type": "stream",
     "text": [
      "\r",
      " 74%|███████▍  | 950/1288 [47:35:06<15:00:00, 159.77s/it]"
     ]
    },
    {
     "name": "stdout",
     "output_type": "stream",
     "text": [
      "Fetched number of followers ids for Chris_Boardman : 15000\n",
      "Getting Followers ids of CiaranBlu\n"
     ]
    },
    {
     "name": "stderr",
     "output_type": "stream",
     "text": [
      "\r",
      " 74%|███████▍  | 951/1288 [47:35:07<10:30:43, 112.30s/it]"
     ]
    },
    {
     "name": "stdout",
     "output_type": "stream",
     "text": [
      "Fetched number of followers ids for CiaranBlu : 15000\n",
      "Getting Followers ids of clarebalding\n"
     ]
    },
    {
     "name": "stderr",
     "output_type": "stream",
     "text": [
      "\r",
      " 74%|███████▍  | 952/1288 [47:35:11<7:25:38, 79.58s/it]  "
     ]
    },
    {
     "name": "stdout",
     "output_type": "stream",
     "text": [
      "Fetched number of followers ids for clarebalding : 15000\n",
      "Getting Followers ids of ClimateHuman\n"
     ]
    },
    {
     "name": "stderr",
     "output_type": "stream",
     "text": [
      "Rate limit reached. Sleeping for: 891\n",
      " 74%|███████▍  | 953/1288 [47:50:08<30:14:38, 325.01s/it]"
     ]
    },
    {
     "name": "stdout",
     "output_type": "stream",
     "text": [
      "Fetched number of followers ids for ClimateHuman : 15000\n",
      "Getting Followers ids of ClipperChip\n"
     ]
    },
    {
     "name": "stderr",
     "output_type": "stream",
     "text": [
      "\r",
      " 74%|███████▍  | 954/1288 [47:50:10<21:09:08, 227.99s/it]"
     ]
    },
    {
     "name": "stdout",
     "output_type": "stream",
     "text": [
      "Fetched number of followers ids for ClipperChip : 15000\n",
      "Getting Followers ids of conor_pope\n"
     ]
    },
    {
     "name": "stderr",
     "output_type": "stream",
     "text": [
      "\r",
      " 74%|███████▍  | 955/1288 [47:50:11<14:48:13, 160.04s/it]"
     ]
    },
    {
     "name": "stdout",
     "output_type": "stream",
     "text": [
      "Fetched number of followers ids for conor_pope : 15000\n",
      "Getting Followers ids of coolcatteacher\n"
     ]
    },
    {
     "name": "stderr",
     "output_type": "stream",
     "text": [
      "\r",
      " 74%|███████▍  | 956/1288 [47:50:15<10:25:42, 113.08s/it]"
     ]
    },
    {
     "name": "stdout",
     "output_type": "stream",
     "text": [
      "Fetched number of followers ids for coolcatteacher : 15000\n",
      "Getting Followers ids of courosa\n"
     ]
    },
    {
     "name": "stderr",
     "output_type": "stream",
     "text": [
      "\r",
      " 74%|███████▍  | 957/1288 [47:50:18<7:21:45, 80.08s/it]  "
     ]
    },
    {
     "name": "stdout",
     "output_type": "stream",
     "text": [
      "Fetched number of followers ids for courosa : 15000\n",
      "Getting Followers ids of curtisisbooger\n"
     ]
    },
    {
     "name": "stderr",
     "output_type": "stream",
     "text": [
      "Rate limit reached. Sleeping for: 890\n",
      " 74%|███████▍  | 958/1288 [48:05:15<29:47:49, 325.06s/it]"
     ]
    },
    {
     "name": "stdout",
     "output_type": "stream",
     "text": [
      "Fetched number of followers ids for curtisisbooger : 15000\n",
      "Getting Followers ids of C_P_Gurnani\n"
     ]
    },
    {
     "name": "stderr",
     "output_type": "stream",
     "text": [
      "\r",
      " 74%|███████▍  | 959/1288 [48:05:16<20:50:12, 228.00s/it]"
     ]
    },
    {
     "name": "stdout",
     "output_type": "stream",
     "text": [
      "Fetched number of followers ids for C_P_Gurnani : 15000\n",
      "Getting Followers ids of DallonWeekes\n"
     ]
    },
    {
     "name": "stderr",
     "output_type": "stream",
     "text": [
      "\r",
      " 75%|███████▍  | 960/1288 [48:05:19<14:36:20, 160.31s/it]"
     ]
    },
    {
     "name": "stdout",
     "output_type": "stream",
     "text": [
      "Fetched number of followers ids for DallonWeekes : 15000\n",
      "Getting Followers ids of DanielMiessler\n"
     ]
    },
    {
     "name": "stderr",
     "output_type": "stream",
     "text": [
      "\r",
      " 75%|███████▍  | 961/1288 [48:05:20<10:14:04, 112.68s/it]"
     ]
    },
    {
     "name": "stdout",
     "output_type": "stream",
     "text": [
      "Fetched number of followers ids for DanielMiessler : 15000\n",
      "Getting Followers ids of dan_abramov\n"
     ]
    },
    {
     "name": "stderr",
     "output_type": "stream",
     "text": [
      "\r",
      " 75%|███████▍  | 962/1288 [48:05:22<7:11:00, 79.33s/it]  "
     ]
    },
    {
     "name": "stdout",
     "output_type": "stream",
     "text": [
      "Fetched number of followers ids for dan_abramov : 15000\n",
      "Getting Followers ids of DavidBHayter\n"
     ]
    },
    {
     "name": "stderr",
     "output_type": "stream",
     "text": [
      "Rate limit reached. Sleeping for: 890\n",
      " 75%|███████▍  | 963/1288 [48:20:20<29:21:30, 325.20s/it]"
     ]
    },
    {
     "name": "stdout",
     "output_type": "stream",
     "text": [
      "Fetched number of followers ids for DavidBHayter : 15000\n",
      "Getting Followers ids of DavidCayJ\n"
     ]
    },
    {
     "name": "stderr",
     "output_type": "stream",
     "text": [
      "\r",
      " 75%|███████▍  | 964/1288 [48:20:22<20:31:44, 228.10s/it]"
     ]
    },
    {
     "name": "stdout",
     "output_type": "stream",
     "text": [
      "Fetched number of followers ids for DavidCayJ : 15000\n",
      "Getting Followers ids of DavidHarewood\n"
     ]
    },
    {
     "name": "stderr",
     "output_type": "stream",
     "text": [
      "\r",
      " 75%|███████▍  | 965/1288 [48:20:24<14:22:06, 160.14s/it]"
     ]
    },
    {
     "name": "stdout",
     "output_type": "stream",
     "text": [
      "Fetched number of followers ids for DavidHarewood : 15000\n",
      "Getting Followers ids of DavidVonderhaar\n"
     ]
    },
    {
     "name": "stderr",
     "output_type": "stream",
     "text": [
      "\r",
      " 75%|███████▌  | 966/1288 [48:20:25<10:04:08, 112.57s/it]"
     ]
    },
    {
     "name": "stdout",
     "output_type": "stream",
     "text": [
      "Fetched number of followers ids for DavidVonderhaar : 15000\n",
      "Getting Followers ids of david_perell\n"
     ]
    },
    {
     "name": "stderr",
     "output_type": "stream",
     "text": [
      "\r",
      " 75%|███████▌  | 967/1288 [48:20:27<7:03:57, 79.24s/it]  "
     ]
    },
    {
     "name": "stdout",
     "output_type": "stream",
     "text": [
      "Fetched number of followers ids for david_perell : 15000\n",
      "Getting Followers ids of DFisman\n"
     ]
    },
    {
     "name": "stderr",
     "output_type": "stream",
     "text": [
      "Rate limit reached. Sleeping for: 893\n",
      " 75%|███████▌  | 968/1288 [48:35:26<28:55:33, 325.42s/it]"
     ]
    },
    {
     "name": "stdout",
     "output_type": "stream",
     "text": [
      "Fetched number of followers ids for DFisman : 15000\n",
      "Getting Followers ids of Dinnerbone\n"
     ]
    },
    {
     "name": "stderr",
     "output_type": "stream",
     "text": [
      "\r",
      " 75%|███████▌  | 969/1288 [48:35:32<20:19:22, 229.35s/it]"
     ]
    },
    {
     "name": "stdout",
     "output_type": "stream",
     "text": [
      "Fetched number of followers ids for Dinnerbone : 15000\n",
      "Getting Followers ids of DJDague\n"
     ]
    },
    {
     "name": "stderr",
     "output_type": "stream",
     "text": [
      "\r",
      " 75%|███████▌  | 970/1288 [48:35:43<14:28:26, 163.86s/it]"
     ]
    },
    {
     "name": "stdout",
     "output_type": "stream",
     "text": [
      "Fetched number of followers ids for DJDague : 15000\n",
      "Getting Followers ids of DMC_Ryan\n"
     ]
    },
    {
     "name": "stderr",
     "output_type": "stream",
     "text": [
      "\r",
      " 75%|███████▌  | 971/1288 [48:35:46<10:11:00, 115.65s/it]"
     ]
    },
    {
     "name": "stdout",
     "output_type": "stream",
     "text": [
      "Fetched number of followers ids for DMC_Ryan : 15000\n",
      "Getting Followers ids of dmscott\n"
     ]
    },
    {
     "name": "stderr",
     "output_type": "stream",
     "text": [
      "\r",
      " 75%|███████▌  | 972/1288 [48:35:47<7:08:47, 81.42s/it]  "
     ]
    },
    {
     "name": "stdout",
     "output_type": "stream",
     "text": [
      "Fetched number of followers ids for dmscott : 15000\n",
      "Getting Followers ids of Dominic2306\n"
     ]
    },
    {
     "name": "stderr",
     "output_type": "stream",
     "text": [
      "Rate limit reached. Sleeping for: 878\n",
      " 76%|███████▌  | 973/1288 [48:50:32<28:12:49, 322.44s/it]"
     ]
    },
    {
     "name": "stdout",
     "output_type": "stream",
     "text": [
      "Fetched number of followers ids for Dominic2306 : 15000\n",
      "Getting Followers ids of DoubleEph\n"
     ]
    },
    {
     "name": "stderr",
     "output_type": "stream",
     "text": [
      "\r",
      " 76%|███████▌  | 974/1288 [48:50:34<19:43:34, 226.16s/it]"
     ]
    },
    {
     "name": "stdout",
     "output_type": "stream",
     "text": [
      "Fetched number of followers ids for DoubleEph : 15000\n",
      "Getting Followers ids of Drift0r\n"
     ]
    },
    {
     "name": "stderr",
     "output_type": "stream",
     "text": [
      "\r",
      " 76%|███████▌  | 975/1288 [48:50:37<13:51:23, 159.37s/it]"
     ]
    },
    {
     "name": "stdout",
     "output_type": "stream",
     "text": [
      "Fetched number of followers ids for Drift0r : 15000\n",
      "Getting Followers ids of DrMichaelMosley\n"
     ]
    },
    {
     "name": "stderr",
     "output_type": "stream",
     "text": [
      "\r",
      " 76%|███████▌  | 976/1288 [48:50:39<9:42:27, 112.01s/it] "
     ]
    },
    {
     "name": "stdout",
     "output_type": "stream",
     "text": [
      "Fetched number of followers ids for DrMichaelMosley : 15000\n",
      "Getting Followers ids of DrNadiaChaudhri\n"
     ]
    },
    {
     "name": "stderr",
     "output_type": "stream",
     "text": [
      "\r",
      " 76%|███████▌  | 977/1288 [48:50:40<6:48:50, 78.88s/it] "
     ]
    },
    {
     "name": "stdout",
     "output_type": "stream",
     "text": [
      "Fetched number of followers ids for DrNadiaChaudhri : 15000\n",
      "Getting Followers ids of DrSenait\n"
     ]
    },
    {
     "name": "stderr",
     "output_type": "stream",
     "text": [
      "Rate limit reached. Sleeping for: 889\n",
      " 76%|███████▌  | 978/1288 [49:05:38<27:57:01, 324.59s/it]"
     ]
    },
    {
     "name": "stdout",
     "output_type": "stream",
     "text": [
      "Fetched number of followers ids for DrSenait : 15000\n",
      "Getting Followers ids of dumbassgenius\n"
     ]
    },
    {
     "name": "stderr",
     "output_type": "stream",
     "text": [
      "\r",
      " 76%|███████▌  | 979/1288 [49:05:41<19:33:48, 227.92s/it]"
     ]
    },
    {
     "name": "stdout",
     "output_type": "stream",
     "text": [
      "Fetched number of followers ids for dumbassgenius : 15000\n",
      "Getting Followers ids of dvassallo\n"
     ]
    },
    {
     "name": "stderr",
     "output_type": "stream",
     "text": [
      "\r",
      " 76%|███████▌  | 980/1288 [49:05:44<13:44:12, 160.56s/it]"
     ]
    },
    {
     "name": "stdout",
     "output_type": "stream",
     "text": [
      "Fetched number of followers ids for dvassallo : 15000\n",
      "Getting Followers ids of ECONdailycharts\n"
     ]
    },
    {
     "name": "stderr",
     "output_type": "stream",
     "text": [
      "\r",
      " 76%|███████▌  | 981/1288 [49:05:45<9:37:18, 112.83s/it] "
     ]
    },
    {
     "name": "stdout",
     "output_type": "stream",
     "text": [
      "Fetched number of followers ids for ECONdailycharts : 15000\n",
      "Getting Followers ids of EcoSenseNow\n"
     ]
    },
    {
     "name": "stderr",
     "output_type": "stream",
     "text": [
      "\r",
      " 76%|███████▌  | 982/1288 [49:05:47<6:45:02, 79.42s/it] "
     ]
    },
    {
     "name": "stdout",
     "output_type": "stream",
     "text": [
      "Fetched number of followers ids for EcoSenseNow : 15000\n",
      "Getting Followers ids of EdgeofSports\n"
     ]
    },
    {
     "name": "stderr",
     "output_type": "stream",
     "text": [
      "Rate limit reached. Sleeping for: 891\n",
      " 76%|███████▋  | 983/1288 [49:20:45<27:31:43, 324.93s/it]"
     ]
    },
    {
     "name": "stdout",
     "output_type": "stream",
     "text": [
      "Fetched number of followers ids for EdgeofSports : 15000\n",
      "Getting Followers ids of EdinburghUni\n"
     ]
    },
    {
     "name": "stderr",
     "output_type": "stream",
     "text": [
      "\r",
      " 76%|███████▋  | 984/1288 [49:20:46<19:14:58, 227.96s/it]"
     ]
    },
    {
     "name": "stdout",
     "output_type": "stream",
     "text": [
      "Fetched number of followers ids for EdinburghUni : 15000\n",
      "Getting Followers ids of EpiEllie\n"
     ]
    },
    {
     "name": "stderr",
     "output_type": "stream",
     "text": [
      "\r",
      " 76%|███████▋  | 985/1288 [49:20:48<13:28:02, 160.01s/it]"
     ]
    },
    {
     "name": "stdout",
     "output_type": "stream",
     "text": [
      "Fetched number of followers ids for EpiEllie : 15000\n",
      "Getting Followers ids of EpsilonTheory\n"
     ]
    },
    {
     "name": "stderr",
     "output_type": "stream",
     "text": [
      "\r",
      " 77%|███████▋  | 986/1288 [49:20:52<9:30:35, 113.36s/it] "
     ]
    },
    {
     "name": "stdout",
     "output_type": "stream",
     "text": [
      "Fetched number of followers ids for EpsilonTheory : 15000\n",
      "Getting Followers ids of eriktorenberg\n"
     ]
    },
    {
     "name": "stderr",
     "output_type": "stream",
     "text": [
      "\r",
      " 77%|███████▋  | 987/1288 [49:20:57<6:45:09, 80.76s/it] "
     ]
    },
    {
     "name": "stdout",
     "output_type": "stream",
     "text": [
      "Fetched number of followers ids for eriktorenberg : 15000\n",
      "Getting Followers ids of eskimon\n"
     ]
    },
    {
     "name": "stderr",
     "output_type": "stream",
     "text": [
      "Rate limit reached. Sleeping for: 885\n",
      " 77%|███████▋  | 988/1288 [49:35:54<27:07:27, 325.49s/it]"
     ]
    },
    {
     "name": "stdout",
     "output_type": "stream",
     "text": [
      "Fetched number of followers ids for eskimon : 15000\n",
      "Getting Followers ids of EthicalSkeptic\n"
     ]
    },
    {
     "name": "stderr",
     "output_type": "stream",
     "text": [
      "\r",
      " 77%|███████▋  | 989/1288 [49:35:59<19:03:26, 229.45s/it]"
     ]
    },
    {
     "name": "stdout",
     "output_type": "stream",
     "text": [
      "Fetched number of followers ids for EthicalSkeptic : 15000\n",
      "Getting Followers ids of EugeneMirman\n"
     ]
    },
    {
     "name": "stderr",
     "output_type": "stream",
     "text": [
      "\r",
      " 77%|███████▋  | 990/1288 [49:36:00<13:19:56, 161.06s/it]"
     ]
    },
    {
     "name": "stdout",
     "output_type": "stream",
     "text": [
      "Fetched number of followers ids for EugeneMirman : 15000\n",
      "Getting Followers ids of f\n"
     ]
    },
    {
     "name": "stderr",
     "output_type": "stream",
     "text": [
      "\r",
      " 77%|███████▋  | 991/1288 [49:36:11<9:33:10, 115.79s/it] "
     ]
    },
    {
     "name": "stdout",
     "output_type": "stream",
     "text": [
      "Fetched number of followers ids for f : 15000\n",
      "Getting Followers ids of FlakPhoto\n"
     ]
    },
    {
     "name": "stderr",
     "output_type": "stream",
     "text": [
      "\r",
      " 77%|███████▋  | 992/1288 [49:36:15<6:45:46, 82.25s/it] "
     ]
    },
    {
     "name": "stdout",
     "output_type": "stream",
     "text": [
      "Fetched number of followers ids for FlakPhoto : 15000\n",
      "Getting Followers ids of florinpop1705\n"
     ]
    },
    {
     "name": "stderr",
     "output_type": "stream",
     "text": [
      "Rate limit reached. Sleeping for: 870\n",
      " 77%|███████▋  | 993/1288 [49:50:56<26:23:30, 322.07s/it]"
     ]
    },
    {
     "name": "stdout",
     "output_type": "stream",
     "text": [
      "Fetched number of followers ids for florinpop1705 : 15000\n",
      "Getting Followers ids of Fox0x01\n"
     ]
    },
    {
     "name": "stderr",
     "output_type": "stream",
     "text": [
      "\r",
      " 77%|███████▋  | 994/1288 [49:51:10<18:44:20, 229.46s/it]"
     ]
    },
    {
     "name": "stdout",
     "output_type": "stream",
     "text": [
      "Fetched number of followers ids for Fox0x01 : 15000\n",
      "Getting Followers ids of franklinleonard\n"
     ]
    },
    {
     "name": "stderr",
     "output_type": "stream",
     "text": [
      "\r",
      " 77%|███████▋  | 995/1288 [49:51:11<13:06:20, 161.02s/it]"
     ]
    },
    {
     "name": "stdout",
     "output_type": "stream",
     "text": [
      "Fetched number of followers ids for franklinleonard : 15000\n",
      "Getting Followers ids of Fyre_flye\n"
     ]
    },
    {
     "name": "stderr",
     "output_type": "stream",
     "text": [
      "\r",
      " 77%|███████▋  | 996/1288 [49:51:17<9:17:34, 114.57s/it] "
     ]
    },
    {
     "name": "stdout",
     "output_type": "stream",
     "text": [
      "Fetched number of followers ids for Fyre_flye : 15000\n",
      "Getting Followers ids of gamemakerstk\n"
     ]
    },
    {
     "name": "stderr",
     "output_type": "stream",
     "text": [
      "\r",
      " 77%|███████▋  | 997/1288 [49:51:23<6:36:57, 81.85s/it] "
     ]
    },
    {
     "name": "stdout",
     "output_type": "stream",
     "text": [
      "Fetched number of followers ids for gamemakerstk : 15000\n",
      "Getting Followers ids of GamersNexus\n"
     ]
    },
    {
     "name": "stderr",
     "output_type": "stream",
     "text": [
      "Rate limit reached. Sleeping for: 873\n",
      " 77%|███████▋  | 998/1288 [50:06:03<25:52:49, 321.27s/it]"
     ]
    },
    {
     "name": "stdout",
     "output_type": "stream",
     "text": [
      "Fetched number of followers ids for GamersNexus : 15000\n",
      "Getting Followers ids of Garrett_Watts\n"
     ]
    },
    {
     "name": "stderr",
     "output_type": "stream",
     "text": [
      "\r",
      " 78%|███████▊  | 999/1288 [50:06:04<18:05:32, 225.37s/it]"
     ]
    },
    {
     "name": "stdout",
     "output_type": "stream",
     "text": [
      "Fetched number of followers ids for Garrett_Watts : 15000\n",
      "Getting Followers ids of george__mack\n"
     ]
    },
    {
     "name": "stderr",
     "output_type": "stream",
     "text": [
      "\r",
      " 78%|███████▊  | 1000/1288 [50:06:06<12:39:26, 158.22s/it]"
     ]
    },
    {
     "name": "stdout",
     "output_type": "stream",
     "text": [
      "Fetched number of followers ids for george__mack : 15000\n",
      "Getting Followers ids of georgiebingham\n"
     ]
    },
    {
     "name": "stderr",
     "output_type": "stream",
     "text": [
      "\r",
      " 78%|███████▊  | 1001/1288 [50:06:07<8:51:54, 111.20s/it] "
     ]
    },
    {
     "name": "stdout",
     "output_type": "stream",
     "text": [
      "Fetched number of followers ids for georgiebingham : 15000\n",
      "Getting Followers ids of ginatrapani\n"
     ]
    },
    {
     "name": "stderr",
     "output_type": "stream",
     "text": [
      "\r",
      " 78%|███████▊  | 1002/1288 [50:06:09<6:13:18, 78.32s/it] "
     ]
    },
    {
     "name": "stdout",
     "output_type": "stream",
     "text": [
      "Fetched number of followers ids for ginatrapani : 15000\n",
      "Getting Followers ids of GlamandGore\n"
     ]
    },
    {
     "name": "stderr",
     "output_type": "stream",
     "text": [
      "Rate limit reached. Sleeping for: 893\n",
      " 78%|███████▊  | 1003/1288 [50:21:09<25:43:37, 324.97s/it]"
     ]
    },
    {
     "name": "stdout",
     "output_type": "stream",
     "text": [
      "Fetched number of followers ids for GlamandGore : 15000\n",
      "Getting Followers ids of graceblakeley\n"
     ]
    },
    {
     "name": "stderr",
     "output_type": "stream",
     "text": [
      "\r",
      " 78%|███████▊  | 1004/1288 [50:21:11<17:58:58, 227.95s/it]"
     ]
    },
    {
     "name": "stdout",
     "output_type": "stream",
     "text": [
      "Fetched number of followers ids for graceblakeley : 15000\n",
      "Getting Followers ids of habibh\n"
     ]
    },
    {
     "name": "stderr",
     "output_type": "stream",
     "text": [
      "\r",
      " 78%|███████▊  | 1005/1288 [50:21:12<12:34:46, 160.02s/it]"
     ]
    },
    {
     "name": "stdout",
     "output_type": "stream",
     "text": [
      "Fetched number of followers ids for habibh : 15000\n",
      "Getting Followers ids of hackaday\n"
     ]
    },
    {
     "name": "stderr",
     "output_type": "stream",
     "text": [
      "\r",
      " 78%|███████▊  | 1006/1288 [50:21:14<8:48:34, 112.46s/it] "
     ]
    },
    {
     "name": "stdout",
     "output_type": "stream",
     "text": [
      "Fetched number of followers ids for hackaday : 15000\n",
      "Getting Followers ids of hardmaru\n"
     ]
    },
    {
     "name": "stderr",
     "output_type": "stream",
     "text": [
      "\r",
      " 78%|███████▊  | 1007/1288 [50:21:15<6:10:50, 79.18s/it] "
     ]
    },
    {
     "name": "stdout",
     "output_type": "stream",
     "text": [
      "Fetched number of followers ids for hardmaru : 15000\n",
      "Getting Followers ids of HelenBevanTweet\n"
     ]
    },
    {
     "name": "stderr",
     "output_type": "stream",
     "text": [
      "Rate limit reached. Sleeping for: 893\n",
      " 78%|███████▊  | 1008/1288 [50:36:15<25:18:24, 325.37s/it]"
     ]
    },
    {
     "name": "stdout",
     "output_type": "stream",
     "text": [
      "Fetched number of followers ids for HelenBevanTweet : 15000\n",
      "Getting Followers ids of herbgreenberg\n"
     ]
    },
    {
     "name": "stderr",
     "output_type": "stream",
     "text": [
      "\r",
      " 78%|███████▊  | 1009/1288 [50:36:17<17:41:12, 228.22s/it]"
     ]
    },
    {
     "name": "stdout",
     "output_type": "stream",
     "text": [
      "Fetched number of followers ids for herbgreenberg : 15000\n",
      "Getting Followers ids of heyjenbartel\n"
     ]
    },
    {
     "name": "stderr",
     "output_type": "stream",
     "text": [
      "\r",
      " 78%|███████▊  | 1010/1288 [50:36:22<12:27:36, 161.36s/it]"
     ]
    },
    {
     "name": "stdout",
     "output_type": "stream",
     "text": [
      "Fetched number of followers ids for heyjenbartel : 15000\n",
      "Getting Followers ids of heylandsberg\n"
     ]
    },
    {
     "name": "stderr",
     "output_type": "stream",
     "text": [
      "\r",
      " 78%|███████▊  | 1011/1288 [50:36:24<8:43:28, 113.39s/it] "
     ]
    },
    {
     "name": "stdout",
     "output_type": "stream",
     "text": [
      "Fetched number of followers ids for heylandsberg : 15000\n",
      "Getting Followers ids of HirokoTabuchi\n"
     ]
    },
    {
     "name": "stderr",
     "output_type": "stream",
     "text": [
      "\r",
      " 79%|███████▊  | 1012/1288 [50:36:25<6:07:14, 79.84s/it] "
     ]
    },
    {
     "name": "stdout",
     "output_type": "stream",
     "text": [
      "Fetched number of followers ids for HirokoTabuchi : 15000\n",
      "Getting Followers ids of HoeflerCo\n"
     ]
    },
    {
     "name": "stderr",
     "output_type": "stream",
     "text": [
      "Rate limit reached. Sleeping for: 890\n",
      " 79%|███████▊  | 1013/1288 [50:51:22<24:49:09, 324.91s/it]"
     ]
    },
    {
     "name": "stdout",
     "output_type": "stream",
     "text": [
      "Fetched number of followers ids for HoeflerCo : 15000\n",
      "Getting Followers ids of HollandTaylor\n"
     ]
    },
    {
     "name": "stderr",
     "output_type": "stream",
     "text": [
      "\r",
      " 79%|███████▊  | 1014/1288 [50:51:23<17:20:39, 227.88s/it]"
     ]
    },
    {
     "name": "stdout",
     "output_type": "stream",
     "text": [
      "Fetched number of followers ids for HollandTaylor : 15000\n",
      "Getting Followers ids of hubermanlab\n"
     ]
    },
    {
     "name": "stderr",
     "output_type": "stream",
     "text": [
      "\r",
      " 79%|███████▉  | 1015/1288 [50:51:28<12:11:33, 160.78s/it]"
     ]
    },
    {
     "name": "stdout",
     "output_type": "stream",
     "text": [
      "Fetched number of followers ids for hubermanlab : 15000\n",
      "Getting Followers ids of hugo_larochelle\n"
     ]
    },
    {
     "name": "stderr",
     "output_type": "stream",
     "text": [
      "\r",
      " 79%|███████▉  | 1016/1288 [50:51:30<8:33:15, 113.22s/it] "
     ]
    },
    {
     "name": "stdout",
     "output_type": "stream",
     "text": [
      "Fetched number of followers ids for hugo_larochelle : 15000\n",
      "Getting Followers ids of HumanProgress\n"
     ]
    },
    {
     "name": "stderr",
     "output_type": "stream",
     "text": [
      "\r",
      " 79%|███████▉  | 1017/1288 [50:51:31<5:59:54, 79.68s/it] "
     ]
    },
    {
     "name": "stdout",
     "output_type": "stream",
     "text": [
      "Fetched number of followers ids for HumanProgress : 15000\n",
      "Getting Followers ids of IAmMarkManson\n"
     ]
    },
    {
     "name": "stderr",
     "output_type": "stream",
     "text": [
      "Rate limit reached. Sleeping for: 891\n",
      " 79%|███████▉  | 1018/1288 [51:06:29<24:23:04, 325.13s/it]"
     ]
    },
    {
     "name": "stdout",
     "output_type": "stream",
     "text": [
      "Fetched number of followers ids for IAmMarkManson : 15000\n",
      "Getting Followers ids of IAmPoliticsGirl\n"
     ]
    },
    {
     "name": "stderr",
     "output_type": "stream",
     "text": [
      "\r",
      " 79%|███████▉  | 1019/1288 [51:06:31<17:02:27, 228.06s/it]"
     ]
    },
    {
     "name": "stdout",
     "output_type": "stream",
     "text": [
      "Fetched number of followers ids for IAmPoliticsGirl : 15000\n",
      "Getting Followers ids of IanBohen\n"
     ]
    },
    {
     "name": "stderr",
     "output_type": "stream",
     "text": [
      "\r",
      " 79%|███████▉  | 1020/1288 [51:06:32<11:55:11, 160.12s/it]"
     ]
    },
    {
     "name": "stdout",
     "output_type": "stream",
     "text": [
      "Fetched number of followers ids for IanBohen : 15000\n",
      "Getting Followers ids of Ian_Ladyman_DM\n"
     ]
    },
    {
     "name": "stderr",
     "output_type": "stream",
     "text": [
      "\r",
      " 79%|███████▉  | 1021/1288 [51:06:34<8:20:47, 112.54s/it] "
     ]
    },
    {
     "name": "stdout",
     "output_type": "stream",
     "text": [
      "Fetched number of followers ids for Ian_Ladyman_DM : 15000\n",
      "Getting Followers ids of ibogost\n"
     ]
    },
    {
     "name": "stderr",
     "output_type": "stream",
     "text": [
      "\r",
      " 79%|███████▉  | 1022/1288 [51:06:35<5:51:14, 79.23s/it] "
     ]
    },
    {
     "name": "stdout",
     "output_type": "stream",
     "text": [
      "Fetched number of followers ids for ibogost : 15000\n",
      "Getting Followers ids of ICOEPR\n"
     ]
    },
    {
     "name": "stderr",
     "output_type": "stream",
     "text": [
      "Rate limit reached. Sleeping for: 894\n",
      " 79%|███████▉  | 1023/1288 [51:21:36<23:58:29, 325.70s/it]"
     ]
    },
    {
     "name": "stdout",
     "output_type": "stream",
     "text": [
      "Fetched number of followers ids for ICOEPR : 15000\n",
      "Getting Followers ids of imaniperry\n"
     ]
    },
    {
     "name": "stderr",
     "output_type": "stream",
     "text": [
      "\r",
      " 80%|███████▉  | 1024/1288 [51:21:37<16:45:06, 228.43s/it]"
     ]
    },
    {
     "name": "stdout",
     "output_type": "stream",
     "text": [
      "Fetched number of followers ids for imaniperry : 15000\n",
      "Getting Followers ids of imteddybless\n"
     ]
    },
    {
     "name": "stderr",
     "output_type": "stream",
     "text": [
      "\r",
      " 80%|███████▉  | 1025/1288 [51:21:39<11:42:57, 160.37s/it]"
     ]
    },
    {
     "name": "stdout",
     "output_type": "stream",
     "text": [
      "Fetched number of followers ids for imteddybless : 15000\n",
      "Getting Followers ids of InternetHippo\n"
     ]
    },
    {
     "name": "stderr",
     "output_type": "stream",
     "text": [
      "\r",
      " 80%|███████▉  | 1026/1288 [51:21:41<8:12:11, 112.72s/it] "
     ]
    },
    {
     "name": "stdout",
     "output_type": "stream",
     "text": [
      "Fetched number of followers ids for InternetHippo : 15000\n",
      "Getting Followers ids of IzGutierrez\n"
     ]
    },
    {
     "name": "stderr",
     "output_type": "stream",
     "text": [
      "\r",
      " 80%|███████▉  | 1027/1288 [51:21:42<5:45:08, 79.34s/it] "
     ]
    },
    {
     "name": "stdout",
     "output_type": "stream",
     "text": [
      "Fetched number of followers ids for IzGutierrez : 15000\n",
      "Getting Followers ids of JackHoward\n"
     ]
    },
    {
     "name": "stderr",
     "output_type": "stream",
     "text": [
      "Rate limit reached. Sleeping for: 894\n",
      " 80%|███████▉  | 1028/1288 [51:36:43<23:31:40, 325.77s/it]"
     ]
    },
    {
     "name": "stdout",
     "output_type": "stream",
     "text": [
      "Fetched number of followers ids for JackHoward : 15000\n",
      "Getting Followers ids of JacquelynGill\n"
     ]
    },
    {
     "name": "stderr",
     "output_type": "stream",
     "text": [
      "\r",
      " 80%|███████▉  | 1029/1288 [51:36:44<16:26:16, 228.48s/it]"
     ]
    },
    {
     "name": "stdout",
     "output_type": "stream",
     "text": [
      "Fetched number of followers ids for JacquelynGill : 15000\n",
      "Getting Followers ids of JagexAsh\n"
     ]
    },
    {
     "name": "stderr",
     "output_type": "stream",
     "text": [
      "\r",
      " 80%|███████▉  | 1030/1288 [51:36:46<11:29:51, 160.43s/it]"
     ]
    },
    {
     "name": "stdout",
     "output_type": "stream",
     "text": [
      "Fetched number of followers ids for JagexAsh : 15000\n",
      "Getting Followers ids of JamilSmith\n"
     ]
    },
    {
     "name": "stderr",
     "output_type": "stream",
     "text": [
      "\r",
      " 80%|████████  | 1031/1288 [51:36:52<8:08:20, 114.01s/it] "
     ]
    },
    {
     "name": "stdout",
     "output_type": "stream",
     "text": [
      "Fetched number of followers ids for JamilSmith : 15000\n",
      "Getting Followers ids of janewells\n"
     ]
    },
    {
     "name": "stderr",
     "output_type": "stream",
     "text": [
      "\r",
      " 80%|████████  | 1032/1288 [51:36:54<5:42:59, 80.39s/it] "
     ]
    },
    {
     "name": "stdout",
     "output_type": "stream",
     "text": [
      "Fetched number of followers ids for janewells : 15000\n",
      "Getting Followers ids of jasonintrator\n"
     ]
    },
    {
     "name": "stderr",
     "output_type": "stream",
     "text": [
      "Rate limit reached. Sleeping for: 885\n",
      " 80%|████████  | 1033/1288 [51:51:50<23:01:48, 325.13s/it]"
     ]
    },
    {
     "name": "stdout",
     "output_type": "stream",
     "text": [
      "Fetched number of followers ids for jasonintrator : 15000\n",
      "Getting Followers ids of jasonsantamaria\n"
     ]
    },
    {
     "name": "stderr",
     "output_type": "stream",
     "text": [
      "\r",
      " 80%|████████  | 1034/1288 [51:51:51<16:05:21, 228.04s/it]"
     ]
    },
    {
     "name": "stdout",
     "output_type": "stream",
     "text": [
      "Fetched number of followers ids for jasonsantamaria : 15000\n",
      "Getting Followers ids of jennadawn\n"
     ]
    },
    {
     "name": "stderr",
     "output_type": "stream",
     "text": [
      "\r",
      " 80%|████████  | 1035/1288 [51:51:53<11:15:03, 160.09s/it]"
     ]
    },
    {
     "name": "stdout",
     "output_type": "stream",
     "text": [
      "Fetched number of followers ids for jennadawn : 15000\n",
      "Getting Followers ids of jennydeluxe\n"
     ]
    },
    {
     "name": "stderr",
     "output_type": "stream",
     "text": [
      "\r",
      " 80%|████████  | 1036/1288 [51:51:54<7:52:35, 112.52s/it] "
     ]
    },
    {
     "name": "stdout",
     "output_type": "stream",
     "text": [
      "Fetched number of followers ids for jennydeluxe : 15000\n",
      "Getting Followers ids of jessesingal\n"
     ]
    },
    {
     "name": "stderr",
     "output_type": "stream",
     "text": [
      "\r",
      " 81%|████████  | 1037/1288 [51:51:56<5:31:29, 79.24s/it] "
     ]
    },
    {
     "name": "stdout",
     "output_type": "stream",
     "text": [
      "Fetched number of followers ids for jessesingal : 15000\n",
      "Getting Followers ids of jessfraz\n"
     ]
    },
    {
     "name": "stderr",
     "output_type": "stream",
     "text": [
      "Rate limit reached. Sleeping for: 893\n",
      " 81%|████████  | 1038/1288 [52:06:56<22:35:53, 325.41s/it]"
     ]
    },
    {
     "name": "stdout",
     "output_type": "stream",
     "text": [
      "Fetched number of followers ids for jessfraz : 15000\n",
      "Getting Followers ids of JessicaChobot\n"
     ]
    },
    {
     "name": "stderr",
     "output_type": "stream",
     "text": [
      "\r",
      " 81%|████████  | 1039/1288 [52:07:01<15:52:05, 229.42s/it]"
     ]
    },
    {
     "name": "stdout",
     "output_type": "stream",
     "text": [
      "Fetched number of followers ids for JessicaChobot : 15000\n",
      "Getting Followers ids of jfwong\n"
     ]
    },
    {
     "name": "stderr",
     "output_type": "stream",
     "text": [
      "\r",
      " 81%|████████  | 1040/1288 [52:07:03<11:05:40, 161.05s/it]"
     ]
    },
    {
     "name": "stdout",
     "output_type": "stream",
     "text": [
      "Fetched number of followers ids for jfwong : 15000\n",
      "Getting Followers ids of JillFilipovic\n"
     ]
    },
    {
     "name": "stderr",
     "output_type": "stream",
     "text": [
      "\r",
      " 81%|████████  | 1041/1288 [52:07:04<7:45:59, 113.20s/it] "
     ]
    },
    {
     "name": "stdout",
     "output_type": "stream",
     "text": [
      "Fetched number of followers ids for JillFilipovic : 15000\n",
      "Getting Followers ids of Jimllpaintit\n"
     ]
    },
    {
     "name": "stderr",
     "output_type": "stream",
     "text": [
      "\r",
      " 81%|████████  | 1042/1288 [52:07:06<5:26:44, 79.69s/it] "
     ]
    },
    {
     "name": "stdout",
     "output_type": "stream",
     "text": [
      "Fetched number of followers ids for Jimllpaintit : 15000\n",
      "Getting Followers ids of jimseven\n"
     ]
    },
    {
     "name": "stderr",
     "output_type": "stream",
     "text": [
      "Rate limit reached. Sleeping for: 890\n",
      " 81%|████████  | 1043/1288 [52:22:04<22:08:13, 325.28s/it]"
     ]
    },
    {
     "name": "stdout",
     "output_type": "stream",
     "text": [
      "Fetched number of followers ids for jimseven : 15000\n",
      "Getting Followers ids of jimwaterson\n"
     ]
    },
    {
     "name": "stderr",
     "output_type": "stream",
     "text": [
      "\r",
      " 81%|████████  | 1044/1288 [52:22:06<15:27:49, 228.15s/it]"
     ]
    },
    {
     "name": "stdout",
     "output_type": "stream",
     "text": [
      "Fetched number of followers ids for jimwaterson : 15000\n",
      "Getting Followers ids of jmpalmieri\n"
     ]
    },
    {
     "name": "stderr",
     "output_type": "stream",
     "text": [
      "\r",
      " 81%|████████  | 1045/1288 [52:22:07<10:48:40, 160.16s/it]"
     ]
    },
    {
     "name": "stdout",
     "output_type": "stream",
     "text": [
      "Fetched number of followers ids for jmpalmieri : 15000\n",
      "Getting Followers ids of JoeQuesada\n"
     ]
    },
    {
     "name": "stderr",
     "output_type": "stream",
     "text": [
      "\r",
      " 81%|████████  | 1046/1288 [52:22:09<7:34:02, 112.57s/it] "
     ]
    },
    {
     "name": "stdout",
     "output_type": "stream",
     "text": [
      "Fetched number of followers ids for JoeQuesada : 15000\n",
      "Getting Followers ids of johniadarola\n"
     ]
    },
    {
     "name": "stderr",
     "output_type": "stream",
     "text": [
      "\r",
      " 81%|████████▏ | 1047/1288 [52:22:10<5:18:25, 79.27s/it] "
     ]
    },
    {
     "name": "stdout",
     "output_type": "stream",
     "text": [
      "Fetched number of followers ids for johniadarola : 15000\n",
      "Getting Followers ids of JohnMu\n"
     ]
    },
    {
     "name": "stderr",
     "output_type": "stream",
     "text": [
      "Rate limit reached. Sleeping for: 893\n",
      " 81%|████████▏ | 1048/1288 [52:37:10<21:41:44, 325.44s/it]"
     ]
    },
    {
     "name": "stdout",
     "output_type": "stream",
     "text": [
      "Fetched number of followers ids for JohnMu : 15000\n",
      "Getting Followers ids of johnolilly\n"
     ]
    },
    {
     "name": "stderr",
     "output_type": "stream",
     "text": [
      "\r",
      " 81%|████████▏ | 1049/1288 [52:37:12<15:09:13, 228.26s/it]"
     ]
    },
    {
     "name": "stdout",
     "output_type": "stream",
     "text": [
      "Fetched number of followers ids for johnolilly : 15000\n",
      "Getting Followers ids of John_Papa\n"
     ]
    },
    {
     "name": "stderr",
     "output_type": "stream",
     "text": [
      "\r",
      " 82%|████████▏ | 1050/1288 [52:37:13<10:35:44, 160.27s/it]"
     ]
    },
    {
     "name": "stdout",
     "output_type": "stream",
     "text": [
      "Fetched number of followers ids for John_Papa : 15000\n",
      "Getting Followers ids of jojomoyes\n"
     ]
    },
    {
     "name": "stderr",
     "output_type": "stream",
     "text": [
      "\r",
      " 82%|████████▏ | 1051/1288 [52:37:15<7:25:09, 112.70s/it] "
     ]
    },
    {
     "name": "stdout",
     "output_type": "stream",
     "text": [
      "Fetched number of followers ids for jojomoyes : 15000\n",
      "Getting Followers ids of joshelman\n"
     ]
    },
    {
     "name": "stderr",
     "output_type": "stream",
     "text": [
      "\r",
      " 82%|████████▏ | 1052/1288 [52:37:16<5:12:04, 79.34s/it] "
     ]
    },
    {
     "name": "stdout",
     "output_type": "stream",
     "text": [
      "Fetched number of followers ids for joshelman : 15000\n",
      "Getting Followers ids of JoshuaPotash\n"
     ]
    },
    {
     "name": "stderr",
     "output_type": "stream",
     "text": [
      "Rate limit reached. Sleeping for: 893\n",
      " 82%|████████▏ | 1053/1288 [52:52:16<21:14:47, 325.48s/it]"
     ]
    },
    {
     "name": "stdout",
     "output_type": "stream",
     "text": [
      "Fetched number of followers ids for JoshuaPotash : 15000\n",
      "Getting Followers ids of joulee\n"
     ]
    },
    {
     "name": "stderr",
     "output_type": "stream",
     "text": [
      "\r",
      " 82%|████████▏ | 1054/1288 [52:52:18<14:50:25, 228.31s/it]"
     ]
    },
    {
     "name": "stdout",
     "output_type": "stream",
     "text": [
      "Fetched number of followers ids for joulee : 15000\n",
      "Getting Followers ids of JuliaLepetit\n"
     ]
    },
    {
     "name": "stderr",
     "output_type": "stream",
     "text": [
      "\r",
      " 82%|████████▏ | 1055/1288 [52:52:21<10:24:46, 160.89s/it]"
     ]
    },
    {
     "name": "stdout",
     "output_type": "stream",
     "text": [
      "Fetched number of followers ids for JuliaLepetit : 15000\n",
      "Getting Followers ids of jumblejim\n"
     ]
    },
    {
     "name": "stderr",
     "output_type": "stream",
     "text": [
      "\r",
      " 82%|████████▏ | 1056/1288 [52:52:23<7:17:19, 113.10s/it] "
     ]
    },
    {
     "name": "stdout",
     "output_type": "stream",
     "text": [
      "Fetched number of followers ids for jumblejim : 15000\n",
      "Getting Followers ids of kenbone18\n"
     ]
    },
    {
     "name": "stderr",
     "output_type": "stream",
     "text": [
      "\r",
      " 82%|████████▏ | 1057/1288 [52:52:27<5:09:04, 80.28s/it] "
     ]
    },
    {
     "name": "stdout",
     "output_type": "stream",
     "text": [
      "Fetched number of followers ids for kenbone18 : 15000\n",
      "Getting Followers ids of KentBeck\n"
     ]
    },
    {
     "name": "stderr",
     "output_type": "stream",
     "text": [
      "Rate limit reached. Sleeping for: 889\n",
      " 82%|████████▏ | 1058/1288 [53:07:28<20:52:01, 326.61s/it]"
     ]
    },
    {
     "name": "stdout",
     "output_type": "stream",
     "text": [
      "Fetched number of followers ids for KentBeck : 15000\n",
      "Getting Followers ids of kevinbparry\n"
     ]
    },
    {
     "name": "stderr",
     "output_type": "stream",
     "text": [
      "\r",
      " 82%|████████▏ | 1059/1288 [53:07:29<14:34:17, 229.07s/it]"
     ]
    },
    {
     "name": "stdout",
     "output_type": "stream",
     "text": [
      "Fetched number of followers ids for kevinbparry : 15000\n",
      "Getting Followers ids of KevinFrankish\n"
     ]
    },
    {
     "name": "stderr",
     "output_type": "stream",
     "text": [
      "\r",
      " 82%|████████▏ | 1060/1288 [53:07:31<10:11:06, 160.82s/it]"
     ]
    },
    {
     "name": "stdout",
     "output_type": "stream",
     "text": [
      "Fetched number of followers ids for KevinFrankish : 15000\n",
      "Getting Followers ids of KevinSussman\n"
     ]
    },
    {
     "name": "stderr",
     "output_type": "stream",
     "text": [
      "\r",
      " 82%|████████▏ | 1061/1288 [53:07:33<7:07:38, 113.03s/it] "
     ]
    },
    {
     "name": "stdout",
     "output_type": "stream",
     "text": [
      "Fetched number of followers ids for KevinSussman : 15000\n",
      "Getting Followers ids of KirstenPowers\n"
     ]
    },
    {
     "name": "stderr",
     "output_type": "stream",
     "text": [
      "\r",
      " 82%|████████▏ | 1062/1288 [53:07:37<5:02:46, 80.38s/it] "
     ]
    },
    {
     "name": "stdout",
     "output_type": "stream",
     "text": [
      "Fetched number of followers ids for KirstenPowers : 15000\n",
      "Getting Followers ids of kittypurrzog\n"
     ]
    },
    {
     "name": "stderr",
     "output_type": "stream",
     "text": [
      "Rate limit reached. Sleeping for: 886\n",
      " 83%|████████▎ | 1063/1288 [53:22:29<20:15:18, 324.08s/it]"
     ]
    },
    {
     "name": "stdout",
     "output_type": "stream",
     "text": [
      "Fetched number of followers ids for kittypurrzog : 15000\n",
      "Getting Followers ids of KP_Kelly\n"
     ]
    },
    {
     "name": "stderr",
     "output_type": "stream",
     "text": [
      "\r",
      " 83%|████████▎ | 1064/1288 [53:22:31<14:08:37, 227.31s/it]"
     ]
    },
    {
     "name": "stdout",
     "output_type": "stream",
     "text": [
      "Fetched number of followers ids for KP_Kelly : 15000\n",
      "Getting Followers ids of larrybrilliant\n"
     ]
    },
    {
     "name": "stderr",
     "output_type": "stream",
     "text": [
      "\r",
      " 83%|████████▎ | 1065/1288 [53:22:32<9:53:01, 159.56s/it] "
     ]
    },
    {
     "name": "stdout",
     "output_type": "stream",
     "text": [
      "Fetched number of followers ids for larrybrilliant : 15000\n",
      "Getting Followers ids of larrywilmore\n"
     ]
    },
    {
     "name": "stderr",
     "output_type": "stream",
     "text": [
      "\r",
      " 83%|████████▎ | 1066/1288 [53:22:37<6:58:41, 113.16s/it]"
     ]
    },
    {
     "name": "stdout",
     "output_type": "stream",
     "text": [
      "Fetched number of followers ids for larrywilmore : 15000\n",
      "Getting Followers ids of latestinspace\n"
     ]
    },
    {
     "name": "stderr",
     "output_type": "stream",
     "text": [
      "\r",
      " 83%|████████▎ | 1067/1288 [53:22:39<4:53:45, 79.75s/it] "
     ]
    },
    {
     "name": "stdout",
     "output_type": "stream",
     "text": [
      "Fetched number of followers ids for latestinspace : 15000\n",
      "Getting Followers ids of LaTrioli\n"
     ]
    },
    {
     "name": "stderr",
     "output_type": "stream",
     "text": [
      "Rate limit reached. Sleeping for: 891\n",
      " 83%|████████▎ | 1068/1288 [53:37:37<19:52:34, 325.25s/it]"
     ]
    },
    {
     "name": "stdout",
     "output_type": "stream",
     "text": [
      "Fetched number of followers ids for LaTrioli : 15000\n",
      "Getting Followers ids of leahmcelrath\n"
     ]
    },
    {
     "name": "stderr",
     "output_type": "stream",
     "text": [
      "\r",
      " 83%|████████▎ | 1069/1288 [53:37:39<13:52:41, 228.13s/it]"
     ]
    },
    {
     "name": "stdout",
     "output_type": "stream",
     "text": [
      "Fetched number of followers ids for leahmcelrath : 15000\n",
      "Getting Followers ids of levelsio\n"
     ]
    },
    {
     "name": "stderr",
     "output_type": "stream",
     "text": [
      "\r",
      " 83%|████████▎ | 1070/1288 [53:37:41<9:42:20, 160.28s/it] "
     ]
    },
    {
     "name": "stdout",
     "output_type": "stream",
     "text": [
      "Fetched number of followers ids for levelsio : 15000\n",
      "Getting Followers ids of levie\n"
     ]
    },
    {
     "name": "stderr",
     "output_type": "stream",
     "text": [
      "\r",
      " 83%|████████▎ | 1071/1288 [53:37:42<6:47:21, 112.64s/it]"
     ]
    },
    {
     "name": "stdout",
     "output_type": "stream",
     "text": [
      "Fetched number of followers ids for levie : 15000\n",
      "Getting Followers ids of LincolnsBible\n"
     ]
    },
    {
     "name": "stderr",
     "output_type": "stream",
     "text": [
      "\r",
      " 83%|████████▎ | 1072/1288 [53:37:44<4:45:29, 79.30s/it] "
     ]
    },
    {
     "name": "stdout",
     "output_type": "stream",
     "text": [
      "Fetched number of followers ids for LincolnsBible : 15000\n",
      "Getting Followers ids of LindiMazibuko\n"
     ]
    },
    {
     "name": "stderr",
     "output_type": "stream",
     "text": [
      "Rate limit reached. Sleeping for: 893\n",
      " 83%|████████▎ | 1073/1288 [53:52:44<19:26:14, 325.46s/it]"
     ]
    },
    {
     "name": "stdout",
     "output_type": "stream",
     "text": [
      "Fetched number of followers ids for LindiMazibuko : 15000\n",
      "Getting Followers ids of Lisaraniray\n"
     ]
    },
    {
     "name": "stderr",
     "output_type": "stream",
     "text": [
      "\r",
      " 83%|████████▎ | 1074/1288 [53:52:45<13:34:10, 228.27s/it]"
     ]
    },
    {
     "name": "stdout",
     "output_type": "stream",
     "text": [
      "Fetched number of followers ids for Lisaraniray : 15000\n",
      "Getting Followers ids of MackayIM\n"
     ]
    },
    {
     "name": "stderr",
     "output_type": "stream",
     "text": [
      "\r",
      " 83%|████████▎ | 1075/1288 [53:52:47<9:28:53, 160.25s/it] "
     ]
    },
    {
     "name": "stdout",
     "output_type": "stream",
     "text": [
      "Fetched number of followers ids for MackayIM : 15000\n",
      "Getting Followers ids of MagdaSzubanski\n"
     ]
    },
    {
     "name": "stderr",
     "output_type": "stream",
     "text": [
      "\r",
      " 84%|████████▎ | 1076/1288 [53:52:48<6:37:59, 112.64s/it]"
     ]
    },
    {
     "name": "stdout",
     "output_type": "stream",
     "text": [
      "Fetched number of followers ids for MagdaSzubanski : 15000\n",
      "Getting Followers ids of maheshmurthy\n"
     ]
    },
    {
     "name": "stderr",
     "output_type": "stream",
     "text": [
      "\r",
      " 84%|████████▎ | 1077/1288 [53:52:50<4:38:53, 79.31s/it] "
     ]
    },
    {
     "name": "stdout",
     "output_type": "stream",
     "text": [
      "Fetched number of followers ids for maheshmurthy : 15000\n",
      "Getting Followers ids of markcharnock\n"
     ]
    },
    {
     "name": "stderr",
     "output_type": "stream",
     "text": [
      "Rate limit reached. Sleeping for: 894\n",
      " 84%|████████▎ | 1078/1288 [54:07:51<19:00:17, 325.80s/it]"
     ]
    },
    {
     "name": "stdout",
     "output_type": "stream",
     "text": [
      "Fetched number of followers ids for markcharnock : 15000\n",
      "Getting Followers ids of markessien\n"
     ]
    },
    {
     "name": "stderr",
     "output_type": "stream",
     "text": [
      "\r",
      " 84%|████████▍ | 1079/1288 [54:07:52<13:15:58, 228.51s/it]"
     ]
    },
    {
     "name": "stdout",
     "output_type": "stream",
     "text": [
      "Fetched number of followers ids for markessien : 15000\n",
      "Getting Followers ids of MarkHertling\n"
     ]
    },
    {
     "name": "stderr",
     "output_type": "stream",
     "text": [
      "\r",
      " 84%|████████▍ | 1080/1288 [54:07:54<9:16:03, 160.40s/it] "
     ]
    },
    {
     "name": "stdout",
     "output_type": "stream",
     "text": [
      "Fetched number of followers ids for MarkHertling : 15000\n",
      "Getting Followers ids of martinfowler\n"
     ]
    },
    {
     "name": "stderr",
     "output_type": "stream",
     "text": [
      "\r",
      " 84%|████████▍ | 1081/1288 [54:07:55<6:28:54, 112.73s/it]"
     ]
    },
    {
     "name": "stdout",
     "output_type": "stream",
     "text": [
      "Fetched number of followers ids for martinfowler : 15000\n",
      "Getting Followers ids of MartinSLewis\n"
     ]
    },
    {
     "name": "stderr",
     "output_type": "stream",
     "text": [
      "\r",
      " 84%|████████▍ | 1082/1288 [54:07:57<4:32:32, 79.38s/it] "
     ]
    },
    {
     "name": "stdout",
     "output_type": "stream",
     "text": [
      "Fetched number of followers ids for MartinSLewis : 15000\n",
      "Getting Followers ids of MartyMakary\n"
     ]
    },
    {
     "name": "stderr",
     "output_type": "stream",
     "text": [
      "Rate limit reached. Sleeping for: 894\n",
      " 84%|████████▍ | 1083/1288 [54:22:58<18:33:31, 325.91s/it]"
     ]
    },
    {
     "name": "stdout",
     "output_type": "stream",
     "text": [
      "Fetched number of followers ids for MartyMakary : 15000\n",
      "Getting Followers ids of MaryLTrump\n"
     ]
    },
    {
     "name": "stderr",
     "output_type": "stream",
     "text": [
      "\r",
      " 84%|████████▍ | 1084/1288 [54:23:03<13:01:25, 229.83s/it]"
     ]
    },
    {
     "name": "stdout",
     "output_type": "stream",
     "text": [
      "Fetched number of followers ids for MaryLTrump : 15000\n",
      "Getting Followers ids of marysuewriter\n"
     ]
    },
    {
     "name": "stderr",
     "output_type": "stream",
     "text": [
      "\r",
      " 84%|████████▍ | 1085/1288 [54:23:05<9:05:56, 161.36s/it] "
     ]
    },
    {
     "name": "stdout",
     "output_type": "stream",
     "text": [
      "Fetched number of followers ids for marysuewriter : 15000\n",
      "Getting Followers ids of matthewsyed\n"
     ]
    },
    {
     "name": "stderr",
     "output_type": "stream",
     "text": [
      "\r",
      " 84%|████████▍ | 1086/1288 [54:23:09<6:23:50, 114.01s/it]"
     ]
    },
    {
     "name": "stdout",
     "output_type": "stream",
     "text": [
      "Fetched number of followers ids for matthewsyed : 15000\n",
      "Getting Followers ids of mattwridley\n"
     ]
    },
    {
     "name": "stderr",
     "output_type": "stream",
     "text": [
      "\r",
      " 84%|████████▍ | 1087/1288 [54:23:13<4:32:14, 81.26s/it] "
     ]
    },
    {
     "name": "stdout",
     "output_type": "stream",
     "text": [
      "Fetched number of followers ids for mattwridley : 15000\n",
      "Getting Followers ids of mattyglesias\n"
     ]
    },
    {
     "name": "stderr",
     "output_type": "stream",
     "text": [
      "Rate limit reached. Sleeping for: 884\n",
      " 84%|████████▍ | 1088/1288 [54:38:04<18:00:25, 324.13s/it]"
     ]
    },
    {
     "name": "stdout",
     "output_type": "stream",
     "text": [
      "Fetched number of followers ids for mattyglesias : 15000\n",
      "Getting Followers ids of medschooladvice\n"
     ]
    },
    {
     "name": "stderr",
     "output_type": "stream",
     "text": [
      "\r",
      " 85%|████████▍ | 1089/1288 [54:38:07<12:35:22, 227.75s/it]"
     ]
    },
    {
     "name": "stdout",
     "output_type": "stream",
     "text": [
      "Fetched number of followers ids for medschooladvice : 15000\n",
      "Getting Followers ids of meganranney\n"
     ]
    },
    {
     "name": "stderr",
     "output_type": "stream",
     "text": [
      "\r",
      " 85%|████████▍ | 1090/1288 [54:38:10<8:49:10, 160.36s/it] "
     ]
    },
    {
     "name": "stdout",
     "output_type": "stream",
     "text": [
      "Fetched number of followers ids for meganranney : 15000\n",
      "Getting Followers ids of megtirrell\n"
     ]
    },
    {
     "name": "stderr",
     "output_type": "stream",
     "text": [
      "\r",
      " 85%|████████▍ | 1091/1288 [54:38:12<6:10:02, 112.70s/it]"
     ]
    },
    {
     "name": "stdout",
     "output_type": "stream",
     "text": [
      "Fetched number of followers ids for megtirrell : 15000\n",
      "Getting Followers ids of MelissaFleming\n"
     ]
    },
    {
     "name": "stderr",
     "output_type": "stream",
     "text": [
      "\r",
      " 85%|████████▍ | 1092/1288 [54:38:16<4:21:31, 80.06s/it] "
     ]
    },
    {
     "name": "stdout",
     "output_type": "stream",
     "text": [
      "Fetched number of followers ids for MelissaFleming : 15000\n",
      "Getting Followers ids of mezzoblue\n"
     ]
    },
    {
     "name": "stderr",
     "output_type": "stream",
     "text": [
      "Rate limit reached. Sleeping for: 888\n",
      " 85%|████████▍ | 1093/1288 [54:53:10<17:34:37, 324.50s/it]"
     ]
    },
    {
     "name": "stdout",
     "output_type": "stream",
     "text": [
      "Fetched number of followers ids for mezzoblue : 15000\n",
      "Getting Followers ids of mgsiegler\n"
     ]
    },
    {
     "name": "stderr",
     "output_type": "stream",
     "text": [
      "\r",
      " 85%|████████▍ | 1094/1288 [54:53:12<12:15:59, 227.63s/it]"
     ]
    },
    {
     "name": "stdout",
     "output_type": "stream",
     "text": [
      "Fetched number of followers ids for mgsiegler : 15000\n",
      "Getting Followers ids of michaelsheen\n"
     ]
    },
    {
     "name": "stderr",
     "output_type": "stream",
     "text": [
      "\r",
      " 85%|████████▌ | 1095/1288 [54:53:14<8:33:57, 159.78s/it] "
     ]
    },
    {
     "name": "stdout",
     "output_type": "stream",
     "text": [
      "Fetched number of followers ids for michaelsheen : 15000\n",
      "Getting Followers ids of michelleinbklyn\n"
     ]
    },
    {
     "name": "stderr",
     "output_type": "stream",
     "text": [
      "\r",
      " 85%|████████▌ | 1096/1288 [54:53:15<5:59:32, 112.36s/it]"
     ]
    },
    {
     "name": "stdout",
     "output_type": "stream",
     "text": [
      "Fetched number of followers ids for michelleinbklyn : 15000\n",
      "Getting Followers ids of mihirssharma\n"
     ]
    },
    {
     "name": "stderr",
     "output_type": "stream",
     "text": [
      "\r",
      " 85%|████████▌ | 1097/1288 [54:53:17<4:11:47, 79.10s/it] "
     ]
    },
    {
     "name": "stdout",
     "output_type": "stream",
     "text": [
      "Fetched number of followers ids for mihirssharma : 15000\n",
      "Getting Followers ids of milesSI\n"
     ]
    },
    {
     "name": "stderr",
     "output_type": "stream",
     "text": [
      "Rate limit reached. Sleeping for: 894\n",
      " 85%|████████▌ | 1098/1288 [55:08:18<17:11:09, 325.63s/it]"
     ]
    },
    {
     "name": "stdout",
     "output_type": "stream",
     "text": [
      "Fetched number of followers ids for milesSI : 15000\n",
      "Getting Followers ids of Milliganreports\n"
     ]
    },
    {
     "name": "stderr",
     "output_type": "stream",
     "text": [
      "\r",
      " 85%|████████▌ | 1099/1288 [55:08:19<11:59:26, 228.39s/it]"
     ]
    },
    {
     "name": "stdout",
     "output_type": "stream",
     "text": [
      "Fetched number of followers ids for Milliganreports : 15000\n",
      "Getting Followers ids of MindShiftKQED\n"
     ]
    },
    {
     "name": "stderr",
     "output_type": "stream",
     "text": [
      "\r",
      " 85%|████████▌ | 1100/1288 [55:08:21<8:22:20, 160.32s/it] "
     ]
    },
    {
     "name": "stdout",
     "output_type": "stream",
     "text": [
      "Fetched number of followers ids for MindShiftKQED : 15000\n",
      "Getting Followers ids of MissAuroraSnow\n"
     ]
    },
    {
     "name": "stderr",
     "output_type": "stream",
     "text": [
      "\r",
      " 85%|████████▌ | 1101/1288 [55:08:22<5:51:08, 112.66s/it]"
     ]
    },
    {
     "name": "stdout",
     "output_type": "stream",
     "text": [
      "Fetched number of followers ids for MissAuroraSnow : 15000\n",
      "Getting Followers ids of mkhammer\n"
     ]
    },
    {
     "name": "stderr",
     "output_type": "stream",
     "text": [
      "\r",
      " 86%|████████▌ | 1102/1288 [55:08:23<4:05:50, 79.30s/it] "
     ]
    },
    {
     "name": "stdout",
     "output_type": "stream",
     "text": [
      "Fetched number of followers ids for mkhammer : 15000\n",
      "Getting Followers ids of MLevitt_NP2013\n"
     ]
    },
    {
     "name": "stderr",
     "output_type": "stream",
     "text": [
      "Rate limit reached. Sleeping for: 894\n",
      " 86%|████████▌ | 1103/1288 [55:23:25<16:44:47, 325.88s/it]"
     ]
    },
    {
     "name": "stdout",
     "output_type": "stream",
     "text": [
      "Fetched number of followers ids for MLevitt_NP2013 : 15000\n",
      "Getting Followers ids of morninggloria\n"
     ]
    },
    {
     "name": "stderr",
     "output_type": "stream",
     "text": [
      "\r",
      " 86%|████████▌ | 1104/1288 [55:23:28<11:42:50, 229.19s/it]"
     ]
    },
    {
     "name": "stdout",
     "output_type": "stream",
     "text": [
      "Fetched number of followers ids for morninggloria : 15000\n",
      "Getting Followers ids of MostlyWriting\n"
     ]
    },
    {
     "name": "stderr",
     "output_type": "stream",
     "text": [
      "\r",
      " 86%|████████▌ | 1105/1288 [55:23:30<8:10:38, 160.87s/it] "
     ]
    },
    {
     "name": "stdout",
     "output_type": "stream",
     "text": [
      "Fetched number of followers ids for MostlyWriting : 15000\n",
      "Getting Followers ids of mrmoneymustache\n"
     ]
    },
    {
     "name": "stderr",
     "output_type": "stream",
     "text": [
      "\r",
      " 86%|████████▌ | 1106/1288 [55:23:31<5:42:54, 113.05s/it]"
     ]
    },
    {
     "name": "stdout",
     "output_type": "stream",
     "text": [
      "Fetched number of followers ids for mrmoneymustache : 15000\n",
      "Getting Followers ids of msuster\n"
     ]
    },
    {
     "name": "stderr",
     "output_type": "stream",
     "text": [
      "\r",
      " 86%|████████▌ | 1107/1288 [55:23:35<4:02:15, 80.31s/it] "
     ]
    },
    {
     "name": "stdout",
     "output_type": "stream",
     "text": [
      "Fetched number of followers ids for msuster : 15000\n",
      "Getting Followers ids of muddywatersre\n"
     ]
    },
    {
     "name": "stderr",
     "output_type": "stream",
     "text": [
      "Rate limit reached. Sleeping for: 890\n",
      " 86%|████████▌ | 1108/1288 [55:38:32<16:15:45, 325.25s/it]"
     ]
    },
    {
     "name": "stdout",
     "output_type": "stream",
     "text": [
      "Fetched number of followers ids for muddywatersre : 15000\n",
      "Getting Followers ids of MysteryGuitarM\n"
     ]
    },
    {
     "name": "stderr",
     "output_type": "stream",
     "text": [
      "\r",
      " 86%|████████▌ | 1109/1288 [55:38:35<11:22:21, 228.72s/it]"
     ]
    },
    {
     "name": "stdout",
     "output_type": "stream",
     "text": [
      "Fetched number of followers ids for MysteryGuitarM : 15000\n",
      "Getting Followers ids of NadineDorries\n"
     ]
    },
    {
     "name": "stderr",
     "output_type": "stream",
     "text": [
      "\r",
      " 86%|████████▌ | 1110/1288 [55:38:37<7:56:20, 160.57s/it] "
     ]
    },
    {
     "name": "stdout",
     "output_type": "stream",
     "text": [
      "Fetched number of followers ids for NadineDorries : 15000\n",
      "Getting Followers ids of NASAspinoff\n"
     ]
    },
    {
     "name": "stderr",
     "output_type": "stream",
     "text": [
      "\r",
      " 86%|████████▋ | 1111/1288 [55:38:38<5:32:52, 112.84s/it]"
     ]
    },
    {
     "name": "stdout",
     "output_type": "stream",
     "text": [
      "Fetched number of followers ids for NASAspinoff : 15000\n",
      "Getting Followers ids of natalietran\n"
     ]
    },
    {
     "name": "stderr",
     "output_type": "stream",
     "text": [
      "\r",
      " 86%|████████▋ | 1112/1288 [55:38:40<3:52:58, 79.42s/it] "
     ]
    },
    {
     "name": "stdout",
     "output_type": "stream",
     "text": [
      "Fetched number of followers ids for natalietran : 15000\n",
      "Getting Followers ids of natsechobbyist\n"
     ]
    },
    {
     "name": "stderr",
     "output_type": "stream",
     "text": [
      "Rate limit reached. Sleeping for: 892\n",
      " 86%|████████▋ | 1113/1288 [55:53:43<15:52:40, 326.63s/it]"
     ]
    },
    {
     "name": "stdout",
     "output_type": "stream",
     "text": [
      "Fetched number of followers ids for natsechobbyist : 15000\n",
      "Getting Followers ids of natvanlis\n"
     ]
    },
    {
     "name": "stderr",
     "output_type": "stream",
     "text": [
      "\r",
      " 86%|████████▋ | 1114/1288 [55:53:45<11:04:26, 229.12s/it]"
     ]
    },
    {
     "name": "stdout",
     "output_type": "stream",
     "text": [
      "Fetched number of followers ids for natvanlis : 15000\n",
      "Getting Followers ids of nbrez\n"
     ]
    },
    {
     "name": "stderr",
     "output_type": "stream",
     "text": [
      "\r",
      " 87%|████████▋ | 1115/1288 [55:53:46<7:43:41, 160.82s/it] "
     ]
    },
    {
     "name": "stdout",
     "output_type": "stream",
     "text": [
      "Fetched number of followers ids for nbrez : 15000\n",
      "Getting Followers ids of NdamukongSuh\n"
     ]
    },
    {
     "name": "stderr",
     "output_type": "stream",
     "text": [
      "\r",
      " 87%|████████▋ | 1116/1288 [55:53:48<5:23:59, 113.02s/it]"
     ]
    },
    {
     "name": "stdout",
     "output_type": "stream",
     "text": [
      "Fetched number of followers ids for NdamukongSuh : 15000\n",
      "Getting Followers ids of nedboulting\n"
     ]
    },
    {
     "name": "stderr",
     "output_type": "stream",
     "text": [
      "\r",
      " 87%|████████▋ | 1117/1288 [55:53:49<3:46:44, 79.56s/it] "
     ]
    },
    {
     "name": "stdout",
     "output_type": "stream",
     "text": [
      "Fetched number of followers ids for nedboulting : 15000\n",
      "Getting Followers ids of NedsDread\n"
     ]
    },
    {
     "name": "stderr",
     "output_type": "stream",
     "text": [
      "Rate limit reached. Sleeping for: 889\n",
      " 87%|████████▋ | 1118/1288 [56:08:45<15:19:10, 324.41s/it]"
     ]
    },
    {
     "name": "stdout",
     "output_type": "stream",
     "text": [
      "Fetched number of followers ids for NedsDread : 15000\n",
      "Getting Followers ids of neilcic\n"
     ]
    },
    {
     "name": "stderr",
     "output_type": "stream",
     "text": [
      "\r",
      " 87%|████████▋ | 1119/1288 [56:08:47<10:40:55, 227.55s/it]"
     ]
    },
    {
     "name": "stdout",
     "output_type": "stream",
     "text": [
      "Fetched number of followers ids for neilcic : 15000\n",
      "Getting Followers ids of NicDawes\n"
     ]
    },
    {
     "name": "stderr",
     "output_type": "stream",
     "text": [
      "\r",
      " 87%|████████▋ | 1120/1288 [56:08:48<7:27:14, 159.73s/it] "
     ]
    },
    {
     "name": "stdout",
     "output_type": "stream",
     "text": [
      "Fetched number of followers ids for NicDawes : 15000\n",
      "Getting Followers ids of nickopiyo\n"
     ]
    },
    {
     "name": "stderr",
     "output_type": "stream",
     "text": [
      "\r",
      " 87%|████████▋ | 1121/1288 [56:08:50<5:12:29, 112.27s/it]"
     ]
    },
    {
     "name": "stdout",
     "output_type": "stream",
     "text": [
      "Fetched number of followers ids for nickopiyo : 15000\n",
      "Getting Followers ids of NidaKirmani\n"
     ]
    },
    {
     "name": "stderr",
     "output_type": "stream",
     "text": [
      "\r",
      " 87%|████████▋ | 1122/1288 [56:08:51<3:38:42, 79.05s/it] "
     ]
    },
    {
     "name": "stdout",
     "output_type": "stream",
     "text": [
      "Fetched number of followers ids for NidaKirmani : 15000\n",
      "Getting Followers ids of NifMuhammad\n"
     ]
    },
    {
     "name": "stderr",
     "output_type": "stream",
     "text": [
      "Rate limit reached. Sleeping for: 894\n",
      " 87%|████████▋ | 1123/1288 [56:23:52<14:55:14, 325.54s/it]"
     ]
    },
    {
     "name": "stdout",
     "output_type": "stream",
     "text": [
      "Fetched number of followers ids for NifMuhammad : 15000\n",
      "Getting Followers ids of nightstandreads\n"
     ]
    },
    {
     "name": "stderr",
     "output_type": "stream",
     "text": [
      "\r",
      " 87%|████████▋ | 1124/1288 [56:23:53<10:24:08, 228.34s/it]"
     ]
    },
    {
     "name": "stdout",
     "output_type": "stream",
     "text": [
      "Fetched number of followers ids for nightstandreads : 15000\n",
      "Getting Followers ids of nikicheong\n"
     ]
    },
    {
     "name": "stderr",
     "output_type": "stream",
     "text": [
      "\r",
      " 87%|████████▋ | 1125/1288 [56:23:58<7:17:54, 161.19s/it] "
     ]
    },
    {
     "name": "stdout",
     "output_type": "stream",
     "text": [
      "Fetched number of followers ids for nikicheong : 15000\n",
      "Getting Followers ids of nishiurah\n"
     ]
    },
    {
     "name": "stderr",
     "output_type": "stream",
     "text": [
      "\r",
      " 87%|████████▋ | 1126/1288 [56:24:02<5:07:58, 114.07s/it]"
     ]
    },
    {
     "name": "stdout",
     "output_type": "stream",
     "text": [
      "Fetched number of followers ids for nishiurah : 15000\n",
      "Getting Followers ids of nplusonemag\n"
     ]
    },
    {
     "name": "stderr",
     "output_type": "stream",
     "text": [
      "\r",
      " 88%|████████▊ | 1127/1288 [56:24:04<3:35:28, 80.30s/it] "
     ]
    },
    {
     "name": "stdout",
     "output_type": "stream",
     "text": [
      "Fetched number of followers ids for nplusonemag : 15000\n",
      "Getting Followers ids of OlanRogers\n"
     ]
    },
    {
     "name": "stderr",
     "output_type": "stream",
     "text": [
      "Rate limit reached. Sleeping for: 888\n",
      " 88%|████████▊ | 1128/1288 [56:38:58<14:25:45, 324.66s/it]"
     ]
    },
    {
     "name": "stdout",
     "output_type": "stream",
     "text": [
      "Fetched number of followers ids for OlanRogers : 15000\n",
      "Getting Followers ids of OskSta\n"
     ]
    },
    {
     "name": "stderr",
     "output_type": "stream",
     "text": [
      "\r",
      " 88%|████████▊ | 1129/1288 [56:39:00<10:03:26, 227.71s/it]"
     ]
    },
    {
     "name": "stdout",
     "output_type": "stream",
     "text": [
      "Fetched number of followers ids for OskSta : 15000\n",
      "Getting Followers ids of ossia\n"
     ]
    },
    {
     "name": "stderr",
     "output_type": "stream",
     "text": [
      "\r",
      " 88%|████████▊ | 1130/1288 [56:39:01<7:00:57, 159.86s/it] "
     ]
    },
    {
     "name": "stdout",
     "output_type": "stream",
     "text": [
      "Fetched number of followers ids for ossia : 15000\n",
      "Getting Followers ids of p0sixninja\n"
     ]
    },
    {
     "name": "stderr",
     "output_type": "stream",
     "text": [
      "\r",
      " 88%|████████▊ | 1131/1288 [56:39:03<4:53:59, 112.35s/it]"
     ]
    },
    {
     "name": "stdout",
     "output_type": "stream",
     "text": [
      "Fetched number of followers ids for p0sixninja : 15000\n",
      "Getting Followers ids of ParkerMolloy\n"
     ]
    },
    {
     "name": "stderr",
     "output_type": "stream",
     "text": [
      "\r",
      " 88%|████████▊ | 1132/1288 [56:39:04<3:25:38, 79.09s/it] "
     ]
    },
    {
     "name": "stdout",
     "output_type": "stream",
     "text": [
      "Fetched number of followers ids for ParkerMolloy : 15000\n",
      "Getting Followers ids of PatFlynn\n"
     ]
    },
    {
     "name": "stderr",
     "output_type": "stream",
     "text": [
      "Rate limit reached. Sleeping for: 894\n",
      " 88%|████████▊ | 1133/1288 [56:54:05<14:01:04, 325.58s/it]"
     ]
    },
    {
     "name": "stdout",
     "output_type": "stream",
     "text": [
      "Fetched number of followers ids for PatFlynn : 15000\n",
      "Getting Followers ids of patrick_oshag\n"
     ]
    },
    {
     "name": "stderr",
     "output_type": "stream",
     "text": [
      "\r",
      " 88%|████████▊ | 1134/1288 [56:54:07<9:46:05, 228.35s/it] "
     ]
    },
    {
     "name": "stdout",
     "output_type": "stream",
     "text": [
      "Fetched number of followers ids for patrick_oshag : 15000\n",
      "Getting Followers ids of paulscheer\n"
     ]
    },
    {
     "name": "stderr",
     "output_type": "stream",
     "text": [
      "\r",
      " 88%|████████▊ | 1135/1288 [56:54:08<6:48:44, 160.29s/it]"
     ]
    },
    {
     "name": "stdout",
     "output_type": "stream",
     "text": [
      "Fetched number of followers ids for paulscheer : 15000\n",
      "Getting Followers ids of Peter_Fitz\n"
     ]
    },
    {
     "name": "stderr",
     "output_type": "stream",
     "text": [
      "\r",
      " 88%|████████▊ | 1136/1288 [56:54:10<4:45:23, 112.65s/it]"
     ]
    },
    {
     "name": "stdout",
     "output_type": "stream",
     "text": [
      "Fetched number of followers ids for Peter_Fitz : 15000\n",
      "Getting Followers ids of pixelatedboat\n"
     ]
    },
    {
     "name": "stderr",
     "output_type": "stream",
     "text": [
      "\r",
      " 88%|████████▊ | 1137/1288 [56:54:11<3:19:33, 79.29s/it] "
     ]
    },
    {
     "name": "stdout",
     "output_type": "stream",
     "text": [
      "Fetched number of followers ids for pixelatedboat : 15000\n",
      "Getting Followers ids of pixlpit\n"
     ]
    },
    {
     "name": "stderr",
     "output_type": "stream",
     "text": [
      "Rate limit reached. Sleeping for: 895\n",
      " 88%|████████▊ | 1138/1288 [57:09:13<13:35:07, 326.05s/it]"
     ]
    },
    {
     "name": "stdout",
     "output_type": "stream",
     "text": [
      "Fetched number of followers ids for pixlpit : 15000\n",
      "Getting Followers ids of planet4589\n"
     ]
    },
    {
     "name": "stderr",
     "output_type": "stream",
     "text": [
      "\r",
      " 88%|████████▊ | 1139/1288 [57:09:14<9:27:53, 228.68s/it] "
     ]
    },
    {
     "name": "stdout",
     "output_type": "stream",
     "text": [
      "Fetched number of followers ids for planet4589 : 15000\n",
      "Getting Followers ids of primalpoly\n"
     ]
    },
    {
     "name": "stderr",
     "output_type": "stream",
     "text": [
      "\r",
      " 89%|████████▊ | 1140/1288 [57:09:22<6:40:39, 162.43s/it]"
     ]
    },
    {
     "name": "stdout",
     "output_type": "stream",
     "text": [
      "Fetched number of followers ids for primalpoly : 15000\n",
      "Getting Followers ids of ProfPCDoherty\n"
     ]
    },
    {
     "name": "stderr",
     "output_type": "stream",
     "text": [
      "\r",
      " 89%|████████▊ | 1141/1288 [57:09:24<4:39:58, 114.28s/it]"
     ]
    },
    {
     "name": "stdout",
     "output_type": "stream",
     "text": [
      "Fetched number of followers ids for ProfPCDoherty : 15000\n",
      "Getting Followers ids of Quinns108\n"
     ]
    },
    {
     "name": "stderr",
     "output_type": "stream",
     "text": [
      "\r",
      " 89%|████████▊ | 1142/1288 [57:09:26<3:15:57, 80.53s/it] "
     ]
    },
    {
     "name": "stdout",
     "output_type": "stream",
     "text": [
      "Fetched number of followers ids for Quinns108 : 15000\n",
      "Getting Followers ids of rabiasquared\n"
     ]
    },
    {
     "name": "stderr",
     "output_type": "stream",
     "text": [
      "Rate limit reached. Sleeping for: 887\n",
      " 89%|████████▊ | 1143/1288 [57:24:20<13:04:14, 324.51s/it]"
     ]
    },
    {
     "name": "stdout",
     "output_type": "stream",
     "text": [
      "Fetched number of followers ids for rabiasquared : 15000\n",
      "Getting Followers ids of RachelRileyRR\n"
     ]
    },
    {
     "name": "stderr",
     "output_type": "stream",
     "text": [
      "\r",
      " 89%|████████▉ | 1144/1288 [57:24:21<9:06:28, 227.70s/it] "
     ]
    },
    {
     "name": "stdout",
     "output_type": "stream",
     "text": [
      "Fetched number of followers ids for RachelRileyRR : 15000\n",
      "Getting Followers ids of RajivMessage\n"
     ]
    },
    {
     "name": "stderr",
     "output_type": "stream",
     "text": [
      "\r",
      " 89%|████████▉ | 1145/1288 [57:24:23<6:21:10, 159.94s/it]"
     ]
    },
    {
     "name": "stdout",
     "output_type": "stream",
     "text": [
      "Fetched number of followers ids for RajivMessage : 15000\n",
      "Getting Followers ids of RalfLittle\n"
     ]
    },
    {
     "name": "stderr",
     "output_type": "stream",
     "text": [
      "\r",
      " 89%|████████▉ | 1146/1288 [57:24:25<4:26:01, 112.41s/it]"
     ]
    },
    {
     "name": "stdout",
     "output_type": "stream",
     "text": [
      "Fetched number of followers ids for RalfLittle : 15000\n",
      "Getting Followers ids of ravenscimaven\n"
     ]
    },
    {
     "name": "stderr",
     "output_type": "stream",
     "text": [
      "\r",
      " 89%|████████▉ | 1147/1288 [57:24:26<3:06:01, 79.16s/it] "
     ]
    },
    {
     "name": "stdout",
     "output_type": "stream",
     "text": [
      "Fetched number of followers ids for ravenscimaven : 15000\n",
      "Getting Followers ids of RealDoctorMike\n"
     ]
    },
    {
     "name": "stderr",
     "output_type": "stream",
     "text": [
      "Rate limit reached. Sleeping for: 893\n",
      " 89%|████████▉ | 1148/1288 [57:39:26<12:39:07, 325.34s/it]"
     ]
    },
    {
     "name": "stdout",
     "output_type": "stream",
     "text": [
      "Fetched number of followers ids for RealDoctorMike : 15000\n",
      "Getting Followers ids of realmatbaynton\n"
     ]
    },
    {
     "name": "stderr",
     "output_type": "stream",
     "text": [
      "\r",
      " 89%|████████▉ | 1149/1288 [57:39:28<8:48:36, 228.18s/it] "
     ]
    },
    {
     "name": "stdout",
     "output_type": "stream",
     "text": [
      "Fetched number of followers ids for realmatbaynton : 15000\n",
      "Getting Followers ids of RediTlhabi\n"
     ]
    },
    {
     "name": "stderr",
     "output_type": "stream",
     "text": [
      "\r",
      " 89%|████████▉ | 1150/1288 [57:39:33<6:10:49, 161.23s/it]"
     ]
    },
    {
     "name": "stdout",
     "output_type": "stream",
     "text": [
      "Fetched number of followers ids for RediTlhabi : 15000\n",
      "Getting Followers ids of ReeceShearsmith\n"
     ]
    },
    {
     "name": "stderr",
     "output_type": "stream",
     "text": [
      "\r",
      " 89%|████████▉ | 1151/1288 [57:39:35<4:19:09, 113.50s/it]"
     ]
    },
    {
     "name": "stdout",
     "output_type": "stream",
     "text": [
      "Fetched number of followers ids for ReeceShearsmith : 15000\n",
      "Getting Followers ids of RGA\n"
     ]
    },
    {
     "name": "stderr",
     "output_type": "stream",
     "text": [
      "\r",
      " 89%|████████▉ | 1152/1288 [57:39:38<3:02:33, 80.54s/it] "
     ]
    },
    {
     "name": "stdout",
     "output_type": "stream",
     "text": [
      "Fetched number of followers ids for RGA : 15000\n",
      "Getting Followers ids of rhettmc\n"
     ]
    },
    {
     "name": "stderr",
     "output_type": "stream",
     "text": [
      "Rate limit reached. Sleeping for: 888\n",
      " 90%|████████▉ | 1153/1288 [57:54:33<12:10:47, 324.80s/it]"
     ]
    },
    {
     "name": "stdout",
     "output_type": "stream",
     "text": [
      "Fetched number of followers ids for rhettmc : 15000\n",
      "Getting Followers ids of RichardHammond\n"
     ]
    },
    {
     "name": "stderr",
     "output_type": "stream",
     "text": [
      "\r",
      " 90%|████████▉ | 1154/1288 [57:54:35<8:28:47, 227.82s/it] "
     ]
    },
    {
     "name": "stdout",
     "output_type": "stream",
     "text": [
      "Fetched number of followers ids for RichardHammond : 15000\n",
      "Getting Followers ids of Ridd1e\n"
     ]
    },
    {
     "name": "stderr",
     "output_type": "stream",
     "text": [
      "\r",
      " 90%|████████▉ | 1155/1288 [57:54:36<5:54:35, 159.96s/it]"
     ]
    },
    {
     "name": "stdout",
     "output_type": "stream",
     "text": [
      "Fetched number of followers ids for Ridd1e : 15000\n",
      "Getting Followers ids of rk\n"
     ]
    },
    {
     "name": "stderr",
     "output_type": "stream",
     "text": [
      "\r",
      " 90%|████████▉ | 1156/1288 [57:54:38<4:07:19, 112.42s/it]"
     ]
    },
    {
     "name": "stdout",
     "output_type": "stream",
     "text": [
      "Fetched number of followers ids for rk : 15000\n",
      "Getting Followers ids of Road_2_Ft_Worth\n"
     ]
    },
    {
     "name": "stderr",
     "output_type": "stream",
     "text": [
      "\r",
      " 90%|████████▉ | 1157/1288 [57:54:39<2:52:50, 79.16s/it] "
     ]
    },
    {
     "name": "stdout",
     "output_type": "stream",
     "text": [
      "Fetched number of followers ids for Road_2_Ft_Worth : 15000\n",
      "Getting Followers ids of RogerCraigSmith\n"
     ]
    },
    {
     "name": "stderr",
     "output_type": "stream",
     "text": [
      "Rate limit reached. Sleeping for: 894\n",
      " 90%|████████▉ | 1158/1288 [58:09:40<11:45:36, 325.66s/it]"
     ]
    },
    {
     "name": "stdout",
     "output_type": "stream",
     "text": [
      "Fetched number of followers ids for RogerCraigSmith : 15000\n",
      "Getting Followers ids of RomeenSheth\n"
     ]
    },
    {
     "name": "stderr",
     "output_type": "stream",
     "text": [
      "\r",
      " 90%|████████▉ | 1159/1288 [58:09:42<8:11:05, 228.42s/it] "
     ]
    },
    {
     "name": "stdout",
     "output_type": "stream",
     "text": [
      "Fetched number of followers ids for RomeenSheth : 15000\n",
      "Getting Followers ids of RorySmith\n"
     ]
    },
    {
     "name": "stderr",
     "output_type": "stream",
     "text": [
      "\r",
      " 90%|█████████ | 1160/1288 [58:09:44<5:42:18, 160.46s/it]"
     ]
    },
    {
     "name": "stdout",
     "output_type": "stream",
     "text": [
      "Fetched number of followers ids for RorySmith : 15000\n",
      "Getting Followers ids of rorysutherland\n"
     ]
    },
    {
     "name": "stderr",
     "output_type": "stream",
     "text": [
      "\r",
      " 90%|█████████ | 1161/1288 [58:09:45<3:58:52, 112.86s/it]"
     ]
    },
    {
     "name": "stdout",
     "output_type": "stream",
     "text": [
      "Fetched number of followers ids for rorysutherland : 15000\n",
      "Getting Followers ids of rsarver\n"
     ]
    },
    {
     "name": "stderr",
     "output_type": "stream",
     "text": [
      "\r",
      " 90%|█████████ | 1162/1288 [58:09:47<2:46:51, 79.45s/it] "
     ]
    },
    {
     "name": "stdout",
     "output_type": "stream",
     "text": [
      "Fetched number of followers ids for rsarver : 15000\n",
      "Getting Followers ids of Rubberbandits\n"
     ]
    },
    {
     "name": "stderr",
     "output_type": "stream",
     "text": [
      "Rate limit reached. Sleeping for: 894\n",
      " 90%|█████████ | 1163/1288 [58:24:48<11:18:49, 325.84s/it]"
     ]
    },
    {
     "name": "stdout",
     "output_type": "stream",
     "text": [
      "Fetched number of followers ids for Rubberbandits : 15000\n",
      "Getting Followers ids of safalniveshak\n"
     ]
    },
    {
     "name": "stderr",
     "output_type": "stream",
     "text": [
      "\r",
      " 90%|█████████ | 1164/1288 [58:24:49<7:52:27, 228.61s/it] "
     ]
    },
    {
     "name": "stdout",
     "output_type": "stream",
     "text": [
      "Fetched number of followers ids for safalniveshak : 15000\n",
      "Getting Followers ids of saikatd\n"
     ]
    },
    {
     "name": "stderr",
     "output_type": "stream",
     "text": [
      "\r",
      " 90%|█████████ | 1165/1288 [58:24:51<5:29:01, 160.50s/it]"
     ]
    },
    {
     "name": "stdout",
     "output_type": "stream",
     "text": [
      "Fetched number of followers ids for saikatd : 15000\n",
      "Getting Followers ids of samsanders\n"
     ]
    },
    {
     "name": "stderr",
     "output_type": "stream",
     "text": [
      "\r",
      " 91%|█████████ | 1166/1288 [58:24:52<3:49:20, 112.79s/it]"
     ]
    },
    {
     "name": "stdout",
     "output_type": "stream",
     "text": [
      "Fetched number of followers ids for samsanders : 15000\n",
      "Getting Followers ids of SamSmithTweets\n"
     ]
    },
    {
     "name": "stderr",
     "output_type": "stream",
     "text": [
      "\r",
      " 91%|█████████ | 1167/1288 [58:24:54<2:40:10, 79.43s/it] "
     ]
    },
    {
     "name": "stdout",
     "output_type": "stream",
     "text": [
      "Fetched number of followers ids for SamSmithTweets : 15000\n",
      "Getting Followers ids of Sanjay__Bakshi\n"
     ]
    },
    {
     "name": "stderr",
     "output_type": "stream",
     "text": [
      "Rate limit reached. Sleeping for: 894\n",
      " 91%|█████████ | 1168/1288 [58:39:55<10:51:40, 325.84s/it]"
     ]
    },
    {
     "name": "stdout",
     "output_type": "stream",
     "text": [
      "Fetched number of followers ids for Sanjay__Bakshi : 15000\n",
      "Getting Followers ids of SantiagoAuFund\n"
     ]
    },
    {
     "name": "stderr",
     "output_type": "stream",
     "text": [
      "\r",
      " 91%|█████████ | 1169/1288 [58:39:56<7:33:14, 228.53s/it] "
     ]
    },
    {
     "name": "stdout",
     "output_type": "stream",
     "text": [
      "Fetched number of followers ids for SantiagoAuFund : 15000\n",
      "Getting Followers ids of sarahaines\n"
     ]
    },
    {
     "name": "stderr",
     "output_type": "stream",
     "text": [
      "\r",
      " 91%|█████████ | 1170/1288 [58:39:58<5:15:29, 160.42s/it]"
     ]
    },
    {
     "name": "stdout",
     "output_type": "stream",
     "text": [
      "Fetched number of followers ids for sarahaines : 15000\n",
      "Getting Followers ids of sarah_edo\n"
     ]
    },
    {
     "name": "stderr",
     "output_type": "stream",
     "text": [
      "\r",
      " 91%|█████████ | 1171/1288 [58:39:59<3:39:50, 112.74s/it]"
     ]
    },
    {
     "name": "stdout",
     "output_type": "stream",
     "text": [
      "Fetched number of followers ids for sarah_edo : 15000\n",
      "Getting Followers ids of SaraSoueidan\n"
     ]
    },
    {
     "name": "stderr",
     "output_type": "stream",
     "text": [
      "\r",
      " 91%|█████████ | 1172/1288 [58:40:01<2:33:25, 79.36s/it] "
     ]
    },
    {
     "name": "stdout",
     "output_type": "stream",
     "text": [
      "Fetched number of followers ids for SaraSoueidan : 15000\n",
      "Getting Followers ids of SaritaTanwar\n"
     ]
    },
    {
     "name": "stderr",
     "output_type": "stream",
     "text": [
      "Rate limit reached. Sleeping for: 894\n",
      " 91%|█████████ | 1173/1288 [58:55:01<10:24:26, 325.80s/it]"
     ]
    },
    {
     "name": "stdout",
     "output_type": "stream",
     "text": [
      "Fetched number of followers ids for SaritaTanwar : 15000\n",
      "Getting Followers ids of sbattrawden\n"
     ]
    },
    {
     "name": "stderr",
     "output_type": "stream",
     "text": [
      "\r",
      " 91%|█████████ | 1174/1288 [58:55:06<7:15:45, 229.35s/it] "
     ]
    },
    {
     "name": "stdout",
     "output_type": "stream",
     "text": [
      "Fetched number of followers ids for sbattrawden : 15000\n",
      "Getting Followers ids of SchadenJake\n"
     ]
    },
    {
     "name": "stderr",
     "output_type": "stream",
     "text": [
      "\r",
      " 91%|█████████ | 1175/1288 [58:55:07<5:03:12, 161.00s/it]"
     ]
    },
    {
     "name": "stdout",
     "output_type": "stream",
     "text": [
      "Fetched number of followers ids for SchadenJake : 15000\n",
      "Getting Followers ids of ScienceAlert\n"
     ]
    },
    {
     "name": "stderr",
     "output_type": "stream",
     "text": [
      "\r",
      " 91%|█████████▏| 1176/1288 [58:55:09<3:31:12, 113.15s/it]"
     ]
    },
    {
     "name": "stdout",
     "output_type": "stream",
     "text": [
      "Fetched number of followers ids for ScienceAlert : 15000\n",
      "Getting Followers ids of scottbelsky\n"
     ]
    },
    {
     "name": "stderr",
     "output_type": "stream",
     "text": [
      "\r",
      " 91%|█████████▏| 1177/1288 [58:55:12<2:28:22, 80.20s/it] "
     ]
    },
    {
     "name": "stdout",
     "output_type": "stream",
     "text": [
      "Fetched number of followers ids for scottbelsky : 15000\n",
      "Getting Followers ids of scottmccloud\n"
     ]
    },
    {
     "name": "stderr",
     "output_type": "stream",
     "text": [
      "Rate limit reached. Sleeping for: 890\n",
      " 91%|█████████▏| 1178/1288 [59:10:09<9:56:10, 325.19s/it]"
     ]
    },
    {
     "name": "stdout",
     "output_type": "stream",
     "text": [
      "Fetched number of followers ids for scottmccloud : 15000\n",
      "Getting Followers ids of scrippsresearch\n"
     ]
    },
    {
     "name": "stderr",
     "output_type": "stream",
     "text": [
      "\r",
      " 92%|█████████▏| 1179/1288 [59:10:13<6:55:52, 228.92s/it]"
     ]
    },
    {
     "name": "stdout",
     "output_type": "stream",
     "text": [
      "Fetched number of followers ids for scrippsresearch : 15000\n",
      "Getting Followers ids of seamusdever\n"
     ]
    },
    {
     "name": "stderr",
     "output_type": "stream",
     "text": [
      "\r",
      " 92%|█████████▏| 1180/1288 [59:10:15<4:49:14, 160.69s/it]"
     ]
    },
    {
     "name": "stdout",
     "output_type": "stream",
     "text": [
      "Fetched number of followers ids for seamusdever : 15000\n",
      "Getting Followers ids of SethAMandel\n"
     ]
    },
    {
     "name": "stderr",
     "output_type": "stream",
     "text": [
      "\r",
      " 92%|█████████▏| 1181/1288 [59:10:16<3:21:23, 112.93s/it]"
     ]
    },
    {
     "name": "stdout",
     "output_type": "stream",
     "text": [
      "Fetched number of followers ids for SethAMandel : 15000\n",
      "Getting Followers ids of shaneharris\n"
     ]
    },
    {
     "name": "stderr",
     "output_type": "stream",
     "text": [
      "\r",
      " 92%|█████████▏| 1182/1288 [59:10:18<2:20:27, 79.51s/it] "
     ]
    },
    {
     "name": "stdout",
     "output_type": "stream",
     "text": [
      "Fetched number of followers ids for shaneharris : 15000\n",
      "Getting Followers ids of shannonwoodward\n"
     ]
    },
    {
     "name": "stderr",
     "output_type": "stream",
     "text": [
      "Rate limit reached. Sleeping for: 892\n",
      " 92%|█████████▏| 1183/1288 [59:25:16<9:29:14, 325.28s/it]"
     ]
    },
    {
     "name": "stdout",
     "output_type": "stream",
     "text": [
      "Fetched number of followers ids for shannonwoodward : 15000\n",
      "Getting Followers ids of ShepRose\n"
     ]
    },
    {
     "name": "stderr",
     "output_type": "stream",
     "text": [
      "\r",
      " 92%|█████████▏| 1184/1288 [59:25:18<6:35:25, 228.13s/it]"
     ]
    },
    {
     "name": "stdout",
     "output_type": "stream",
     "text": [
      "Fetched number of followers ids for ShepRose : 15000\n",
      "Getting Followers ids of shilpitewari\n"
     ]
    },
    {
     "name": "stderr",
     "output_type": "stream",
     "text": [
      "\r",
      " 92%|█████████▏| 1185/1288 [59:25:19<4:34:54, 160.14s/it]"
     ]
    },
    {
     "name": "stdout",
     "output_type": "stream",
     "text": [
      "Fetched number of followers ids for shilpitewari : 15000\n",
      "Getting Followers ids of SimonThomasTV\n"
     ]
    },
    {
     "name": "stderr",
     "output_type": "stream",
     "text": [
      "\r",
      " 92%|█████████▏| 1186/1288 [59:25:21<3:11:20, 112.56s/it]"
     ]
    },
    {
     "name": "stdout",
     "output_type": "stream",
     "text": [
      "Fetched number of followers ids for SimonThomasTV : 15000\n",
      "Getting Followers ids of SinnamonLove\n"
     ]
    },
    {
     "name": "stderr",
     "output_type": "stream",
     "text": [
      "\r",
      " 92%|█████████▏| 1187/1288 [59:25:22<2:13:22, 79.23s/it] "
     ]
    },
    {
     "name": "stdout",
     "output_type": "stream",
     "text": [
      "Fetched number of followers ids for SinnamonLove : 15000\n",
      "Getting Followers ids of SirLarr\n"
     ]
    },
    {
     "name": "stderr",
     "output_type": "stream",
     "text": [
      "Rate limit reached. Sleeping for: 894\n",
      " 92%|█████████▏| 1188/1288 [59:40:23<9:02:50, 325.70s/it]"
     ]
    },
    {
     "name": "stdout",
     "output_type": "stream",
     "text": [
      "Fetched number of followers ids for SirLarr : 15000\n",
      "Getting Followers ids of slatestarcodex\n"
     ]
    },
    {
     "name": "stderr",
     "output_type": "stream",
     "text": [
      "\r",
      " 92%|█████████▏| 1189/1288 [59:40:27<6:18:01, 229.10s/it]"
     ]
    },
    {
     "name": "stdout",
     "output_type": "stream",
     "text": [
      "Fetched number of followers ids for slatestarcodex : 15000\n",
      "Getting Followers ids of songri_la\n"
     ]
    },
    {
     "name": "stderr",
     "output_type": "stream",
     "text": [
      "\r",
      " 92%|█████████▏| 1190/1288 [59:40:30<4:23:38, 161.41s/it]"
     ]
    },
    {
     "name": "stdout",
     "output_type": "stream",
     "text": [
      "Fetched number of followers ids for songri_la : 15000\n",
      "Getting Followers ids of sportingintel\n"
     ]
    },
    {
     "name": "stderr",
     "output_type": "stream",
     "text": [
      "\r",
      " 92%|█████████▏| 1191/1288 [59:40:32<3:03:22, 113.43s/it]"
     ]
    },
    {
     "name": "stdout",
     "output_type": "stream",
     "text": [
      "Fetched number of followers ids for sportingintel : 15000\n",
      "Getting Followers ids of StephenMcGann\n"
     ]
    },
    {
     "name": "stderr",
     "output_type": "stream",
     "text": [
      "\r",
      " 93%|█████████▎| 1192/1288 [59:40:33<2:07:46, 79.86s/it] "
     ]
    },
    {
     "name": "stdout",
     "output_type": "stream",
     "text": [
      "Fetched number of followers ids for StephenMcGann : 15000\n",
      "Getting Followers ids of stephensackur\n"
     ]
    },
    {
     "name": "stderr",
     "output_type": "stream",
     "text": [
      "Rate limit reached. Sleeping for: 890\n",
      " 93%|█████████▎| 1193/1288 [59:55:30<8:34:34, 324.99s/it]"
     ]
    },
    {
     "name": "stdout",
     "output_type": "stream",
     "text": [
      "Fetched number of followers ids for stephensackur : 15000\n",
      "Getting Followers ids of SteveBartlettSC\n"
     ]
    },
    {
     "name": "stderr",
     "output_type": "stream",
     "text": [
      "\r",
      " 93%|█████████▎| 1194/1288 [59:55:32<5:57:08, 227.97s/it]"
     ]
    },
    {
     "name": "stdout",
     "output_type": "stream",
     "text": [
      "Fetched number of followers ids for SteveBartlettSC : 15000\n",
      "Getting Followers ids of SteveDeaceShow\n"
     ]
    },
    {
     "name": "stderr",
     "output_type": "stream",
     "text": [
      "\r",
      " 93%|█████████▎| 1195/1288 [59:55:33<4:08:01, 160.02s/it]"
     ]
    },
    {
     "name": "stdout",
     "output_type": "stream",
     "text": [
      "Fetched number of followers ids for SteveDeaceShow : 15000\n",
      "Getting Followers ids of SteveHofstetter\n"
     ]
    },
    {
     "name": "stderr",
     "output_type": "stream",
     "text": [
      "\r",
      " 93%|█████████▎| 1196/1288 [59:55:35<2:52:26, 112.47s/it]"
     ]
    },
    {
     "name": "stdout",
     "output_type": "stream",
     "text": [
      "Fetched number of followers ids for SteveHofstetter : 15000\n",
      "Getting Followers ids of StigAbell\n"
     ]
    },
    {
     "name": "stderr",
     "output_type": "stream",
     "text": [
      "\r",
      " 93%|█████████▎| 1197/1288 [59:55:36<2:00:06, 79.19s/it] "
     ]
    },
    {
     "name": "stdout",
     "output_type": "stream",
     "text": [
      "Fetched number of followers ids for StigAbell : 15000\n",
      "Getting Followers ids of stop\n"
     ]
    },
    {
     "name": "stderr",
     "output_type": "stream",
     "text": [
      "Rate limit reached. Sleeping for: 894\n",
      " 93%|█████████▎| 1198/1288 [60:10:37<8:08:28, 325.65s/it]"
     ]
    },
    {
     "name": "stdout",
     "output_type": "stream",
     "text": [
      "Fetched number of followers ids for stop : 15000\n",
      "Getting Followers ids of strobist\n"
     ]
    },
    {
     "name": "stderr",
     "output_type": "stream",
     "text": [
      "\r",
      " 93%|█████████▎| 1199/1288 [60:10:39<5:38:48, 228.41s/it]"
     ]
    },
    {
     "name": "stdout",
     "output_type": "stream",
     "text": [
      "Fetched number of followers ids for strobist : 15000\n",
      "Getting Followers ids of StuartHumphryes\n"
     ]
    },
    {
     "name": "stderr",
     "output_type": "stream",
     "text": [
      "\r",
      " 93%|█████████▎| 1200/1288 [60:10:40<3:55:08, 160.32s/it]"
     ]
    },
    {
     "name": "stdout",
     "output_type": "stream",
     "text": [
      "Fetched number of followers ids for StuartHumphryes : 15000\n",
      "Getting Followers ids of Superherologist\n"
     ]
    },
    {
     "name": "stderr",
     "output_type": "stream",
     "text": [
      "\r",
      " 93%|█████████▎| 1201/1288 [60:10:42<2:43:24, 112.70s/it]"
     ]
    },
    {
     "name": "stdout",
     "output_type": "stream",
     "text": [
      "Fetched number of followers ids for Superherologist : 15000\n",
      "Getting Followers ids of svpino\n"
     ]
    },
    {
     "name": "stderr",
     "output_type": "stream",
     "text": [
      "\r",
      " 93%|█████████▎| 1202/1288 [60:10:43<1:53:42, 79.34s/it] "
     ]
    },
    {
     "name": "stdout",
     "output_type": "stream",
     "text": [
      "Fetched number of followers ids for svpino : 15000\n",
      "Getting Followers ids of sweden\n"
     ]
    },
    {
     "name": "stderr",
     "output_type": "stream",
     "text": [
      "Rate limit reached. Sleeping for: 894\n",
      " 93%|█████████▎| 1203/1288 [60:25:44<7:41:29, 325.76s/it]"
     ]
    },
    {
     "name": "stdout",
     "output_type": "stream",
     "text": [
      "Fetched number of followers ids for sweden : 15000\n",
      "Getting Followers ids of SYSKPodcast\n"
     ]
    },
    {
     "name": "stderr",
     "output_type": "stream",
     "text": [
      "\r",
      " 93%|█████████▎| 1204/1288 [60:25:46<5:19:54, 228.51s/it]"
     ]
    },
    {
     "name": "stdout",
     "output_type": "stream",
     "text": [
      "Fetched number of followers ids for SYSKPodcast : 15000\n",
      "Getting Followers ids of tamarakeithNPR\n"
     ]
    },
    {
     "name": "stderr",
     "output_type": "stream",
     "text": [
      "\r",
      " 94%|█████████▎| 1205/1288 [60:25:47<3:41:54, 160.42s/it]"
     ]
    },
    {
     "name": "stdout",
     "output_type": "stream",
     "text": [
      "Fetched number of followers ids for tamarakeithNPR : 15000\n",
      "Getting Followers ids of taylorndean\n"
     ]
    },
    {
     "name": "stderr",
     "output_type": "stream",
     "text": [
      "\r",
      " 94%|█████████▎| 1206/1288 [60:25:49<2:34:06, 112.77s/it]"
     ]
    },
    {
     "name": "stdout",
     "output_type": "stream",
     "text": [
      "Fetched number of followers ids for taylorndean : 15000\n",
      "Getting Followers ids of tconrad\n"
     ]
    },
    {
     "name": "stderr",
     "output_type": "stream",
     "text": [
      "\r",
      " 94%|█████████▎| 1207/1288 [60:25:50<1:47:10, 79.39s/it] "
     ]
    },
    {
     "name": "stdout",
     "output_type": "stream",
     "text": [
      "Fetched number of followers ids for tconrad : 15000\n",
      "Getting Followers ids of teacherhead\n"
     ]
    },
    {
     "name": "stderr",
     "output_type": "stream",
     "text": [
      "Rate limit reached. Sleeping for: 894\n",
      " 94%|█████████▍| 1208/1288 [60:40:51<7:14:22, 325.79s/it]"
     ]
    },
    {
     "name": "stdout",
     "output_type": "stream",
     "text": [
      "Fetched number of followers ids for teacherhead : 15000\n",
      "Getting Followers ids of teddyboylocsin\n"
     ]
    },
    {
     "name": "stderr",
     "output_type": "stream",
     "text": [
      "\r",
      " 94%|█████████▍| 1209/1288 [60:40:52<5:00:51, 228.49s/it]"
     ]
    },
    {
     "name": "stdout",
     "output_type": "stream",
     "text": [
      "Fetched number of followers ids for teddyboylocsin : 15000\n",
      "Getting Followers ids of tedfujimoto\n"
     ]
    },
    {
     "name": "stderr",
     "output_type": "stream",
     "text": [
      "\r",
      " 94%|█████████▍| 1210/1288 [60:40:56<3:29:12, 160.93s/it]"
     ]
    },
    {
     "name": "stdout",
     "output_type": "stream",
     "text": [
      "Fetched number of followers ids for tedfujimoto : 15000\n",
      "Getting Followers ids of ThamKhaiMeng\n"
     ]
    },
    {
     "name": "stderr",
     "output_type": "stream",
     "text": [
      "\r",
      " 94%|█████████▍| 1211/1288 [60:40:57<2:25:07, 113.08s/it]"
     ]
    },
    {
     "name": "stdout",
     "output_type": "stream",
     "text": [
      "Fetched number of followers ids for ThamKhaiMeng : 15000\n",
      "Getting Followers ids of tha_rami\n"
     ]
    },
    {
     "name": "stderr",
     "output_type": "stream",
     "text": [
      "\r",
      " 94%|█████████▍| 1212/1288 [60:40:59<1:40:51, 79.62s/it] "
     ]
    },
    {
     "name": "stdout",
     "output_type": "stream",
     "text": [
      "Fetched number of followers ids for tha_rami : 15000\n",
      "Getting Followers ids of TheBabyGuyNYC\n"
     ]
    },
    {
     "name": "stderr",
     "output_type": "stream",
     "text": [
      "Rate limit reached. Sleeping for: 893\n",
      " 94%|█████████▍| 1213/1288 [60:55:58<6:47:06, 325.68s/it]"
     ]
    },
    {
     "name": "stdout",
     "output_type": "stream",
     "text": [
      "Fetched number of followers ids for TheBabyGuyNYC : 15000\n",
      "Getting Followers ids of thedarktangent\n"
     ]
    },
    {
     "name": "stderr",
     "output_type": "stream",
     "text": [
      "\r",
      " 94%|█████████▍| 1214/1288 [60:56:01<4:42:16, 228.87s/it]"
     ]
    },
    {
     "name": "stdout",
     "output_type": "stream",
     "text": [
      "Fetched number of followers ids for thedarktangent : 15000\n",
      "Getting Followers ids of thedavidcrosby\n"
     ]
    },
    {
     "name": "stderr",
     "output_type": "stream",
     "text": [
      "\r",
      " 94%|█████████▍| 1215/1288 [60:56:03<3:15:28, 160.67s/it]"
     ]
    },
    {
     "name": "stdout",
     "output_type": "stream",
     "text": [
      "Fetched number of followers ids for thedavidcrosby : 15000\n",
      "Getting Followers ids of TheGamingLemon\n"
     ]
    },
    {
     "name": "stderr",
     "output_type": "stream",
     "text": [
      "\r",
      " 94%|█████████▍| 1216/1288 [60:56:04<2:15:29, 112.91s/it]"
     ]
    },
    {
     "name": "stdout",
     "output_type": "stream",
     "text": [
      "Fetched number of followers ids for TheGamingLemon : 15000\n",
      "Getting Followers ids of TheHazelHayes\n"
     ]
    },
    {
     "name": "stderr",
     "output_type": "stream",
     "text": [
      "\r",
      " 94%|█████████▍| 1217/1288 [60:56:08<1:34:50, 80.15s/it] "
     ]
    },
    {
     "name": "stdout",
     "output_type": "stream",
     "text": [
      "Fetched number of followers ids for TheHazelHayes : 15000\n",
      "Getting Followers ids of thekjohnston\n"
     ]
    },
    {
     "name": "stderr",
     "output_type": "stream",
     "text": [
      "Rate limit reached. Sleeping for: 891\n",
      " 95%|█████████▍| 1218/1288 [61:11:08<6:20:23, 326.05s/it]"
     ]
    },
    {
     "name": "stdout",
     "output_type": "stream",
     "text": [
      "Fetched number of followers ids for thekjohnston : 15000\n",
      "Getting Followers ids of TherealNihal\n"
     ]
    },
    {
     "name": "stderr",
     "output_type": "stream",
     "text": [
      "\r",
      " 95%|█████████▍| 1219/1288 [61:11:10<4:23:00, 228.70s/it]"
     ]
    },
    {
     "name": "stdout",
     "output_type": "stream",
     "text": [
      "Fetched number of followers ids for TherealNihal : 15000\n",
      "Getting Followers ids of TheReelRandom\n"
     ]
    },
    {
     "name": "stderr",
     "output_type": "stream",
     "text": [
      "\r",
      " 95%|█████████▍| 1220/1288 [61:11:13<3:02:37, 161.14s/it]"
     ]
    },
    {
     "name": "stdout",
     "output_type": "stream",
     "text": [
      "Fetched number of followers ids for TheReelRandom : 15000\n",
      "Getting Followers ids of theSamParr\n"
     ]
    },
    {
     "name": "stderr",
     "output_type": "stream",
     "text": [
      "\r",
      " 95%|█████████▍| 1221/1288 [61:11:15<2:06:28, 113.26s/it]"
     ]
    },
    {
     "name": "stdout",
     "output_type": "stream",
     "text": [
      "Fetched number of followers ids for theSamParr : 15000\n",
      "Getting Followers ids of TheSiskar\n"
     ]
    },
    {
     "name": "stderr",
     "output_type": "stream",
     "text": [
      "\r",
      " 95%|█████████▍| 1222/1288 [61:11:16<1:27:41, 79.72s/it] "
     ]
    },
    {
     "name": "stdout",
     "output_type": "stream",
     "text": [
      "Fetched number of followers ids for TheSiskar : 15000\n",
      "Getting Followers ids of thetomska\n"
     ]
    },
    {
     "name": "stderr",
     "output_type": "stream",
     "text": [
      "Rate limit reached. Sleeping for: 891\n",
      " 95%|█████████▍| 1223/1288 [61:26:14<5:52:14, 325.15s/it]"
     ]
    },
    {
     "name": "stdout",
     "output_type": "stream",
     "text": [
      "Fetched number of followers ids for thetomska : 15000\n",
      "Getting Followers ids of thomaschattwill\n"
     ]
    },
    {
     "name": "stderr",
     "output_type": "stream",
     "text": [
      "\r",
      " 95%|█████████▌| 1224/1288 [61:26:15<4:03:14, 228.04s/it]"
     ]
    },
    {
     "name": "stdout",
     "output_type": "stream",
     "text": [
      "Fetched number of followers ids for thomaschattwill : 15000\n",
      "Getting Followers ids of TierZoo\n"
     ]
    },
    {
     "name": "stderr",
     "output_type": "stream",
     "text": [
      "\r",
      " 95%|█████████▌| 1225/1288 [61:26:17<2:48:06, 160.10s/it]"
     ]
    },
    {
     "name": "stdout",
     "output_type": "stream",
     "text": [
      "Fetched number of followers ids for TierZoo : 15000\n",
      "Getting Followers ids of timnitGebru\n"
     ]
    },
    {
     "name": "stderr",
     "output_type": "stream",
     "text": [
      "\r",
      " 95%|█████████▌| 1226/1288 [61:26:18<1:56:16, 112.52s/it]"
     ]
    },
    {
     "name": "stdout",
     "output_type": "stream",
     "text": [
      "Fetched number of followers ids for timnitGebru : 15000\n",
      "Getting Followers ids of TimOfLegend\n"
     ]
    },
    {
     "name": "stderr",
     "output_type": "stream",
     "text": [
      "\r",
      " 95%|█████████▌| 1227/1288 [61:26:20<1:20:31, 79.21s/it] "
     ]
    },
    {
     "name": "stdout",
     "output_type": "stream",
     "text": [
      "Fetched number of followers ids for TimOfLegend : 15000\n",
      "Getting Followers ids of TobiasMenzies\n"
     ]
    },
    {
     "name": "stderr",
     "output_type": "stream",
     "text": [
      "Rate limit reached. Sleeping for: 893\n",
      " 95%|█████████▌| 1228/1288 [61:41:20<5:25:23, 325.39s/it]"
     ]
    },
    {
     "name": "stdout",
     "output_type": "stream",
     "text": [
      "Fetched number of followers ids for TobiasMenzies : 15000\n",
      "Getting Followers ids of tompeck\n"
     ]
    },
    {
     "name": "stderr",
     "output_type": "stream",
     "text": [
      "\r",
      " 95%|█████████▌| 1229/1288 [61:41:21<3:44:24, 228.21s/it]"
     ]
    },
    {
     "name": "stdout",
     "output_type": "stream",
     "text": [
      "Fetched number of followers ids for tompeck : 15000\n",
      "Getting Followers ids of TonyEvans92a\n"
     ]
    },
    {
     "name": "stderr",
     "output_type": "stream",
     "text": [
      "\r",
      " 95%|█████████▌| 1230/1288 [61:41:23<2:34:50, 160.18s/it]"
     ]
    },
    {
     "name": "stdout",
     "output_type": "stream",
     "text": [
      "Fetched number of followers ids for TonyEvans92a : 15000\n",
      "Getting Followers ids of TonyReali\n"
     ]
    },
    {
     "name": "stderr",
     "output_type": "stream",
     "text": [
      "\r",
      " 96%|█████████▌| 1231/1288 [61:41:24<1:46:55, 112.55s/it]"
     ]
    },
    {
     "name": "stdout",
     "output_type": "stream",
     "text": [
      "Fetched number of followers ids for TonyReali : 15000\n",
      "Getting Followers ids of tonysheps\n"
     ]
    },
    {
     "name": "stderr",
     "output_type": "stream",
     "text": [
      "\r",
      " 96%|█████████▌| 1232/1288 [61:41:26<1:14:00, 79.30s/it] "
     ]
    },
    {
     "name": "stdout",
     "output_type": "stream",
     "text": [
      "Fetched number of followers ids for tonysheps : 15000\n",
      "Getting Followers ids of tracey_thorn\n"
     ]
    },
    {
     "name": "stderr",
     "output_type": "stream",
     "text": [
      "Rate limit reached. Sleeping for: 892\n",
      " 96%|█████████▌| 1233/1288 [61:56:24<4:58:02, 325.13s/it]"
     ]
    },
    {
     "name": "stdout",
     "output_type": "stream",
     "text": [
      "Fetched number of followers ids for tracey_thorn : 15000\n",
      "Getting Followers ids of trammell\n"
     ]
    },
    {
     "name": "stderr",
     "output_type": "stream",
     "text": [
      "\r",
      " 96%|█████████▌| 1234/1288 [61:56:26<3:25:13, 228.02s/it]"
     ]
    },
    {
     "name": "stdout",
     "output_type": "stream",
     "text": [
      "Fetched number of followers ids for trammell : 15000\n",
      "Getting Followers ids of traversymedia\n"
     ]
    },
    {
     "name": "stderr",
     "output_type": "stream",
     "text": [
      "\r",
      " 96%|█████████▌| 1235/1288 [61:56:27<2:21:22, 160.05s/it]"
     ]
    },
    {
     "name": "stdout",
     "output_type": "stream",
     "text": [
      "Fetched number of followers ids for traversymedia : 15000\n",
      "Getting Followers ids of trohman\n"
     ]
    },
    {
     "name": "stderr",
     "output_type": "stream",
     "text": [
      "\r",
      " 96%|█████████▌| 1236/1288 [61:56:29<1:37:29, 112.48s/it]"
     ]
    },
    {
     "name": "stdout",
     "output_type": "stream",
     "text": [
      "Fetched number of followers ids for trohman : 15000\n",
      "Getting Followers ids of troyhunt\n"
     ]
    },
    {
     "name": "stderr",
     "output_type": "stream",
     "text": [
      "\r",
      " 96%|█████████▌| 1237/1288 [61:56:30<1:07:19, 79.21s/it] "
     ]
    },
    {
     "name": "stdout",
     "output_type": "stream",
     "text": [
      "Fetched number of followers ids for troyhunt : 15000\n",
      "Getting Followers ids of TVsAndyDaly\n"
     ]
    },
    {
     "name": "stderr",
     "output_type": "stream",
     "text": [
      "Rate limit reached. Sleeping for: 892\n",
      " 96%|█████████▌| 1238/1288 [62:11:29<4:30:52, 325.04s/it]"
     ]
    },
    {
     "name": "stdout",
     "output_type": "stream",
     "text": [
      "Fetched number of followers ids for TVsAndyDaly : 15000\n",
      "Getting Followers ids of TVSanjeev\n"
     ]
    },
    {
     "name": "stderr",
     "output_type": "stream",
     "text": [
      "\r",
      " 96%|█████████▌| 1239/1288 [62:11:31<3:06:10, 227.97s/it]"
     ]
    },
    {
     "name": "stdout",
     "output_type": "stream",
     "text": [
      "Fetched number of followers ids for TVSanjeev : 15000\n",
      "Getting Followers ids of VABVOX\n"
     ]
    },
    {
     "name": "stderr",
     "output_type": "stream",
     "text": [
      "\r",
      " 96%|█████████▋| 1240/1288 [62:11:32<2:08:01, 160.04s/it]"
     ]
    },
    {
     "name": "stdout",
     "output_type": "stream",
     "text": [
      "Fetched number of followers ids for VABVOX : 15000\n",
      "Getting Followers ids of Vaughters\n"
     ]
    },
    {
     "name": "stderr",
     "output_type": "stream",
     "text": [
      "\r",
      " 96%|█████████▋| 1241/1288 [62:11:34<1:28:06, 112.47s/it]"
     ]
    },
    {
     "name": "stdout",
     "output_type": "stream",
     "text": [
      "Fetched number of followers ids for Vaughters : 15000\n",
      "Getting Followers ids of veschwab\n"
     ]
    },
    {
     "name": "stderr",
     "output_type": "stream",
     "text": [
      "\r",
      " 96%|█████████▋| 1242/1288 [62:11:35<1:00:42, 79.19s/it] "
     ]
    },
    {
     "name": "stdout",
     "output_type": "stream",
     "text": [
      "Fetched number of followers ids for veschwab : 15000\n",
      "Getting Followers ids of VICE\n"
     ]
    },
    {
     "name": "stderr",
     "output_type": "stream",
     "text": [
      "Rate limit reached. Sleeping for: 893\n",
      " 97%|█████████▋| 1243/1288 [62:26:35<4:04:01, 325.37s/it]"
     ]
    },
    {
     "name": "stdout",
     "output_type": "stream",
     "text": [
      "Fetched number of followers ids for VICE : 15000\n",
      "Getting Followers ids of VictoriaCoren\n"
     ]
    },
    {
     "name": "stderr",
     "output_type": "stream",
     "text": [
      "\r",
      " 97%|█████████▋| 1244/1288 [62:26:36<2:47:21, 228.21s/it]"
     ]
    },
    {
     "name": "stdout",
     "output_type": "stream",
     "text": [
      "Fetched number of followers ids for VictoriaCoren : 15000\n",
      "Getting Followers ids of VPrasadMDMPH\n"
     ]
    },
    {
     "name": "stderr",
     "output_type": "stream",
     "text": [
      "\r",
      " 97%|█████████▋| 1245/1288 [62:26:38<1:54:50, 160.24s/it]"
     ]
    },
    {
     "name": "stdout",
     "output_type": "stream",
     "text": [
      "Fetched number of followers ids for VPrasadMDMPH : 15000\n",
      "Getting Followers ids of vsikka\n"
     ]
    },
    {
     "name": "stderr",
     "output_type": "stream",
     "text": [
      "\r",
      " 97%|█████████▋| 1246/1288 [62:26:40<1:18:49, 112.62s/it]"
     ]
    },
    {
     "name": "stdout",
     "output_type": "stream",
     "text": [
      "Fetched number of followers ids for vsikka : 15000\n",
      "Getting Followers ids of Wakooz_RSS\n"
     ]
    },
    {
     "name": "stderr",
     "output_type": "stream",
     "text": [
      "\r",
      " 97%|█████████▋| 1247/1288 [62:26:41<54:10, 79.27s/it]   "
     ]
    },
    {
     "name": "stdout",
     "output_type": "stream",
     "text": [
      "Fetched number of followers ids for Wakooz_RSS : 15000\n",
      "Getting Followers ids of WalterIsaacson\n"
     ]
    },
    {
     "name": "stderr",
     "output_type": "stream",
     "text": [
      "Rate limit reached. Sleeping for: 893\n",
      " 97%|█████████▋| 1248/1288 [62:41:41<3:36:58, 325.47s/it]"
     ]
    },
    {
     "name": "stdout",
     "output_type": "stream",
     "text": [
      "Fetched number of followers ids for WalterIsaacson : 15000\n",
      "Getting Followers ids of Wamagaisa\n"
     ]
    },
    {
     "name": "stderr",
     "output_type": "stream",
     "text": [
      "\r",
      " 97%|█████████▋| 1249/1288 [62:41:42<2:28:22, 228.27s/it]"
     ]
    },
    {
     "name": "stdout",
     "output_type": "stream",
     "text": [
      "Fetched number of followers ids for Wamagaisa : 15000\n",
      "Getting Followers ids of warikoo\n"
     ]
    },
    {
     "name": "stderr",
     "output_type": "stream",
     "text": [
      "\r",
      " 97%|█████████▋| 1250/1288 [62:41:44<1:41:28, 160.23s/it]"
     ]
    },
    {
     "name": "stdout",
     "output_type": "stream",
     "text": [
      "Fetched number of followers ids for warikoo : 15000\n",
      "Getting Followers ids of watsoncomedian\n"
     ]
    },
    {
     "name": "stderr",
     "output_type": "stream",
     "text": [
      "\r",
      " 97%|█████████▋| 1251/1288 [62:41:45<1:09:27, 112.63s/it]"
     ]
    },
    {
     "name": "stdout",
     "output_type": "stream",
     "text": [
      "Fetched number of followers ids for watsoncomedian : 15000\n",
      "Getting Followers ids of xJawz\n"
     ]
    },
    {
     "name": "stderr",
     "output_type": "stream",
     "text": [
      "\r",
      " 97%|█████████▋| 1252/1288 [62:41:47<47:34, 79.28s/it]   "
     ]
    },
    {
     "name": "stdout",
     "output_type": "stream",
     "text": [
      "Fetched number of followers ids for xJawz : 15000\n",
      "Getting Followers ids of ZacharyLevi\n"
     ]
    },
    {
     "name": "stderr",
     "output_type": "stream",
     "text": [
      "Rate limit reached. Sleeping for: 893\n",
      " 97%|█████████▋| 1253/1288 [62:56:47<3:09:49, 325.42s/it]"
     ]
    },
    {
     "name": "stdout",
     "output_type": "stream",
     "text": [
      "Fetched number of followers ids for ZacharyLevi : 15000\n",
      "Getting Followers ids of ZackScott\n"
     ]
    },
    {
     "name": "stderr",
     "output_type": "stream",
     "text": [
      "\r",
      " 97%|█████████▋| 1254/1288 [62:56:48<2:09:20, 228.24s/it]"
     ]
    },
    {
     "name": "stdout",
     "output_type": "stream",
     "text": [
      "Fetched number of followers ids for ZackScott : 15000\n",
      "Getting Followers ids of ZacksJerryRig\n"
     ]
    },
    {
     "name": "stderr",
     "output_type": "stream",
     "text": [
      "\r",
      " 97%|█████████▋| 1255/1288 [62:56:50<1:28:15, 160.48s/it]"
     ]
    },
    {
     "name": "stdout",
     "output_type": "stream",
     "text": [
      "Fetched number of followers ids for ZacksJerryRig : 15000\n",
      "Getting Followers ids of Zonal_Marking\n"
     ]
    },
    {
     "name": "stderr",
     "output_type": "stream",
     "text": [
      "\r",
      " 98%|█████████▊| 1256/1288 [62:56:52<1:00:09, 112.78s/it]"
     ]
    },
    {
     "name": "stdout",
     "output_type": "stream",
     "text": [
      "Fetched number of followers ids for Zonal_Marking : 15000\n",
      "Getting Followers ids of _cingraham\n"
     ]
    },
    {
     "name": "stderr",
     "output_type": "stream",
     "text": [
      "\r",
      " 98%|█████████▊| 1257/1288 [62:56:53<41:01, 79.40s/it]   "
     ]
    },
    {
     "name": "stdout",
     "output_type": "stream",
     "text": [
      "Fetched number of followers ids for _cingraham : 15000\n",
      "Getting Followers ids of _tomcc\n"
     ]
    },
    {
     "name": "stderr",
     "output_type": "stream",
     "text": [
      "Rate limit reached. Sleeping for: 892\n",
      " 98%|█████████▊| 1258/1288 [63:11:52<2:42:36, 325.23s/it]"
     ]
    },
    {
     "name": "stdout",
     "output_type": "stream",
     "text": [
      "Fetched number of followers ids for _tomcc : 15000\n",
      "Getting Followers ids of abhiandniyu\n"
     ]
    },
    {
     "name": "stderr",
     "output_type": "stream",
     "text": [
      "\r",
      " 98%|█████████▊| 1259/1288 [63:11:54<1:50:14, 228.10s/it]"
     ]
    },
    {
     "name": "stdout",
     "output_type": "stream",
     "text": [
      "Fetched number of followers ids for abhiandniyu : 15000\n",
      "Getting Followers ids of AkiAnastasiou\n"
     ]
    },
    {
     "name": "stderr",
     "output_type": "stream",
     "text": [
      "\r",
      " 98%|█████████▊| 1260/1288 [63:11:55<1:14:43, 160.11s/it]"
     ]
    },
    {
     "name": "stdout",
     "output_type": "stream",
     "text": [
      "Fetched number of followers ids for AkiAnastasiou : 15000\n",
      "Getting Followers ids of BallingerMom\n"
     ]
    },
    {
     "name": "stderr",
     "output_type": "stream",
     "text": [
      "\r",
      " 98%|█████████▊| 1261/1288 [63:11:57<50:38, 112.52s/it]  "
     ]
    },
    {
     "name": "stdout",
     "output_type": "stream",
     "text": [
      "Fetched number of followers ids for BallingerMom : 15000\n",
      "Getting Followers ids of BrentCorrigan\n"
     ]
    },
    {
     "name": "stderr",
     "output_type": "stream",
     "text": [
      "\r",
      " 98%|█████████▊| 1262/1288 [63:11:58<34:19, 79.21s/it] "
     ]
    },
    {
     "name": "stdout",
     "output_type": "stream",
     "text": [
      "Fetched number of followers ids for BrentCorrigan : 15000\n",
      "Getting Followers ids of brucebusiness\n"
     ]
    },
    {
     "name": "stderr",
     "output_type": "stream",
     "text": [
      "Rate limit reached. Sleeping for: 893\n",
      " 98%|█████████▊| 1263/1288 [63:26:58<2:15:34, 325.38s/it]"
     ]
    },
    {
     "name": "stdout",
     "output_type": "stream",
     "text": [
      "Fetched number of followers ids for brucebusiness : 15000\n",
      "Getting Followers ids of ChainfireXDA\n"
     ]
    },
    {
     "name": "stderr",
     "output_type": "stream",
     "text": [
      "\r",
      " 98%|█████████▊| 1264/1288 [63:26:59<1:31:17, 228.21s/it]"
     ]
    },
    {
     "name": "stdout",
     "output_type": "stream",
     "text": [
      "Fetched number of followers ids for ChainfireXDA : 15000\n",
      "Getting Followers ids of DanFitzpatrick\n"
     ]
    },
    {
     "name": "stderr",
     "output_type": "stream",
     "text": [
      "\r",
      " 98%|█████████▊| 1265/1288 [63:27:01<1:01:24, 160.20s/it]"
     ]
    },
    {
     "name": "stdout",
     "output_type": "stream",
     "text": [
      "Fetched number of followers ids for DanFitzpatrick : 15000\n",
      "Getting Followers ids of erotibot_art\n"
     ]
    },
    {
     "name": "stderr",
     "output_type": "stream",
     "text": [
      "\r",
      " 98%|█████████▊| 1266/1288 [63:27:02<41:16, 112.58s/it]  "
     ]
    },
    {
     "name": "stdout",
     "output_type": "stream",
     "text": [
      "Fetched number of followers ids for erotibot_art : 15000\n",
      "Getting Followers ids of feedme\n"
     ]
    },
    {
     "name": "stderr",
     "output_type": "stream",
     "text": [
      "\r",
      " 98%|█████████▊| 1267/1288 [63:27:04<27:44, 79.27s/it] "
     ]
    },
    {
     "name": "stdout",
     "output_type": "stream",
     "text": [
      "Fetched number of followers ids for feedme : 15000\n",
      "Getting Followers ids of finshots\n"
     ]
    },
    {
     "name": "stderr",
     "output_type": "stream",
     "text": [
      "Rate limit reached. Sleeping for: 893\n",
      " 98%|█████████▊| 1268/1288 [63:42:04<1:48:28, 325.42s/it]"
     ]
    },
    {
     "name": "stdout",
     "output_type": "stream",
     "text": [
      "Fetched number of followers ids for finshots : 15000\n",
      "Getting Followers ids of Funmilola\n"
     ]
    },
    {
     "name": "stderr",
     "output_type": "stream",
     "text": [
      "\r",
      " 99%|█████████▊| 1269/1288 [63:42:05<1:12:16, 228.23s/it]"
     ]
    },
    {
     "name": "stdout",
     "output_type": "stream",
     "text": [
      "Fetched number of followers ids for Funmilola : 15000\n",
      "Getting Followers ids of gussilber\n"
     ]
    },
    {
     "name": "stderr",
     "output_type": "stream",
     "text": [
      "\r",
      " 99%|█████████▊| 1270/1288 [63:42:07<48:03, 160.20s/it]  "
     ]
    },
    {
     "name": "stdout",
     "output_type": "stream",
     "text": [
      "Fetched number of followers ids for gussilber : 15000\n",
      "Getting Followers ids of JJ_on_air\n"
     ]
    },
    {
     "name": "stderr",
     "output_type": "stream",
     "text": [
      "\r",
      " 99%|█████████▊| 1271/1288 [63:42:08<31:53, 112.58s/it]"
     ]
    },
    {
     "name": "stdout",
     "output_type": "stream",
     "text": [
      "Fetched number of followers ids for JJ_on_air : 15000\n",
      "Getting Followers ids of jkalucki\n"
     ]
    },
    {
     "name": "stderr",
     "output_type": "stream",
     "text": [
      "\r",
      " 99%|█████████▉| 1272/1288 [63:42:10<21:08, 79.25s/it] "
     ]
    },
    {
     "name": "stdout",
     "output_type": "stream",
     "text": [
      "Fetched number of followers ids for jkalucki : 15000\n",
      "Getting Followers ids of johnkrausphotos\n"
     ]
    },
    {
     "name": "stderr",
     "output_type": "stream",
     "text": [
      "Rate limit reached. Sleeping for: 893\n",
      " 99%|█████████▉| 1273/1288 [63:57:09<1:21:21, 325.43s/it]"
     ]
    },
    {
     "name": "stdout",
     "output_type": "stream",
     "text": [
      "Fetched number of followers ids for johnkrausphotos : 15000\n",
      "Getting Followers ids of JonathanGunson\n"
     ]
    },
    {
     "name": "stderr",
     "output_type": "stream",
     "text": [
      "\r",
      " 99%|█████████▉| 1274/1288 [63:57:11<53:15, 228.25s/it]  "
     ]
    },
    {
     "name": "stdout",
     "output_type": "stream",
     "text": [
      "Fetched number of followers ids for JonathanGunson : 15000\n",
      "Getting Followers ids of kingbdogz\n"
     ]
    },
    {
     "name": "stderr",
     "output_type": "stream",
     "text": [
      "\r",
      " 99%|█████████▉| 1275/1288 [63:57:13<34:43, 160.31s/it]"
     ]
    },
    {
     "name": "stdout",
     "output_type": "stream",
     "text": [
      "Fetched number of followers ids for kingbdogz : 15000\n",
      "Getting Followers ids of linusgsebastian\n"
     ]
    },
    {
     "name": "stderr",
     "output_type": "stream",
     "text": [
      "\r",
      " 99%|█████████▉| 1276/1288 [63:57:14<22:31, 112.66s/it]"
     ]
    },
    {
     "name": "stdout",
     "output_type": "stream",
     "text": [
      "Fetched number of followers ids for linusgsebastian : 15000\n",
      "Getting Followers ids of Marc_IRL\n"
     ]
    },
    {
     "name": "stderr",
     "output_type": "stream",
     "text": [
      "\r",
      " 99%|█████████▉| 1277/1288 [63:57:16<14:32, 79.32s/it] "
     ]
    },
    {
     "name": "stdout",
     "output_type": "stream",
     "text": [
      "Fetched number of followers ids for Marc_IRL : 15000\n",
      "Getting Followers ids of SizweMpofuWalsh\n"
     ]
    },
    {
     "name": "stderr",
     "output_type": "stream",
     "text": [
      "Rate limit reached. Sleeping for: 892\n",
      " 99%|█████████▉| 1278/1288 [64:12:15<54:11, 325.16s/it]"
     ]
    },
    {
     "name": "stdout",
     "output_type": "stream",
     "text": [
      "Fetched number of followers ids for SizweMpofuWalsh : 15000\n",
      "Getting Followers ids of thecybermentor\n"
     ]
    },
    {
     "name": "stderr",
     "output_type": "stream",
     "text": [
      "\r",
      " 99%|█████████▉| 1279/1288 [64:12:16<34:12, 228.06s/it]"
     ]
    },
    {
     "name": "stdout",
     "output_type": "stream",
     "text": [
      "Fetched number of followers ids for thecybermentor : 15000\n",
      "Getting Followers ids of TomEatonSA\n"
     ]
    },
    {
     "name": "stderr",
     "output_type": "stream",
     "text": [
      "\r",
      " 99%|█████████▉| 1280/1288 [64:12:17<21:20, 160.08s/it]"
     ]
    },
    {
     "name": "stdout",
     "output_type": "stream",
     "text": [
      "Fetched number of followers ids for TomEatonSA : 15000\n",
      "Getting Followers ids of VusiThembekwayo\n"
     ]
    },
    {
     "name": "stderr",
     "output_type": "stream",
     "text": [
      "\r",
      " 99%|█████████▉| 1281/1288 [64:12:19<13:07, 112.50s/it]"
     ]
    },
    {
     "name": "stdout",
     "output_type": "stream",
     "text": [
      "Fetched number of followers ids for VusiThembekwayo : 15000\n",
      "Getting Followers ids of WesleyLowery\n"
     ]
    },
    {
     "name": "stderr",
     "output_type": "stream",
     "text": [
      "\r",
      "100%|█████████▉| 1282/1288 [64:12:20<07:55, 79.21s/it] "
     ]
    },
    {
     "name": "stdout",
     "output_type": "stream",
     "text": [
      "Fetched number of followers ids for WesleyLowery : 15000\n",
      "Getting Followers ids of wolfganggartner\n"
     ]
    },
    {
     "name": "stderr",
     "output_type": "stream",
     "text": [
      "Rate limit reached. Sleeping for: 893\n",
      "100%|█████████▉| 1283/1288 [64:27:20<27:06, 325.37s/it]"
     ]
    },
    {
     "name": "stdout",
     "output_type": "stream",
     "text": [
      "Fetched number of followers ids for wolfganggartner : 15000\n",
      "Getting Followers ids of zilevandamme\n"
     ]
    },
    {
     "name": "stderr",
     "output_type": "stream",
     "text": [
      "\r",
      "100%|█████████▉| 1284/1288 [64:27:22<15:12, 228.20s/it]"
     ]
    },
    {
     "name": "stdout",
     "output_type": "stream",
     "text": [
      "Fetched number of followers ids for zilevandamme : 15000\n",
      "Getting Followers ids of DeeWilliamsXXX\n"
     ]
    },
    {
     "name": "stderr",
     "output_type": "stream",
     "text": [
      "\r",
      "100%|█████████▉| 1285/1288 [64:27:23<08:00, 160.17s/it]"
     ]
    },
    {
     "name": "stdout",
     "output_type": "stream",
     "text": [
      "Fetched number of followers ids for DeeWilliamsXXX : 15000\n",
      "Getting Followers ids of tayooye\n"
     ]
    },
    {
     "name": "stderr",
     "output_type": "stream",
     "text": [
      "\r",
      "100%|█████████▉| 1286/1288 [64:27:25<03:45, 112.57s/it]"
     ]
    },
    {
     "name": "stdout",
     "output_type": "stream",
     "text": [
      "Fetched number of followers ids for tayooye : 15000\n",
      "Getting Followers ids of willbraunXXX\n"
     ]
    },
    {
     "name": "stderr",
     "output_type": "stream",
     "text": [
      "\r",
      "100%|█████████▉| 1287/1288 [64:27:26<01:19, 79.27s/it] "
     ]
    },
    {
     "name": "stdout",
     "output_type": "stream",
     "text": [
      "Fetched number of followers ids for willbraunXXX : 15000\n",
      "Getting Followers ids of Suhail\n"
     ]
    },
    {
     "name": "stderr",
     "output_type": "stream",
     "text": [
      "Rate limit reached. Sleeping for: 893\n",
      "100%|██████████| 1288/1288 [64:42:26<00:00, 180.86s/it]"
     ]
    },
    {
     "name": "stdout",
     "output_type": "stream",
     "text": [
      "Fetched number of followers ids for Suhail : 15000\n"
     ]
    },
    {
     "name": "stderr",
     "output_type": "stream",
     "text": [
      "\n"
     ]
    }
   ],
   "source": [
    "all_pro_accounts = get_all_followers(pro_all_accounts, 15000)"
   ]
  },
  {
   "cell_type": "code",
   "execution_count": 8,
   "id": "f7433969",
   "metadata": {},
   "outputs": [
    {
     "name": "stderr",
     "output_type": "stream",
     "text": [
      "\r",
      "  0%|          | 0/681 [00:00<?, ?it/s]"
     ]
    },
    {
     "name": "stdout",
     "output_type": "stream",
     "text": [
      "Getting Followers ids of 5gAwareness\n"
     ]
    },
    {
     "name": "stderr",
     "output_type": "stream",
     "text": [
      "\r",
      "  0%|          | 1/681 [00:00<04:10,  2.72it/s]"
     ]
    },
    {
     "name": "stdout",
     "output_type": "stream",
     "text": [
      "Fetched number of followers ids for 5gAwareness : 1154\n",
      "Getting Followers ids of 5GAwarenessNow\n"
     ]
    },
    {
     "name": "stderr",
     "output_type": "stream",
     "text": [
      "\r",
      "  0%|          | 2/681 [00:00<04:06,  2.76it/s]"
     ]
    },
    {
     "name": "stdout",
     "output_type": "stream",
     "text": [
      "Fetched number of followers ids for 5GAwarenessNow : 879\n",
      "Getting Followers ids of 5gDangers\n"
     ]
    },
    {
     "name": "stderr",
     "output_type": "stream",
     "text": [
      "\r",
      "  0%|          | 3/681 [00:00<03:28,  3.25it/s]"
     ]
    },
    {
     "name": "stdout",
     "output_type": "stream",
     "text": [
      "Fetched number of followers ids for 5gDangers : 330\n",
      "Getting Followers ids of AlternMedicine1\n"
     ]
    },
    {
     "name": "stderr",
     "output_type": "stream",
     "text": [
      "\r",
      "  1%|          | 4/681 [00:01<04:16,  2.64it/s]"
     ]
    },
    {
     "name": "stdout",
     "output_type": "stream",
     "text": [
      "Fetched number of followers ids for AlternMedicine1 : 3749\n",
      "Getting Followers ids of AMGuide\n"
     ]
    },
    {
     "name": "stderr",
     "output_type": "stream",
     "text": [
      "\r",
      "  1%|          | 5/681 [00:01<04:23,  2.57it/s]"
     ]
    },
    {
     "name": "stdout",
     "output_type": "stream",
     "text": [
      "Fetched number of followers ids for AMGuide : 1895\n",
      "Getting Followers ids of Anastas32451695\n"
     ]
    },
    {
     "name": "stderr",
     "output_type": "stream",
     "text": [
      "\r",
      "  1%|          | 6/681 [00:02<04:50,  2.32it/s]"
     ]
    },
    {
     "name": "stdout",
     "output_type": "stream",
     "text": [
      "Fetched number of followers ids for Anastas32451695 : 3429\n",
      "Getting Followers ids of AncestralApoth\n"
     ]
    },
    {
     "name": "stderr",
     "output_type": "stream",
     "text": [
      "\r",
      "  1%|          | 7/681 [00:02<04:47,  2.34it/s]"
     ]
    },
    {
     "name": "stdout",
     "output_type": "stream",
     "text": [
      "Fetched number of followers ids for AncestralApoth : 3126\n",
      "Getting Followers ids of AnnleeElisha\n"
     ]
    },
    {
     "name": "stderr",
     "output_type": "stream",
     "text": [
      "\r",
      "  1%|          | 8/681 [00:03<04:55,  2.28it/s]"
     ]
    },
    {
     "name": "stdout",
     "output_type": "stream",
     "text": [
      "Fetched number of followers ids for AnnleeElisha : 3654\n",
      "Getting Followers ids of avoiceforchoice\n",
      "Going to sleep:  Not authorized.\n"
     ]
    },
    {
     "name": "stderr",
     "output_type": "stream",
     "text": [
      "\r",
      "  1%|▏         | 9/681 [01:03<3:34:16, 19.13s/it]"
     ]
    },
    {
     "name": "stdout",
     "output_type": "stream",
     "text": [
      "Fetched number of followers ids for avoiceforchoice : 0\n",
      "Getting Followers ids of BusyDrT\n",
      "Going to sleep:  Not authorized.\n"
     ]
    },
    {
     "name": "stderr",
     "output_type": "stream",
     "text": [
      "\r",
      "  1%|▏         | 10/681 [02:03<5:55:50, 31.82s/it]"
     ]
    },
    {
     "name": "stdout",
     "output_type": "stream",
     "text": [
      "Fetched number of followers ids for BusyDrT : 0\n",
      "Getting Followers ids of CAchemtrails\n"
     ]
    },
    {
     "name": "stderr",
     "output_type": "stream",
     "text": [
      "\r",
      "  2%|▏         | 11/681 [02:04<4:09:27, 22.34s/it]"
     ]
    },
    {
     "name": "stdout",
     "output_type": "stream",
     "text": [
      "Fetched number of followers ids for CAchemtrails : 6423\n",
      "Getting Followers ids of CaliVaxChoice\n"
     ]
    },
    {
     "name": "stderr",
     "output_type": "stream",
     "text": [
      "Rate limit reached. Sleeping for: 774\n",
      "  2%|▏         | 12/681 [15:04<46:59:32, 252.87s/it]"
     ]
    },
    {
     "name": "stdout",
     "output_type": "stream",
     "text": [
      "Fetched number of followers ids for CaliVaxChoice : 6923\n",
      "Getting Followers ids of Canoe_Glider\n"
     ]
    },
    {
     "name": "stderr",
     "output_type": "stream",
     "text": [
      "\r",
      "  2%|▏         | 13/681 [15:05<32:43:42, 176.38s/it]"
     ]
    },
    {
     "name": "stdout",
     "output_type": "stream",
     "text": [
      "Fetched number of followers ids for Canoe_Glider : 1849\n",
      "Getting Followers ids of CHEMTRAILSMN\n"
     ]
    },
    {
     "name": "stderr",
     "output_type": "stream",
     "text": [
      "\r",
      "  2%|▏         | 14/681 [15:05<22:49:51, 123.23s/it]"
     ]
    },
    {
     "name": "stdout",
     "output_type": "stream",
     "text": [
      "Fetched number of followers ids for CHEMTRAILSMN : 977\n",
      "Getting Followers ids of ChemtrailsNews\n"
     ]
    },
    {
     "name": "stderr",
     "output_type": "stream",
     "text": [
      "\r",
      "  2%|▏         | 15/681 [15:05<15:56:50, 86.20s/it] "
     ]
    },
    {
     "name": "stdout",
     "output_type": "stream",
     "text": [
      "Fetched number of followers ids for ChemtrailsNews : 2818\n",
      "Getting Followers ids of Chemtrails_UK\n"
     ]
    },
    {
     "name": "stderr",
     "output_type": "stream",
     "text": [
      "\r",
      "  2%|▏         | 16/681 [15:06<11:09:02, 60.36s/it]"
     ]
    },
    {
     "name": "stdout",
     "output_type": "stream",
     "text": [
      "Fetched number of followers ids for Chemtrails_UK : 2612\n",
      "Getting Followers ids of circleofmamas\n"
     ]
    },
    {
     "name": "stderr",
     "output_type": "stream",
     "text": [
      "\r",
      "  2%|▏         | 17/681 [15:06<7:49:31, 42.43s/it] "
     ]
    },
    {
     "name": "stdout",
     "output_type": "stream",
     "text": [
      "Fetched number of followers ids for circleofmamas : 5429\n",
      "Getting Followers ids of delbigtree\n"
     ]
    },
    {
     "name": "stderr",
     "output_type": "stream",
     "text": [
      "\r",
      "  3%|▎         | 18/681 [15:08<5:32:47, 30.12s/it]"
     ]
    },
    {
     "name": "stdout",
     "output_type": "stream",
     "text": [
      "Fetched number of followers ids for delbigtree : 15000\n",
      "Getting Followers ids of DinosaurEarth\n"
     ]
    },
    {
     "name": "stderr",
     "output_type": "stream",
     "text": [
      "\r",
      "  3%|▎         | 19/681 [15:09<3:57:38, 21.54s/it]"
     ]
    },
    {
     "name": "stdout",
     "output_type": "stream",
     "text": [
      "Fetched number of followers ids for DinosaurEarth : 15000\n",
      "Getting Followers ids of dmarble\n"
     ]
    },
    {
     "name": "stderr",
     "output_type": "stream",
     "text": [
      "\r",
      "  3%|▎         | 20/681 [15:10<2:47:01, 15.16s/it]"
     ]
    },
    {
     "name": "stdout",
     "output_type": "stream",
     "text": [
      "Fetched number of followers ids for dmarble : 7\n",
      "Getting Followers ids of DrBenTapper1\n",
      "Going to sleep:  Not authorized.\n"
     ]
    },
    {
     "name": "stderr",
     "output_type": "stream",
     "text": [
      "\r",
      "  3%|▎         | 21/681 [16:10<5:15:37, 28.69s/it]"
     ]
    },
    {
     "name": "stdout",
     "output_type": "stream",
     "text": [
      "Fetched number of followers ids for DrBenTapper1 : 0\n",
      "Getting Followers ids of DrButtar\n"
     ]
    },
    {
     "name": "stderr",
     "output_type": "stream",
     "text": [
      "Rate limit reached. Sleeping for: 834\n",
      "  3%|▎         | 22/681 [30:11<49:52:03, 272.42s/it]"
     ]
    },
    {
     "name": "stdout",
     "output_type": "stream",
     "text": [
      "Fetched number of followers ids for DrButtar : 15000\n",
      "Getting Followers ids of DrChrisNorthrup\n"
     ]
    },
    {
     "name": "stderr",
     "output_type": "stream",
     "text": [
      "\r",
      "  3%|▎         | 23/681 [30:12<34:55:54, 191.12s/it]"
     ]
    },
    {
     "name": "stdout",
     "output_type": "stream",
     "text": [
      "Fetched number of followers ids for DrChrisNorthrup : 15000\n",
      "Getting Followers ids of DrMadej\n",
      "Going to sleep:  Not authorized.\n"
     ]
    },
    {
     "name": "stderr",
     "output_type": "stream",
     "text": [
      "\r",
      "  4%|▎         | 24/681 [31:13<27:42:42, 151.84s/it]"
     ]
    },
    {
     "name": "stdout",
     "output_type": "stream",
     "text": [
      "Fetched number of followers ids for DrMadej : 0\n",
      "Getting Followers ids of DrSamBenjamin\n",
      "Going to sleep:  Not authorized.\n"
     ]
    },
    {
     "name": "stderr",
     "output_type": "stream",
     "text": [
      "\r",
      "  4%|▎         | 25/681 [32:13<22:39:38, 124.36s/it]"
     ]
    },
    {
     "name": "stdout",
     "output_type": "stream",
     "text": [
      "Fetched number of followers ids for DrSamBenjamin : 0\n",
      "Getting Followers ids of drsimonegold\n"
     ]
    },
    {
     "name": "stderr",
     "output_type": "stream",
     "text": [
      "\r",
      "  4%|▍         | 26/681 [32:15<15:55:57, 87.57s/it] "
     ]
    },
    {
     "name": "stdout",
     "output_type": "stream",
     "text": [
      "Fetched number of followers ids for drsimonegold : 15000\n",
      "Getting Followers ids of DSL1912\n"
     ]
    },
    {
     "name": "stderr",
     "output_type": "stream",
     "text": [
      "\r",
      "  4%|▍         | 27/681 [32:16<11:11:24, 61.60s/it]"
     ]
    },
    {
     "name": "stdout",
     "output_type": "stream",
     "text": [
      "Fetched number of followers ids for DSL1912 : 8645\n",
      "Getting Followers ids of earthisaplane7\n"
     ]
    },
    {
     "name": "stderr",
     "output_type": "stream",
     "text": [
      "\r",
      "  4%|▍         | 28/681 [32:16<7:50:53, 43.27s/it] "
     ]
    },
    {
     "name": "stdout",
     "output_type": "stream",
     "text": [
      "Fetched number of followers ids for earthisaplane7 : 3543\n",
      "Getting Followers ids of ehs_symptoms\n"
     ]
    },
    {
     "name": "stderr",
     "output_type": "stream",
     "text": [
      "\r",
      "  4%|▍         | 29/681 [32:16<5:30:21, 30.40s/it]"
     ]
    },
    {
     "name": "stdout",
     "output_type": "stream",
     "text": [
      "Fetched number of followers ids for ehs_symptoms : 1040\n",
      "Getting Followers ids of EMFAustralia\n"
     ]
    },
    {
     "name": "stderr",
     "output_type": "stream",
     "text": [
      "Rate limit reached. Sleeping for: 773\n"
     ]
    },
    {
     "name": "stdout",
     "output_type": "stream",
     "text": [
      "Going to sleep:  [{'code': 34, 'message': 'Sorry, that page does not exist.'}]\n"
     ]
    },
    {
     "name": "stderr",
     "output_type": "stream",
     "text": [
      "\r",
      "  4%|▍         | 30/681 [46:15<49:20:05, 272.82s/it]"
     ]
    },
    {
     "name": "stdout",
     "output_type": "stream",
     "text": [
      "Fetched number of followers ids for EMFAustralia : 0\n",
      "Getting Followers ids of EMFRebel\n"
     ]
    },
    {
     "name": "stderr",
     "output_type": "stream",
     "text": [
      "\r",
      "  5%|▍         | 31/681 [46:15<34:29:44, 191.05s/it]"
     ]
    },
    {
     "name": "stdout",
     "output_type": "stream",
     "text": [
      "Fetched number of followers ids for EMFRebel : 837\n",
      "Getting Followers ids of EndTheGlobe\n"
     ]
    },
    {
     "name": "stderr",
     "output_type": "stream",
     "text": [
      "\r",
      "  5%|▍         | 32/681 [46:16<24:10:58, 134.14s/it]"
     ]
    },
    {
     "name": "stdout",
     "output_type": "stream",
     "text": [
      "Fetched number of followers ids for EndTheGlobe : 10895\n",
      "Getting Followers ids of facebones777\n"
     ]
    },
    {
     "name": "stderr",
     "output_type": "stream",
     "text": [
      "\r",
      "  5%|▍         | 33/681 [46:17<16:56:58, 94.16s/it] "
     ]
    },
    {
     "name": "stdout",
     "output_type": "stream",
     "text": [
      "Fetched number of followers ids for facebones777 : 6499\n",
      "Getting Followers ids of FlatArthur\n"
     ]
    },
    {
     "name": "stderr",
     "output_type": "stream",
     "text": [
      "\r",
      "  5%|▍         | 34/681 [46:18<11:52:21, 66.06s/it]"
     ]
    },
    {
     "name": "stdout",
     "output_type": "stream",
     "text": [
      "Fetched number of followers ids for FlatArthur : 3669\n",
      "Getting Followers ids of FlatAwakening\n"
     ]
    },
    {
     "name": "stderr",
     "output_type": "stream",
     "text": [
      "\r",
      "  5%|▌         | 35/681 [46:18<8:19:04, 46.35s/it] "
     ]
    },
    {
     "name": "stdout",
     "output_type": "stream",
     "text": [
      "Fetched number of followers ids for FlatAwakening : 1771\n",
      "Getting Followers ids of flatearthaddict\n"
     ]
    },
    {
     "name": "stderr",
     "output_type": "stream",
     "text": [
      "\r",
      "  5%|▌         | 36/681 [46:19<5:50:28, 32.60s/it]"
     ]
    },
    {
     "name": "stdout",
     "output_type": "stream",
     "text": [
      "Fetched number of followers ids for flatearthaddict : 3266\n",
      "Getting Followers ids of FlatEarthBaba\n"
     ]
    },
    {
     "name": "stderr",
     "output_type": "stream",
     "text": [
      "\r",
      "  5%|▌         | 37/681 [46:19<4:05:42, 22.89s/it]"
     ]
    },
    {
     "name": "stdout",
     "output_type": "stream",
     "text": [
      "Fetched number of followers ids for FlatEarthBaba : 594\n",
      "Getting Followers ids of FlatEarthCity\n"
     ]
    },
    {
     "name": "stderr",
     "output_type": "stream",
     "text": [
      "\r",
      "  6%|▌         | 38/681 [46:20<2:56:27, 16.47s/it]"
     ]
    },
    {
     "name": "stdout",
     "output_type": "stream",
     "text": [
      "Fetched number of followers ids for FlatEarthCity : 11339\n",
      "Getting Followers ids of FlatEarthEffect\n"
     ]
    },
    {
     "name": "stderr",
     "output_type": "stream",
     "text": [
      "Rate limit reached. Sleeping for: 834\n",
      "  6%|▌         | 39/681 [1:00:21<47:00:35, 263.61s/it]"
     ]
    },
    {
     "name": "stdout",
     "output_type": "stream",
     "text": [
      "Fetched number of followers ids for FlatEarthEffect : 9839\n",
      "Getting Followers ids of flatearthohio\n"
     ]
    },
    {
     "name": "stderr",
     "output_type": "stream",
     "text": [
      "\r",
      "  6%|▌         | 40/681 [1:00:22<32:56:09, 184.98s/it]"
     ]
    },
    {
     "name": "stdout",
     "output_type": "stream",
     "text": [
      "Fetched number of followers ids for flatearthohio : 13538\n",
      "Getting Followers ids of FlatEarthOrg\n"
     ]
    },
    {
     "name": "stderr",
     "output_type": "stream",
     "text": [
      "\r",
      "  6%|▌         | 41/681 [1:00:42<24:03:45, 135.35s/it]"
     ]
    },
    {
     "name": "stdout",
     "output_type": "stream",
     "text": [
      "Fetched number of followers ids for FlatEarthOrg : 15000\n",
      "Getting Followers ids of FlatEarthRT\n"
     ]
    },
    {
     "name": "stderr",
     "output_type": "stream",
     "text": [
      "\r",
      "  6%|▌         | 42/681 [1:00:42<16:50:38, 94.90s/it] "
     ]
    },
    {
     "name": "stdout",
     "output_type": "stream",
     "text": [
      "Fetched number of followers ids for FlatEarthRT : 4027\n",
      "Getting Followers ids of FlatEarthTshirt\n"
     ]
    },
    {
     "name": "stderr",
     "output_type": "stream",
     "text": [
      "\r",
      "  6%|▋         | 43/681 [1:00:43<11:49:02, 66.68s/it]"
     ]
    },
    {
     "name": "stdout",
     "output_type": "stream",
     "text": [
      "Fetched number of followers ids for FlatEarthTshirt : 7203\n",
      "Getting Followers ids of FlatRealm\n"
     ]
    },
    {
     "name": "stderr",
     "output_type": "stream",
     "text": [
      "\r",
      "  6%|▋         | 44/681 [1:00:43<8:16:48, 46.80s/it] "
     ]
    },
    {
     "name": "stdout",
     "output_type": "stream",
     "text": [
      "Fetched number of followers ids for FlatRealm : 2113\n",
      "Getting Followers ids of FlatSmacker\n"
     ]
    },
    {
     "name": "stderr",
     "output_type": "stream",
     "text": [
      "\r",
      "  7%|▋         | 45/681 [1:00:44<5:48:47, 32.91s/it]"
     ]
    },
    {
     "name": "stdout",
     "output_type": "stream",
     "text": [
      "Fetched number of followers ids for FlatSmacker : 4433\n",
      "Getting Followers ids of flat_earth_dude\n"
     ]
    },
    {
     "name": "stderr",
     "output_type": "stream",
     "text": [
      "\r",
      "  7%|▋         | 46/681 [1:00:44<4:05:01, 23.15s/it]"
     ]
    },
    {
     "name": "stdout",
     "output_type": "stream",
     "text": [
      "Fetched number of followers ids for flat_earth_dude : 2098\n",
      "Getting Followers ids of flat_its\n"
     ]
    },
    {
     "name": "stderr",
     "output_type": "stream",
     "text": [
      "\r",
      "  7%|▋         | 47/681 [1:00:45<2:52:27, 16.32s/it]"
     ]
    },
    {
     "name": "stdout",
     "output_type": "stream",
     "text": [
      "Fetched number of followers ids for flat_its : 1799\n",
      "Getting Followers ids of forcedanarchy\n"
     ]
    },
    {
     "name": "stderr",
     "output_type": "stream",
     "text": [
      "\r",
      "  7%|▋         | 48/681 [1:00:45<2:02:44, 11.63s/it]"
     ]
    },
    {
     "name": "stdout",
     "output_type": "stream",
     "text": [
      "Fetched number of followers ids for forcedanarchy : 2160\n",
      "Getting Followers ids of forrestmaready\n"
     ]
    },
    {
     "name": "stderr",
     "output_type": "stream",
     "text": [
      "Rate limit reached. Sleeping for: 875\n",
      "  7%|▋         | 49/681 [1:15:27<47:52:00, 272.66s/it]"
     ]
    },
    {
     "name": "stdout",
     "output_type": "stream",
     "text": [
      "Fetched number of followers ids for forrestmaready : 15000\n",
      "Getting Followers ids of GlobalCHEMTRAIL\n"
     ]
    },
    {
     "name": "stderr",
     "output_type": "stream",
     "text": [
      "\r",
      "  7%|▋         | 50/681 [1:15:28<33:31:07, 191.23s/it]"
     ]
    },
    {
     "name": "stdout",
     "output_type": "stream",
     "text": [
      "Fetched number of followers ids for GlobalCHEMTRAIL : 10278\n",
      "Getting Followers ids of GMOFreeUSA\n"
     ]
    },
    {
     "name": "stderr",
     "output_type": "stream",
     "text": [
      "\r",
      "  7%|▋         | 51/681 [1:15:30<23:30:09, 134.30s/it]"
     ]
    },
    {
     "name": "stdout",
     "output_type": "stream",
     "text": [
      "Fetched number of followers ids for GMOFreeUSA : 15000\n",
      "Getting Followers ids of Gylauer\n"
     ]
    },
    {
     "name": "stderr",
     "output_type": "stream",
     "text": [
      "\r",
      "  8%|▊         | 52/681 [1:15:30<16:26:48, 94.13s/it] "
     ]
    },
    {
     "name": "stdout",
     "output_type": "stream",
     "text": [
      "Fetched number of followers ids for Gylauer : 2632\n",
      "Getting Followers ids of HegKong\n"
     ]
    },
    {
     "name": "stderr",
     "output_type": "stream",
     "text": [
      "\r",
      "  8%|▊         | 53/681 [1:15:32<11:35:14, 66.42s/it]"
     ]
    },
    {
     "name": "stdout",
     "output_type": "stream",
     "text": [
      "Fetched number of followers ids for HegKong : 15000\n",
      "Getting Followers ids of heru41\n"
     ]
    },
    {
     "name": "stderr",
     "output_type": "stream",
     "text": [
      "\r",
      "  8%|▊         | 54/681 [1:15:32<8:06:43, 46.58s/it] "
     ]
    },
    {
     "name": "stdout",
     "output_type": "stream",
     "text": [
      "Fetched number of followers ids for heru41 : 1136\n",
      "Getting Followers ids of hhnews\n"
     ]
    },
    {
     "name": "stderr",
     "output_type": "stream",
     "text": [
      "Rate limit reached. Sleeping for: 893\n",
      "  8%|▊         | 55/681 [1:30:32<52:36:40, 302.56s/it]"
     ]
    },
    {
     "name": "stdout",
     "output_type": "stream",
     "text": [
      "Fetched number of followers ids for hhnews : 11708\n",
      "Getting Followers ids of hidenhand1\n"
     ]
    },
    {
     "name": "stderr",
     "output_type": "stream",
     "text": [
      "\r",
      "  8%|▊         | 56/681 [1:30:33<36:47:26, 211.91s/it]"
     ]
    },
    {
     "name": "stdout",
     "output_type": "stream",
     "text": [
      "Fetched number of followers ids for hidenhand1 : 1167\n",
      "Getting Followers ids of HighWireTalk\n"
     ]
    },
    {
     "name": "stderr",
     "output_type": "stream",
     "text": [
      "\r",
      "  8%|▊         | 57/681 [1:30:34<25:47:23, 148.79s/it]"
     ]
    },
    {
     "name": "stdout",
     "output_type": "stream",
     "text": [
      "Fetched number of followers ids for HighWireTalk : 15000\n",
      "Getting Followers ids of hollyhaygood\n",
      "Going to sleep:  [{'code': 34, 'message': 'Sorry, that page does not exist.'}]\n"
     ]
    },
    {
     "name": "stderr",
     "output_type": "stream",
     "text": [
      "\r",
      "  9%|▊         | 58/681 [1:31:34<21:09:04, 122.22s/it]"
     ]
    },
    {
     "name": "stdout",
     "output_type": "stream",
     "text": [
      "Fetched number of followers ids for hollyhaygood : 0\n",
      "Getting Followers ids of itsBentooLong\n"
     ]
    },
    {
     "name": "stderr",
     "output_type": "stream",
     "text": [
      "\r",
      "  9%|▊         | 59/681 [1:31:35<14:48:15, 85.68s/it] "
     ]
    },
    {
     "name": "stdout",
     "output_type": "stream",
     "text": [
      "Fetched number of followers ids for itsBentooLong : 2979\n",
      "Getting Followers ids of Its_Stationary\n",
      "Going to sleep:  Not authorized.\n"
     ]
    },
    {
     "name": "stderr",
     "output_type": "stream",
     "text": [
      "\r",
      "  9%|▉         | 60/681 [1:32:35<13:27:47, 78.05s/it]"
     ]
    },
    {
     "name": "stdout",
     "output_type": "stream",
     "text": [
      "Fetched number of followers ids for Its_Stationary : 0\n",
      "Getting Followers ids of JakeMaverick5\n"
     ]
    },
    {
     "name": "stderr",
     "output_type": "stream",
     "text": [
      "\r",
      "  9%|▉         | 61/681 [1:32:35<9:26:07, 54.79s/it] "
     ]
    },
    {
     "name": "stdout",
     "output_type": "stream",
     "text": [
      "Fetched number of followers ids for JakeMaverick5 : 3022\n",
      "Getting Followers ids of JasminMartino\n"
     ]
    },
    {
     "name": "stderr",
     "output_type": "stream",
     "text": [
      "\r",
      "  9%|▉         | 62/681 [1:32:36<6:36:46, 38.46s/it]"
     ]
    },
    {
     "name": "stdout",
     "output_type": "stream",
     "text": [
      "Fetched number of followers ids for JasminMartino : 1125\n",
      "Getting Followers ids of jrickerthall\n"
     ]
    },
    {
     "name": "stderr",
     "output_type": "stream",
     "text": [
      "\r",
      "  9%|▉         | 63/681 [1:32:36<4:38:03, 27.00s/it]"
     ]
    },
    {
     "name": "stdout",
     "output_type": "stream",
     "text": [
      "Fetched number of followers ids for jrickerthall : 737\n",
      "Getting Followers ids of JustWakeUp8\n"
     ]
    },
    {
     "name": "stderr",
     "output_type": "stream",
     "text": [
      "\r",
      "  9%|▉         | 64/681 [1:32:37<3:15:48, 19.04s/it]"
     ]
    },
    {
     "name": "stdout",
     "output_type": "stream",
     "text": [
      "Fetched number of followers ids for JustWakeUp8 : 2867\n",
      "Getting Followers ids of keepit1002018\n"
     ]
    },
    {
     "name": "stderr",
     "output_type": "stream",
     "text": [
      "\r",
      " 10%|▉         | 65/681 [1:32:37<2:18:25, 13.48s/it]"
     ]
    },
    {
     "name": "stdout",
     "output_type": "stream",
     "text": [
      "Fetched number of followers ids for keepit1002018 : 4688\n",
      "Getting Followers ids of kellybroganmd\n"
     ]
    },
    {
     "name": "stderr",
     "output_type": "stream",
     "text": [
      "Rate limit reached. Sleeping for: 774\n",
      " 10%|▉         | 66/681 [1:45:38<41:37:41, 243.68s/it]"
     ]
    },
    {
     "name": "stdout",
     "output_type": "stream",
     "text": [
      "Fetched number of followers ids for kellybroganmd : 15000\n",
      "Getting Followers ids of KenzoAmariyo\n"
     ]
    },
    {
     "name": "stderr",
     "output_type": "stream",
     "text": [
      "\r",
      " 10%|▉         | 67/681 [1:45:38<29:06:41, 170.69s/it]"
     ]
    },
    {
     "name": "stdout",
     "output_type": "stream",
     "text": [
      "Fetched number of followers ids for KenzoAmariyo : 1924\n",
      "Getting Followers ids of kevdjenkins1\n"
     ]
    },
    {
     "name": "stderr",
     "output_type": "stream",
     "text": [
      "\r",
      " 10%|▉         | 68/681 [1:45:39<20:21:49, 119.59s/it]"
     ]
    },
    {
     "name": "stdout",
     "output_type": "stream",
     "text": [
      "Fetched number of followers ids for kevdjenkins1 : 1342\n",
      "Getting Followers ids of KimShute_NY\n"
     ]
    },
    {
     "name": "stderr",
     "output_type": "stream",
     "text": [
      "\r",
      " 10%|█         | 69/681 [1:45:39<14:14:37, 83.79s/it] "
     ]
    },
    {
     "name": "stdout",
     "output_type": "stream",
     "text": [
      "Fetched number of followers ids for KimShute_NY : 949\n",
      "Getting Followers ids of Knowfree77\n"
     ]
    },
    {
     "name": "stderr",
     "output_type": "stream",
     "text": [
      "\r",
      " 10%|█         | 70/681 [1:45:39<9:58:44, 58.80s/it] "
     ]
    },
    {
     "name": "stdout",
     "output_type": "stream",
     "text": [
      "Fetched number of followers ids for Knowfree77 : 3391\n",
      "Getting Followers ids of LaurenceBacchus\n"
     ]
    },
    {
     "name": "stderr",
     "output_type": "stream",
     "text": [
      "\r",
      " 10%|█         | 71/681 [1:45:40<6:59:09, 41.23s/it]"
     ]
    },
    {
     "name": "stdout",
     "output_type": "stream",
     "text": [
      "Fetched number of followers ids for LaurenceBacchus : 870\n",
      "Getting Followers ids of laurencette\n"
     ]
    },
    {
     "name": "stderr",
     "output_type": "stream",
     "text": [
      "\r",
      " 11%|█         | 72/681 [1:45:40<4:53:44, 28.94s/it]"
     ]
    },
    {
     "name": "stdout",
     "output_type": "stream",
     "text": [
      "Fetched number of followers ids for laurencette : 1053\n",
      "Getting Followers ids of lifebiomedguru\n"
     ]
    },
    {
     "name": "stderr",
     "output_type": "stream",
     "text": [
      "\r",
      " 11%|█         | 73/681 [1:45:41<3:29:53, 20.71s/it]"
     ]
    },
    {
     "name": "stdout",
     "output_type": "stream",
     "text": [
      "Fetched number of followers ids for lifebiomedguru : 15000\n",
      "Getting Followers ids of LookTheFuckUp_\n"
     ]
    },
    {
     "name": "stderr",
     "output_type": "stream",
     "text": [
      "\r",
      " 11%|█         | 74/681 [1:45:42<2:27:47, 14.61s/it]"
     ]
    },
    {
     "name": "stdout",
     "output_type": "stream",
     "text": [
      "Fetched number of followers ids for LookTheFuckUp_ : 2393\n",
      "Getting Followers ids of Lumineuse72\n"
     ]
    },
    {
     "name": "stderr",
     "output_type": "stream",
     "text": [
      "\r",
      " 11%|█         | 75/681 [1:45:42<1:44:27, 10.34s/it]"
     ]
    },
    {
     "name": "stdout",
     "output_type": "stream",
     "text": [
      "Fetched number of followers ids for Lumineuse72 : 2103\n",
      "Getting Followers ids of MakimuraYusaku\n"
     ]
    },
    {
     "name": "stderr",
     "output_type": "stream",
     "text": [
      "\r",
      " 11%|█         | 76/681 [1:45:42<1:14:07,  7.35s/it]"
     ]
    },
    {
     "name": "stdout",
     "output_type": "stream",
     "text": [
      "Fetched number of followers ids for MakimuraYusaku : 1796\n",
      "Getting Followers ids of MargoCatholic\n"
     ]
    },
    {
     "name": "stderr",
     "output_type": "stream",
     "text": [
      "\r",
      " 11%|█▏        | 77/681 [1:45:43<53:03,  5.27s/it]  "
     ]
    },
    {
     "name": "stdout",
     "output_type": "stream",
     "text": [
      "Fetched number of followers ids for MargoCatholic : 2708\n",
      "Getting Followers ids of MedicineAlt\n"
     ]
    },
    {
     "name": "stderr",
     "output_type": "stream",
     "text": [
      "Rate limit reached. Sleeping for: 895\n",
      " 11%|█▏        | 78/681 [2:00:45<45:55:51, 274.22s/it]"
     ]
    },
    {
     "name": "stdout",
     "output_type": "stream",
     "text": [
      "Fetched number of followers ids for MedicineAlt : 11492\n",
      "Getting Followers ids of mercola\n"
     ]
    },
    {
     "name": "stderr",
     "output_type": "stream",
     "text": [
      "\r",
      " 12%|█▏        | 79/681 [2:00:46<32:10:18, 192.39s/it]"
     ]
    },
    {
     "name": "stdout",
     "output_type": "stream",
     "text": [
      "Fetched number of followers ids for mercola : 15000\n",
      "Getting Followers ids of MyLindseyMcKeon\n"
     ]
    },
    {
     "name": "stderr",
     "output_type": "stream",
     "text": [
      "\r",
      " 12%|█▏        | 80/681 [2:00:47<22:33:02, 135.08s/it]"
     ]
    },
    {
     "name": "stdout",
     "output_type": "stream",
     "text": [
      "Fetched number of followers ids for MyLindseyMcKeon : 11638\n",
      "Getting Followers ids of natural4healing\n"
     ]
    },
    {
     "name": "stderr",
     "output_type": "stream",
     "text": [
      "\r",
      " 12%|█▏        | 81/681 [2:00:48<15:46:41, 94.67s/it] "
     ]
    },
    {
     "name": "stdout",
     "output_type": "stream",
     "text": [
      "Fetched number of followers ids for natural4healing : 2297\n",
      "Getting Followers ids of naturalhealthbl\n"
     ]
    },
    {
     "name": "stderr",
     "output_type": "stream",
     "text": [
      "\r",
      " 12%|█▏        | 82/681 [2:00:48<11:02:40, 66.38s/it]"
     ]
    },
    {
     "name": "stdout",
     "output_type": "stream",
     "text": [
      "Fetched number of followers ids for naturalhealthbl : 2304\n",
      "Getting Followers ids of NickHudsonCT\n"
     ]
    },
    {
     "name": "stderr",
     "output_type": "stream",
     "text": [
      "\r",
      " 12%|█▏        | 83/681 [2:00:50<7:48:19, 46.99s/it] "
     ]
    },
    {
     "name": "stdout",
     "output_type": "stream",
     "text": [
      "Fetched number of followers ids for NickHudsonCT : 15000\n",
      "Getting Followers ids of nickworldclass\n"
     ]
    },
    {
     "name": "stderr",
     "output_type": "stream",
     "text": [
      "Rate limit reached. Sleeping for: 893\n",
      " 12%|█▏        | 84/681 [2:15:49<50:10:55, 302.60s/it]"
     ]
    },
    {
     "name": "stdout",
     "output_type": "stream",
     "text": [
      "Fetched number of followers ids for nickworldclass : 6115\n",
      "Getting Followers ids of nocompulsoryvac\n"
     ]
    },
    {
     "name": "stderr",
     "output_type": "stream",
     "text": [
      "\r",
      " 12%|█▏        | 85/681 [2:15:52<35:13:37, 212.78s/it]"
     ]
    },
    {
     "name": "stdout",
     "output_type": "stream",
     "text": [
      "Fetched number of followers ids for nocompulsoryvac : 9175\n",
      "Getting Followers ids of Novaccineforce\n"
     ]
    },
    {
     "name": "stderr",
     "output_type": "stream",
     "text": [
      "\r",
      " 13%|█▎        | 86/681 [2:15:53<24:40:02, 149.25s/it]"
     ]
    },
    {
     "name": "stdout",
     "output_type": "stream",
     "text": [
      "Fetched number of followers ids for Novaccineforce : 9038\n",
      "Getting Followers ids of octoberxswimmer\n"
     ]
    },
    {
     "name": "stderr",
     "output_type": "stream",
     "text": [
      "\r",
      " 13%|█▎        | 87/681 [2:15:55<17:18:11, 104.87s/it]"
     ]
    },
    {
     "name": "stdout",
     "output_type": "stream",
     "text": [
      "Fetched number of followers ids for octoberxswimmer : 1648\n",
      "Getting Followers ids of onthechemtrail\n"
     ]
    },
    {
     "name": "stderr",
     "output_type": "stream",
     "text": [
      "\r",
      " 13%|█▎        | 88/681 [2:15:55<12:07:46, 73.64s/it] "
     ]
    },
    {
     "name": "stdout",
     "output_type": "stream",
     "text": [
      "Fetched number of followers ids for onthechemtrail : 2516\n",
      "Getting Followers ids of OpChemtrails\n"
     ]
    },
    {
     "name": "stderr",
     "output_type": "stream",
     "text": [
      "\r",
      " 13%|█▎        | 89/681 [2:15:59<8:39:28, 52.65s/it] "
     ]
    },
    {
     "name": "stdout",
     "output_type": "stream",
     "text": [
      "Fetched number of followers ids for OpChemtrails : 15000\n",
      "Getting Followers ids of OrganicConsumer\n"
     ]
    },
    {
     "name": "stderr",
     "output_type": "stream",
     "text": [
      "\r",
      " 13%|█▎        | 90/681 [2:16:00<6:07:25, 37.30s/it]"
     ]
    },
    {
     "name": "stdout",
     "output_type": "stream",
     "text": [
      "Fetched number of followers ids for OrganicConsumer : 15000\n",
      "Getting Followers ids of PdxTreehouse\n"
     ]
    },
    {
     "name": "stderr",
     "output_type": "stream",
     "text": [
      "\r",
      " 13%|█▎        | 91/681 [2:16:01<4:17:50, 26.22s/it]"
     ]
    },
    {
     "name": "stdout",
     "output_type": "stream",
     "text": [
      "Fetched number of followers ids for PdxTreehouse : 2854\n",
      "Getting Followers ids of proventreatment\n"
     ]
    },
    {
     "name": "stderr",
     "output_type": "stream",
     "text": [
      "\r",
      " 14%|█▎        | 92/681 [2:16:01<3:01:19, 18.47s/it]"
     ]
    },
    {
     "name": "stdout",
     "output_type": "stream",
     "text": [
      "Fetched number of followers ids for proventreatment : 2109\n",
      "Getting Followers ids of QMFlatEarth\n"
     ]
    },
    {
     "name": "stderr",
     "output_type": "stream",
     "text": [
      "Rate limit reached. Sleeping for: 888\n",
      " 14%|█▎        | 93/681 [2:30:55<45:54:07, 281.03s/it]"
     ]
    },
    {
     "name": "stdout",
     "output_type": "stream",
     "text": [
      "Fetched number of followers ids for QMFlatEarth : 1807\n",
      "Getting Followers ids of radiation_uk\n"
     ]
    },
    {
     "name": "stderr",
     "output_type": "stream",
     "text": [
      "\r",
      " 14%|█▍        | 94/681 [2:30:55<32:05:22, 196.80s/it]"
     ]
    },
    {
     "name": "stdout",
     "output_type": "stream",
     "text": [
      "Fetched number of followers ids for radiation_uk : 846\n",
      "Getting Followers ids of radzzzzster\n"
     ]
    },
    {
     "name": "stderr",
     "output_type": "stream",
     "text": [
      "\r",
      " 14%|█▍        | 95/681 [2:30:56<22:26:32, 137.87s/it]"
     ]
    },
    {
     "name": "stdout",
     "output_type": "stream",
     "text": [
      "Fetched number of followers ids for radzzzzster : 2237\n",
      "Getting Followers ids of richaelfaithful\n"
     ]
    },
    {
     "name": "stderr",
     "output_type": "stream",
     "text": [
      "\r",
      " 14%|█▍        | 96/681 [2:30:56<15:41:38, 96.58s/it] "
     ]
    },
    {
     "name": "stdout",
     "output_type": "stream",
     "text": [
      "Fetched number of followers ids for richaelfaithful : 332\n",
      "Getting Followers ids of ritamollerpalma\n"
     ]
    },
    {
     "name": "stderr",
     "output_type": "stream",
     "text": [
      "\r",
      " 14%|█▍        | 97/681 [2:30:56<11:00:08, 67.82s/it]"
     ]
    },
    {
     "name": "stdout",
     "output_type": "stream",
     "text": [
      "Fetched number of followers ids for ritamollerpalma : 5412\n",
      "Getting Followers ids of riteaid\n"
     ]
    },
    {
     "name": "stderr",
     "output_type": "stream",
     "text": [
      "\r",
      " 14%|█▍        | 98/681 [2:30:58<7:45:47, 47.94s/it] "
     ]
    },
    {
     "name": "stdout",
     "output_type": "stream",
     "text": [
      "Fetched number of followers ids for riteaid : 15000\n",
      "Getting Followers ids of RobertKennedyJr\n"
     ]
    },
    {
     "name": "stderr",
     "output_type": "stream",
     "text": [
      "\r",
      " 15%|█▍        | 99/681 [2:31:00<5:29:52, 34.01s/it]"
     ]
    },
    {
     "name": "stdout",
     "output_type": "stream",
     "text": [
      "Fetched number of followers ids for RobertKennedyJr : 15000\n",
      "Getting Followers ids of sayerjigmi\n"
     ]
    },
    {
     "name": "stderr",
     "output_type": "stream",
     "text": [
      "\r",
      " 15%|█▍        | 100/681 [2:31:03<4:00:40, 24.85s/it]"
     ]
    },
    {
     "name": "stdout",
     "output_type": "stream",
     "text": [
      "Fetched number of followers ids for sayerjigmi : 11396\n",
      "Getting Followers ids of Scotland5g\n"
     ]
    },
    {
     "name": "stderr",
     "output_type": "stream",
     "text": [
      "Rate limit reached. Sleeping for: 892\n"
     ]
    },
    {
     "name": "stdout",
     "output_type": "stream",
     "text": [
      "Going to sleep:  Not authorized.\n"
     ]
    },
    {
     "name": "stderr",
     "output_type": "stream",
     "text": [
      "\r",
      " 15%|█▍        | 101/681 [2:47:01<49:05:05, 304.67s/it]"
     ]
    },
    {
     "name": "stdout",
     "output_type": "stream",
     "text": [
      "Fetched number of followers ids for Scotland5g : 0\n",
      "Getting Followers ids of Spacehehehe\n"
     ]
    },
    {
     "name": "stderr",
     "output_type": "stream",
     "text": [
      "\r",
      " 15%|█▍        | 102/681 [2:47:02<34:22:30, 213.73s/it]"
     ]
    },
    {
     "name": "stdout",
     "output_type": "stream",
     "text": [
      "Fetched number of followers ids for Spacehehehe : 15000\n",
      "Getting Followers ids of Stop5G\n"
     ]
    },
    {
     "name": "stderr",
     "output_type": "stream",
     "text": [
      "\r",
      " 15%|█▌        | 103/681 [2:47:04<24:06:12, 150.13s/it]"
     ]
    },
    {
     "name": "stdout",
     "output_type": "stream",
     "text": [
      "Fetched number of followers ids for Stop5G : 1283\n",
      "Getting Followers ids of STOP5G_STOP5G\n"
     ]
    },
    {
     "name": "stderr",
     "output_type": "stream",
     "text": [
      "\r",
      " 15%|█▌        | 104/681 [2:47:04<16:51:22, 105.17s/it]"
     ]
    },
    {
     "name": "stdout",
     "output_type": "stream",
     "text": [
      "Fetched number of followers ids for STOP5G_STOP5G : 516\n",
      "Getting Followers ids of SydneyChemtrail\n"
     ]
    },
    {
     "name": "stderr",
     "output_type": "stream",
     "text": [
      "\r",
      " 15%|█▌        | 105/681 [2:47:05<11:47:54, 73.74s/it] "
     ]
    },
    {
     "name": "stdout",
     "output_type": "stream",
     "text": [
      "Fetched number of followers ids for SydneyChemtrail : 2376\n",
      "Getting Followers ids of TheFlatEartherr\n"
     ]
    },
    {
     "name": "stderr",
     "output_type": "stream",
     "text": [
      "\r",
      " 16%|█▌        | 106/681 [2:47:09<8:27:36, 52.97s/it] "
     ]
    },
    {
     "name": "stdout",
     "output_type": "stream",
     "text": [
      "Fetched number of followers ids for TheFlatEartherr : 15000\n",
      "Getting Followers ids of TomSoenen1\n",
      "Going to sleep:  [{'code': 34, 'message': 'Sorry, that page does not exist.'}]\n"
     ]
    },
    {
     "name": "stderr",
     "output_type": "stream",
     "text": [
      "\r",
      " 16%|█▌        | 107/681 [2:48:09<8:47:35, 55.15s/it]"
     ]
    },
    {
     "name": "stdout",
     "output_type": "stream",
     "text": [
      "Fetched number of followers ids for TomSoenen1 : 0\n",
      "Getting Followers ids of truthvaxwarrior\n"
     ]
    },
    {
     "name": "stderr",
     "output_type": "stream",
     "text": [
      "\r",
      " 16%|█▌        | 108/681 [2:48:10<6:10:05, 38.75s/it]"
     ]
    },
    {
     "name": "stdout",
     "output_type": "stream",
     "text": [
      "Fetched number of followers ids for truthvaxwarrior : 4036\n",
      "Getting Followers ids of unhealthytruth\n"
     ]
    },
    {
     "name": "stderr",
     "output_type": "stream",
     "text": [
      "\r",
      " 16%|█▌        | 109/681 [2:48:14<4:30:57, 28.42s/it]"
     ]
    },
    {
     "name": "stdout",
     "output_type": "stream",
     "text": [
      "Fetched number of followers ids for unhealthytruth : 15000\n",
      "Getting Followers ids of US4MF\n"
     ]
    },
    {
     "name": "stderr",
     "output_type": "stream",
     "text": [
      "Rate limit reached. Sleeping for: 767\n",
      " 16%|█▌        | 110/681 [3:01:07<39:55:21, 251.70s/it]"
     ]
    },
    {
     "name": "stdout",
     "output_type": "stream",
     "text": [
      "Fetched number of followers ids for US4MF : 2614\n",
      "Getting Followers ids of VaccineEdLeague\n"
     ]
    },
    {
     "name": "stderr",
     "output_type": "stream",
     "text": [
      "\r",
      " 16%|█▋        | 111/681 [3:01:07<27:54:54, 176.31s/it]"
     ]
    },
    {
     "name": "stdout",
     "output_type": "stream",
     "text": [
      "Fetched number of followers ids for VaccineEdLeague : 863\n",
      "Getting Followers ids of VaccineResist\n"
     ]
    },
    {
     "name": "stderr",
     "output_type": "stream",
     "text": [
      "\r",
      " 16%|█▋        | 112/681 [3:01:08<19:33:04, 123.70s/it]"
     ]
    },
    {
     "name": "stdout",
     "output_type": "stream",
     "text": [
      "Fetched number of followers ids for VaccineResist : 8860\n",
      "Getting Followers ids of VAware1986\n"
     ]
    },
    {
     "name": "stderr",
     "output_type": "stream",
     "text": [
      "\r",
      " 17%|█▋        | 113/681 [3:01:09<13:42:29, 86.88s/it] "
     ]
    },
    {
     "name": "stdout",
     "output_type": "stream",
     "text": [
      "Fetched number of followers ids for VAware1986 : 7910\n",
      "Getting Followers ids of VaxFactsCA\n",
      "Going to sleep:  [{'code': 34, 'message': 'Sorry, that page does not exist.'}]\n"
     ]
    },
    {
     "name": "stderr",
     "output_type": "stream",
     "text": [
      "\r",
      " 17%|█▋        | 114/681 [3:02:09<12:25:30, 78.89s/it]"
     ]
    },
    {
     "name": "stdout",
     "output_type": "stream",
     "text": [
      "Fetched number of followers ids for VaxFactsCA : 0\n",
      "Getting Followers ids of vaxxed2\n"
     ]
    },
    {
     "name": "stderr",
     "output_type": "stream",
     "text": [
      "\r",
      " 17%|█▋        | 115/681 [3:02:11<8:45:11, 55.67s/it] "
     ]
    },
    {
     "name": "stdout",
     "output_type": "stream",
     "text": [
      "Fetched number of followers ids for vaxxed2 : 15000\n",
      "Getting Followers ids of VitalityOnline\n"
     ]
    },
    {
     "name": "stderr",
     "output_type": "stream",
     "text": [
      "\r",
      " 17%|█▋        | 116/681 [3:02:11<6:08:06, 39.09s/it]"
     ]
    },
    {
     "name": "stdout",
     "output_type": "stream",
     "text": [
      "Fetched number of followers ids for VitalityOnline : 3289\n",
      "Getting Followers ids of Vomit911\n"
     ]
    },
    {
     "name": "stderr",
     "output_type": "stream",
     "text": [
      "\r",
      " 17%|█▋        | 117/681 [3:02:12<4:18:14, 27.47s/it]"
     ]
    },
    {
     "name": "stdout",
     "output_type": "stream",
     "text": [
      "Fetched number of followers ids for Vomit911 : 1712\n",
      "Getting Followers ids of wanderinganimal\n"
     ]
    },
    {
     "name": "stderr",
     "output_type": "stream",
     "text": [
      "\r",
      " 17%|█▋        | 118/681 [3:02:12<3:01:48, 19.38s/it]"
     ]
    },
    {
     "name": "stdout",
     "output_type": "stream",
     "text": [
      "Fetched number of followers ids for wanderinganimal : 3642\n",
      "Getting Followers ids of wddty\n"
     ]
    },
    {
     "name": "stderr",
     "output_type": "stream",
     "text": [
      "\r",
      " 17%|█▋        | 119/681 [3:02:15<2:16:26, 14.57s/it]"
     ]
    },
    {
     "name": "stdout",
     "output_type": "stream",
     "text": [
      "Fetched number of followers ids for wddty : 4364\n",
      "Getting Followers ids of WeWillBeFree82\n",
      "Going to sleep:  Not authorized.\n"
     ]
    },
    {
     "name": "stderr",
     "output_type": "stream",
     "text": [
      "\r",
      " 18%|█▊        | 120/681 [3:03:16<4:24:23, 28.28s/it]"
     ]
    },
    {
     "name": "stdout",
     "output_type": "stream",
     "text": [
      "Fetched number of followers ids for WeWillBeFree82 : 0\n",
      "Getting Followers ids of WorldwideHealth\n"
     ]
    },
    {
     "name": "stderr",
     "output_type": "stream",
     "text": [
      "Rate limit reached. Sleeping for: 771\n",
      " 18%|█▊        | 121/681 [3:16:14<39:23:49, 253.27s/it]"
     ]
    },
    {
     "name": "stdout",
     "output_type": "stream",
     "text": [
      "Fetched number of followers ids for WorldwideHealth : 11072\n",
      "Getting Followers ids of yattypat\n"
     ]
    },
    {
     "name": "stderr",
     "output_type": "stream",
     "text": [
      "\r",
      " 18%|█▊        | 122/681 [3:16:17<27:39:01, 178.07s/it]"
     ]
    },
    {
     "name": "stdout",
     "output_type": "stream",
     "text": [
      "Fetched number of followers ids for yattypat : 3794\n",
      "Getting Followers ids of YouthAgainst5G\n"
     ]
    },
    {
     "name": "stderr",
     "output_type": "stream",
     "text": [
      "\r",
      " 18%|█▊        | 123/681 [3:16:17<19:20:16, 124.76s/it]"
     ]
    },
    {
     "name": "stdout",
     "output_type": "stream",
     "text": [
      "Fetched number of followers ids for YouthAgainst5G : 2385\n",
      "Getting Followers ids of _CSHD\n"
     ]
    },
    {
     "name": "stderr",
     "output_type": "stream",
     "text": [
      "\r",
      " 18%|█▊        | 124/681 [3:16:17<13:31:23, 87.40s/it] "
     ]
    },
    {
     "name": "stdout",
     "output_type": "stream",
     "text": [
      "Fetched number of followers ids for _CSHD : 786\n",
      "Getting Followers ids of TNaturalHealing\n"
     ]
    },
    {
     "name": "stderr",
     "output_type": "stream",
     "text": [
      "\r",
      " 18%|█▊        | 125/681 [3:16:17<9:27:59, 61.29s/it] "
     ]
    },
    {
     "name": "stdout",
     "output_type": "stream",
     "text": [
      "Fetched number of followers ids for TNaturalHealing : 1086\n",
      "Getting Followers ids of 82jsmith\n"
     ]
    },
    {
     "name": "stderr",
     "output_type": "stream",
     "text": [
      "\r",
      " 19%|█▊        | 126/681 [3:16:18<6:37:58, 43.02s/it]"
     ]
    },
    {
     "name": "stdout",
     "output_type": "stream",
     "text": [
      "Fetched number of followers ids for 82jsmith : 1624\n",
      "Getting Followers ids of apiscesdream\n"
     ]
    },
    {
     "name": "stderr",
     "output_type": "stream",
     "text": [
      "\r",
      " 19%|█▊        | 127/681 [3:16:18<4:38:47, 30.19s/it]"
     ]
    },
    {
     "name": "stdout",
     "output_type": "stream",
     "text": [
      "Fetched number of followers ids for apiscesdream : 779\n",
      "Getting Followers ids of Astroidhalo774\n"
     ]
    },
    {
     "name": "stderr",
     "output_type": "stream",
     "text": [
      "\r",
      " 19%|█▉        | 128/681 [3:16:19<3:15:59, 21.26s/it]"
     ]
    },
    {
     "name": "stdout",
     "output_type": "stream",
     "text": [
      "Fetched number of followers ids for Astroidhalo774 : 2631\n",
      "Getting Followers ids of authoralexray\n"
     ]
    },
    {
     "name": "stderr",
     "output_type": "stream",
     "text": [
      "\r",
      " 19%|█▉        | 129/681 [3:16:19<2:17:59, 15.00s/it]"
     ]
    },
    {
     "name": "stdout",
     "output_type": "stream",
     "text": [
      "Fetched number of followers ids for authoralexray : 1948\n",
      "Getting Followers ids of barmanamar1976\n"
     ]
    },
    {
     "name": "stderr",
     "output_type": "stream",
     "text": [
      "\r",
      " 19%|█▉        | 130/681 [3:16:19<1:37:46, 10.65s/it]"
     ]
    },
    {
     "name": "stdout",
     "output_type": "stream",
     "text": [
      "Fetched number of followers ids for barmanamar1976 : 3609\n",
      "Getting Followers ids of BBGRichie\n",
      "Going to sleep:  Not authorized.\n"
     ]
    },
    {
     "name": "stderr",
     "output_type": "stream",
     "text": [
      "\r",
      " 19%|█▉        | 131/681 [3:17:20<3:53:57, 25.52s/it]"
     ]
    },
    {
     "name": "stdout",
     "output_type": "stream",
     "text": [
      "Fetched number of followers ids for BBGRichie : 0\n",
      "Getting Followers ids of CarlDevitt\n"
     ]
    },
    {
     "name": "stderr",
     "output_type": "stream",
     "text": [
      "\r",
      " 19%|█▉        | 132/681 [3:17:20<2:44:48, 18.01s/it]"
     ]
    },
    {
     "name": "stdout",
     "output_type": "stream",
     "text": [
      "Fetched number of followers ids for CarlDevitt : 3447\n",
      "Getting Followers ids of Cernovich\n"
     ]
    },
    {
     "name": "stderr",
     "output_type": "stream",
     "text": [
      "Rate limit reached. Sleeping for: 832\n",
      " 20%|█▉        | 133/681 [3:31:19<40:14:35, 264.37s/it]"
     ]
    },
    {
     "name": "stdout",
     "output_type": "stream",
     "text": [
      "Fetched number of followers ids for Cernovich : 15000\n",
      "Getting Followers ids of Chemtrails_Uk\n"
     ]
    },
    {
     "name": "stderr",
     "output_type": "stream",
     "text": [
      "\r",
      " 20%|█▉        | 134/681 [3:31:20<28:08:33, 185.22s/it]"
     ]
    },
    {
     "name": "stdout",
     "output_type": "stream",
     "text": [
      "Fetched number of followers ids for Chemtrails_Uk : 2612\n",
      "Getting Followers ids of ChildrensHD\n"
     ]
    },
    {
     "name": "stderr",
     "output_type": "stream",
     "text": [
      "\r",
      " 20%|█▉        | 135/681 [3:31:29<20:04:17, 132.34s/it]"
     ]
    },
    {
     "name": "stdout",
     "output_type": "stream",
     "text": [
      "Fetched number of followers ids for ChildrensHD : 15000\n",
      "Getting Followers ids of cuttingchains\n"
     ]
    },
    {
     "name": "stderr",
     "output_type": "stream",
     "text": [
      "\r",
      " 20%|█▉        | 136/681 [3:31:29<14:03:02, 92.81s/it] "
     ]
    },
    {
     "name": "stdout",
     "output_type": "stream",
     "text": [
      "Fetched number of followers ids for cuttingchains : 2245\n",
      "Getting Followers ids of DavidWolfe\n"
     ]
    },
    {
     "name": "stderr",
     "output_type": "stream",
     "text": [
      "\r",
      " 20%|██        | 137/681 [3:31:33<9:58:47, 66.04s/it] "
     ]
    },
    {
     "name": "stdout",
     "output_type": "stream",
     "text": [
      "Fetched number of followers ids for DavidWolfe : 15000\n",
      "Getting Followers ids of derek99white191\n"
     ]
    },
    {
     "name": "stderr",
     "output_type": "stream",
     "text": [
      "\r",
      " 20%|██        | 138/681 [3:31:33<6:59:21, 46.34s/it]"
     ]
    },
    {
     "name": "stdout",
     "output_type": "stream",
     "text": [
      "Fetched number of followers ids for derek99white191 : 1934\n",
      "Getting Followers ids of dmarble1\n"
     ]
    },
    {
     "name": "stderr",
     "output_type": "stream",
     "text": [
      "\r",
      " 20%|██        | 139/681 [3:31:34<4:55:29, 32.71s/it]"
     ]
    },
    {
     "name": "stdout",
     "output_type": "stream",
     "text": [
      "Fetched number of followers ids for dmarble1 : 7074\n",
      "Getting Followers ids of drbloem\n"
     ]
    },
    {
     "name": "stderr",
     "output_type": "stream",
     "text": [
      "Rate limit reached. Sleeping for: 881\n",
      " 21%|██        | 140/681 [3:46:25<43:35:38, 290.09s/it]"
     ]
    },
    {
     "name": "stdout",
     "output_type": "stream",
     "text": [
      "Fetched number of followers ids for drbloem : 15000\n",
      "Getting Followers ids of DrJudyAMikovits\n"
     ]
    },
    {
     "name": "stderr",
     "output_type": "stream",
     "text": [
      "\r",
      " 21%|██        | 141/681 [3:46:29<30:38:45, 204.31s/it]"
     ]
    },
    {
     "name": "stdout",
     "output_type": "stream",
     "text": [
      "Fetched number of followers ids for DrJudyAMikovits : 15000\n",
      "Getting Followers ids of EarthIsFlat1\n"
     ]
    },
    {
     "name": "stderr",
     "output_type": "stream",
     "text": [
      "\r",
      " 21%|██        | 142/681 [3:46:30<21:26:18, 143.19s/it]"
     ]
    },
    {
     "name": "stdout",
     "output_type": "stream",
     "text": [
      "Fetched number of followers ids for EarthIsFlat1 : 2138\n",
      "Getting Followers ids of earthisflat87\n"
     ]
    },
    {
     "name": "stderr",
     "output_type": "stream",
     "text": [
      "\r",
      " 21%|██        | 143/681 [3:46:31<15:01:09, 100.50s/it]"
     ]
    },
    {
     "name": "stdout",
     "output_type": "stream",
     "text": [
      "Fetched number of followers ids for earthisflat87 : 1110\n",
      "Getting Followers ids of faith4truths\n"
     ]
    },
    {
     "name": "stderr",
     "output_type": "stream",
     "text": [
      "\r",
      " 21%|██        | 144/681 [3:46:31<10:30:39, 70.47s/it] "
     ]
    },
    {
     "name": "stdout",
     "output_type": "stream",
     "text": [
      "Fetched number of followers ids for faith4truths : 1850\n",
      "Getting Followers ids of FEcourious\n"
     ]
    },
    {
     "name": "stderr",
     "output_type": "stream",
     "text": [
      "\r",
      " 21%|██▏       | 145/681 [3:46:33<7:25:35, 49.88s/it] "
     ]
    },
    {
     "name": "stdout",
     "output_type": "stream",
     "text": [
      "Fetched number of followers ids for FEcourious : 2157\n",
      "Getting Followers ids of FlatEarthFreddy\n"
     ]
    },
    {
     "name": "stderr",
     "output_type": "stream",
     "text": [
      "\r",
      " 21%|██▏       | 146/681 [3:46:33<5:12:29, 35.05s/it]"
     ]
    },
    {
     "name": "stdout",
     "output_type": "stream",
     "text": [
      "Fetched number of followers ids for FlatEarthFreddy : 2600\n",
      "Getting Followers ids of flatearthling\n"
     ]
    },
    {
     "name": "stderr",
     "output_type": "stream",
     "text": [
      "\r",
      " 22%|██▏       | 147/681 [3:46:34<3:39:19, 24.64s/it]"
     ]
    },
    {
     "name": "stdout",
     "output_type": "stream",
     "text": [
      "Fetched number of followers ids for flatearthling : 1613\n",
      "Getting Followers ids of Homestead4Honey\n"
     ]
    },
    {
     "name": "stderr",
     "output_type": "stream",
     "text": [
      "\r",
      " 22%|██▏       | 148/681 [3:46:36<2:38:59, 17.90s/it]"
     ]
    },
    {
     "name": "stdout",
     "output_type": "stream",
     "text": [
      "Fetched number of followers ids for Homestead4Honey : 15000\n",
      "Getting Followers ids of IngrahamAngle\n"
     ]
    },
    {
     "name": "stderr",
     "output_type": "stream",
     "text": [
      "Rate limit reached. Sleeping for: 885\n",
      " 22%|██▏       | 149/681 [4:01:31<41:31:26, 280.99s/it]"
     ]
    },
    {
     "name": "stdout",
     "output_type": "stream",
     "text": [
      "Fetched number of followers ids for IngrahamAngle : 15000\n",
      "Getting Followers ids of ItsFlatFolks\n"
     ]
    },
    {
     "name": "stderr",
     "output_type": "stream",
     "text": [
      "\r",
      " 22%|██▏       | 150/681 [4:01:31<29:02:03, 196.84s/it]"
     ]
    },
    {
     "name": "stdout",
     "output_type": "stream",
     "text": [
      "Fetched number of followers ids for ItsFlatFolks : 4779\n",
      "Getting Followers ids of JeffereyJaxen\n"
     ]
    },
    {
     "name": "stderr",
     "output_type": "stream",
     "text": [
      "\r",
      " 22%|██▏       | 151/681 [4:01:33<20:21:00, 138.23s/it]"
     ]
    },
    {
     "name": "stdout",
     "output_type": "stream",
     "text": [
      "Fetched number of followers ids for JeffereyJaxen : 15000\n",
      "Getting Followers ids of jeranism\n"
     ]
    },
    {
     "name": "stderr",
     "output_type": "stream",
     "text": [
      "\r",
      " 22%|██▏       | 152/681 [4:01:36<14:21:08, 97.67s/it] "
     ]
    },
    {
     "name": "stdout",
     "output_type": "stream",
     "text": [
      "Fetched number of followers ids for jeranism : 8404\n",
      "Getting Followers ids of jonrappoport\n"
     ]
    },
    {
     "name": "stderr",
     "output_type": "stream",
     "text": [
      "\r",
      " 22%|██▏       | 153/681 [4:01:37<10:05:31, 68.81s/it]"
     ]
    },
    {
     "name": "stdout",
     "output_type": "stream",
     "text": [
      "Fetched number of followers ids for jonrappoport : 15000\n",
      "Getting Followers ids of LaLaRueFrench75\n"
     ]
    },
    {
     "name": "stderr",
     "output_type": "stream",
     "text": [
      "\r",
      " 23%|██▎       | 154/681 [4:01:39<7:07:08, 48.63s/it] "
     ]
    },
    {
     "name": "stdout",
     "output_type": "stream",
     "text": [
      "Fetched number of followers ids for LaLaRueFrench75 : 15000\n",
      "Getting Followers ids of LeeZilch\n"
     ]
    },
    {
     "name": "stderr",
     "output_type": "stream",
     "text": [
      "\r",
      " 23%|██▎       | 155/681 [4:01:40<5:03:09, 34.58s/it]"
     ]
    },
    {
     "name": "stdout",
     "output_type": "stream",
     "text": [
      "Fetched number of followers ids for LeeZilch : 840\n",
      "Getting Followers ids of MaxisicalG\n"
     ]
    },
    {
     "name": "stderr",
     "output_type": "stream",
     "text": [
      "\r",
      " 23%|██▎       | 156/681 [4:01:41<3:33:50, 24.44s/it]"
     ]
    },
    {
     "name": "stdout",
     "output_type": "stream",
     "text": [
      "Fetched number of followers ids for MaxisicalG : 1988\n",
      "Getting Followers ids of mend_the_world\n"
     ]
    },
    {
     "name": "stderr",
     "output_type": "stream",
     "text": [
      "Rate limit reached. Sleeping for: 890\n",
      " 23%|██▎       | 157/681 [4:16:37<41:36:04, 285.81s/it]"
     ]
    },
    {
     "name": "stdout",
     "output_type": "stream",
     "text": [
      "Fetched number of followers ids for mend_the_world : 1561\n",
      "Getting Followers ids of NikonP1111\n",
      "Going to sleep:  Not authorized.\n"
     ]
    },
    {
     "name": "stderr",
     "output_type": "stream",
     "text": [
      "\r",
      " 23%|██▎       | 158/681 [4:17:37<31:41:28, 218.14s/it]"
     ]
    },
    {
     "name": "stdout",
     "output_type": "stream",
     "text": [
      "Fetched number of followers ids for NikonP1111 : 0\n",
      "Getting Followers ids of nocurvature\n"
     ]
    },
    {
     "name": "stderr",
     "output_type": "stream",
     "text": [
      "\r",
      " 23%|██▎       | 159/681 [4:17:38<22:10:40, 152.95s/it]"
     ]
    },
    {
     "name": "stdout",
     "output_type": "stream",
     "text": [
      "Fetched number of followers ids for nocurvature : 5449\n",
      "Getting Followers ids of NotPorC\n"
     ]
    },
    {
     "name": "stderr",
     "output_type": "stream",
     "text": [
      "\r",
      " 23%|██▎       | 160/681 [4:17:39<15:33:35, 107.51s/it]"
     ]
    },
    {
     "name": "stdout",
     "output_type": "stream",
     "text": [
      "Fetched number of followers ids for NotPorC : 15000\n",
      "Getting Followers ids of oddtv3\n"
     ]
    },
    {
     "name": "stderr",
     "output_type": "stream",
     "text": [
      "\r",
      " 24%|██▎       | 161/681 [4:17:43<11:01:04, 76.28s/it] "
     ]
    },
    {
     "name": "stdout",
     "output_type": "stream",
     "text": [
      "Fetched number of followers ids for oddtv3 : 11516\n",
      "Getting Followers ids of ParisUsa333\n"
     ]
    },
    {
     "name": "stderr",
     "output_type": "stream",
     "text": [
      "\r",
      " 24%|██▍       | 162/681 [4:17:43<7:43:11, 53.55s/it] "
     ]
    },
    {
     "name": "stdout",
     "output_type": "stream",
     "text": [
      "Fetched number of followers ids for ParisUsa333 : 3530\n",
      "Getting Followers ids of picphysicians\n"
     ]
    },
    {
     "name": "stderr",
     "output_type": "stream",
     "text": [
      "\r",
      " 24%|██▍       | 163/681 [4:17:45<5:27:23, 37.92s/it]"
     ]
    },
    {
     "name": "stdout",
     "output_type": "stream",
     "text": [
      "Fetched number of followers ids for picphysicians : 15000\n",
      "Getting Followers ids of PrisonPlanet\n"
     ]
    },
    {
     "name": "stderr",
     "output_type": "stream",
     "text": [
      "Rate limit reached. Sleeping for: 832\n",
      " 24%|██▍       | 164/681 [4:31:44<39:56:46, 278.16s/it]"
     ]
    },
    {
     "name": "stdout",
     "output_type": "stream",
     "text": [
      "Fetched number of followers ids for PrisonPlanet : 15000\n",
      "Getting Followers ids of RichardReichle\n"
     ]
    },
    {
     "name": "stderr",
     "output_type": "stream",
     "text": [
      "\r",
      " 24%|██▍       | 165/681 [4:31:44<27:56:51, 194.98s/it]"
     ]
    },
    {
     "name": "stdout",
     "output_type": "stream",
     "text": [
      "Fetched number of followers ids for RichardReichle : 8300\n",
      "Getting Followers ids of RobSchneider\n"
     ]
    },
    {
     "name": "stderr",
     "output_type": "stream",
     "text": [
      "\r",
      " 24%|██▍       | 166/681 [4:31:46<19:36:15, 137.04s/it]"
     ]
    },
    {
     "name": "stdout",
     "output_type": "stream",
     "text": [
      "Fetched number of followers ids for RobSchneider : 15000\n",
      "Getting Followers ids of rsbellmedia\n"
     ]
    },
    {
     "name": "stderr",
     "output_type": "stream",
     "text": [
      "\r",
      " 25%|██▍       | 167/681 [4:31:48<13:46:06, 96.43s/it] "
     ]
    },
    {
     "name": "stdout",
     "output_type": "stream",
     "text": [
      "Fetched number of followers ids for rsbellmedia : 11948\n",
      "Getting Followers ids of RyaanFEP\n"
     ]
    },
    {
     "name": "stderr",
     "output_type": "stream",
     "text": [
      "\r",
      " 25%|██▍       | 168/681 [4:31:48<9:38:23, 67.65s/it] "
     ]
    },
    {
     "name": "stdout",
     "output_type": "stream",
     "text": [
      "Fetched number of followers ids for RyaanFEP : 2713\n",
      "Getting Followers ids of screwnasapunks\n"
     ]
    },
    {
     "name": "stderr",
     "output_type": "stream",
     "text": [
      "\r",
      " 25%|██▍       | 169/681 [4:31:49<6:45:00, 47.46s/it]"
     ]
    },
    {
     "name": "stdout",
     "output_type": "stream",
     "text": [
      "Fetched number of followers ids for screwnasapunks : 2108\n",
      "Getting Followers ids of SeekingTruth___\n"
     ]
    },
    {
     "name": "stderr",
     "output_type": "stream",
     "text": [
      "\r",
      " 25%|██▍       | 170/681 [4:31:49<4:43:55, 33.34s/it]"
     ]
    },
    {
     "name": "stdout",
     "output_type": "stream",
     "text": [
      "Fetched number of followers ids for SeekingTruth___ : 1433\n",
      "Getting Followers ids of SlayckPhoenix\n"
     ]
    },
    {
     "name": "stderr",
     "output_type": "stream",
     "text": [
      "\r",
      " 25%|██▌       | 171/681 [4:31:50<3:19:20, 23.45s/it]"
     ]
    },
    {
     "name": "stdout",
     "output_type": "stream",
     "text": [
      "Fetched number of followers ids for SlayckPhoenix : 1643\n",
      "Getting Followers ids of Tierraplana6\n"
     ]
    },
    {
     "name": "stderr",
     "output_type": "stream",
     "text": [
      "\r",
      " 25%|██▌       | 172/681 [4:31:50<2:19:56, 16.50s/it]"
     ]
    },
    {
     "name": "stdout",
     "output_type": "stream",
     "text": [
      "Fetched number of followers ids for Tierraplana6 : 812\n",
      "Getting Followers ids of Trilluminarian\n"
     ]
    },
    {
     "name": "stderr",
     "output_type": "stream",
     "text": [
      "Rate limit reached. Sleeping for: 893\n",
      " 25%|██▌       | 173/681 [4:46:48<39:40:15, 281.13s/it]"
     ]
    },
    {
     "name": "stdout",
     "output_type": "stream",
     "text": [
      "Fetched number of followers ids for Trilluminarian : 1926\n",
      "Getting Followers ids of tsnurds\n"
     ]
    },
    {
     "name": "stderr",
     "output_type": "stream",
     "text": [
      "\r",
      " 26%|██▌       | 174/681 [4:46:49<27:44:05, 196.93s/it]"
     ]
    },
    {
     "name": "stdout",
     "output_type": "stream",
     "text": [
      "Fetched number of followers ids for tsnurds : 3915\n",
      "Getting Followers ids of UnlearningLies\n"
     ]
    },
    {
     "name": "stderr",
     "output_type": "stream",
     "text": [
      "\r",
      " 26%|██▌       | 175/681 [4:46:49<19:23:47, 138.00s/it]"
     ]
    },
    {
     "name": "stdout",
     "output_type": "stream",
     "text": [
      "Fetched number of followers ids for UnlearningLies : 2848\n",
      "Getting Followers ids of WeAreWakinUp\n"
     ]
    },
    {
     "name": "stderr",
     "output_type": "stream",
     "text": [
      "\r",
      " 26%|██▌       | 176/681 [4:46:50<13:35:30, 96.89s/it] "
     ]
    },
    {
     "name": "stdout",
     "output_type": "stream",
     "text": [
      "Fetched number of followers ids for WeAreWakinUp : 8976\n",
      "Getting Followers ids of zeteticmisophia\n"
     ]
    },
    {
     "name": "stderr",
     "output_type": "stream",
     "text": [
      "\r",
      " 26%|██▌       | 177/681 [4:46:51<9:30:20, 67.90s/it] "
     ]
    },
    {
     "name": "stdout",
     "output_type": "stream",
     "text": [
      "Fetched number of followers ids for zeteticmisophia : 708\n",
      "Getting Followers ids of zorommot\n"
     ]
    },
    {
     "name": "stderr",
     "output_type": "stream",
     "text": [
      "\r",
      " 26%|██▌       | 178/681 [4:46:51<6:39:19, 47.63s/it]"
     ]
    },
    {
     "name": "stdout",
     "output_type": "stream",
     "text": [
      "Fetched number of followers ids for zorommot : 931\n",
      "Getting Followers ids of 1Word_Respect\n"
     ]
    },
    {
     "name": "stderr",
     "output_type": "stream",
     "text": [
      "\r",
      " 26%|██▋       | 179/681 [4:46:52<4:42:45, 33.79s/it]"
     ]
    },
    {
     "name": "stdout",
     "output_type": "stream",
     "text": [
      "Fetched number of followers ids for 1Word_Respect : 15000\n",
      "Getting Followers ids of 2LarryJohnson7\n"
     ]
    },
    {
     "name": "stderr",
     "output_type": "stream",
     "text": [
      "\r",
      " 26%|██▋       | 180/681 [4:46:54<3:21:12, 24.10s/it]"
     ]
    },
    {
     "name": "stdout",
     "output_type": "stream",
     "text": [
      "Fetched number of followers ids for 2LarryJohnson7 : 15000\n",
      "Getting Followers ids of AbbyJohnson\n"
     ]
    },
    {
     "name": "stderr",
     "output_type": "stream",
     "text": [
      "Rate limit reached. Sleeping for: 894\n",
      " 27%|██▋       | 181/681 [5:01:55<39:52:35, 287.11s/it]"
     ]
    },
    {
     "name": "stdout",
     "output_type": "stream",
     "text": [
      "Fetched number of followers ids for AbbyJohnson : 15000\n",
      "Getting Followers ids of adamhousley\n"
     ]
    },
    {
     "name": "stderr",
     "output_type": "stream",
     "text": [
      "\r",
      " 27%|██▋       | 182/681 [5:01:56<27:55:20, 201.44s/it]"
     ]
    },
    {
     "name": "stdout",
     "output_type": "stream",
     "text": [
      "Fetched number of followers ids for adamhousley : 15000\n",
      "Getting Followers ids of adventuregirl\n"
     ]
    },
    {
     "name": "stderr",
     "output_type": "stream",
     "text": [
      "\r",
      " 27%|██▋       | 183/681 [5:01:58<19:34:25, 141.50s/it]"
     ]
    },
    {
     "name": "stdout",
     "output_type": "stream",
     "text": [
      "Fetched number of followers ids for adventuregirl : 15000\n",
      "Getting Followers ids of akheriaty\n"
     ]
    },
    {
     "name": "stderr",
     "output_type": "stream",
     "text": [
      "\r",
      " 27%|██▋       | 184/681 [5:02:00<13:44:26, 99.53s/it] "
     ]
    },
    {
     "name": "stdout",
     "output_type": "stream",
     "text": [
      "Fetched number of followers ids for akheriaty : 15000\n",
      "Getting Followers ids of Ali_Nejad\n"
     ]
    },
    {
     "name": "stderr",
     "output_type": "stream",
     "text": [
      "\r",
      " 27%|██▋       | 185/681 [5:02:01<9:39:43, 70.13s/it] "
     ]
    },
    {
     "name": "stdout",
     "output_type": "stream",
     "text": [
      "Fetched number of followers ids for Ali_Nejad : 15000\n",
      "Getting Followers ids of AllenRobinson\n"
     ]
    },
    {
     "name": "stderr",
     "output_type": "stream",
     "text": [
      "Rate limit reached. Sleeping for: 893\n",
      " 27%|██▋       | 186/681 [5:17:01<43:52:02, 319.04s/it]"
     ]
    },
    {
     "name": "stdout",
     "output_type": "stream",
     "text": [
      "Fetched number of followers ids for AllenRobinson : 15000\n",
      "Getting Followers ids of AmberNMarchese\n"
     ]
    },
    {
     "name": "stderr",
     "output_type": "stream",
     "text": [
      "\r",
      " 27%|██▋       | 187/681 [5:17:05<30:49:04, 224.58s/it]"
     ]
    },
    {
     "name": "stdout",
     "output_type": "stream",
     "text": [
      "Fetched number of followers ids for AmberNMarchese : 15000\n",
      "Getting Followers ids of AMErikaNGIRLLL\n"
     ]
    },
    {
     "name": "stderr",
     "output_type": "stream",
     "text": [
      "\r",
      " 28%|██▊       | 188/681 [5:17:07<21:35:28, 157.66s/it]"
     ]
    },
    {
     "name": "stdout",
     "output_type": "stream",
     "text": [
      "Fetched number of followers ids for AMErikaNGIRLLL : 15000\n",
      "Getting Followers ids of AmyMek\n"
     ]
    },
    {
     "name": "stderr",
     "output_type": "stream",
     "text": [
      "\r",
      " 28%|██▊       | 189/681 [5:17:08<15:08:46, 110.83s/it]"
     ]
    },
    {
     "name": "stdout",
     "output_type": "stream",
     "text": [
      "Fetched number of followers ids for AmyMek : 15000\n",
      "Getting Followers ids of AnaKasparian\n"
     ]
    },
    {
     "name": "stderr",
     "output_type": "stream",
     "text": [
      "\r",
      " 28%|██▊       | 190/681 [5:17:10<10:38:33, 78.03s/it] "
     ]
    },
    {
     "name": "stdout",
     "output_type": "stream",
     "text": [
      "Fetched number of followers ids for AnaKasparian : 15000\n",
      "Getting Followers ids of andrewdoyle_com\n"
     ]
    },
    {
     "name": "stderr",
     "output_type": "stream",
     "text": [
      "Rate limit reached. Sleeping for: 888\n",
      " 28%|██▊       | 191/681 [5:32:07<44:04:16, 323.79s/it]"
     ]
    },
    {
     "name": "stdout",
     "output_type": "stream",
     "text": [
      "Fetched number of followers ids for andrewdoyle_com : 15000\n",
      "Getting Followers ids of AngryBlackLady\n"
     ]
    },
    {
     "name": "stderr",
     "output_type": "stream",
     "text": [
      "\r",
      " 28%|██▊       | 192/681 [5:32:08<30:50:50, 227.10s/it]"
     ]
    },
    {
     "name": "stdout",
     "output_type": "stream",
     "text": [
      "Fetched number of followers ids for AngryBlackLady : 15000\n",
      "Getting Followers ids of AnitaLea1\n"
     ]
    },
    {
     "name": "stderr",
     "output_type": "stream",
     "text": [
      "\r",
      " 28%|██▊       | 193/681 [5:32:10<21:36:45, 159.44s/it]"
     ]
    },
    {
     "name": "stdout",
     "output_type": "stream",
     "text": [
      "Fetched number of followers ids for AnitaLea1 : 15000\n",
      "Getting Followers ids of annakhachiyan\n"
     ]
    },
    {
     "name": "stderr",
     "output_type": "stream",
     "text": [
      "\r",
      " 28%|██▊       | 194/681 [5:32:13<15:14:28, 112.67s/it]"
     ]
    },
    {
     "name": "stdout",
     "output_type": "stream",
     "text": [
      "Fetched number of followers ids for annakhachiyan : 15000\n",
      "Getting Followers ids of Annakhait\n"
     ]
    },
    {
     "name": "stderr",
     "output_type": "stream",
     "text": [
      "\r",
      " 29%|██▊       | 195/681 [5:32:15<10:42:29, 79.32s/it] "
     ]
    },
    {
     "name": "stdout",
     "output_type": "stream",
     "text": [
      "Fetched number of followers ids for Annakhait : 15000\n",
      "Getting Followers ids of AnnCoulter\n"
     ]
    },
    {
     "name": "stderr",
     "output_type": "stream",
     "text": [
      "Rate limit reached. Sleeping for: 891\n",
      " 29%|██▉       | 196/681 [5:47:13<43:45:58, 324.86s/it]"
     ]
    },
    {
     "name": "stdout",
     "output_type": "stream",
     "text": [
      "Fetched number of followers ids for AnnCoulter : 15000\n",
      "Getting Followers ids of AnneWheaton\n"
     ]
    },
    {
     "name": "stderr",
     "output_type": "stream",
     "text": [
      "\r",
      " 29%|██▉       | 197/681 [5:47:14<30:38:18, 227.89s/it]"
     ]
    },
    {
     "name": "stdout",
     "output_type": "stream",
     "text": [
      "Fetched number of followers ids for AnneWheaton : 15000\n",
      "Getting Followers ids of AoDespair\n"
     ]
    },
    {
     "name": "stderr",
     "output_type": "stream",
     "text": [
      "\r",
      " 29%|██▉       | 198/681 [5:47:16<21:27:46, 159.97s/it]"
     ]
    },
    {
     "name": "stdout",
     "output_type": "stream",
     "text": [
      "Fetched number of followers ids for AoDespair : 15000\n",
      "Getting Followers ids of ArianFoster\n"
     ]
    },
    {
     "name": "stderr",
     "output_type": "stream",
     "text": [
      "\r",
      " 29%|██▉       | 199/681 [5:47:18<15:04:58, 112.65s/it]"
     ]
    },
    {
     "name": "stdout",
     "output_type": "stream",
     "text": [
      "Fetched number of followers ids for ArianFoster : 15000\n",
      "Getting Followers ids of ARmastrangelo\n"
     ]
    },
    {
     "name": "stderr",
     "output_type": "stream",
     "text": [
      "\r",
      " 29%|██▉       | 200/681 [5:47:20<10:35:54, 79.32s/it] "
     ]
    },
    {
     "name": "stdout",
     "output_type": "stream",
     "text": [
      "Fetched number of followers ids for ARmastrangelo : 15000\n",
      "Getting Followers ids of BandyXLee1\n"
     ]
    },
    {
     "name": "stderr",
     "output_type": "stream",
     "text": [
      "Rate limit reached. Sleeping for: 892\n",
      " 30%|██▉       | 201/681 [6:02:18<43:21:16, 325.16s/it]"
     ]
    },
    {
     "name": "stdout",
     "output_type": "stream",
     "text": [
      "Fetched number of followers ids for BandyXLee1 : 15000\n",
      "Getting Followers ids of bani_j\n"
     ]
    },
    {
     "name": "stderr",
     "output_type": "stream",
     "text": [
      "\r",
      " 30%|██▉       | 202/681 [6:02:20<30:20:36, 228.05s/it]"
     ]
    },
    {
     "name": "stdout",
     "output_type": "stream",
     "text": [
      "Fetched number of followers ids for bani_j : 15000\n",
      "Getting Followers ids of barnes_law\n"
     ]
    },
    {
     "name": "stderr",
     "output_type": "stream",
     "text": [
      "\r",
      " 30%|██▉       | 203/681 [6:02:25<21:24:40, 161.26s/it]"
     ]
    },
    {
     "name": "stdout",
     "output_type": "stream",
     "text": [
      "Fetched number of followers ids for barnes_law : 15000\n",
      "Getting Followers ids of BarristerSecret\n"
     ]
    },
    {
     "name": "stderr",
     "output_type": "stream",
     "text": [
      "\r",
      " 30%|██▉       | 204/681 [6:02:27<15:00:56, 113.33s/it]"
     ]
    },
    {
     "name": "stdout",
     "output_type": "stream",
     "text": [
      "Fetched number of followers ids for BarristerSecret : 15000\n",
      "Getting Followers ids of BeMoreBeNow\n"
     ]
    },
    {
     "name": "stderr",
     "output_type": "stream",
     "text": [
      "\r",
      " 30%|███       | 205/681 [6:02:29<10:33:30, 79.85s/it] "
     ]
    },
    {
     "name": "stdout",
     "output_type": "stream",
     "text": [
      "Fetched number of followers ids for BeMoreBeNow : 15000\n",
      "Getting Followers ids of BenGoldsmith\n"
     ]
    },
    {
     "name": "stderr",
     "output_type": "stream",
     "text": [
      "Rate limit reached. Sleeping for: 887\n",
      " 30%|███       | 206/681 [6:17:24<42:49:42, 324.59s/it]"
     ]
    },
    {
     "name": "stdout",
     "output_type": "stream",
     "text": [
      "Fetched number of followers ids for BenGoldsmith : 15000\n",
      "Getting Followers ids of bigfatsurprise\n"
     ]
    },
    {
     "name": "stderr",
     "output_type": "stream",
     "text": [
      "\r",
      " 30%|███       | 207/681 [6:17:26<29:58:33, 227.67s/it]"
     ]
    },
    {
     "name": "stdout",
     "output_type": "stream",
     "text": [
      "Fetched number of followers ids for bigfatsurprise : 15000\n",
      "Getting Followers ids of BioLayne\n"
     ]
    },
    {
     "name": "stderr",
     "output_type": "stream",
     "text": [
      "\r",
      " 31%|███       | 208/681 [6:17:27<20:59:54, 159.82s/it]"
     ]
    },
    {
     "name": "stdout",
     "output_type": "stream",
     "text": [
      "Fetched number of followers ids for BioLayne : 15000\n",
      "Getting Followers ids of BlazeTV\n"
     ]
    },
    {
     "name": "stderr",
     "output_type": "stream",
     "text": [
      "\r",
      " 31%|███       | 209/681 [6:17:29<14:43:31, 112.31s/it]"
     ]
    },
    {
     "name": "stdout",
     "output_type": "stream",
     "text": [
      "Fetched number of followers ids for BlazeTV : 15000\n",
      "Getting Followers ids of BoyGeorge\n"
     ]
    },
    {
     "name": "stderr",
     "output_type": "stream",
     "text": [
      "\r",
      " 31%|███       | 210/681 [6:17:30<10:20:51, 79.09s/it] "
     ]
    },
    {
     "name": "stdout",
     "output_type": "stream",
     "text": [
      "Fetched number of followers ids for BoyGeorge : 15000\n",
      "Getting Followers ids of BreeNewsome\n"
     ]
    },
    {
     "name": "stderr",
     "output_type": "stream",
     "text": [
      "Rate limit reached. Sleeping for: 892\n",
      " 31%|███       | 211/681 [6:32:31<42:29:59, 325.53s/it]"
     ]
    },
    {
     "name": "stdout",
     "output_type": "stream",
     "text": [
      "Fetched number of followers ids for BreeNewsome : 15000\n",
      "Getting Followers ids of BretWeinstein\n"
     ]
    },
    {
     "name": "stderr",
     "output_type": "stream",
     "text": [
      "\r",
      " 31%|███       | 212/681 [6:32:32<29:44:42, 228.32s/it]"
     ]
    },
    {
     "name": "stdout",
     "output_type": "stream",
     "text": [
      "Fetched number of followers ids for BretWeinstein : 15000\n",
      "Getting Followers ids of brianmoore666\n"
     ]
    },
    {
     "name": "stderr",
     "output_type": "stream",
     "text": [
      "\r",
      " 31%|███▏      | 213/681 [6:32:34<20:50:03, 160.26s/it]"
     ]
    },
    {
     "name": "stdout",
     "output_type": "stream",
     "text": [
      "Fetched number of followers ids for brianmoore666 : 15000\n",
      "Getting Followers ids of BrittPettibone\n"
     ]
    },
    {
     "name": "stderr",
     "output_type": "stream",
     "text": [
      "\r",
      " 31%|███▏      | 214/681 [6:32:35<14:36:47, 112.65s/it]"
     ]
    },
    {
     "name": "stdout",
     "output_type": "stream",
     "text": [
      "Fetched number of followers ids for BrittPettibone : 15000\n",
      "Getting Followers ids of BuckSexton\n"
     ]
    },
    {
     "name": "stderr",
     "output_type": "stream",
     "text": [
      "\r",
      " 32%|███▏      | 215/681 [6:32:37<10:15:51, 79.30s/it] "
     ]
    },
    {
     "name": "stdout",
     "output_type": "stream",
     "text": [
      "Fetched number of followers ids for BuckSexton : 15000\n",
      "Getting Followers ids of CalebJHull\n"
     ]
    },
    {
     "name": "stderr",
     "output_type": "stream",
     "text": [
      "Rate limit reached. Sleeping for: 893\n",
      " 32%|███▏      | 216/681 [6:47:37<42:02:00, 325.42s/it]"
     ]
    },
    {
     "name": "stdout",
     "output_type": "stream",
     "text": [
      "Fetched number of followers ids for CalebJHull : 15000\n",
      "Getting Followers ids of CassandraRules\n"
     ]
    },
    {
     "name": "stderr",
     "output_type": "stream",
     "text": [
      "\r",
      " 32%|███▏      | 217/681 [6:47:38<29:25:51, 228.34s/it]"
     ]
    },
    {
     "name": "stdout",
     "output_type": "stream",
     "text": [
      "Fetched number of followers ids for CassandraRules : 15000\n",
      "Getting Followers ids of cenkuygur\n"
     ]
    },
    {
     "name": "stderr",
     "output_type": "stream",
     "text": [
      "\r",
      " 32%|███▏      | 218/681 [6:47:40<20:36:54, 160.29s/it]"
     ]
    },
    {
     "name": "stdout",
     "output_type": "stream",
     "text": [
      "Fetched number of followers ids for cenkuygur : 15000\n",
      "Getting Followers ids of Charalanahzard\n"
     ]
    },
    {
     "name": "stderr",
     "output_type": "stream",
     "text": [
      "\r",
      " 32%|███▏      | 219/681 [6:47:41<14:27:23, 112.65s/it]"
     ]
    },
    {
     "name": "stdout",
     "output_type": "stream",
     "text": [
      "Fetched number of followers ids for Charalanahzard : 15000\n",
      "Getting Followers ids of ChrisCuomo\n"
     ]
    },
    {
     "name": "stderr",
     "output_type": "stream",
     "text": [
      "\r",
      " 32%|███▏      | 220/681 [6:47:43<10:09:31, 79.33s/it] "
     ]
    },
    {
     "name": "stdout",
     "output_type": "stream",
     "text": [
      "Fetched number of followers ids for ChrisCuomo : 15000\n",
      "Getting Followers ids of chriskresser\n"
     ]
    },
    {
     "name": "stderr",
     "output_type": "stream",
     "text": [
      "Rate limit reached. Sleeping for: 893\n",
      " 32%|███▏      | 221/681 [7:02:43<41:35:22, 325.48s/it]"
     ]
    },
    {
     "name": "stdout",
     "output_type": "stream",
     "text": [
      "Fetched number of followers ids for chriskresser : 15000\n",
      "Getting Followers ids of cjjohnsonjr\n"
     ]
    },
    {
     "name": "stderr",
     "output_type": "stream",
     "text": [
      "\r",
      " 33%|███▎      | 222/681 [7:02:44<29:06:23, 228.29s/it]"
     ]
    },
    {
     "name": "stdout",
     "output_type": "stream",
     "text": [
      "Fetched number of followers ids for cjjohnsonjr : 15000\n",
      "Getting Followers ids of ComicDaveSmith\n"
     ]
    },
    {
     "name": "stderr",
     "output_type": "stream",
     "text": [
      "\r",
      " 33%|███▎      | 223/681 [7:02:47<20:25:36, 160.56s/it]"
     ]
    },
    {
     "name": "stdout",
     "output_type": "stream",
     "text": [
      "Fetched number of followers ids for ComicDaveSmith : 15000\n",
      "Getting Followers ids of ConceptualJames\n"
     ]
    },
    {
     "name": "stderr",
     "output_type": "stream",
     "text": [
      "\r",
      " 33%|███▎      | 224/681 [7:02:48<14:19:32, 112.85s/it]"
     ]
    },
    {
     "name": "stdout",
     "output_type": "stream",
     "text": [
      "Fetched number of followers ids for ConceptualJames : 15000\n",
      "Getting Followers ids of conservmillen\n"
     ]
    },
    {
     "name": "stderr",
     "output_type": "stream",
     "text": [
      "\r",
      " 33%|███▎      | 225/681 [7:02:50<10:04:08, 79.49s/it] "
     ]
    },
    {
     "name": "stdout",
     "output_type": "stream",
     "text": [
      "Fetched number of followers ids for conservmillen : 15000\n",
      "Getting Followers ids of conspiracyb0t\n"
     ]
    },
    {
     "name": "stderr",
     "output_type": "stream",
     "text": [
      "Rate limit reached. Sleeping for: 892\n",
      " 33%|███▎      | 226/681 [7:17:49<41:06:43, 325.28s/it]"
     ]
    },
    {
     "name": "stdout",
     "output_type": "stream",
     "text": [
      "Fetched number of followers ids for conspiracyb0t : 15000\n",
      "Getting Followers ids of CountDankulaTV\n"
     ]
    },
    {
     "name": "stderr",
     "output_type": "stream",
     "text": [
      "\r",
      " 33%|███▎      | 227/681 [7:17:50<28:46:16, 228.14s/it]"
     ]
    },
    {
     "name": "stdout",
     "output_type": "stream",
     "text": [
      "Fetched number of followers ids for CountDankulaTV : 15000\n",
      "Getting Followers ids of CSMFHT\n"
     ]
    },
    {
     "name": "stderr",
     "output_type": "stream",
     "text": [
      "\r",
      " 33%|███▎      | 228/681 [7:17:52<20:09:16, 160.17s/it]"
     ]
    },
    {
     "name": "stdout",
     "output_type": "stream",
     "text": [
      "Fetched number of followers ids for CSMFHT : 15000\n",
      "Getting Followers ids of DalastKimbasabi\n"
     ]
    },
    {
     "name": "stderr",
     "output_type": "stream",
     "text": [
      "\r",
      " 34%|███▎      | 229/681 [7:17:56<14:14:39, 113.45s/it]"
     ]
    },
    {
     "name": "stdout",
     "output_type": "stream",
     "text": [
      "Fetched number of followers ids for DalastKimbasabi : 15000\n",
      "Getting Followers ids of DanCrenshawTX\n"
     ]
    },
    {
     "name": "stderr",
     "output_type": "stream",
     "text": [
      "\r",
      " 34%|███▍      | 230/681 [7:17:59<10:03:22, 80.27s/it] "
     ]
    },
    {
     "name": "stdout",
     "output_type": "stream",
     "text": [
      "Fetched number of followers ids for DanCrenshawTX : 15000\n",
      "Getting Followers ids of DanielNewman\n"
     ]
    },
    {
     "name": "stderr",
     "output_type": "stream",
     "text": [
      "Rate limit reached. Sleeping for: 888\n",
      " 34%|███▍      | 231/681 [7:32:54<40:35:12, 324.69s/it]"
     ]
    },
    {
     "name": "stdout",
     "output_type": "stream",
     "text": [
      "Fetched number of followers ids for DanielNewman : 15000\n",
      "Getting Followers ids of davereaboi\n"
     ]
    },
    {
     "name": "stderr",
     "output_type": "stream",
     "text": [
      "\r",
      " 34%|███▍      | 232/681 [7:32:56<28:24:15, 227.74s/it]"
     ]
    },
    {
     "name": "stdout",
     "output_type": "stream",
     "text": [
      "Fetched number of followers ids for davereaboi : 15000\n",
      "Getting Followers ids of DavidLimbaugh\n"
     ]
    },
    {
     "name": "stderr",
     "output_type": "stream",
     "text": [
      "\r",
      " 34%|███▍      | 233/681 [7:32:57<19:53:39, 159.87s/it]"
     ]
    },
    {
     "name": "stdout",
     "output_type": "stream",
     "text": [
      "Fetched number of followers ids for DavidLimbaugh : 15000\n",
      "Getting Followers ids of DGlaucomflecken\n"
     ]
    },
    {
     "name": "stderr",
     "output_type": "stream",
     "text": [
      "\r",
      " 34%|███▍      | 234/681 [7:32:59<13:57:01, 112.35s/it]"
     ]
    },
    {
     "name": "stdout",
     "output_type": "stream",
     "text": [
      "Fetched number of followers ids for DGlaucomflecken : 15000\n",
      "Getting Followers ids of DLoesch\n"
     ]
    },
    {
     "name": "stderr",
     "output_type": "stream",
     "text": [
      "\r",
      " 35%|███▍      | 235/681 [7:33:00<9:48:00, 79.11s/it]  "
     ]
    },
    {
     "name": "stdout",
     "output_type": "stream",
     "text": [
      "Fetched number of followers ids for DLoesch : 15000\n",
      "Getting Followers ids of DominiqueTaegon\n"
     ]
    },
    {
     "name": "stderr",
     "output_type": "stream",
     "text": [
      "Rate limit reached. Sleeping for: 894\n",
      " 35%|███▍      | 236/681 [7:48:01<40:14:46, 325.59s/it]"
     ]
    },
    {
     "name": "stdout",
     "output_type": "stream",
     "text": [
      "Fetched number of followers ids for DominiqueTaegon : 15000\n",
      "Getting Followers ids of dpakman\n"
     ]
    },
    {
     "name": "stderr",
     "output_type": "stream",
     "text": [
      "\r",
      " 35%|███▍      | 237/681 [7:48:05<28:14:38, 229.01s/it]"
     ]
    },
    {
     "name": "stdout",
     "output_type": "stream",
     "text": [
      "Fetched number of followers ids for dpakman : 15000\n",
      "Getting Followers ids of drdavidsamadi\n"
     ]
    },
    {
     "name": "stderr",
     "output_type": "stream",
     "text": [
      "\r",
      " 35%|███▍      | 238/681 [7:48:06<19:46:56, 160.76s/it]"
     ]
    },
    {
     "name": "stdout",
     "output_type": "stream",
     "text": [
      "Fetched number of followers ids for drdavidsamadi : 15000\n",
      "Getting Followers ids of DrEddyClinic\n"
     ]
    },
    {
     "name": "stderr",
     "output_type": "stream",
     "text": [
      "\r",
      " 35%|███▌      | 239/681 [7:48:08<13:52:24, 113.00s/it]"
     ]
    },
    {
     "name": "stdout",
     "output_type": "stream",
     "text": [
      "Fetched number of followers ids for DrEddyClinic : 15000\n",
      "Getting Followers ids of DrewHLive\n"
     ]
    },
    {
     "name": "stderr",
     "output_type": "stream",
     "text": [
      "\r",
      " 35%|███▌      | 240/681 [7:48:11<9:49:17, 80.18s/it]  "
     ]
    },
    {
     "name": "stdout",
     "output_type": "stream",
     "text": [
      "Fetched number of followers ids for DrewHLive : 15000\n",
      "Getting Followers ids of drjasonfung\n"
     ]
    },
    {
     "name": "stderr",
     "output_type": "stream",
     "text": [
      "Rate limit reached. Sleeping for: 890\n",
      " 35%|███▌      | 241/681 [8:03:08<39:44:30, 325.16s/it]"
     ]
    },
    {
     "name": "stdout",
     "output_type": "stream",
     "text": [
      "Fetched number of followers ids for drjasonfung : 15000\n",
      "Getting Followers ids of DrMartyFox\n"
     ]
    },
    {
     "name": "stderr",
     "output_type": "stream",
     "text": [
      "\r",
      " 36%|███▌      | 242/681 [8:03:09<27:48:39, 228.06s/it]"
     ]
    },
    {
     "name": "stdout",
     "output_type": "stream",
     "text": [
      "Fetched number of followers ids for DrMartyFox : 15000\n",
      "Getting Followers ids of DrWeil\n"
     ]
    },
    {
     "name": "stderr",
     "output_type": "stream",
     "text": [
      "\r",
      " 36%|███▌      | 243/681 [8:03:11<19:28:40, 160.09s/it]"
     ]
    },
    {
     "name": "stdout",
     "output_type": "stream",
     "text": [
      "Fetched number of followers ids for DrWeil : 15000\n",
      "Getting Followers ids of Dr_Berglund\n"
     ]
    },
    {
     "name": "stderr",
     "output_type": "stream",
     "text": [
      "\r",
      " 36%|███▌      | 244/681 [8:03:12<13:39:30, 112.52s/it]"
     ]
    },
    {
     "name": "stdout",
     "output_type": "stream",
     "text": [
      "Fetched number of followers ids for Dr_Berglund : 15000\n",
      "Getting Followers ids of DvaliciousCandi\n"
     ]
    },
    {
     "name": "stderr",
     "output_type": "stream",
     "text": [
      "\r",
      " 36%|███▌      | 245/681 [8:03:14<9:35:37, 79.21s/it]  "
     ]
    },
    {
     "name": "stdout",
     "output_type": "stream",
     "text": [
      "Fetched number of followers ids for DvaliciousCandi : 15000\n",
      "Getting Followers ids of ElieNYC\n"
     ]
    },
    {
     "name": "stderr",
     "output_type": "stream",
     "text": [
      "Rate limit reached. Sleeping for: 894\n",
      " 36%|███▌      | 246/681 [8:18:15<39:21:25, 325.71s/it]"
     ]
    },
    {
     "name": "stdout",
     "output_type": "stream",
     "text": [
      "Fetched number of followers ids for ElieNYC : 15000\n",
      "Getting Followers ids of ElijahSchaffer\n"
     ]
    },
    {
     "name": "stderr",
     "output_type": "stream",
     "text": [
      "\r",
      " 36%|███▋      | 247/681 [8:18:33<28:07:51, 233.34s/it]"
     ]
    },
    {
     "name": "stdout",
     "output_type": "stream",
     "text": [
      "Fetched number of followers ids for ElijahSchaffer : 15000\n",
      "Getting Followers ids of emrazz\n"
     ]
    },
    {
     "name": "stderr",
     "output_type": "stream",
     "text": [
      "\r",
      " 36%|███▋      | 248/681 [8:18:34<19:42:02, 163.79s/it]"
     ]
    },
    {
     "name": "stdout",
     "output_type": "stream",
     "text": [
      "Fetched number of followers ids for emrazz : 15000\n",
      "Getting Followers ids of ErrolWebber\n"
     ]
    },
    {
     "name": "stderr",
     "output_type": "stream",
     "text": [
      "\r",
      " 37%|███▋      | 249/681 [8:18:36<13:48:43, 115.10s/it]"
     ]
    },
    {
     "name": "stdout",
     "output_type": "stream",
     "text": [
      "Fetched number of followers ids for ErrolWebber : 15000\n",
      "Getting Followers ids of EssexPR\n"
     ]
    },
    {
     "name": "stderr",
     "output_type": "stream",
     "text": [
      "\r",
      " 37%|███▋      | 250/681 [8:18:37<9:42:01, 81.02s/it]  "
     ]
    },
    {
     "name": "stdout",
     "output_type": "stream",
     "text": [
      "Fetched number of followers ids for EssexPR : 15000\n",
      "Getting Followers ids of FaheemYounus\n"
     ]
    },
    {
     "name": "stderr",
     "output_type": "stream",
     "text": [
      "Rate limit reached. Sleeping for: 877\n",
      " 37%|███▋      | 251/681 [8:33:21<38:26:23, 321.82s/it]"
     ]
    },
    {
     "name": "stdout",
     "output_type": "stream",
     "text": [
      "Fetched number of followers ids for FaheemYounus : 15000\n",
      "Getting Followers ids of FamHealthGuide\n"
     ]
    },
    {
     "name": "stderr",
     "output_type": "stream",
     "text": [
      "\r",
      " 37%|███▋      | 252/681 [8:33:22<26:54:09, 225.76s/it]"
     ]
    },
    {
     "name": "stdout",
     "output_type": "stream",
     "text": [
      "Fetched number of followers ids for FamHealthGuide : 15000\n",
      "Getting Followers ids of FatEmperor\n"
     ]
    },
    {
     "name": "stderr",
     "output_type": "stream",
     "text": [
      "\r",
      " 37%|███▋      | 253/681 [8:33:24<18:50:35, 158.49s/it]"
     ]
    },
    {
     "name": "stdout",
     "output_type": "stream",
     "text": [
      "Fetched number of followers ids for FatEmperor : 15000\n",
      "Getting Followers ids of FeministaJones\n"
     ]
    },
    {
     "name": "stderr",
     "output_type": "stream",
     "text": [
      "\r",
      " 37%|███▋      | 254/681 [8:33:26<13:12:50, 111.41s/it]"
     ]
    },
    {
     "name": "stdout",
     "output_type": "stream",
     "text": [
      "Fetched number of followers ids for FeministaJones : 15000\n",
      "Getting Followers ids of FINALLEVEL\n"
     ]
    },
    {
     "name": "stderr",
     "output_type": "stream",
     "text": [
      "\r",
      " 37%|███▋      | 255/681 [8:33:27<9:16:55, 78.44s/it]  "
     ]
    },
    {
     "name": "stdout",
     "output_type": "stream",
     "text": [
      "Fetched number of followers ids for FINALLEVEL : 15000\n",
      "Getting Followers ids of FlorioGina\n"
     ]
    },
    {
     "name": "stderr",
     "output_type": "stream",
     "text": [
      "Rate limit reached. Sleeping for: 894\n",
      " 38%|███▊      | 256/681 [8:48:28<38:23:34, 325.21s/it]"
     ]
    },
    {
     "name": "stdout",
     "output_type": "stream",
     "text": [
      "Fetched number of followers ids for FlorioGina : 15000\n",
      "Getting Followers ids of foundmyfitness\n"
     ]
    },
    {
     "name": "stderr",
     "output_type": "stream",
     "text": [
      "\r",
      " 38%|███▊      | 257/681 [8:48:30<26:51:51, 228.09s/it]"
     ]
    },
    {
     "name": "stdout",
     "output_type": "stream",
     "text": [
      "Fetched number of followers ids for foundmyfitness : 15000\n",
      "Getting Followers ids of FullFact\n"
     ]
    },
    {
     "name": "stderr",
     "output_type": "stream",
     "text": [
      "\r",
      " 38%|███▊      | 258/681 [8:48:31<18:48:53, 160.13s/it]"
     ]
    },
    {
     "name": "stdout",
     "output_type": "stream",
     "text": [
      "Fetched number of followers ids for FullFact : 15000\n",
      "Getting Followers ids of gehrig38\n"
     ]
    },
    {
     "name": "stderr",
     "output_type": "stream",
     "text": [
      "\r",
      " 38%|███▊      | 259/681 [8:48:33<13:11:31, 112.54s/it]"
     ]
    },
    {
     "name": "stdout",
     "output_type": "stream",
     "text": [
      "Fetched number of followers ids for gehrig38 : 15000\n",
      "Getting Followers ids of ginacarano\n"
     ]
    },
    {
     "name": "stderr",
     "output_type": "stream",
     "text": [
      "\r",
      " 38%|███▊      | 260/681 [8:48:34<9:15:59, 79.24s/it]  "
     ]
    },
    {
     "name": "stdout",
     "output_type": "stream",
     "text": [
      "Fetched number of followers ids for ginacarano : 15000\n",
      "Getting Followers ids of GingerGander\n"
     ]
    },
    {
     "name": "stderr",
     "output_type": "stream",
     "text": [
      "Rate limit reached. Sleeping for: 894\n",
      " 38%|███▊      | 261/681 [9:03:35<37:59:57, 325.71s/it]"
     ]
    },
    {
     "name": "stdout",
     "output_type": "stream",
     "text": [
      "Fetched number of followers ids for GingerGander : 15000\n",
      "Getting Followers ids of GitRDoneLarry\n"
     ]
    },
    {
     "name": "stderr",
     "output_type": "stream",
     "text": [
      "\r",
      " 38%|███▊      | 262/681 [9:03:36<26:35:23, 228.46s/it]"
     ]
    },
    {
     "name": "stdout",
     "output_type": "stream",
     "text": [
      "Fetched number of followers ids for GitRDoneLarry : 15000\n",
      "Getting Followers ids of GPrime85\n"
     ]
    },
    {
     "name": "stderr",
     "output_type": "stream",
     "text": [
      "\r",
      " 39%|███▊      | 263/681 [9:03:38<18:37:42, 160.44s/it]"
     ]
    },
    {
     "name": "stdout",
     "output_type": "stream",
     "text": [
      "Fetched number of followers ids for GPrime85 : 15000\n",
      "Getting Followers ids of GrahamAllen_1\n"
     ]
    },
    {
     "name": "stderr",
     "output_type": "stream",
     "text": [
      "\r",
      " 39%|███▉      | 264/681 [9:03:40<13:03:38, 112.75s/it]"
     ]
    },
    {
     "name": "stdout",
     "output_type": "stream",
     "text": [
      "Fetched number of followers ids for GrahamAllen_1 : 15000\n",
      "Getting Followers ids of HarrisonKrank\n"
     ]
    },
    {
     "name": "stderr",
     "output_type": "stream",
     "text": [
      "\r",
      " 39%|███▉      | 265/681 [9:03:46<9:19:28, 80.69s/it]  "
     ]
    },
    {
     "name": "stdout",
     "output_type": "stream",
     "text": [
      "Fetched number of followers ids for HarrisonKrank : 15000\n",
      "Getting Followers ids of HarvardHealth\n"
     ]
    },
    {
     "name": "stderr",
     "output_type": "stream",
     "text": [
      "Rate limit reached. Sleeping for: 888\n",
      " 39%|███▉      | 266/681 [9:18:41<37:29:09, 325.18s/it]"
     ]
    },
    {
     "name": "stdout",
     "output_type": "stream",
     "text": [
      "Fetched number of followers ids for HarvardHealth : 15000\n",
      "Getting Followers ids of heckyessica\n"
     ]
    },
    {
     "name": "stderr",
     "output_type": "stream",
     "text": [
      "\r",
      " 39%|███▉      | 267/681 [9:18:43<26:13:38, 228.06s/it]"
     ]
    },
    {
     "name": "stdout",
     "output_type": "stream",
     "text": [
      "Fetched number of followers ids for heckyessica : 15000\n",
      "Getting Followers ids of hoaxeye\n"
     ]
    },
    {
     "name": "stderr",
     "output_type": "stream",
     "text": [
      "\r",
      " 39%|███▉      | 268/681 [9:18:44<18:21:56, 160.09s/it]"
     ]
    },
    {
     "name": "stdout",
     "output_type": "stream",
     "text": [
      "Fetched number of followers ids for hoaxeye : 15000\n",
      "Getting Followers ids of hodgetwins\n"
     ]
    },
    {
     "name": "stderr",
     "output_type": "stream",
     "text": [
      "\r",
      " 40%|███▉      | 269/681 [9:18:46<12:53:30, 112.65s/it]"
     ]
    },
    {
     "name": "stdout",
     "output_type": "stream",
     "text": [
      "Fetched number of followers ids for hodgetwins : 15000\n",
      "Getting Followers ids of hollandcourtney\n"
     ]
    },
    {
     "name": "stderr",
     "output_type": "stream",
     "text": [
      "\r",
      " 40%|███▉      | 270/681 [9:18:48<9:03:15, 79.31s/it]  "
     ]
    },
    {
     "name": "stdout",
     "output_type": "stream",
     "text": [
      "Fetched number of followers ids for hollandcourtney : 15000\n",
      "Getting Followers ids of iAmTooRaww\n",
      "Going to sleep:  Not authorized.\n"
     ]
    },
    {
     "name": "stderr",
     "output_type": "stream",
     "text": [
      "\r",
      " 40%|███▉      | 271/681 [9:19:48<8:22:51, 73.59s/it]"
     ]
    },
    {
     "name": "stdout",
     "output_type": "stream",
     "text": [
      "Fetched number of followers ids for iAmTooRaww : 0\n",
      "Getting Followers ids of ImmortalTech\n"
     ]
    },
    {
     "name": "stderr",
     "output_type": "stream",
     "text": [
      "Rate limit reached. Sleeping for: 833\n",
      " 40%|███▉      | 272/681 [9:33:48<34:28:35, 303.46s/it]"
     ]
    },
    {
     "name": "stdout",
     "output_type": "stream",
     "text": [
      "Fetched number of followers ids for ImmortalTech : 15000\n",
      "Getting Followers ids of internetofshit\n"
     ]
    },
    {
     "name": "stderr",
     "output_type": "stream",
     "text": [
      "\r",
      " 40%|████      | 273/681 [9:33:49<24:07:34, 212.88s/it]"
     ]
    },
    {
     "name": "stdout",
     "output_type": "stream",
     "text": [
      "Fetched number of followers ids for internetofshit : 15000\n",
      "Getting Followers ids of IsabelOakeshott\n"
     ]
    },
    {
     "name": "stderr",
     "output_type": "stream",
     "text": [
      "\r",
      " 40%|████      | 274/681 [9:33:51<16:53:50, 149.46s/it]"
     ]
    },
    {
     "name": "stdout",
     "output_type": "stream",
     "text": [
      "Fetched number of followers ids for IsabelOakeshott : 15000\n",
      "Getting Followers ids of IWashington\n"
     ]
    },
    {
     "name": "stderr",
     "output_type": "stream",
     "text": [
      "\r",
      " 40%|████      | 275/681 [9:33:52<11:51:00, 105.08s/it]"
     ]
    },
    {
     "name": "stdout",
     "output_type": "stream",
     "text": [
      "Fetched number of followers ids for IWashington : 15000\n",
      "Getting Followers ids of jakeshieldsajj\n"
     ]
    },
    {
     "name": "stderr",
     "output_type": "stream",
     "text": [
      "\r",
      " 41%|████      | 276/681 [9:33:54<8:19:48, 74.04s/it]  "
     ]
    },
    {
     "name": "stdout",
     "output_type": "stream",
     "text": [
      "Fetched number of followers ids for jakeshieldsajj : 15000\n",
      "Getting Followers ids of jameelajamil\n"
     ]
    },
    {
     "name": "stderr",
     "output_type": "stream",
     "text": [
      "Rate limit reached. Sleeping for: 893\n",
      " 41%|████      | 277/681 [9:48:54<36:06:30, 321.76s/it]"
     ]
    },
    {
     "name": "stdout",
     "output_type": "stream",
     "text": [
      "Fetched number of followers ids for jameelajamil : 15000\n",
      "Getting Followers ids of JamesMelville\n"
     ]
    },
    {
     "name": "stderr",
     "output_type": "stream",
     "text": [
      "\r",
      " 41%|████      | 278/681 [9:48:55<25:15:51, 225.69s/it]"
     ]
    },
    {
     "name": "stdout",
     "output_type": "stream",
     "text": [
      "Fetched number of followers ids for JamesMelville : 15000\n",
      "Getting Followers ids of JDRucker\n"
     ]
    },
    {
     "name": "stderr",
     "output_type": "stream",
     "text": [
      "\r",
      " 41%|████      | 279/681 [9:48:57<17:41:36, 158.45s/it]"
     ]
    },
    {
     "name": "stdout",
     "output_type": "stream",
     "text": [
      "Fetched number of followers ids for JDRucker : 15000\n",
      "Getting Followers ids of jennajameson\n"
     ]
    },
    {
     "name": "stderr",
     "output_type": "stream",
     "text": [
      "\r",
      " 41%|████      | 280/681 [9:48:59<12:25:09, 111.50s/it]"
     ]
    },
    {
     "name": "stdout",
     "output_type": "stream",
     "text": [
      "Fetched number of followers ids for jennajameson : 15000\n",
      "Getting Followers ids of JeremyDBoreing\n"
     ]
    },
    {
     "name": "stderr",
     "output_type": "stream",
     "text": [
      "\r",
      " 41%|████▏     | 281/681 [9:49:00<8:43:22, 78.51s/it]  "
     ]
    },
    {
     "name": "stdout",
     "output_type": "stream",
     "text": [
      "Fetched number of followers ids for JeremyDBoreing : 15000\n",
      "Getting Followers ids of JessicaVaugn\n"
     ]
    },
    {
     "name": "stderr",
     "output_type": "stream",
     "text": [
      "Rate limit reached. Sleeping for: 893\n",
      " 41%|████▏     | 282/681 [10:04:00<36:00:41, 324.92s/it]"
     ]
    },
    {
     "name": "stdout",
     "output_type": "stream",
     "text": [
      "Fetched number of followers ids for JessicaVaugn : 15000\n",
      "Getting Followers ids of jimmy_dore\n"
     ]
    },
    {
     "name": "stderr",
     "output_type": "stream",
     "text": [
      "\r",
      " 42%|████▏     | 283/681 [10:04:02<25:11:45, 227.90s/it]"
     ]
    },
    {
     "name": "stdout",
     "output_type": "stream",
     "text": [
      "Fetched number of followers ids for jimmy_dore : 15000\n",
      "Getting Followers ids of JMPSimor\n"
     ]
    },
    {
     "name": "stderr",
     "output_type": "stream",
     "text": [
      "\r",
      " 42%|████▏     | 284/681 [10:04:03<17:38:40, 160.00s/it]"
     ]
    },
    {
     "name": "stdout",
     "output_type": "stream",
     "text": [
      "Fetched number of followers ids for JMPSimor : 15000\n",
      "Getting Followers ids of JoeBudden\n"
     ]
    },
    {
     "name": "stderr",
     "output_type": "stream",
     "text": [
      "\r",
      " 42%|████▏     | 285/681 [10:04:05<12:22:08, 112.45s/it]"
     ]
    },
    {
     "name": "stdout",
     "output_type": "stream",
     "text": [
      "Fetched number of followers ids for JoeBudden : 15000\n",
      "Getting Followers ids of JoelKatz\n"
     ]
    },
    {
     "name": "stderr",
     "output_type": "stream",
     "text": [
      "\r",
      " 42%|████▏     | 286/681 [10:04:06<8:41:25, 79.20s/it]  "
     ]
    },
    {
     "name": "stdout",
     "output_type": "stream",
     "text": [
      "Fetched number of followers ids for JoelKatz : 15000\n",
      "Getting Followers ids of JoeTalkShow\n"
     ]
    },
    {
     "name": "stderr",
     "output_type": "stream",
     "text": [
      "Rate limit reached. Sleeping for: 893\n",
      " 42%|████▏     | 287/681 [10:19:06<35:36:32, 325.36s/it]"
     ]
    },
    {
     "name": "stdout",
     "output_type": "stream",
     "text": [
      "Fetched number of followers ids for JoeTalkShow : 15000\n",
      "Getting Followers ids of johncardillo\n"
     ]
    },
    {
     "name": "stderr",
     "output_type": "stream",
     "text": [
      "\r",
      " 42%|████▏     | 288/681 [10:19:08<24:54:45, 228.21s/it]"
     ]
    },
    {
     "name": "stdout",
     "output_type": "stream",
     "text": [
      "Fetched number of followers ids for johncardillo : 15000\n",
      "Getting Followers ids of JohnStossel\n"
     ]
    },
    {
     "name": "stderr",
     "output_type": "stream",
     "text": [
      "\r",
      " 42%|████▏     | 289/681 [10:19:09<17:26:48, 160.23s/it]"
     ]
    },
    {
     "name": "stdout",
     "output_type": "stream",
     "text": [
      "Fetched number of followers ids for JohnStossel : 15000\n",
      "Getting Followers ids of JonGordon11\n"
     ]
    },
    {
     "name": "stderr",
     "output_type": "stream",
     "text": [
      "\r",
      " 43%|████▎     | 290/681 [10:19:11<12:14:15, 112.67s/it]"
     ]
    },
    {
     "name": "stdout",
     "output_type": "stream",
     "text": [
      "Fetched number of followers ids for JonGordon11 : 15000\n",
      "Getting Followers ids of JordanSchachtel\n"
     ]
    },
    {
     "name": "stderr",
     "output_type": "stream",
     "text": [
      "\r",
      " 43%|████▎     | 291/681 [10:19:12<8:35:44, 79.35s/it]  "
     ]
    },
    {
     "name": "stdout",
     "output_type": "stream",
     "text": [
      "Fetched number of followers ids for JordanSchachtel : 15000\n",
      "Getting Followers ids of jstines3\n"
     ]
    },
    {
     "name": "stderr",
     "output_type": "stream",
     "text": [
      "Rate limit reached. Sleeping for: 893\n",
      " 43%|████▎     | 292/681 [10:34:12<35:10:20, 325.50s/it]"
     ]
    },
    {
     "name": "stdout",
     "output_type": "stream",
     "text": [
      "Fetched number of followers ids for jstines3 : 15000\n",
      "Getting Followers ids of KatrinaPierson\n"
     ]
    },
    {
     "name": "stderr",
     "output_type": "stream",
     "text": [
      "\r",
      " 43%|████▎     | 293/681 [10:34:14<24:36:30, 228.33s/it]"
     ]
    },
    {
     "name": "stdout",
     "output_type": "stream",
     "text": [
      "Fetched number of followers ids for KatrinaPierson : 15000\n",
      "Getting Followers ids of kelliwardaz\n"
     ]
    },
    {
     "name": "stderr",
     "output_type": "stream",
     "text": [
      "\r",
      " 43%|████▎     | 294/681 [10:34:16<17:14:18, 160.36s/it]"
     ]
    },
    {
     "name": "stdout",
     "output_type": "stream",
     "text": [
      "Fetched number of followers ids for kelliwardaz : 15000\n",
      "Getting Followers ids of Kingston_Royal\n"
     ]
    },
    {
     "name": "stderr",
     "output_type": "stream",
     "text": [
      "\r",
      " 43%|████▎     | 295/681 [10:34:17<12:05:13, 112.73s/it]"
     ]
    },
    {
     "name": "stdout",
     "output_type": "stream",
     "text": [
      "Fetched number of followers ids for Kingston_Royal : 15000\n",
      "Getting Followers ids of kirstiealley\n"
     ]
    },
    {
     "name": "stderr",
     "output_type": "stream",
     "text": [
      "\r",
      " 43%|████▎     | 296/681 [10:34:19<8:29:15, 79.36s/it]  "
     ]
    },
    {
     "name": "stdout",
     "output_type": "stream",
     "text": [
      "Fetched number of followers ids for kirstiealley : 15000\n",
      "Getting Followers ids of KristySwansonXO\n"
     ]
    },
    {
     "name": "stderr",
     "output_type": "stream",
     "text": [
      "Rate limit reached. Sleeping for: 894\n",
      " 44%|████▎     | 297/681 [10:49:20<34:45:04, 325.79s/it]"
     ]
    },
    {
     "name": "stdout",
     "output_type": "stream",
     "text": [
      "Fetched number of followers ids for KristySwansonXO : 15000\n",
      "Getting Followers ids of KurtSchlichter\n"
     ]
    },
    {
     "name": "stderr",
     "output_type": "stream",
     "text": [
      "\r",
      " 44%|████▍     | 298/681 [10:49:21<24:19:09, 228.59s/it]"
     ]
    },
    {
     "name": "stdout",
     "output_type": "stream",
     "text": [
      "Fetched number of followers ids for KurtSchlichter : 15000\n",
      "Getting Followers ids of KyleKashuv\n"
     ]
    },
    {
     "name": "stderr",
     "output_type": "stream",
     "text": [
      "\r",
      " 44%|████▍     | 299/681 [10:49:23<17:01:35, 160.46s/it]"
     ]
    },
    {
     "name": "stdout",
     "output_type": "stream",
     "text": [
      "Fetched number of followers ids for KyleKashuv : 15000\n",
      "Getting Followers ids of KyleKulinski\n"
     ]
    },
    {
     "name": "stderr",
     "output_type": "stream",
     "text": [
      "\r",
      " 44%|████▍     | 300/681 [10:49:24<11:56:06, 112.77s/it]"
     ]
    },
    {
     "name": "stdout",
     "output_type": "stream",
     "text": [
      "Fetched number of followers ids for KyleKulinski : 15000\n",
      "Getting Followers ids of kylenabecker\n"
     ]
    },
    {
     "name": "stderr",
     "output_type": "stream",
     "text": [
      "\r",
      " 44%|████▍     | 301/681 [10:49:26<8:22:55, 79.41s/it]  "
     ]
    },
    {
     "name": "stdout",
     "output_type": "stream",
     "text": [
      "Fetched number of followers ids for kylenabecker : 15000\n",
      "Getting Followers ids of KylePlantEmoji\n"
     ]
    },
    {
     "name": "stderr",
     "output_type": "stream",
     "text": [
      "Rate limit reached. Sleeping for: 893\n",
      " 44%|████▍     | 302/681 [11:04:26<34:16:19, 325.54s/it]"
     ]
    },
    {
     "name": "stdout",
     "output_type": "stream",
     "text": [
      "Fetched number of followers ids for KylePlantEmoji : 15000\n",
      "Getting Followers ids of KyrieIrving\n"
     ]
    },
    {
     "name": "stderr",
     "output_type": "stream",
     "text": [
      "\r",
      " 44%|████▍     | 303/681 [11:04:27<23:58:32, 228.34s/it]"
     ]
    },
    {
     "name": "stdout",
     "output_type": "stream",
     "text": [
      "Fetched number of followers ids for KyrieIrving : 15000\n",
      "Getting Followers ids of laralogan\n"
     ]
    },
    {
     "name": "stderr",
     "output_type": "stream",
     "text": [
      "\r",
      " 45%|████▍     | 304/681 [11:04:29<16:47:08, 160.29s/it]"
     ]
    },
    {
     "name": "stdout",
     "output_type": "stream",
     "text": [
      "Fetched number of followers ids for laralogan : 15000\n",
      "Getting Followers ids of LaurenBrite3\n"
     ]
    },
    {
     "name": "stderr",
     "output_type": "stream",
     "text": [
      "\r",
      " 45%|████▍     | 305/681 [11:04:30<11:45:55, 112.65s/it]"
     ]
    },
    {
     "name": "stdout",
     "output_type": "stream",
     "text": [
      "Fetched number of followers ids for LaurenBrite3 : 15000\n",
      "Getting Followers ids of Lauren_Southern\n"
     ]
    },
    {
     "name": "stderr",
     "output_type": "stream",
     "text": [
      "\r",
      " 45%|████▍     | 306/681 [11:04:32<8:15:40, 79.31s/it]  "
     ]
    },
    {
     "name": "stdout",
     "output_type": "stream",
     "text": [
      "Fetched number of followers ids for Lauren_Southern : 15000\n",
      "Getting Followers ids of LayahHeilpern\n"
     ]
    },
    {
     "name": "stderr",
     "output_type": "stream",
     "text": [
      "Rate limit reached. Sleeping for: 894\n",
      " 45%|████▌     | 307/681 [11:19:32<33:50:22, 325.73s/it]"
     ]
    },
    {
     "name": "stdout",
     "output_type": "stream",
     "text": [
      "Fetched number of followers ids for LayahHeilpern : 15000\n",
      "Getting Followers ids of LegendaryEnergy\n"
     ]
    },
    {
     "name": "stderr",
     "output_type": "stream",
     "text": [
      "\r",
      " 45%|████▌     | 308/681 [11:19:34<23:40:20, 228.47s/it]"
     ]
    },
    {
     "name": "stdout",
     "output_type": "stream",
     "text": [
      "Fetched number of followers ids for LegendaryEnergy : 15000\n",
      "Getting Followers ids of LeonydusJohnson\n"
     ]
    },
    {
     "name": "stderr",
     "output_type": "stream",
     "text": [
      "\r",
      " 45%|████▌     | 309/681 [11:19:35<16:34:19, 160.37s/it]"
     ]
    },
    {
     "name": "stdout",
     "output_type": "stream",
     "text": [
      "Fetched number of followers ids for LeonydusJohnson : 15000\n",
      "Getting Followers ids of libertytarian\n"
     ]
    },
    {
     "name": "stderr",
     "output_type": "stream",
     "text": [
      "\r",
      " 46%|████▌     | 310/681 [11:19:37<11:36:55, 112.71s/it]"
     ]
    },
    {
     "name": "stdout",
     "output_type": "stream",
     "text": [
      "Fetched number of followers ids for libertytarian : 15000\n",
      "Getting Followers ids of LibyaLiberty\n"
     ]
    },
    {
     "name": "stderr",
     "output_type": "stream",
     "text": [
      "\r",
      " 46%|████▌     | 311/681 [11:19:39<8:09:23, 79.36s/it]  "
     ]
    },
    {
     "name": "stdout",
     "output_type": "stream",
     "text": [
      "Fetched number of followers ids for LibyaLiberty : 15000\n",
      "Getting Followers ids of LifeExtension\n"
     ]
    },
    {
     "name": "stderr",
     "output_type": "stream",
     "text": [
      "Rate limit reached. Sleeping for: 894\n",
      " 46%|████▌     | 312/681 [11:34:39<33:23:35, 325.79s/it]"
     ]
    },
    {
     "name": "stdout",
     "output_type": "stream",
     "text": [
      "Fetched number of followers ids for LifeExtension : 15000\n",
      "Getting Followers ids of LionelMedia\n"
     ]
    },
    {
     "name": "stderr",
     "output_type": "stream",
     "text": [
      "\r",
      " 46%|████▌     | 313/681 [11:34:41<23:21:25, 228.49s/it]"
     ]
    },
    {
     "name": "stdout",
     "output_type": "stream",
     "text": [
      "Fetched number of followers ids for LionelMedia : 15000\n",
      "Getting Followers ids of LisaMarieBoothe\n"
     ]
    },
    {
     "name": "stderr",
     "output_type": "stream",
     "text": [
      "\r",
      " 46%|████▌     | 314/681 [11:34:42<16:21:10, 160.41s/it]"
     ]
    },
    {
     "name": "stdout",
     "output_type": "stream",
     "text": [
      "Fetched number of followers ids for LisaMarieBoothe : 15000\n",
      "Getting Followers ids of Lisa_Matassa\n"
     ]
    },
    {
     "name": "stderr",
     "output_type": "stream",
     "text": [
      "\r",
      " 46%|████▋     | 315/681 [11:34:44<11:27:40, 112.73s/it]"
     ]
    },
    {
     "name": "stdout",
     "output_type": "stream",
     "text": [
      "Fetched number of followers ids for Lisa_Matassa : 15000\n",
      "Getting Followers ids of Liz_Wheeler\n"
     ]
    },
    {
     "name": "stderr",
     "output_type": "stream",
     "text": [
      "\r",
      " 46%|████▋     | 316/681 [11:34:45<8:02:49, 79.37s/it]  "
     ]
    },
    {
     "name": "stdout",
     "output_type": "stream",
     "text": [
      "Fetched number of followers ids for Liz_Wheeler : 15000\n",
      "Getting Followers ids of Lukewearechange\n"
     ]
    },
    {
     "name": "stderr",
     "output_type": "stream",
     "text": [
      "Rate limit reached. Sleeping for: 894\n",
      " 47%|████▋     | 317/681 [11:49:46<32:56:37, 325.82s/it]"
     ]
    },
    {
     "name": "stdout",
     "output_type": "stream",
     "text": [
      "Fetched number of followers ids for Lukewearechange : 15000\n",
      "Getting Followers ids of L_A_Baker\n"
     ]
    },
    {
     "name": "stderr",
     "output_type": "stream",
     "text": [
      "\r",
      " 47%|████▋     | 318/681 [11:49:48<23:02:38, 228.54s/it]"
     ]
    },
    {
     "name": "stdout",
     "output_type": "stream",
     "text": [
      "Fetched number of followers ids for L_A_Baker : 15000\n",
      "Getting Followers ids of madhutrehan\n"
     ]
    },
    {
     "name": "stderr",
     "output_type": "stream",
     "text": [
      "\r",
      " 47%|████▋     | 319/681 [11:49:50<16:08:24, 160.51s/it]"
     ]
    },
    {
     "name": "stdout",
     "output_type": "stream",
     "text": [
      "Fetched number of followers ids for madhutrehan : 15000\n",
      "Getting Followers ids of Mangan150\n"
     ]
    },
    {
     "name": "stderr",
     "output_type": "stream",
     "text": [
      "\r",
      " 47%|████▋     | 320/681 [11:49:51<11:18:50, 112.83s/it]"
     ]
    },
    {
     "name": "stdout",
     "output_type": "stream",
     "text": [
      "Fetched number of followers ids for Mangan150 : 15000\n",
      "Getting Followers ids of MattWalshBlog\n"
     ]
    },
    {
     "name": "stderr",
     "output_type": "stream",
     "text": [
      "\r",
      " 47%|████▋     | 321/681 [11:49:53<7:56:38, 79.44s/it]  "
     ]
    },
    {
     "name": "stdout",
     "output_type": "stream",
     "text": [
      "Fetched number of followers ids for MattWalshBlog : 15000\n",
      "Getting Followers ids of McGiff\n"
     ]
    },
    {
     "name": "stderr",
     "output_type": "stream",
     "text": [
      "Rate limit reached. Sleeping for: 894\n",
      " 47%|████▋     | 322/681 [12:04:53<32:29:34, 325.83s/it]"
     ]
    },
    {
     "name": "stdout",
     "output_type": "stream",
     "text": [
      "Fetched number of followers ids for McGiff : 15000\n",
      "Getting Followers ids of michaelmalice\n"
     ]
    },
    {
     "name": "stderr",
     "output_type": "stream",
     "text": [
      "\r",
      " 47%|████▋     | 323/681 [12:04:55<22:43:49, 228.57s/it]"
     ]
    },
    {
     "name": "stdout",
     "output_type": "stream",
     "text": [
      "Fetched number of followers ids for michaelmalice : 15000\n",
      "Getting Followers ids of MichelleDewbs\n"
     ]
    },
    {
     "name": "stderr",
     "output_type": "stream",
     "text": [
      "\r",
      " 48%|████▊     | 324/681 [12:04:56<15:54:39, 160.45s/it]"
     ]
    },
    {
     "name": "stdout",
     "output_type": "stream",
     "text": [
      "Fetched number of followers ids for MichelleDewbs : 15000\n",
      "Getting Followers ids of monicaonairtalk\n"
     ]
    },
    {
     "name": "stderr",
     "output_type": "stream",
     "text": [
      "\r",
      " 48%|████▊     | 325/681 [12:04:58<11:09:12, 112.79s/it]"
     ]
    },
    {
     "name": "stdout",
     "output_type": "stream",
     "text": [
      "Fetched number of followers ids for monicaonairtalk : 15000\n",
      "Getting Followers ids of montaga\n"
     ]
    },
    {
     "name": "stderr",
     "output_type": "stream",
     "text": [
      "\r",
      " 48%|████▊     | 326/681 [12:05:00<7:49:48, 79.40s/it]  "
     ]
    },
    {
     "name": "stdout",
     "output_type": "stream",
     "text": [
      "Fetched number of followers ids for montaga : 15000\n",
      "Getting Followers ids of MoonPie\n"
     ]
    },
    {
     "name": "stderr",
     "output_type": "stream",
     "text": [
      "Rate limit reached. Sleeping for: 894\n",
      " 48%|████▊     | 327/681 [12:20:00<32:02:23, 325.83s/it]"
     ]
    },
    {
     "name": "stdout",
     "output_type": "stream",
     "text": [
      "Fetched number of followers ids for MoonPie : 15000\n",
      "Getting Followers ids of MsAvaArmstrong\n"
     ]
    },
    {
     "name": "stderr",
     "output_type": "stream",
     "text": [
      "\r",
      " 48%|████▊     | 328/681 [12:20:02<22:24:33, 228.54s/it]"
     ]
    },
    {
     "name": "stdout",
     "output_type": "stream",
     "text": [
      "Fetched number of followers ids for MsAvaArmstrong : 15000\n",
      "Getting Followers ids of MsBlaireWhite\n"
     ]
    },
    {
     "name": "stderr",
     "output_type": "stream",
     "text": [
      "\r",
      " 48%|████▊     | 329/681 [12:20:03<15:41:06, 160.42s/it]"
     ]
    },
    {
     "name": "stdout",
     "output_type": "stream",
     "text": [
      "Fetched number of followers ids for MsBlaireWhite : 15000\n",
      "Getting Followers ids of mtaibbi\n"
     ]
    },
    {
     "name": "stderr",
     "output_type": "stream",
     "text": [
      "\r",
      " 48%|████▊     | 330/681 [12:20:05<11:00:05, 112.84s/it]"
     ]
    },
    {
     "name": "stdout",
     "output_type": "stream",
     "text": [
      "Fetched number of followers ids for mtaibbi : 15000\n",
      "Getting Followers ids of mtracey\n"
     ]
    },
    {
     "name": "stderr",
     "output_type": "stream",
     "text": [
      "\r",
      " 49%|████▊     | 331/681 [12:20:07<7:43:47, 79.51s/it]  "
     ]
    },
    {
     "name": "stdout",
     "output_type": "stream",
     "text": [
      "Fetched number of followers ids for mtracey : 15000\n",
      "Getting Followers ids of NewDadNotes\n"
     ]
    },
    {
     "name": "stderr",
     "output_type": "stream",
     "text": [
      "Rate limit reached. Sleeping for: 893\n",
      " 49%|████▉     | 332/681 [12:35:07<31:33:53, 325.60s/it]"
     ]
    },
    {
     "name": "stdout",
     "output_type": "stream",
     "text": [
      "Fetched number of followers ids for NewDadNotes : 15000\n",
      "Getting Followers ids of NickSzabo4\n"
     ]
    },
    {
     "name": "stderr",
     "output_type": "stream",
     "text": [
      "\r",
      " 49%|████▉     | 333/681 [12:35:08<22:04:27, 228.35s/it]"
     ]
    },
    {
     "name": "stdout",
     "output_type": "stream",
     "text": [
      "Fetched number of followers ids for NickSzabo4 : 15000\n",
      "Getting Followers ids of nutrition_facts\n"
     ]
    },
    {
     "name": "stderr",
     "output_type": "stream",
     "text": [
      "\r",
      " 49%|████▉     | 334/681 [12:35:10<15:27:07, 160.31s/it]"
     ]
    },
    {
     "name": "stdout",
     "output_type": "stream",
     "text": [
      "Fetched number of followers ids for nutrition_facts : 15000\n",
      "Getting Followers ids of ObamaMalik\n"
     ]
    },
    {
     "name": "stderr",
     "output_type": "stream",
     "text": [
      "\r",
      " 49%|████▉     | 335/681 [12:35:11<10:49:42, 112.67s/it]"
     ]
    },
    {
     "name": "stdout",
     "output_type": "stream",
     "text": [
      "Fetched number of followers ids for ObamaMalik : 15000\n",
      "Getting Followers ids of OhNoSheTwitnt\n"
     ]
    },
    {
     "name": "stderr",
     "output_type": "stream",
     "text": [
      "\r",
      " 49%|████▉     | 336/681 [12:35:13<7:36:07, 79.33s/it]  "
     ]
    },
    {
     "name": "stdout",
     "output_type": "stream",
     "text": [
      "Fetched number of followers ids for OhNoSheTwitnt : 15000\n",
      "Getting Followers ids of OrganicLiveFood\n"
     ]
    },
    {
     "name": "stderr",
     "output_type": "stream",
     "text": [
      "Rate limit reached. Sleeping for: 894\n",
      " 49%|████▉     | 337/681 [12:50:14<31:07:36, 325.74s/it]"
     ]
    },
    {
     "name": "stdout",
     "output_type": "stream",
     "text": [
      "Fetched number of followers ids for OrganicLiveFood : 15000\n",
      "Getting Followers ids of Partisangirl\n"
     ]
    },
    {
     "name": "stderr",
     "output_type": "stream",
     "text": [
      "\r",
      " 50%|████▉     | 338/681 [12:50:15<21:46:10, 228.48s/it]"
     ]
    },
    {
     "name": "stdout",
     "output_type": "stream",
     "text": [
      "Fetched number of followers ids for Partisangirl : 15000\n",
      "Getting Followers ids of PeterSweden7\n"
     ]
    },
    {
     "name": "stderr",
     "output_type": "stream",
     "text": [
      "\r",
      " 50%|████▉     | 339/681 [12:50:17<15:14:37, 160.46s/it]"
     ]
    },
    {
     "name": "stdout",
     "output_type": "stream",
     "text": [
      "Fetched number of followers ids for PeterSweden7 : 15000\n",
      "Getting Followers ids of poojabeditweets\n"
     ]
    },
    {
     "name": "stderr",
     "output_type": "stream",
     "text": [
      "\r",
      " 50%|████▉     | 340/681 [12:50:19<10:42:10, 112.99s/it]"
     ]
    },
    {
     "name": "stdout",
     "output_type": "stream",
     "text": [
      "Fetched number of followers ids for poojabeditweets : 15000\n",
      "Getting Followers ids of Popehat\n"
     ]
    },
    {
     "name": "stderr",
     "output_type": "stream",
     "text": [
      "\r",
      " 50%|█████     | 341/681 [12:50:21<7:30:46, 79.55s/it]  "
     ]
    },
    {
     "name": "stdout",
     "output_type": "stream",
     "text": [
      "Fetched number of followers ids for Popehat : 15000\n",
      "Getting Followers ids of PopMathobela\n"
     ]
    },
    {
     "name": "stderr",
     "output_type": "stream",
     "text": [
      "Rate limit reached. Sleeping for: 893\n",
      " 50%|█████     | 342/681 [13:05:20<30:39:47, 325.63s/it]"
     ]
    },
    {
     "name": "stdout",
     "output_type": "stream",
     "text": [
      "Fetched number of followers ids for PopMathobela : 15000\n",
      "Getting Followers ids of ProfKarolSikora\n"
     ]
    },
    {
     "name": "stderr",
     "output_type": "stream",
     "text": [
      "\r",
      " 50%|█████     | 343/681 [13:05:22<21:26:32, 228.38s/it]"
     ]
    },
    {
     "name": "stdout",
     "output_type": "stream",
     "text": [
      "Fetched number of followers ids for ProfKarolSikora : 15000\n",
      "Getting Followers ids of ProfTimNoakes\n"
     ]
    },
    {
     "name": "stderr",
     "output_type": "stream",
     "text": [
      "\r",
      " 51%|█████     | 344/681 [13:05:23<15:00:25, 160.31s/it]"
     ]
    },
    {
     "name": "stdout",
     "output_type": "stream",
     "text": [
      "Fetched number of followers ids for ProfTimNoakes : 15000\n",
      "Getting Followers ids of psychicmediumje\n"
     ]
    },
    {
     "name": "stderr",
     "output_type": "stream",
     "text": [
      "\r",
      " 51%|█████     | 345/681 [13:05:25<10:30:57, 112.67s/it]"
     ]
    },
    {
     "name": "stdout",
     "output_type": "stream",
     "text": [
      "Fetched number of followers ids for psychicmediumje : 15000\n",
      "Getting Followers ids of RandPaul\n"
     ]
    },
    {
     "name": "stderr",
     "output_type": "stream",
     "text": [
      "\r",
      " 51%|█████     | 346/681 [13:05:26<7:22:56, 79.33s/it]  "
     ]
    },
    {
     "name": "stdout",
     "output_type": "stream",
     "text": [
      "Fetched number of followers ids for RandPaul : 15000\n",
      "Getting Followers ids of RealBrysonGray\n"
     ]
    },
    {
     "name": "stderr",
     "output_type": "stream",
     "text": [
      "Rate limit reached. Sleeping for: 894\n",
      " 51%|█████     | 347/681 [13:20:27<30:13:40, 325.81s/it]"
     ]
    },
    {
     "name": "stdout",
     "output_type": "stream",
     "text": [
      "Fetched number of followers ids for RealBrysonGray : 15000\n",
      "Getting Followers ids of RealCandaceO\n"
     ]
    },
    {
     "name": "stderr",
     "output_type": "stream",
     "text": [
      "\r",
      " 51%|█████     | 348/681 [13:20:29<21:08:17, 228.52s/it]"
     ]
    },
    {
     "name": "stdout",
     "output_type": "stream",
     "text": [
      "Fetched number of followers ids for RealCandaceO : 15000\n",
      "Getting Followers ids of RealDeanCain\n"
     ]
    },
    {
     "name": "stderr",
     "output_type": "stream",
     "text": [
      "\r",
      " 51%|█████     | 349/681 [13:20:30<14:47:41, 160.43s/it]"
     ]
    },
    {
     "name": "stdout",
     "output_type": "stream",
     "text": [
      "Fetched number of followers ids for RealDeanCain : 15000\n",
      "Getting Followers ids of RealDeniseWelch\n"
     ]
    },
    {
     "name": "stderr",
     "output_type": "stream",
     "text": [
      "\r",
      " 51%|█████▏    | 350/681 [13:20:32<10:22:02, 112.76s/it]"
     ]
    },
    {
     "name": "stdout",
     "output_type": "stream",
     "text": [
      "Fetched number of followers ids for RealDeniseWelch : 15000\n",
      "Getting Followers ids of RealDrGina\n"
     ]
    },
    {
     "name": "stderr",
     "output_type": "stream",
     "text": [
      "\r",
      " 52%|█████▏    | 351/681 [13:20:33<7:16:38, 79.39s/it]  "
     ]
    },
    {
     "name": "stdout",
     "output_type": "stream",
     "text": [
      "Fetched number of followers ids for RealDrGina : 15000\n",
      "Getting Followers ids of realshekinahh\n"
     ]
    },
    {
     "name": "stderr",
     "output_type": "stream",
     "text": [
      "Rate limit reached. Sleeping for: 894\n",
      " 52%|█████▏    | 352/681 [13:35:34<29:46:24, 325.79s/it]"
     ]
    },
    {
     "name": "stdout",
     "output_type": "stream",
     "text": [
      "Fetched number of followers ids for realshekinahh : 15000\n",
      "Getting Followers ids of RepThomasMassie\n"
     ]
    },
    {
     "name": "stderr",
     "output_type": "stream",
     "text": [
      "\r",
      " 52%|█████▏    | 353/681 [13:35:36<20:49:13, 228.52s/it]"
     ]
    },
    {
     "name": "stdout",
     "output_type": "stream",
     "text": [
      "Fetched number of followers ids for RepThomasMassie : 15000\n",
      "Getting Followers ids of RitaPanahi\n"
     ]
    },
    {
     "name": "stderr",
     "output_type": "stream",
     "text": [
      "\r",
      " 52%|█████▏    | 354/681 [13:35:37<14:34:32, 160.47s/it]"
     ]
    },
    {
     "name": "stdout",
     "output_type": "stream",
     "text": [
      "Fetched number of followers ids for RitaPanahi : 15000\n",
      "Getting Followers ids of RMConservative\n"
     ]
    },
    {
     "name": "stderr",
     "output_type": "stream",
     "text": [
      "\r",
      " 52%|█████▏    | 355/681 [13:35:39<10:12:44, 112.78s/it]"
     ]
    },
    {
     "name": "stdout",
     "output_type": "stream",
     "text": [
      "Fetched number of followers ids for RMConservative : 15000\n",
      "Getting Followers ids of robbystarbuck\n"
     ]
    },
    {
     "name": "stderr",
     "output_type": "stream",
     "text": [
      "\r",
      " 52%|█████▏    | 356/681 [13:35:41<7:10:39, 79.51s/it]  "
     ]
    },
    {
     "name": "stdout",
     "output_type": "stream",
     "text": [
      "Fetched number of followers ids for robbystarbuck : 15000\n",
      "Getting Followers ids of RobertJohnDavi\n"
     ]
    },
    {
     "name": "stderr",
     "output_type": "stream",
     "text": [
      "Rate limit reached. Sleeping for: 893\n",
      " 52%|█████▏    | 357/681 [13:50:41<29:19:04, 325.75s/it]"
     ]
    },
    {
     "name": "stdout",
     "output_type": "stream",
     "text": [
      "Fetched number of followers ids for RobertJohnDavi : 15000\n",
      "Getting Followers ids of robsmithonline\n"
     ]
    },
    {
     "name": "stderr",
     "output_type": "stream",
     "text": [
      "\r",
      " 53%|█████▎    | 358/681 [13:50:43<20:29:56, 228.47s/it]"
     ]
    },
    {
     "name": "stdout",
     "output_type": "stream",
     "text": [
      "Fetched number of followers ids for robsmithonline : 15000\n",
      "Getting Followers ids of RonColeman\n"
     ]
    },
    {
     "name": "stderr",
     "output_type": "stream",
     "text": [
      "\r",
      " 53%|█████▎    | 359/681 [13:50:44<14:20:49, 160.40s/it]"
     ]
    },
    {
     "name": "stdout",
     "output_type": "stream",
     "text": [
      "Fetched number of followers ids for RonColeman : 15000\n",
      "Getting Followers ids of RonPaul\n"
     ]
    },
    {
     "name": "stderr",
     "output_type": "stream",
     "text": [
      "\r",
      " 53%|█████▎    | 360/681 [13:50:46<10:04:01, 112.90s/it]"
     ]
    },
    {
     "name": "stdout",
     "output_type": "stream",
     "text": [
      "Fetched number of followers ids for RonPaul : 15000\n",
      "Getting Followers ids of Rothbard1776\n"
     ]
    },
    {
     "name": "stderr",
     "output_type": "stream",
     "text": [
      "\r",
      " 53%|█████▎    | 361/681 [13:50:48<7:03:54, 79.48s/it]  "
     ]
    },
    {
     "name": "stdout",
     "output_type": "stream",
     "text": [
      "Fetched number of followers ids for Rothbard1776 : 15000\n",
      "Getting Followers ids of rqui\n"
     ]
    },
    {
     "name": "stderr",
     "output_type": "stream",
     "text": [
      "Rate limit reached. Sleeping for: 893\n",
      " 53%|█████▎    | 362/681 [14:05:48<28:51:06, 325.60s/it]"
     ]
    },
    {
     "name": "stdout",
     "output_type": "stream",
     "text": [
      "Fetched number of followers ids for rqui : 15000\n",
      "Getting Followers ids of RubinReport\n"
     ]
    },
    {
     "name": "stderr",
     "output_type": "stream",
     "text": [
      "\r",
      " 53%|█████▎    | 363/681 [14:05:49<20:10:28, 228.39s/it]"
     ]
    },
    {
     "name": "stdout",
     "output_type": "stream",
     "text": [
      "Fetched number of followers ids for RubinReport : 15000\n",
      "Getting Followers ids of Sadenss\n"
     ]
    },
    {
     "name": "stderr",
     "output_type": "stream",
     "text": [
      "\r",
      " 53%|█████▎    | 364/681 [14:05:51<14:07:28, 160.41s/it]"
     ]
    },
    {
     "name": "stdout",
     "output_type": "stream",
     "text": [
      "Fetched number of followers ids for Sadenss : 15000\n",
      "Getting Followers ids of sailorrooscout\n"
     ]
    },
    {
     "name": "stderr",
     "output_type": "stream",
     "text": [
      "\r",
      " 54%|█████▎    | 365/681 [14:05:52<9:53:44, 112.73s/it] "
     ]
    },
    {
     "name": "stdout",
     "output_type": "stream",
     "text": [
      "Fetched number of followers ids for sailorrooscout : 15000\n",
      "Getting Followers ids of samanthamarika1\n"
     ]
    },
    {
     "name": "stderr",
     "output_type": "stream",
     "text": [
      "\r",
      " 54%|█████▎    | 366/681 [14:05:54<6:56:39, 79.36s/it] "
     ]
    },
    {
     "name": "stdout",
     "output_type": "stream",
     "text": [
      "Fetched number of followers ids for samanthamarika1 : 15000\n",
      "Getting Followers ids of samantharonson\n"
     ]
    },
    {
     "name": "stderr",
     "output_type": "stream",
     "text": [
      "Rate limit reached. Sleeping for: 893\n",
      " 54%|█████▍    | 367/681 [14:20:54<28:24:32, 325.71s/it]"
     ]
    },
    {
     "name": "stdout",
     "output_type": "stream",
     "text": [
      "Fetched number of followers ids for samantharonson : 15000\n",
      "Getting Followers ids of SandraSentinel\n"
     ]
    },
    {
     "name": "stderr",
     "output_type": "stream",
     "text": [
      "\r",
      " 54%|█████▍    | 368/681 [14:20:56<19:51:53, 228.48s/it]"
     ]
    },
    {
     "name": "stdout",
     "output_type": "stream",
     "text": [
      "Fetched number of followers ids for SandraSentinel : 15000\n",
      "Getting Followers ids of SaraGonzalesTX\n"
     ]
    },
    {
     "name": "stderr",
     "output_type": "stream",
     "text": [
      "\r",
      " 54%|█████▍    | 369/681 [14:20:58<13:54:28, 160.48s/it]"
     ]
    },
    {
     "name": "stdout",
     "output_type": "stream",
     "text": [
      "Fetched number of followers ids for SaraGonzalesTX : 15000\n",
      "Getting Followers ids of serenewellness\n"
     ]
    },
    {
     "name": "stderr",
     "output_type": "stream",
     "text": [
      "\r",
      " 54%|█████▍    | 370/681 [14:20:59<9:44:36, 112.79s/it] "
     ]
    },
    {
     "name": "stdout",
     "output_type": "stream",
     "text": [
      "Fetched number of followers ids for serenewellness : 15000\n",
      "Getting Followers ids of SethDillon\n"
     ]
    },
    {
     "name": "stderr",
     "output_type": "stream",
     "text": [
      "\r",
      " 54%|█████▍    | 371/681 [14:21:01<6:51:02, 79.55s/it] "
     ]
    },
    {
     "name": "stdout",
     "output_type": "stream",
     "text": [
      "Fetched number of followers ids for SethDillon : 15000\n",
      "Getting Followers ids of shoe0nhead\n"
     ]
    },
    {
     "name": "stderr",
     "output_type": "stream",
     "text": [
      "Rate limit reached. Sleeping for: 892\n",
      " 55%|█████▍    | 372/681 [14:36:00<27:55:43, 325.38s/it]"
     ]
    },
    {
     "name": "stdout",
     "output_type": "stream",
     "text": [
      "Fetched number of followers ids for shoe0nhead : 15000\n",
      "Getting Followers ids of SKYRIDER4538\n"
     ]
    },
    {
     "name": "stderr",
     "output_type": "stream",
     "text": [
      "\r",
      " 55%|█████▍    | 373/681 [14:36:02<19:31:32, 228.22s/it]"
     ]
    },
    {
     "name": "stdout",
     "output_type": "stream",
     "text": [
      "Fetched number of followers ids for SKYRIDER4538 : 15000\n",
      "Getting Followers ids of sourpatchlyds\n"
     ]
    },
    {
     "name": "stderr",
     "output_type": "stream",
     "text": [
      "\r",
      " 55%|█████▍    | 374/681 [14:36:03<13:39:41, 160.20s/it]"
     ]
    },
    {
     "name": "stdout",
     "output_type": "stream",
     "text": [
      "Fetched number of followers ids for sourpatchlyds : 15000\n",
      "Getting Followers ids of stclairashley\n"
     ]
    },
    {
     "name": "stderr",
     "output_type": "stream",
     "text": [
      "\r",
      " 55%|█████▌    | 375/681 [14:36:05<9:34:23, 112.62s/it] "
     ]
    },
    {
     "name": "stdout",
     "output_type": "stream",
     "text": [
      "Fetched number of followers ids for stclairashley : 15000\n",
      "Getting Followers ids of stevecook\n"
     ]
    },
    {
     "name": "stderr",
     "output_type": "stream",
     "text": [
      "\r",
      " 55%|█████▌    | 376/681 [14:36:06<6:43:07, 79.30s/it] "
     ]
    },
    {
     "name": "stdout",
     "output_type": "stream",
     "text": [
      "Fetched number of followers ids for stevecook : 15000\n",
      "Getting Followers ids of SteveHiltonx\n"
     ]
    },
    {
     "name": "stderr",
     "output_type": "stream",
     "text": [
      "Rate limit reached. Sleeping for: 894\n",
      " 55%|█████▌    | 377/681 [14:51:07<27:30:24, 325.74s/it]"
     ]
    },
    {
     "name": "stdout",
     "output_type": "stream",
     "text": [
      "Fetched number of followers ids for SteveHiltonx : 15000\n",
      "Getting Followers ids of SydneyLWatson\n"
     ]
    },
    {
     "name": "stderr",
     "output_type": "stream",
     "text": [
      "\r",
      " 56%|█████▌    | 378/681 [14:51:09<19:13:51, 228.49s/it]"
     ]
    },
    {
     "name": "stdout",
     "output_type": "stream",
     "text": [
      "Fetched number of followers ids for SydneyLWatson : 15000\n",
      "Getting Followers ids of thebradfordfile\n"
     ]
    },
    {
     "name": "stderr",
     "output_type": "stream",
     "text": [
      "\r",
      " 56%|█████▌    | 379/681 [14:51:10<13:27:17, 160.39s/it]"
     ]
    },
    {
     "name": "stdout",
     "output_type": "stream",
     "text": [
      "Fetched number of followers ids for thebradfordfile : 15000\n",
      "Getting Followers ids of TheDamaniFelder\n"
     ]
    },
    {
     "name": "stderr",
     "output_type": "stream",
     "text": [
      "\r",
      " 56%|█████▌    | 380/681 [14:51:12<9:25:35, 112.74s/it] "
     ]
    },
    {
     "name": "stdout",
     "output_type": "stream",
     "text": [
      "Fetched number of followers ids for TheDamaniFelder : 15000\n",
      "Getting Followers ids of TheJordanRachel\n"
     ]
    },
    {
     "name": "stderr",
     "output_type": "stream",
     "text": [
      "\r",
      " 56%|█████▌    | 381/681 [14:51:13<6:36:52, 79.37s/it] "
     ]
    },
    {
     "name": "stdout",
     "output_type": "stream",
     "text": [
      "Fetched number of followers ids for TheJordanRachel : 15000\n",
      "Getting Followers ids of TheLaurenChen\n"
     ]
    },
    {
     "name": "stderr",
     "output_type": "stream",
     "text": [
      "Rate limit reached. Sleeping for: 894\n",
      " 56%|█████▌    | 382/681 [15:06:14<27:03:34, 325.80s/it]"
     ]
    },
    {
     "name": "stdout",
     "output_type": "stream",
     "text": [
      "Fetched number of followers ids for TheLaurenChen : 15000\n",
      "Getting Followers ids of TheMercedesXXX\n"
     ]
    },
    {
     "name": "stderr",
     "output_type": "stream",
     "text": [
      "\r",
      " 56%|█████▌    | 383/681 [15:06:16<18:55:40, 228.66s/it]"
     ]
    },
    {
     "name": "stdout",
     "output_type": "stream",
     "text": [
      "Fetched number of followers ids for TheMercedesXXX : 15000\n",
      "Getting Followers ids of themouthmatusow\n"
     ]
    },
    {
     "name": "stderr",
     "output_type": "stream",
     "text": [
      "\r",
      " 56%|█████▋    | 384/681 [15:06:18<13:14:36, 160.53s/it]"
     ]
    },
    {
     "name": "stdout",
     "output_type": "stream",
     "text": [
      "Fetched number of followers ids for themouthmatusow : 15000\n",
      "Getting Followers ids of thenoahkinsey\n"
     ]
    },
    {
     "name": "stderr",
     "output_type": "stream",
     "text": [
      "\r",
      " 57%|█████▋    | 385/681 [15:06:19<9:16:35, 112.82s/it] "
     ]
    },
    {
     "name": "stdout",
     "output_type": "stream",
     "text": [
      "Fetched number of followers ids for thenoahkinsey : 15000\n",
      "Getting Followers ids of TheoFleury14\n"
     ]
    },
    {
     "name": "stderr",
     "output_type": "stream",
     "text": [
      "\r",
      " 57%|█████▋    | 386/681 [15:06:21<6:31:00, 79.53s/it] "
     ]
    },
    {
     "name": "stdout",
     "output_type": "stream",
     "text": [
      "Fetched number of followers ids for TheoFleury14 : 15000\n",
      "Getting Followers ids of TheQuartering\n"
     ]
    },
    {
     "name": "stderr",
     "output_type": "stream",
     "text": [
      "Rate limit reached. Sleeping for: 893\n",
      " 57%|█████▋    | 387/681 [15:21:21<26:35:26, 325.60s/it]"
     ]
    },
    {
     "name": "stdout",
     "output_type": "stream",
     "text": [
      "Fetched number of followers ids for TheQuartering : 15000\n",
      "Getting Followers ids of TheRealHoarse\n"
     ]
    },
    {
     "name": "stderr",
     "output_type": "stream",
     "text": [
      "\r",
      " 57%|█████▋    | 388/681 [15:21:22<18:35:22, 228.40s/it]"
     ]
    },
    {
     "name": "stdout",
     "output_type": "stream",
     "text": [
      "Fetched number of followers ids for TheRealHoarse : 15000\n",
      "Getting Followers ids of thevivafrei\n"
     ]
    },
    {
     "name": "stderr",
     "output_type": "stream",
     "text": [
      "\r",
      " 57%|█████▋    | 389/681 [15:21:24<13:00:14, 160.32s/it]"
     ]
    },
    {
     "name": "stdout",
     "output_type": "stream",
     "text": [
      "Fetched number of followers ids for thevivafrei : 15000\n",
      "Getting Followers ids of ThomasEWoods\n"
     ]
    },
    {
     "name": "stderr",
     "output_type": "stream",
     "text": [
      "\r",
      " 57%|█████▋    | 390/681 [15:21:25<9:06:30, 112.68s/it] "
     ]
    },
    {
     "name": "stdout",
     "output_type": "stream",
     "text": [
      "Fetched number of followers ids for ThomasEWoods : 15000\n",
      "Getting Followers ids of ThomasSowell\n"
     ]
    },
    {
     "name": "stderr",
     "output_type": "stream",
     "text": [
      "\r",
      " 57%|█████▋    | 391/681 [15:21:27<6:23:28, 79.34s/it] "
     ]
    },
    {
     "name": "stdout",
     "output_type": "stream",
     "text": [
      "Fetched number of followers ids for ThomasSowell : 15000\n",
      "Getting Followers ids of Timcast\n"
     ]
    },
    {
     "name": "stderr",
     "output_type": "stream",
     "text": [
      "Rate limit reached. Sleeping for: 894\n",
      " 58%|█████▊    | 392/681 [15:36:28<26:09:06, 325.77s/it]"
     ]
    },
    {
     "name": "stdout",
     "output_type": "stream",
     "text": [
      "Fetched number of followers ids for Timcast : 15000\n",
      "Getting Followers ids of timjacobwise\n"
     ]
    },
    {
     "name": "stderr",
     "output_type": "stream",
     "text": [
      "\r",
      " 58%|█████▊    | 393/681 [15:36:30<18:17:07, 228.57s/it]"
     ]
    },
    {
     "name": "stdout",
     "output_type": "stream",
     "text": [
      "Fetched number of followers ids for timjacobwise : 15000\n",
      "Getting Followers ids of TimRunsHisMouth\n"
     ]
    },
    {
     "name": "stderr",
     "output_type": "stream",
     "text": [
      "\r",
      " 58%|█████▊    | 394/681 [15:36:31<12:47:30, 160.46s/it]"
     ]
    },
    {
     "name": "stdout",
     "output_type": "stream",
     "text": [
      "Fetched number of followers ids for TimRunsHisMouth : 15000\n",
      "Getting Followers ids of TomiLahren\n"
     ]
    },
    {
     "name": "stderr",
     "output_type": "stream",
     "text": [
      "\r",
      " 58%|█████▊    | 395/681 [15:36:33<8:57:34, 112.78s/it] "
     ]
    },
    {
     "name": "stdout",
     "output_type": "stream",
     "text": [
      "Fetched number of followers ids for TomiLahren : 15000\n",
      "Getting Followers ids of WatchChad\n"
     ]
    },
    {
     "name": "stderr",
     "output_type": "stream",
     "text": [
      "\r",
      " 58%|█████▊    | 396/681 [15:36:34<6:17:12, 79.41s/it] "
     ]
    },
    {
     "name": "stdout",
     "output_type": "stream",
     "text": [
      "Fetched number of followers ids for WatchChad : 15000\n",
      "Getting Followers ids of WeStand4USA\n"
     ]
    },
    {
     "name": "stderr",
     "output_type": "stream",
     "text": [
      "Rate limit reached. Sleeping for: 894\n",
      " 58%|█████▊    | 397/681 [15:51:35<25:42:16, 325.83s/it]"
     ]
    },
    {
     "name": "stdout",
     "output_type": "stream",
     "text": [
      "Fetched number of followers ids for WeStand4USA : 15000\n",
      "Getting Followers ids of WilliamShatner\n"
     ]
    },
    {
     "name": "stderr",
     "output_type": "stream",
     "text": [
      "\r",
      " 58%|█████▊    | 398/681 [15:51:37<17:58:36, 228.68s/it]"
     ]
    },
    {
     "name": "stdout",
     "output_type": "stream",
     "text": [
      "Fetched number of followers ids for WilliamShatner : 15000\n",
      "Getting Followers ids of WSJhealthblog\n"
     ]
    },
    {
     "name": "stderr",
     "output_type": "stream",
     "text": [
      "\r",
      " 59%|█████▊    | 399/681 [15:51:38<12:34:30, 160.53s/it]"
     ]
    },
    {
     "name": "stdout",
     "output_type": "stream",
     "text": [
      "Fetched number of followers ids for WSJhealthblog : 15000\n",
      "Getting Followers ids of YALiberty\n"
     ]
    },
    {
     "name": "stderr",
     "output_type": "stream",
     "text": [
      "\r",
      " 59%|█████▊    | 400/681 [15:51:40<8:48:23, 112.82s/it] "
     ]
    },
    {
     "name": "stdout",
     "output_type": "stream",
     "text": [
      "Fetched number of followers ids for YALiberty : 15000\n",
      "Getting Followers ids of YesYoureRacist\n"
     ]
    },
    {
     "name": "stderr",
     "output_type": "stream",
     "text": [
      "\r",
      " 59%|█████▉    | 401/681 [15:51:42<6:10:42, 79.44s/it] "
     ]
    },
    {
     "name": "stdout",
     "output_type": "stream",
     "text": [
      "Fetched number of followers ids for YesYoureRacist : 15000\n",
      "Getting Followers ids of zoeharcombe\n"
     ]
    },
    {
     "name": "stderr",
     "output_type": "stream",
     "text": [
      "Rate limit reached. Sleeping for: 894\n",
      " 59%|█████▉    | 402/681 [16:06:42<25:15:19, 325.87s/it]"
     ]
    },
    {
     "name": "stdout",
     "output_type": "stream",
     "text": [
      "Fetched number of followers ids for zoeharcombe : 15000\n",
      "Getting Followers ids of ZubyMusic\n"
     ]
    },
    {
     "name": "stderr",
     "output_type": "stream",
     "text": [
      "\r",
      " 59%|█████▉    | 403/681 [16:06:44<17:38:55, 228.54s/it]"
     ]
    },
    {
     "name": "stdout",
     "output_type": "stream",
     "text": [
      "Fetched number of followers ids for ZubyMusic : 15000\n",
      "Getting Followers ids of _SJPeace_\n"
     ]
    },
    {
     "name": "stderr",
     "output_type": "stream",
     "text": [
      "\r",
      " 59%|█████▉    | 404/681 [16:06:45<12:20:36, 160.42s/it]"
     ]
    },
    {
     "name": "stdout",
     "output_type": "stream",
     "text": [
      "Fetched number of followers ids for _SJPeace_ : 15000\n",
      "Getting Followers ids of 55mmbae\n"
     ]
    },
    {
     "name": "stderr",
     "output_type": "stream",
     "text": [
      "\r",
      " 59%|█████▉    | 405/681 [16:06:47<8:38:41, 112.76s/it] "
     ]
    },
    {
     "name": "stdout",
     "output_type": "stream",
     "text": [
      "Fetched number of followers ids for 55mmbae : 15000\n",
      "Getting Followers ids of AdamBaldwin\n"
     ]
    },
    {
     "name": "stderr",
     "output_type": "stream",
     "text": [
      "\r",
      " 60%|█████▉    | 406/681 [16:06:48<6:03:51, 79.39s/it] "
     ]
    },
    {
     "name": "stdout",
     "output_type": "stream",
     "text": [
      "Fetched number of followers ids for AdamBaldwin : 15000\n",
      "Getting Followers ids of AdamCrigler\n"
     ]
    },
    {
     "name": "stderr",
     "output_type": "stream",
     "text": [
      "Rate limit reached. Sleeping for: 894\n",
      " 60%|█████▉    | 407/681 [16:21:49<24:47:45, 325.79s/it]"
     ]
    },
    {
     "name": "stdout",
     "output_type": "stream",
     "text": [
      "Fetched number of followers ids for AdamCrigler : 15000\n",
      "Getting Followers ids of AJA_Cortes\n"
     ]
    },
    {
     "name": "stderr",
     "output_type": "stream",
     "text": [
      "\r",
      " 60%|█████▉    | 408/681 [16:21:51<17:19:43, 228.51s/it]"
     ]
    },
    {
     "name": "stdout",
     "output_type": "stream",
     "text": [
      "Fetched number of followers ids for AJA_Cortes : 15000\n",
      "Getting Followers ids of AkilahObviously\n"
     ]
    },
    {
     "name": "stderr",
     "output_type": "stream",
     "text": [
      "\r",
      " 60%|██████    | 409/681 [16:21:52<12:07:12, 160.41s/it]"
     ]
    },
    {
     "name": "stdout",
     "output_type": "stream",
     "text": [
      "Fetched number of followers ids for AkilahObviously : 15000\n",
      "Getting Followers ids of AleaMilham\n"
     ]
    },
    {
     "name": "stderr",
     "output_type": "stream",
     "text": [
      "\r",
      " 60%|██████    | 410/681 [16:21:54<8:29:09, 112.73s/it] "
     ]
    },
    {
     "name": "stdout",
     "output_type": "stream",
     "text": [
      "Fetched number of followers ids for AleaMilham : 15000\n",
      "Getting Followers ids of AllisonPearson\n"
     ]
    },
    {
     "name": "stderr",
     "output_type": "stream",
     "text": [
      "\r",
      " 60%|██████    | 411/681 [16:21:55<5:57:08, 79.37s/it] "
     ]
    },
    {
     "name": "stdout",
     "output_type": "stream",
     "text": [
      "Fetched number of followers ids for AllisonPearson : 15000\n",
      "Getting Followers ids of AlpacaAurelius\n"
     ]
    },
    {
     "name": "stderr",
     "output_type": "stream",
     "text": [
      "Rate limit reached. Sleeping for: 894\n",
      " 60%|██████    | 412/681 [16:36:56<24:20:33, 325.78s/it]"
     ]
    },
    {
     "name": "stdout",
     "output_type": "stream",
     "text": [
      "Fetched number of followers ids for AlpacaAurelius : 15000\n",
      "Getting Followers ids of AndreasChoice\n"
     ]
    },
    {
     "name": "stderr",
     "output_type": "stream",
     "text": [
      "\r",
      " 61%|██████    | 413/681 [16:36:57<17:00:40, 228.51s/it]"
     ]
    },
    {
     "name": "stdout",
     "output_type": "stream",
     "text": [
      "Fetched number of followers ids for AndreasChoice : 15000\n",
      "Getting Followers ids of andylevy\n"
     ]
    },
    {
     "name": "stderr",
     "output_type": "stream",
     "text": [
      "\r",
      " 61%|██████    | 414/681 [16:36:59<11:53:51, 160.42s/it]"
     ]
    },
    {
     "name": "stdout",
     "output_type": "stream",
     "text": [
      "Fetched number of followers ids for andylevy : 15000\n",
      "Getting Followers ids of AvaGG\n"
     ]
    },
    {
     "name": "stderr",
     "output_type": "stream",
     "text": [
      "\r",
      " 61%|██████    | 415/681 [16:37:00<8:19:48, 112.74s/it] "
     ]
    },
    {
     "name": "stdout",
     "output_type": "stream",
     "text": [
      "Fetched number of followers ids for AvaGG : 15000\n",
      "Getting Followers ids of A_doubleC_D\n"
     ]
    },
    {
     "name": "stderr",
     "output_type": "stream",
     "text": [
      "\r",
      " 61%|██████    | 416/681 [16:37:02<5:50:37, 79.38s/it] "
     ]
    },
    {
     "name": "stdout",
     "output_type": "stream",
     "text": [
      "Fetched number of followers ids for A_doubleC_D : 15000\n",
      "Getting Followers ids of Barnacules\n"
     ]
    },
    {
     "name": "stderr",
     "output_type": "stream",
     "text": [
      "Rate limit reached. Sleeping for: 894\n",
      " 61%|██████    | 417/681 [16:52:03<23:53:33, 325.81s/it]"
     ]
    },
    {
     "name": "stdout",
     "output_type": "stream",
     "text": [
      "Fetched number of followers ids for Barnacules : 15000\n",
      "Getting Followers ids of BernieSpofforth\n"
     ]
    },
    {
     "name": "stderr",
     "output_type": "stream",
     "text": [
      "\r",
      " 61%|██████▏   | 418/681 [16:52:04<16:41:39, 228.51s/it]"
     ]
    },
    {
     "name": "stdout",
     "output_type": "stream",
     "text": [
      "Fetched number of followers ids for BernieSpofforth : 15000\n",
      "Getting Followers ids of biggestjoel\n"
     ]
    },
    {
     "name": "stderr",
     "output_type": "stream",
     "text": [
      "\r",
      " 62%|██████▏   | 419/681 [16:52:06<11:40:47, 160.49s/it]"
     ]
    },
    {
     "name": "stdout",
     "output_type": "stream",
     "text": [
      "Fetched number of followers ids for biggestjoel : 15000\n",
      "Getting Followers ids of BirdyLovesIt\n"
     ]
    },
    {
     "name": "stderr",
     "output_type": "stream",
     "text": [
      "\r",
      " 62%|██████▏   | 420/681 [16:52:08<8:10:48, 112.83s/it] "
     ]
    },
    {
     "name": "stdout",
     "output_type": "stream",
     "text": [
      "Fetched number of followers ids for BirdyLovesIt : 15000\n",
      "Getting Followers ids of BlissTabitha\n"
     ]
    },
    {
     "name": "stderr",
     "output_type": "stream",
     "text": [
      "\r",
      " 62%|██████▏   | 421/681 [16:52:09<5:44:08, 79.42s/it] "
     ]
    },
    {
     "name": "stdout",
     "output_type": "stream",
     "text": [
      "Fetched number of followers ids for BlissTabitha : 15000\n",
      "Getting Followers ids of Boogie2988\n"
     ]
    },
    {
     "name": "stderr",
     "output_type": "stream",
     "text": [
      "Rate limit reached. Sleeping for: 894\n",
      " 62%|██████▏   | 422/681 [17:07:10<23:26:22, 325.80s/it]"
     ]
    },
    {
     "name": "stdout",
     "output_type": "stream",
     "text": [
      "Fetched number of followers ids for Boogie2988 : 15000\n",
      "Getting Followers ids of BossWard43\n"
     ]
    },
    {
     "name": "stderr",
     "output_type": "stream",
     "text": [
      "\r",
      " 62%|██████▏   | 423/681 [17:07:12<16:22:54, 228.58s/it]"
     ]
    },
    {
     "name": "stdout",
     "output_type": "stream",
     "text": [
      "Fetched number of followers ids for BossWard43 : 15000\n",
      "Getting Followers ids of BrainDumpTweets\n"
     ]
    },
    {
     "name": "stderr",
     "output_type": "stream",
     "text": [
      "\r",
      " 62%|██████▏   | 424/681 [17:07:13<11:27:21, 160.47s/it]"
     ]
    },
    {
     "name": "stdout",
     "output_type": "stream",
     "text": [
      "Fetched number of followers ids for BrainDumpTweets : 15000\n",
      "Getting Followers ids of BreeOlson\n"
     ]
    },
    {
     "name": "stderr",
     "output_type": "stream",
     "text": [
      "\r",
      " 62%|██████▏   | 425/681 [17:07:15<8:01:10, 112.77s/it] "
     ]
    },
    {
     "name": "stdout",
     "output_type": "stream",
     "text": [
      "Fetched number of followers ids for BreeOlson : 15000\n",
      "Getting Followers ids of BreesAnna\n"
     ]
    },
    {
     "name": "stderr",
     "output_type": "stream",
     "text": [
      "\r",
      " 63%|██████▎   | 426/681 [17:07:16<5:37:36, 79.44s/it] "
     ]
    },
    {
     "name": "stdout",
     "output_type": "stream",
     "text": [
      "Fetched number of followers ids for BreesAnna : 15000\n",
      "Getting Followers ids of BryanDeanWright\n"
     ]
    },
    {
     "name": "stderr",
     "output_type": "stream",
     "text": [
      "Rate limit reached. Sleeping for: 894\n",
      " 63%|██████▎   | 427/681 [17:22:17<22:59:20, 325.83s/it]"
     ]
    },
    {
     "name": "stdout",
     "output_type": "stream",
     "text": [
      "Fetched number of followers ids for BryanDeanWright : 15000\n",
      "Getting Followers ids of calvinrobinson\n"
     ]
    },
    {
     "name": "stderr",
     "output_type": "stream",
     "text": [
      "\r",
      " 63%|██████▎   | 428/681 [17:22:18<16:03:34, 228.52s/it]"
     ]
    },
    {
     "name": "stdout",
     "output_type": "stream",
     "text": [
      "Fetched number of followers ids for calvinrobinson : 15000\n",
      "Getting Followers ids of carlyincontro\n"
     ]
    },
    {
     "name": "stderr",
     "output_type": "stream",
     "text": [
      "\r",
      " 63%|██████▎   | 429/681 [17:22:20<11:14:03, 160.49s/it]"
     ]
    },
    {
     "name": "stdout",
     "output_type": "stream",
     "text": [
      "Fetched number of followers ids for carlyincontro : 15000\n",
      "Getting Followers ids of catturd2\n"
     ]
    },
    {
     "name": "stderr",
     "output_type": "stream",
     "text": [
      "\r",
      " 63%|██████▎   | 430/681 [17:22:22<7:51:51, 112.80s/it] "
     ]
    },
    {
     "name": "stdout",
     "output_type": "stream",
     "text": [
      "Fetched number of followers ids for catturd2 : 15000\n",
      "Getting Followers ids of CDC_Cancer\n"
     ]
    },
    {
     "name": "stderr",
     "output_type": "stream",
     "text": [
      "\r",
      " 63%|██████▎   | 431/681 [17:22:23<5:30:52, 79.41s/it] "
     ]
    },
    {
     "name": "stdout",
     "output_type": "stream",
     "text": [
      "Fetched number of followers ids for CDC_Cancer : 15000\n",
      "Getting Followers ids of ChilledChaos\n"
     ]
    },
    {
     "name": "stderr",
     "output_type": "stream",
     "text": [
      "Rate limit reached. Sleeping for: 894\n",
      " 63%|██████▎   | 432/681 [17:37:24<22:32:05, 325.81s/it]"
     ]
    },
    {
     "name": "stdout",
     "output_type": "stream",
     "text": [
      "Fetched number of followers ids for ChilledChaos : 15000\n",
      "Getting Followers ids of chrisdelia\n"
     ]
    },
    {
     "name": "stderr",
     "output_type": "stream",
     "text": [
      "\r",
      " 64%|██████▎   | 433/681 [17:37:26<15:44:47, 228.58s/it]"
     ]
    },
    {
     "name": "stdout",
     "output_type": "stream",
     "text": [
      "Fetched number of followers ids for chrisdelia : 15000\n",
      "Getting Followers ids of ChrisHarrisJr\n"
     ]
    },
    {
     "name": "stderr",
     "output_type": "stream",
     "text": [
      "\r",
      " 64%|██████▎   | 434/681 [17:37:27<11:00:31, 160.45s/it]"
     ]
    },
    {
     "name": "stdout",
     "output_type": "stream",
     "text": [
      "Fetched number of followers ids for ChrisHarrisJr : 15000\n",
      "Getting Followers ids of ChrisLoesch\n"
     ]
    },
    {
     "name": "stderr",
     "output_type": "stream",
     "text": [
      "\r",
      " 64%|██████▍   | 435/681 [17:37:29<7:42:20, 112.77s/it] "
     ]
    },
    {
     "name": "stdout",
     "output_type": "stream",
     "text": [
      "Fetched number of followers ids for ChrisLoesch : 15000\n",
      "Getting Followers ids of CindyKendrick11\n"
     ]
    },
    {
     "name": "stderr",
     "output_type": "stream",
     "text": [
      "\r",
      " 64%|██████▍   | 436/681 [17:37:30<5:24:08, 79.38s/it] "
     ]
    },
    {
     "name": "stdout",
     "output_type": "stream",
     "text": [
      "Fetched number of followers ids for CindyKendrick11 : 15000\n",
      "Getting Followers ids of ClareCraigPath\n"
     ]
    },
    {
     "name": "stderr",
     "output_type": "stream",
     "text": [
      "Rate limit reached. Sleeping for: 894\n",
      " 64%|██████▍   | 437/681 [17:52:31<22:04:50, 325.78s/it]"
     ]
    },
    {
     "name": "stdout",
     "output_type": "stream",
     "text": [
      "Fetched number of followers ids for ClareCraigPath : 15000\n",
      "Getting Followers ids of CoreyRForrester\n"
     ]
    },
    {
     "name": "stderr",
     "output_type": "stream",
     "text": [
      "\r",
      " 64%|██████▍   | 438/681 [17:52:32<15:25:25, 228.50s/it]"
     ]
    },
    {
     "name": "stdout",
     "output_type": "stream",
     "text": [
      "Fetched number of followers ids for CoreyRForrester : 15000\n",
      "Getting Followers ids of cov_Gretchen\n"
     ]
    },
    {
     "name": "stderr",
     "output_type": "stream",
     "text": [
      "\r",
      " 64%|██████▍   | 439/681 [17:52:34<10:46:57, 160.40s/it]"
     ]
    },
    {
     "name": "stdout",
     "output_type": "stream",
     "text": [
      "Fetched number of followers ids for cov_Gretchen : 15000\n",
      "Getting Followers ids of CraigRozniecki\n"
     ]
    },
    {
     "name": "stderr",
     "output_type": "stream",
     "text": [
      "\r",
      " 65%|██████▍   | 440/681 [17:52:35<7:32:48, 112.73s/it] "
     ]
    },
    {
     "name": "stdout",
     "output_type": "stream",
     "text": [
      "Fetched number of followers ids for CraigRozniecki : 15000\n",
      "Getting Followers ids of DaisyFuentes\n"
     ]
    },
    {
     "name": "stderr",
     "output_type": "stream",
     "text": [
      "\r",
      " 65%|██████▍   | 441/681 [17:52:37<5:17:28, 79.37s/it] "
     ]
    },
    {
     "name": "stdout",
     "output_type": "stream",
     "text": [
      "Fetched number of followers ids for DaisyFuentes : 15000\n",
      "Getting Followers ids of dakotawint\n"
     ]
    },
    {
     "name": "stderr",
     "output_type": "stream",
     "text": [
      "Rate limit reached. Sleeping for: 894\n",
      " 65%|██████▍   | 442/681 [18:07:38<21:37:40, 325.78s/it]"
     ]
    },
    {
     "name": "stdout",
     "output_type": "stream",
     "text": [
      "Fetched number of followers ids for dakotawint : 15000\n",
      "Getting Followers ids of dannygokey\n"
     ]
    },
    {
     "name": "stderr",
     "output_type": "stream",
     "text": [
      "\r",
      " 65%|██████▌   | 443/681 [18:07:39<15:06:20, 228.49s/it]"
     ]
    },
    {
     "name": "stdout",
     "output_type": "stream",
     "text": [
      "Fetched number of followers ids for dannygokey : 15000\n",
      "Getting Followers ids of dapperlaughs\n"
     ]
    },
    {
     "name": "stderr",
     "output_type": "stream",
     "text": [
      "\r",
      " 65%|██████▌   | 444/681 [18:07:41<10:33:32, 160.39s/it]"
     ]
    },
    {
     "name": "stdout",
     "output_type": "stream",
     "text": [
      "Fetched number of followers ids for dapperlaughs : 15000\n",
      "Getting Followers ids of Divinadecampo\n"
     ]
    },
    {
     "name": "stderr",
     "output_type": "stream",
     "text": [
      "\r",
      " 65%|██████▌   | 445/681 [18:07:42<7:23:21, 112.72s/it] "
     ]
    },
    {
     "name": "stdout",
     "output_type": "stream",
     "text": [
      "Fetched number of followers ids for Divinadecampo : 15000\n",
      "Getting Followers ids of dockaurG\n"
     ]
    },
    {
     "name": "stderr",
     "output_type": "stream",
     "text": [
      "\r",
      " 65%|██████▌   | 446/681 [18:07:44<5:10:44, 79.34s/it] "
     ]
    },
    {
     "name": "stdout",
     "output_type": "stream",
     "text": [
      "Fetched number of followers ids for dockaurG : 15000\n",
      "Getting Followers ids of docm77\n"
     ]
    },
    {
     "name": "stderr",
     "output_type": "stream",
     "text": [
      "Rate limit reached. Sleeping for: 895\n",
      " 66%|██████▌   | 447/681 [18:22:45<21:11:47, 326.10s/it]"
     ]
    },
    {
     "name": "stdout",
     "output_type": "stream",
     "text": [
      "Fetched number of followers ids for docm77 : 15000\n",
      "Getting Followers ids of DrAseemMalhotra\n"
     ]
    },
    {
     "name": "stderr",
     "output_type": "stream",
     "text": [
      "\r",
      " 66%|██████▌   | 448/681 [18:22:47<14:48:08, 228.71s/it]"
     ]
    },
    {
     "name": "stdout",
     "output_type": "stream",
     "text": [
      "Fetched number of followers ids for DrAseemMalhotra : 15000\n",
      "Getting Followers ids of DrJBhattacharya\n"
     ]
    },
    {
     "name": "stderr",
     "output_type": "stream",
     "text": [
      "\r",
      " 66%|██████▌   | 449/681 [18:22:48<10:20:50, 160.56s/it]"
     ]
    },
    {
     "name": "stdout",
     "output_type": "stream",
     "text": [
      "Fetched number of followers ids for DrJBhattacharya : 15000\n",
      "Getting Followers ids of DThompsonDev\n"
     ]
    },
    {
     "name": "stderr",
     "output_type": "stream",
     "text": [
      "\r",
      " 66%|██████▌   | 450/681 [18:22:50<7:14:27, 112.85s/it] "
     ]
    },
    {
     "name": "stdout",
     "output_type": "stream",
     "text": [
      "Fetched number of followers ids for DThompsonDev : 15000\n",
      "Getting Followers ids of DuncanBannatyne\n"
     ]
    },
    {
     "name": "stderr",
     "output_type": "stream",
     "text": [
      "\r",
      " 66%|██████▌   | 451/681 [18:22:51<5:04:30, 79.44s/it] "
     ]
    },
    {
     "name": "stdout",
     "output_type": "stream",
     "text": [
      "Fetched number of followers ids for DuncanBannatyne : 15000\n",
      "Getting Followers ids of EdLatimore\n"
     ]
    },
    {
     "name": "stderr",
     "output_type": "stream",
     "text": [
      "Rate limit reached. Sleeping for: 895\n",
      " 66%|██████▋   | 452/681 [18:37:53<20:44:41, 326.12s/it]"
     ]
    },
    {
     "name": "stdout",
     "output_type": "stream",
     "text": [
      "Fetched number of followers ids for EdLatimore : 15000\n",
      "Getting Followers ids of EdmundKudzayi\n"
     ]
    },
    {
     "name": "stderr",
     "output_type": "stream",
     "text": [
      "\r",
      " 67%|██████▋   | 453/681 [18:37:55<14:29:12, 228.74s/it]"
     ]
    },
    {
     "name": "stdout",
     "output_type": "stream",
     "text": [
      "Fetched number of followers ids for EdmundKudzayi : 15000\n",
      "Getting Followers ids of elleduncanESPN\n"
     ]
    },
    {
     "name": "stderr",
     "output_type": "stream",
     "text": [
      "\r",
      " 67%|██████▋   | 454/681 [18:37:56<10:07:29, 160.57s/it]"
     ]
    },
    {
     "name": "stdout",
     "output_type": "stream",
     "text": [
      "Fetched number of followers ids for elleduncanESPN : 15000\n",
      "Getting Followers ids of emmakennytv\n"
     ]
    },
    {
     "name": "stderr",
     "output_type": "stream",
     "text": [
      "\r",
      " 67%|██████▋   | 455/681 [18:37:58<7:05:07, 112.86s/it] "
     ]
    },
    {
     "name": "stdout",
     "output_type": "stream",
     "text": [
      "Fetched number of followers ids for emmakennytv : 15000\n",
      "Getting Followers ids of EricDJuly\n"
     ]
    },
    {
     "name": "stderr",
     "output_type": "stream",
     "text": [
      "\r",
      " 67%|██████▋   | 456/681 [18:37:59<4:57:55, 79.45s/it] "
     ]
    },
    {
     "name": "stdout",
     "output_type": "stream",
     "text": [
      "Fetched number of followers ids for EricDJuly : 15000\n",
      "Getting Followers ids of FrancisBoulle\n"
     ]
    },
    {
     "name": "stderr",
     "output_type": "stream",
     "text": [
      "Rate limit reached. Sleeping for: 894\n",
      " 67%|██████▋   | 457/681 [18:53:00<20:16:30, 325.85s/it]"
     ]
    },
    {
     "name": "stdout",
     "output_type": "stream",
     "text": [
      "Fetched number of followers ids for FrancisBoulle : 15000\n",
      "Getting Followers ids of fuzethemc\n"
     ]
    },
    {
     "name": "stderr",
     "output_type": "stream",
     "text": [
      "\r",
      " 67%|██████▋   | 458/681 [18:53:01<14:09:22, 228.53s/it]"
     ]
    },
    {
     "name": "stdout",
     "output_type": "stream",
     "text": [
      "Fetched number of followers ids for fuzethemc : 15000\n",
      "Getting Followers ids of gabrielzamora\n"
     ]
    },
    {
     "name": "stderr",
     "output_type": "stream",
     "text": [
      "\r",
      " 67%|██████▋   | 459/681 [18:53:03<9:53:37, 160.44s/it] "
     ]
    },
    {
     "name": "stdout",
     "output_type": "stream",
     "text": [
      "Fetched number of followers ids for gabrielzamora : 15000\n",
      "Getting Followers ids of GadSaad\n"
     ]
    },
    {
     "name": "stderr",
     "output_type": "stream",
     "text": [
      "\r",
      " 68%|██████▊   | 460/681 [18:53:04<6:55:17, 112.75s/it]"
     ]
    },
    {
     "name": "stdout",
     "output_type": "stream",
     "text": [
      "Fetched number of followers ids for GadSaad : 15000\n",
      "Getting Followers ids of GamerTakes\n"
     ]
    },
    {
     "name": "stderr",
     "output_type": "stream",
     "text": [
      "\r",
      " 68%|██████▊   | 461/681 [18:53:06<4:51:02, 79.38s/it] "
     ]
    },
    {
     "name": "stdout",
     "output_type": "stream",
     "text": [
      "Fetched number of followers ids for GamerTakes : 15000\n",
      "Getting Followers ids of GeorgeGammon\n"
     ]
    },
    {
     "name": "stderr",
     "output_type": "stream",
     "text": [
      "Rate limit reached. Sleeping for: 894\n",
      " 68%|██████▊   | 462/681 [19:08:07<19:49:09, 325.80s/it]"
     ]
    },
    {
     "name": "stdout",
     "output_type": "stream",
     "text": [
      "Fetched number of followers ids for GeorgeGammon : 15000\n",
      "Getting Followers ids of GiaMMacool\n"
     ]
    },
    {
     "name": "stderr",
     "output_type": "stream",
     "text": [
      "\r",
      " 68%|██████▊   | 463/681 [19:08:08<13:50:29, 228.58s/it]"
     ]
    },
    {
     "name": "stdout",
     "output_type": "stream",
     "text": [
      "Fetched number of followers ids for GiaMMacool : 15000\n",
      "Getting Followers ids of GibiOfficial\n"
     ]
    },
    {
     "name": "stderr",
     "output_type": "stream",
     "text": [
      "\r",
      " 68%|██████▊   | 464/681 [19:08:10<9:40:23, 160.48s/it] "
     ]
    },
    {
     "name": "stdout",
     "output_type": "stream",
     "text": [
      "Fetched number of followers ids for GibiOfficial : 15000\n",
      "Getting Followers ids of GradeAUnderA\n"
     ]
    },
    {
     "name": "stderr",
     "output_type": "stream",
     "text": [
      "\r",
      " 68%|██████▊   | 465/681 [19:08:12<6:46:00, 112.78s/it]"
     ]
    },
    {
     "name": "stdout",
     "output_type": "stream",
     "text": [
      "Fetched number of followers ids for GradeAUnderA : 15000\n",
      "Getting Followers ids of gregkellyusa\n"
     ]
    },
    {
     "name": "stderr",
     "output_type": "stream",
     "text": [
      "\r",
      " 68%|██████▊   | 466/681 [19:08:13<4:44:29, 79.39s/it] "
     ]
    },
    {
     "name": "stdout",
     "output_type": "stream",
     "text": [
      "Fetched number of followers ids for gregkellyusa : 15000\n",
      "Getting Followers ids of Helen_Wood86\n"
     ]
    },
    {
     "name": "stderr",
     "output_type": "stream",
     "text": [
      "Rate limit reached. Sleeping for: 894\n",
      " 69%|██████▊   | 467/681 [19:23:14<19:22:01, 325.80s/it]"
     ]
    },
    {
     "name": "stdout",
     "output_type": "stream",
     "text": [
      "Fetched number of followers ids for Helen_Wood86 : 15000\n",
      "Getting Followers ids of HollytWolf\n"
     ]
    },
    {
     "name": "stderr",
     "output_type": "stream",
     "text": [
      "\r",
      " 69%|██████▊   | 468/681 [19:23:16<13:31:28, 228.59s/it]"
     ]
    },
    {
     "name": "stdout",
     "output_type": "stream",
     "text": [
      "Fetched number of followers ids for HollytWolf : 15000\n",
      "Getting Followers ids of hutchinson\n"
     ]
    },
    {
     "name": "stderr",
     "output_type": "stream",
     "text": [
      "\r",
      " 69%|██████▉   | 469/681 [19:23:17<9:26:55, 160.45s/it] "
     ]
    },
    {
     "name": "stdout",
     "output_type": "stream",
     "text": [
      "Fetched number of followers ids for hutchinson : 15000\n",
      "Getting Followers ids of iamstillpunch\n"
     ]
    },
    {
     "name": "stderr",
     "output_type": "stream",
     "text": [
      "\r",
      " 69%|██████▉   | 470/681 [19:23:19<6:36:35, 112.78s/it]"
     ]
    },
    {
     "name": "stdout",
     "output_type": "stream",
     "text": [
      "Fetched number of followers ids for iamstillpunch : 15000\n",
      "Getting Followers ids of Idolomantises\n"
     ]
    },
    {
     "name": "stderr",
     "output_type": "stream",
     "text": [
      "\r",
      " 69%|██████▉   | 471/681 [19:23:20<4:38:05, 79.46s/it] "
     ]
    },
    {
     "name": "stdout",
     "output_type": "stream",
     "text": [
      "Fetched number of followers ids for Idolomantises : 15000\n",
      "Getting Followers ids of illicit69kitty\n"
     ]
    },
    {
     "name": "stderr",
     "output_type": "stream",
     "text": [
      "Rate limit reached. Sleeping for: 894\n",
      " 69%|██████▉   | 472/681 [19:38:21<18:55:07, 325.87s/it]"
     ]
    },
    {
     "name": "stdout",
     "output_type": "stream",
     "text": [
      "Fetched number of followers ids for illicit69kitty : 15000\n",
      "Getting Followers ids of indiaarie\n"
     ]
    },
    {
     "name": "stderr",
     "output_type": "stream",
     "text": [
      "\r",
      " 69%|██████▉   | 473/681 [19:38:23<13:12:22, 228.57s/it]"
     ]
    },
    {
     "name": "stdout",
     "output_type": "stream",
     "text": [
      "Fetched number of followers ids for indiaarie : 15000\n",
      "Getting Followers ids of irritatedwoman\n"
     ]
    },
    {
     "name": "stderr",
     "output_type": "stream",
     "text": [
      "\r",
      " 70%|██████▉   | 474/681 [19:38:24<9:13:30, 160.44s/it] "
     ]
    },
    {
     "name": "stdout",
     "output_type": "stream",
     "text": [
      "Fetched number of followers ids for irritatedwoman : 15000\n",
      "Getting Followers ids of itsUAbros\n"
     ]
    },
    {
     "name": "stderr",
     "output_type": "stream",
     "text": [
      "\r",
      " 70%|██████▉   | 475/681 [19:38:26<6:27:07, 112.75s/it]"
     ]
    },
    {
     "name": "stdout",
     "output_type": "stream",
     "text": [
      "Fetched number of followers ids for itsUAbros : 15000\n",
      "Getting Followers ids of jammerbbk\n"
     ]
    },
    {
     "name": "stderr",
     "output_type": "stream",
     "text": [
      "\r",
      " 70%|██████▉   | 476/681 [19:38:27<4:31:09, 79.36s/it] "
     ]
    },
    {
     "name": "stdout",
     "output_type": "stream",
     "text": [
      "Fetched number of followers ids for jammerbbk : 15000\n",
      "Getting Followers ids of JavaughnSYW\n"
     ]
    },
    {
     "name": "stderr",
     "output_type": "stream",
     "text": [
      "Rate limit reached. Sleeping for: 894\n",
      " 70%|███████   | 477/681 [19:53:28<18:27:36, 325.77s/it]"
     ]
    },
    {
     "name": "stdout",
     "output_type": "stream",
     "text": [
      "Fetched number of followers ids for JavaughnSYW : 15000\n",
      "Getting Followers ids of jeanniegaffigan\n"
     ]
    },
    {
     "name": "stderr",
     "output_type": "stream",
     "text": [
      "\r",
      " 70%|███████   | 478/681 [19:53:29<12:53:01, 228.48s/it]"
     ]
    },
    {
     "name": "stdout",
     "output_type": "stream",
     "text": [
      "Fetched number of followers ids for jeanniegaffigan : 15000\n",
      "Getting Followers ids of JedediahBila\n"
     ]
    },
    {
     "name": "stderr",
     "output_type": "stream",
     "text": [
      "\r",
      " 70%|███████   | 479/681 [19:53:31<9:00:00, 160.40s/it] "
     ]
    },
    {
     "name": "stdout",
     "output_type": "stream",
     "text": [
      "Fetched number of followers ids for JedediahBila : 15000\n",
      "Getting Followers ids of jennaezarik\n"
     ]
    },
    {
     "name": "stderr",
     "output_type": "stream",
     "text": [
      "\r",
      " 70%|███████   | 480/681 [19:53:32<6:17:43, 112.75s/it]"
     ]
    },
    {
     "name": "stdout",
     "output_type": "stream",
     "text": [
      "Fetched number of followers ids for jennaezarik : 15000\n",
      "Getting Followers ids of Jessiereyez\n"
     ]
    },
    {
     "name": "stderr",
     "output_type": "stream",
     "text": [
      "\r",
      " 71%|███████   | 481/681 [19:53:34<4:24:33, 79.37s/it] "
     ]
    },
    {
     "name": "stdout",
     "output_type": "stream",
     "text": [
      "Fetched number of followers ids for Jessiereyez : 15000\n",
      "Getting Followers ids of jessismiles__\n"
     ]
    },
    {
     "name": "stderr",
     "output_type": "stream",
     "text": [
      "Rate limit reached. Sleeping for: 894\n",
      " 71%|███████   | 482/681 [20:08:35<18:00:32, 325.79s/it]"
     ]
    },
    {
     "name": "stdout",
     "output_type": "stream",
     "text": [
      "Fetched number of followers ids for jessismiles__ : 15000\n",
      "Getting Followers ids of JIDsv\n"
     ]
    },
    {
     "name": "stderr",
     "output_type": "stream",
     "text": [
      "\r",
      " 71%|███████   | 483/681 [20:08:36<12:34:02, 228.50s/it]"
     ]
    },
    {
     "name": "stdout",
     "output_type": "stream",
     "text": [
      "Fetched number of followers ids for JIDsv : 15000\n",
      "Getting Followers ids of JoeSquawk\n"
     ]
    },
    {
     "name": "stderr",
     "output_type": "stream",
     "text": [
      "\r",
      " 71%|███████   | 484/681 [20:08:38<8:46:38, 160.40s/it] "
     ]
    },
    {
     "name": "stdout",
     "output_type": "stream",
     "text": [
      "Fetched number of followers ids for JoeSquawk : 15000\n",
      "Getting Followers ids of johnbcrist\n"
     ]
    },
    {
     "name": "stderr",
     "output_type": "stream",
     "text": [
      "\r",
      " 71%|███████   | 485/681 [20:08:39<6:08:15, 112.73s/it]"
     ]
    },
    {
     "name": "stdout",
     "output_type": "stream",
     "text": [
      "Fetched number of followers ids for johnbcrist : 15000\n",
      "Getting Followers ids of johnrich\n"
     ]
    },
    {
     "name": "stderr",
     "output_type": "stream",
     "text": [
      "\r",
      " 71%|███████▏  | 486/681 [20:08:41<4:17:55, 79.36s/it] "
     ]
    },
    {
     "name": "stdout",
     "output_type": "stream",
     "text": [
      "Fetched number of followers ids for johnrich : 15000\n",
      "Getting Followers ids of JoJoFromJerz\n"
     ]
    },
    {
     "name": "stderr",
     "output_type": "stream",
     "text": [
      "Rate limit reached. Sleeping for: 895\n",
      " 72%|███████▏  | 487/681 [20:23:45<17:36:30, 326.75s/it]"
     ]
    },
    {
     "name": "stdout",
     "output_type": "stream",
     "text": [
      "Fetched number of followers ids for JoJoFromJerz : 15000\n",
      "Getting Followers ids of JustBlaze\n"
     ]
    },
    {
     "name": "stderr",
     "output_type": "stream",
     "text": [
      "\r",
      " 72%|███████▏  | 488/681 [20:23:46<12:17:10, 229.18s/it]"
     ]
    },
    {
     "name": "stdout",
     "output_type": "stream",
     "text": [
      "Fetched number of followers ids for JustBlaze : 15000\n",
      "Getting Followers ids of justin_hart\n"
     ]
    },
    {
     "name": "stderr",
     "output_type": "stream",
     "text": [
      "\r",
      " 72%|███████▏  | 489/681 [20:23:48<8:34:48, 160.88s/it] "
     ]
    },
    {
     "name": "stdout",
     "output_type": "stream",
     "text": [
      "Fetched number of followers ids for justin_hart : 15000\n",
      "Getting Followers ids of KameronBennett\n"
     ]
    },
    {
     "name": "stderr",
     "output_type": "stream",
     "text": [
      "\r",
      " 72%|███████▏  | 490/681 [20:23:49<5:59:57, 113.08s/it]"
     ]
    },
    {
     "name": "stdout",
     "output_type": "stream",
     "text": [
      "Fetched number of followers ids for KameronBennett : 15000\n",
      "Getting Followers ids of KathleenLights1\n"
     ]
    },
    {
     "name": "stderr",
     "output_type": "stream",
     "text": [
      "\r",
      " 72%|███████▏  | 491/681 [20:23:51<4:12:03, 79.60s/it] "
     ]
    },
    {
     "name": "stdout",
     "output_type": "stream",
     "text": [
      "Fetched number of followers ids for KathleenLights1 : 15000\n",
      "Getting Followers ids of kellyjeaaann\n"
     ]
    },
    {
     "name": "stderr",
     "output_type": "stream",
     "text": [
      "Rate limit reached. Sleeping for: 893\n",
      " 72%|███████▏  | 492/681 [20:38:50<17:05:47, 325.65s/it]"
     ]
    },
    {
     "name": "stdout",
     "output_type": "stream",
     "text": [
      "Fetched number of followers ids for kellyjeaaann : 15000\n",
      "Getting Followers ids of kenolin1\n"
     ]
    },
    {
     "name": "stderr",
     "output_type": "stream",
     "text": [
      "\r",
      " 72%|███████▏  | 493/681 [20:38:52<11:55:38, 228.40s/it]"
     ]
    },
    {
     "name": "stdout",
     "output_type": "stream",
     "text": [
      "Fetched number of followers ids for kenolin1 : 15000\n",
      "Getting Followers ids of KevOnStage\n"
     ]
    },
    {
     "name": "stderr",
     "output_type": "stream",
     "text": [
      "\r",
      " 73%|███████▎  | 494/681 [20:38:53<8:19:42, 160.33s/it] "
     ]
    },
    {
     "name": "stdout",
     "output_type": "stream",
     "text": [
      "Fetched number of followers ids for KevOnStage : 15000\n",
      "Getting Followers ids of kj_fetishmodel\n"
     ]
    },
    {
     "name": "stderr",
     "output_type": "stream",
     "text": [
      "\r",
      " 73%|███████▎  | 495/681 [20:38:55<5:49:15, 112.67s/it]"
     ]
    },
    {
     "name": "stdout",
     "output_type": "stream",
     "text": [
      "Fetched number of followers ids for kj_fetishmodel : 15000\n",
      "Getting Followers ids of kksheld\n"
     ]
    },
    {
     "name": "stderr",
     "output_type": "stream",
     "text": [
      "\r",
      " 73%|███████▎  | 496/681 [20:38:56<4:04:34, 79.32s/it] "
     ]
    },
    {
     "name": "stdout",
     "output_type": "stream",
     "text": [
      "Fetched number of followers ids for kksheld : 15000\n",
      "Getting Followers ids of KonstantinKisin\n"
     ]
    },
    {
     "name": "stderr",
     "output_type": "stream",
     "text": [
      "Rate limit reached. Sleeping for: 893\n",
      " 73%|███████▎  | 497/681 [20:53:56<16:38:02, 325.45s/it]"
     ]
    },
    {
     "name": "stdout",
     "output_type": "stream",
     "text": [
      "Fetched number of followers ids for KonstantinKisin : 15000\n",
      "Getting Followers ids of koreanjewcrypto\n"
     ]
    },
    {
     "name": "stderr",
     "output_type": "stream",
     "text": [
      "\r",
      " 73%|███████▎  | 498/681 [20:53:58<11:36:11, 228.26s/it]"
     ]
    },
    {
     "name": "stdout",
     "output_type": "stream",
     "text": [
      "Fetched number of followers ids for koreanjewcrypto : 15000\n",
      "Getting Followers ids of LaBeautyologist\n",
      "Going to sleep:  Not authorized.\n"
     ]
    },
    {
     "name": "stderr",
     "output_type": "stream",
     "text": [
      "\r",
      " 73%|███████▎  | 499/681 [20:54:58<8:59:29, 177.85s/it] "
     ]
    },
    {
     "name": "stdout",
     "output_type": "stream",
     "text": [
      "Fetched number of followers ids for LaBeautyologist : 0\n",
      "Getting Followers ids of lewdamone\n"
     ]
    },
    {
     "name": "stderr",
     "output_type": "stream",
     "text": [
      "\r",
      " 73%|███████▎  | 500/681 [20:54:59<6:16:54, 124.94s/it]"
     ]
    },
    {
     "name": "stdout",
     "output_type": "stream",
     "text": [
      "Fetched number of followers ids for lewdamone : 15000\n",
      "Getting Followers ids of lexi4prez\n"
     ]
    },
    {
     "name": "stderr",
     "output_type": "stream",
     "text": [
      "\r",
      " 74%|███████▎  | 501/681 [20:55:01<4:23:42, 87.90s/it] "
     ]
    },
    {
     "name": "stdout",
     "output_type": "stream",
     "text": [
      "Fetched number of followers ids for lexi4prez : 15000\n",
      "Getting Followers ids of libsoftiktok\n"
     ]
    },
    {
     "name": "stderr",
     "output_type": "stream",
     "text": [
      "\r",
      " 74%|███████▎  | 502/681 [20:55:02<3:04:57, 62.00s/it]"
     ]
    },
    {
     "name": "stdout",
     "output_type": "stream",
     "text": [
      "Fetched number of followers ids for libsoftiktok : 15000\n",
      "Getting Followers ids of LoriShemek\n"
     ]
    },
    {
     "name": "stderr",
     "output_type": "stream",
     "text": [
      "Rate limit reached. Sleeping for: 832\n",
      " 74%|███████▍  | 503/681 [21:09:01<14:35:10, 295.00s/it]"
     ]
    },
    {
     "name": "stdout",
     "output_type": "stream",
     "text": [
      "Fetched number of followers ids for LoriShemek : 15000\n",
      "Getting Followers ids of LozzaFox\n"
     ]
    },
    {
     "name": "stderr",
     "output_type": "stream",
     "text": [
      "\r",
      " 74%|███████▍  | 504/681 [21:09:02<10:10:28, 206.94s/it]"
     ]
    },
    {
     "name": "stdout",
     "output_type": "stream",
     "text": [
      "Fetched number of followers ids for LozzaFox : 15000\n",
      "Getting Followers ids of lsferguson\n"
     ]
    },
    {
     "name": "stderr",
     "output_type": "stream",
     "text": [
      "\r",
      " 74%|███████▍  | 505/681 [21:09:04<7:06:13, 145.31s/it] "
     ]
    },
    {
     "name": "stdout",
     "output_type": "stream",
     "text": [
      "Fetched number of followers ids for lsferguson : 15000\n",
      "Getting Followers ids of MaajidNawaz\n"
     ]
    },
    {
     "name": "stderr",
     "output_type": "stream",
     "text": [
      "\r",
      " 74%|███████▍  | 506/681 [21:09:05<4:57:57, 102.16s/it]"
     ]
    },
    {
     "name": "stdout",
     "output_type": "stream",
     "text": [
      "Fetched number of followers ids for MaajidNawaz : 15000\n",
      "Getting Followers ids of MarkDuaneMorton\n"
     ]
    },
    {
     "name": "stderr",
     "output_type": "stream",
     "text": [
      "\r",
      " 74%|███████▍  | 507/681 [21:09:07<3:28:40, 71.96s/it] "
     ]
    },
    {
     "name": "stdout",
     "output_type": "stream",
     "text": [
      "Fetched number of followers ids for MarkDuaneMorton : 15000\n",
      "Getting Followers ids of MarkRPellegrino\n"
     ]
    },
    {
     "name": "stderr",
     "output_type": "stream",
     "text": [
      "Rate limit reached. Sleeping for: 893\n",
      " 75%|███████▍  | 508/681 [21:24:07<15:23:28, 320.28s/it]"
     ]
    },
    {
     "name": "stdout",
     "output_type": "stream",
     "text": [
      "Fetched number of followers ids for MarkRPellegrino : 15000\n",
      "Getting Followers ids of MartinKulldorff\n"
     ]
    },
    {
     "name": "stderr",
     "output_type": "stream",
     "text": [
      "\r",
      " 75%|███████▍  | 509/681 [21:24:08<10:43:56, 224.63s/it]"
     ]
    },
    {
     "name": "stdout",
     "output_type": "stream",
     "text": [
      "Fetched number of followers ids for MartinKulldorff : 15000\n",
      "Getting Followers ids of megturney\n"
     ]
    },
    {
     "name": "stderr",
     "output_type": "stream",
     "text": [
      "\r",
      " 75%|███████▍  | 510/681 [21:24:10<7:29:23, 157.68s/it] "
     ]
    },
    {
     "name": "stdout",
     "output_type": "stream",
     "text": [
      "Fetched number of followers ids for megturney : 15000\n",
      "Getting Followers ids of MelonieMac\n"
     ]
    },
    {
     "name": "stderr",
     "output_type": "stream",
     "text": [
      "\r",
      " 75%|███████▌  | 511/681 [21:24:11<5:13:59, 110.82s/it]"
     ]
    },
    {
     "name": "stdout",
     "output_type": "stream",
     "text": [
      "Fetched number of followers ids for MelonieMac : 15000\n",
      "Getting Followers ids of MichaelPSenger\n"
     ]
    },
    {
     "name": "stderr",
     "output_type": "stream",
     "text": [
      "\r",
      " 75%|███████▌  | 512/681 [21:24:12<3:39:42, 78.01s/it] "
     ]
    },
    {
     "name": "stdout",
     "output_type": "stream",
     "text": [
      "Fetched number of followers ids for MichaelPSenger : 15000\n",
      "Getting Followers ids of molmccann\n"
     ]
    },
    {
     "name": "stderr",
     "output_type": "stream",
     "text": [
      "Rate limit reached. Sleeping for: 892\n",
      " 75%|███████▌  | 513/681 [21:39:11<15:07:50, 324.23s/it]"
     ]
    },
    {
     "name": "stdout",
     "output_type": "stream",
     "text": [
      "Fetched number of followers ids for molmccann : 15000\n",
      "Getting Followers ids of MsMyaG\n"
     ]
    },
    {
     "name": "stderr",
     "output_type": "stream",
     "text": [
      "\r",
      " 75%|███████▌  | 514/681 [21:39:13<10:32:59, 227.42s/it]"
     ]
    },
    {
     "name": "stdout",
     "output_type": "stream",
     "text": [
      "Fetched number of followers ids for MsMyaG : 15000\n",
      "Getting Followers ids of NancyLeeGrahn\n"
     ]
    },
    {
     "name": "stderr",
     "output_type": "stream",
     "text": [
      "\r",
      " 76%|███████▌  | 515/681 [21:39:14<7:21:39, 159.63s/it] "
     ]
    },
    {
     "name": "stdout",
     "output_type": "stream",
     "text": [
      "Fetched number of followers ids for NancyLeeGrahn : 15000\n",
      "Getting Followers ids of NatShupe\n"
     ]
    },
    {
     "name": "stderr",
     "output_type": "stream",
     "text": [
      "\r",
      " 76%|███████▌  | 516/681 [21:39:16<5:08:32, 112.20s/it]"
     ]
    },
    {
     "name": "stdout",
     "output_type": "stream",
     "text": [
      "Fetched number of followers ids for NatShupe : 15000\n",
      "Getting Followers ids of NBSaphierMD\n"
     ]
    },
    {
     "name": "stderr",
     "output_type": "stream",
     "text": [
      "\r",
      " 76%|███████▌  | 517/681 [21:39:17<3:35:53, 78.98s/it] "
     ]
    },
    {
     "name": "stdout",
     "output_type": "stream",
     "text": [
      "Fetched number of followers ids for NBSaphierMD : 15000\n",
      "Getting Followers ids of NeilClark66\n"
     ]
    },
    {
     "name": "stderr",
     "output_type": "stream",
     "text": [
      "Rate limit reached. Sleeping for: 893\n",
      " 76%|███████▌  | 518/681 [21:54:17<14:43:27, 325.20s/it]"
     ]
    },
    {
     "name": "stdout",
     "output_type": "stream",
     "text": [
      "Fetched number of followers ids for NeilClark66 : 15000\n",
      "Getting Followers ids of NickKellet\n"
     ]
    },
    {
     "name": "stderr",
     "output_type": "stream",
     "text": [
      "\r",
      " 76%|███████▌  | 519/681 [21:54:18<10:15:50, 228.09s/it]"
     ]
    },
    {
     "name": "stdout",
     "output_type": "stream",
     "text": [
      "Fetched number of followers ids for NickKellet : 15000\n",
      "Getting Followers ids of norvina\n"
     ]
    },
    {
     "name": "stderr",
     "output_type": "stream",
     "text": [
      "\r",
      " 76%|███████▋  | 520/681 [21:54:20<7:09:36, 160.11s/it] "
     ]
    },
    {
     "name": "stdout",
     "output_type": "stream",
     "text": [
      "Fetched number of followers ids for norvina : 15000\n",
      "Getting Followers ids of Not_the_Bee\n"
     ]
    },
    {
     "name": "stderr",
     "output_type": "stream",
     "text": [
      "\r",
      " 77%|███████▋  | 521/681 [21:54:21<5:00:03, 112.52s/it]"
     ]
    },
    {
     "name": "stdout",
     "output_type": "stream",
     "text": [
      "Fetched number of followers ids for Not_the_Bee : 15000\n",
      "Getting Followers ids of PalmerLuckey\n"
     ]
    },
    {
     "name": "stderr",
     "output_type": "stream",
     "text": [
      "\r",
      " 77%|███████▋  | 522/681 [21:54:23<3:30:06, 79.28s/it] "
     ]
    },
    {
     "name": "stdout",
     "output_type": "stream",
     "text": [
      "Fetched number of followers ids for PalmerLuckey : 15000\n",
      "Getting Followers ids of PeachJars\n"
     ]
    },
    {
     "name": "stderr",
     "output_type": "stream",
     "text": [
      "Rate limit reached. Sleeping for: 893\n",
      " 77%|███████▋  | 523/681 [22:09:23<14:16:57, 325.43s/it]"
     ]
    },
    {
     "name": "stdout",
     "output_type": "stream",
     "text": [
      "Fetched number of followers ids for PeachJars : 15000\n",
      "Getting Followers ids of peterktodd\n"
     ]
    },
    {
     "name": "stderr",
     "output_type": "stream",
     "text": [
      "\r",
      " 77%|███████▋  | 524/681 [22:09:24<9:57:12, 228.23s/it] "
     ]
    },
    {
     "name": "stdout",
     "output_type": "stream",
     "text": [
      "Fetched number of followers ids for peterktodd : 15000\n",
      "Getting Followers ids of PHILHEATH\n"
     ]
    },
    {
     "name": "stderr",
     "output_type": "stream",
     "text": [
      "\r",
      " 77%|███████▋  | 525/681 [22:09:26<6:56:32, 160.21s/it]"
     ]
    },
    {
     "name": "stdout",
     "output_type": "stream",
     "text": [
      "Fetched number of followers ids for PHILHEATH : 15000\n",
      "Getting Followers ids of piriweepu\n"
     ]
    },
    {
     "name": "stderr",
     "output_type": "stream",
     "text": [
      "\r",
      " 77%|███████▋  | 526/681 [22:09:27<4:50:52, 112.60s/it]"
     ]
    },
    {
     "name": "stdout",
     "output_type": "stream",
     "text": [
      "Fetched number of followers ids for piriweepu : 15000\n",
      "Getting Followers ids of plies\n"
     ]
    },
    {
     "name": "stderr",
     "output_type": "stream",
     "text": [
      "\r",
      " 77%|███████▋  | 527/681 [22:09:29<3:23:33, 79.31s/it] "
     ]
    },
    {
     "name": "stdout",
     "output_type": "stream",
     "text": [
      "Fetched number of followers ids for plies : 15000\n",
      "Getting Followers ids of PolitiBunny\n"
     ]
    },
    {
     "name": "stderr",
     "output_type": "stream",
     "text": [
      "Rate limit reached. Sleeping for: 893\n",
      " 78%|███████▊  | 528/681 [22:24:29<13:49:52, 325.44s/it]"
     ]
    },
    {
     "name": "stdout",
     "output_type": "stream",
     "text": [
      "Fetched number of followers ids for PolitiBunny : 15000\n",
      "Getting Followers ids of PoliticalShort\n"
     ]
    },
    {
     "name": "stderr",
     "output_type": "stream",
     "text": [
      "\r",
      " 78%|███████▊  | 529/681 [22:24:30<9:38:14, 228.25s/it] "
     ]
    },
    {
     "name": "stdout",
     "output_type": "stream",
     "text": [
      "Fetched number of followers ids for PoliticalShort : 15000\n",
      "Getting Followers ids of profvrr\n"
     ]
    },
    {
     "name": "stderr",
     "output_type": "stream",
     "text": [
      "\r",
      " 78%|███████▊  | 530/681 [22:24:32<6:43:12, 160.22s/it]"
     ]
    },
    {
     "name": "stdout",
     "output_type": "stream",
     "text": [
      "Fetched number of followers ids for profvrr : 15000\n",
      "Getting Followers ids of RawBeautyKristi\n"
     ]
    },
    {
     "name": "stderr",
     "output_type": "stream",
     "text": [
      "\r",
      " 78%|███████▊  | 531/681 [22:24:33<4:41:31, 112.61s/it]"
     ]
    },
    {
     "name": "stdout",
     "output_type": "stream",
     "text": [
      "Fetched number of followers ids for RawBeautyKristi : 15000\n",
      "Getting Followers ids of RCamposDuffy\n"
     ]
    },
    {
     "name": "stderr",
     "output_type": "stream",
     "text": [
      "\r",
      " 78%|███████▊  | 532/681 [22:24:35<3:16:50, 79.27s/it] "
     ]
    },
    {
     "name": "stdout",
     "output_type": "stream",
     "text": [
      "Fetched number of followers ids for RCamposDuffy : 15000\n",
      "Getting Followers ids of redsteeze\n"
     ]
    },
    {
     "name": "stderr",
     "output_type": "stream",
     "text": [
      "Rate limit reached. Sleeping for: 892\n",
      " 78%|███████▊  | 533/681 [22:39:33<13:21:59, 325.13s/it]"
     ]
    },
    {
     "name": "stdout",
     "output_type": "stream",
     "text": [
      "Fetched number of followers ids for redsteeze : 15000\n",
      "Getting Followers ids of RespectableLaw\n"
     ]
    },
    {
     "name": "stderr",
     "output_type": "stream",
     "text": [
      "\r",
      " 78%|███████▊  | 534/681 [22:39:35<9:18:51, 228.11s/it] "
     ]
    },
    {
     "name": "stdout",
     "output_type": "stream",
     "text": [
      "Fetched number of followers ids for RespectableLaw : 15000\n",
      "Getting Followers ids of RicepirateMick\n"
     ]
    },
    {
     "name": "stderr",
     "output_type": "stream",
     "text": [
      "\r",
      " 79%|███████▊  | 535/681 [22:39:37<6:29:37, 160.12s/it]"
     ]
    },
    {
     "name": "stdout",
     "output_type": "stream",
     "text": [
      "Fetched number of followers ids for RicepirateMick : 15000\n",
      "Getting Followers ids of richardursomd\n"
     ]
    },
    {
     "name": "stderr",
     "output_type": "stream",
     "text": [
      "\r",
      " 79%|███████▊  | 536/681 [22:39:38<4:31:56, 112.53s/it]"
     ]
    },
    {
     "name": "stdout",
     "output_type": "stream",
     "text": [
      "Fetched number of followers ids for richardursomd : 15000\n",
      "Getting Followers ids of RobDenBleyker\n"
     ]
    },
    {
     "name": "stderr",
     "output_type": "stream",
     "text": [
      "\r",
      " 79%|███████▉  | 537/681 [22:39:40<3:10:07, 79.22s/it] "
     ]
    },
    {
     "name": "stdout",
     "output_type": "stream",
     "text": [
      "Fetched number of followers ids for RobDenBleyker : 15000\n",
      "Getting Followers ids of RobForbesDJ\n"
     ]
    },
    {
     "name": "stderr",
     "output_type": "stream",
     "text": [
      "Rate limit reached. Sleeping for: 892\n",
      " 79%|███████▉  | 538/681 [22:54:39<12:54:54, 325.14s/it]"
     ]
    },
    {
     "name": "stdout",
     "output_type": "stream",
     "text": [
      "Fetched number of followers ids for RobForbesDJ : 15000\n",
      "Getting Followers ids of RobGavagan\n"
     ]
    },
    {
     "name": "stderr",
     "output_type": "stream",
     "text": [
      "\r",
      " 79%|███████▉  | 539/681 [22:54:40<8:59:44, 228.06s/it] "
     ]
    },
    {
     "name": "stdout",
     "output_type": "stream",
     "text": [
      "Fetched number of followers ids for RobGavagan : 15000\n",
      "Getting Followers ids of Rosenbergradio\n"
     ]
    },
    {
     "name": "stderr",
     "output_type": "stream",
     "text": [
      "\r",
      " 79%|███████▉  | 540/681 [22:54:42<6:16:11, 160.08s/it]"
     ]
    },
    {
     "name": "stdout",
     "output_type": "stream",
     "text": [
      "Fetched number of followers ids for Rosenbergradio : 15000\n",
      "Getting Followers ids of savagesaya\n"
     ]
    },
    {
     "name": "stderr",
     "output_type": "stream",
     "text": [
      "\r",
      " 79%|███████▉  | 541/681 [22:54:43<4:22:30, 112.50s/it]"
     ]
    },
    {
     "name": "stdout",
     "output_type": "stream",
     "text": [
      "Fetched number of followers ids for savagesaya : 15000\n",
      "Getting Followers ids of SeanZevran\n"
     ]
    },
    {
     "name": "stderr",
     "output_type": "stream",
     "text": [
      "\r",
      " 80%|███████▉  | 542/681 [22:54:45<3:03:28, 79.20s/it] "
     ]
    },
    {
     "name": "stdout",
     "output_type": "stream",
     "text": [
      "Fetched number of followers ids for SeanZevran : 15000\n",
      "Getting Followers ids of SexCounseling\n"
     ]
    },
    {
     "name": "stderr",
     "output_type": "stream",
     "text": [
      "Rate limit reached. Sleeping for: 892\n"
     ]
    },
    {
     "name": "stdout",
     "output_type": "stream",
     "text": [
      "Going to sleep:  [{'code': 34, 'message': 'Sorry, that page does not exist.'}]\n"
     ]
    },
    {
     "name": "stderr",
     "output_type": "stream",
     "text": [
      "\r",
      " 80%|███████▉  | 543/681 [23:10:42<13:08:09, 342.68s/it]"
     ]
    },
    {
     "name": "stdout",
     "output_type": "stream",
     "text": [
      "Fetched number of followers ids for SexCounseling : 0\n",
      "Getting Followers ids of SkyWilliams\n"
     ]
    },
    {
     "name": "stderr",
     "output_type": "stream",
     "text": [
      "\r",
      " 80%|███████▉  | 544/681 [23:10:44<9:08:44, 240.33s/it] "
     ]
    },
    {
     "name": "stdout",
     "output_type": "stream",
     "text": [
      "Fetched number of followers ids for SkyWilliams : 15000\n",
      "Getting Followers ids of smashmouth\n"
     ]
    },
    {
     "name": "stderr",
     "output_type": "stream",
     "text": [
      "\r",
      " 80%|████████  | 545/681 [23:10:45<6:22:20, 168.68s/it]"
     ]
    },
    {
     "name": "stdout",
     "output_type": "stream",
     "text": [
      "Fetched number of followers ids for smashmouth : 15000\n",
      "Getting Followers ids of sssniperwolf\n"
     ]
    },
    {
     "name": "stderr",
     "output_type": "stream",
     "text": [
      "\r",
      " 80%|████████  | 546/681 [23:10:46<4:26:39, 118.52s/it]"
     ]
    },
    {
     "name": "stdout",
     "output_type": "stream",
     "text": [
      "Fetched number of followers ids for sssniperwolf : 15000\n",
      "Getting Followers ids of StayingInMyLane\n"
     ]
    },
    {
     "name": "stderr",
     "output_type": "stream",
     "text": [
      "\r",
      " 80%|████████  | 547/681 [23:10:48<3:06:15, 83.40s/it] "
     ]
    },
    {
     "name": "stdout",
     "output_type": "stream",
     "text": [
      "Fetched number of followers ids for StayingInMyLane : 15000\n",
      "Getting Followers ids of stevieboebi\n"
     ]
    },
    {
     "name": "stderr",
     "output_type": "stream",
     "text": [
      "Rate limit reached. Sleeping for: 833\n",
      " 80%|████████  | 548/681 [23:24:48<11:27:54, 310.33s/it]"
     ]
    },
    {
     "name": "stdout",
     "output_type": "stream",
     "text": [
      "Fetched number of followers ids for stevieboebi : 15000\n",
      "Getting Followers ids of STRIKINGxVIKING\n"
     ]
    },
    {
     "name": "stderr",
     "output_type": "stream",
     "text": [
      "\r",
      " 81%|████████  | 549/681 [23:24:49<7:58:51, 217.66s/it] "
     ]
    },
    {
     "name": "stdout",
     "output_type": "stream",
     "text": [
      "Fetched number of followers ids for STRIKINGxVIKING : 15000\n",
      "Getting Followers ids of SusanBoylesCat\n"
     ]
    },
    {
     "name": "stderr",
     "output_type": "stream",
     "text": [
      "\r",
      " 81%|████████  | 550/681 [23:24:51<5:33:41, 152.84s/it]"
     ]
    },
    {
     "name": "stdout",
     "output_type": "stream",
     "text": [
      "Fetched number of followers ids for SusanBoylesCat : 15000\n",
      "Getting Followers ids of SwipeWright\n"
     ]
    },
    {
     "name": "stderr",
     "output_type": "stream",
     "text": [
      "\r",
      " 81%|████████  | 551/681 [23:24:52<3:52:46, 107.43s/it]"
     ]
    },
    {
     "name": "stdout",
     "output_type": "stream",
     "text": [
      "Fetched number of followers ids for SwipeWright : 15000\n",
      "Getting Followers ids of TATIANNANOW\n"
     ]
    },
    {
     "name": "stderr",
     "output_type": "stream",
     "text": [
      "\r",
      " 81%|████████  | 552/681 [23:24:54<2:42:40, 75.67s/it] "
     ]
    },
    {
     "name": "stdout",
     "output_type": "stream",
     "text": [
      "Fetched number of followers ids for TATIANNANOW : 15000\n",
      "Getting Followers ids of TeamLou23\n"
     ]
    },
    {
     "name": "stderr",
     "output_type": "stream",
     "text": [
      "Rate limit reached. Sleeping for: 893\n",
      " 81%|████████  | 553/681 [23:39:54<11:28:51, 322.90s/it]"
     ]
    },
    {
     "name": "stdout",
     "output_type": "stream",
     "text": [
      "Fetched number of followers ids for TeamLou23 : 15000\n",
      "Getting Followers ids of TellYourSonThis\n"
     ]
    },
    {
     "name": "stderr",
     "output_type": "stream",
     "text": [
      "\r",
      " 81%|████████▏ | 554/681 [23:39:55<7:59:23, 226.48s/it] "
     ]
    },
    {
     "name": "stdout",
     "output_type": "stream",
     "text": [
      "Fetched number of followers ids for TellYourSonThis : 15000\n",
      "Getting Followers ids of thecoastguy\n"
     ]
    },
    {
     "name": "stderr",
     "output_type": "stream",
     "text": [
      "\r",
      " 81%|████████▏ | 555/681 [23:39:57<5:33:51, 158.98s/it]"
     ]
    },
    {
     "name": "stdout",
     "output_type": "stream",
     "text": [
      "Fetched number of followers ids for thecoastguy : 15000\n",
      "Getting Followers ids of TheFreds\n"
     ]
    },
    {
     "name": "stderr",
     "output_type": "stream",
     "text": [
      "\r",
      " 82%|████████▏ | 556/681 [23:39:58<3:52:46, 111.73s/it]"
     ]
    },
    {
     "name": "stdout",
     "output_type": "stream",
     "text": [
      "Fetched number of followers ids for TheFreds : 15000\n",
      "Getting Followers ids of TheJessiPalmer\n"
     ]
    },
    {
     "name": "stderr",
     "output_type": "stream",
     "text": [
      "\r",
      " 82%|████████▏ | 557/681 [23:40:00<2:42:32, 78.65s/it] "
     ]
    },
    {
     "name": "stdout",
     "output_type": "stream",
     "text": [
      "Fetched number of followers ids for TheJessiPalmer : 15000\n",
      "Getting Followers ids of thekidet\n"
     ]
    },
    {
     "name": "stderr",
     "output_type": "stream",
     "text": [
      "Rate limit reached. Sleeping for: 893\n",
      " 82%|████████▏ | 558/681 [23:55:00<11:06:21, 325.06s/it]"
     ]
    },
    {
     "name": "stdout",
     "output_type": "stream",
     "text": [
      "Fetched number of followers ids for thekidet : 15000\n",
      "Getting Followers ids of TheKitchenista\n",
      "Going to sleep:  [{'code': 34, 'message': 'Sorry, that page does not exist.'}]\n"
     ]
    },
    {
     "name": "stderr",
     "output_type": "stream",
     "text": [
      "\r",
      " 82%|████████▏ | 559/681 [23:56:00<8:19:23, 245.60s/it] "
     ]
    },
    {
     "name": "stdout",
     "output_type": "stream",
     "text": [
      "Fetched number of followers ids for TheKitchenista : 0\n",
      "Getting Followers ids of theninaparker\n"
     ]
    },
    {
     "name": "stderr",
     "output_type": "stream",
     "text": [
      "\r",
      " 82%|████████▏ | 560/681 [23:56:01<5:47:35, 172.36s/it]"
     ]
    },
    {
     "name": "stdout",
     "output_type": "stream",
     "text": [
      "Fetched number of followers ids for theninaparker : 15000\n",
      "Getting Followers ids of TherealAmyWeber\n"
     ]
    },
    {
     "name": "stderr",
     "output_type": "stream",
     "text": [
      "\r",
      " 82%|████████▏ | 561/681 [23:56:03<4:02:10, 121.09s/it]"
     ]
    },
    {
     "name": "stdout",
     "output_type": "stream",
     "text": [
      "Fetched number of followers ids for TherealAmyWeber : 15000\n",
      "Getting Followers ids of thewillwitt\n"
     ]
    },
    {
     "name": "stderr",
     "output_type": "stream",
     "text": [
      "\r",
      " 83%|████████▎ | 562/681 [23:56:04<2:49:00, 85.21s/it] "
     ]
    },
    {
     "name": "stdout",
     "output_type": "stream",
     "text": [
      "Fetched number of followers ids for thewillwitt : 15000\n",
      "Getting Followers ids of TiffanyTothxoxo\n"
     ]
    },
    {
     "name": "stderr",
     "output_type": "stream",
     "text": [
      "\r",
      " 83%|████████▎ | 563/681 [23:56:06<1:58:11, 60.10s/it]"
     ]
    },
    {
     "name": "stdout",
     "output_type": "stream",
     "text": [
      "Fetched number of followers ids for TiffanyTothxoxo : 15000\n",
      "Getting Followers ids of TimothyDeLaG\n"
     ]
    },
    {
     "name": "stderr",
     "output_type": "stream",
     "text": [
      "Rate limit reached. Sleeping for: 833\n",
      " 83%|████████▎ | 564/681 [24:10:05<9:33:17, 293.99s/it]"
     ]
    },
    {
     "name": "stdout",
     "output_type": "stream",
     "text": [
      "Fetched number of followers ids for TimothyDeLaG : 15000\n",
      "Getting Followers ids of TimTomYT\n"
     ]
    },
    {
     "name": "stderr",
     "output_type": "stream",
     "text": [
      "\r",
      " 83%|████████▎ | 565/681 [24:10:07<6:38:47, 206.27s/it]"
     ]
    },
    {
     "name": "stdout",
     "output_type": "stream",
     "text": [
      "Fetched number of followers ids for TimTomYT : 15000\n",
      "Getting Followers ids of TizzyEnt\n"
     ]
    },
    {
     "name": "stderr",
     "output_type": "stream",
     "text": [
      "\r",
      " 83%|████████▎ | 566/681 [24:10:09<4:37:37, 144.85s/it]"
     ]
    },
    {
     "name": "stdout",
     "output_type": "stream",
     "text": [
      "Fetched number of followers ids for TizzyEnt : 15000\n",
      "Getting Followers ids of TobyTurner\n"
     ]
    },
    {
     "name": "stderr",
     "output_type": "stream",
     "text": [
      "\r",
      " 83%|████████▎ | 567/681 [24:10:10<3:13:37, 101.91s/it]"
     ]
    },
    {
     "name": "stdout",
     "output_type": "stream",
     "text": [
      "Fetched number of followers ids for TobyTurner : 15000\n",
      "Getting Followers ids of ToniaBuxton\n"
     ]
    },
    {
     "name": "stderr",
     "output_type": "stream",
     "text": [
      "\r",
      " 83%|████████▎ | 568/681 [24:10:12<2:15:10, 71.78s/it] "
     ]
    },
    {
     "name": "stdout",
     "output_type": "stream",
     "text": [
      "Fetched number of followers ids for ToniaBuxton : 15000\n",
      "Getting Followers ids of Toure\n"
     ]
    },
    {
     "name": "stderr",
     "output_type": "stream",
     "text": [
      "Rate limit reached. Sleeping for: 893\n",
      " 84%|████████▎ | 569/681 [24:25:12<9:57:41, 320.19s/it]"
     ]
    },
    {
     "name": "stdout",
     "output_type": "stream",
     "text": [
      "Fetched number of followers ids for Toure : 15000\n",
      "Getting Followers ids of Trobinson0\n"
     ]
    },
    {
     "name": "stderr",
     "output_type": "stream",
     "text": [
      "\r",
      " 84%|████████▎ | 570/681 [24:25:13<6:55:28, 224.59s/it]"
     ]
    },
    {
     "name": "stdout",
     "output_type": "stream",
     "text": [
      "Fetched number of followers ids for Trobinson0 : 15000\n",
      "Getting Followers ids of TuckerMax\n"
     ]
    },
    {
     "name": "stderr",
     "output_type": "stream",
     "text": [
      "\r",
      " 84%|████████▍ | 571/681 [24:25:14<4:49:00, 157.64s/it]"
     ]
    },
    {
     "name": "stdout",
     "output_type": "stream",
     "text": [
      "Fetched number of followers ids for TuckerMax : 15000\n",
      "Getting Followers ids of unclejeffgreen\n"
     ]
    },
    {
     "name": "stderr",
     "output_type": "stream",
     "text": [
      "\r",
      " 84%|████████▍ | 572/681 [24:25:16<3:21:16, 110.79s/it]"
     ]
    },
    {
     "name": "stdout",
     "output_type": "stream",
     "text": [
      "Fetched number of followers ids for unclejeffgreen : 15000\n",
      "Getting Followers ids of VAN1T1\n"
     ]
    },
    {
     "name": "stderr",
     "output_type": "stream",
     "text": [
      "\r",
      " 84%|████████▍ | 573/681 [24:25:17<2:20:25, 78.01s/it] "
     ]
    },
    {
     "name": "stdout",
     "output_type": "stream",
     "text": [
      "Fetched number of followers ids for VAN1T1 : 15000\n",
      "Getting Followers ids of VaushV\n"
     ]
    },
    {
     "name": "stderr",
     "output_type": "stream",
     "text": [
      "Rate limit reached. Sleeping for: 893\n",
      " 84%|████████▍ | 574/681 [24:40:17<9:38:46, 324.55s/it]"
     ]
    },
    {
     "name": "stdout",
     "output_type": "stream",
     "text": [
      "Fetched number of followers ids for VaushV : 15000\n",
      "Getting Followers ids of waltermasterson\n"
     ]
    },
    {
     "name": "stderr",
     "output_type": "stream",
     "text": [
      "\r",
      " 84%|████████▍ | 575/681 [24:40:19<6:42:07, 227.62s/it]"
     ]
    },
    {
     "name": "stdout",
     "output_type": "stream",
     "text": [
      "Fetched number of followers ids for waltermasterson : 15000\n",
      "Getting Followers ids of WessyWes23\n"
     ]
    },
    {
     "name": "stderr",
     "output_type": "stream",
     "text": [
      "\r",
      " 85%|████████▍ | 576/681 [24:40:20<4:39:36, 159.78s/it]"
     ]
    },
    {
     "name": "stdout",
     "output_type": "stream",
     "text": [
      "Fetched number of followers ids for WessyWes23 : 15000\n",
      "Getting Followers ids of williamlegate\n"
     ]
    },
    {
     "name": "stderr",
     "output_type": "stream",
     "text": [
      "\r",
      " 85%|████████▍ | 577/681 [24:40:22<3:14:31, 112.23s/it]"
     ]
    },
    {
     "name": "stdout",
     "output_type": "stream",
     "text": [
      "Fetched number of followers ids for williamlegate : 15000\n",
      "Getting Followers ids of yesnicksearcy\n"
     ]
    },
    {
     "name": "stderr",
     "output_type": "stream",
     "text": [
      "\r",
      " 85%|████████▍ | 578/681 [24:40:23<2:15:37, 79.00s/it] "
     ]
    },
    {
     "name": "stdout",
     "output_type": "stream",
     "text": [
      "Fetched number of followers ids for yesnicksearcy : 15000\n",
      "Getting Followers ids of AaliyahJay\n"
     ]
    },
    {
     "name": "stderr",
     "output_type": "stream",
     "text": [
      "Rate limit reached. Sleeping for: 893\n",
      " 85%|████████▌ | 579/681 [24:55:23<9:12:51, 325.21s/it]"
     ]
    },
    {
     "name": "stdout",
     "output_type": "stream",
     "text": [
      "Fetched number of followers ids for AaliyahJay : 15000\n",
      "Getting Followers ids of abigalemandler\n"
     ]
    },
    {
     "name": "stderr",
     "output_type": "stream",
     "text": [
      "\r",
      " 85%|████████▌ | 580/681 [24:55:24<6:23:59, 228.12s/it]"
     ]
    },
    {
     "name": "stdout",
     "output_type": "stream",
     "text": [
      "Fetched number of followers ids for abigalemandler : 15000\n",
      "Getting Followers ids of AccessJui\n"
     ]
    },
    {
     "name": "stderr",
     "output_type": "stream",
     "text": [
      "\r",
      " 85%|████████▌ | 581/681 [24:55:26<4:26:51, 160.12s/it]"
     ]
    },
    {
     "name": "stdout",
     "output_type": "stream",
     "text": [
      "Fetched number of followers ids for AccessJui : 15000\n",
      "Getting Followers ids of AdHabb\n"
     ]
    },
    {
     "name": "stderr",
     "output_type": "stream",
     "text": [
      "\r",
      " 85%|████████▌ | 582/681 [24:55:27<3:05:41, 112.54s/it]"
     ]
    },
    {
     "name": "stdout",
     "output_type": "stream",
     "text": [
      "Fetched number of followers ids for AdHabb : 15000\n",
      "Getting Followers ids of all_1k\n"
     ]
    },
    {
     "name": "stderr",
     "output_type": "stream",
     "text": [
      "\r",
      " 86%|████████▌ | 583/681 [24:55:29<2:09:24, 79.23s/it] "
     ]
    },
    {
     "name": "stdout",
     "output_type": "stream",
     "text": [
      "Fetched number of followers ids for all_1k : 15000\n",
      "Getting Followers ids of AluraJenson\n"
     ]
    },
    {
     "name": "stderr",
     "output_type": "stream",
     "text": [
      "Rate limit reached. Sleeping for: 893\n",
      " 86%|████████▌ | 584/681 [25:10:29<8:46:03, 325.40s/it]"
     ]
    },
    {
     "name": "stdout",
     "output_type": "stream",
     "text": [
      "Fetched number of followers ids for AluraJenson : 15000\n",
      "Getting Followers ids of AmariCooper9\n"
     ]
    },
    {
     "name": "stderr",
     "output_type": "stream",
     "text": [
      "\r",
      " 86%|████████▌ | 585/681 [25:10:30<6:05:09, 228.22s/it]"
     ]
    },
    {
     "name": "stdout",
     "output_type": "stream",
     "text": [
      "Fetched number of followers ids for AmariCooper9 : 15000\n",
      "Getting Followers ids of Amber_Raynexxx\n"
     ]
    },
    {
     "name": "stderr",
     "output_type": "stream",
     "text": [
      "\r",
      " 86%|████████▌ | 586/681 [25:10:31<4:13:38, 160.20s/it]"
     ]
    },
    {
     "name": "stdout",
     "output_type": "stream",
     "text": [
      "Fetched number of followers ids for Amber_Raynexxx : 15000\n",
      "Getting Followers ids of AssouEkotto\n"
     ]
    },
    {
     "name": "stderr",
     "output_type": "stream",
     "text": [
      "\r",
      " 86%|████████▌ | 587/681 [25:10:33<2:56:29, 112.66s/it]"
     ]
    },
    {
     "name": "stdout",
     "output_type": "stream",
     "text": [
      "Fetched number of followers ids for AssouEkotto : 15000\n",
      "Getting Followers ids of AutoGiraffe\n"
     ]
    },
    {
     "name": "stderr",
     "output_type": "stream",
     "text": [
      "\r",
      " 86%|████████▋ | 588/681 [25:10:35<2:02:55, 79.30s/it] "
     ]
    },
    {
     "name": "stdout",
     "output_type": "stream",
     "text": [
      "Fetched number of followers ids for AutoGiraffe : 15000\n",
      "Getting Followers ids of BabyBash\n"
     ]
    },
    {
     "name": "stderr",
     "output_type": "stream",
     "text": [
      "Rate limit reached. Sleeping for: 893\n",
      " 86%|████████▋ | 589/681 [25:25:34<8:19:01, 325.45s/it]"
     ]
    },
    {
     "name": "stdout",
     "output_type": "stream",
     "text": [
      "Fetched number of followers ids for BabyBash : 15000\n",
      "Getting Followers ids of Be_inTIMidated\n"
     ]
    },
    {
     "name": "stderr",
     "output_type": "stream",
     "text": [
      "\r",
      " 87%|████████▋ | 590/681 [25:25:36<5:46:20, 228.35s/it]"
     ]
    },
    {
     "name": "stdout",
     "output_type": "stream",
     "text": [
      "Fetched number of followers ids for Be_inTIMidated : 15000\n",
      "Getting Followers ids of BiTwink18\n"
     ]
    },
    {
     "name": "stderr",
     "output_type": "stream",
     "text": [
      "\r",
      " 87%|████████▋ | 591/681 [25:25:38<4:00:25, 160.29s/it]"
     ]
    },
    {
     "name": "stdout",
     "output_type": "stream",
     "text": [
      "Fetched number of followers ids for BiTwink18 : 15000\n",
      "Getting Followers ids of bodil40\n"
     ]
    },
    {
     "name": "stderr",
     "output_type": "stream",
     "text": [
      "\r",
      " 87%|████████▋ | 592/681 [25:25:39<2:47:05, 112.64s/it]"
     ]
    },
    {
     "name": "stdout",
     "output_type": "stream",
     "text": [
      "Fetched number of followers ids for bodil40 : 15000\n",
      "Getting Followers ids of briannafrost\n"
     ]
    },
    {
     "name": "stderr",
     "output_type": "stream",
     "text": [
      "\r",
      " 87%|████████▋ | 593/681 [25:25:41<1:56:17, 79.29s/it] "
     ]
    },
    {
     "name": "stdout",
     "output_type": "stream",
     "text": [
      "Fetched number of followers ids for briannafrost : 15000\n",
      "Getting Followers ids of brittanyrennerr\n"
     ]
    },
    {
     "name": "stderr",
     "output_type": "stream",
     "text": [
      "Rate limit reached. Sleeping for: 892\n",
      " 87%|████████▋ | 594/681 [25:40:40<7:51:31, 325.19s/it]"
     ]
    },
    {
     "name": "stdout",
     "output_type": "stream",
     "text": [
      "Fetched number of followers ids for brittanyrennerr : 15000\n",
      "Getting Followers ids of bunnie_hime\n"
     ]
    },
    {
     "name": "stderr",
     "output_type": "stream",
     "text": [
      "\r",
      " 87%|████████▋ | 595/681 [25:40:41<5:26:54, 228.08s/it]"
     ]
    },
    {
     "name": "stdout",
     "output_type": "stream",
     "text": [
      "Fetched number of followers ids for bunnie_hime : 15000\n",
      "Getting Followers ids of CarterCruise\n"
     ]
    },
    {
     "name": "stderr",
     "output_type": "stream",
     "text": [
      "\r",
      " 88%|████████▊ | 596/681 [25:40:43<3:46:48, 160.10s/it]"
     ]
    },
    {
     "name": "stdout",
     "output_type": "stream",
     "text": [
      "Fetched number of followers ids for CarterCruise : 15000\n",
      "Getting Followers ids of davidsocomedy\n"
     ]
    },
    {
     "name": "stderr",
     "output_type": "stream",
     "text": [
      "\r",
      " 88%|████████▊ | 597/681 [25:40:44<2:37:32, 112.53s/it]"
     ]
    },
    {
     "name": "stdout",
     "output_type": "stream",
     "text": [
      "Fetched number of followers ids for davidsocomedy : 15000\n",
      "Getting Followers ids of DeepLifeQuotes\n"
     ]
    },
    {
     "name": "stderr",
     "output_type": "stream",
     "text": [
      "\r",
      " 88%|████████▊ | 598/681 [25:40:46<1:49:47, 79.36s/it] "
     ]
    },
    {
     "name": "stdout",
     "output_type": "stream",
     "text": [
      "Fetched number of followers ids for DeepLifeQuotes : 15000\n",
      "Getting Followers ids of ErosThaBody\n"
     ]
    },
    {
     "name": "stderr",
     "output_type": "stream",
     "text": [
      "Rate limit reached. Sleeping for: 892\n",
      " 88%|████████▊ | 599/681 [25:55:45<7:24:24, 325.18s/it]"
     ]
    },
    {
     "name": "stdout",
     "output_type": "stream",
     "text": [
      "Fetched number of followers ids for ErosThaBody : 15000\n",
      "Getting Followers ids of FaZeBenji\n"
     ]
    },
    {
     "name": "stderr",
     "output_type": "stream",
     "text": [
      "\r",
      " 88%|████████▊ | 600/681 [25:55:46<5:07:53, 228.07s/it]"
     ]
    },
    {
     "name": "stdout",
     "output_type": "stream",
     "text": [
      "Fetched number of followers ids for FaZeBenji : 15000\n",
      "Getting Followers ids of FuckingJakeBass\n"
     ]
    },
    {
     "name": "stderr",
     "output_type": "stream",
     "text": [
      "\r",
      " 88%|████████▊ | 601/681 [25:55:48<3:33:26, 160.08s/it]"
     ]
    },
    {
     "name": "stdout",
     "output_type": "stream",
     "text": [
      "Fetched number of followers ids for FuckingJakeBass : 15000\n",
      "Getting Followers ids of hartramsey\n"
     ]
    },
    {
     "name": "stderr",
     "output_type": "stream",
     "text": [
      "\r",
      " 88%|████████▊ | 602/681 [25:55:49<2:28:07, 112.50s/it]"
     ]
    },
    {
     "name": "stdout",
     "output_type": "stream",
     "text": [
      "Fetched number of followers ids for hartramsey : 15000\n",
      "Getting Followers ids of HendoArt\n"
     ]
    },
    {
     "name": "stderr",
     "output_type": "stream",
     "text": [
      "\r",
      " 89%|████████▊ | 603/681 [25:55:51<1:42:57, 79.20s/it] "
     ]
    },
    {
     "name": "stdout",
     "output_type": "stream",
     "text": [
      "Fetched number of followers ids for HendoArt : 15000\n",
      "Getting Followers ids of high_imbrandy\n"
     ]
    },
    {
     "name": "stderr",
     "output_type": "stream",
     "text": [
      "Rate limit reached. Sleeping for: 893\n",
      " 89%|████████▊ | 604/681 [26:10:50<6:57:32, 325.35s/it]"
     ]
    },
    {
     "name": "stdout",
     "output_type": "stream",
     "text": [
      "Fetched number of followers ids for high_imbrandy : 15000\n",
      "Getting Followers ids of iammsuzy\n"
     ]
    },
    {
     "name": "stderr",
     "output_type": "stream",
     "text": [
      "\r",
      " 89%|████████▉ | 605/681 [26:10:52<4:49:02, 228.19s/it]"
     ]
    },
    {
     "name": "stdout",
     "output_type": "stream",
     "text": [
      "Fetched number of followers ids for iammsuzy : 15000\n",
      "Getting Followers ids of idiotpeach\n"
     ]
    },
    {
     "name": "stderr",
     "output_type": "stream",
     "text": [
      "\r",
      " 89%|████████▉ | 606/681 [26:10:53<3:20:13, 160.18s/it]"
     ]
    },
    {
     "name": "stdout",
     "output_type": "stream",
     "text": [
      "Fetched number of followers ids for idiotpeach : 15000\n",
      "Getting Followers ids of jenessapaniagua\n"
     ]
    },
    {
     "name": "stderr",
     "output_type": "stream",
     "text": [
      "\r",
      " 89%|████████▉ | 607/681 [26:10:55<2:18:51, 112.59s/it]"
     ]
    },
    {
     "name": "stdout",
     "output_type": "stream",
     "text": [
      "Fetched number of followers ids for jenessapaniagua : 15000\n",
      "Getting Followers ids of JezabelVisser\n"
     ]
    },
    {
     "name": "stderr",
     "output_type": "stream",
     "text": [
      "\r",
      " 89%|████████▉ | 608/681 [26:10:56<1:36:24, 79.24s/it] "
     ]
    },
    {
     "name": "stdout",
     "output_type": "stream",
     "text": [
      "Fetched number of followers ids for JezabelVisser : 15000\n",
      "Getting Followers ids of JimmyButler\n"
     ]
    },
    {
     "name": "stderr",
     "output_type": "stream",
     "text": [
      "Rate limit reached. Sleeping for: 893\n",
      " 89%|████████▉ | 609/681 [26:25:56<6:30:32, 325.45s/it]"
     ]
    },
    {
     "name": "stdout",
     "output_type": "stream",
     "text": [
      "Fetched number of followers ids for JimmyButler : 15000\n",
      "Getting Followers ids of JulieXKay\n"
     ]
    },
    {
     "name": "stderr",
     "output_type": "stream",
     "text": [
      "\r",
      " 90%|████████▉ | 610/681 [26:25:58<4:30:06, 228.26s/it]"
     ]
    },
    {
     "name": "stdout",
     "output_type": "stream",
     "text": [
      "Fetched number of followers ids for JulieXKay : 15000\n",
      "Getting Followers ids of kennedyddoftx\n"
     ]
    },
    {
     "name": "stderr",
     "output_type": "stream",
     "text": [
      "\r",
      " 90%|████████▉ | 611/681 [26:26:01<3:07:35, 160.80s/it]"
     ]
    },
    {
     "name": "stdout",
     "output_type": "stream",
     "text": [
      "Fetched number of followers ids for kennedyddoftx : 15000\n",
      "Getting Followers ids of kingchip\n"
     ]
    },
    {
     "name": "stderr",
     "output_type": "stream",
     "text": [
      "\r",
      " 90%|████████▉ | 612/681 [26:26:03<2:09:57, 113.01s/it]"
     ]
    },
    {
     "name": "stdout",
     "output_type": "stream",
     "text": [
      "Fetched number of followers ids for kingchip : 15000\n",
      "Getting Followers ids of MarieLuv\n"
     ]
    },
    {
     "name": "stderr",
     "output_type": "stream",
     "text": [
      "\r",
      " 90%|█████████ | 613/681 [26:26:04<1:30:09, 79.55s/it] "
     ]
    },
    {
     "name": "stdout",
     "output_type": "stream",
     "text": [
      "Fetched number of followers ids for MarieLuv : 15000\n",
      "Getting Followers ids of marshallarkley\n"
     ]
    },
    {
     "name": "stderr",
     "output_type": "stream",
     "text": [
      "Rate limit reached. Sleeping for: 891\n",
      " 90%|█████████ | 614/681 [26:41:02<6:02:58, 325.05s/it]"
     ]
    },
    {
     "name": "stdout",
     "output_type": "stream",
     "text": [
      "Fetched number of followers ids for marshallarkley : 15000\n",
      "Getting Followers ids of misserenaaa\n"
     ]
    },
    {
     "name": "stderr",
     "output_type": "stream",
     "text": [
      "\r",
      " 90%|█████████ | 615/681 [26:41:04<4:10:47, 227.99s/it]"
     ]
    },
    {
     "name": "stdout",
     "output_type": "stream",
     "text": [
      "Fetched number of followers ids for misserenaaa : 15000\n",
      "Getting Followers ids of MissTerraForest\n"
     ]
    },
    {
     "name": "stderr",
     "output_type": "stream",
     "text": [
      "\r",
      " 90%|█████████ | 616/681 [26:41:05<2:53:22, 160.03s/it]"
     ]
    },
    {
     "name": "stdout",
     "output_type": "stream",
     "text": [
      "Fetched number of followers ids for MissTerraForest : 15000\n",
      "Getting Followers ids of missveronikab\n"
     ]
    },
    {
     "name": "stderr",
     "output_type": "stream",
     "text": [
      "\r",
      " 91%|█████████ | 617/681 [26:41:07<2:00:00, 112.51s/it]"
     ]
    },
    {
     "name": "stdout",
     "output_type": "stream",
     "text": [
      "Fetched number of followers ids for missveronikab : 15000\n",
      "Getting Followers ids of MsAbigailMac\n"
     ]
    },
    {
     "name": "stderr",
     "output_type": "stream",
     "text": [
      "\r",
      " 91%|█████████ | 618/681 [26:41:08<1:23:09, 79.21s/it] "
     ]
    },
    {
     "name": "stdout",
     "output_type": "stream",
     "text": [
      "Fetched number of followers ids for MsAbigailMac : 15000\n",
      "Getting Followers ids of NatashaYi\n"
     ]
    },
    {
     "name": "stderr",
     "output_type": "stream",
     "text": [
      "Rate limit reached. Sleeping for: 893\n",
      " 91%|█████████ | 619/681 [26:56:08<5:36:13, 325.38s/it]"
     ]
    },
    {
     "name": "stdout",
     "output_type": "stream",
     "text": [
      "Fetched number of followers ids for NatashaYi : 15000\n",
      "Getting Followers ids of NiaNRiley\n"
     ]
    },
    {
     "name": "stderr",
     "output_type": "stream",
     "text": [
      "\r",
      " 91%|█████████ | 620/681 [26:56:10<3:52:06, 228.30s/it]"
     ]
    },
    {
     "name": "stdout",
     "output_type": "stream",
     "text": [
      "Fetched number of followers ids for NiaNRiley : 15000\n",
      "Getting Followers ids of ODanicaRockwood\n"
     ]
    },
    {
     "name": "stderr",
     "output_type": "stream",
     "text": [
      "\r",
      " 91%|█████████ | 621/681 [26:56:11<2:40:15, 160.25s/it]"
     ]
    },
    {
     "name": "stdout",
     "output_type": "stream",
     "text": [
      "Fetched number of followers ids for ODanicaRockwood : 15000\n",
      "Getting Followers ids of oompaville\n"
     ]
    },
    {
     "name": "stderr",
     "output_type": "stream",
     "text": [
      "\r",
      " 91%|█████████▏| 622/681 [26:56:13<1:50:44, 112.62s/it]"
     ]
    },
    {
     "name": "stdout",
     "output_type": "stream",
     "text": [
      "Fetched number of followers ids for oompaville : 15000\n",
      "Getting Followers ids of Ordinary1World\n"
     ]
    },
    {
     "name": "stderr",
     "output_type": "stream",
     "text": [
      "\r",
      " 91%|█████████▏| 623/681 [26:56:14<1:16:39, 79.30s/it] "
     ]
    },
    {
     "name": "stdout",
     "output_type": "stream",
     "text": [
      "Fetched number of followers ids for Ordinary1World : 15000\n",
      "Getting Followers ids of paddyb_ireland\n"
     ]
    },
    {
     "name": "stderr",
     "output_type": "stream",
     "text": [
      "Rate limit reached. Sleeping for: 893\n",
      " 92%|█████████▏| 624/681 [27:11:14<5:09:09, 325.44s/it]"
     ]
    },
    {
     "name": "stdout",
     "output_type": "stream",
     "text": [
      "Fetched number of followers ids for paddyb_ireland : 15000\n",
      "Getting Followers ids of Penny_Underbust\n"
     ]
    },
    {
     "name": "stderr",
     "output_type": "stream",
     "text": [
      "\r",
      " 92%|█████████▏| 625/681 [27:11:15<3:33:02, 228.25s/it]"
     ]
    },
    {
     "name": "stdout",
     "output_type": "stream",
     "text": [
      "Fetched number of followers ids for Penny_Underbust : 15000\n",
      "Getting Followers ids of POiiSED\n"
     ]
    },
    {
     "name": "stderr",
     "output_type": "stream",
     "text": [
      "\r",
      " 92%|█████████▏| 626/681 [27:11:17<2:26:54, 160.27s/it]"
     ]
    },
    {
     "name": "stdout",
     "output_type": "stream",
     "text": [
      "Fetched number of followers ids for POiiSED : 15000\n",
      "Getting Followers ids of R3troSp3ctro\n"
     ]
    },
    {
     "name": "stderr",
     "output_type": "stream",
     "text": [
      "\r",
      " 92%|█████████▏| 627/681 [27:11:21<1:42:04, 113.42s/it]"
     ]
    },
    {
     "name": "stdout",
     "output_type": "stream",
     "text": [
      "Fetched number of followers ids for R3troSp3ctro : 15000\n",
      "Getting Followers ids of RealKhalilU\n"
     ]
    },
    {
     "name": "stderr",
     "output_type": "stream",
     "text": [
      "\r",
      " 92%|█████████▏| 628/681 [27:11:23<1:10:30, 79.83s/it] "
     ]
    },
    {
     "name": "stdout",
     "output_type": "stream",
     "text": [
      "Fetched number of followers ids for RealKhalilU : 15000\n",
      "Getting Followers ids of ShadowBeatz\n"
     ]
    },
    {
     "name": "stderr",
     "output_type": "stream",
     "text": [
      "Rate limit reached. Sleeping for: 891\n",
      " 92%|█████████▏| 629/681 [27:26:21<4:41:55, 325.29s/it]"
     ]
    },
    {
     "name": "stdout",
     "output_type": "stream",
     "text": [
      "Fetched number of followers ids for ShadowBeatz : 15000\n",
      "Getting Followers ids of TarotByBronx\n"
     ]
    },
    {
     "name": "stderr",
     "output_type": "stream",
     "text": [
      "\r",
      " 93%|█████████▎| 630/681 [27:26:22<3:13:54, 228.13s/it]"
     ]
    },
    {
     "name": "stdout",
     "output_type": "stream",
     "text": [
      "Fetched number of followers ids for TarotByBronx : 15000\n",
      "Getting Followers ids of TBJZL\n"
     ]
    },
    {
     "name": "stderr",
     "output_type": "stream",
     "text": [
      "\r",
      " 93%|█████████▎| 631/681 [27:26:24<2:13:31, 160.23s/it]"
     ]
    },
    {
     "name": "stdout",
     "output_type": "stream",
     "text": [
      "Fetched number of followers ids for TBJZL : 15000\n",
      "Getting Followers ids of TheDeeKosh\n"
     ]
    },
    {
     "name": "stderr",
     "output_type": "stream",
     "text": [
      "\r",
      " 93%|█████████▎| 632/681 [27:26:25<1:31:58, 112.62s/it]"
     ]
    },
    {
     "name": "stdout",
     "output_type": "stream",
     "text": [
      "Fetched number of followers ids for TheDeeKosh : 15000\n",
      "Getting Followers ids of TheRealTBOZ\n"
     ]
    },
    {
     "name": "stderr",
     "output_type": "stream",
     "text": [
      "\r",
      " 93%|█████████▎| 633/681 [27:26:27<1:03:25, 79.28s/it] "
     ]
    },
    {
     "name": "stdout",
     "output_type": "stream",
     "text": [
      "Fetched number of followers ids for TheRealTBOZ : 15000\n",
      "Getting Followers ids of tortoisesensei\n"
     ]
    },
    {
     "name": "stderr",
     "output_type": "stream",
     "text": [
      "Rate limit reached. Sleeping for: 892\n",
      " 93%|█████████▎| 634/681 [27:41:26<4:14:41, 325.14s/it]"
     ]
    },
    {
     "name": "stdout",
     "output_type": "stream",
     "text": [
      "Fetched number of followers ids for tortoisesensei : 15000\n",
      "Getting Followers ids of TyroneNJohnnell\n"
     ]
    },
    {
     "name": "stderr",
     "output_type": "stream",
     "text": [
      "\r",
      " 93%|█████████▎| 635/681 [27:41:27<2:54:50, 228.05s/it]"
     ]
    },
    {
     "name": "stdout",
     "output_type": "stream",
     "text": [
      "Fetched number of followers ids for TyroneNJohnnell : 15000\n",
      "Getting Followers ids of VimHomeless\n"
     ]
    },
    {
     "name": "stderr",
     "output_type": "stream",
     "text": [
      "\r",
      " 93%|█████████▎| 636/681 [27:41:29<2:00:04, 160.10s/it]"
     ]
    },
    {
     "name": "stdout",
     "output_type": "stream",
     "text": [
      "Fetched number of followers ids for VimHomeless : 15000\n",
      "Getting Followers ids of AmandaBlackSA\n"
     ]
    },
    {
     "name": "stderr",
     "output_type": "stream",
     "text": [
      "\r",
      " 94%|█████████▎| 637/681 [27:41:30<1:22:30, 112.51s/it]"
     ]
    },
    {
     "name": "stdout",
     "output_type": "stream",
     "text": [
      "Fetched number of followers ids for AmandaBlackSA : 15000\n",
      "Getting Followers ids of BukkitBrown\n"
     ]
    },
    {
     "name": "stderr",
     "output_type": "stream",
     "text": [
      "\r",
      " 94%|█████████▎| 638/681 [27:41:32<56:45, 79.20s/it]   "
     ]
    },
    {
     "name": "stdout",
     "output_type": "stream",
     "text": [
      "Fetched number of followers ids for BukkitBrown : 15000\n",
      "Getting Followers ids of FaZezejiM\n"
     ]
    },
    {
     "name": "stderr",
     "output_type": "stream",
     "text": [
      "Rate limit reached. Sleeping for: 894\n",
      " 94%|█████████▍| 639/681 [27:56:32<3:47:57, 325.65s/it]"
     ]
    },
    {
     "name": "stdout",
     "output_type": "stream",
     "text": [
      "Fetched number of followers ids for FaZezejiM : 15000\n",
      "Getting Followers ids of Frankiiy_\n"
     ]
    },
    {
     "name": "stderr",
     "output_type": "stream",
     "text": [
      "\r",
      " 94%|█████████▍| 640/681 [27:56:34<2:36:03, 228.39s/it]"
     ]
    },
    {
     "name": "stdout",
     "output_type": "stream",
     "text": [
      "Fetched number of followers ids for Frankiiy_ : 15000\n",
      "Getting Followers ids of JACOBI_DSP\n"
     ]
    },
    {
     "name": "stderr",
     "output_type": "stream",
     "text": [
      "\r",
      " 94%|█████████▍| 641/681 [27:56:35<1:46:52, 160.32s/it]"
     ]
    },
    {
     "name": "stdout",
     "output_type": "stream",
     "text": [
      "Fetched number of followers ids for JACOBI_DSP : 15000\n",
      "Getting Followers ids of jburnone\n"
     ]
    },
    {
     "name": "stderr",
     "output_type": "stream",
     "text": [
      "\r",
      " 94%|█████████▍| 642/681 [27:56:37<1:13:14, 112.69s/it]"
     ]
    },
    {
     "name": "stdout",
     "output_type": "stream",
     "text": [
      "Fetched number of followers ids for jburnone : 15000\n",
      "Getting Followers ids of jesslanai552\n"
     ]
    },
    {
     "name": "stderr",
     "output_type": "stream",
     "text": [
      "\r",
      " 94%|█████████▍| 643/681 [27:56:39<50:15, 79.36s/it]   "
     ]
    },
    {
     "name": "stdout",
     "output_type": "stream",
     "text": [
      "Fetched number of followers ids for jesslanai552 : 15000\n",
      "Getting Followers ids of LilLillyLitxxx\n"
     ]
    },
    {
     "name": "stderr",
     "output_type": "stream",
     "text": [
      "Rate limit reached. Sleeping for: 893\n",
      " 95%|█████████▍| 644/681 [28:11:38<3:20:43, 325.50s/it]"
     ]
    },
    {
     "name": "stdout",
     "output_type": "stream",
     "text": [
      "Fetched number of followers ids for LilLillyLitxxx : 15000\n",
      "Getting Followers ids of madelynxmonroe\n"
     ]
    },
    {
     "name": "stderr",
     "output_type": "stream",
     "text": [
      "\r",
      " 95%|█████████▍| 645/681 [28:11:40<2:16:58, 228.30s/it]"
     ]
    },
    {
     "name": "stdout",
     "output_type": "stream",
     "text": [
      "Fetched number of followers ids for madelynxmonroe : 15000\n",
      "Getting Followers ids of makaihbeats\n"
     ]
    },
    {
     "name": "stderr",
     "output_type": "stream",
     "text": [
      "\r",
      " 95%|█████████▍| 646/681 [28:11:41<1:33:29, 160.28s/it]"
     ]
    },
    {
     "name": "stdout",
     "output_type": "stream",
     "text": [
      "Fetched number of followers ids for makaihbeats : 15000\n",
      "Getting Followers ids of McNasty\n"
     ]
    },
    {
     "name": "stderr",
     "output_type": "stream",
     "text": [
      "\r",
      " 95%|█████████▌| 647/681 [28:11:44<1:03:56, 112.83s/it]"
     ]
    },
    {
     "name": "stdout",
     "output_type": "stream",
     "text": [
      "Fetched number of followers ids for McNasty : 15000\n",
      "Getting Followers ids of mechiesocrazyy\n"
     ]
    },
    {
     "name": "stderr",
     "output_type": "stream",
     "text": [
      "\r",
      " 95%|█████████▌| 648/681 [28:11:45<43:40, 79.42s/it]   "
     ]
    },
    {
     "name": "stdout",
     "output_type": "stream",
     "text": [
      "Fetched number of followers ids for mechiesocrazyy : 15000\n",
      "Getting Followers ids of MissDollyLeigh\n"
     ]
    },
    {
     "name": "stderr",
     "output_type": "stream",
     "text": [
      "Rate limit reached. Sleeping for: 892\n",
      " 95%|█████████▌| 649/681 [28:26:44<2:53:27, 325.22s/it]"
     ]
    },
    {
     "name": "stdout",
     "output_type": "stream",
     "text": [
      "Fetched number of followers ids for MissDollyLeigh : 15000\n",
      "Getting Followers ids of MsLeloB\n"
     ]
    },
    {
     "name": "stderr",
     "output_type": "stream",
     "text": [
      "\r",
      " 95%|█████████▌| 650/681 [28:26:45<1:57:51, 228.12s/it]"
     ]
    },
    {
     "name": "stdout",
     "output_type": "stream",
     "text": [
      "Fetched number of followers ids for MsLeloB : 15000\n",
      "Getting Followers ids of Mstiffevans\n"
     ]
    },
    {
     "name": "stderr",
     "output_type": "stream",
     "text": [
      "\r",
      " 96%|█████████▌| 651/681 [28:26:47<1:20:03, 160.12s/it]"
     ]
    },
    {
     "name": "stdout",
     "output_type": "stream",
     "text": [
      "Fetched number of followers ids for Mstiffevans : 15000\n",
      "Getting Followers ids of Nami_oh_yeah\n"
     ]
    },
    {
     "name": "stderr",
     "output_type": "stream",
     "text": [
      "\r",
      " 96%|█████████▌| 652/681 [28:26:48<54:23, 112.54s/it]  "
     ]
    },
    {
     "name": "stdout",
     "output_type": "stream",
     "text": [
      "Fetched number of followers ids for Nami_oh_yeah : 15000\n",
      "Getting Followers ids of octaviamaysg\n"
     ]
    },
    {
     "name": "stderr",
     "output_type": "stream",
     "text": [
      "\r",
      " 96%|█████████▌| 653/681 [28:26:50<36:58, 79.22s/it] "
     ]
    },
    {
     "name": "stdout",
     "output_type": "stream",
     "text": [
      "Fetched number of followers ids for octaviamaysg : 15000\n",
      "Getting Followers ids of PigSpotter\n"
     ]
    },
    {
     "name": "stderr",
     "output_type": "stream",
     "text": [
      "Rate limit reached. Sleeping for: 893\n",
      " 96%|█████████▌| 654/681 [28:41:50<2:26:29, 325.54s/it]"
     ]
    },
    {
     "name": "stdout",
     "output_type": "stream",
     "text": [
      "Fetched number of followers ids for PigSpotter : 15000\n",
      "Getting Followers ids of RealLillyHallXX\n"
     ]
    },
    {
     "name": "stderr",
     "output_type": "stream",
     "text": [
      "\r",
      " 96%|█████████▌| 655/681 [28:41:52<1:38:58, 228.41s/it]"
     ]
    },
    {
     "name": "stdout",
     "output_type": "stream",
     "text": [
      "Fetched number of followers ids for RealLillyHallXX : 15000\n",
      "Getting Followers ids of tiffanyxduhh1\n"
     ]
    },
    {
     "name": "stderr",
     "output_type": "stream",
     "text": [
      "\r",
      " 96%|█████████▋| 656/681 [28:41:53<1:06:48, 160.35s/it]"
     ]
    },
    {
     "name": "stdout",
     "output_type": "stream",
     "text": [
      "Fetched number of followers ids for tiffanyxduhh1 : 15000\n",
      "Getting Followers ids of tsroxiexxx\n"
     ]
    },
    {
     "name": "stderr",
     "output_type": "stream",
     "text": [
      "\r",
      " 96%|█████████▋| 657/681 [28:41:55<45:04, 112.69s/it]  "
     ]
    },
    {
     "name": "stdout",
     "output_type": "stream",
     "text": [
      "Fetched number of followers ids for tsroxiexxx : 15000\n",
      "Getting Followers ids of Victoria_May89\n"
     ]
    },
    {
     "name": "stderr",
     "output_type": "stream",
     "text": [
      "\r",
      " 97%|█████████▋| 658/681 [28:41:57<30:30, 79.58s/it] "
     ]
    },
    {
     "name": "stdout",
     "output_type": "stream",
     "text": [
      "Fetched number of followers ids for Victoria_May89 : 15000\n",
      "Getting Followers ids of whitneywrightx\n"
     ]
    },
    {
     "name": "stderr",
     "output_type": "stream",
     "text": [
      "Rate limit reached. Sleeping for: 892\n",
      " 97%|█████████▋| 659/681 [28:56:56<1:59:19, 325.41s/it]"
     ]
    },
    {
     "name": "stdout",
     "output_type": "stream",
     "text": [
      "Fetched number of followers ids for whitneywrightx : 15000\n",
      "Getting Followers ids of XXXErinGreen\n"
     ]
    },
    {
     "name": "stderr",
     "output_type": "stream",
     "text": [
      "\r",
      " 97%|█████████▋| 660/681 [28:56:58<1:19:53, 228.24s/it]"
     ]
    },
    {
     "name": "stdout",
     "output_type": "stream",
     "text": [
      "Fetched number of followers ids for XXXErinGreen : 15000\n",
      "Getting Followers ids of yafavdeyj\n"
     ]
    },
    {
     "name": "stderr",
     "output_type": "stream",
     "text": [
      "\r",
      " 97%|█████████▋| 661/681 [28:56:59<53:24, 160.21s/it]  "
     ]
    },
    {
     "name": "stdout",
     "output_type": "stream",
     "text": [
      "Fetched number of followers ids for yafavdeyj : 15000\n",
      "Getting Followers ids of _NadiaJay_\n"
     ]
    },
    {
     "name": "stderr",
     "output_type": "stream",
     "text": [
      "\r",
      " 97%|█████████▋| 662/681 [28:57:01<35:39, 112.59s/it]"
     ]
    },
    {
     "name": "stdout",
     "output_type": "stream",
     "text": [
      "Fetched number of followers ids for _NadiaJay_ : 15000\n",
      "Getting Followers ids of ArielleScarcell\n"
     ]
    },
    {
     "name": "stderr",
     "output_type": "stream",
     "text": [
      "\r",
      " 97%|█████████▋| 663/681 [28:57:02<23:46, 79.25s/it] "
     ]
    },
    {
     "name": "stdout",
     "output_type": "stream",
     "text": [
      "Fetched number of followers ids for ArielleScarcell : 15000\n",
      "Getting Followers ids of IamKickz\n"
     ]
    },
    {
     "name": "stderr",
     "output_type": "stream",
     "text": [
      "Rate limit reached. Sleeping for: 893\n",
      " 98%|█████████▊| 664/681 [29:12:02<1:32:12, 325.44s/it]"
     ]
    },
    {
     "name": "stdout",
     "output_type": "stream",
     "text": [
      "Fetched number of followers ids for IamKickz : 15000\n",
      "Getting Followers ids of KrackinasssKeyy\n"
     ]
    },
    {
     "name": "stderr",
     "output_type": "stream",
     "text": [
      "\r",
      " 98%|█████████▊| 665/681 [29:12:03<1:00:51, 228.24s/it]"
     ]
    },
    {
     "name": "stdout",
     "output_type": "stream",
     "text": [
      "Fetched number of followers ids for KrackinasssKeyy : 15000\n",
      "Getting Followers ids of Luyanda_Maf\n"
     ]
    },
    {
     "name": "stderr",
     "output_type": "stream",
     "text": [
      "\r",
      " 98%|█████████▊| 666/681 [29:12:06<40:05, 160.40s/it]  "
     ]
    },
    {
     "name": "stdout",
     "output_type": "stream",
     "text": [
      "Fetched number of followers ids for Luyanda_Maf : 15000\n",
      "Getting Followers ids of MiMi_Curvaceous\n"
     ]
    },
    {
     "name": "stderr",
     "output_type": "stream",
     "text": [
      "\r",
      " 98%|█████████▊| 667/681 [29:12:07<26:18, 112.79s/it]"
     ]
    },
    {
     "name": "stdout",
     "output_type": "stream",
     "text": [
      "Fetched number of followers ids for MiMi_Curvaceous : 15000\n",
      "Getting Followers ids of nelisiwe_sibiya\n"
     ]
    },
    {
     "name": "stderr",
     "output_type": "stream",
     "text": [
      "\r",
      " 98%|█████████▊| 668/681 [29:12:09<17:12, 79.39s/it] "
     ]
    },
    {
     "name": "stdout",
     "output_type": "stream",
     "text": [
      "Fetched number of followers ids for nelisiwe_sibiya : 15000\n",
      "Getting Followers ids of OnealAfrica\n"
     ]
    },
    {
     "name": "stderr",
     "output_type": "stream",
     "text": [
      "Rate limit reached. Sleeping for: 892\n",
      " 98%|█████████▊| 669/681 [29:27:08<1:05:03, 325.27s/it]"
     ]
    },
    {
     "name": "stdout",
     "output_type": "stream",
     "text": [
      "Fetched number of followers ids for OnealAfrica : 15000\n",
      "Getting Followers ids of only1_tskendall\n"
     ]
    },
    {
     "name": "stderr",
     "output_type": "stream",
     "text": [
      "\r",
      " 98%|█████████▊| 670/681 [29:27:09<41:49, 228.15s/it]  "
     ]
    },
    {
     "name": "stdout",
     "output_type": "stream",
     "text": [
      "Fetched number of followers ids for only1_tskendall : 15000\n",
      "Getting Followers ids of SexieVonKat\n"
     ]
    },
    {
     "name": "stderr",
     "output_type": "stream",
     "text": [
      "\r",
      " 99%|█████████▊| 671/681 [29:27:11<26:41, 160.18s/it]"
     ]
    },
    {
     "name": "stdout",
     "output_type": "stream",
     "text": [
      "Fetched number of followers ids for SexieVonKat : 15000\n",
      "Getting Followers ids of Shady_Lurker\n"
     ]
    },
    {
     "name": "stderr",
     "output_type": "stream",
     "text": [
      "\r",
      " 99%|█████████▊| 672/681 [29:27:12<16:53, 112.58s/it]"
     ]
    },
    {
     "name": "stdout",
     "output_type": "stream",
     "text": [
      "Fetched number of followers ids for Shady_Lurker : 15000\n",
      "Getting Followers ids of SoGrizzy\n"
     ]
    },
    {
     "name": "stderr",
     "output_type": "stream",
     "text": [
      "\r",
      " 99%|█████████▉| 673/681 [29:27:14<10:34, 79.25s/it] "
     ]
    },
    {
     "name": "stdout",
     "output_type": "stream",
     "text": [
      "Fetched number of followers ids for SoGrizzy : 15000\n",
      "Getting Followers ids of StephKegels\n"
     ]
    },
    {
     "name": "stderr",
     "output_type": "stream",
     "text": [
      "Rate limit reached. Sleeping for: 894\n",
      " 99%|█████████▉| 674/681 [29:42:15<37:59, 325.70s/it]"
     ]
    },
    {
     "name": "stdout",
     "output_type": "stream",
     "text": [
      "Fetched number of followers ids for StephKegels : 15000\n",
      "Getting Followers ids of tssexykayla\n"
     ]
    },
    {
     "name": "stderr",
     "output_type": "stream",
     "text": [
      "\r",
      " 99%|█████████▉| 675/681 [29:42:16<22:50, 228.44s/it]"
     ]
    },
    {
     "name": "stdout",
     "output_type": "stream",
     "text": [
      "Fetched number of followers ids for tssexykayla : 15000\n",
      "Getting Followers ids of BeatMakersLife\n"
     ]
    },
    {
     "name": "stderr",
     "output_type": "stream",
     "text": [
      "\r",
      " 99%|█████████▉| 676/681 [29:42:18<13:21, 160.37s/it]"
     ]
    },
    {
     "name": "stdout",
     "output_type": "stream",
     "text": [
      "Fetched number of followers ids for BeatMakersLife : 15000\n",
      "Getting Followers ids of EatMyCookiieee\n"
     ]
    },
    {
     "name": "stderr",
     "output_type": "stream",
     "text": [
      "\r",
      " 99%|█████████▉| 677/681 [29:42:19<07:30, 112.69s/it]"
     ]
    },
    {
     "name": "stdout",
     "output_type": "stream",
     "text": [
      "Fetched number of followers ids for EatMyCookiieee : 15000\n",
      "Getting Followers ids of ntsikimazwai\n"
     ]
    },
    {
     "name": "stderr",
     "output_type": "stream",
     "text": [
      "\r",
      "100%|█████████▉| 678/681 [29:42:21<03:57, 79.33s/it] "
     ]
    },
    {
     "name": "stdout",
     "output_type": "stream",
     "text": [
      "Fetched number of followers ids for ntsikimazwai : 15000\n",
      "Getting Followers ids of Wipz\n"
     ]
    },
    {
     "name": "stderr",
     "output_type": "stream",
     "text": [
      "Rate limit reached. Sleeping for: 893\n",
      "100%|█████████▉| 679/681 [29:57:20<10:50, 325.45s/it]"
     ]
    },
    {
     "name": "stdout",
     "output_type": "stream",
     "text": [
      "Fetched number of followers ids for Wipz : 15000\n",
      "Getting Followers ids of macaiyla\n"
     ]
    },
    {
     "name": "stderr",
     "output_type": "stream",
     "text": [
      "\r",
      "100%|█████████▉| 680/681 [29:57:22<03:48, 228.28s/it]"
     ]
    },
    {
     "name": "stdout",
     "output_type": "stream",
     "text": [
      "Fetched number of followers ids for macaiyla : 15000\n",
      "Getting Followers ids of toveyah\n"
     ]
    },
    {
     "name": "stderr",
     "output_type": "stream",
     "text": [
      "100%|██████████| 681/681 [29:57:23<00:00, 158.36s/it]"
     ]
    },
    {
     "name": "stdout",
     "output_type": "stream",
     "text": [
      "Fetched number of followers ids for toveyah : 15000\n"
     ]
    },
    {
     "name": "stderr",
     "output_type": "stream",
     "text": [
      "\n"
     ]
    }
   ],
   "source": [
    "all_anti_accounts = get_all_followers(anti_all_accounts, 15000)"
   ]
  },
  {
   "cell_type": "code",
   "execution_count": 9,
   "id": "e6deb616",
   "metadata": {},
   "outputs": [],
   "source": [
    "with open(r'C:\\Users\\psrub\\Documents\\Python\\Twitter\\files\\top_15k_followers_ids_from_pro_hubs.txt', 'w') as f:\n",
    "    f.write(str(all_pro_accounts))"
   ]
  },
  {
   "cell_type": "code",
   "execution_count": 10,
   "id": "0cd0d9ec",
   "metadata": {},
   "outputs": [],
   "source": [
    "with open(r'C:\\Users\\psrub\\Documents\\Python\\Twitter\\files\\top_15k_followers_ids_from_anti_hubs.txt', 'w') as f:\n",
    "    f.write(str(all_anti_accounts))"
   ]
  },
  {
   "cell_type": "code",
   "execution_count": 11,
   "id": "1e5158f2",
   "metadata": {},
   "outputs": [],
   "source": [
    "anti_ = []\n",
    "for i in all_anti_accounts:\n",
    "    anti_.extend(i)\n",
    "    \n",
    "pro_ = []\n",
    "for i in all_pro_accounts:\n",
    "    pro_.extend(i)"
   ]
  },
  {
   "cell_type": "code",
   "execution_count": 12,
   "id": "569a7327",
   "metadata": {},
   "outputs": [
    {
     "name": "stdout",
     "output_type": "stream",
     "text": [
      "Amount of all 5k accounts from each anti hub: 8499933\n",
      "Amount of all unique accounts from each anti hub: 5606544\n",
      "Ratio of unique accounts to all accounts: 0.6595986109537569\n"
     ]
    }
   ],
   "source": [
    "# ANTI FOLLOWERS \n",
    "\n",
    "print(f'Amount of all 5k accounts from each anti hub: {len(anti_)}')                          #3036807\n",
    "print(f'Amount of all unique accounts from each anti hub: {len(list(set(anti_)))}')           #2162581\n",
    "print(f'Ratio of unique accounts to all accounts: {len(list(set(anti_)))/len(anti_)}')        #0.71212329265574"
   ]
  },
  {
   "cell_type": "code",
   "execution_count": 13,
   "id": "e111f3f1",
   "metadata": {},
   "outputs": [
    {
     "name": "stdout",
     "output_type": "stream",
     "text": [
      "Amount of all 5k accounts from each pro hub: 19263765\n",
      "Amount of all unique accounts from each pro hub: 11277410\n",
      "Ratio of unique accounts to all accounts: 0.5854208665855298\n"
     ]
    }
   ],
   "source": [
    "# PRO FOLLOWERS \n",
    "\n",
    "print(f'Amount of all 5k accounts from each pro hub: {len(pro_)}')                            #6420000\n",
    "print(f'Amount of all unique accounts from each pro hub: {len(list(set(pro_)))}')             #4358307\n",
    "print(f'Ratio of unique accounts to all accounts: {len(list(set(pro_)))/len(pro_)}')          #0.6788640186915887"
   ]
  },
  {
   "cell_type": "code",
   "execution_count": null,
   "id": "683fcaf1",
   "metadata": {},
   "outputs": [],
   "source": []
  }
 ],
 "metadata": {
  "kernelspec": {
   "display_name": "Python 3",
   "language": "python",
   "name": "python3"
  },
  "language_info": {
   "codemirror_mode": {
    "name": "ipython",
    "version": 3
   },
   "file_extension": ".py",
   "mimetype": "text/x-python",
   "name": "python",
   "nbconvert_exporter": "python",
   "pygments_lexer": "ipython3",
   "version": "3.8.8"
  }
 },
 "nbformat": 4,
 "nbformat_minor": 5
}
