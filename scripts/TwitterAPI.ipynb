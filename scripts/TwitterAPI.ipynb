{
 "cells": [
  {
   "cell_type": "code",
   "execution_count": 1,
   "id": "e6f6a4e8",
   "metadata": {},
   "outputs": [],
   "source": [
    "import tweepy\n",
    "import time\n",
    "import os\n",
    "import json\n",
    "import pandas as pd\n",
    "import numpy as np\n",
    "import networkx as nx\n",
    "import matplotlib.pyplot as plt\n",
    "from scipy import stats\n",
    "import csv\n",
    "import re\n",
    "from tqdm import tqdm\n",
    "import traceback"
   ]
  },
  {
   "cell_type": "code",
   "execution_count": 2,
   "id": "ae91235a",
   "metadata": {},
   "outputs": [],
   "source": [
    "consumerKey = 'qFXNatPD5C2JFEQPlMTXFUr8x'\n",
    "consumerSecret = 'VCTI9keIp1mqIKLwpuoApI7HSe5b0SpeUHvcQ676J3SOjuuISM'\n",
    "accessToken = '1371497692069789697-0tx6gputswEwOMlwGfUy4VKBID5SCg'\n",
    "accessTokenSecret = 'zSFpItEQObd4PBc7E0PFAvoJApglHJqbcT37TW928ji5P'"
   ]
  },
  {
   "cell_type": "code",
   "execution_count": 3,
   "id": "f20bf1e2",
   "metadata": {},
   "outputs": [],
   "source": [
    "auth = tweepy.OAuthHandler(consumerKey, consumerSecret)\n",
    "auth.set_access_token(accessToken, accessTokenSecret)"
   ]
  },
  {
   "cell_type": "code",
   "execution_count": 4,
   "id": "15cbfc1c",
   "metadata": {},
   "outputs": [],
   "source": [
    "api = tweepy.API(auth, wait_on_rate_limit=True, wait_on_rate_limit_notify=True)"
   ]
  },
  {
   "cell_type": "code",
   "execution_count": 5,
   "id": "84548b61",
   "metadata": {},
   "outputs": [],
   "source": [
    "def itemgetter(*items):\n",
    "    if len(items) == 1:\n",
    "        item = items[0]\n",
    "        def g(obj):\n",
    "            return obj[item]\n",
    "    else:\n",
    "        def g(obj):\n",
    "            return tuple(obj[item] for item in items)\n",
    "    return g\n",
    "\n",
    "\n",
    "def get_followers(screen_name):\n",
    "    print('Getting Followers list of', screen_name)\n",
    "    followers = []\n",
    "    users = tweepy.Cursor(api.followers, screen_name = screen_name, wait_on_rate_limit = True, count = 5000, lang=['en'])\n",
    "\n",
    "    for user in users.items():\n",
    "        try:\n",
    "            followers.append(user)\n",
    "        except tweepy.TweepError as e:\n",
    "            print('Going to sleep: ', e)\n",
    "            time.sleep(60)\n",
    "            \n",
    "    print(f'Fetched number of followers for {screen_name} : {len(followers)}')\n",
    "    return followers\n",
    "\n",
    "def get_followers_ids(screen_name):\n",
    "    print('Getting Followers ids of', screen_name)\n",
    "    followers_ids = []\n",
    "    users_id = tweepy.Cursor(api.followers_ids, screen_name = screen_name, wait_on_rate_limit = True, count = 5000, lang=['en'])\n",
    "\n",
    "    for user_id in users_id.items():\n",
    "        try:\n",
    "            followers_ids.append(user_id)\n",
    "        except tweepy.TweepError as e:\n",
    "            print('Going to sleep: ', e)\n",
    "            time.sleep(60)\n",
    "            \n",
    "    print(f'Fetched number of followers ids for {screen_name} : {len(followers_ids)}')\n",
    "    return followers_ids\n",
    "\n",
    "def get_following_ids(screen_name):\n",
    "    print('Getting Following ids of', screen_name)\n",
    "    following_ids = []\n",
    "    try:\n",
    "        users_id = tweepy.Cursor(api.friends_ids, screen_name = screen_name, wait_on_rate_limit = True, count = 5000, lang=['en'])\n",
    "        \n",
    "        for user_id in users_id.items():\n",
    "            following_ids.append(user_id)\n",
    "            \n",
    "    except tweepy.TweepError as e:\n",
    "        print(e)\n",
    "        \n",
    "    print(f'Fetched number of following ids for {screen_name} : {len(following_ids)}')\n",
    "    return following_ids\n",
    "\n",
    "\n",
    "def get_following(screen_name):\n",
    "    print('Getting Following list of ', screen_name)\n",
    "    following = []\n",
    "    users = tweepy.Cursor(api.friends, screen_name = screen_name, wait_on_rate_limit = True, count=5000, lang=['en'])\n",
    "    for user in users.items():\n",
    "        try:\n",
    "            following.append(user)\n",
    "        except tweepy.TweepError as e:\n",
    "            print(\"Going to sleep:\", e)\n",
    "            time.sleep(60)\n",
    "    print(f'Fetched number of followings for {screen_name} : {len(following)}')          \n",
    "    return following\n",
    "\n",
    "def append_to_file(file_name, acc_name):\n",
    "    with open(file_name, \"a\") as f:\n",
    "        f.write(',' + acc_name)"
   ]
  },
  {
   "cell_type": "code",
   "execution_count": 6,
   "id": "57733d6d",
   "metadata": {},
   "outputs": [],
   "source": [
    "def get_data(save_dir, accounts):\n",
    "    for acc in accounts:\n",
    "\n",
    "        save_path = os.path.join(save_dir, acc)\n",
    "\n",
    "        if not os.path.exists(save_path):\n",
    "            os.mkdir(save_path)\n",
    "            \n",
    "            \n",
    "        # ACCOUNT DATA\n",
    "        try:\n",
    "            acc_data = api.get_user(screen_name = acc, wait_on_rate_limit = True)\n",
    "            ob = {\n",
    "                    'ID':acc_data.id,\n",
    "                    'Screen_Name':acc_data.screen_name,\n",
    "                    'Description': acc_data.description,\n",
    "                    'StatusesCount':acc_data.statuses_count,\n",
    "                    'Follower_Count':acc_data.followers_count,\n",
    "                    'Following_Count':acc_data.friends_count\n",
    "                    }\n",
    "        except Exception as ex:\n",
    "            print(ex)\n",
    "            continue\n",
    "\n",
    "        with open(os.path.join(save_path, 'account.json'), 'w') as f:\n",
    "            json.dump(ob, f)\n",
    "        \n",
    "        # FOLLOWERS DATA\n",
    "#         data = []\n",
    "#         followers_ids = get_followers_ids(acc)\n",
    "#         for i in range(0, len(followers_ids), 100):\n",
    "#             try:\n",
    "#                 chunk = followers_ids[i:i+100]\n",
    "#                 users_chunk = api.lookup_users(user_ids=chunk)\n",
    "#                 for user in users_chunk:\n",
    "#                     try:\n",
    "#                         ob = {\n",
    "#                         'ID':user.id,\n",
    "#                         'Screen_Name':user.screen_name,\n",
    "#                         'Description': user.description,\n",
    "#                         'StatusesCount':user.statuses_count,\n",
    "#                         'Follower_Count':user.followers_count,\n",
    "#                         'Following_Count':user.friends_count\n",
    "#                     } \n",
    "#                         data.append(ob)\n",
    "#                     except Exception as ex:\n",
    "#                         print(ex)\n",
    "#                         pass\n",
    "#             except:\n",
    "#                 import traceback\n",
    "#                 traceback.print_exc()\n",
    "#                 print('Something went wrong, skipping...')\n",
    "                \n",
    "#         with open(os.path.join(save_path, 'followers.json'), 'w') as f:\n",
    "#             json.dump(data, f)\n",
    "            \n",
    "        # FOLLOWING DATA\n",
    "        data = []\n",
    "        following_ids = get_following_ids(acc)\n",
    "        for i in range(0, len(following_ids), 100):\n",
    "            try:\n",
    "                chunk = following_ids[i:i+100]\n",
    "                users_chunk = api.lookup_users(user_ids=chunk)\n",
    "                for user in users_chunk:\n",
    "                    try:\n",
    "                        ob = {\n",
    "                        'ID':user.id,\n",
    "                        'Screen_Name':user.screen_name,\n",
    "                        'Description': user.description,\n",
    "                        'StatusesCount':user.statuses_count,\n",
    "                        'Follower_Count':user.followers_count,\n",
    "                        'Following_Count':user.friends_count\n",
    "                    } \n",
    "                        data.append(ob)\n",
    "                    except Exception as ex:\n",
    "                        print(ex)\n",
    "                        continue\n",
    "            except Exception as e:\n",
    "                print(e)\n",
    "                print('Something went wrong, skipping...')\n",
    "                continue\n",
    "                \n",
    "        with open(os.path.join(save_path, 'following.json'), 'w') as f:\n",
    "            json.dump(data, f)\n",
    "            \n",
    "\n",
    "        # FOLLOWERS DATA\n",
    "#         data = []\n",
    "#         followers = get_followers(acc)\n",
    "#         for user in followers:\n",
    "#             try:\n",
    "#                 ob = {\n",
    "#                         'Follows account': acc,\n",
    "#                         'ID':user.id,\n",
    "#                         'Screen_Name':user.screen_name,\n",
    "#                         'Description': user.description,\n",
    "#                         'StatusesCount':user.statuses_count,\n",
    "#                         'Follower_Count':user.followers_count,\n",
    "#                         'Following_Count':user.friends_count\n",
    "#                 }\n",
    "#                 data.append(ob)\n",
    "\n",
    "#             except Exception as ex:\n",
    "#                 print(ex)\n",
    "#                 pass\n",
    "\n",
    "        \n",
    "        \n",
    "        # FOLLOWING DATA\n",
    "#         data = []\n",
    "#         following = get_following(acc)\n",
    "#         for user in following:\n",
    "#             try:\n",
    "#                 ob = {\n",
    "#                         'ID':user.id,\n",
    "#                         'Screen_Name':user.screen_name,\n",
    "#                         'Description': user.description,\n",
    "#                         'StatusesCount':user.statuses_count,\n",
    "#                         'Follower_Count':user.followers_count,\n",
    "#                         'Following_Count':user.friends_count\n",
    "#                 } \n",
    "#                 data.append(ob)\n",
    "\n",
    "#             except Exception as ex:\n",
    "#                 print(ex)\n",
    "#                 pass\n",
    "\n",
    "#         with open(os.path.join(save_path, 'following.json'), 'w') as f:\n",
    "#             json.dump(data, f)"
   ]
  },
  {
   "cell_type": "code",
   "execution_count": 7,
   "id": "eca8e60e",
   "metadata": {},
   "outputs": [],
   "source": [
    "with open(r'C:\\Users\\psrub\\Documents\\Python\\Twitter\\files\\base_anti_scientific_accounts.txt', 'r') as f:\n",
    "    anti_accounts = f.read().split(',')\n",
    "\n",
    "with open(r'C:\\Users\\psrub\\Documents\\Python\\Twitter\\files\\hand_picked_new_anti_hubs.txt', 'r') as f:\n",
    "    hand_picked_new_anti_hubs = f.read().split(',')\n",
    "    \n",
    "with open(r'C:\\Users\\psrub\\Documents\\Python\\Twitter\\files\\base_pro_scientific_accounts.txt', 'r') as f:\n",
    "    pro_accounts = f.read().split(',')\n",
    "\n",
    "with open(r'C:\\Users\\psrub\\Documents\\Python\\Twitter\\files\\hand_picked_new_pro_hubs.txt', 'r') as f:\n",
    "    hand_picked_new_pro_hubs = f.read().split(',')"
   ]
  },
  {
   "cell_type": "code",
   "execution_count": 11,
   "id": "a0ac001c",
   "metadata": {},
   "outputs": [
    {
     "name": "stdout",
     "output_type": "stream",
     "text": [
      "Getting Following ids of @RobertKennedyJr\n",
      "Fetched number of following ids for @RobertKennedyJr : 638\n",
      "Getting Following ids of @mercola\n",
      "Fetched number of following ids for @mercola : 28583\n",
      "[{'code': 63, 'message': 'User has been suspended.'}]\n",
      "Getting Following ids of @DrButtar\n",
      "Fetched number of following ids for @DrButtar : 44\n",
      "Getting Following ids of @unhealthytruth\n",
      "Fetched number of following ids for @unhealthytruth : 2088\n",
      "Getting Following ids of @sayerjigmi\n",
      "Fetched number of following ids for @sayerjigmi : 951\n",
      "Getting Following ids of @kellybroganmd\n",
      "Fetched number of following ids for @kellybroganmd : 536\n",
      "Getting Following ids of @DrChrisNorthrup\n",
      "Fetched number of following ids for @DrChrisNorthrup : 574\n",
      "[{'code': 63, 'message': 'User has been suspended.'}]\n",
      "Getting Following ids of @kevdjenkins1\n",
      "Fetched number of following ids for @kevdjenkins1 : 483\n",
      "Getting Following ids of @delbigtree\n",
      "Fetched number of following ids for @delbigtree : 72\n",
      "Getting Following ids of @FlatEarthEffect\n",
      "Fetched number of following ids for @FlatEarthEffect : 3837\n",
      "Getting Following ids of @AnnleeElisha\n"
     ]
    },
    {
     "name": "stderr",
     "output_type": "stream",
     "text": [
      "Rate limit reached. Sleeping for: 395\n"
     ]
    },
    {
     "name": "stdout",
     "output_type": "stream",
     "text": [
      "Fetched number of following ids for @AnnleeElisha : 4012\n",
      "Getting Following ids of @FlatArthur\n",
      "Fetched number of following ids for @FlatArthur : 4239\n",
      "Getting Following ids of @FlatEarthBaba\n",
      "Fetched number of following ids for @FlatEarthBaba : 1109\n",
      "Getting Following ids of @flat_its\n",
      "Fetched number of following ids for @flat_its : 1770\n",
      "Getting Following ids of @earthisaplane7\n",
      "Fetched number of following ids for @earthisaplane7 : 1022\n",
      "Getting Following ids of @FlatSmacker\n",
      "Fetched number of following ids for @FlatSmacker : 117\n",
      "Getting Following ids of @Lumineuse72\n",
      "Fetched number of following ids for @Lumineuse72 : 1273\n",
      "Getting Following ids of @flatearthohio\n",
      "Fetched number of following ids for @flatearthohio : 4275\n",
      "Getting Following ids of @dmarble\n",
      "Fetched number of following ids for @dmarble : 27\n",
      "[{'code': 63, 'message': 'User has been suspended.'}]\n",
      "Getting Following ids of @facebones777\n",
      "Fetched number of following ids for @facebones777 : 3820\n",
      "Getting Following ids of @flatearthaddict\n",
      "Fetched number of following ids for @flatearthaddict : 4996\n",
      "[{'code': 50, 'message': 'User not found.'}]\n",
      "Getting Following ids of @EndTheGlobe\n",
      "Fetched number of following ids for @EndTheGlobe : 1443\n",
      "Getting Following ids of @FlatRealm\n",
      "Fetched number of following ids for @FlatRealm : 1524\n",
      "Getting Following ids of @flat_earth_dude\n",
      "Fetched number of following ids for @flat_earth_dude : 597\n",
      "Getting Following ids of @JustWakeUp8\n",
      "Fetched number of following ids for @JustWakeUp8 : 131\n",
      "[{'code': 50, 'message': 'User not found.'}]\n",
      "Getting Following ids of @Gylauer\n"
     ]
    },
    {
     "name": "stderr",
     "output_type": "stream",
     "text": [
      "Rate limit reached. Sleeping for: 465\n"
     ]
    },
    {
     "name": "stdout",
     "output_type": "stream",
     "text": [
      "Fetched number of following ids for @Gylauer : 648\n",
      "Getting Following ids of @Spacehehehe\n",
      "Fetched number of following ids for @Spacehehehe : 1396\n",
      "[{'code': 50, 'message': 'User not found.'}]\n",
      "Getting Following ids of @FlatEarthTshirt\n",
      "Fetched number of following ids for @FlatEarthTshirt : 933\n",
      "Getting Following ids of @DSL1912\n",
      "Fetched number of following ids for @DSL1912 : 3313\n",
      "Getting Following ids of @FlatEarthCity\n",
      "Fetched number of following ids for @FlatEarthCity : 2527\n",
      "Getting Following ids of @FlatEarthRT\n",
      "Fetched number of following ids for @FlatEarthRT : 400\n",
      "Getting Following ids of @QMFlatEarth\n",
      "Fetched number of following ids for @QMFlatEarth : 14\n",
      "Getting Following ids of @FlatAwakening\n",
      "Fetched number of following ids for @FlatAwakening : 338\n",
      "Getting Following ids of @FlatEarthOrg\n",
      "Fetched number of following ids for @FlatEarthOrg : 266\n",
      "Getting Following ids of @TheFlatEartherr\n",
      "Fetched number of following ids for @TheFlatEartherr : 425\n",
      "Getting Following ids of @itsBentooLong\n",
      "Fetched number of following ids for @itsBentooLong : 427\n",
      "Getting Following ids of @DinosaurEarth\n",
      "Fetched number of following ids for @DinosaurEarth : 68\n",
      "Getting Following ids of @Canoe_Glider\n",
      "Fetched number of following ids for @Canoe_Glider : 1631\n",
      "Getting Following ids of @JasminMartino\n",
      "Fetched number of following ids for @JasminMartino : 2319\n",
      "Getting Following ids of @MakimuraYusaku\n",
      "Fetched number of following ids for @MakimuraYusaku : 2054\n",
      "Getting Following ids of @AncestralApoth\n"
     ]
    },
    {
     "name": "stderr",
     "output_type": "stream",
     "text": [
      "Rate limit reached. Sleeping for: 664\n"
     ]
    },
    {
     "name": "stdout",
     "output_type": "stream",
     "text": [
      "Fetched number of following ids for @AncestralApoth : 467\n",
      "Getting Following ids of @richaelfaithful\n",
      "Fetched number of following ids for @richaelfaithful : 125\n",
      "Getting Following ids of @_CSHD\n",
      "Fetched number of following ids for @_CSHD : 1042\n",
      "Getting Following ids of @jrickerthall\n",
      "Fetched number of following ids for @jrickerthall : 544\n",
      "Getting Following ids of @natural4healing\n",
      "Fetched number of following ids for @natural4healing : 2252\n",
      "Getting Following ids of TNaturalHealing\n",
      "Fetched number of following ids for TNaturalHealing : 1132\n",
      "Getting Following ids of @Chemtrails_UK\n",
      "Fetched number of following ids for @Chemtrails_UK : 2034\n",
      "Getting Following ids of @OpChemtrails\n",
      "Fetched number of following ids for @OpChemtrails : 1651\n",
      "Getting Following ids of @wanderinganimal\n",
      "Fetched number of following ids for @wanderinganimal : 3836\n",
      "Getting Following ids of @CAchemtrails\n",
      "Fetched number of following ids for @CAchemtrails : 498\n",
      "Getting Following ids of @GlobalCHEMTRAIL\n",
      "Fetched number of following ids for @GlobalCHEMTRAIL : 139\n",
      "Getting Following ids of @CHEMTRAILSMN\n",
      "Fetched number of following ids for @CHEMTRAILSMN : 1080\n",
      "Getting Following ids of @Vomit911\n",
      "Fetched number of following ids for @Vomit911 : 731\n",
      "Getting Following ids of @LookTheFuckUp_\n",
      "Fetched number of following ids for @LookTheFuckUp_ : 575\n",
      "Getting Following ids of @hidenhand1\n",
      "Fetched number of following ids for @hidenhand1 : 25\n",
      "Getting Following ids of @ChemtrailsNews\n"
     ]
    },
    {
     "name": "stderr",
     "output_type": "stream",
     "text": [
      "Rate limit reached. Sleeping for: 644\n"
     ]
    },
    {
     "name": "stdout",
     "output_type": "stream",
     "text": [
      "Fetched number of following ids for @ChemtrailsNews : 1389\n",
      "Getting Following ids of @onthechemtrail\n",
      "Fetched number of following ids for @onthechemtrail : 1585\n",
      "Getting Following ids of @octoberxswimmer\n",
      "Fetched number of following ids for @octoberxswimmer : 891\n",
      "Getting Following ids of @SydneyChemtrail\n",
      "Fetched number of following ids for @SydneyChemtrail : 129\n",
      "[{'code': 63, 'message': 'User has been suspended.'}]\n",
      "Getting Following ids of @5gAwareness\n",
      "Fetched number of following ids for @5gAwareness : 62\n",
      "Getting Following ids of @5gDangers\n",
      "Fetched number of following ids for @5gDangers : 112\n",
      "[{'code': 50, 'message': 'User not found.'}]\n",
      "Getting Following ids of @5GAwarenessNow\n",
      "Fetched number of following ids for @5GAwarenessNow : 156\n",
      "Getting Following ids of @radiation_uk\n",
      "Fetched number of following ids for @radiation_uk : 301\n",
      "Getting Following ids of @Stop5G\n",
      "Fetched number of following ids for @Stop5G : 934\n",
      "Getting Following ids of @YouthAgainst5G\n",
      "Fetched number of following ids for @YouthAgainst5G : 2003\n",
      "Getting Following ids of @ehs_symptoms\n",
      "Fetched number of following ids for @ehs_symptoms : 71\n",
      "Getting Following ids of @EMFRebel\n",
      "Fetched number of following ids for @EMFRebel : 873\n",
      "Getting Following ids of @AlternMedicine1\n",
      "Fetched number of following ids for @AlternMedicine1 : 1011\n",
      "Getting Following ids of @hhnews\n",
      "Fetched number of following ids for @hhnews : 2118\n",
      "Getting Following ids of @KimShute_NY\n",
      "Fetched number of following ids for @KimShute_NY : 697\n",
      "Getting Following ids of @MyLindseyMcKeon\n"
     ]
    },
    {
     "name": "stderr",
     "output_type": "stream",
     "text": [
      "Rate limit reached. Sleeping for: 728\n"
     ]
    },
    {
     "name": "stdout",
     "output_type": "stream",
     "text": [
      "Fetched number of following ids for @MyLindseyMcKeon : 231\n",
      "Getting Following ids of @AMGuide\n",
      "Fetched number of following ids for @AMGuide : 831\n",
      "Getting Following ids of @nickworldclass\n",
      "Fetched number of following ids for @nickworldclass : 518\n",
      "Getting Following ids of @radzzzzster\n",
      "Fetched number of following ids for @radzzzzster : 1014\n",
      "Getting Following ids of @WorldwideHealth\n",
      "Fetched number of following ids for @WorldwideHealth : 8992\n",
      "Getting Following ids of @VitalityOnline\n",
      "Fetched number of following ids for @VitalityOnline : 804\n",
      "Getting Following ids of @laurencette\n",
      "Fetched number of following ids for @laurencette : 681\n",
      "Getting Following ids of @DrSamBenjamin\n",
      "Not authorized.\n",
      "Fetched number of following ids for @DrSamBenjamin : 0\n",
      "Getting Following ids of @riteaid\n",
      "Fetched number of following ids for @riteaid : 2454\n",
      "Getting Following ids of @KenzoAmariyo\n",
      "Fetched number of following ids for @KenzoAmariyo : 278\n",
      "Getting Following ids of @wddty\n",
      "Fetched number of following ids for @wddty : 2987\n",
      "Getting Following ids of @PdxTreehouse\n",
      "Fetched number of following ids for @PdxTreehouse : 77\n",
      "Getting Following ids of @MedicineAlt\n",
      "Fetched number of following ids for @MedicineAlt : 2312\n",
      "Getting Following ids of @proventreatment\n",
      "Fetched number of following ids for @proventreatment : 2164\n",
      "Getting Following ids of @naturalhealthbl\n"
     ]
    },
    {
     "name": "stderr",
     "output_type": "stream",
     "text": [
      "Rate limit reached. Sleeping for: 577\n"
     ]
    },
    {
     "name": "stdout",
     "output_type": "stream",
     "text": [
      "Fetched number of following ids for @naturalhealthbl : 1722\n",
      "Getting Following ids of @Anastas32451695\n",
      "Fetched number of following ids for @Anastas32451695 : 1667\n",
      "Failed to send request: HTTPSConnectionPool(host='api.twitter.com', port=443): Read timed out. (read timeout=60)\n",
      "Something went wrong, skipping...\n",
      "Getting Following ids of @MargoCatholic\n",
      "Fetched number of following ids for @MargoCatholic : 474\n",
      "Getting Following ids of @STOP5G_STOP5G\n",
      "Fetched number of following ids for @STOP5G_STOP5G : 521\n",
      "Getting Following ids of @VAware1986\n",
      "Fetched number of following ids for @VAware1986 : 3240\n",
      "Getting Following ids of @HighWireTalk\n",
      "Fetched number of following ids for @HighWireTalk : 158\n",
      "[{'code': 63, 'message': 'User has been suspended.'}]\n",
      "Getting Following ids of @JakeMaverick5\n",
      "Fetched number of following ids for @JakeMaverick5 : 305\n",
      "Getting Following ids of @forcedanarchy\n",
      "Fetched number of following ids for @forcedanarchy : 1831\n",
      "Getting Following ids of @heru41\n",
      "Fetched number of following ids for @heru41 : 1370\n",
      "Getting Following ids of @LaurenceBacchus\n",
      "Fetched number of following ids for @LaurenceBacchus : 1082\n",
      "Getting Following ids of @VaccineEdLeague\n",
      "Fetched number of following ids for @VaccineEdLeague : 154\n",
      "Getting Following ids of @yattypat\n",
      "Fetched number of following ids for @yattypat : 3335\n",
      "Getting Following ids of @keepit1002018\n",
      "Fetched number of following ids for @keepit1002018 : 4225\n",
      "[{'code': 63, 'message': 'User has been suspended.'}]\n",
      "[{'code': 63, 'message': 'User has been suspended.'}]\n",
      "Getting Following ids of @HegKong\n",
      "Fetched number of following ids for @HegKong : 4416\n",
      "Getting Following ids of @truthvaxwarrior\n",
      "Fetched number of following ids for @truthvaxwarrior : 751\n",
      "[{'code': 50, 'message': 'User not found.'}]\n",
      "Getting Following ids of @nocompulsoryvac\n"
     ]
    },
    {
     "name": "stderr",
     "output_type": "stream",
     "text": [
      "Rate limit reached. Sleeping for: 478\n"
     ]
    },
    {
     "name": "stdout",
     "output_type": "stream",
     "text": [
      "Fetched number of following ids for @nocompulsoryvac : 9768\n",
      "Getting Following ids of @Novaccineforce\n",
      "Fetched number of following ids for @Novaccineforce : 416\n",
      "Getting Following ids of @circleofmamas\n",
      "Fetched number of following ids for @circleofmamas : 526\n",
      "Getting Following ids of @VaccineResist\n",
      "Fetched number of following ids for @VaccineResist : 59\n",
      "[{'code': 63, 'message': 'User has been suspended.'}]\n",
      "Getting Following ids of @US4MF\n",
      "Fetched number of following ids for @US4MF : 785\n",
      "Getting Following ids of @OrganicConsumer\n",
      "Fetched number of following ids for @OrganicConsumer : 2326\n",
      "Getting Following ids of @GMOFreeUSA\n",
      "Fetched number of following ids for @GMOFreeUSA : 14512\n",
      "Getting Following ids of @vaxxed2\n",
      "Fetched number of following ids for @vaxxed2 : 20\n",
      "Getting Following ids of @CaliVaxChoice\n",
      "Fetched number of following ids for @CaliVaxChoice : 1809\n",
      "Getting Following ids of @drsimonegold\n",
      "Fetched number of following ids for @drsimonegold : 116\n",
      "Getting Following ids of @ritamollerpalma\n",
      "Fetched number of following ids for @ritamollerpalma : 1177\n",
      "Getting Following ids of @forrestmaready\n",
      "Fetched number of following ids for @forrestmaready : 448\n",
      "Getting Following ids of @lifebiomedguru\n"
     ]
    },
    {
     "name": "stderr",
     "output_type": "stream",
     "text": [
      "Rate limit reached. Sleeping for: 428\n"
     ]
    },
    {
     "name": "stdout",
     "output_type": "stream",
     "text": [
      "Fetched number of following ids for @lifebiomedguru : 4618\n"
     ]
    }
   ],
   "source": [
    "save_folder = r'E:\\Twitter_data\\AUTOMATED_ITERATION_3\\base_anti_hubs'\n",
    "get_data(save_folder, anti_accounts)"
   ]
  },
  {
   "cell_type": "code",
   "execution_count": 12,
   "id": "cfcee0a1",
   "metadata": {
    "scrolled": true
   },
   "outputs": [
    {
     "name": "stdout",
     "output_type": "stream",
     "text": [
      "Getting Following ids of Chemtrails_Uk\n",
      "Fetched number of following ids for Chemtrails_Uk : 2034\n",
      "Getting Following ids of jonrappoport\n",
      "Fetched number of following ids for jonrappoport : 14423\n",
      "Getting Following ids of ChildrensHD\n",
      "Fetched number of following ids for ChildrensHD : 637\n",
      "Getting Following ids of drbloem\n"
     ]
    },
    {
     "name": "stderr",
     "output_type": "stream",
     "text": [
      "Rate limit reached. Sleeping for: 624\n"
     ]
    },
    {
     "name": "stdout",
     "output_type": "stream",
     "text": [
      "Fetched number of following ids for drbloem : 102720\n",
      "Getting Following ids of DrJudyAMikovits\n",
      "Fetched number of following ids for DrJudyAMikovits : 38\n",
      "Getting Following ids of LaLaRueFrench75\n",
      "Fetched number of following ids for LaLaRueFrench75 : 30347\n",
      "Getting Following ids of PrisonPlanet\n",
      "Fetched number of following ids for PrisonPlanet : 804\n",
      "Getting Following ids of RobSchneider\n",
      "Fetched number of following ids for RobSchneider : 511\n",
      "Getting Following ids of IngrahamAngle\n",
      "Fetched number of following ids for IngrahamAngle : 435\n",
      "Getting Following ids of NotPorC\n"
     ]
    },
    {
     "name": "stderr",
     "output_type": "stream",
     "text": [
      "Rate limit reached. Sleeping for: 456\n"
     ]
    },
    {
     "name": "stdout",
     "output_type": "stream",
     "text": [
      "Fetched number of following ids for NotPorC : 34399\n",
      "Getting Following ids of rsbellmedia\n",
      "Fetched number of following ids for rsbellmedia : 2830\n",
      "Getting Following ids of JeffereyJaxen\n",
      "Fetched number of following ids for JeffereyJaxen : 683\n",
      "Getting Following ids of CarlDevitt\n",
      "Fetched number of following ids for CarlDevitt : 2268\n",
      "Getting Following ids of picphysicians\n",
      "Fetched number of following ids for picphysicians : 324\n",
      "Getting Following ids of Homestead4Honey\n"
     ]
    },
    {
     "name": "stderr",
     "output_type": "stream",
     "text": [
      "Rate limit reached. Sleeping for: 191\n"
     ]
    },
    {
     "name": "stdout",
     "output_type": "stream",
     "text": [
      "Fetched number of following ids for Homestead4Honey : 61547\n",
      "Getting Following ids of DavidWolfe\n",
      "Fetched number of following ids for DavidWolfe : 765\n",
      "Getting Following ids of Cernovich\n",
      "Fetched number of following ids for Cernovich : 3273\n",
      "[{'code': 63, 'message': 'User has been suspended.'}]\n",
      "Getting Following ids of Chemtrails_Uk\n",
      "Fetched number of following ids for Chemtrails_Uk : 2034\n",
      "Getting Following ids of WeAreWakinUp\n",
      "Fetched number of following ids for WeAreWakinUp : 6394\n",
      "Getting Following ids of 82jsmith\n",
      "Fetched number of following ids for 82jsmith : 2837\n",
      "Getting Following ids of jeranism\n",
      "Fetched number of following ids for jeranism : 2587\n",
      "Getting Following ids of FEcourious\n",
      "Fetched number of following ids for FEcourious : 2959\n",
      "Getting Following ids of ItsFlatFolks\n",
      "Fetched number of following ids for ItsFlatFolks : 600\n",
      "Getting Following ids of UnlearningLies\n",
      "Fetched number of following ids for UnlearningLies : 2700\n",
      "[{'code': 63, 'message': 'User has been suspended.'}]\n",
      "Getting Following ids of screwnasapunks\n",
      "Fetched number of following ids for screwnasapunks : 1034\n",
      "Getting Following ids of faith4truths\n",
      "Fetched number of following ids for faith4truths : 602\n",
      "Getting Following ids of NotPorC\n"
     ]
    },
    {
     "name": "stderr",
     "output_type": "stream",
     "text": [
      "Rate limit reached. Sleeping for: 622\n"
     ]
    },
    {
     "name": "stdout",
     "output_type": "stream",
     "text": [
      "Fetched number of following ids for NotPorC : 34399\n",
      "Getting Following ids of apiscesdream\n",
      "Fetched number of following ids for apiscesdream : 704\n",
      "[{'code': 50, 'message': 'User not found.'}]\n",
      "Getting Following ids of cuttingchains\n",
      "Fetched number of following ids for cuttingchains : 2457\n",
      "Getting Following ids of ParisUsa333\n",
      "Fetched number of following ids for ParisUsa333 : 1866\n",
      "Getting Following ids of LeeZilch\n",
      "Fetched number of following ids for LeeZilch : 352\n",
      "[{'code': 50, 'message': 'User not found.'}]\n",
      "Getting Following ids of FlatEarthFreddy\n",
      "Fetched number of following ids for FlatEarthFreddy : 724\n",
      "Getting Following ids of MaxisicalG\n",
      "Fetched number of following ids for MaxisicalG : 1279\n",
      "Getting Following ids of NikonP1111\n",
      "Not authorized.\n",
      "Fetched number of following ids for NikonP1111 : 0\n",
      "[{'code': 50, 'message': 'User not found.'}]\n",
      "Getting Following ids of dmarble1\n",
      "Fetched number of following ids for dmarble1 : 2601\n",
      "[{'code': 63, 'message': 'User has been suspended.'}]\n",
      "Getting Following ids of zorommot\n",
      "Fetched number of following ids for zorommot : 424\n",
      "Getting Following ids of EarthIsFlat1\n",
      "Fetched number of following ids for EarthIsFlat1 : 252\n",
      "Getting Following ids of flatearthling\n",
      "Fetched number of following ids for flatearthling : 504\n",
      "Getting Following ids of Astroidhalo774\n",
      "Fetched number of following ids for Astroidhalo774 : 3509\n",
      "Getting Following ids of authoralexray\n",
      "Fetched number of following ids for authoralexray : 3445\n",
      "Getting Following ids of RyaanFEP\n",
      "Fetched number of following ids for RyaanFEP : 428\n",
      "Getting Following ids of SlayckPhoenix\n"
     ]
    },
    {
     "name": "stderr",
     "output_type": "stream",
     "text": [
      "Rate limit reached. Sleeping for: 174\n"
     ]
    },
    {
     "name": "stdout",
     "output_type": "stream",
     "text": [
      "Fetched number of following ids for SlayckPhoenix : 513\n",
      "Getting Following ids of earthisflat87\n",
      "Fetched number of following ids for earthisflat87 : 301\n",
      "Getting Following ids of SeekingTruth___\n",
      "Fetched number of following ids for SeekingTruth___ : 184\n",
      "Getting Following ids of zeteticmisophia\n",
      "Fetched number of following ids for zeteticmisophia : 779\n",
      "Getting Following ids of nocurvature\n",
      "Fetched number of following ids for nocurvature : 502\n",
      "Getting Following ids of barmanamar1976\n",
      "Fetched number of following ids for barmanamar1976 : 2942\n",
      "Getting Following ids of tsnurds\n",
      "Fetched number of following ids for tsnurds : 3229\n",
      "Getting Following ids of RichardReichle\n",
      "Fetched number of following ids for RichardReichle : 3216\n",
      "Getting Following ids of Tierraplana6\n",
      "Fetched number of following ids for Tierraplana6 : 1286\n"
     ]
    }
   ],
   "source": [
    "save_folder = r'E:\\Twitter_data\\AUTOMATED_ITERATION_3\\hand_picked_base_anti_hubs'\n",
    "get_data(save_folder, hand_picked_new_anti_hubs)"
   ]
  },
  {
   "cell_type": "code",
   "execution_count": 13,
   "id": "366ea859",
   "metadata": {
    "scrolled": true
   },
   "outputs": [
    {
     "name": "stdout",
     "output_type": "stream",
     "text": [
      "Getting Following ids of @neiltyson\n",
      "Fetched number of following ids for @neiltyson : 39\n",
      "Getting Following ids of @deborahblum\n",
      "Fetched number of following ids for @deborahblum : 965\n",
      "Getting Following ids of @RebeccaSkloot\n",
      "Fetched number of following ids for @RebeccaSkloot : 1809\n",
      "Getting Following ids of @RichardWiseman\n",
      "Fetched number of following ids for @RichardWiseman : 290\n",
      "Getting Following ids of @vaughanbell\n",
      "Fetched number of following ids for @vaughanbell : 2091\n",
      "Getting Following ids of @neuroconscience\n"
     ]
    },
    {
     "name": "stderr",
     "output_type": "stream",
     "text": [
      "Rate limit reached. Sleeping for: 658\n"
     ]
    },
    {
     "name": "stdout",
     "output_type": "stream",
     "text": [
      "Fetched number of following ids for @neuroconscience : 5062\n",
      "[{'message': 'Over capacity', 'code': 130}]\n",
      "Something went wrong, skipping...\n",
      "Getting Following ids of @edyong209\n",
      "Fetched number of following ids for @edyong209 : 1939\n",
      "Getting Following ids of @ProfBrianCox\n",
      "Fetched number of following ids for @ProfBrianCox : 954\n",
      "Getting Following ids of @RichardDawkins\n",
      "Fetched number of following ids for @RichardDawkins : 360\n",
      "Getting Following ids of @bengoldacre\n",
      "Fetched number of following ids for @bengoldacre : 3387\n",
      "Getting Following ids of @BadAstronomer\n",
      "Fetched number of following ids for @BadAstronomer : 500\n",
      "Getting Following ids of @michiokaku\n",
      "Fetched number of following ids for @michiokaku : 51\n",
      "Getting Following ids of @SamHarrisOrg\n",
      "Fetched number of following ids for @SamHarrisOrg : 662\n",
      "Getting Following ids of @HansRosling\n",
      "Fetched number of following ids for @HansRosling : 166\n",
      "Getting Following ids of @timberners_lee\n",
      "Fetched number of following ids for @timberners_lee : 693\n",
      "Getting Following ids of @pzmyers\n",
      "Fetched number of following ids for @pzmyers : 790\n",
      "Getting Following ids of @sapinker\n",
      "Fetched number of following ids for @sapinker : 75\n",
      "Getting Following ids of @LKrauss1\n",
      "Fetched number of following ids for @LKrauss1 : 156\n",
      "Getting Following ids of @Atul_Gawande\n",
      "Fetched number of following ids for @Atul_Gawande : 576\n",
      "Getting Following ids of @OliverSacks\n",
      "Fetched number of following ids for @OliverSacks : 558\n",
      "Getting Following ids of @danariely\n"
     ]
    },
    {
     "name": "stderr",
     "output_type": "stream",
     "text": [
      "Rate limit reached. Sleeping for: 710\n"
     ]
    },
    {
     "name": "stdout",
     "output_type": "stream",
     "text": [
      "Fetched number of following ids for @danariely : 7\n",
      "Getting Following ids of @EricTopol\n",
      "Fetched number of following ids for @EricTopol : 542\n",
      "Getting Following ids of @bgreene\n",
      "Fetched number of following ids for @bgreene : 27\n",
      "Getting Following ids of @MarcusduSautoy\n",
      "Fetched number of following ids for @MarcusduSautoy : 398\n",
      "[{'message': 'Over capacity', 'code': 130}]\n",
      "Something went wrong, skipping...\n",
      "Getting Following ids of @seanmcarroll\n",
      "Fetched number of following ids for @seanmcarroll : 456\n",
      "Getting Following ids of @ProfRWinston\n",
      "Fetched number of following ids for @ProfRWinston : 49\n",
      "Getting Following ids of @RandomSpaceFact\n",
      "Fetched number of following ids for @RandomSpaceFact : 214\n",
      "Getting Following ids of @carolynporco\n",
      "Fetched number of following ids for @carolynporco : 464\n",
      "Getting Following ids of @SebastianThrun\n",
      "Fetched number of following ids for @SebastianThrun : 16\n",
      "Getting Following ids of @phylogenomics\n",
      "Fetched number of following ids for @phylogenomics : 10665\n",
      "Getting Following ids of @JCVenter\n",
      "Fetched number of following ids for @JCVenter : 334\n",
      "Getting Following ids of @orbitingfrog\n",
      "Fetched number of following ids for @orbitingfrog : 632\n",
      "Getting Following ids of @MichaelEMann\n",
      "Fetched number of following ids for @MichaelEMann : 1610\n",
      "Getting Following ids of @kinggary\n"
     ]
    },
    {
     "name": "stderr",
     "output_type": "stream",
     "text": [
      "Rate limit reached. Sleeping for: 708\n"
     ]
    },
    {
     "name": "stdout",
     "output_type": "stream",
     "text": [
      "Fetched number of following ids for @kinggary : 8424\n",
      "Getting Following ids of @plutokiller\n",
      "Fetched number of following ids for @plutokiller : 92\n",
      "Getting Following ids of @starstryder\n",
      "Fetched number of following ids for @starstryder : 1150\n",
      "[{'code': 63, 'message': 'User has been suspended.'}]\n",
      "Getting Following ids of @DanTGilbert\n",
      "Fetched number of following ids for @DanTGilbert : 192\n",
      "Getting Following ids of @danlevitin\n",
      "Fetched number of following ids for @danlevitin : 104\n",
      "Getting Following ids of @2020science\n",
      "Fetched number of following ids for @2020science : 3509\n",
      "Getting Following ids of @paulbloomatyale\n",
      "Fetched number of following ids for @paulbloomatyale : 562\n",
      "Getting Following ids of @social_brains\n",
      "Fetched number of following ids for @social_brains : 438\n",
      "Getting Following ids of @SethShostak\n",
      "Fetched number of following ids for @SethShostak : 21\n",
      "Getting Following ids of @dgmacarthur\n",
      "Fetched number of following ids for @dgmacarthur : 1940\n",
      "Getting Following ids of @JohnAllenPaulos\n",
      "Fetched number of following ids for @JohnAllenPaulos : 482\n",
      "Getting Following ids of @DrVes\n",
      "Fetched number of following ids for @DrVes : 110\n",
      "Getting Following ids of @sbaroncohen\n",
      "Fetched number of following ids for @sbaroncohen : 146\n",
      "Getting Following ids of @AmyMainzer\n",
      "Fetched number of following ids for @AmyMainzer : 523\n",
      "Getting Following ids of @LabSpaces\n"
     ]
    },
    {
     "name": "stderr",
     "output_type": "stream",
     "text": [
      "Rate limit reached. Sleeping for: 685\n"
     ]
    },
    {
     "name": "stdout",
     "output_type": "stream",
     "text": [
      "Fetched number of following ids for @LabSpaces : 4782\n",
      "Getting Following ids of @kejames\n",
      "Fetched number of following ids for @kejames : 3499\n",
      "Getting Following ids of @mbeisen\n",
      "Fetched number of following ids for @mbeisen : 14366\n",
      "Getting Following ids of @neuroconscience\n",
      "Fetched number of following ids for @neuroconscience : 5062\n"
     ]
    }
   ],
   "source": [
    "save_folder = r'E:\\Twitter_data\\AUTOMATED_ITERATION_3\\base_pro_hubs'\n",
    "get_data(save_folder, pro_accounts)"
   ]
  },
  {
   "cell_type": "code",
   "execution_count": 14,
   "id": "1deb4a11",
   "metadata": {
    "scrolled": true
   },
   "outputs": [
    {
     "name": "stdout",
     "output_type": "stream",
     "text": [
      "Getting Following ids of davideagleman\n",
      "Fetched number of following ids for davideagleman : 1239\n",
      "Getting Following ids of AstroKatie\n",
      "Fetched number of following ids for AstroKatie : 3557\n",
      "Getting Following ids of marynmck\n",
      "Fetched number of following ids for marynmck : 5106\n",
      "Getting Following ids of MarsCuriosity\n",
      "Fetched number of following ids for MarsCuriosity : 172\n",
      "Getting Following ids of mdichristina\n",
      "Fetched number of following ids for mdichristina : 2538\n",
      "Getting Following ids of BillGates\n",
      "Fetched number of following ids for BillGates : 409\n",
      "Getting Following ids of SpaceX\n",
      "Fetched number of following ids for SpaceX : 100\n",
      "Getting Following ids of elonmusk\n"
     ]
    },
    {
     "name": "stderr",
     "output_type": "stream",
     "text": [
      "Rate limit reached. Sleeping for: 390\n"
     ]
    },
    {
     "name": "stdout",
     "output_type": "stream",
     "text": [
      "Fetched number of following ids for elonmusk : 111\n",
      "Getting Following ids of scifri\n",
      "Fetched number of following ids for scifri : 16590\n",
      "Getting Following ids of chriscmooney\n",
      "Fetched number of following ids for chriscmooney : 4136\n",
      "Getting Following ids of ScienceMagazine\n",
      "Fetched number of following ids for ScienceMagazine : 493\n",
      "Getting Following ids of bmaher\n",
      "Fetched number of following ids for bmaher : 1537\n",
      "Getting Following ids of rebeccawatson\n",
      "Fetched number of following ids for rebeccawatson : 1059\n",
      "Getting Following ids of BeeBrookshire\n",
      "Fetched number of following ids for BeeBrookshire : 2398\n",
      "Getting Following ids of TEDchris\n",
      "Fetched number of following ids for TEDchris : 855\n",
      "Getting Following ids of stevenstrogatz\n",
      "Fetched number of following ids for stevenstrogatz : 2569\n",
      "Getting Following ids of NAChristakis\n",
      "Fetched number of following ids for NAChristakis : 758\n",
      "Getting Following ids of edge\n",
      "Fetched number of following ids for edge : 137\n",
      "Getting Following ids of maggiekb1\n",
      "Fetched number of following ids for maggiekb1 : 2302\n",
      "Getting Following ids of matthewherper\n"
     ]
    },
    {
     "name": "stderr",
     "output_type": "stream",
     "text": [
      "Rate limit reached. Sleeping for: 482\n"
     ]
    },
    {
     "name": "stdout",
     "output_type": "stream",
     "text": [
      "Fetched number of following ids for matthewherper : 3006\n",
      "Getting Following ids of BillNye\n",
      "Fetched number of following ids for BillNye : 133\n",
      "Getting Following ids of elakdawalla\n",
      "Fetched number of following ids for elakdawalla : 2819\n",
      "Getting Following ids of DNLee5\n",
      "Fetched number of following ids for DNLee5 : 8470\n",
      "Getting Following ids of aetiology\n",
      "Fetched number of following ids for aetiology : 5359\n",
      "Getting Following ids of alexismadrigal\n",
      "Fetched number of following ids for alexismadrigal : 5675\n",
      "Getting Following ids of carlzimmer\n",
      "Fetched number of following ids for carlzimmer : 2322\n",
      "Getting Following ids of danieldennett\n",
      "Fetched number of following ids for danieldennett : 70\n",
      "Getting Following ids of JenLucPiquant\n",
      "Fetched number of following ids for JenLucPiquant : 876\n",
      "Getting Following ids of utafrith\n",
      "Fetched number of following ids for utafrith : 350\n",
      "Getting Following ids of michaelshermer\n",
      "Fetched number of following ids for michaelshermer : 199\n",
      "Getting Following ids of sciencegoddess\n"
     ]
    },
    {
     "name": "stderr",
     "output_type": "stream",
     "text": [
      "Rate limit reached. Sleeping for: 532\n"
     ]
    },
    {
     "name": "stdout",
     "output_type": "stream",
     "text": [
      "Fetched number of following ids for sciencegoddess : 5559\n",
      "Getting Following ids of NYTScience\n",
      "Fetched number of following ids for NYTScience : 463\n",
      "Getting Following ids of KamalaHarris\n",
      "Fetched number of following ids for KamalaHarris : 732\n",
      "Getting Following ids of sciam\n",
      "Fetched number of following ids for sciam : 780\n",
      "Getting Following ids of AdamRutherford\n",
      "Fetched number of following ids for AdamRutherford : 2167\n",
      "Getting Following ids of CT_Bergstrom\n",
      "Fetched number of following ids for CT_Bergstrom : 2323\n",
      "Getting Following ids of zeynep\n",
      "Fetched number of following ids for zeynep : 795\n",
      "Getting Following ids of virginiahughes\n",
      "Fetched number of following ids for virginiahughes : 2832\n",
      "Getting Following ids of David_Dobbs\n",
      "Fetched number of following ids for David_Dobbs : 1980\n",
      "Getting Following ids of NASA\n",
      "Fetched number of following ids for NASA : 182\n",
      "Getting Following ids of drkiki\n",
      "Fetched number of following ids for drkiki : 6727\n",
      "Getting Following ids of NateSilver538\n",
      "Fetched number of following ids for NateSilver538 : 1517\n",
      "Getting Following ids of mollycrockett\n",
      "Fetched number of following ids for mollycrockett : 2239\n",
      "Getting Following ids of leonidkruglyak\n",
      "Fetched number of following ids for leonidkruglyak : 1308\n",
      "Getting Following ids of amy_harmon\n"
     ]
    },
    {
     "name": "stderr",
     "output_type": "stream",
     "text": [
      "Rate limit reached. Sleeping for: 549\n"
     ]
    },
    {
     "name": "stdout",
     "output_type": "stream",
     "text": [
      "Fetched number of following ids for amy_harmon : 12878\n"
     ]
    }
   ],
   "source": [
    "save_folder = r'E:\\Twitter_data\\AUTOMATED_ITERATION_3\\hand_picked_base_pro_hubs'\n",
    "get_data(save_folder, hand_picked_new_pro_hubs)"
   ]
  },
  {
   "cell_type": "code",
   "execution_count": null,
   "id": "6e196076",
   "metadata": {},
   "outputs": [],
   "source": []
  },
  {
   "cell_type": "code",
   "execution_count": null,
   "id": "3a8ea981",
   "metadata": {},
   "outputs": [],
   "source": []
  },
  {
   "cell_type": "code",
   "execution_count": null,
   "id": "8f9b1267",
   "metadata": {},
   "outputs": [],
   "source": []
  },
  {
   "cell_type": "code",
   "execution_count": null,
   "id": "5df8c6ae",
   "metadata": {},
   "outputs": [],
   "source": [
    "json_path = r'C:\\Users\\psrub\\Documents\\Python\\Twitter\\pro_scientific\\@neiltyson\\following.json'\n",
    "following_df = pd.read_json(json_path)\n",
    "following_df['target'] = following_df['ID']\n",
    "following_df['source'] = 123123\n",
    "display(following_df)"
   ]
  },
  {
   "cell_type": "code",
   "execution_count": null,
   "id": "8a5948de",
   "metadata": {},
   "outputs": [],
   "source": [
    "frames = []\n",
    "\n",
    "for acc in anti_accounts:\n",
    "    \n",
    "    save_folder = r'C:\\Users\\psrub\\Documents\\Python\\Twitter\\anti_scientific'\n",
    "    save_path = os.path.join(save_folder,acc)\n",
    "\n",
    "    account_json = os.path.join(save_path, 'account.json')\n",
    "    following_json = os.path.join(save_path, 'following.json')\n",
    "    \n",
    "    account_df = pd.read_json(account_json,orient='index')\n",
    "    source_id = account_df.iloc[0][0]\n",
    "    \n",
    "    following_df = pd.read_json(following_json)\n",
    "    following_df['target'] = following_df['ID']\n",
    "    following_df['source'] = source_id\n",
    "    #display(following_df)\n",
    "    frames.append(following_df)\n",
    "    \n",
    "    #df = pd.DataFrame(columns=['source','target'])\n",
    "    #df['target'] = following_df['ID']\n",
    "    #df['source'] = 21639946\n",
    "    #display(df)\n",
    "    \n",
    "#     G = nx.from_pandas_edgelist(following_df, 'source', 'target') \n",
    "#     pos = nx.spring_layout(G)\n",
    "    \n",
    "#     f, ax = plt.subplots(figsize=(10, 10))\n",
    "#     plt.style.use('ggplot')\n",
    "    \n",
    "#     nodes = nx.draw_networkx_nodes(G, pos,alpha=0.8)\n",
    "#     nodes.set_edgecolor('k')\n",
    "#     nx.draw_networkx_labels(G, pos, font_size=8)\n",
    "#     nx.draw_networkx_edges(G, pos, width=1.0, alpha=0.2)\n",
    "\n",
    "    \n",
    "    \n",
    "big_df = pd.concat(frames,ignore_index=True)\n",
    "display(big_df)"
   ]
  },
  {
   "cell_type": "code",
   "execution_count": null,
   "id": "b4d57195",
   "metadata": {},
   "outputs": [],
   "source": []
  },
  {
   "cell_type": "code",
   "execution_count": null,
   "id": "733de268",
   "metadata": {},
   "outputs": [],
   "source": [
    "# GET DATA BY CHUNKS  - CHYBA STARE\n",
    "\n",
    "\n",
    "data = []\n",
    "for i in range(0, len(ids), 100):\n",
    "    try:\n",
    "        chunk = ids[i:i+100]\n",
    "        data.extend(api.lookup_users(user_ids=chunk))\n",
    "        try:\n",
    "                ob = {\n",
    "                        'Follows account': acc,\n",
    "                        'ID':user.id,\n",
    "                        'Screen_Name':user.screen_name,\n",
    "                        'Description': user.description,\n",
    "                        'StatusesCount':user.statuses_count,\n",
    "                        'Follower_Count':user.followers_count,\n",
    "                        'Following_Count':user.friends_count\n",
    "                }\n",
    "                data.append(ob)\n",
    "    except:\n",
    "        import traceback\n",
    "        traceback.print_exc()\n",
    "        print('Something went wrong, skipping...')\n",
    "        \n",
    "        \n",
    "for user in followers:\n",
    "            try:\n",
    "                ob = {\n",
    "                        'Follows account': acc,\n",
    "                        'ID':user.id,\n",
    "                        'Screen_Name':user.screen_name,\n",
    "                        'Description': user.description,\n",
    "                        'StatusesCount':user.statuses_count,\n",
    "                        'Follower_Count':user.followers_count,\n",
    "                        'Following_Count':user.friends_count\n",
    "                }\n",
    "                data.append(ob)\n",
    "\n",
    "            except Exception as ex:\n",
    "                print(ex)\n",
    "                pass"
   ]
  },
  {
   "cell_type": "code",
   "execution_count": null,
   "id": "df678cc0",
   "metadata": {},
   "outputs": [],
   "source": []
  },
  {
   "cell_type": "code",
   "execution_count": null,
   "id": "c20a4b47",
   "metadata": {},
   "outputs": [],
   "source": []
  },
  {
   "cell_type": "code",
   "execution_count": null,
   "id": "5dcda971",
   "metadata": {},
   "outputs": [],
   "source": []
  },
  {
   "cell_type": "code",
   "execution_count": null,
   "id": "4afa0cfe",
   "metadata": {},
   "outputs": [],
   "source": []
  },
  {
   "cell_type": "code",
   "execution_count": null,
   "id": "e50bf104",
   "metadata": {},
   "outputs": [],
   "source": [
    "import csv"
   ]
  },
  {
   "cell_type": "code",
   "execution_count": null,
   "id": "9363d329",
   "metadata": {},
   "outputs": [],
   "source": [
    "## tweets"
   ]
  },
  {
   "cell_type": "code",
   "execution_count": null,
   "id": "93b1351f",
   "metadata": {},
   "outputs": [],
   "source": [
    "alltweets = []"
   ]
  },
  {
   "cell_type": "code",
   "execution_count": null,
   "id": "e128bd98",
   "metadata": {},
   "outputs": [],
   "source": [
    "acc_name = 'FlatEarthRT'"
   ]
  },
  {
   "cell_type": "code",
   "execution_count": null,
   "id": "7b363f9e",
   "metadata": {},
   "outputs": [],
   "source": [
    "new_tweets = api.user_timeline(screen_name=acc_name, count=200, include_rts=False, tweet_mode='extended')"
   ]
  },
  {
   "cell_type": "code",
   "execution_count": null,
   "id": "153652b7",
   "metadata": {},
   "outputs": [],
   "source": [
    "new_tweets"
   ]
  },
  {
   "cell_type": "code",
   "execution_count": null,
   "id": "c1353a40",
   "metadata": {},
   "outputs": [],
   "source": [
    "alltweets.extend(new_tweets)"
   ]
  },
  {
   "cell_type": "code",
   "execution_count": null,
   "id": "43f1fbd1",
   "metadata": {},
   "outputs": [],
   "source": [
    "oldest = alltweets[-1].id - 1"
   ]
  },
  {
   "cell_type": "code",
   "execution_count": null,
   "id": "7310beee",
   "metadata": {},
   "outputs": [],
   "source": [
    "while len(new_tweets) > 0:\n",
    "    print(f\"getting tweets before {oldest}\")\n",
    "\n",
    "    #all subsiquent requests use the max_id param to prevent duplicates\n",
    "    new_tweets = api.user_timeline(screen_name = screen_name, count=200, max_id=oldest, tweet_mode='extended')\n",
    "\n",
    "    #save most recent tweets\n",
    "    alltweets.extend(new_tweets)\n",
    "\n",
    "    #update the id of the oldest tweet less one\n",
    "    oldest = alltweets[-1].id - 1\n",
    "\n",
    "    print(f\"...{len(alltweets)} tweets downloaded so far\")"
   ]
  },
  {
   "cell_type": "code",
   "execution_count": null,
   "id": "886a2ed4",
   "metadata": {},
   "outputs": [],
   "source": [
    "alltweets[0].text"
   ]
  },
  {
   "cell_type": "code",
   "execution_count": null,
   "id": "96a3375f",
   "metadata": {},
   "outputs": [],
   "source": [
    "len(alltweets)"
   ]
  },
  {
   "cell_type": "code",
   "execution_count": null,
   "id": "e61748d4",
   "metadata": {},
   "outputs": [],
   "source": [
    "outtweets = [[tweet.id_str, tweet.created_at, tweet.text] for tweet in alltweets]"
   ]
  },
  {
   "cell_type": "code",
   "execution_count": null,
   "id": "44ea5bb9",
   "metadata": {},
   "outputs": [],
   "source": [
    "with open(f'new_{screen_name}_tweets.csv', 'w', encoding='utf-8') as f:\n",
    "    writer = csv.writer(f)\n",
    "    writer.writerow([\"id\",\"created_at\",\"text\"])\n",
    "    writer.writerows(outtweets)"
   ]
  },
  {
   "cell_type": "code",
   "execution_count": null,
   "id": "f5c13345",
   "metadata": {},
   "outputs": [],
   "source": [
    "tweets = api.user_timeline(screen_name = screen_name, count=200, tweet_mode='extended')"
   ]
  },
  {
   "cell_type": "code",
   "execution_count": null,
   "id": "a53208a3",
   "metadata": {},
   "outputs": [],
   "source": [
    "len(tweets)"
   ]
  },
  {
   "cell_type": "code",
   "execution_count": null,
   "id": "923fea48",
   "metadata": {},
   "outputs": [],
   "source": [
    "outtweets = [[tweet.id_str, \n",
    "              tweet.created_at, \n",
    "              tweet.favorite_count, \n",
    "              tweet.retweet_count, \n",
    "              tweet.full_text.encode(\"utf-8\").decode(\"utf-8\")] \n",
    "             for idx, tweet in enumerate(tweets)]\n",
    "df = pd.DataFrame(outtweets,columns=[\"id\",\"created_at\",\"favorite_count\",\"retweet_count\", \"text\"])"
   ]
  },
  {
   "cell_type": "code",
   "execution_count": null,
   "id": "330ae231",
   "metadata": {},
   "outputs": [],
   "source": [
    "df"
   ]
  },
  {
   "cell_type": "code",
   "execution_count": null,
   "id": "63093ac7",
   "metadata": {},
   "outputs": [],
   "source": [
    "def cleanTxt(text):\n",
    "    text=re.sub(r'@[A-Za-z0-9]+','',text) ## removing @ mention\n",
    "    text=re.sub(r'#','',text)             ## removing # symbol\n",
    "    text=re.sub(r'RT[\\s]+','',text)  ## removing RT followed byspace\n",
    " \n",
    "  #df=df[~df.Tweets.str.contains('RT')] --> another way to remove RT\n",
    "    text=re.sub(r'https?:\\/\\/\\S+','',text) ## removing https\n",
    "    return text"
   ]
  },
  {
   "cell_type": "code",
   "execution_count": null,
   "id": "5110082c",
   "metadata": {},
   "outputs": [],
   "source": [
    "df['Tweets']=df['text'].apply(cleanTxt)   ## applying function"
   ]
  },
  {
   "cell_type": "code",
   "execution_count": null,
   "id": "54cff8b1",
   "metadata": {},
   "outputs": [],
   "source": [
    "df.iloc[0].text"
   ]
  },
  {
   "cell_type": "code",
   "execution_count": null,
   "id": "5348e94e",
   "metadata": {},
   "outputs": [],
   "source": [
    "df.iloc[0].Tweets"
   ]
  },
  {
   "cell_type": "code",
   "execution_count": null,
   "id": "7c9d3c22",
   "metadata": {},
   "outputs": [],
   "source": []
  },
  {
   "cell_type": "code",
   "execution_count": null,
   "id": "7fcca78f",
   "metadata": {},
   "outputs": [],
   "source": []
  },
  {
   "cell_type": "code",
   "execution_count": null,
   "id": "4a57f44a",
   "metadata": {},
   "outputs": [],
   "source": [
    "def cleanTxt(text):\n",
    "    text=re.sub(r'@[A-Za-z0-9]+','',text) ## removing @ mention\n",
    "    text=re.sub(r'#','',text)             ## removing # symbol\n",
    "    text=re.sub(r'RT[\\s]+','',text)  ## removing RT followed byspace\n",
    " \n",
    "    text=re.sub(r'https?:\\/\\/\\S+','',text) ## removing https\n",
    "    return text\n",
    "\n",
    "def get_account_tweets(acc_name: str, max_tweets=1000):\n",
    "    \n",
    "    tweets = api.user_timeline(screen_name=acc_name, count=200, include_rts=True, tweet_mode='extended')\n",
    "    all_tweets = []\n",
    "       \n",
    "    if tweets:\n",
    "        all_tweets.extend(tweets)\n",
    "        oldest_id = tweets[-1].id\n",
    "\n",
    "        while len(tweets) > 0 and len(all_tweets) <= max_tweets:\n",
    "            tweets = api.user_timeline(screen_name=acc_name, count=200, include_rts=True, max_id=oldest_id-1, tweet_mode='extended')\n",
    "            all_tweets.extend(tweets)\n",
    "            oldest_id = all_tweets[-1].id\n",
    "            \n",
    "    print(f'Fetched number of tweets for {acc_name} : {len(all_tweets)}')\n",
    "\n",
    "    final_tweets = [[tweet.id_str, tweet.created_at, tweet.favorite_count, tweet.retweet_count, tweet.lang, tweet.full_text.encode(\"utf-8\").decode(\"utf-8\")] \n",
    "             for idx, tweet in enumerate(all_tweets)]\n",
    "    \n",
    "    df = pd.DataFrame(final_tweets,columns=[\"id\",\"created_at\",\"favorite_count\",\"retweet_count\", \"language\", \"text\"])\n",
    "    df['clean_text']=df['text'].apply(cleanTxt)\n",
    "    \n",
    "    return df\n",
    "\n",
    "def get_tweets_for_all_accounts(save_dir, accounts):\n",
    "    \n",
    "    for acc in tqdm(accounts):\n",
    "\n",
    "        save_path = os.path.join(save_dir, acc)\n",
    "        \n",
    "        if not os.path.exists(save_path):\n",
    "            os.mkdir(save_path)\n",
    "            try:\n",
    "                df = get_account_tweets(acc)\n",
    "                df.to_json(os.path.join(save_path, 'tweets.json'))\n",
    "\n",
    "            except tweepy.TweepError as e:\n",
    "                print('Going to sleep: ', e)\n",
    "        else:\n",
    "            continue"
   ]
  },
  {
   "cell_type": "code",
   "execution_count": null,
   "id": "8c612a3b",
   "metadata": {},
   "outputs": [],
   "source": [
    "with open(r'C:\\Users\\psrub\\Documents\\Python\\Twitter\\files\\anti_scientific_accounts.txt', 'r') as f:\n",
    "    anti_accounts = f.read().split(',')\n",
    "    \n",
    "with open(r'C:\\Users\\psrub\\Documents\\Python\\Twitter\\files\\pro_scientific_accounts.txt', 'r') as f:\n",
    "    pro_accounts = f.read().split(',')"
   ]
  },
  {
   "cell_type": "code",
   "execution_count": null,
   "id": "5cc3bd57",
   "metadata": {},
   "outputs": [],
   "source": [
    "with open(r'C:\\Users\\psrub\\Documents\\Python\\Twitter\\files\\neutral_accounts.txt', 'r') as f:\n",
    "    neutral_accounts = f.read().split(',')"
   ]
  },
  {
   "cell_type": "code",
   "execution_count": null,
   "id": "01bb265e",
   "metadata": {},
   "outputs": [],
   "source": [
    "get_tweets_for_all_accounts(anti_accounts)"
   ]
  },
  {
   "cell_type": "code",
   "execution_count": null,
   "id": "3a437148",
   "metadata": {},
   "outputs": [],
   "source": [
    "get_tweets_for_all_accounts(pro_accounts)"
   ]
  },
  {
   "cell_type": "code",
   "execution_count": null,
   "id": "6d20d9f3",
   "metadata": {},
   "outputs": [],
   "source": [
    "neutral_accounts_dir = r'E:\\Twitter_data\\BASE_HUBS\\neutral_data_2'\n",
    "get_tweets_for_all_accounts(neutral_accounts_dir, neutral_accounts)"
   ]
  },
  {
   "cell_type": "code",
   "execution_count": null,
   "id": "4b6b02e8",
   "metadata": {},
   "outputs": [],
   "source": []
  },
  {
   "cell_type": "code",
   "execution_count": null,
   "id": "72f67809",
   "metadata": {},
   "outputs": [],
   "source": [
    "with open(r'C:\\Users\\psrub\\Documents\\Python\\Twitter\\files\\hand_picked_new_anti_hubs.txt', 'r') as f:\n",
    "    new_hand_picked_anti_hubs = f.read().split(',')\n",
    "    \n",
    "with open(r'C:\\Users\\psrub\\Documents\\Python\\Twitter\\files\\hand_picked_new_pro_hubs.txt', 'r') as f:\n",
    "    new_hand_picked_pro_hubs = f.read().split(',')"
   ]
  },
  {
   "cell_type": "code",
   "execution_count": null,
   "id": "7f15f64c",
   "metadata": {},
   "outputs": [],
   "source": [
    "anti_save_dir = r'C:\\Users\\psrub\\Documents\\Python\\Twitter\\hand_picked_new_anti_hubs'\n",
    "pro_save_dir = r'C:\\Users\\psrub\\Documents\\Python\\Twitter\\hand_picked_new_pro_hubs'"
   ]
  },
  {
   "cell_type": "code",
   "execution_count": null,
   "id": "35851da5",
   "metadata": {},
   "outputs": [],
   "source": [
    "get_tweets_for_all_accounts(anti_save_dir, new_hand_picked_anti_hubs)"
   ]
  },
  {
   "cell_type": "code",
   "execution_count": null,
   "id": "f74a5985",
   "metadata": {},
   "outputs": [],
   "source": [
    "get_tweets_for_all_accounts(pro_save_dir, new_hand_picked_pro_hubs)"
   ]
  },
  {
   "cell_type": "code",
   "execution_count": null,
   "id": "ff95d637",
   "metadata": {},
   "outputs": [],
   "source": []
  },
  {
   "cell_type": "code",
   "execution_count": null,
   "id": "cd0f937d",
   "metadata": {},
   "outputs": [],
   "source": []
  },
  {
   "cell_type": "code",
   "execution_count": null,
   "id": "96af7e84",
   "metadata": {},
   "outputs": [],
   "source": [
    "tmp = get_account_tweets('iLama_u')"
   ]
  },
  {
   "cell_type": "code",
   "execution_count": null,
   "id": "27b9aef4",
   "metadata": {},
   "outputs": [],
   "source": [
    "tmp"
   ]
  },
  {
   "cell_type": "code",
   "execution_count": null,
   "id": "e87f595f",
   "metadata": {},
   "outputs": [],
   "source": []
  }
 ],
 "metadata": {
  "kernelspec": {
   "display_name": "Python 3",
   "language": "python",
   "name": "python3"
  },
  "language_info": {
   "codemirror_mode": {
    "name": "ipython",
    "version": 3
   },
   "file_extension": ".py",
   "mimetype": "text/x-python",
   "name": "python",
   "nbconvert_exporter": "python",
   "pygments_lexer": "ipython3",
   "version": "3.8.8"
  }
 },
 "nbformat": 4,
 "nbformat_minor": 5
}
